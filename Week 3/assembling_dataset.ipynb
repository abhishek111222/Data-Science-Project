{
  "nbformat": 4,
  "nbformat_minor": 0,
  "metadata": {
    "colab": {
      "name": "assembling_dataset.ipynb",
      "provenance": []
    },
    "kernelspec": {
      "name": "python3",
      "display_name": "Python 3"
    },
    "language_info": {
      "name": "python"
    }
  },
  "cells": [
    {
      "cell_type": "code",
      "metadata": {
        "colab": {
          "base_uri": "https://localhost:8080/"
        },
        "id": "UkuHZ01hlvhy",
        "outputId": "8222714d-779f-40a8-e9cf-d14ac75a70d8"
      },
      "source": [
        "from google.colab import drive\n",
        "drive.mount('/content/gdrive')"
      ],
      "execution_count": 1,
      "outputs": [
        {
          "output_type": "stream",
          "text": [
            "Drive already mounted at /content/gdrive; to attempt to forcibly remount, call drive.mount(\"/content/gdrive\", force_remount=True).\n"
          ],
          "name": "stdout"
        }
      ]
    },
    {
      "cell_type": "code",
      "metadata": {
        "colab": {
          "base_uri": "https://localhost:8080/"
        },
        "id": "4Gg6NyPOl5Kk",
        "outputId": "a6f126fe-3432-47c8-e596-4da08c6c0307"
      },
      "source": [
        "#!pip install --upgrade plotly\n",
        "#!pip install pmdarima\n",
        "print(\"Done\")"
      ],
      "execution_count": 2,
      "outputs": [
        {
          "output_type": "stream",
          "text": [
            "Done\n"
          ],
          "name": "stdout"
        }
      ]
    },
    {
      "cell_type": "code",
      "metadata": {
        "id": "kYWdIhEal6ft"
      },
      "source": [
        "import pandas as pd\n",
        "import numpy as np\n",
        "import plotly.express as px\n",
        "import plotly.graph_objects as go\n",
        "import matplotlib.pyplot as plt\n",
        "from pandas.plotting import lag_plot, autocorrelation_plot\n",
        "from statsmodels.graphics.tsaplots import plot_acf\n",
        "from statsmodels.tsa.stattools import adfuller\n",
        "from sklearn.metrics import mean_squared_error\n",
        "from sklearn.preprocessing import StandardScaler\n",
        "from math import sqrt\n",
        "import itertools\n",
        "\n",
        "from statsmodels.tsa.arima_model import ARIMA\n",
        "from statsmodels.tsa.ar_model import AR\n",
        "from pmdarima import auto_arima\n",
        "\n",
        "import warnings\n",
        "warnings.filterwarnings(\"ignore\")\n"
      ],
      "execution_count": 3,
      "outputs": []
    },
    {
      "cell_type": "code",
      "metadata": {
        "id": "2TwXEeVC5RM-"
      },
      "source": [
        "from sklearn.preprocessing import OneHotEncoder\n",
        "from sklearn.preprocessing import LabelEncoder\n",
        "\n",
        "from sklearn.ensemble import RandomForestRegressor\n",
        "\n",
        "SEED = 42"
      ],
      "execution_count": 4,
      "outputs": []
    },
    {
      "cell_type": "code",
      "metadata": {
        "id": "ueSHFUgWmL_6"
      },
      "source": [
        "df = pd.read_csv(\"/content/gdrive/MyDrive/owid-covid-data.csv\")"
      ],
      "execution_count": 5,
      "outputs": []
    },
    {
      "cell_type": "code",
      "metadata": {
        "colab": {
          "base_uri": "https://localhost:8080/"
        },
        "id": "rKmJEfPemNZK",
        "outputId": "4c99c5d3-fc42-4a30-88f3-566a3e4d2529"
      },
      "source": [
        "df.columns"
      ],
      "execution_count": 6,
      "outputs": [
        {
          "output_type": "execute_result",
          "data": {
            "text/plain": [
              "Index(['iso_code', 'continent', 'location', 'date', 'total_cases', 'new_cases',\n",
              "       'new_cases_smoothed', 'total_deaths', 'new_deaths',\n",
              "       'new_deaths_smoothed', 'total_cases_per_million',\n",
              "       'new_cases_per_million', 'new_cases_smoothed_per_million',\n",
              "       'total_deaths_per_million', 'new_deaths_per_million',\n",
              "       'new_deaths_smoothed_per_million', 'reproduction_rate', 'icu_patients',\n",
              "       'icu_patients_per_million', 'hosp_patients',\n",
              "       'hosp_patients_per_million', 'weekly_icu_admissions',\n",
              "       'weekly_icu_admissions_per_million', 'weekly_hosp_admissions',\n",
              "       'weekly_hosp_admissions_per_million', 'new_tests', 'total_tests',\n",
              "       'total_tests_per_thousand', 'new_tests_per_thousand',\n",
              "       'new_tests_smoothed', 'new_tests_smoothed_per_thousand',\n",
              "       'positive_rate', 'tests_per_case', 'tests_units', 'total_vaccinations',\n",
              "       'people_vaccinated', 'people_fully_vaccinated', 'new_vaccinations',\n",
              "       'new_vaccinations_smoothed', 'total_vaccinations_per_hundred',\n",
              "       'people_vaccinated_per_hundred', 'people_fully_vaccinated_per_hundred',\n",
              "       'new_vaccinations_smoothed_per_million', 'stringency_index',\n",
              "       'population', 'population_density', 'median_age', 'aged_65_older',\n",
              "       'aged_70_older', 'gdp_per_capita', 'extreme_poverty',\n",
              "       'cardiovasc_death_rate', 'diabetes_prevalence', 'female_smokers',\n",
              "       'male_smokers', 'handwashing_facilities', 'hospital_beds_per_thousand',\n",
              "       'life_expectancy', 'human_development_index', 'excess_mortality'],\n",
              "      dtype='object')"
            ]
          },
          "metadata": {
            "tags": []
          },
          "execution_count": 6
        }
      ]
    },
    {
      "cell_type": "code",
      "metadata": {
        "id": "POCLMakkmRdC"
      },
      "source": [
        "dataset_India = df[df[\"location\"] == \"India\"]          \n",
        "dataset_USA = df[df[\"location\"] == \"United States\"]    \n",
        "dataset_UK = df[df[\"location\"] == \"United Kingdom\"]    \n",
        "dataset_Canada = df[df[\"location\"] == \"Canada\"]        \n",
        "dataset_Italy = df[df[\"location\"] == \"Italy\"]   "
      ],
      "execution_count": 7,
      "outputs": []
    },
    {
      "cell_type": "code",
      "metadata": {
        "colab": {
          "base_uri": "https://localhost:8080/",
          "height": 299
        },
        "id": "oaLnKCsVnBlW",
        "outputId": "914b2d15-1c39-4cd1-fc1b-3ce2081b2aef"
      },
      "source": [
        "dataset_India.head()"
      ],
      "execution_count": 8,
      "outputs": [
        {
          "output_type": "execute_result",
          "data": {
            "text/html": [
              "<div>\n",
              "<style scoped>\n",
              "    .dataframe tbody tr th:only-of-type {\n",
              "        vertical-align: middle;\n",
              "    }\n",
              "\n",
              "    .dataframe tbody tr th {\n",
              "        vertical-align: top;\n",
              "    }\n",
              "\n",
              "    .dataframe thead th {\n",
              "        text-align: right;\n",
              "    }\n",
              "</style>\n",
              "<table border=\"1\" class=\"dataframe\">\n",
              "  <thead>\n",
              "    <tr style=\"text-align: right;\">\n",
              "      <th></th>\n",
              "      <th>iso_code</th>\n",
              "      <th>continent</th>\n",
              "      <th>location</th>\n",
              "      <th>date</th>\n",
              "      <th>total_cases</th>\n",
              "      <th>new_cases</th>\n",
              "      <th>new_cases_smoothed</th>\n",
              "      <th>total_deaths</th>\n",
              "      <th>new_deaths</th>\n",
              "      <th>new_deaths_smoothed</th>\n",
              "      <th>total_cases_per_million</th>\n",
              "      <th>new_cases_per_million</th>\n",
              "      <th>new_cases_smoothed_per_million</th>\n",
              "      <th>total_deaths_per_million</th>\n",
              "      <th>new_deaths_per_million</th>\n",
              "      <th>new_deaths_smoothed_per_million</th>\n",
              "      <th>reproduction_rate</th>\n",
              "      <th>icu_patients</th>\n",
              "      <th>icu_patients_per_million</th>\n",
              "      <th>hosp_patients</th>\n",
              "      <th>hosp_patients_per_million</th>\n",
              "      <th>weekly_icu_admissions</th>\n",
              "      <th>weekly_icu_admissions_per_million</th>\n",
              "      <th>weekly_hosp_admissions</th>\n",
              "      <th>weekly_hosp_admissions_per_million</th>\n",
              "      <th>new_tests</th>\n",
              "      <th>total_tests</th>\n",
              "      <th>total_tests_per_thousand</th>\n",
              "      <th>new_tests_per_thousand</th>\n",
              "      <th>new_tests_smoothed</th>\n",
              "      <th>new_tests_smoothed_per_thousand</th>\n",
              "      <th>positive_rate</th>\n",
              "      <th>tests_per_case</th>\n",
              "      <th>tests_units</th>\n",
              "      <th>total_vaccinations</th>\n",
              "      <th>people_vaccinated</th>\n",
              "      <th>people_fully_vaccinated</th>\n",
              "      <th>new_vaccinations</th>\n",
              "      <th>new_vaccinations_smoothed</th>\n",
              "      <th>total_vaccinations_per_hundred</th>\n",
              "      <th>people_vaccinated_per_hundred</th>\n",
              "      <th>people_fully_vaccinated_per_hundred</th>\n",
              "      <th>new_vaccinations_smoothed_per_million</th>\n",
              "      <th>stringency_index</th>\n",
              "      <th>population</th>\n",
              "      <th>population_density</th>\n",
              "      <th>median_age</th>\n",
              "      <th>aged_65_older</th>\n",
              "      <th>aged_70_older</th>\n",
              "      <th>gdp_per_capita</th>\n",
              "      <th>extreme_poverty</th>\n",
              "      <th>cardiovasc_death_rate</th>\n",
              "      <th>diabetes_prevalence</th>\n",
              "      <th>female_smokers</th>\n",
              "      <th>male_smokers</th>\n",
              "      <th>handwashing_facilities</th>\n",
              "      <th>hospital_beds_per_thousand</th>\n",
              "      <th>life_expectancy</th>\n",
              "      <th>human_development_index</th>\n",
              "      <th>excess_mortality</th>\n",
              "    </tr>\n",
              "  </thead>\n",
              "  <tbody>\n",
              "    <tr>\n",
              "      <th>39476</th>\n",
              "      <td>IND</td>\n",
              "      <td>Asia</td>\n",
              "      <td>India</td>\n",
              "      <td>2020-01-30</td>\n",
              "      <td>1.0</td>\n",
              "      <td>1.0</td>\n",
              "      <td>NaN</td>\n",
              "      <td>NaN</td>\n",
              "      <td>NaN</td>\n",
              "      <td>NaN</td>\n",
              "      <td>0.001</td>\n",
              "      <td>0.001</td>\n",
              "      <td>NaN</td>\n",
              "      <td>NaN</td>\n",
              "      <td>NaN</td>\n",
              "      <td>NaN</td>\n",
              "      <td>NaN</td>\n",
              "      <td>NaN</td>\n",
              "      <td>NaN</td>\n",
              "      <td>NaN</td>\n",
              "      <td>NaN</td>\n",
              "      <td>NaN</td>\n",
              "      <td>NaN</td>\n",
              "      <td>NaN</td>\n",
              "      <td>NaN</td>\n",
              "      <td>NaN</td>\n",
              "      <td>NaN</td>\n",
              "      <td>NaN</td>\n",
              "      <td>NaN</td>\n",
              "      <td>NaN</td>\n",
              "      <td>NaN</td>\n",
              "      <td>NaN</td>\n",
              "      <td>NaN</td>\n",
              "      <td>NaN</td>\n",
              "      <td>NaN</td>\n",
              "      <td>NaN</td>\n",
              "      <td>NaN</td>\n",
              "      <td>NaN</td>\n",
              "      <td>NaN</td>\n",
              "      <td>NaN</td>\n",
              "      <td>NaN</td>\n",
              "      <td>NaN</td>\n",
              "      <td>NaN</td>\n",
              "      <td>10.19</td>\n",
              "      <td>1.380004e+09</td>\n",
              "      <td>450.419</td>\n",
              "      <td>28.2</td>\n",
              "      <td>5.989</td>\n",
              "      <td>3.414</td>\n",
              "      <td>6426.674</td>\n",
              "      <td>21.2</td>\n",
              "      <td>282.28</td>\n",
              "      <td>10.39</td>\n",
              "      <td>1.9</td>\n",
              "      <td>20.6</td>\n",
              "      <td>59.55</td>\n",
              "      <td>0.53</td>\n",
              "      <td>69.66</td>\n",
              "      <td>0.645</td>\n",
              "      <td>NaN</td>\n",
              "    </tr>\n",
              "    <tr>\n",
              "      <th>39477</th>\n",
              "      <td>IND</td>\n",
              "      <td>Asia</td>\n",
              "      <td>India</td>\n",
              "      <td>2020-01-31</td>\n",
              "      <td>1.0</td>\n",
              "      <td>0.0</td>\n",
              "      <td>NaN</td>\n",
              "      <td>NaN</td>\n",
              "      <td>NaN</td>\n",
              "      <td>NaN</td>\n",
              "      <td>0.001</td>\n",
              "      <td>0.000</td>\n",
              "      <td>NaN</td>\n",
              "      <td>NaN</td>\n",
              "      <td>NaN</td>\n",
              "      <td>NaN</td>\n",
              "      <td>NaN</td>\n",
              "      <td>NaN</td>\n",
              "      <td>NaN</td>\n",
              "      <td>NaN</td>\n",
              "      <td>NaN</td>\n",
              "      <td>NaN</td>\n",
              "      <td>NaN</td>\n",
              "      <td>NaN</td>\n",
              "      <td>NaN</td>\n",
              "      <td>NaN</td>\n",
              "      <td>NaN</td>\n",
              "      <td>NaN</td>\n",
              "      <td>NaN</td>\n",
              "      <td>NaN</td>\n",
              "      <td>NaN</td>\n",
              "      <td>NaN</td>\n",
              "      <td>NaN</td>\n",
              "      <td>NaN</td>\n",
              "      <td>NaN</td>\n",
              "      <td>NaN</td>\n",
              "      <td>NaN</td>\n",
              "      <td>NaN</td>\n",
              "      <td>NaN</td>\n",
              "      <td>NaN</td>\n",
              "      <td>NaN</td>\n",
              "      <td>NaN</td>\n",
              "      <td>NaN</td>\n",
              "      <td>10.19</td>\n",
              "      <td>1.380004e+09</td>\n",
              "      <td>450.419</td>\n",
              "      <td>28.2</td>\n",
              "      <td>5.989</td>\n",
              "      <td>3.414</td>\n",
              "      <td>6426.674</td>\n",
              "      <td>21.2</td>\n",
              "      <td>282.28</td>\n",
              "      <td>10.39</td>\n",
              "      <td>1.9</td>\n",
              "      <td>20.6</td>\n",
              "      <td>59.55</td>\n",
              "      <td>0.53</td>\n",
              "      <td>69.66</td>\n",
              "      <td>0.645</td>\n",
              "      <td>NaN</td>\n",
              "    </tr>\n",
              "    <tr>\n",
              "      <th>39478</th>\n",
              "      <td>IND</td>\n",
              "      <td>Asia</td>\n",
              "      <td>India</td>\n",
              "      <td>2020-02-01</td>\n",
              "      <td>1.0</td>\n",
              "      <td>0.0</td>\n",
              "      <td>NaN</td>\n",
              "      <td>NaN</td>\n",
              "      <td>NaN</td>\n",
              "      <td>NaN</td>\n",
              "      <td>0.001</td>\n",
              "      <td>0.000</td>\n",
              "      <td>NaN</td>\n",
              "      <td>NaN</td>\n",
              "      <td>NaN</td>\n",
              "      <td>NaN</td>\n",
              "      <td>NaN</td>\n",
              "      <td>NaN</td>\n",
              "      <td>NaN</td>\n",
              "      <td>NaN</td>\n",
              "      <td>NaN</td>\n",
              "      <td>NaN</td>\n",
              "      <td>NaN</td>\n",
              "      <td>NaN</td>\n",
              "      <td>NaN</td>\n",
              "      <td>NaN</td>\n",
              "      <td>NaN</td>\n",
              "      <td>NaN</td>\n",
              "      <td>NaN</td>\n",
              "      <td>NaN</td>\n",
              "      <td>NaN</td>\n",
              "      <td>NaN</td>\n",
              "      <td>NaN</td>\n",
              "      <td>NaN</td>\n",
              "      <td>NaN</td>\n",
              "      <td>NaN</td>\n",
              "      <td>NaN</td>\n",
              "      <td>NaN</td>\n",
              "      <td>NaN</td>\n",
              "      <td>NaN</td>\n",
              "      <td>NaN</td>\n",
              "      <td>NaN</td>\n",
              "      <td>NaN</td>\n",
              "      <td>10.19</td>\n",
              "      <td>1.380004e+09</td>\n",
              "      <td>450.419</td>\n",
              "      <td>28.2</td>\n",
              "      <td>5.989</td>\n",
              "      <td>3.414</td>\n",
              "      <td>6426.674</td>\n",
              "      <td>21.2</td>\n",
              "      <td>282.28</td>\n",
              "      <td>10.39</td>\n",
              "      <td>1.9</td>\n",
              "      <td>20.6</td>\n",
              "      <td>59.55</td>\n",
              "      <td>0.53</td>\n",
              "      <td>69.66</td>\n",
              "      <td>0.645</td>\n",
              "      <td>NaN</td>\n",
              "    </tr>\n",
              "    <tr>\n",
              "      <th>39479</th>\n",
              "      <td>IND</td>\n",
              "      <td>Asia</td>\n",
              "      <td>India</td>\n",
              "      <td>2020-02-02</td>\n",
              "      <td>2.0</td>\n",
              "      <td>1.0</td>\n",
              "      <td>NaN</td>\n",
              "      <td>NaN</td>\n",
              "      <td>NaN</td>\n",
              "      <td>NaN</td>\n",
              "      <td>0.001</td>\n",
              "      <td>0.001</td>\n",
              "      <td>NaN</td>\n",
              "      <td>NaN</td>\n",
              "      <td>NaN</td>\n",
              "      <td>NaN</td>\n",
              "      <td>NaN</td>\n",
              "      <td>NaN</td>\n",
              "      <td>NaN</td>\n",
              "      <td>NaN</td>\n",
              "      <td>NaN</td>\n",
              "      <td>NaN</td>\n",
              "      <td>NaN</td>\n",
              "      <td>NaN</td>\n",
              "      <td>NaN</td>\n",
              "      <td>NaN</td>\n",
              "      <td>NaN</td>\n",
              "      <td>NaN</td>\n",
              "      <td>NaN</td>\n",
              "      <td>NaN</td>\n",
              "      <td>NaN</td>\n",
              "      <td>NaN</td>\n",
              "      <td>NaN</td>\n",
              "      <td>NaN</td>\n",
              "      <td>NaN</td>\n",
              "      <td>NaN</td>\n",
              "      <td>NaN</td>\n",
              "      <td>NaN</td>\n",
              "      <td>NaN</td>\n",
              "      <td>NaN</td>\n",
              "      <td>NaN</td>\n",
              "      <td>NaN</td>\n",
              "      <td>NaN</td>\n",
              "      <td>10.19</td>\n",
              "      <td>1.380004e+09</td>\n",
              "      <td>450.419</td>\n",
              "      <td>28.2</td>\n",
              "      <td>5.989</td>\n",
              "      <td>3.414</td>\n",
              "      <td>6426.674</td>\n",
              "      <td>21.2</td>\n",
              "      <td>282.28</td>\n",
              "      <td>10.39</td>\n",
              "      <td>1.9</td>\n",
              "      <td>20.6</td>\n",
              "      <td>59.55</td>\n",
              "      <td>0.53</td>\n",
              "      <td>69.66</td>\n",
              "      <td>0.645</td>\n",
              "      <td>NaN</td>\n",
              "    </tr>\n",
              "    <tr>\n",
              "      <th>39480</th>\n",
              "      <td>IND</td>\n",
              "      <td>Asia</td>\n",
              "      <td>India</td>\n",
              "      <td>2020-02-03</td>\n",
              "      <td>3.0</td>\n",
              "      <td>1.0</td>\n",
              "      <td>NaN</td>\n",
              "      <td>NaN</td>\n",
              "      <td>NaN</td>\n",
              "      <td>NaN</td>\n",
              "      <td>0.002</td>\n",
              "      <td>0.001</td>\n",
              "      <td>NaN</td>\n",
              "      <td>NaN</td>\n",
              "      <td>NaN</td>\n",
              "      <td>NaN</td>\n",
              "      <td>NaN</td>\n",
              "      <td>NaN</td>\n",
              "      <td>NaN</td>\n",
              "      <td>NaN</td>\n",
              "      <td>NaN</td>\n",
              "      <td>NaN</td>\n",
              "      <td>NaN</td>\n",
              "      <td>NaN</td>\n",
              "      <td>NaN</td>\n",
              "      <td>NaN</td>\n",
              "      <td>NaN</td>\n",
              "      <td>NaN</td>\n",
              "      <td>NaN</td>\n",
              "      <td>NaN</td>\n",
              "      <td>NaN</td>\n",
              "      <td>NaN</td>\n",
              "      <td>NaN</td>\n",
              "      <td>NaN</td>\n",
              "      <td>NaN</td>\n",
              "      <td>NaN</td>\n",
              "      <td>NaN</td>\n",
              "      <td>NaN</td>\n",
              "      <td>NaN</td>\n",
              "      <td>NaN</td>\n",
              "      <td>NaN</td>\n",
              "      <td>NaN</td>\n",
              "      <td>NaN</td>\n",
              "      <td>10.19</td>\n",
              "      <td>1.380004e+09</td>\n",
              "      <td>450.419</td>\n",
              "      <td>28.2</td>\n",
              "      <td>5.989</td>\n",
              "      <td>3.414</td>\n",
              "      <td>6426.674</td>\n",
              "      <td>21.2</td>\n",
              "      <td>282.28</td>\n",
              "      <td>10.39</td>\n",
              "      <td>1.9</td>\n",
              "      <td>20.6</td>\n",
              "      <td>59.55</td>\n",
              "      <td>0.53</td>\n",
              "      <td>69.66</td>\n",
              "      <td>0.645</td>\n",
              "      <td>NaN</td>\n",
              "    </tr>\n",
              "  </tbody>\n",
              "</table>\n",
              "</div>"
            ],
            "text/plain": [
              "      iso_code continent  ... human_development_index excess_mortality\n",
              "39476      IND      Asia  ...                   0.645              NaN\n",
              "39477      IND      Asia  ...                   0.645              NaN\n",
              "39478      IND      Asia  ...                   0.645              NaN\n",
              "39479      IND      Asia  ...                   0.645              NaN\n",
              "39480      IND      Asia  ...                   0.645              NaN\n",
              "\n",
              "[5 rows x 60 columns]"
            ]
          },
          "metadata": {
            "tags": []
          },
          "execution_count": 8
        }
      ]
    },
    {
      "cell_type": "code",
      "metadata": {
        "id": "clKHeVESpFWq"
      },
      "source": [
        "dataset_UK = dataset_UK[dataset_UK[\"date\"] >= \"2020-05-01\"]\n",
        "dataset_India = dataset_India[dataset_India[\"date\"] >= \"2020-05-01\"]\n",
        "dataset_Canada = dataset_Canada[dataset_Canada[\"date\"] >= \"2020-05-01\"]\n",
        "dataset_USA = dataset_USA[dataset_USA[\"date\"] >= \"2020-05-01\"]\n",
        "dataset_Italy = dataset_Italy[dataset_Italy[\"date\"] >= \"2020-05-01\"]"
      ],
      "execution_count": 9,
      "outputs": []
    },
    {
      "cell_type": "code",
      "metadata": {
        "colab": {
          "base_uri": "https://localhost:8080/"
        },
        "id": "qHCSmkH_qnID",
        "outputId": "2022abb3-10ac-4063-973c-d89f6cf02dde"
      },
      "source": [
        "dataset_UK[\"date\"].head()"
      ],
      "execution_count": 10,
      "outputs": [
        {
          "output_type": "execute_result",
          "data": {
            "text/plain": [
              "90078    2020-05-01\n",
              "90079    2020-05-02\n",
              "90080    2020-05-03\n",
              "90081    2020-05-04\n",
              "90082    2020-05-05\n",
              "Name: date, dtype: object"
            ]
          },
          "metadata": {
            "tags": []
          },
          "execution_count": 10
        }
      ]
    },
    {
      "cell_type": "code",
      "metadata": {
        "colab": {
          "base_uri": "https://localhost:8080/"
        },
        "id": "gg5Srjg4qnLX",
        "outputId": "529cca96-cbe2-49e7-eb38-88e8f1a98b3e"
      },
      "source": [
        "dataset_UK[\"date\"].tail()"
      ],
      "execution_count": 11,
      "outputs": [
        {
          "output_type": "execute_result",
          "data": {
            "text/plain": [
              "90482    2021-06-09\n",
              "90483    2021-06-10\n",
              "90484    2021-06-11\n",
              "90485    2021-06-12\n",
              "90486    2021-06-13\n",
              "Name: date, dtype: object"
            ]
          },
          "metadata": {
            "tags": []
          },
          "execution_count": 11
        }
      ]
    },
    {
      "cell_type": "code",
      "metadata": {
        "colab": {
          "base_uri": "https://localhost:8080/"
        },
        "id": "1hiLOVxxqnPP",
        "outputId": "4eb41ae7-a226-4ce5-e2c1-f2d9aafa9a22"
      },
      "source": [
        "len(dataset_UK)"
      ],
      "execution_count": 12,
      "outputs": [
        {
          "output_type": "execute_result",
          "data": {
            "text/plain": [
              "409"
            ]
          },
          "metadata": {
            "tags": []
          },
          "execution_count": 12
        }
      ]
    },
    {
      "cell_type": "code",
      "metadata": {
        "colab": {
          "base_uri": "https://localhost:8080/",
          "height": 299
        },
        "id": "EaXrI7zIqvlk",
        "outputId": "ae83c670-6319-4f54-ae74-a383cd363ad4"
      },
      "source": [
        "df.head()"
      ],
      "execution_count": 13,
      "outputs": [
        {
          "output_type": "execute_result",
          "data": {
            "text/html": [
              "<div>\n",
              "<style scoped>\n",
              "    .dataframe tbody tr th:only-of-type {\n",
              "        vertical-align: middle;\n",
              "    }\n",
              "\n",
              "    .dataframe tbody tr th {\n",
              "        vertical-align: top;\n",
              "    }\n",
              "\n",
              "    .dataframe thead th {\n",
              "        text-align: right;\n",
              "    }\n",
              "</style>\n",
              "<table border=\"1\" class=\"dataframe\">\n",
              "  <thead>\n",
              "    <tr style=\"text-align: right;\">\n",
              "      <th></th>\n",
              "      <th>iso_code</th>\n",
              "      <th>continent</th>\n",
              "      <th>location</th>\n",
              "      <th>date</th>\n",
              "      <th>total_cases</th>\n",
              "      <th>new_cases</th>\n",
              "      <th>new_cases_smoothed</th>\n",
              "      <th>total_deaths</th>\n",
              "      <th>new_deaths</th>\n",
              "      <th>new_deaths_smoothed</th>\n",
              "      <th>total_cases_per_million</th>\n",
              "      <th>new_cases_per_million</th>\n",
              "      <th>new_cases_smoothed_per_million</th>\n",
              "      <th>total_deaths_per_million</th>\n",
              "      <th>new_deaths_per_million</th>\n",
              "      <th>new_deaths_smoothed_per_million</th>\n",
              "      <th>reproduction_rate</th>\n",
              "      <th>icu_patients</th>\n",
              "      <th>icu_patients_per_million</th>\n",
              "      <th>hosp_patients</th>\n",
              "      <th>hosp_patients_per_million</th>\n",
              "      <th>weekly_icu_admissions</th>\n",
              "      <th>weekly_icu_admissions_per_million</th>\n",
              "      <th>weekly_hosp_admissions</th>\n",
              "      <th>weekly_hosp_admissions_per_million</th>\n",
              "      <th>new_tests</th>\n",
              "      <th>total_tests</th>\n",
              "      <th>total_tests_per_thousand</th>\n",
              "      <th>new_tests_per_thousand</th>\n",
              "      <th>new_tests_smoothed</th>\n",
              "      <th>new_tests_smoothed_per_thousand</th>\n",
              "      <th>positive_rate</th>\n",
              "      <th>tests_per_case</th>\n",
              "      <th>tests_units</th>\n",
              "      <th>total_vaccinations</th>\n",
              "      <th>people_vaccinated</th>\n",
              "      <th>people_fully_vaccinated</th>\n",
              "      <th>new_vaccinations</th>\n",
              "      <th>new_vaccinations_smoothed</th>\n",
              "      <th>total_vaccinations_per_hundred</th>\n",
              "      <th>people_vaccinated_per_hundred</th>\n",
              "      <th>people_fully_vaccinated_per_hundred</th>\n",
              "      <th>new_vaccinations_smoothed_per_million</th>\n",
              "      <th>stringency_index</th>\n",
              "      <th>population</th>\n",
              "      <th>population_density</th>\n",
              "      <th>median_age</th>\n",
              "      <th>aged_65_older</th>\n",
              "      <th>aged_70_older</th>\n",
              "      <th>gdp_per_capita</th>\n",
              "      <th>extreme_poverty</th>\n",
              "      <th>cardiovasc_death_rate</th>\n",
              "      <th>diabetes_prevalence</th>\n",
              "      <th>female_smokers</th>\n",
              "      <th>male_smokers</th>\n",
              "      <th>handwashing_facilities</th>\n",
              "      <th>hospital_beds_per_thousand</th>\n",
              "      <th>life_expectancy</th>\n",
              "      <th>human_development_index</th>\n",
              "      <th>excess_mortality</th>\n",
              "    </tr>\n",
              "  </thead>\n",
              "  <tbody>\n",
              "    <tr>\n",
              "      <th>0</th>\n",
              "      <td>AFG</td>\n",
              "      <td>Asia</td>\n",
              "      <td>Afghanistan</td>\n",
              "      <td>2020-02-24</td>\n",
              "      <td>1.0</td>\n",
              "      <td>1.0</td>\n",
              "      <td>NaN</td>\n",
              "      <td>NaN</td>\n",
              "      <td>NaN</td>\n",
              "      <td>NaN</td>\n",
              "      <td>0.026</td>\n",
              "      <td>0.026</td>\n",
              "      <td>NaN</td>\n",
              "      <td>NaN</td>\n",
              "      <td>NaN</td>\n",
              "      <td>NaN</td>\n",
              "      <td>NaN</td>\n",
              "      <td>NaN</td>\n",
              "      <td>NaN</td>\n",
              "      <td>NaN</td>\n",
              "      <td>NaN</td>\n",
              "      <td>NaN</td>\n",
              "      <td>NaN</td>\n",
              "      <td>NaN</td>\n",
              "      <td>NaN</td>\n",
              "      <td>NaN</td>\n",
              "      <td>NaN</td>\n",
              "      <td>NaN</td>\n",
              "      <td>NaN</td>\n",
              "      <td>NaN</td>\n",
              "      <td>NaN</td>\n",
              "      <td>NaN</td>\n",
              "      <td>NaN</td>\n",
              "      <td>NaN</td>\n",
              "      <td>NaN</td>\n",
              "      <td>NaN</td>\n",
              "      <td>NaN</td>\n",
              "      <td>NaN</td>\n",
              "      <td>NaN</td>\n",
              "      <td>NaN</td>\n",
              "      <td>NaN</td>\n",
              "      <td>NaN</td>\n",
              "      <td>NaN</td>\n",
              "      <td>8.33</td>\n",
              "      <td>38928341.0</td>\n",
              "      <td>54.422</td>\n",
              "      <td>18.6</td>\n",
              "      <td>2.581</td>\n",
              "      <td>1.337</td>\n",
              "      <td>1803.987</td>\n",
              "      <td>NaN</td>\n",
              "      <td>597.029</td>\n",
              "      <td>9.59</td>\n",
              "      <td>NaN</td>\n",
              "      <td>NaN</td>\n",
              "      <td>37.746</td>\n",
              "      <td>0.5</td>\n",
              "      <td>64.83</td>\n",
              "      <td>0.511</td>\n",
              "      <td>NaN</td>\n",
              "    </tr>\n",
              "    <tr>\n",
              "      <th>1</th>\n",
              "      <td>AFG</td>\n",
              "      <td>Asia</td>\n",
              "      <td>Afghanistan</td>\n",
              "      <td>2020-02-25</td>\n",
              "      <td>1.0</td>\n",
              "      <td>0.0</td>\n",
              "      <td>NaN</td>\n",
              "      <td>NaN</td>\n",
              "      <td>NaN</td>\n",
              "      <td>NaN</td>\n",
              "      <td>0.026</td>\n",
              "      <td>0.000</td>\n",
              "      <td>NaN</td>\n",
              "      <td>NaN</td>\n",
              "      <td>NaN</td>\n",
              "      <td>NaN</td>\n",
              "      <td>NaN</td>\n",
              "      <td>NaN</td>\n",
              "      <td>NaN</td>\n",
              "      <td>NaN</td>\n",
              "      <td>NaN</td>\n",
              "      <td>NaN</td>\n",
              "      <td>NaN</td>\n",
              "      <td>NaN</td>\n",
              "      <td>NaN</td>\n",
              "      <td>NaN</td>\n",
              "      <td>NaN</td>\n",
              "      <td>NaN</td>\n",
              "      <td>NaN</td>\n",
              "      <td>NaN</td>\n",
              "      <td>NaN</td>\n",
              "      <td>NaN</td>\n",
              "      <td>NaN</td>\n",
              "      <td>NaN</td>\n",
              "      <td>NaN</td>\n",
              "      <td>NaN</td>\n",
              "      <td>NaN</td>\n",
              "      <td>NaN</td>\n",
              "      <td>NaN</td>\n",
              "      <td>NaN</td>\n",
              "      <td>NaN</td>\n",
              "      <td>NaN</td>\n",
              "      <td>NaN</td>\n",
              "      <td>8.33</td>\n",
              "      <td>38928341.0</td>\n",
              "      <td>54.422</td>\n",
              "      <td>18.6</td>\n",
              "      <td>2.581</td>\n",
              "      <td>1.337</td>\n",
              "      <td>1803.987</td>\n",
              "      <td>NaN</td>\n",
              "      <td>597.029</td>\n",
              "      <td>9.59</td>\n",
              "      <td>NaN</td>\n",
              "      <td>NaN</td>\n",
              "      <td>37.746</td>\n",
              "      <td>0.5</td>\n",
              "      <td>64.83</td>\n",
              "      <td>0.511</td>\n",
              "      <td>NaN</td>\n",
              "    </tr>\n",
              "    <tr>\n",
              "      <th>2</th>\n",
              "      <td>AFG</td>\n",
              "      <td>Asia</td>\n",
              "      <td>Afghanistan</td>\n",
              "      <td>2020-02-26</td>\n",
              "      <td>1.0</td>\n",
              "      <td>0.0</td>\n",
              "      <td>NaN</td>\n",
              "      <td>NaN</td>\n",
              "      <td>NaN</td>\n",
              "      <td>NaN</td>\n",
              "      <td>0.026</td>\n",
              "      <td>0.000</td>\n",
              "      <td>NaN</td>\n",
              "      <td>NaN</td>\n",
              "      <td>NaN</td>\n",
              "      <td>NaN</td>\n",
              "      <td>NaN</td>\n",
              "      <td>NaN</td>\n",
              "      <td>NaN</td>\n",
              "      <td>NaN</td>\n",
              "      <td>NaN</td>\n",
              "      <td>NaN</td>\n",
              "      <td>NaN</td>\n",
              "      <td>NaN</td>\n",
              "      <td>NaN</td>\n",
              "      <td>NaN</td>\n",
              "      <td>NaN</td>\n",
              "      <td>NaN</td>\n",
              "      <td>NaN</td>\n",
              "      <td>NaN</td>\n",
              "      <td>NaN</td>\n",
              "      <td>NaN</td>\n",
              "      <td>NaN</td>\n",
              "      <td>NaN</td>\n",
              "      <td>NaN</td>\n",
              "      <td>NaN</td>\n",
              "      <td>NaN</td>\n",
              "      <td>NaN</td>\n",
              "      <td>NaN</td>\n",
              "      <td>NaN</td>\n",
              "      <td>NaN</td>\n",
              "      <td>NaN</td>\n",
              "      <td>NaN</td>\n",
              "      <td>8.33</td>\n",
              "      <td>38928341.0</td>\n",
              "      <td>54.422</td>\n",
              "      <td>18.6</td>\n",
              "      <td>2.581</td>\n",
              "      <td>1.337</td>\n",
              "      <td>1803.987</td>\n",
              "      <td>NaN</td>\n",
              "      <td>597.029</td>\n",
              "      <td>9.59</td>\n",
              "      <td>NaN</td>\n",
              "      <td>NaN</td>\n",
              "      <td>37.746</td>\n",
              "      <td>0.5</td>\n",
              "      <td>64.83</td>\n",
              "      <td>0.511</td>\n",
              "      <td>NaN</td>\n",
              "    </tr>\n",
              "    <tr>\n",
              "      <th>3</th>\n",
              "      <td>AFG</td>\n",
              "      <td>Asia</td>\n",
              "      <td>Afghanistan</td>\n",
              "      <td>2020-02-27</td>\n",
              "      <td>1.0</td>\n",
              "      <td>0.0</td>\n",
              "      <td>NaN</td>\n",
              "      <td>NaN</td>\n",
              "      <td>NaN</td>\n",
              "      <td>NaN</td>\n",
              "      <td>0.026</td>\n",
              "      <td>0.000</td>\n",
              "      <td>NaN</td>\n",
              "      <td>NaN</td>\n",
              "      <td>NaN</td>\n",
              "      <td>NaN</td>\n",
              "      <td>NaN</td>\n",
              "      <td>NaN</td>\n",
              "      <td>NaN</td>\n",
              "      <td>NaN</td>\n",
              "      <td>NaN</td>\n",
              "      <td>NaN</td>\n",
              "      <td>NaN</td>\n",
              "      <td>NaN</td>\n",
              "      <td>NaN</td>\n",
              "      <td>NaN</td>\n",
              "      <td>NaN</td>\n",
              "      <td>NaN</td>\n",
              "      <td>NaN</td>\n",
              "      <td>NaN</td>\n",
              "      <td>NaN</td>\n",
              "      <td>NaN</td>\n",
              "      <td>NaN</td>\n",
              "      <td>NaN</td>\n",
              "      <td>NaN</td>\n",
              "      <td>NaN</td>\n",
              "      <td>NaN</td>\n",
              "      <td>NaN</td>\n",
              "      <td>NaN</td>\n",
              "      <td>NaN</td>\n",
              "      <td>NaN</td>\n",
              "      <td>NaN</td>\n",
              "      <td>NaN</td>\n",
              "      <td>8.33</td>\n",
              "      <td>38928341.0</td>\n",
              "      <td>54.422</td>\n",
              "      <td>18.6</td>\n",
              "      <td>2.581</td>\n",
              "      <td>1.337</td>\n",
              "      <td>1803.987</td>\n",
              "      <td>NaN</td>\n",
              "      <td>597.029</td>\n",
              "      <td>9.59</td>\n",
              "      <td>NaN</td>\n",
              "      <td>NaN</td>\n",
              "      <td>37.746</td>\n",
              "      <td>0.5</td>\n",
              "      <td>64.83</td>\n",
              "      <td>0.511</td>\n",
              "      <td>NaN</td>\n",
              "    </tr>\n",
              "    <tr>\n",
              "      <th>4</th>\n",
              "      <td>AFG</td>\n",
              "      <td>Asia</td>\n",
              "      <td>Afghanistan</td>\n",
              "      <td>2020-02-28</td>\n",
              "      <td>1.0</td>\n",
              "      <td>0.0</td>\n",
              "      <td>NaN</td>\n",
              "      <td>NaN</td>\n",
              "      <td>NaN</td>\n",
              "      <td>NaN</td>\n",
              "      <td>0.026</td>\n",
              "      <td>0.000</td>\n",
              "      <td>NaN</td>\n",
              "      <td>NaN</td>\n",
              "      <td>NaN</td>\n",
              "      <td>NaN</td>\n",
              "      <td>NaN</td>\n",
              "      <td>NaN</td>\n",
              "      <td>NaN</td>\n",
              "      <td>NaN</td>\n",
              "      <td>NaN</td>\n",
              "      <td>NaN</td>\n",
              "      <td>NaN</td>\n",
              "      <td>NaN</td>\n",
              "      <td>NaN</td>\n",
              "      <td>NaN</td>\n",
              "      <td>NaN</td>\n",
              "      <td>NaN</td>\n",
              "      <td>NaN</td>\n",
              "      <td>NaN</td>\n",
              "      <td>NaN</td>\n",
              "      <td>NaN</td>\n",
              "      <td>NaN</td>\n",
              "      <td>NaN</td>\n",
              "      <td>NaN</td>\n",
              "      <td>NaN</td>\n",
              "      <td>NaN</td>\n",
              "      <td>NaN</td>\n",
              "      <td>NaN</td>\n",
              "      <td>NaN</td>\n",
              "      <td>NaN</td>\n",
              "      <td>NaN</td>\n",
              "      <td>NaN</td>\n",
              "      <td>8.33</td>\n",
              "      <td>38928341.0</td>\n",
              "      <td>54.422</td>\n",
              "      <td>18.6</td>\n",
              "      <td>2.581</td>\n",
              "      <td>1.337</td>\n",
              "      <td>1803.987</td>\n",
              "      <td>NaN</td>\n",
              "      <td>597.029</td>\n",
              "      <td>9.59</td>\n",
              "      <td>NaN</td>\n",
              "      <td>NaN</td>\n",
              "      <td>37.746</td>\n",
              "      <td>0.5</td>\n",
              "      <td>64.83</td>\n",
              "      <td>0.511</td>\n",
              "      <td>NaN</td>\n",
              "    </tr>\n",
              "  </tbody>\n",
              "</table>\n",
              "</div>"
            ],
            "text/plain": [
              "  iso_code continent  ... human_development_index excess_mortality\n",
              "0      AFG      Asia  ...                   0.511              NaN\n",
              "1      AFG      Asia  ...                   0.511              NaN\n",
              "2      AFG      Asia  ...                   0.511              NaN\n",
              "3      AFG      Asia  ...                   0.511              NaN\n",
              "4      AFG      Asia  ...                   0.511              NaN\n",
              "\n",
              "[5 rows x 60 columns]"
            ]
          },
          "metadata": {
            "tags": []
          },
          "execution_count": 13
        }
      ]
    },
    {
      "cell_type": "code",
      "metadata": {
        "id": "Ln9ru6jYqwG2"
      },
      "source": [
        "features = [\"location\", \"date\", \"new_deaths_per_million\", \"new_cases_per_million\", \"icu_patients_per_million\", \"hosp_patients_per_million\", \"new_tests_per_thousand\", \"total_vaccinations_per_hundred\", \"gdp_per_capita\", \"population\", \"reproduction_rate\", \"people_fully_vaccinated_per_hundred\", \"people_vaccinated_per_hundred\", \"new_cases\", \"new_deaths\"]"
      ],
      "execution_count": 14,
      "outputs": []
    },
    {
      "cell_type": "code",
      "metadata": {
        "id": "Sy1S_QSiqwJR"
      },
      "source": [
        "dataset_UK = dataset_UK[features]\n",
        "dataset_India = dataset_India[features]\n",
        "dataset_Italy = dataset_Italy[features]\n",
        "dataset_USA = dataset_USA[features]\n",
        "dataset_Canada = dataset_Canada[features]"
      ],
      "execution_count": 15,
      "outputs": []
    },
    {
      "cell_type": "code",
      "metadata": {
        "colab": {
          "base_uri": "https://localhost:8080/",
          "height": 299
        },
        "id": "aoo6rWIHqwNh",
        "outputId": "3bee6ee1-d197-4950-9125-8403dcf9dfc7"
      },
      "source": [
        "dataset_UK.head()"
      ],
      "execution_count": 16,
      "outputs": [
        {
          "output_type": "execute_result",
          "data": {
            "text/html": [
              "<div>\n",
              "<style scoped>\n",
              "    .dataframe tbody tr th:only-of-type {\n",
              "        vertical-align: middle;\n",
              "    }\n",
              "\n",
              "    .dataframe tbody tr th {\n",
              "        vertical-align: top;\n",
              "    }\n",
              "\n",
              "    .dataframe thead th {\n",
              "        text-align: right;\n",
              "    }\n",
              "</style>\n",
              "<table border=\"1\" class=\"dataframe\">\n",
              "  <thead>\n",
              "    <tr style=\"text-align: right;\">\n",
              "      <th></th>\n",
              "      <th>location</th>\n",
              "      <th>date</th>\n",
              "      <th>new_deaths_per_million</th>\n",
              "      <th>new_cases_per_million</th>\n",
              "      <th>icu_patients_per_million</th>\n",
              "      <th>hosp_patients_per_million</th>\n",
              "      <th>new_tests_per_thousand</th>\n",
              "      <th>total_vaccinations_per_hundred</th>\n",
              "      <th>gdp_per_capita</th>\n",
              "      <th>population</th>\n",
              "      <th>reproduction_rate</th>\n",
              "      <th>people_fully_vaccinated_per_hundred</th>\n",
              "      <th>people_vaccinated_per_hundred</th>\n",
              "      <th>new_cases</th>\n",
              "      <th>new_deaths</th>\n",
              "    </tr>\n",
              "  </thead>\n",
              "  <tbody>\n",
              "    <tr>\n",
              "      <th>90078</th>\n",
              "      <td>United Kingdom</td>\n",
              "      <td>2020-05-01</td>\n",
              "      <td>10.311</td>\n",
              "      <td>69.676</td>\n",
              "      <td>32.083</td>\n",
              "      <td>216.878</td>\n",
              "      <td>1.092</td>\n",
              "      <td>NaN</td>\n",
              "      <td>39753.244</td>\n",
              "      <td>67886004.0</td>\n",
              "      <td>0.94</td>\n",
              "      <td>NaN</td>\n",
              "      <td>NaN</td>\n",
              "      <td>4730.0</td>\n",
              "      <td>700.0</td>\n",
              "    </tr>\n",
              "    <tr>\n",
              "      <th>90079</th>\n",
              "      <td>United Kingdom</td>\n",
              "      <td>2020-05-02</td>\n",
              "      <td>8.617</td>\n",
              "      <td>47.580</td>\n",
              "      <td>30.463</td>\n",
              "      <td>211.826</td>\n",
              "      <td>0.936</td>\n",
              "      <td>NaN</td>\n",
              "      <td>39753.244</td>\n",
              "      <td>67886004.0</td>\n",
              "      <td>0.90</td>\n",
              "      <td>NaN</td>\n",
              "      <td>NaN</td>\n",
              "      <td>3230.0</td>\n",
              "      <td>585.0</td>\n",
              "    </tr>\n",
              "    <tr>\n",
              "      <th>90080</th>\n",
              "      <td>United Kingdom</td>\n",
              "      <td>2020-05-03</td>\n",
              "      <td>3.727</td>\n",
              "      <td>43.853</td>\n",
              "      <td>29.594</td>\n",
              "      <td>208.997</td>\n",
              "      <td>1.005</td>\n",
              "      <td>NaN</td>\n",
              "      <td>39753.244</td>\n",
              "      <td>67886004.0</td>\n",
              "      <td>0.87</td>\n",
              "      <td>NaN</td>\n",
              "      <td>NaN</td>\n",
              "      <td>2977.0</td>\n",
              "      <td>253.0</td>\n",
              "    </tr>\n",
              "    <tr>\n",
              "      <th>90081</th>\n",
              "      <td>United Kingdom</td>\n",
              "      <td>2020-05-04</td>\n",
              "      <td>4.021</td>\n",
              "      <td>49.834</td>\n",
              "      <td>28.518</td>\n",
              "      <td>207.657</td>\n",
              "      <td>1.070</td>\n",
              "      <td>NaN</td>\n",
              "      <td>39753.244</td>\n",
              "      <td>67886004.0</td>\n",
              "      <td>0.82</td>\n",
              "      <td>NaN</td>\n",
              "      <td>NaN</td>\n",
              "      <td>3383.0</td>\n",
              "      <td>273.0</td>\n",
              "    </tr>\n",
              "    <tr>\n",
              "      <th>90082</th>\n",
              "      <td>United Kingdom</td>\n",
              "      <td>2020-05-05</td>\n",
              "      <td>10.680</td>\n",
              "      <td>54.341</td>\n",
              "      <td>27.605</td>\n",
              "      <td>202.148</td>\n",
              "      <td>0.986</td>\n",
              "      <td>NaN</td>\n",
              "      <td>39753.244</td>\n",
              "      <td>67886004.0</td>\n",
              "      <td>0.81</td>\n",
              "      <td>NaN</td>\n",
              "      <td>NaN</td>\n",
              "      <td>3689.0</td>\n",
              "      <td>725.0</td>\n",
              "    </tr>\n",
              "  </tbody>\n",
              "</table>\n",
              "</div>"
            ],
            "text/plain": [
              "             location        date  ...  new_cases  new_deaths\n",
              "90078  United Kingdom  2020-05-01  ...     4730.0       700.0\n",
              "90079  United Kingdom  2020-05-02  ...     3230.0       585.0\n",
              "90080  United Kingdom  2020-05-03  ...     2977.0       253.0\n",
              "90081  United Kingdom  2020-05-04  ...     3383.0       273.0\n",
              "90082  United Kingdom  2020-05-05  ...     3689.0       725.0\n",
              "\n",
              "[5 rows x 15 columns]"
            ]
          },
          "metadata": {
            "tags": []
          },
          "execution_count": 16
        }
      ]
    },
    {
      "cell_type": "code",
      "metadata": {
        "id": "IpemA0xSqwRM"
      },
      "source": [
        "dataset_India[\"Mortality_Rate\"] = \" \"\n",
        "dataset_Canada[\"Mortality_Rate\"] = \" \"\n",
        "dataset_UK[\"Mortality_Rate\"] = \" \"\n",
        "dataset_USA[\"Mortality_Rate\"] = \" \"\n",
        "dataset_Italy[\"Mortality_Rate\"] = \" \""
      ],
      "execution_count": 17,
      "outputs": []
    },
    {
      "cell_type": "code",
      "metadata": {
        "id": "HcnWvQv7A8dh"
      },
      "source": [
        "dataset_India[\"Fatality_Rate\"] = \" \"\n",
        "dataset_Canada[\"Fatality_Rate\"] = \" \"\n",
        "dataset_UK[\"Fatality_Rate\"] = \" \"\n",
        "dataset_USA[\"Fatality_Rate\"] = \" \"\n",
        "dataset_Italy[\"Fatality_Rate\"] = \" \""
      ],
      "execution_count": 18,
      "outputs": []
    },
    {
      "cell_type": "code",
      "metadata": {
        "id": "YLTUFeo1tbad"
      },
      "source": [
        "dataset_India[\"Mortality_Rate\"] = dataset_India[\"new_deaths_per_million\"]/dataset_India[\"new_cases_per_million\"]\n",
        "dataset_USA[\"Mortality_Rate\"] = dataset_USA[\"new_deaths_per_million\"]/dataset_USA[\"new_cases_per_million\"]\n",
        "dataset_UK[\"Mortality_Rate\"] = dataset_UK[\"new_deaths_per_million\"]/dataset_UK[\"new_cases_per_million\"]\n",
        "dataset_Canada[\"Mortality_Rate\"] = dataset_Canada[\"new_deaths_per_million\"]/dataset_Canada[\"new_cases_per_million\"]\n",
        "dataset_Italy[\"Mortality_Rate\"] = dataset_Italy[\"new_deaths_per_million\"]/dataset_Italy[\"new_cases_per_million\"]"
      ],
      "execution_count": 19,
      "outputs": []
    },
    {
      "cell_type": "code",
      "metadata": {
        "id": "l5mUQrqOBBNv"
      },
      "source": [
        "dataset_India[\"Fatality_Rate\"] = dataset_India[\"new_deaths\"]/dataset_India[\"new_cases\"]\n",
        "dataset_USA[\"Fatality_Rate\"] = dataset_USA[\"new_deaths\"]/dataset_USA[\"new_cases\"]\n",
        "dataset_UK[\"Fatality_Rate\"] = dataset_UK[\"new_deaths\"]/dataset_UK[\"new_cases\"]\n",
        "dataset_Canada[\"Fatality_Rate\"] = dataset_Canada[\"new_deaths\"]/dataset_Canada[\"new_cases\"]\n",
        "dataset_Italy[\"Fatality_Rate\"] = dataset_Italy[\"new_deaths\"]/dataset_Italy[\"new_cases\"]"
      ],
      "execution_count": 20,
      "outputs": []
    },
    {
      "cell_type": "code",
      "metadata": {
        "colab": {
          "base_uri": "https://localhost:8080/",
          "height": 299
        },
        "id": "uwvmdNjLtwTL",
        "outputId": "5947b359-4c61-432e-83ca-0fb65bbc8f59"
      },
      "source": [
        "dataset_India.head()"
      ],
      "execution_count": 21,
      "outputs": [
        {
          "output_type": "execute_result",
          "data": {
            "text/html": [
              "<div>\n",
              "<style scoped>\n",
              "    .dataframe tbody tr th:only-of-type {\n",
              "        vertical-align: middle;\n",
              "    }\n",
              "\n",
              "    .dataframe tbody tr th {\n",
              "        vertical-align: top;\n",
              "    }\n",
              "\n",
              "    .dataframe thead th {\n",
              "        text-align: right;\n",
              "    }\n",
              "</style>\n",
              "<table border=\"1\" class=\"dataframe\">\n",
              "  <thead>\n",
              "    <tr style=\"text-align: right;\">\n",
              "      <th></th>\n",
              "      <th>location</th>\n",
              "      <th>date</th>\n",
              "      <th>new_deaths_per_million</th>\n",
              "      <th>new_cases_per_million</th>\n",
              "      <th>icu_patients_per_million</th>\n",
              "      <th>hosp_patients_per_million</th>\n",
              "      <th>new_tests_per_thousand</th>\n",
              "      <th>total_vaccinations_per_hundred</th>\n",
              "      <th>gdp_per_capita</th>\n",
              "      <th>population</th>\n",
              "      <th>reproduction_rate</th>\n",
              "      <th>people_fully_vaccinated_per_hundred</th>\n",
              "      <th>people_vaccinated_per_hundred</th>\n",
              "      <th>new_cases</th>\n",
              "      <th>new_deaths</th>\n",
              "      <th>Mortality_Rate</th>\n",
              "      <th>Fatality_Rate</th>\n",
              "    </tr>\n",
              "  </thead>\n",
              "  <tbody>\n",
              "    <tr>\n",
              "      <th>39568</th>\n",
              "      <td>India</td>\n",
              "      <td>2020-05-01</td>\n",
              "      <td>0.050</td>\n",
              "      <td>1.735</td>\n",
              "      <td>NaN</td>\n",
              "      <td>NaN</td>\n",
              "      <td>0.053</td>\n",
              "      <td>NaN</td>\n",
              "      <td>6426.674</td>\n",
              "      <td>1.380004e+09</td>\n",
              "      <td>1.41</td>\n",
              "      <td>NaN</td>\n",
              "      <td>NaN</td>\n",
              "      <td>2394.0</td>\n",
              "      <td>69.0</td>\n",
              "      <td>0.028818</td>\n",
              "      <td>0.028822</td>\n",
              "    </tr>\n",
              "    <tr>\n",
              "      <th>39569</th>\n",
              "      <td>India</td>\n",
              "      <td>2020-05-02</td>\n",
              "      <td>0.072</td>\n",
              "      <td>1.770</td>\n",
              "      <td>NaN</td>\n",
              "      <td>NaN</td>\n",
              "      <td>0.053</td>\n",
              "      <td>NaN</td>\n",
              "      <td>6426.674</td>\n",
              "      <td>1.380004e+09</td>\n",
              "      <td>1.41</td>\n",
              "      <td>NaN</td>\n",
              "      <td>NaN</td>\n",
              "      <td>2442.0</td>\n",
              "      <td>100.0</td>\n",
              "      <td>0.040678</td>\n",
              "      <td>0.040950</td>\n",
              "    </tr>\n",
              "    <tr>\n",
              "      <th>39570</th>\n",
              "      <td>India</td>\n",
              "      <td>2020-05-03</td>\n",
              "      <td>0.049</td>\n",
              "      <td>2.033</td>\n",
              "      <td>NaN</td>\n",
              "      <td>NaN</td>\n",
              "      <td>0.051</td>\n",
              "      <td>NaN</td>\n",
              "      <td>6426.674</td>\n",
              "      <td>1.380004e+09</td>\n",
              "      <td>1.42</td>\n",
              "      <td>NaN</td>\n",
              "      <td>NaN</td>\n",
              "      <td>2806.0</td>\n",
              "      <td>68.0</td>\n",
              "      <td>0.024102</td>\n",
              "      <td>0.024234</td>\n",
              "    </tr>\n",
              "    <tr>\n",
              "      <th>39571</th>\n",
              "      <td>India</td>\n",
              "      <td>2020-05-04</td>\n",
              "      <td>0.127</td>\n",
              "      <td>2.849</td>\n",
              "      <td>NaN</td>\n",
              "      <td>NaN</td>\n",
              "      <td>0.044</td>\n",
              "      <td>NaN</td>\n",
              "      <td>6426.674</td>\n",
              "      <td>1.380004e+09</td>\n",
              "      <td>1.42</td>\n",
              "      <td>NaN</td>\n",
              "      <td>NaN</td>\n",
              "      <td>3932.0</td>\n",
              "      <td>175.0</td>\n",
              "      <td>0.044577</td>\n",
              "      <td>0.044507</td>\n",
              "    </tr>\n",
              "    <tr>\n",
              "      <th>39572</th>\n",
              "      <td>India</td>\n",
              "      <td>2020-05-05</td>\n",
              "      <td>0.092</td>\n",
              "      <td>2.147</td>\n",
              "      <td>NaN</td>\n",
              "      <td>NaN</td>\n",
              "      <td>0.061</td>\n",
              "      <td>NaN</td>\n",
              "      <td>6426.674</td>\n",
              "      <td>1.380004e+09</td>\n",
              "      <td>1.41</td>\n",
              "      <td>NaN</td>\n",
              "      <td>NaN</td>\n",
              "      <td>2963.0</td>\n",
              "      <td>127.0</td>\n",
              "      <td>0.042850</td>\n",
              "      <td>0.042862</td>\n",
              "    </tr>\n",
              "  </tbody>\n",
              "</table>\n",
              "</div>"
            ],
            "text/plain": [
              "      location        date  ...  Mortality_Rate  Fatality_Rate\n",
              "39568    India  2020-05-01  ...        0.028818       0.028822\n",
              "39569    India  2020-05-02  ...        0.040678       0.040950\n",
              "39570    India  2020-05-03  ...        0.024102       0.024234\n",
              "39571    India  2020-05-04  ...        0.044577       0.044507\n",
              "39572    India  2020-05-05  ...        0.042850       0.042862\n",
              "\n",
              "[5 rows x 17 columns]"
            ]
          },
          "metadata": {
            "tags": []
          },
          "execution_count": 21
        }
      ]
    },
    {
      "cell_type": "code",
      "metadata": {
        "colab": {
          "base_uri": "https://localhost:8080/"
        },
        "id": "cLKS0kJDub56",
        "outputId": "995fdb4e-0f15-4ad5-c978-cebbf6289bbe"
      },
      "source": [
        "dataset_India.isna().sum()"
      ],
      "execution_count": 22,
      "outputs": [
        {
          "output_type": "execute_result",
          "data": {
            "text/plain": [
              "location                                 0\n",
              "date                                     0\n",
              "new_deaths_per_million                   0\n",
              "new_cases_per_million                    0\n",
              "icu_patients_per_million               409\n",
              "hosp_patients_per_million              409\n",
              "new_tests_per_thousand                  10\n",
              "total_vaccinations_per_hundred         264\n",
              "gdp_per_capita                           0\n",
              "population                               0\n",
              "reproduction_rate                        4\n",
              "people_fully_vaccinated_per_hundred    293\n",
              "people_vaccinated_per_hundred          264\n",
              "new_cases                                0\n",
              "new_deaths                               0\n",
              "Mortality_Rate                           2\n",
              "Fatality_Rate                            2\n",
              "dtype: int64"
            ]
          },
          "metadata": {
            "tags": []
          },
          "execution_count": 22
        }
      ]
    },
    {
      "cell_type": "code",
      "metadata": {
        "colab": {
          "base_uri": "https://localhost:8080/"
        },
        "id": "aw-Cv-javm01",
        "outputId": "3c0a8389-6b9e-4203-b4ef-667feedd8f75"
      },
      "source": [
        "dataset_UK.isna().sum()"
      ],
      "execution_count": 23,
      "outputs": [
        {
          "output_type": "execute_result",
          "data": {
            "text/plain": [
              "location                                 0\n",
              "date                                     0\n",
              "new_deaths_per_million                   0\n",
              "new_cases_per_million                    0\n",
              "icu_patients_per_million                 3\n",
              "hosp_patients_per_million                3\n",
              "new_tests_per_thousand                   4\n",
              "total_vaccinations_per_hundred         254\n",
              "gdp_per_capita                           0\n",
              "population                               0\n",
              "reproduction_rate                        4\n",
              "people_fully_vaccinated_per_hundred    254\n",
              "people_vaccinated_per_hundred          254\n",
              "new_cases                                0\n",
              "new_deaths                               0\n",
              "Mortality_Rate                           0\n",
              "Fatality_Rate                            0\n",
              "dtype: int64"
            ]
          },
          "metadata": {
            "tags": []
          },
          "execution_count": 23
        }
      ]
    },
    {
      "cell_type": "code",
      "metadata": {
        "colab": {
          "base_uri": "https://localhost:8080/"
        },
        "id": "vm6Uljgz4MkK",
        "outputId": "cde6a257-38e4-4fdf-c9ca-21050d3dcc39"
      },
      "source": [
        "dataset_USA.isna().sum()"
      ],
      "execution_count": 24,
      "outputs": [
        {
          "output_type": "execute_result",
          "data": {
            "text/plain": [
              "location                                 0\n",
              "date                                     0\n",
              "new_deaths_per_million                   0\n",
              "new_cases_per_million                    0\n",
              "icu_patients_per_million                76\n",
              "hosp_patients_per_million               76\n",
              "new_tests_per_thousand                   5\n",
              "total_vaccinations_per_hundred         248\n",
              "gdp_per_capita                           0\n",
              "population                               0\n",
              "reproduction_rate                        4\n",
              "people_fully_vaccinated_per_hundred    263\n",
              "people_vaccinated_per_hundred          249\n",
              "new_cases                                0\n",
              "new_deaths                               0\n",
              "Mortality_Rate                           0\n",
              "Fatality_Rate                            0\n",
              "dtype: int64"
            ]
          },
          "metadata": {
            "tags": []
          },
          "execution_count": 24
        }
      ]
    },
    {
      "cell_type": "code",
      "metadata": {
        "colab": {
          "base_uri": "https://localhost:8080/"
        },
        "id": "zytjBCMP48_4",
        "outputId": "29801222-e782-4247-c6b7-cd582f9a2d35"
      },
      "source": [
        "dataset_Italy.isna().sum()"
      ],
      "execution_count": 25,
      "outputs": [
        {
          "output_type": "execute_result",
          "data": {
            "text/plain": [
              "location                                 0\n",
              "date                                     0\n",
              "new_deaths_per_million                   0\n",
              "new_cases_per_million                    0\n",
              "icu_patients_per_million                 7\n",
              "hosp_patients_per_million                7\n",
              "new_tests_per_thousand                   3\n",
              "total_vaccinations_per_hundred         240\n",
              "gdp_per_capita                           0\n",
              "population                               0\n",
              "reproduction_rate                        4\n",
              "people_fully_vaccinated_per_hundred    261\n",
              "people_vaccinated_per_hundred          240\n",
              "new_cases                                0\n",
              "new_deaths                               0\n",
              "Mortality_Rate                           0\n",
              "Fatality_Rate                            0\n",
              "dtype: int64"
            ]
          },
          "metadata": {
            "tags": []
          },
          "execution_count": 25
        }
      ]
    },
    {
      "cell_type": "code",
      "metadata": {
        "colab": {
          "base_uri": "https://localhost:8080/"
        },
        "id": "vqx5Evx15Cwl",
        "outputId": "5b015519-5b70-4075-8227-531b9f6265dc"
      },
      "source": [
        "dataset_Canada.isna().sum()"
      ],
      "execution_count": 26,
      "outputs": [
        {
          "output_type": "execute_result",
          "data": {
            "text/plain": [
              "location                                 0\n",
              "date                                     0\n",
              "new_deaths_per_million                   0\n",
              "new_cases_per_million                    0\n",
              "icu_patients_per_million                 1\n",
              "hosp_patients_per_million                1\n",
              "new_tests_per_thousand                   3\n",
              "total_vaccinations_per_hundred         227\n",
              "gdp_per_capita                           0\n",
              "population                               0\n",
              "reproduction_rate                        4\n",
              "people_fully_vaccinated_per_hundred    250\n",
              "people_vaccinated_per_hundred          227\n",
              "new_cases                                0\n",
              "new_deaths                               0\n",
              "Mortality_Rate                           0\n",
              "Fatality_Rate                            0\n",
              "dtype: int64"
            ]
          },
          "metadata": {
            "tags": []
          },
          "execution_count": 26
        }
      ]
    },
    {
      "cell_type": "code",
      "metadata": {
        "colab": {
          "base_uri": "https://localhost:8080/"
        },
        "id": "EDzilqyP5Fy9",
        "outputId": "dd25dc45-993a-4f3d-cc9c-97060d30f69f"
      },
      "source": [
        "dataset_India.columns"
      ],
      "execution_count": 27,
      "outputs": [
        {
          "output_type": "execute_result",
          "data": {
            "text/plain": [
              "Index(['location', 'date', 'new_deaths_per_million', 'new_cases_per_million',\n",
              "       'icu_patients_per_million', 'hosp_patients_per_million',\n",
              "       'new_tests_per_thousand', 'total_vaccinations_per_hundred',\n",
              "       'gdp_per_capita', 'population', 'reproduction_rate',\n",
              "       'people_fully_vaccinated_per_hundred', 'people_vaccinated_per_hundred',\n",
              "       'new_cases', 'new_deaths', 'Mortality_Rate', 'Fatality_Rate'],\n",
              "      dtype='object')"
            ]
          },
          "metadata": {
            "tags": []
          },
          "execution_count": 27
        }
      ]
    },
    {
      "cell_type": "code",
      "metadata": {
        "id": "j0x5kjBs503B"
      },
      "source": [
        "dataset_UK[\"people_fully_vaccinated_per_hundred\"] = dataset_UK[\"people_fully_vaccinated_per_hundred\"].fillna(0)\n",
        "dataset_UK[\"people_vaccinated_per_hundred\"] = dataset_UK[\"people_vaccinated_per_hundred\"].fillna(0)\n",
        "dataset_UK[\"new_tests_per_thousand\"] = dataset_UK[\"new_tests_per_thousand\"].fillna(0)\n",
        "dataset_UK[\"hosp_patients_per_million\"] = dataset_UK[\"hosp_patients_per_million\"].fillna(0)   #This need to be deleted as not enough data is available.\n",
        "dataset_UK[\"icu_patients_per_million\"] = dataset_UK[\"icu_patients_per_million\"].fillna(0)   #This need to be deleted as not enough data is available."
      ],
      "execution_count": 28,
      "outputs": []
    },
    {
      "cell_type": "code",
      "metadata": {
        "colab": {
          "base_uri": "https://localhost:8080/",
          "height": 35
        },
        "id": "Qm52hQIu7eEn",
        "outputId": "05a938e0-fa0d-4c23-ef8a-a0383ccdcb28"
      },
      "source": [
        "dataset_UK[\"date\"].min()"
      ],
      "execution_count": 29,
      "outputs": [
        {
          "output_type": "execute_result",
          "data": {
            "application/vnd.google.colaboratory.intrinsic+json": {
              "type": "string"
            },
            "text/plain": [
              "'2020-05-01'"
            ]
          },
          "metadata": {
            "tags": []
          },
          "execution_count": 29
        }
      ]
    },
    {
      "cell_type": "code",
      "metadata": {
        "id": "1gxtC4nK78aq"
      },
      "source": [
        "dataset_UK[\"Lockdown\"] = \"\""
      ],
      "execution_count": 30,
      "outputs": []
    },
    {
      "cell_type": "code",
      "metadata": {
        "colab": {
          "base_uri": "https://localhost:8080/"
        },
        "id": "3l2jhut383Co",
        "outputId": "e71ceaf5-6e7f-4549-bcfc-758d47b126d8"
      },
      "source": [
        "dataset_UK[\"date\"].head()"
      ],
      "execution_count": 31,
      "outputs": [
        {
          "output_type": "execute_result",
          "data": {
            "text/plain": [
              "90078    2020-05-01\n",
              "90079    2020-05-02\n",
              "90080    2020-05-03\n",
              "90081    2020-05-04\n",
              "90082    2020-05-05\n",
              "Name: date, dtype: object"
            ]
          },
          "metadata": {
            "tags": []
          },
          "execution_count": 31
        }
      ]
    },
    {
      "cell_type": "code",
      "metadata": {
        "id": "wch8a_72MCrV"
      },
      "source": [
        "yes1 = (dataset_UK[\"date\"] >= \"2020-05-10\") & (dataset_UK[\"date\"] <= \"2020-06-23\")\n",
        "yes2 = (dataset_UK[\"date\"] >= \"2020-10-31\") & (dataset_UK[\"date\"] <= \"2020-12-02\")\n",
        "yes3 = (dataset_UK[\"date\"] >= \"2020-12-21\") & (dataset_UK[\"date\"] <= \"2021-04-17\")"
      ],
      "execution_count": 32,
      "outputs": []
    },
    {
      "cell_type": "code",
      "metadata": {
        "id": "GNH-UjZfNlJL"
      },
      "source": [
        "dataset_UK[\"Lockdown\"][yes1] = 1\n",
        "dataset_UK[\"Lockdown\"][yes2] = 1\n",
        "dataset_UK[\"Lockdown\"][yes3] = 1"
      ],
      "execution_count": 33,
      "outputs": []
    },
    {
      "cell_type": "code",
      "metadata": {
        "colab": {
          "base_uri": "https://localhost:8080/"
        },
        "id": "baVw_1q0NtrN",
        "outputId": "2600d22a-f6d2-45bb-c9e6-be13d4a49eb9"
      },
      "source": [
        "dataset_UK[\"Lockdown\"].unique()"
      ],
      "execution_count": 34,
      "outputs": [
        {
          "output_type": "execute_result",
          "data": {
            "text/plain": [
              "array(['', 1], dtype=object)"
            ]
          },
          "metadata": {
            "tags": []
          },
          "execution_count": 34
        }
      ]
    },
    {
      "cell_type": "code",
      "metadata": {
        "colab": {
          "base_uri": "https://localhost:8080/",
          "height": 590
        },
        "id": "vdb8LIQ1NyVs",
        "outputId": "249f460c-2325-45cd-ebf8-6a2b0e24b6ec"
      },
      "source": [
        "dataset_UK[dataset_UK[\"Lockdown\"] == 1]"
      ],
      "execution_count": 35,
      "outputs": [
        {
          "output_type": "execute_result",
          "data": {
            "text/html": [
              "<div>\n",
              "<style scoped>\n",
              "    .dataframe tbody tr th:only-of-type {\n",
              "        vertical-align: middle;\n",
              "    }\n",
              "\n",
              "    .dataframe tbody tr th {\n",
              "        vertical-align: top;\n",
              "    }\n",
              "\n",
              "    .dataframe thead th {\n",
              "        text-align: right;\n",
              "    }\n",
              "</style>\n",
              "<table border=\"1\" class=\"dataframe\">\n",
              "  <thead>\n",
              "    <tr style=\"text-align: right;\">\n",
              "      <th></th>\n",
              "      <th>location</th>\n",
              "      <th>date</th>\n",
              "      <th>new_deaths_per_million</th>\n",
              "      <th>new_cases_per_million</th>\n",
              "      <th>icu_patients_per_million</th>\n",
              "      <th>hosp_patients_per_million</th>\n",
              "      <th>new_tests_per_thousand</th>\n",
              "      <th>total_vaccinations_per_hundred</th>\n",
              "      <th>gdp_per_capita</th>\n",
              "      <th>population</th>\n",
              "      <th>reproduction_rate</th>\n",
              "      <th>people_fully_vaccinated_per_hundred</th>\n",
              "      <th>people_vaccinated_per_hundred</th>\n",
              "      <th>new_cases</th>\n",
              "      <th>new_deaths</th>\n",
              "      <th>Mortality_Rate</th>\n",
              "      <th>Fatality_Rate</th>\n",
              "      <th>Lockdown</th>\n",
              "    </tr>\n",
              "  </thead>\n",
              "  <tbody>\n",
              "    <tr>\n",
              "      <th>90087</th>\n",
              "      <td>United Kingdom</td>\n",
              "      <td>2020-05-10</td>\n",
              "      <td>3.197</td>\n",
              "      <td>34.204</td>\n",
              "      <td>22.656</td>\n",
              "      <td>172.745</td>\n",
              "      <td>1.127</td>\n",
              "      <td>NaN</td>\n",
              "      <td>39753.244</td>\n",
              "      <td>67886004.0</td>\n",
              "      <td>0.84</td>\n",
              "      <td>0.00</td>\n",
              "      <td>0.00</td>\n",
              "      <td>2322.0</td>\n",
              "      <td>217.0</td>\n",
              "      <td>0.093469</td>\n",
              "      <td>0.093454</td>\n",
              "      <td>1</td>\n",
              "    </tr>\n",
              "    <tr>\n",
              "      <th>90088</th>\n",
              "      <td>United Kingdom</td>\n",
              "      <td>2020-05-11</td>\n",
              "      <td>2.769</td>\n",
              "      <td>52.868</td>\n",
              "      <td>21.875</td>\n",
              "      <td>176.281</td>\n",
              "      <td>1.036</td>\n",
              "      <td>NaN</td>\n",
              "      <td>39753.244</td>\n",
              "      <td>67886004.0</td>\n",
              "      <td>0.85</td>\n",
              "      <td>0.00</td>\n",
              "      <td>0.00</td>\n",
              "      <td>3589.0</td>\n",
              "      <td>188.0</td>\n",
              "      <td>0.052376</td>\n",
              "      <td>0.052382</td>\n",
              "      <td>1</td>\n",
              "    </tr>\n",
              "    <tr>\n",
              "      <th>90089</th>\n",
              "      <td>United Kingdom</td>\n",
              "      <td>2020-05-12</td>\n",
              "      <td>9.059</td>\n",
              "      <td>50.010</td>\n",
              "      <td>20.829</td>\n",
              "      <td>170.742</td>\n",
              "      <td>1.099</td>\n",
              "      <td>NaN</td>\n",
              "      <td>39753.244</td>\n",
              "      <td>67886004.0</td>\n",
              "      <td>0.84</td>\n",
              "      <td>0.00</td>\n",
              "      <td>0.00</td>\n",
              "      <td>3395.0</td>\n",
              "      <td>615.0</td>\n",
              "      <td>0.181144</td>\n",
              "      <td>0.181149</td>\n",
              "      <td>1</td>\n",
              "    </tr>\n",
              "    <tr>\n",
              "      <th>90090</th>\n",
              "      <td>United Kingdom</td>\n",
              "      <td>2020-05-13</td>\n",
              "      <td>6.599</td>\n",
              "      <td>48.611</td>\n",
              "      <td>19.768</td>\n",
              "      <td>167.074</td>\n",
              "      <td>1.225</td>\n",
              "      <td>NaN</td>\n",
              "      <td>39753.244</td>\n",
              "      <td>67886004.0</td>\n",
              "      <td>0.81</td>\n",
              "      <td>0.00</td>\n",
              "      <td>0.00</td>\n",
              "      <td>3300.0</td>\n",
              "      <td>448.0</td>\n",
              "      <td>0.135751</td>\n",
              "      <td>0.135758</td>\n",
              "      <td>1</td>\n",
              "    </tr>\n",
              "    <tr>\n",
              "      <th>90091</th>\n",
              "      <td>United Kingdom</td>\n",
              "      <td>2020-05-14</td>\n",
              "      <td>5.200</td>\n",
              "      <td>38.565</td>\n",
              "      <td>19.356</td>\n",
              "      <td>160.873</td>\n",
              "      <td>1.248</td>\n",
              "      <td>NaN</td>\n",
              "      <td>39753.244</td>\n",
              "      <td>67886004.0</td>\n",
              "      <td>0.79</td>\n",
              "      <td>0.00</td>\n",
              "      <td>0.00</td>\n",
              "      <td>2618.0</td>\n",
              "      <td>353.0</td>\n",
              "      <td>0.134837</td>\n",
              "      <td>0.134836</td>\n",
              "      <td>1</td>\n",
              "    </tr>\n",
              "    <tr>\n",
              "      <th>...</th>\n",
              "      <td>...</td>\n",
              "      <td>...</td>\n",
              "      <td>...</td>\n",
              "      <td>...</td>\n",
              "      <td>...</td>\n",
              "      <td>...</td>\n",
              "      <td>...</td>\n",
              "      <td>...</td>\n",
              "      <td>...</td>\n",
              "      <td>...</td>\n",
              "      <td>...</td>\n",
              "      <td>...</td>\n",
              "      <td>...</td>\n",
              "      <td>...</td>\n",
              "      <td>...</td>\n",
              "      <td>...</td>\n",
              "      <td>...</td>\n",
              "      <td>...</td>\n",
              "    </tr>\n",
              "    <tr>\n",
              "      <th>90425</th>\n",
              "      <td>United Kingdom</td>\n",
              "      <td>2021-04-13</td>\n",
              "      <td>0.339</td>\n",
              "      <td>36.900</td>\n",
              "      <td>5.450</td>\n",
              "      <td>35.456</td>\n",
              "      <td>10.004</td>\n",
              "      <td>59.65</td>\n",
              "      <td>39753.244</td>\n",
              "      <td>67886004.0</td>\n",
              "      <td>0.91</td>\n",
              "      <td>12.04</td>\n",
              "      <td>47.62</td>\n",
              "      <td>2505.0</td>\n",
              "      <td>23.0</td>\n",
              "      <td>0.009187</td>\n",
              "      <td>0.009182</td>\n",
              "      <td>1</td>\n",
              "    </tr>\n",
              "    <tr>\n",
              "      <th>90426</th>\n",
              "      <td>United Kingdom</td>\n",
              "      <td>2021-04-14</td>\n",
              "      <td>0.560</td>\n",
              "      <td>37.254</td>\n",
              "      <td>5.170</td>\n",
              "      <td>33.792</td>\n",
              "      <td>17.129</td>\n",
              "      <td>60.33</td>\n",
              "      <td>39753.244</td>\n",
              "      <td>67886004.0</td>\n",
              "      <td>0.90</td>\n",
              "      <td>12.54</td>\n",
              "      <td>47.79</td>\n",
              "      <td>2529.0</td>\n",
              "      <td>38.0</td>\n",
              "      <td>0.015032</td>\n",
              "      <td>0.015026</td>\n",
              "      <td>1</td>\n",
              "    </tr>\n",
              "    <tr>\n",
              "      <th>90427</th>\n",
              "      <td>United Kingdom</td>\n",
              "      <td>2021-04-15</td>\n",
              "      <td>0.457</td>\n",
              "      <td>40.745</td>\n",
              "      <td>4.846</td>\n",
              "      <td>32.319</td>\n",
              "      <td>14.558</td>\n",
              "      <td>61.14</td>\n",
              "      <td>39753.244</td>\n",
              "      <td>67886004.0</td>\n",
              "      <td>0.89</td>\n",
              "      <td>13.16</td>\n",
              "      <td>47.98</td>\n",
              "      <td>2766.0</td>\n",
              "      <td>31.0</td>\n",
              "      <td>0.011216</td>\n",
              "      <td>0.011208</td>\n",
              "      <td>1</td>\n",
              "    </tr>\n",
              "    <tr>\n",
              "      <th>90428</th>\n",
              "      <td>United Kingdom</td>\n",
              "      <td>2021-04-16</td>\n",
              "      <td>0.501</td>\n",
              "      <td>41.349</td>\n",
              "      <td>4.891</td>\n",
              "      <td>31.509</td>\n",
              "      <td>10.045</td>\n",
              "      <td>62.08</td>\n",
              "      <td>39753.244</td>\n",
              "      <td>67886004.0</td>\n",
              "      <td>0.90</td>\n",
              "      <td>13.89</td>\n",
              "      <td>48.18</td>\n",
              "      <td>2807.0</td>\n",
              "      <td>34.0</td>\n",
              "      <td>0.012116</td>\n",
              "      <td>0.012113</td>\n",
              "      <td>1</td>\n",
              "    </tr>\n",
              "    <tr>\n",
              "      <th>90429</th>\n",
              "      <td>United Kingdom</td>\n",
              "      <td>2021-04-17</td>\n",
              "      <td>0.530</td>\n",
              "      <td>33.483</td>\n",
              "      <td>4.758</td>\n",
              "      <td>29.962</td>\n",
              "      <td>7.260</td>\n",
              "      <td>63.02</td>\n",
              "      <td>39753.244</td>\n",
              "      <td>67886004.0</td>\n",
              "      <td>0.91</td>\n",
              "      <td>14.63</td>\n",
              "      <td>48.39</td>\n",
              "      <td>2273.0</td>\n",
              "      <td>36.0</td>\n",
              "      <td>0.015829</td>\n",
              "      <td>0.015838</td>\n",
              "      <td>1</td>\n",
              "    </tr>\n",
              "  </tbody>\n",
              "</table>\n",
              "<p>196 rows × 18 columns</p>\n",
              "</div>"
            ],
            "text/plain": [
              "             location        date  ...  Fatality_Rate  Lockdown\n",
              "90087  United Kingdom  2020-05-10  ...       0.093454         1\n",
              "90088  United Kingdom  2020-05-11  ...       0.052382         1\n",
              "90089  United Kingdom  2020-05-12  ...       0.181149         1\n",
              "90090  United Kingdom  2020-05-13  ...       0.135758         1\n",
              "90091  United Kingdom  2020-05-14  ...       0.134836         1\n",
              "...               ...         ...  ...            ...       ...\n",
              "90425  United Kingdom  2021-04-13  ...       0.009182         1\n",
              "90426  United Kingdom  2021-04-14  ...       0.015026         1\n",
              "90427  United Kingdom  2021-04-15  ...       0.011208         1\n",
              "90428  United Kingdom  2021-04-16  ...       0.012113         1\n",
              "90429  United Kingdom  2021-04-17  ...       0.015838         1\n",
              "\n",
              "[196 rows x 18 columns]"
            ]
          },
          "metadata": {
            "tags": []
          },
          "execution_count": 35
        }
      ]
    },
    {
      "cell_type": "code",
      "metadata": {
        "colab": {
          "base_uri": "https://localhost:8080/"
        },
        "id": "yk036i2NN1rr",
        "outputId": "39a48ccc-ce92-426a-e31b-7464d9f555da"
      },
      "source": [
        "dataset_UK[\"Lockdown\"].unique()"
      ],
      "execution_count": 36,
      "outputs": [
        {
          "output_type": "execute_result",
          "data": {
            "text/plain": [
              "array(['', 1], dtype=object)"
            ]
          },
          "metadata": {
            "tags": []
          },
          "execution_count": 36
        }
      ]
    },
    {
      "cell_type": "code",
      "metadata": {
        "id": "-ruZUk2YOvXs"
      },
      "source": [
        "dataset_UK[\"Lockdown\"] = dataset_UK[\"Lockdown\"].replace([''], 0)"
      ],
      "execution_count": 37,
      "outputs": []
    },
    {
      "cell_type": "code",
      "metadata": {
        "colab": {
          "base_uri": "https://localhost:8080/"
        },
        "id": "9xqmdW1XPBKu",
        "outputId": "7224dc58-9c43-40b3-f305-dcdcfb2d7ba1"
      },
      "source": [
        "dataset_UK[\"Lockdown\"].unique()"
      ],
      "execution_count": 38,
      "outputs": [
        {
          "output_type": "execute_result",
          "data": {
            "text/plain": [
              "array([0, 1])"
            ]
          },
          "metadata": {
            "tags": []
          },
          "execution_count": 38
        }
      ]
    },
    {
      "cell_type": "code",
      "metadata": {
        "colab": {
          "base_uri": "https://localhost:8080/"
        },
        "id": "VvbimdG2PFFa",
        "outputId": "30d55dfc-b53a-4118-e0c4-54ddc49c8b9e"
      },
      "source": [
        "dataset_UK.columns"
      ],
      "execution_count": 39,
      "outputs": [
        {
          "output_type": "execute_result",
          "data": {
            "text/plain": [
              "Index(['location', 'date', 'new_deaths_per_million', 'new_cases_per_million',\n",
              "       'icu_patients_per_million', 'hosp_patients_per_million',\n",
              "       'new_tests_per_thousand', 'total_vaccinations_per_hundred',\n",
              "       'gdp_per_capita', 'population', 'reproduction_rate',\n",
              "       'people_fully_vaccinated_per_hundred', 'people_vaccinated_per_hundred',\n",
              "       'new_cases', 'new_deaths', 'Mortality_Rate', 'Fatality_Rate',\n",
              "       'Lockdown'],\n",
              "      dtype='object')"
            ]
          },
          "metadata": {
            "tags": []
          },
          "execution_count": 39
        }
      ]
    },
    {
      "cell_type": "code",
      "metadata": {
        "id": "VlRIY1dYPFRG"
      },
      "source": [
        ""
      ],
      "execution_count": 39,
      "outputs": []
    },
    {
      "cell_type": "code",
      "metadata": {
        "colab": {
          "base_uri": "https://localhost:8080/",
          "height": 590
        },
        "id": "jcfi_nsBTzly",
        "outputId": "f54a55e5-d13e-4664-cb3a-f2ca6af6d906"
      },
      "source": [
        "dataset_UK[dataset_UK[\"total_vaccinations_per_hundred\"].isna()]"
      ],
      "execution_count": 40,
      "outputs": [
        {
          "output_type": "execute_result",
          "data": {
            "text/html": [
              "<div>\n",
              "<style scoped>\n",
              "    .dataframe tbody tr th:only-of-type {\n",
              "        vertical-align: middle;\n",
              "    }\n",
              "\n",
              "    .dataframe tbody tr th {\n",
              "        vertical-align: top;\n",
              "    }\n",
              "\n",
              "    .dataframe thead th {\n",
              "        text-align: right;\n",
              "    }\n",
              "</style>\n",
              "<table border=\"1\" class=\"dataframe\">\n",
              "  <thead>\n",
              "    <tr style=\"text-align: right;\">\n",
              "      <th></th>\n",
              "      <th>location</th>\n",
              "      <th>date</th>\n",
              "      <th>new_deaths_per_million</th>\n",
              "      <th>new_cases_per_million</th>\n",
              "      <th>icu_patients_per_million</th>\n",
              "      <th>hosp_patients_per_million</th>\n",
              "      <th>new_tests_per_thousand</th>\n",
              "      <th>total_vaccinations_per_hundred</th>\n",
              "      <th>gdp_per_capita</th>\n",
              "      <th>population</th>\n",
              "      <th>reproduction_rate</th>\n",
              "      <th>people_fully_vaccinated_per_hundred</th>\n",
              "      <th>people_vaccinated_per_hundred</th>\n",
              "      <th>new_cases</th>\n",
              "      <th>new_deaths</th>\n",
              "      <th>Mortality_Rate</th>\n",
              "      <th>Fatality_Rate</th>\n",
              "      <th>Lockdown</th>\n",
              "    </tr>\n",
              "  </thead>\n",
              "  <tbody>\n",
              "    <tr>\n",
              "      <th>90078</th>\n",
              "      <td>United Kingdom</td>\n",
              "      <td>2020-05-01</td>\n",
              "      <td>10.311</td>\n",
              "      <td>69.676</td>\n",
              "      <td>32.083</td>\n",
              "      <td>216.878</td>\n",
              "      <td>1.092</td>\n",
              "      <td>NaN</td>\n",
              "      <td>39753.244</td>\n",
              "      <td>67886004.0</td>\n",
              "      <td>0.94</td>\n",
              "      <td>0.0</td>\n",
              "      <td>0.0</td>\n",
              "      <td>4730.0</td>\n",
              "      <td>700.0</td>\n",
              "      <td>0.147985</td>\n",
              "      <td>0.147992</td>\n",
              "      <td>0</td>\n",
              "    </tr>\n",
              "    <tr>\n",
              "      <th>90079</th>\n",
              "      <td>United Kingdom</td>\n",
              "      <td>2020-05-02</td>\n",
              "      <td>8.617</td>\n",
              "      <td>47.580</td>\n",
              "      <td>30.463</td>\n",
              "      <td>211.826</td>\n",
              "      <td>0.936</td>\n",
              "      <td>NaN</td>\n",
              "      <td>39753.244</td>\n",
              "      <td>67886004.0</td>\n",
              "      <td>0.90</td>\n",
              "      <td>0.0</td>\n",
              "      <td>0.0</td>\n",
              "      <td>3230.0</td>\n",
              "      <td>585.0</td>\n",
              "      <td>0.181106</td>\n",
              "      <td>0.181115</td>\n",
              "      <td>0</td>\n",
              "    </tr>\n",
              "    <tr>\n",
              "      <th>90080</th>\n",
              "      <td>United Kingdom</td>\n",
              "      <td>2020-05-03</td>\n",
              "      <td>3.727</td>\n",
              "      <td>43.853</td>\n",
              "      <td>29.594</td>\n",
              "      <td>208.997</td>\n",
              "      <td>1.005</td>\n",
              "      <td>NaN</td>\n",
              "      <td>39753.244</td>\n",
              "      <td>67886004.0</td>\n",
              "      <td>0.87</td>\n",
              "      <td>0.0</td>\n",
              "      <td>0.0</td>\n",
              "      <td>2977.0</td>\n",
              "      <td>253.0</td>\n",
              "      <td>0.084988</td>\n",
              "      <td>0.084985</td>\n",
              "      <td>0</td>\n",
              "    </tr>\n",
              "    <tr>\n",
              "      <th>90081</th>\n",
              "      <td>United Kingdom</td>\n",
              "      <td>2020-05-04</td>\n",
              "      <td>4.021</td>\n",
              "      <td>49.834</td>\n",
              "      <td>28.518</td>\n",
              "      <td>207.657</td>\n",
              "      <td>1.070</td>\n",
              "      <td>NaN</td>\n",
              "      <td>39753.244</td>\n",
              "      <td>67886004.0</td>\n",
              "      <td>0.82</td>\n",
              "      <td>0.0</td>\n",
              "      <td>0.0</td>\n",
              "      <td>3383.0</td>\n",
              "      <td>273.0</td>\n",
              "      <td>0.080688</td>\n",
              "      <td>0.080698</td>\n",
              "      <td>0</td>\n",
              "    </tr>\n",
              "    <tr>\n",
              "      <th>90082</th>\n",
              "      <td>United Kingdom</td>\n",
              "      <td>2020-05-05</td>\n",
              "      <td>10.680</td>\n",
              "      <td>54.341</td>\n",
              "      <td>27.605</td>\n",
              "      <td>202.148</td>\n",
              "      <td>0.986</td>\n",
              "      <td>NaN</td>\n",
              "      <td>39753.244</td>\n",
              "      <td>67886004.0</td>\n",
              "      <td>0.81</td>\n",
              "      <td>0.0</td>\n",
              "      <td>0.0</td>\n",
              "      <td>3689.0</td>\n",
              "      <td>725.0</td>\n",
              "      <td>0.196537</td>\n",
              "      <td>0.196530</td>\n",
              "      <td>0</td>\n",
              "    </tr>\n",
              "    <tr>\n",
              "      <th>...</th>\n",
              "      <td>...</td>\n",
              "      <td>...</td>\n",
              "      <td>...</td>\n",
              "      <td>...</td>\n",
              "      <td>...</td>\n",
              "      <td>...</td>\n",
              "      <td>...</td>\n",
              "      <td>...</td>\n",
              "      <td>...</td>\n",
              "      <td>...</td>\n",
              "      <td>...</td>\n",
              "      <td>...</td>\n",
              "      <td>...</td>\n",
              "      <td>...</td>\n",
              "      <td>...</td>\n",
              "      <td>...</td>\n",
              "      <td>...</td>\n",
              "      <td>...</td>\n",
              "    </tr>\n",
              "    <tr>\n",
              "      <th>90328</th>\n",
              "      <td>United Kingdom</td>\n",
              "      <td>2021-01-06</td>\n",
              "      <td>15.349</td>\n",
              "      <td>921.486</td>\n",
              "      <td>41.555</td>\n",
              "      <td>470.524</td>\n",
              "      <td>8.211</td>\n",
              "      <td>NaN</td>\n",
              "      <td>39753.244</td>\n",
              "      <td>67886004.0</td>\n",
              "      <td>1.19</td>\n",
              "      <td>0.0</td>\n",
              "      <td>0.0</td>\n",
              "      <td>62556.0</td>\n",
              "      <td>1042.0</td>\n",
              "      <td>0.016657</td>\n",
              "      <td>0.016657</td>\n",
              "      <td>1</td>\n",
              "    </tr>\n",
              "    <tr>\n",
              "      <th>90329</th>\n",
              "      <td>United Kingdom</td>\n",
              "      <td>2021-01-07</td>\n",
              "      <td>17.117</td>\n",
              "      <td>777.583</td>\n",
              "      <td>43.146</td>\n",
              "      <td>479.907</td>\n",
              "      <td>9.132</td>\n",
              "      <td>NaN</td>\n",
              "      <td>39753.244</td>\n",
              "      <td>67886004.0</td>\n",
              "      <td>1.14</td>\n",
              "      <td>0.0</td>\n",
              "      <td>0.0</td>\n",
              "      <td>52787.0</td>\n",
              "      <td>1162.0</td>\n",
              "      <td>0.022013</td>\n",
              "      <td>0.022013</td>\n",
              "      <td>1</td>\n",
              "    </tr>\n",
              "    <tr>\n",
              "      <th>90330</th>\n",
              "      <td>United Kingdom</td>\n",
              "      <td>2021-01-08</td>\n",
              "      <td>19.636</td>\n",
              "      <td>1004.507</td>\n",
              "      <td>45.635</td>\n",
              "      <td>497.511</td>\n",
              "      <td>10.020</td>\n",
              "      <td>NaN</td>\n",
              "      <td>39753.244</td>\n",
              "      <td>67886004.0</td>\n",
              "      <td>1.12</td>\n",
              "      <td>0.0</td>\n",
              "      <td>0.0</td>\n",
              "      <td>68192.0</td>\n",
              "      <td>1333.0</td>\n",
              "      <td>0.019548</td>\n",
              "      <td>0.019548</td>\n",
              "      <td>1</td>\n",
              "    </tr>\n",
              "    <tr>\n",
              "      <th>90331</th>\n",
              "      <td>United Kingdom</td>\n",
              "      <td>2021-01-09</td>\n",
              "      <td>15.246</td>\n",
              "      <td>885.278</td>\n",
              "      <td>46.328</td>\n",
              "      <td>501.252</td>\n",
              "      <td>8.357</td>\n",
              "      <td>NaN</td>\n",
              "      <td>39753.244</td>\n",
              "      <td>67886004.0</td>\n",
              "      <td>1.09</td>\n",
              "      <td>0.0</td>\n",
              "      <td>0.0</td>\n",
              "      <td>60098.0</td>\n",
              "      <td>1035.0</td>\n",
              "      <td>0.017222</td>\n",
              "      <td>0.017222</td>\n",
              "      <td>1</td>\n",
              "    </tr>\n",
              "    <tr>\n",
              "      <th>90486</th>\n",
              "      <td>United Kingdom</td>\n",
              "      <td>2021-06-13</td>\n",
              "      <td>0.118</td>\n",
              "      <td>108.034</td>\n",
              "      <td>0.000</td>\n",
              "      <td>0.000</td>\n",
              "      <td>0.000</td>\n",
              "      <td>NaN</td>\n",
              "      <td>39753.244</td>\n",
              "      <td>67886004.0</td>\n",
              "      <td>NaN</td>\n",
              "      <td>0.0</td>\n",
              "      <td>0.0</td>\n",
              "      <td>7334.0</td>\n",
              "      <td>8.0</td>\n",
              "      <td>0.001092</td>\n",
              "      <td>0.001091</td>\n",
              "      <td>0</td>\n",
              "    </tr>\n",
              "  </tbody>\n",
              "</table>\n",
              "<p>254 rows × 18 columns</p>\n",
              "</div>"
            ],
            "text/plain": [
              "             location        date  ...  Fatality_Rate  Lockdown\n",
              "90078  United Kingdom  2020-05-01  ...       0.147992         0\n",
              "90079  United Kingdom  2020-05-02  ...       0.181115         0\n",
              "90080  United Kingdom  2020-05-03  ...       0.084985         0\n",
              "90081  United Kingdom  2020-05-04  ...       0.080698         0\n",
              "90082  United Kingdom  2020-05-05  ...       0.196530         0\n",
              "...               ...         ...  ...            ...       ...\n",
              "90328  United Kingdom  2021-01-06  ...       0.016657         1\n",
              "90329  United Kingdom  2021-01-07  ...       0.022013         1\n",
              "90330  United Kingdom  2021-01-08  ...       0.019548         1\n",
              "90331  United Kingdom  2021-01-09  ...       0.017222         1\n",
              "90486  United Kingdom  2021-06-13  ...       0.001091         0\n",
              "\n",
              "[254 rows x 18 columns]"
            ]
          },
          "metadata": {
            "tags": []
          },
          "execution_count": 40
        }
      ]
    },
    {
      "cell_type": "code",
      "metadata": {
        "colab": {
          "base_uri": "https://localhost:8080/"
        },
        "id": "CUEaFks_UmVz",
        "outputId": "18752a51-d58e-4379-dcdd-3480a541612c"
      },
      "source": [
        "len(dataset_UK)"
      ],
      "execution_count": 41,
      "outputs": [
        {
          "output_type": "execute_result",
          "data": {
            "text/plain": [
              "409"
            ]
          },
          "metadata": {
            "tags": []
          },
          "execution_count": 41
        }
      ]
    },
    {
      "cell_type": "code",
      "metadata": {
        "id": "n4giTsCmUVxf"
      },
      "source": [
        "dataset_UK.dropna(subset = [\"reproduction_rate\"], axis = 0, inplace = True)"
      ],
      "execution_count": 42,
      "outputs": []
    },
    {
      "cell_type": "code",
      "metadata": {
        "colab": {
          "base_uri": "https://localhost:8080/"
        },
        "id": "QVV2aOW5UPm6",
        "outputId": "526a24de-7410-4561-c240-bcf07fc81498"
      },
      "source": [
        "len(dataset_UK)"
      ],
      "execution_count": 43,
      "outputs": [
        {
          "output_type": "execute_result",
          "data": {
            "text/plain": [
              "405"
            ]
          },
          "metadata": {
            "tags": []
          },
          "execution_count": 43
        }
      ]
    },
    {
      "cell_type": "code",
      "metadata": {
        "colab": {
          "base_uri": "https://localhost:8080/"
        },
        "id": "ldlYhfdfUlaq",
        "outputId": "83a3268a-2bc0-4035-e6eb-6de9ac9b020b"
      },
      "source": [
        "dataset_UK[\"reproduction_rate\"].isna().sum()"
      ],
      "execution_count": 44,
      "outputs": [
        {
          "output_type": "execute_result",
          "data": {
            "text/plain": [
              "0"
            ]
          },
          "metadata": {
            "tags": []
          },
          "execution_count": 44
        }
      ]
    },
    {
      "cell_type": "code",
      "metadata": {
        "colab": {
          "base_uri": "https://localhost:8080/"
        },
        "id": "tNaH409EU_v9",
        "outputId": "71fe4936-e621-457f-a517-1b5f4516958c"
      },
      "source": [
        "dataset_UK.isna().sum()"
      ],
      "execution_count": 45,
      "outputs": [
        {
          "output_type": "execute_result",
          "data": {
            "text/plain": [
              "location                                 0\n",
              "date                                     0\n",
              "new_deaths_per_million                   0\n",
              "new_cases_per_million                    0\n",
              "icu_patients_per_million                 0\n",
              "hosp_patients_per_million                0\n",
              "new_tests_per_thousand                   0\n",
              "total_vaccinations_per_hundred         253\n",
              "gdp_per_capita                           0\n",
              "population                               0\n",
              "reproduction_rate                        0\n",
              "people_fully_vaccinated_per_hundred      0\n",
              "people_vaccinated_per_hundred            0\n",
              "new_cases                                0\n",
              "new_deaths                               0\n",
              "Mortality_Rate                           0\n",
              "Fatality_Rate                            0\n",
              "Lockdown                                 0\n",
              "dtype: int64"
            ]
          },
          "metadata": {
            "tags": []
          },
          "execution_count": 45
        }
      ]
    },
    {
      "cell_type": "code",
      "metadata": {
        "id": "gR2ccITvVYMB"
      },
      "source": [
        "dataset_UK[\"total_vaccinations_per_hundred\"] = dataset_UK[\"total_vaccinations_per_hundred\"].fillna(0)"
      ],
      "execution_count": 46,
      "outputs": []
    },
    {
      "cell_type": "code",
      "metadata": {
        "colab": {
          "base_uri": "https://localhost:8080/"
        },
        "id": "7-AhVlwCVj6a",
        "outputId": "a457632d-82f5-4a83-81da-937e64a8c1e2"
      },
      "source": [
        "dataset_UK.isna().sum()"
      ],
      "execution_count": 47,
      "outputs": [
        {
          "output_type": "execute_result",
          "data": {
            "text/plain": [
              "location                               0\n",
              "date                                   0\n",
              "new_deaths_per_million                 0\n",
              "new_cases_per_million                  0\n",
              "icu_patients_per_million               0\n",
              "hosp_patients_per_million              0\n",
              "new_tests_per_thousand                 0\n",
              "total_vaccinations_per_hundred         0\n",
              "gdp_per_capita                         0\n",
              "population                             0\n",
              "reproduction_rate                      0\n",
              "people_fully_vaccinated_per_hundred    0\n",
              "people_vaccinated_per_hundred          0\n",
              "new_cases                              0\n",
              "new_deaths                             0\n",
              "Mortality_Rate                         0\n",
              "Fatality_Rate                          0\n",
              "Lockdown                               0\n",
              "dtype: int64"
            ]
          },
          "metadata": {
            "tags": []
          },
          "execution_count": 47
        }
      ]
    },
    {
      "cell_type": "code",
      "metadata": {
        "colab": {
          "base_uri": "https://localhost:8080/"
        },
        "id": "kKuL0brzV7gW",
        "outputId": "47db3489-4180-46f6-cf88-3b4fd3d80aae"
      },
      "source": [
        "len(dataset_UK)"
      ],
      "execution_count": 48,
      "outputs": [
        {
          "output_type": "execute_result",
          "data": {
            "text/plain": [
              "405"
            ]
          },
          "metadata": {
            "tags": []
          },
          "execution_count": 48
        }
      ]
    },
    {
      "cell_type": "code",
      "metadata": {
        "id": "QNJRhklOV7jD"
      },
      "source": [
        "dataset_UK[\"Variant\"] = \"\"\n",
        "dataset_UK[\"Vaccine\"] = \"\""
      ],
      "execution_count": 49,
      "outputs": []
    },
    {
      "cell_type": "code",
      "metadata": {
        "colab": {
          "base_uri": "https://localhost:8080/"
        },
        "id": "iyF9UdxEWTzd",
        "outputId": "55c58914-b930-4d91-d3ac-e976109dd2bf"
      },
      "source": [
        "dataset_UK.columns"
      ],
      "execution_count": 50,
      "outputs": [
        {
          "output_type": "execute_result",
          "data": {
            "text/plain": [
              "Index(['location', 'date', 'new_deaths_per_million', 'new_cases_per_million',\n",
              "       'icu_patients_per_million', 'hosp_patients_per_million',\n",
              "       'new_tests_per_thousand', 'total_vaccinations_per_hundred',\n",
              "       'gdp_per_capita', 'population', 'reproduction_rate',\n",
              "       'people_fully_vaccinated_per_hundred', 'people_vaccinated_per_hundred',\n",
              "       'new_cases', 'new_deaths', 'Mortality_Rate', 'Fatality_Rate',\n",
              "       'Lockdown', 'Variant', 'Vaccine'],\n",
              "      dtype='object')"
            ]
          },
          "metadata": {
            "tags": []
          },
          "execution_count": 50
        }
      ]
    },
    {
      "cell_type": "code",
      "metadata": {
        "colab": {
          "base_uri": "https://localhost:8080/",
          "height": 590
        },
        "id": "Gi7BzAyPW77t",
        "outputId": "abc6f324-442a-441d-f4ce-21d715d12671"
      },
      "source": [
        "dataset_UK"
      ],
      "execution_count": 51,
      "outputs": [
        {
          "output_type": "execute_result",
          "data": {
            "text/html": [
              "<div>\n",
              "<style scoped>\n",
              "    .dataframe tbody tr th:only-of-type {\n",
              "        vertical-align: middle;\n",
              "    }\n",
              "\n",
              "    .dataframe tbody tr th {\n",
              "        vertical-align: top;\n",
              "    }\n",
              "\n",
              "    .dataframe thead th {\n",
              "        text-align: right;\n",
              "    }\n",
              "</style>\n",
              "<table border=\"1\" class=\"dataframe\">\n",
              "  <thead>\n",
              "    <tr style=\"text-align: right;\">\n",
              "      <th></th>\n",
              "      <th>location</th>\n",
              "      <th>date</th>\n",
              "      <th>new_deaths_per_million</th>\n",
              "      <th>new_cases_per_million</th>\n",
              "      <th>icu_patients_per_million</th>\n",
              "      <th>hosp_patients_per_million</th>\n",
              "      <th>new_tests_per_thousand</th>\n",
              "      <th>total_vaccinations_per_hundred</th>\n",
              "      <th>gdp_per_capita</th>\n",
              "      <th>population</th>\n",
              "      <th>reproduction_rate</th>\n",
              "      <th>people_fully_vaccinated_per_hundred</th>\n",
              "      <th>people_vaccinated_per_hundred</th>\n",
              "      <th>new_cases</th>\n",
              "      <th>new_deaths</th>\n",
              "      <th>Mortality_Rate</th>\n",
              "      <th>Fatality_Rate</th>\n",
              "      <th>Lockdown</th>\n",
              "      <th>Variant</th>\n",
              "      <th>Vaccine</th>\n",
              "    </tr>\n",
              "  </thead>\n",
              "  <tbody>\n",
              "    <tr>\n",
              "      <th>90078</th>\n",
              "      <td>United Kingdom</td>\n",
              "      <td>2020-05-01</td>\n",
              "      <td>10.311</td>\n",
              "      <td>69.676</td>\n",
              "      <td>32.083</td>\n",
              "      <td>216.878</td>\n",
              "      <td>1.092</td>\n",
              "      <td>0.00</td>\n",
              "      <td>39753.244</td>\n",
              "      <td>67886004.0</td>\n",
              "      <td>0.94</td>\n",
              "      <td>0.00</td>\n",
              "      <td>0.00</td>\n",
              "      <td>4730.0</td>\n",
              "      <td>700.0</td>\n",
              "      <td>0.147985</td>\n",
              "      <td>0.147992</td>\n",
              "      <td>0</td>\n",
              "      <td></td>\n",
              "      <td></td>\n",
              "    </tr>\n",
              "    <tr>\n",
              "      <th>90079</th>\n",
              "      <td>United Kingdom</td>\n",
              "      <td>2020-05-02</td>\n",
              "      <td>8.617</td>\n",
              "      <td>47.580</td>\n",
              "      <td>30.463</td>\n",
              "      <td>211.826</td>\n",
              "      <td>0.936</td>\n",
              "      <td>0.00</td>\n",
              "      <td>39753.244</td>\n",
              "      <td>67886004.0</td>\n",
              "      <td>0.90</td>\n",
              "      <td>0.00</td>\n",
              "      <td>0.00</td>\n",
              "      <td>3230.0</td>\n",
              "      <td>585.0</td>\n",
              "      <td>0.181106</td>\n",
              "      <td>0.181115</td>\n",
              "      <td>0</td>\n",
              "      <td></td>\n",
              "      <td></td>\n",
              "    </tr>\n",
              "    <tr>\n",
              "      <th>90080</th>\n",
              "      <td>United Kingdom</td>\n",
              "      <td>2020-05-03</td>\n",
              "      <td>3.727</td>\n",
              "      <td>43.853</td>\n",
              "      <td>29.594</td>\n",
              "      <td>208.997</td>\n",
              "      <td>1.005</td>\n",
              "      <td>0.00</td>\n",
              "      <td>39753.244</td>\n",
              "      <td>67886004.0</td>\n",
              "      <td>0.87</td>\n",
              "      <td>0.00</td>\n",
              "      <td>0.00</td>\n",
              "      <td>2977.0</td>\n",
              "      <td>253.0</td>\n",
              "      <td>0.084988</td>\n",
              "      <td>0.084985</td>\n",
              "      <td>0</td>\n",
              "      <td></td>\n",
              "      <td></td>\n",
              "    </tr>\n",
              "    <tr>\n",
              "      <th>90081</th>\n",
              "      <td>United Kingdom</td>\n",
              "      <td>2020-05-04</td>\n",
              "      <td>4.021</td>\n",
              "      <td>49.834</td>\n",
              "      <td>28.518</td>\n",
              "      <td>207.657</td>\n",
              "      <td>1.070</td>\n",
              "      <td>0.00</td>\n",
              "      <td>39753.244</td>\n",
              "      <td>67886004.0</td>\n",
              "      <td>0.82</td>\n",
              "      <td>0.00</td>\n",
              "      <td>0.00</td>\n",
              "      <td>3383.0</td>\n",
              "      <td>273.0</td>\n",
              "      <td>0.080688</td>\n",
              "      <td>0.080698</td>\n",
              "      <td>0</td>\n",
              "      <td></td>\n",
              "      <td></td>\n",
              "    </tr>\n",
              "    <tr>\n",
              "      <th>90082</th>\n",
              "      <td>United Kingdom</td>\n",
              "      <td>2020-05-05</td>\n",
              "      <td>10.680</td>\n",
              "      <td>54.341</td>\n",
              "      <td>27.605</td>\n",
              "      <td>202.148</td>\n",
              "      <td>0.986</td>\n",
              "      <td>0.00</td>\n",
              "      <td>39753.244</td>\n",
              "      <td>67886004.0</td>\n",
              "      <td>0.81</td>\n",
              "      <td>0.00</td>\n",
              "      <td>0.00</td>\n",
              "      <td>3689.0</td>\n",
              "      <td>725.0</td>\n",
              "      <td>0.196537</td>\n",
              "      <td>0.196530</td>\n",
              "      <td>0</td>\n",
              "      <td></td>\n",
              "      <td></td>\n",
              "    </tr>\n",
              "    <tr>\n",
              "      <th>...</th>\n",
              "      <td>...</td>\n",
              "      <td>...</td>\n",
              "      <td>...</td>\n",
              "      <td>...</td>\n",
              "      <td>...</td>\n",
              "      <td>...</td>\n",
              "      <td>...</td>\n",
              "      <td>...</td>\n",
              "      <td>...</td>\n",
              "      <td>...</td>\n",
              "      <td>...</td>\n",
              "      <td>...</td>\n",
              "      <td>...</td>\n",
              "      <td>...</td>\n",
              "      <td>...</td>\n",
              "      <td>...</td>\n",
              "      <td>...</td>\n",
              "      <td>...</td>\n",
              "      <td>...</td>\n",
              "      <td>...</td>\n",
              "    </tr>\n",
              "    <tr>\n",
              "      <th>90478</th>\n",
              "      <td>United Kingdom</td>\n",
              "      <td>2021-06-05</td>\n",
              "      <td>0.191</td>\n",
              "      <td>83.301</td>\n",
              "      <td>1.989</td>\n",
              "      <td>13.758</td>\n",
              "      <td>7.201</td>\n",
              "      <td>100.16</td>\n",
              "      <td>39753.244</td>\n",
              "      <td>67886004.0</td>\n",
              "      <td>1.48</td>\n",
              "      <td>40.75</td>\n",
              "      <td>59.41</td>\n",
              "      <td>5655.0</td>\n",
              "      <td>13.0</td>\n",
              "      <td>0.002293</td>\n",
              "      <td>0.002299</td>\n",
              "      <td>0</td>\n",
              "      <td></td>\n",
              "      <td></td>\n",
              "    </tr>\n",
              "    <tr>\n",
              "      <th>90479</th>\n",
              "      <td>United Kingdom</td>\n",
              "      <td>2021-06-06</td>\n",
              "      <td>0.059</td>\n",
              "      <td>76.967</td>\n",
              "      <td>2.136</td>\n",
              "      <td>14.141</td>\n",
              "      <td>18.296</td>\n",
              "      <td>100.73</td>\n",
              "      <td>39753.244</td>\n",
              "      <td>67886004.0</td>\n",
              "      <td>1.48</td>\n",
              "      <td>41.13</td>\n",
              "      <td>59.60</td>\n",
              "      <td>5225.0</td>\n",
              "      <td>4.0</td>\n",
              "      <td>0.000767</td>\n",
              "      <td>0.000766</td>\n",
              "      <td>0</td>\n",
              "      <td></td>\n",
              "      <td></td>\n",
              "    </tr>\n",
              "    <tr>\n",
              "      <th>90480</th>\n",
              "      <td>United Kingdom</td>\n",
              "      <td>2021-06-07</td>\n",
              "      <td>0.015</td>\n",
              "      <td>82.447</td>\n",
              "      <td>2.180</td>\n",
              "      <td>15.172</td>\n",
              "      <td>13.676</td>\n",
              "      <td>101.35</td>\n",
              "      <td>39753.244</td>\n",
              "      <td>67886004.0</td>\n",
              "      <td>1.48</td>\n",
              "      <td>41.58</td>\n",
              "      <td>59.77</td>\n",
              "      <td>5597.0</td>\n",
              "      <td>1.0</td>\n",
              "      <td>0.000182</td>\n",
              "      <td>0.000179</td>\n",
              "      <td>0</td>\n",
              "      <td></td>\n",
              "      <td></td>\n",
              "    </tr>\n",
              "    <tr>\n",
              "      <th>90481</th>\n",
              "      <td>United Kingdom</td>\n",
              "      <td>2021-06-08</td>\n",
              "      <td>0.206</td>\n",
              "      <td>87.986</td>\n",
              "      <td>2.269</td>\n",
              "      <td>15.482</td>\n",
              "      <td>10.713</td>\n",
              "      <td>102.01</td>\n",
              "      <td>39753.244</td>\n",
              "      <td>67886004.0</td>\n",
              "      <td>1.48</td>\n",
              "      <td>42.04</td>\n",
              "      <td>59.97</td>\n",
              "      <td>5973.0</td>\n",
              "      <td>14.0</td>\n",
              "      <td>0.002341</td>\n",
              "      <td>0.002344</td>\n",
              "      <td>0</td>\n",
              "      <td></td>\n",
              "      <td></td>\n",
              "    </tr>\n",
              "    <tr>\n",
              "      <th>90482</th>\n",
              "      <td>United Kingdom</td>\n",
              "      <td>2021-06-09</td>\n",
              "      <td>0.088</td>\n",
              "      <td>107.857</td>\n",
              "      <td>2.342</td>\n",
              "      <td>15.585</td>\n",
              "      <td>15.997</td>\n",
              "      <td>102.74</td>\n",
              "      <td>39753.244</td>\n",
              "      <td>67886004.0</td>\n",
              "      <td>1.48</td>\n",
              "      <td>42.51</td>\n",
              "      <td>60.23</td>\n",
              "      <td>7322.0</td>\n",
              "      <td>6.0</td>\n",
              "      <td>0.000816</td>\n",
              "      <td>0.000819</td>\n",
              "      <td>0</td>\n",
              "      <td></td>\n",
              "      <td></td>\n",
              "    </tr>\n",
              "  </tbody>\n",
              "</table>\n",
              "<p>405 rows × 20 columns</p>\n",
              "</div>"
            ],
            "text/plain": [
              "             location        date  ...  Variant  Vaccine\n",
              "90078  United Kingdom  2020-05-01  ...                  \n",
              "90079  United Kingdom  2020-05-02  ...                  \n",
              "90080  United Kingdom  2020-05-03  ...                  \n",
              "90081  United Kingdom  2020-05-04  ...                  \n",
              "90082  United Kingdom  2020-05-05  ...                  \n",
              "...               ...         ...  ...      ...      ...\n",
              "90478  United Kingdom  2021-06-05  ...                  \n",
              "90479  United Kingdom  2021-06-06  ...                  \n",
              "90480  United Kingdom  2021-06-07  ...                  \n",
              "90481  United Kingdom  2021-06-08  ...                  \n",
              "90482  United Kingdom  2021-06-09  ...                  \n",
              "\n",
              "[405 rows x 20 columns]"
            ]
          },
          "metadata": {
            "tags": []
          },
          "execution_count": 51
        }
      ]
    },
    {
      "cell_type": "code",
      "metadata": {
        "id": "8FHcjMf9XVUc"
      },
      "source": [
        "alpha = (dataset_UK[\"date\"] >= \"2020-09-15\") & (dataset_UK[\"date\"] <= \"2021-05-13\")\n",
        "delta = (dataset_UK[\"date\"] > \"2021-05-13\") & (dataset_UK[\"date\"] <= \"2021-06-09\")"
      ],
      "execution_count": 52,
      "outputs": []
    },
    {
      "cell_type": "code",
      "metadata": {
        "id": "F-0XKufPX_SA"
      },
      "source": [
        "dataset_UK[\"Variant\"][alpha] = \"Alpha\"\n",
        "dataset_UK[\"Variant\"][delta] = \"Delta\""
      ],
      "execution_count": 53,
      "outputs": []
    },
    {
      "cell_type": "code",
      "metadata": {
        "colab": {
          "base_uri": "https://localhost:8080/"
        },
        "id": "qDnXYgVGYRq8",
        "outputId": "e200c65b-6d9d-4b70-f3e7-fe2fb2bbdc56"
      },
      "source": [
        "dataset_UK[\"Variant\"].unique()"
      ],
      "execution_count": 54,
      "outputs": [
        {
          "output_type": "execute_result",
          "data": {
            "text/plain": [
              "array(['', 'Alpha', 'Delta'], dtype=object)"
            ]
          },
          "metadata": {
            "tags": []
          },
          "execution_count": 54
        }
      ]
    },
    {
      "cell_type": "code",
      "metadata": {
        "id": "VgDwl7txYR7H"
      },
      "source": [
        "dataset_UK[\"Variant\"] = dataset_UK[\"Variant\"].replace([''], \"First\")"
      ],
      "execution_count": 55,
      "outputs": []
    },
    {
      "cell_type": "code",
      "metadata": {
        "colab": {
          "base_uri": "https://localhost:8080/"
        },
        "id": "M3LZ6zZyYbdG",
        "outputId": "8722b603-d57a-4525-88a0-caf4ce4d1333"
      },
      "source": [
        "dataset_UK[\"Variant\"].unique()"
      ],
      "execution_count": 56,
      "outputs": [
        {
          "output_type": "execute_result",
          "data": {
            "text/plain": [
              "array(['First', 'Alpha', 'Delta'], dtype=object)"
            ]
          },
          "metadata": {
            "tags": []
          },
          "execution_count": 56
        }
      ]
    },
    {
      "cell_type": "code",
      "metadata": {
        "colab": {
          "base_uri": "https://localhost:8080/",
          "height": 590
        },
        "id": "P_mZbJnsZ49h",
        "outputId": "6e18ce8e-d6b7-42cd-b45b-74be934b64fe"
      },
      "source": [
        "dataset_UK[dataset_UK[\"total_vaccinations_per_hundred\"] == 0]"
      ],
      "execution_count": 57,
      "outputs": [
        {
          "output_type": "execute_result",
          "data": {
            "text/html": [
              "<div>\n",
              "<style scoped>\n",
              "    .dataframe tbody tr th:only-of-type {\n",
              "        vertical-align: middle;\n",
              "    }\n",
              "\n",
              "    .dataframe tbody tr th {\n",
              "        vertical-align: top;\n",
              "    }\n",
              "\n",
              "    .dataframe thead th {\n",
              "        text-align: right;\n",
              "    }\n",
              "</style>\n",
              "<table border=\"1\" class=\"dataframe\">\n",
              "  <thead>\n",
              "    <tr style=\"text-align: right;\">\n",
              "      <th></th>\n",
              "      <th>location</th>\n",
              "      <th>date</th>\n",
              "      <th>new_deaths_per_million</th>\n",
              "      <th>new_cases_per_million</th>\n",
              "      <th>icu_patients_per_million</th>\n",
              "      <th>hosp_patients_per_million</th>\n",
              "      <th>new_tests_per_thousand</th>\n",
              "      <th>total_vaccinations_per_hundred</th>\n",
              "      <th>gdp_per_capita</th>\n",
              "      <th>population</th>\n",
              "      <th>reproduction_rate</th>\n",
              "      <th>people_fully_vaccinated_per_hundred</th>\n",
              "      <th>people_vaccinated_per_hundred</th>\n",
              "      <th>new_cases</th>\n",
              "      <th>new_deaths</th>\n",
              "      <th>Mortality_Rate</th>\n",
              "      <th>Fatality_Rate</th>\n",
              "      <th>Lockdown</th>\n",
              "      <th>Variant</th>\n",
              "      <th>Vaccine</th>\n",
              "    </tr>\n",
              "  </thead>\n",
              "  <tbody>\n",
              "    <tr>\n",
              "      <th>90078</th>\n",
              "      <td>United Kingdom</td>\n",
              "      <td>2020-05-01</td>\n",
              "      <td>10.311</td>\n",
              "      <td>69.676</td>\n",
              "      <td>32.083</td>\n",
              "      <td>216.878</td>\n",
              "      <td>1.092</td>\n",
              "      <td>0.0</td>\n",
              "      <td>39753.244</td>\n",
              "      <td>67886004.0</td>\n",
              "      <td>0.94</td>\n",
              "      <td>0.0</td>\n",
              "      <td>0.0</td>\n",
              "      <td>4730.0</td>\n",
              "      <td>700.0</td>\n",
              "      <td>0.147985</td>\n",
              "      <td>0.147992</td>\n",
              "      <td>0</td>\n",
              "      <td>First</td>\n",
              "      <td></td>\n",
              "    </tr>\n",
              "    <tr>\n",
              "      <th>90079</th>\n",
              "      <td>United Kingdom</td>\n",
              "      <td>2020-05-02</td>\n",
              "      <td>8.617</td>\n",
              "      <td>47.580</td>\n",
              "      <td>30.463</td>\n",
              "      <td>211.826</td>\n",
              "      <td>0.936</td>\n",
              "      <td>0.0</td>\n",
              "      <td>39753.244</td>\n",
              "      <td>67886004.0</td>\n",
              "      <td>0.90</td>\n",
              "      <td>0.0</td>\n",
              "      <td>0.0</td>\n",
              "      <td>3230.0</td>\n",
              "      <td>585.0</td>\n",
              "      <td>0.181106</td>\n",
              "      <td>0.181115</td>\n",
              "      <td>0</td>\n",
              "      <td>First</td>\n",
              "      <td></td>\n",
              "    </tr>\n",
              "    <tr>\n",
              "      <th>90080</th>\n",
              "      <td>United Kingdom</td>\n",
              "      <td>2020-05-03</td>\n",
              "      <td>3.727</td>\n",
              "      <td>43.853</td>\n",
              "      <td>29.594</td>\n",
              "      <td>208.997</td>\n",
              "      <td>1.005</td>\n",
              "      <td>0.0</td>\n",
              "      <td>39753.244</td>\n",
              "      <td>67886004.0</td>\n",
              "      <td>0.87</td>\n",
              "      <td>0.0</td>\n",
              "      <td>0.0</td>\n",
              "      <td>2977.0</td>\n",
              "      <td>253.0</td>\n",
              "      <td>0.084988</td>\n",
              "      <td>0.084985</td>\n",
              "      <td>0</td>\n",
              "      <td>First</td>\n",
              "      <td></td>\n",
              "    </tr>\n",
              "    <tr>\n",
              "      <th>90081</th>\n",
              "      <td>United Kingdom</td>\n",
              "      <td>2020-05-04</td>\n",
              "      <td>4.021</td>\n",
              "      <td>49.834</td>\n",
              "      <td>28.518</td>\n",
              "      <td>207.657</td>\n",
              "      <td>1.070</td>\n",
              "      <td>0.0</td>\n",
              "      <td>39753.244</td>\n",
              "      <td>67886004.0</td>\n",
              "      <td>0.82</td>\n",
              "      <td>0.0</td>\n",
              "      <td>0.0</td>\n",
              "      <td>3383.0</td>\n",
              "      <td>273.0</td>\n",
              "      <td>0.080688</td>\n",
              "      <td>0.080698</td>\n",
              "      <td>0</td>\n",
              "      <td>First</td>\n",
              "      <td></td>\n",
              "    </tr>\n",
              "    <tr>\n",
              "      <th>90082</th>\n",
              "      <td>United Kingdom</td>\n",
              "      <td>2020-05-05</td>\n",
              "      <td>10.680</td>\n",
              "      <td>54.341</td>\n",
              "      <td>27.605</td>\n",
              "      <td>202.148</td>\n",
              "      <td>0.986</td>\n",
              "      <td>0.0</td>\n",
              "      <td>39753.244</td>\n",
              "      <td>67886004.0</td>\n",
              "      <td>0.81</td>\n",
              "      <td>0.0</td>\n",
              "      <td>0.0</td>\n",
              "      <td>3689.0</td>\n",
              "      <td>725.0</td>\n",
              "      <td>0.196537</td>\n",
              "      <td>0.196530</td>\n",
              "      <td>0</td>\n",
              "      <td>First</td>\n",
              "      <td></td>\n",
              "    </tr>\n",
              "    <tr>\n",
              "      <th>...</th>\n",
              "      <td>...</td>\n",
              "      <td>...</td>\n",
              "      <td>...</td>\n",
              "      <td>...</td>\n",
              "      <td>...</td>\n",
              "      <td>...</td>\n",
              "      <td>...</td>\n",
              "      <td>...</td>\n",
              "      <td>...</td>\n",
              "      <td>...</td>\n",
              "      <td>...</td>\n",
              "      <td>...</td>\n",
              "      <td>...</td>\n",
              "      <td>...</td>\n",
              "      <td>...</td>\n",
              "      <td>...</td>\n",
              "      <td>...</td>\n",
              "      <td>...</td>\n",
              "      <td>...</td>\n",
              "      <td>...</td>\n",
              "    </tr>\n",
              "    <tr>\n",
              "      <th>90327</th>\n",
              "      <td>United Kingdom</td>\n",
              "      <td>2021-01-05</td>\n",
              "      <td>12.978</td>\n",
              "      <td>899.847</td>\n",
              "      <td>38.962</td>\n",
              "      <td>451.964</td>\n",
              "      <td>7.345</td>\n",
              "      <td>0.0</td>\n",
              "      <td>39753.244</td>\n",
              "      <td>67886004.0</td>\n",
              "      <td>1.24</td>\n",
              "      <td>0.0</td>\n",
              "      <td>0.0</td>\n",
              "      <td>61087.0</td>\n",
              "      <td>881.0</td>\n",
              "      <td>0.014422</td>\n",
              "      <td>0.014422</td>\n",
              "      <td>1</td>\n",
              "      <td>Alpha</td>\n",
              "      <td></td>\n",
              "    </tr>\n",
              "    <tr>\n",
              "      <th>90328</th>\n",
              "      <td>United Kingdom</td>\n",
              "      <td>2021-01-06</td>\n",
              "      <td>15.349</td>\n",
              "      <td>921.486</td>\n",
              "      <td>41.555</td>\n",
              "      <td>470.524</td>\n",
              "      <td>8.211</td>\n",
              "      <td>0.0</td>\n",
              "      <td>39753.244</td>\n",
              "      <td>67886004.0</td>\n",
              "      <td>1.19</td>\n",
              "      <td>0.0</td>\n",
              "      <td>0.0</td>\n",
              "      <td>62556.0</td>\n",
              "      <td>1042.0</td>\n",
              "      <td>0.016657</td>\n",
              "      <td>0.016657</td>\n",
              "      <td>1</td>\n",
              "      <td>Alpha</td>\n",
              "      <td></td>\n",
              "    </tr>\n",
              "    <tr>\n",
              "      <th>90329</th>\n",
              "      <td>United Kingdom</td>\n",
              "      <td>2021-01-07</td>\n",
              "      <td>17.117</td>\n",
              "      <td>777.583</td>\n",
              "      <td>43.146</td>\n",
              "      <td>479.907</td>\n",
              "      <td>9.132</td>\n",
              "      <td>0.0</td>\n",
              "      <td>39753.244</td>\n",
              "      <td>67886004.0</td>\n",
              "      <td>1.14</td>\n",
              "      <td>0.0</td>\n",
              "      <td>0.0</td>\n",
              "      <td>52787.0</td>\n",
              "      <td>1162.0</td>\n",
              "      <td>0.022013</td>\n",
              "      <td>0.022013</td>\n",
              "      <td>1</td>\n",
              "      <td>Alpha</td>\n",
              "      <td></td>\n",
              "    </tr>\n",
              "    <tr>\n",
              "      <th>90330</th>\n",
              "      <td>United Kingdom</td>\n",
              "      <td>2021-01-08</td>\n",
              "      <td>19.636</td>\n",
              "      <td>1004.507</td>\n",
              "      <td>45.635</td>\n",
              "      <td>497.511</td>\n",
              "      <td>10.020</td>\n",
              "      <td>0.0</td>\n",
              "      <td>39753.244</td>\n",
              "      <td>67886004.0</td>\n",
              "      <td>1.12</td>\n",
              "      <td>0.0</td>\n",
              "      <td>0.0</td>\n",
              "      <td>68192.0</td>\n",
              "      <td>1333.0</td>\n",
              "      <td>0.019548</td>\n",
              "      <td>0.019548</td>\n",
              "      <td>1</td>\n",
              "      <td>Alpha</td>\n",
              "      <td></td>\n",
              "    </tr>\n",
              "    <tr>\n",
              "      <th>90331</th>\n",
              "      <td>United Kingdom</td>\n",
              "      <td>2021-01-09</td>\n",
              "      <td>15.246</td>\n",
              "      <td>885.278</td>\n",
              "      <td>46.328</td>\n",
              "      <td>501.252</td>\n",
              "      <td>8.357</td>\n",
              "      <td>0.0</td>\n",
              "      <td>39753.244</td>\n",
              "      <td>67886004.0</td>\n",
              "      <td>1.09</td>\n",
              "      <td>0.0</td>\n",
              "      <td>0.0</td>\n",
              "      <td>60098.0</td>\n",
              "      <td>1035.0</td>\n",
              "      <td>0.017222</td>\n",
              "      <td>0.017222</td>\n",
              "      <td>1</td>\n",
              "      <td>Alpha</td>\n",
              "      <td></td>\n",
              "    </tr>\n",
              "  </tbody>\n",
              "</table>\n",
              "<p>253 rows × 20 columns</p>\n",
              "</div>"
            ],
            "text/plain": [
              "             location        date  ...  Variant  Vaccine\n",
              "90078  United Kingdom  2020-05-01  ...    First         \n",
              "90079  United Kingdom  2020-05-02  ...    First         \n",
              "90080  United Kingdom  2020-05-03  ...    First         \n",
              "90081  United Kingdom  2020-05-04  ...    First         \n",
              "90082  United Kingdom  2020-05-05  ...    First         \n",
              "...               ...         ...  ...      ...      ...\n",
              "90327  United Kingdom  2021-01-05  ...    Alpha         \n",
              "90328  United Kingdom  2021-01-06  ...    Alpha         \n",
              "90329  United Kingdom  2021-01-07  ...    Alpha         \n",
              "90330  United Kingdom  2021-01-08  ...    Alpha         \n",
              "90331  United Kingdom  2021-01-09  ...    Alpha         \n",
              "\n",
              "[253 rows x 20 columns]"
            ]
          },
          "metadata": {
            "tags": []
          },
          "execution_count": 57
        }
      ]
    },
    {
      "cell_type": "code",
      "metadata": {
        "id": "LrVCPpYVxQTM"
      },
      "source": [
        "no_vaccine = (dataset_UK[\"date\"] >= \"2020-05-01\") & (dataset_UK[\"date\"] <= \"2021-01-09\")\n",
        "astra_zeneca = (dataset_UK[\"date\"] > \"2021-01-09\") & (dataset_UK[\"date\"] <= \"2021-06-09\")"
      ],
      "execution_count": 58,
      "outputs": []
    },
    {
      "cell_type": "code",
      "metadata": {
        "id": "zmaRGJrAx1N6"
      },
      "source": [
        "dataset_UK[\"Vaccine\"][no_vaccine] = \"No Vaccine\"\n",
        "dataset_UK[\"Vaccine\"][astra_zeneca] = \"Astra Zeneca\""
      ],
      "execution_count": 59,
      "outputs": []
    },
    {
      "cell_type": "code",
      "metadata": {
        "colab": {
          "base_uri": "https://localhost:8080/"
        },
        "id": "mLIegQIlyKQK",
        "outputId": "b8a6004f-588f-48ab-80ce-5d0d0d768108"
      },
      "source": [
        "dataset_UK[\"Vaccine\"].unique()"
      ],
      "execution_count": 60,
      "outputs": [
        {
          "output_type": "execute_result",
          "data": {
            "text/plain": [
              "array(['No Vaccine', 'Astra Zeneca'], dtype=object)"
            ]
          },
          "metadata": {
            "tags": []
          },
          "execution_count": 60
        }
      ]
    },
    {
      "cell_type": "code",
      "metadata": {
        "colab": {
          "base_uri": "https://localhost:8080/",
          "height": 590
        },
        "id": "DpghJtncyNLp",
        "outputId": "5fb27d97-b275-4c12-a1b8-2084e27031c3"
      },
      "source": [
        "dataset_UK[dataset_UK[\"Vaccine\"] == \"Astra Zeneca\"]"
      ],
      "execution_count": 61,
      "outputs": [
        {
          "output_type": "execute_result",
          "data": {
            "text/html": [
              "<div>\n",
              "<style scoped>\n",
              "    .dataframe tbody tr th:only-of-type {\n",
              "        vertical-align: middle;\n",
              "    }\n",
              "\n",
              "    .dataframe tbody tr th {\n",
              "        vertical-align: top;\n",
              "    }\n",
              "\n",
              "    .dataframe thead th {\n",
              "        text-align: right;\n",
              "    }\n",
              "</style>\n",
              "<table border=\"1\" class=\"dataframe\">\n",
              "  <thead>\n",
              "    <tr style=\"text-align: right;\">\n",
              "      <th></th>\n",
              "      <th>location</th>\n",
              "      <th>date</th>\n",
              "      <th>new_deaths_per_million</th>\n",
              "      <th>new_cases_per_million</th>\n",
              "      <th>icu_patients_per_million</th>\n",
              "      <th>hosp_patients_per_million</th>\n",
              "      <th>new_tests_per_thousand</th>\n",
              "      <th>total_vaccinations_per_hundred</th>\n",
              "      <th>gdp_per_capita</th>\n",
              "      <th>population</th>\n",
              "      <th>reproduction_rate</th>\n",
              "      <th>people_fully_vaccinated_per_hundred</th>\n",
              "      <th>people_vaccinated_per_hundred</th>\n",
              "      <th>new_cases</th>\n",
              "      <th>new_deaths</th>\n",
              "      <th>Mortality_Rate</th>\n",
              "      <th>Fatality_Rate</th>\n",
              "      <th>Lockdown</th>\n",
              "      <th>Variant</th>\n",
              "      <th>Vaccine</th>\n",
              "    </tr>\n",
              "  </thead>\n",
              "  <tbody>\n",
              "    <tr>\n",
              "      <th>90332</th>\n",
              "      <td>United Kingdom</td>\n",
              "      <td>2021-01-10</td>\n",
              "      <td>8.352</td>\n",
              "      <td>810.565</td>\n",
              "      <td>48.081</td>\n",
              "      <td>521.271</td>\n",
              "      <td>7.157</td>\n",
              "      <td>3.94</td>\n",
              "      <td>39753.244</td>\n",
              "      <td>67886004.0</td>\n",
              "      <td>1.04</td>\n",
              "      <td>0.58</td>\n",
              "      <td>3.37</td>\n",
              "      <td>55026.0</td>\n",
              "      <td>567.0</td>\n",
              "      <td>0.010304</td>\n",
              "      <td>0.010304</td>\n",
              "      <td>1</td>\n",
              "      <td>Alpha</td>\n",
              "      <td>Astra Zeneca</td>\n",
              "    </tr>\n",
              "    <tr>\n",
              "      <th>90333</th>\n",
              "      <td>United Kingdom</td>\n",
              "      <td>2021-01-11</td>\n",
              "      <td>7.792</td>\n",
              "      <td>681.657</td>\n",
              "      <td>49.539</td>\n",
              "      <td>541.319</td>\n",
              "      <td>7.910</td>\n",
              "      <td>4.19</td>\n",
              "      <td>39753.244</td>\n",
              "      <td>67886004.0</td>\n",
              "      <td>0.98</td>\n",
              "      <td>0.61</td>\n",
              "      <td>3.58</td>\n",
              "      <td>46275.0</td>\n",
              "      <td>529.0</td>\n",
              "      <td>0.011431</td>\n",
              "      <td>0.011432</td>\n",
              "      <td>1</td>\n",
              "      <td>Alpha</td>\n",
              "      <td>Astra Zeneca</td>\n",
              "    </tr>\n",
              "    <tr>\n",
              "      <th>90334</th>\n",
              "      <td>United Kingdom</td>\n",
              "      <td>2021-01-12</td>\n",
              "      <td>18.354</td>\n",
              "      <td>672.421</td>\n",
              "      <td>51.498</td>\n",
              "      <td>544.693</td>\n",
              "      <td>8.614</td>\n",
              "      <td>4.52</td>\n",
              "      <td>39753.244</td>\n",
              "      <td>67886004.0</td>\n",
              "      <td>0.94</td>\n",
              "      <td>0.63</td>\n",
              "      <td>3.89</td>\n",
              "      <td>45648.0</td>\n",
              "      <td>1246.0</td>\n",
              "      <td>0.027295</td>\n",
              "      <td>0.027296</td>\n",
              "      <td>1</td>\n",
              "      <td>Alpha</td>\n",
              "      <td>Astra Zeneca</td>\n",
              "    </tr>\n",
              "    <tr>\n",
              "      <th>90335</th>\n",
              "      <td>United Kingdom</td>\n",
              "      <td>2021-01-13</td>\n",
              "      <td>23.098</td>\n",
              "      <td>702.089</td>\n",
              "      <td>53.413</td>\n",
              "      <td>552.146</td>\n",
              "      <td>9.259</td>\n",
              "      <td>4.94</td>\n",
              "      <td>39753.244</td>\n",
              "      <td>67886004.0</td>\n",
              "      <td>0.91</td>\n",
              "      <td>0.65</td>\n",
              "      <td>4.30</td>\n",
              "      <td>47662.0</td>\n",
              "      <td>1568.0</td>\n",
              "      <td>0.032899</td>\n",
              "      <td>0.032898</td>\n",
              "      <td>1</td>\n",
              "      <td>Alpha</td>\n",
              "      <td>Astra Zeneca</td>\n",
              "    </tr>\n",
              "    <tr>\n",
              "      <th>90336</th>\n",
              "      <td>United Kingdom</td>\n",
              "      <td>2021-01-14</td>\n",
              "      <td>18.457</td>\n",
              "      <td>718.911</td>\n",
              "      <td>54.091</td>\n",
              "      <td>555.137</td>\n",
              "      <td>10.240</td>\n",
              "      <td>5.42</td>\n",
              "      <td>39753.244</td>\n",
              "      <td>67886004.0</td>\n",
              "      <td>0.90</td>\n",
              "      <td>0.65</td>\n",
              "      <td>4.77</td>\n",
              "      <td>48804.0</td>\n",
              "      <td>1253.0</td>\n",
              "      <td>0.025674</td>\n",
              "      <td>0.025674</td>\n",
              "      <td>1</td>\n",
              "      <td>Alpha</td>\n",
              "      <td>Astra Zeneca</td>\n",
              "    </tr>\n",
              "    <tr>\n",
              "      <th>...</th>\n",
              "      <td>...</td>\n",
              "      <td>...</td>\n",
              "      <td>...</td>\n",
              "      <td>...</td>\n",
              "      <td>...</td>\n",
              "      <td>...</td>\n",
              "      <td>...</td>\n",
              "      <td>...</td>\n",
              "      <td>...</td>\n",
              "      <td>...</td>\n",
              "      <td>...</td>\n",
              "      <td>...</td>\n",
              "      <td>...</td>\n",
              "      <td>...</td>\n",
              "      <td>...</td>\n",
              "      <td>...</td>\n",
              "      <td>...</td>\n",
              "      <td>...</td>\n",
              "      <td>...</td>\n",
              "      <td>...</td>\n",
              "    </tr>\n",
              "    <tr>\n",
              "      <th>90478</th>\n",
              "      <td>United Kingdom</td>\n",
              "      <td>2021-06-05</td>\n",
              "      <td>0.191</td>\n",
              "      <td>83.301</td>\n",
              "      <td>1.989</td>\n",
              "      <td>13.758</td>\n",
              "      <td>7.201</td>\n",
              "      <td>100.16</td>\n",
              "      <td>39753.244</td>\n",
              "      <td>67886004.0</td>\n",
              "      <td>1.48</td>\n",
              "      <td>40.75</td>\n",
              "      <td>59.41</td>\n",
              "      <td>5655.0</td>\n",
              "      <td>13.0</td>\n",
              "      <td>0.002293</td>\n",
              "      <td>0.002299</td>\n",
              "      <td>0</td>\n",
              "      <td>Delta</td>\n",
              "      <td>Astra Zeneca</td>\n",
              "    </tr>\n",
              "    <tr>\n",
              "      <th>90479</th>\n",
              "      <td>United Kingdom</td>\n",
              "      <td>2021-06-06</td>\n",
              "      <td>0.059</td>\n",
              "      <td>76.967</td>\n",
              "      <td>2.136</td>\n",
              "      <td>14.141</td>\n",
              "      <td>18.296</td>\n",
              "      <td>100.73</td>\n",
              "      <td>39753.244</td>\n",
              "      <td>67886004.0</td>\n",
              "      <td>1.48</td>\n",
              "      <td>41.13</td>\n",
              "      <td>59.60</td>\n",
              "      <td>5225.0</td>\n",
              "      <td>4.0</td>\n",
              "      <td>0.000767</td>\n",
              "      <td>0.000766</td>\n",
              "      <td>0</td>\n",
              "      <td>Delta</td>\n",
              "      <td>Astra Zeneca</td>\n",
              "    </tr>\n",
              "    <tr>\n",
              "      <th>90480</th>\n",
              "      <td>United Kingdom</td>\n",
              "      <td>2021-06-07</td>\n",
              "      <td>0.015</td>\n",
              "      <td>82.447</td>\n",
              "      <td>2.180</td>\n",
              "      <td>15.172</td>\n",
              "      <td>13.676</td>\n",
              "      <td>101.35</td>\n",
              "      <td>39753.244</td>\n",
              "      <td>67886004.0</td>\n",
              "      <td>1.48</td>\n",
              "      <td>41.58</td>\n",
              "      <td>59.77</td>\n",
              "      <td>5597.0</td>\n",
              "      <td>1.0</td>\n",
              "      <td>0.000182</td>\n",
              "      <td>0.000179</td>\n",
              "      <td>0</td>\n",
              "      <td>Delta</td>\n",
              "      <td>Astra Zeneca</td>\n",
              "    </tr>\n",
              "    <tr>\n",
              "      <th>90481</th>\n",
              "      <td>United Kingdom</td>\n",
              "      <td>2021-06-08</td>\n",
              "      <td>0.206</td>\n",
              "      <td>87.986</td>\n",
              "      <td>2.269</td>\n",
              "      <td>15.482</td>\n",
              "      <td>10.713</td>\n",
              "      <td>102.01</td>\n",
              "      <td>39753.244</td>\n",
              "      <td>67886004.0</td>\n",
              "      <td>1.48</td>\n",
              "      <td>42.04</td>\n",
              "      <td>59.97</td>\n",
              "      <td>5973.0</td>\n",
              "      <td>14.0</td>\n",
              "      <td>0.002341</td>\n",
              "      <td>0.002344</td>\n",
              "      <td>0</td>\n",
              "      <td>Delta</td>\n",
              "      <td>Astra Zeneca</td>\n",
              "    </tr>\n",
              "    <tr>\n",
              "      <th>90482</th>\n",
              "      <td>United Kingdom</td>\n",
              "      <td>2021-06-09</td>\n",
              "      <td>0.088</td>\n",
              "      <td>107.857</td>\n",
              "      <td>2.342</td>\n",
              "      <td>15.585</td>\n",
              "      <td>15.997</td>\n",
              "      <td>102.74</td>\n",
              "      <td>39753.244</td>\n",
              "      <td>67886004.0</td>\n",
              "      <td>1.48</td>\n",
              "      <td>42.51</td>\n",
              "      <td>60.23</td>\n",
              "      <td>7322.0</td>\n",
              "      <td>6.0</td>\n",
              "      <td>0.000816</td>\n",
              "      <td>0.000819</td>\n",
              "      <td>0</td>\n",
              "      <td>Delta</td>\n",
              "      <td>Astra Zeneca</td>\n",
              "    </tr>\n",
              "  </tbody>\n",
              "</table>\n",
              "<p>151 rows × 20 columns</p>\n",
              "</div>"
            ],
            "text/plain": [
              "             location        date  ...  Variant       Vaccine\n",
              "90332  United Kingdom  2021-01-10  ...    Alpha  Astra Zeneca\n",
              "90333  United Kingdom  2021-01-11  ...    Alpha  Astra Zeneca\n",
              "90334  United Kingdom  2021-01-12  ...    Alpha  Astra Zeneca\n",
              "90335  United Kingdom  2021-01-13  ...    Alpha  Astra Zeneca\n",
              "90336  United Kingdom  2021-01-14  ...    Alpha  Astra Zeneca\n",
              "...               ...         ...  ...      ...           ...\n",
              "90478  United Kingdom  2021-06-05  ...    Delta  Astra Zeneca\n",
              "90479  United Kingdom  2021-06-06  ...    Delta  Astra Zeneca\n",
              "90480  United Kingdom  2021-06-07  ...    Delta  Astra Zeneca\n",
              "90481  United Kingdom  2021-06-08  ...    Delta  Astra Zeneca\n",
              "90482  United Kingdom  2021-06-09  ...    Delta  Astra Zeneca\n",
              "\n",
              "[151 rows x 20 columns]"
            ]
          },
          "metadata": {
            "tags": []
          },
          "execution_count": 61
        }
      ]
    },
    {
      "cell_type": "code",
      "metadata": {
        "colab": {
          "base_uri": "https://localhost:8080/"
        },
        "id": "v1_4b5_fyOxe",
        "outputId": "5235734d-bc36-4cfa-eaff-f40c5f318895"
      },
      "source": [
        "dataset_UK.isna().sum()"
      ],
      "execution_count": 62,
      "outputs": [
        {
          "output_type": "execute_result",
          "data": {
            "text/plain": [
              "location                               0\n",
              "date                                   0\n",
              "new_deaths_per_million                 0\n",
              "new_cases_per_million                  0\n",
              "icu_patients_per_million               0\n",
              "hosp_patients_per_million              0\n",
              "new_tests_per_thousand                 0\n",
              "total_vaccinations_per_hundred         0\n",
              "gdp_per_capita                         0\n",
              "population                             0\n",
              "reproduction_rate                      0\n",
              "people_fully_vaccinated_per_hundred    0\n",
              "people_vaccinated_per_hundred          0\n",
              "new_cases                              0\n",
              "new_deaths                             0\n",
              "Mortality_Rate                         0\n",
              "Fatality_Rate                          0\n",
              "Lockdown                               0\n",
              "Variant                                0\n",
              "Vaccine                                0\n",
              "dtype: int64"
            ]
          },
          "metadata": {
            "tags": []
          },
          "execution_count": 62
        }
      ]
    },
    {
      "cell_type": "code",
      "metadata": {
        "colab": {
          "base_uri": "https://localhost:8080/",
          "height": 542
        },
        "id": "Cla1vAiEylNd",
        "outputId": "97d531bb-0cd5-4571-933f-ad779cfd53ff"
      },
      "source": [
        "fig = px.line(dataset_UK,  dataset_UK[\"date\"], dataset_UK[\"new_deaths_per_million\"], title = \"New Deaths\", color = dataset_UK[\"Variant\"]) #hover_data = [\"new_deaths\", \"population\", \"total_cases\", \"new_cases\"])\n",
        "fig.update_traces(mode = \"markers + lines\", hovertemplate = None)\n",
        "fig.update_layout(hovermode = \"x unified\")\n",
        "fig.show()"
      ],
      "execution_count": 63,
      "outputs": [
        {
          "output_type": "display_data",
          "data": {
            "text/html": [
              "<html>\n",
              "<head><meta charset=\"utf-8\" /></head>\n",
              "<body>\n",
              "    <div>            <script src=\"https://cdnjs.cloudflare.com/ajax/libs/mathjax/2.7.5/MathJax.js?config=TeX-AMS-MML_SVG\"></script><script type=\"text/javascript\">if (window.MathJax) {MathJax.Hub.Config({SVG: {font: \"STIX-Web\"}});}</script>                <script type=\"text/javascript\">window.PlotlyConfig = {MathJaxConfig: 'local'};</script>\n",
              "        <script src=\"https://cdn.plot.ly/plotly-latest.min.js\"></script>                <div id=\"b96edd98-296b-4f75-ae16-4f77baabff68\" class=\"plotly-graph-div\" style=\"height:525px; width:100%;\"></div>            <script type=\"text/javascript\">                                    window.PLOTLYENV=window.PLOTLYENV || {};                                    if (document.getElementById(\"b96edd98-296b-4f75-ae16-4f77baabff68\")) {                    Plotly.newPlot(                        \"b96edd98-296b-4f75-ae16-4f77baabff68\",                        [{\"legendgroup\": \"First\", \"line\": {\"color\": \"#636efa\", \"dash\": \"solid\"}, \"mode\": \"markers+lines\", \"name\": \"First\", \"orientation\": \"v\", \"showlegend\": true, \"type\": \"scatter\", \"x\": [\"2020-05-01\", \"2020-05-02\", \"2020-05-03\", \"2020-05-04\", \"2020-05-05\", \"2020-05-06\", \"2020-05-07\", \"2020-05-08\", \"2020-05-09\", \"2020-05-10\", \"2020-05-11\", \"2020-05-12\", \"2020-05-13\", \"2020-05-14\", \"2020-05-15\", \"2020-05-16\", \"2020-05-17\", \"2020-05-18\", \"2020-05-19\", \"2020-05-20\", \"2020-05-21\", \"2020-05-22\", \"2020-05-23\", \"2020-05-24\", \"2020-05-25\", \"2020-05-26\", \"2020-05-27\", \"2020-05-28\", \"2020-05-29\", \"2020-05-30\", \"2020-05-31\", \"2020-06-01\", \"2020-06-02\", \"2020-06-03\", \"2020-06-04\", \"2020-06-05\", \"2020-06-06\", \"2020-06-07\", \"2020-06-08\", \"2020-06-09\", \"2020-06-10\", \"2020-06-11\", \"2020-06-12\", \"2020-06-13\", \"2020-06-14\", \"2020-06-15\", \"2020-06-16\", \"2020-06-17\", \"2020-06-18\", \"2020-06-19\", \"2020-06-20\", \"2020-06-21\", \"2020-06-22\", \"2020-06-23\", \"2020-06-24\", \"2020-06-25\", \"2020-06-26\", \"2020-06-27\", \"2020-06-28\", \"2020-06-29\", \"2020-06-30\", \"2020-07-01\", \"2020-07-02\", \"2020-07-03\", \"2020-07-04\", \"2020-07-05\", \"2020-07-06\", \"2020-07-07\", \"2020-07-08\", \"2020-07-09\", \"2020-07-10\", \"2020-07-11\", \"2020-07-12\", \"2020-07-13\", \"2020-07-14\", \"2020-07-15\", \"2020-07-16\", \"2020-07-17\", \"2020-07-18\", \"2020-07-19\", \"2020-07-20\", \"2020-07-21\", \"2020-07-22\", \"2020-07-23\", \"2020-07-24\", \"2020-07-25\", \"2020-07-26\", \"2020-07-27\", \"2020-07-28\", \"2020-07-29\", \"2020-07-30\", \"2020-07-31\", \"2020-08-01\", \"2020-08-02\", \"2020-08-03\", \"2020-08-04\", \"2020-08-05\", \"2020-08-06\", \"2020-08-07\", \"2020-08-08\", \"2020-08-09\", \"2020-08-10\", \"2020-08-11\", \"2020-08-12\", \"2020-08-13\", \"2020-08-14\", \"2020-08-15\", \"2020-08-16\", \"2020-08-17\", \"2020-08-18\", \"2020-08-19\", \"2020-08-20\", \"2020-08-21\", \"2020-08-22\", \"2020-08-23\", \"2020-08-24\", \"2020-08-25\", \"2020-08-26\", \"2020-08-27\", \"2020-08-28\", \"2020-08-29\", \"2020-08-30\", \"2020-08-31\", \"2020-09-01\", \"2020-09-02\", \"2020-09-03\", \"2020-09-04\", \"2020-09-05\", \"2020-09-06\", \"2020-09-07\", \"2020-09-08\", \"2020-09-09\", \"2020-09-10\", \"2020-09-11\", \"2020-09-12\", \"2020-09-13\", \"2020-09-14\"], \"xaxis\": \"x\", \"y\": [10.311, 8.617, 3.727, 4.021, 10.68, 9.531, 6.747000000000001, 8.544, 4.051, 3.197, 2.7689999999999997, 9.059, 6.599, 5.2, 5.17, 6.053999999999999, 0.987, 2.151, 7.38, 4.846, 4.021, 4.287, 3.241, 5.582999999999999, 1.5319999999999998, 1.93, 6.216, 5.053, 4.0360000000000005, 2.269, 0.884, 1.2670000000000001, 3.6830000000000003, 3.742, 1.915, 3.8, 2.106, 0.795, 0.6920000000000001, 2.9019999999999997, 2.416, 1.12, 1.93, 1.5759999999999998, 0.39799999999999996, 0.42700000000000005, 1.768, 1.62, 0.987, 1.237, 1.046, 0.457, 0.191, 1.385, 1.2819999999999998, 1.4580000000000002, 1.1340000000000001, 0.589, 0.457, 0.309, 0.795, 1.429, 0.604, 0.722, 0.47100000000000003, 0.28, 0.162, 0.795, 0.84, 0.457, 0.501, 0.25, 0.133, 0.147, 0.648, 0.38299999999999995, 0.354, 0.38299999999999995, 0.133, 0.162, 0.147, 0.368, 0.25, 0.133, 0.47100000000000003, 0.221, 0.11800000000000001, 0.044000000000000004, 0.309, 0.501, 0.0, 0.295, 0.191, 0.07400000000000001, 0.015, 0.265, 0.20600000000000002, 0.265, 0.177, 0.044000000000000004, 0.07400000000000001, 0.265, 0.191, 0.295, 0.265, 0.162, 0.044000000000000004, 0.07400000000000001, 0.044000000000000004, 0.177, 0.25, 0.08800000000000001, 0.028999999999999998, 0.265, 0.08800000000000001, 0.059000000000000004, 0.23600000000000002, 0.25, 0.177, 0.133, 0.177, 0.015, 0.044000000000000004, 0.044000000000000004, 0.147, 0.20600000000000002, 0.147, 0.177, 0.028999999999999998, 0.044000000000000004, 0.47100000000000003, 0.11800000000000001, 0.20600000000000002, 0.08800000000000001, 0.133, 0.07400000000000001, 0.133], \"yaxis\": \"y\"}, {\"legendgroup\": \"Alpha\", \"line\": {\"color\": \"#EF553B\", \"dash\": \"solid\"}, \"mode\": \"markers+lines\", \"name\": \"Alpha\", \"orientation\": \"v\", \"showlegend\": true, \"type\": \"scatter\", \"x\": [\"2020-09-15\", \"2020-09-16\", \"2020-09-17\", \"2020-09-18\", \"2020-09-19\", \"2020-09-20\", \"2020-09-21\", \"2020-09-22\", \"2020-09-23\", \"2020-09-24\", \"2020-09-25\", \"2020-09-26\", \"2020-09-27\", \"2020-09-28\", \"2020-09-29\", \"2020-09-30\", \"2020-10-01\", \"2020-10-02\", \"2020-10-03\", \"2020-10-04\", \"2020-10-05\", \"2020-10-06\", \"2020-10-07\", \"2020-10-08\", \"2020-10-09\", \"2020-10-10\", \"2020-10-11\", \"2020-10-12\", \"2020-10-13\", \"2020-10-14\", \"2020-10-15\", \"2020-10-16\", \"2020-10-17\", \"2020-10-18\", \"2020-10-19\", \"2020-10-20\", \"2020-10-21\", \"2020-10-22\", \"2020-10-23\", \"2020-10-24\", \"2020-10-25\", \"2020-10-26\", \"2020-10-27\", \"2020-10-28\", \"2020-10-29\", \"2020-10-30\", \"2020-10-31\", \"2020-11-01\", \"2020-11-02\", \"2020-11-03\", \"2020-11-04\", \"2020-11-05\", \"2020-11-06\", \"2020-11-07\", \"2020-11-08\", \"2020-11-09\", \"2020-11-10\", \"2020-11-11\", \"2020-11-12\", \"2020-11-13\", \"2020-11-14\", \"2020-11-15\", \"2020-11-16\", \"2020-11-17\", \"2020-11-18\", \"2020-11-19\", \"2020-11-20\", \"2020-11-21\", \"2020-11-22\", \"2020-11-23\", \"2020-11-24\", \"2020-11-25\", \"2020-11-26\", \"2020-11-27\", \"2020-11-28\", \"2020-11-29\", \"2020-11-30\", \"2020-12-01\", \"2020-12-02\", \"2020-12-03\", \"2020-12-04\", \"2020-12-05\", \"2020-12-06\", \"2020-12-07\", \"2020-12-08\", \"2020-12-09\", \"2020-12-10\", \"2020-12-11\", \"2020-12-12\", \"2020-12-13\", \"2020-12-14\", \"2020-12-15\", \"2020-12-16\", \"2020-12-17\", \"2020-12-18\", \"2020-12-19\", \"2020-12-20\", \"2020-12-21\", \"2020-12-22\", \"2020-12-23\", \"2020-12-24\", \"2020-12-25\", \"2020-12-26\", \"2020-12-27\", \"2020-12-28\", \"2020-12-29\", \"2020-12-30\", \"2020-12-31\", \"2021-01-01\", \"2021-01-02\", \"2021-01-03\", \"2021-01-04\", \"2021-01-05\", \"2021-01-06\", \"2021-01-07\", \"2021-01-08\", \"2021-01-09\", \"2021-01-10\", \"2021-01-11\", \"2021-01-12\", \"2021-01-13\", \"2021-01-14\", \"2021-01-15\", \"2021-01-16\", \"2021-01-17\", \"2021-01-18\", \"2021-01-19\", \"2021-01-20\", \"2021-01-21\", \"2021-01-22\", \"2021-01-23\", \"2021-01-24\", \"2021-01-25\", \"2021-01-26\", \"2021-01-27\", \"2021-01-28\", \"2021-01-29\", \"2021-01-30\", \"2021-01-31\", \"2021-02-01\", \"2021-02-02\", \"2021-02-03\", \"2021-02-04\", \"2021-02-05\", \"2021-02-06\", \"2021-02-07\", \"2021-02-08\", \"2021-02-09\", \"2021-02-10\", \"2021-02-11\", \"2021-02-12\", \"2021-02-13\", \"2021-02-14\", \"2021-02-15\", \"2021-02-16\", \"2021-02-17\", \"2021-02-18\", \"2021-02-19\", \"2021-02-20\", \"2021-02-21\", \"2021-02-22\", \"2021-02-23\", \"2021-02-24\", \"2021-02-25\", \"2021-02-26\", \"2021-02-27\", \"2021-02-28\", \"2021-03-01\", \"2021-03-02\", \"2021-03-03\", \"2021-03-04\", \"2021-03-05\", \"2021-03-06\", \"2021-03-07\", \"2021-03-08\", \"2021-03-09\", \"2021-03-10\", \"2021-03-11\", \"2021-03-12\", \"2021-03-13\", \"2021-03-14\", \"2021-03-15\", \"2021-03-16\", \"2021-03-17\", \"2021-03-18\", \"2021-03-19\", \"2021-03-20\", \"2021-03-21\", \"2021-03-22\", \"2021-03-23\", \"2021-03-24\", \"2021-03-25\", \"2021-03-26\", \"2021-03-27\", \"2021-03-28\", \"2021-03-29\", \"2021-03-30\", \"2021-03-31\", \"2021-04-01\", \"2021-04-02\", \"2021-04-03\", \"2021-04-04\", \"2021-04-05\", \"2021-04-06\", \"2021-04-07\", \"2021-04-08\", \"2021-04-09\", \"2021-04-10\", \"2021-04-11\", \"2021-04-12\", \"2021-04-13\", \"2021-04-14\", \"2021-04-15\", \"2021-04-16\", \"2021-04-17\", \"2021-04-18\", \"2021-04-19\", \"2021-04-20\", \"2021-04-21\", \"2021-04-22\", \"2021-04-23\", \"2021-04-24\", \"2021-04-25\", \"2021-04-26\", \"2021-04-27\", \"2021-04-28\", \"2021-04-29\", \"2021-04-30\", \"2021-05-01\", \"2021-05-02\", \"2021-05-03\", \"2021-05-04\", \"2021-05-05\", \"2021-05-06\", \"2021-05-07\", \"2021-05-08\", \"2021-05-09\", \"2021-05-10\", \"2021-05-11\", \"2021-05-12\", \"2021-05-13\"], \"xaxis\": \"x\", \"y\": [0.39799999999999996, 0.295, 0.309, 0.39799999999999996, 0.39799999999999996, 0.265, 0.162, 0.545, 0.545, 0.589, 0.501, 0.516, 0.25, 0.191, 1.061, 1.046, 0.8690000000000001, 0.972, 0.722, 0.486, 0.28, 1.12, 1.031, 1.1340000000000001, 1.2819999999999998, 1.193, 0.9570000000000001, 0.737, 2.106, 2.0180000000000002, 2.033, 2.003, 2.21, 0.987, 1.178, 3.55, 2.8139999999999996, 2.784, 3.3, 2.563, 2.224, 1.5030000000000001, 5.406000000000001, 4.566, 4.125, 4.0360000000000005, 4.802, 2.386, 2.003, 5.848, 7.247000000000001, 5.568, 5.229, 6.084, 2.298, 2.872, 7.837000000000001, 8.779, 8.293, 5.539, 6.806, 2.475, 3.1519999999999997, 8.824, 7.792000000000001, 7.395, 7.527, 5.008, 5.877999999999999, 3.049, 8.956, 10.238, 7.336, 7.66, 7.056, 3.167, 2.99, 8.883, 9.545, 6.098, 7.4239999999999995, 5.848, 3.403, 2.784, 8.824, 7.851, 7.601, 6.246, 7.66, 2.121, 3.432, 7.454, 9.015, 7.837000000000001, 7.218, 7.91, 4.802, 3.167, 10.179, 11.017999999999999, 8.47, 8.396, 3.108, 5.112, 5.2589999999999995, 6.747000000000001, 14.465, 14.215, 9.059, 6.555, 6.702000000000001, 6.04, 12.978, 15.349, 17.117, 19.636, 15.245999999999999, 8.352, 7.792000000000001, 18.354, 23.098000000000003, 18.457, 18.929000000000002, 19.135, 10.046, 8.868, 23.746, 26.898000000000003, 19.090999999999998, 20.638, 19.916, 9.0, 8.75, 24.099, 25.425, 18.250999999999998, 18.384, 17.75, 8.691, 5.995, 21.374000000000002, 19.474, 13.478, 14.952, 12.197000000000001, 5.539, 4.905, 15.497, 14.76, 10.017000000000001, 11.181, 9.148, 3.815, 3.4619999999999997, 11.77, 10.870999999999999, 6.702000000000001, 7.851, 6.57, 3.197, 2.622, 8.072000000000001, 6.526, 4.773, 5.082, 4.287, 2.121, 1.5319999999999998, 5.053, 7.1739999999999995, 3.565, 3.4760000000000004, 2.342, 1.208, 0.9570000000000001, 3.403, 2.799, 2.6660000000000004, 2.593, 1.797, 0.7659999999999999, 0.943, 1.62, 2.077, 1.399, 1.473, 1.4140000000000001, 0.501, 0.265, 1.65, 1.444, 0.9279999999999999, 1.046, 0.8540000000000001, 0.309, 0.33899999999999997, 0.81, 0.633, 0.7509999999999999, 0.7659999999999999, 0.147, 0.147, 0.41200000000000003, 0.295, 0.6629999999999999, 0.7809999999999999, 0.884, 0.589, 0.10300000000000001, 0.221, 0.33899999999999997, 0.56, 0.457, 0.501, 0.53, 0.147, 0.08800000000000001, 0.486, 0.295, 0.295, 0.604, 0.47100000000000003, 0.162, 0.10300000000000001, 0.25, 0.42700000000000005, 0.368, 0.23600000000000002, 0.10300000000000001, 0.20600000000000002, 0.015, 0.08800000000000001, 0.39799999999999996, 0.191, 0.221, 0.07400000000000001, 0.028999999999999998, 0.07400000000000001, 0.295, 0.162, 0.162], \"yaxis\": \"y\"}, {\"legendgroup\": \"Delta\", \"line\": {\"color\": \"#00cc96\", \"dash\": \"solid\"}, \"mode\": \"markers+lines\", \"name\": \"Delta\", \"orientation\": \"v\", \"showlegend\": true, \"type\": \"scatter\", \"x\": [\"2021-05-14\", \"2021-05-15\", \"2021-05-16\", \"2021-05-17\", \"2021-05-18\", \"2021-05-19\", \"2021-05-20\", \"2021-05-21\", \"2021-05-22\", \"2021-05-23\", \"2021-05-24\", \"2021-05-25\", \"2021-05-26\", \"2021-05-27\", \"2021-05-28\", \"2021-05-29\", \"2021-05-30\", \"2021-05-31\", \"2021-06-01\", \"2021-06-02\", \"2021-06-03\", \"2021-06-04\", \"2021-06-05\", \"2021-06-06\", \"2021-06-07\", \"2021-06-08\", \"2021-06-09\"], \"xaxis\": \"x\", \"y\": [0.265, 0.10300000000000001, 0.059000000000000004, 0.07400000000000001, 0.10300000000000001, 0.044000000000000004, 0.10300000000000001, 0.133, 0.08800000000000001, 0.07400000000000001, 0.044000000000000004, 0.221, 0.133, 0.147, 0.147, 0.10300000000000001, 0.08800000000000001, 0.028999999999999998, 0.0, 0.177, 0.265, 0.162, 0.191, 0.059000000000000004, 0.015, 0.20600000000000002, 0.08800000000000001], \"yaxis\": \"y\"}],                        {\"hovermode\": \"x unified\", \"legend\": {\"title\": {\"text\": \"Variant\"}, \"tracegroupgap\": 0}, \"template\": {\"data\": {\"bar\": [{\"error_x\": {\"color\": \"#2a3f5f\"}, \"error_y\": {\"color\": \"#2a3f5f\"}, \"marker\": {\"line\": {\"color\": \"#E5ECF6\", \"width\": 0.5}}, \"type\": \"bar\"}], \"barpolar\": [{\"marker\": {\"line\": {\"color\": \"#E5ECF6\", \"width\": 0.5}}, \"type\": \"barpolar\"}], \"carpet\": [{\"aaxis\": {\"endlinecolor\": \"#2a3f5f\", \"gridcolor\": \"white\", \"linecolor\": \"white\", \"minorgridcolor\": \"white\", \"startlinecolor\": \"#2a3f5f\"}, \"baxis\": {\"endlinecolor\": \"#2a3f5f\", \"gridcolor\": \"white\", \"linecolor\": \"white\", \"minorgridcolor\": \"white\", \"startlinecolor\": \"#2a3f5f\"}, \"type\": \"carpet\"}], \"choropleth\": [{\"colorbar\": {\"outlinewidth\": 0, \"ticks\": \"\"}, \"type\": \"choropleth\"}], \"contour\": [{\"colorbar\": {\"outlinewidth\": 0, \"ticks\": \"\"}, \"colorscale\": [[0.0, \"#0d0887\"], [0.1111111111111111, \"#46039f\"], [0.2222222222222222, \"#7201a8\"], [0.3333333333333333, \"#9c179e\"], [0.4444444444444444, \"#bd3786\"], [0.5555555555555556, \"#d8576b\"], [0.6666666666666666, \"#ed7953\"], [0.7777777777777778, \"#fb9f3a\"], [0.8888888888888888, \"#fdca26\"], [1.0, \"#f0f921\"]], \"type\": \"contour\"}], \"contourcarpet\": [{\"colorbar\": {\"outlinewidth\": 0, \"ticks\": \"\"}, \"type\": \"contourcarpet\"}], \"heatmap\": [{\"colorbar\": {\"outlinewidth\": 0, \"ticks\": \"\"}, \"colorscale\": [[0.0, \"#0d0887\"], [0.1111111111111111, \"#46039f\"], [0.2222222222222222, \"#7201a8\"], [0.3333333333333333, \"#9c179e\"], [0.4444444444444444, \"#bd3786\"], [0.5555555555555556, \"#d8576b\"], [0.6666666666666666, \"#ed7953\"], [0.7777777777777778, \"#fb9f3a\"], [0.8888888888888888, \"#fdca26\"], [1.0, \"#f0f921\"]], \"type\": \"heatmap\"}], \"heatmapgl\": [{\"colorbar\": {\"outlinewidth\": 0, \"ticks\": \"\"}, \"colorscale\": [[0.0, \"#0d0887\"], [0.1111111111111111, \"#46039f\"], [0.2222222222222222, \"#7201a8\"], [0.3333333333333333, \"#9c179e\"], [0.4444444444444444, \"#bd3786\"], [0.5555555555555556, \"#d8576b\"], [0.6666666666666666, \"#ed7953\"], [0.7777777777777778, \"#fb9f3a\"], [0.8888888888888888, \"#fdca26\"], [1.0, \"#f0f921\"]], \"type\": \"heatmapgl\"}], \"histogram\": [{\"marker\": {\"colorbar\": {\"outlinewidth\": 0, \"ticks\": \"\"}}, \"type\": \"histogram\"}], \"histogram2d\": [{\"colorbar\": {\"outlinewidth\": 0, \"ticks\": \"\"}, \"colorscale\": [[0.0, \"#0d0887\"], [0.1111111111111111, \"#46039f\"], [0.2222222222222222, \"#7201a8\"], [0.3333333333333333, \"#9c179e\"], [0.4444444444444444, \"#bd3786\"], [0.5555555555555556, \"#d8576b\"], [0.6666666666666666, \"#ed7953\"], [0.7777777777777778, \"#fb9f3a\"], [0.8888888888888888, \"#fdca26\"], [1.0, \"#f0f921\"]], \"type\": \"histogram2d\"}], \"histogram2dcontour\": [{\"colorbar\": {\"outlinewidth\": 0, \"ticks\": \"\"}, \"colorscale\": [[0.0, \"#0d0887\"], [0.1111111111111111, \"#46039f\"], [0.2222222222222222, \"#7201a8\"], [0.3333333333333333, \"#9c179e\"], [0.4444444444444444, \"#bd3786\"], [0.5555555555555556, \"#d8576b\"], [0.6666666666666666, \"#ed7953\"], [0.7777777777777778, \"#fb9f3a\"], [0.8888888888888888, \"#fdca26\"], [1.0, \"#f0f921\"]], \"type\": \"histogram2dcontour\"}], \"mesh3d\": [{\"colorbar\": {\"outlinewidth\": 0, \"ticks\": \"\"}, \"type\": \"mesh3d\"}], \"parcoords\": [{\"line\": {\"colorbar\": {\"outlinewidth\": 0, \"ticks\": \"\"}}, \"type\": \"parcoords\"}], \"pie\": [{\"automargin\": true, \"type\": \"pie\"}], \"scatter\": [{\"marker\": {\"colorbar\": {\"outlinewidth\": 0, \"ticks\": \"\"}}, \"type\": \"scatter\"}], \"scatter3d\": [{\"line\": {\"colorbar\": {\"outlinewidth\": 0, \"ticks\": \"\"}}, \"marker\": {\"colorbar\": {\"outlinewidth\": 0, \"ticks\": \"\"}}, \"type\": \"scatter3d\"}], \"scattercarpet\": [{\"marker\": {\"colorbar\": {\"outlinewidth\": 0, \"ticks\": \"\"}}, \"type\": \"scattercarpet\"}], \"scattergeo\": [{\"marker\": {\"colorbar\": {\"outlinewidth\": 0, \"ticks\": \"\"}}, \"type\": \"scattergeo\"}], \"scattergl\": [{\"marker\": {\"colorbar\": {\"outlinewidth\": 0, \"ticks\": \"\"}}, \"type\": \"scattergl\"}], \"scattermapbox\": [{\"marker\": {\"colorbar\": {\"outlinewidth\": 0, \"ticks\": \"\"}}, \"type\": \"scattermapbox\"}], \"scatterpolar\": [{\"marker\": {\"colorbar\": {\"outlinewidth\": 0, \"ticks\": \"\"}}, \"type\": \"scatterpolar\"}], \"scatterpolargl\": [{\"marker\": {\"colorbar\": {\"outlinewidth\": 0, \"ticks\": \"\"}}, \"type\": \"scatterpolargl\"}], \"scatterternary\": [{\"marker\": {\"colorbar\": {\"outlinewidth\": 0, \"ticks\": \"\"}}, \"type\": \"scatterternary\"}], \"surface\": [{\"colorbar\": {\"outlinewidth\": 0, \"ticks\": \"\"}, \"colorscale\": [[0.0, \"#0d0887\"], [0.1111111111111111, \"#46039f\"], [0.2222222222222222, \"#7201a8\"], [0.3333333333333333, \"#9c179e\"], [0.4444444444444444, \"#bd3786\"], [0.5555555555555556, \"#d8576b\"], [0.6666666666666666, \"#ed7953\"], [0.7777777777777778, \"#fb9f3a\"], [0.8888888888888888, \"#fdca26\"], [1.0, \"#f0f921\"]], \"type\": \"surface\"}], \"table\": [{\"cells\": {\"fill\": {\"color\": \"#EBF0F8\"}, \"line\": {\"color\": \"white\"}}, \"header\": {\"fill\": {\"color\": \"#C8D4E3\"}, \"line\": {\"color\": \"white\"}}, \"type\": \"table\"}]}, \"layout\": {\"annotationdefaults\": {\"arrowcolor\": \"#2a3f5f\", \"arrowhead\": 0, \"arrowwidth\": 1}, \"autotypenumbers\": \"strict\", \"coloraxis\": {\"colorbar\": {\"outlinewidth\": 0, \"ticks\": \"\"}}, \"colorscale\": {\"diverging\": [[0, \"#8e0152\"], [0.1, \"#c51b7d\"], [0.2, \"#de77ae\"], [0.3, \"#f1b6da\"], [0.4, \"#fde0ef\"], [0.5, \"#f7f7f7\"], [0.6, \"#e6f5d0\"], [0.7, \"#b8e186\"], [0.8, \"#7fbc41\"], [0.9, \"#4d9221\"], [1, \"#276419\"]], \"sequential\": [[0.0, \"#0d0887\"], [0.1111111111111111, \"#46039f\"], [0.2222222222222222, \"#7201a8\"], [0.3333333333333333, \"#9c179e\"], [0.4444444444444444, \"#bd3786\"], [0.5555555555555556, \"#d8576b\"], [0.6666666666666666, \"#ed7953\"], [0.7777777777777778, \"#fb9f3a\"], [0.8888888888888888, \"#fdca26\"], [1.0, \"#f0f921\"]], \"sequentialminus\": [[0.0, \"#0d0887\"], [0.1111111111111111, \"#46039f\"], [0.2222222222222222, \"#7201a8\"], [0.3333333333333333, \"#9c179e\"], [0.4444444444444444, \"#bd3786\"], [0.5555555555555556, \"#d8576b\"], [0.6666666666666666, \"#ed7953\"], [0.7777777777777778, \"#fb9f3a\"], [0.8888888888888888, \"#fdca26\"], [1.0, \"#f0f921\"]]}, \"colorway\": [\"#636efa\", \"#EF553B\", \"#00cc96\", \"#ab63fa\", \"#FFA15A\", \"#19d3f3\", \"#FF6692\", \"#B6E880\", \"#FF97FF\", \"#FECB52\"], \"font\": {\"color\": \"#2a3f5f\"}, \"geo\": {\"bgcolor\": \"white\", \"lakecolor\": \"white\", \"landcolor\": \"#E5ECF6\", \"showlakes\": true, \"showland\": true, \"subunitcolor\": \"white\"}, \"hoverlabel\": {\"align\": \"left\"}, \"hovermode\": \"closest\", \"mapbox\": {\"style\": \"light\"}, \"paper_bgcolor\": \"white\", \"plot_bgcolor\": \"#E5ECF6\", \"polar\": {\"angularaxis\": {\"gridcolor\": \"white\", \"linecolor\": \"white\", \"ticks\": \"\"}, \"bgcolor\": \"#E5ECF6\", \"radialaxis\": {\"gridcolor\": \"white\", \"linecolor\": \"white\", \"ticks\": \"\"}}, \"scene\": {\"xaxis\": {\"backgroundcolor\": \"#E5ECF6\", \"gridcolor\": \"white\", \"gridwidth\": 2, \"linecolor\": \"white\", \"showbackground\": true, \"ticks\": \"\", \"zerolinecolor\": \"white\"}, \"yaxis\": {\"backgroundcolor\": \"#E5ECF6\", \"gridcolor\": \"white\", \"gridwidth\": 2, \"linecolor\": \"white\", \"showbackground\": true, \"ticks\": \"\", \"zerolinecolor\": \"white\"}, \"zaxis\": {\"backgroundcolor\": \"#E5ECF6\", \"gridcolor\": \"white\", \"gridwidth\": 2, \"linecolor\": \"white\", \"showbackground\": true, \"ticks\": \"\", \"zerolinecolor\": \"white\"}}, \"shapedefaults\": {\"line\": {\"color\": \"#2a3f5f\"}}, \"ternary\": {\"aaxis\": {\"gridcolor\": \"white\", \"linecolor\": \"white\", \"ticks\": \"\"}, \"baxis\": {\"gridcolor\": \"white\", \"linecolor\": \"white\", \"ticks\": \"\"}, \"bgcolor\": \"#E5ECF6\", \"caxis\": {\"gridcolor\": \"white\", \"linecolor\": \"white\", \"ticks\": \"\"}}, \"title\": {\"x\": 0.05}, \"xaxis\": {\"automargin\": true, \"gridcolor\": \"white\", \"linecolor\": \"white\", \"ticks\": \"\", \"title\": {\"standoff\": 15}, \"zerolinecolor\": \"white\", \"zerolinewidth\": 2}, \"yaxis\": {\"automargin\": true, \"gridcolor\": \"white\", \"linecolor\": \"white\", \"ticks\": \"\", \"title\": {\"standoff\": 15}, \"zerolinecolor\": \"white\", \"zerolinewidth\": 2}}}, \"title\": {\"text\": \"New Deaths\"}, \"xaxis\": {\"anchor\": \"y\", \"domain\": [0.0, 1.0], \"title\": {\"text\": \"date\"}}, \"yaxis\": {\"anchor\": \"x\", \"domain\": [0.0, 1.0], \"title\": {\"text\": \"new_deaths_per_million\"}}},                        {\"responsive\": true}                    ).then(function(){\n",
              "                            \n",
              "var gd = document.getElementById('b96edd98-296b-4f75-ae16-4f77baabff68');\n",
              "var x = new MutationObserver(function (mutations, observer) {{\n",
              "        var display = window.getComputedStyle(gd).display;\n",
              "        if (!display || display === 'none') {{\n",
              "            console.log([gd, 'removed!']);\n",
              "            Plotly.purge(gd);\n",
              "            observer.disconnect();\n",
              "        }}\n",
              "}});\n",
              "\n",
              "// Listen for the removal of the full notebook cells\n",
              "var notebookContainer = gd.closest('#notebook-container');\n",
              "if (notebookContainer) {{\n",
              "    x.observe(notebookContainer, {childList: true});\n",
              "}}\n",
              "\n",
              "// Listen for the clearing of the current output cell\n",
              "var outputEl = gd.closest('.output');\n",
              "if (outputEl) {{\n",
              "    x.observe(outputEl, {childList: true});\n",
              "}}\n",
              "\n",
              "                        })                };                            </script>        </div>\n",
              "</body>\n",
              "</html>"
            ]
          },
          "metadata": {
            "tags": []
          }
        }
      ]
    },
    {
      "cell_type": "code",
      "metadata": {
        "colab": {
          "base_uri": "https://localhost:8080/",
          "height": 542
        },
        "id": "HohJ_ZSTylTY",
        "outputId": "4ef7dab8-10bd-4d95-e42f-3e9419b6885c"
      },
      "source": [
        "fig = px.line(dataset_UK,  dataset_UK[\"date\"], dataset_UK[\"new_deaths_per_million\"], title = \"New Deaths\", color = dataset_UK[\"Vaccine\"]) #hover_data = [\"new_deaths\", \"population\", \"total_cases\", \"new_cases\"])\n",
        "fig.update_traces(mode = \"markers + lines\", hovertemplate = None)\n",
        "fig.update_layout(hovermode = \"x unified\")\n",
        "fig.show()"
      ],
      "execution_count": 64,
      "outputs": [
        {
          "output_type": "display_data",
          "data": {
            "text/html": [
              "<html>\n",
              "<head><meta charset=\"utf-8\" /></head>\n",
              "<body>\n",
              "    <div>            <script src=\"https://cdnjs.cloudflare.com/ajax/libs/mathjax/2.7.5/MathJax.js?config=TeX-AMS-MML_SVG\"></script><script type=\"text/javascript\">if (window.MathJax) {MathJax.Hub.Config({SVG: {font: \"STIX-Web\"}});}</script>                <script type=\"text/javascript\">window.PlotlyConfig = {MathJaxConfig: 'local'};</script>\n",
              "        <script src=\"https://cdn.plot.ly/plotly-latest.min.js\"></script>                <div id=\"b7f64ce8-ec45-4f87-bcc8-d5835561badf\" class=\"plotly-graph-div\" style=\"height:525px; width:100%;\"></div>            <script type=\"text/javascript\">                                    window.PLOTLYENV=window.PLOTLYENV || {};                                    if (document.getElementById(\"b7f64ce8-ec45-4f87-bcc8-d5835561badf\")) {                    Plotly.newPlot(                        \"b7f64ce8-ec45-4f87-bcc8-d5835561badf\",                        [{\"legendgroup\": \"No Vaccine\", \"line\": {\"color\": \"#636efa\", \"dash\": \"solid\"}, \"mode\": \"markers+lines\", \"name\": \"No Vaccine\", \"orientation\": \"v\", \"showlegend\": true, \"type\": \"scatter\", \"x\": [\"2020-05-01\", \"2020-05-02\", \"2020-05-03\", \"2020-05-04\", \"2020-05-05\", \"2020-05-06\", \"2020-05-07\", \"2020-05-08\", \"2020-05-09\", \"2020-05-10\", \"2020-05-11\", \"2020-05-12\", \"2020-05-13\", \"2020-05-14\", \"2020-05-15\", \"2020-05-16\", \"2020-05-17\", \"2020-05-18\", \"2020-05-19\", \"2020-05-20\", \"2020-05-21\", \"2020-05-22\", \"2020-05-23\", \"2020-05-24\", \"2020-05-25\", \"2020-05-26\", \"2020-05-27\", \"2020-05-28\", \"2020-05-29\", \"2020-05-30\", \"2020-05-31\", \"2020-06-01\", \"2020-06-02\", \"2020-06-03\", \"2020-06-04\", \"2020-06-05\", \"2020-06-06\", \"2020-06-07\", \"2020-06-08\", \"2020-06-09\", \"2020-06-10\", \"2020-06-11\", \"2020-06-12\", \"2020-06-13\", \"2020-06-14\", \"2020-06-15\", \"2020-06-16\", \"2020-06-17\", \"2020-06-18\", \"2020-06-19\", \"2020-06-20\", \"2020-06-21\", \"2020-06-22\", \"2020-06-23\", \"2020-06-24\", \"2020-06-25\", \"2020-06-26\", \"2020-06-27\", \"2020-06-28\", \"2020-06-29\", \"2020-06-30\", \"2020-07-01\", \"2020-07-02\", \"2020-07-03\", \"2020-07-04\", \"2020-07-05\", \"2020-07-06\", \"2020-07-07\", \"2020-07-08\", \"2020-07-09\", \"2020-07-10\", \"2020-07-11\", \"2020-07-12\", \"2020-07-13\", \"2020-07-14\", \"2020-07-15\", \"2020-07-16\", \"2020-07-17\", \"2020-07-18\", \"2020-07-19\", \"2020-07-20\", \"2020-07-21\", \"2020-07-22\", \"2020-07-23\", \"2020-07-24\", \"2020-07-25\", \"2020-07-26\", \"2020-07-27\", \"2020-07-28\", \"2020-07-29\", \"2020-07-30\", \"2020-07-31\", \"2020-08-01\", \"2020-08-02\", \"2020-08-03\", \"2020-08-04\", \"2020-08-05\", \"2020-08-06\", \"2020-08-07\", \"2020-08-08\", \"2020-08-09\", \"2020-08-10\", \"2020-08-11\", \"2020-08-12\", \"2020-08-13\", \"2020-08-14\", \"2020-08-15\", \"2020-08-16\", \"2020-08-17\", \"2020-08-18\", \"2020-08-19\", \"2020-08-20\", \"2020-08-21\", \"2020-08-22\", \"2020-08-23\", \"2020-08-24\", \"2020-08-25\", \"2020-08-26\", \"2020-08-27\", \"2020-08-28\", \"2020-08-29\", \"2020-08-30\", \"2020-08-31\", \"2020-09-01\", \"2020-09-02\", \"2020-09-03\", \"2020-09-04\", \"2020-09-05\", \"2020-09-06\", \"2020-09-07\", \"2020-09-08\", \"2020-09-09\", \"2020-09-10\", \"2020-09-11\", \"2020-09-12\", \"2020-09-13\", \"2020-09-14\", \"2020-09-15\", \"2020-09-16\", \"2020-09-17\", \"2020-09-18\", \"2020-09-19\", \"2020-09-20\", \"2020-09-21\", \"2020-09-22\", \"2020-09-23\", \"2020-09-24\", \"2020-09-25\", \"2020-09-26\", \"2020-09-27\", \"2020-09-28\", \"2020-09-29\", \"2020-09-30\", \"2020-10-01\", \"2020-10-02\", \"2020-10-03\", \"2020-10-04\", \"2020-10-05\", \"2020-10-06\", \"2020-10-07\", \"2020-10-08\", \"2020-10-09\", \"2020-10-10\", \"2020-10-11\", \"2020-10-12\", \"2020-10-13\", \"2020-10-14\", \"2020-10-15\", \"2020-10-16\", \"2020-10-17\", \"2020-10-18\", \"2020-10-19\", \"2020-10-20\", \"2020-10-21\", \"2020-10-22\", \"2020-10-23\", \"2020-10-24\", \"2020-10-25\", \"2020-10-26\", \"2020-10-27\", \"2020-10-28\", \"2020-10-29\", \"2020-10-30\", \"2020-10-31\", \"2020-11-01\", \"2020-11-02\", \"2020-11-03\", \"2020-11-04\", \"2020-11-05\", \"2020-11-06\", \"2020-11-07\", \"2020-11-08\", \"2020-11-09\", \"2020-11-10\", \"2020-11-11\", \"2020-11-12\", \"2020-11-13\", \"2020-11-14\", \"2020-11-15\", \"2020-11-16\", \"2020-11-17\", \"2020-11-18\", \"2020-11-19\", \"2020-11-20\", \"2020-11-21\", \"2020-11-22\", \"2020-11-23\", \"2020-11-24\", \"2020-11-25\", \"2020-11-26\", \"2020-11-27\", \"2020-11-28\", \"2020-11-29\", \"2020-11-30\", \"2020-12-01\", \"2020-12-02\", \"2020-12-03\", \"2020-12-04\", \"2020-12-05\", \"2020-12-06\", \"2020-12-07\", \"2020-12-08\", \"2020-12-09\", \"2020-12-10\", \"2020-12-11\", \"2020-12-12\", \"2020-12-13\", \"2020-12-14\", \"2020-12-15\", \"2020-12-16\", \"2020-12-17\", \"2020-12-18\", \"2020-12-19\", \"2020-12-20\", \"2020-12-21\", \"2020-12-22\", \"2020-12-23\", \"2020-12-24\", \"2020-12-25\", \"2020-12-26\", \"2020-12-27\", \"2020-12-28\", \"2020-12-29\", \"2020-12-30\", \"2020-12-31\", \"2021-01-01\", \"2021-01-02\", \"2021-01-03\", \"2021-01-04\", \"2021-01-05\", \"2021-01-06\", \"2021-01-07\", \"2021-01-08\", \"2021-01-09\"], \"xaxis\": \"x\", \"y\": [10.311, 8.617, 3.727, 4.021, 10.68, 9.531, 6.747000000000001, 8.544, 4.051, 3.197, 2.7689999999999997, 9.059, 6.599, 5.2, 5.17, 6.053999999999999, 0.987, 2.151, 7.38, 4.846, 4.021, 4.287, 3.241, 5.582999999999999, 1.5319999999999998, 1.93, 6.216, 5.053, 4.0360000000000005, 2.269, 0.884, 1.2670000000000001, 3.6830000000000003, 3.742, 1.915, 3.8, 2.106, 0.795, 0.6920000000000001, 2.9019999999999997, 2.416, 1.12, 1.93, 1.5759999999999998, 0.39799999999999996, 0.42700000000000005, 1.768, 1.62, 0.987, 1.237, 1.046, 0.457, 0.191, 1.385, 1.2819999999999998, 1.4580000000000002, 1.1340000000000001, 0.589, 0.457, 0.309, 0.795, 1.429, 0.604, 0.722, 0.47100000000000003, 0.28, 0.162, 0.795, 0.84, 0.457, 0.501, 0.25, 0.133, 0.147, 0.648, 0.38299999999999995, 0.354, 0.38299999999999995, 0.133, 0.162, 0.147, 0.368, 0.25, 0.133, 0.47100000000000003, 0.221, 0.11800000000000001, 0.044000000000000004, 0.309, 0.501, 0.0, 0.295, 0.191, 0.07400000000000001, 0.015, 0.265, 0.20600000000000002, 0.265, 0.177, 0.044000000000000004, 0.07400000000000001, 0.265, 0.191, 0.295, 0.265, 0.162, 0.044000000000000004, 0.07400000000000001, 0.044000000000000004, 0.177, 0.25, 0.08800000000000001, 0.028999999999999998, 0.265, 0.08800000000000001, 0.059000000000000004, 0.23600000000000002, 0.25, 0.177, 0.133, 0.177, 0.015, 0.044000000000000004, 0.044000000000000004, 0.147, 0.20600000000000002, 0.147, 0.177, 0.028999999999999998, 0.044000000000000004, 0.47100000000000003, 0.11800000000000001, 0.20600000000000002, 0.08800000000000001, 0.133, 0.07400000000000001, 0.133, 0.39799999999999996, 0.295, 0.309, 0.39799999999999996, 0.39799999999999996, 0.265, 0.162, 0.545, 0.545, 0.589, 0.501, 0.516, 0.25, 0.191, 1.061, 1.046, 0.8690000000000001, 0.972, 0.722, 0.486, 0.28, 1.12, 1.031, 1.1340000000000001, 1.2819999999999998, 1.193, 0.9570000000000001, 0.737, 2.106, 2.0180000000000002, 2.033, 2.003, 2.21, 0.987, 1.178, 3.55, 2.8139999999999996, 2.784, 3.3, 2.563, 2.224, 1.5030000000000001, 5.406000000000001, 4.566, 4.125, 4.0360000000000005, 4.802, 2.386, 2.003, 5.848, 7.247000000000001, 5.568, 5.229, 6.084, 2.298, 2.872, 7.837000000000001, 8.779, 8.293, 5.539, 6.806, 2.475, 3.1519999999999997, 8.824, 7.792000000000001, 7.395, 7.527, 5.008, 5.877999999999999, 3.049, 8.956, 10.238, 7.336, 7.66, 7.056, 3.167, 2.99, 8.883, 9.545, 6.098, 7.4239999999999995, 5.848, 3.403, 2.784, 8.824, 7.851, 7.601, 6.246, 7.66, 2.121, 3.432, 7.454, 9.015, 7.837000000000001, 7.218, 7.91, 4.802, 3.167, 10.179, 11.017999999999999, 8.47, 8.396, 3.108, 5.112, 5.2589999999999995, 6.747000000000001, 14.465, 14.215, 9.059, 6.555, 6.702000000000001, 6.04, 12.978, 15.349, 17.117, 19.636, 15.245999999999999], \"yaxis\": \"y\"}, {\"legendgroup\": \"Astra Zeneca\", \"line\": {\"color\": \"#EF553B\", \"dash\": \"solid\"}, \"mode\": \"markers+lines\", \"name\": \"Astra Zeneca\", \"orientation\": \"v\", \"showlegend\": true, \"type\": \"scatter\", \"x\": [\"2021-01-10\", \"2021-01-11\", \"2021-01-12\", \"2021-01-13\", \"2021-01-14\", \"2021-01-15\", \"2021-01-16\", \"2021-01-17\", \"2021-01-18\", \"2021-01-19\", \"2021-01-20\", \"2021-01-21\", \"2021-01-22\", \"2021-01-23\", \"2021-01-24\", \"2021-01-25\", \"2021-01-26\", \"2021-01-27\", \"2021-01-28\", \"2021-01-29\", \"2021-01-30\", \"2021-01-31\", \"2021-02-01\", \"2021-02-02\", \"2021-02-03\", \"2021-02-04\", \"2021-02-05\", \"2021-02-06\", \"2021-02-07\", \"2021-02-08\", \"2021-02-09\", \"2021-02-10\", \"2021-02-11\", \"2021-02-12\", \"2021-02-13\", \"2021-02-14\", \"2021-02-15\", \"2021-02-16\", \"2021-02-17\", \"2021-02-18\", \"2021-02-19\", \"2021-02-20\", \"2021-02-21\", \"2021-02-22\", \"2021-02-23\", \"2021-02-24\", \"2021-02-25\", \"2021-02-26\", \"2021-02-27\", \"2021-02-28\", \"2021-03-01\", \"2021-03-02\", \"2021-03-03\", \"2021-03-04\", \"2021-03-05\", \"2021-03-06\", \"2021-03-07\", \"2021-03-08\", \"2021-03-09\", \"2021-03-10\", \"2021-03-11\", \"2021-03-12\", \"2021-03-13\", \"2021-03-14\", \"2021-03-15\", \"2021-03-16\", \"2021-03-17\", \"2021-03-18\", \"2021-03-19\", \"2021-03-20\", \"2021-03-21\", \"2021-03-22\", \"2021-03-23\", \"2021-03-24\", \"2021-03-25\", \"2021-03-26\", \"2021-03-27\", \"2021-03-28\", \"2021-03-29\", \"2021-03-30\", \"2021-03-31\", \"2021-04-01\", \"2021-04-02\", \"2021-04-03\", \"2021-04-04\", \"2021-04-05\", \"2021-04-06\", \"2021-04-07\", \"2021-04-08\", \"2021-04-09\", \"2021-04-10\", \"2021-04-11\", \"2021-04-12\", \"2021-04-13\", \"2021-04-14\", \"2021-04-15\", \"2021-04-16\", \"2021-04-17\", \"2021-04-18\", \"2021-04-19\", \"2021-04-20\", \"2021-04-21\", \"2021-04-22\", \"2021-04-23\", \"2021-04-24\", \"2021-04-25\", \"2021-04-26\", \"2021-04-27\", \"2021-04-28\", \"2021-04-29\", \"2021-04-30\", \"2021-05-01\", \"2021-05-02\", \"2021-05-03\", \"2021-05-04\", \"2021-05-05\", \"2021-05-06\", \"2021-05-07\", \"2021-05-08\", \"2021-05-09\", \"2021-05-10\", \"2021-05-11\", \"2021-05-12\", \"2021-05-13\", \"2021-05-14\", \"2021-05-15\", \"2021-05-16\", \"2021-05-17\", \"2021-05-18\", \"2021-05-19\", \"2021-05-20\", \"2021-05-21\", \"2021-05-22\", \"2021-05-23\", \"2021-05-24\", \"2021-05-25\", \"2021-05-26\", \"2021-05-27\", \"2021-05-28\", \"2021-05-29\", \"2021-05-30\", \"2021-05-31\", \"2021-06-01\", \"2021-06-02\", \"2021-06-03\", \"2021-06-04\", \"2021-06-05\", \"2021-06-06\", \"2021-06-07\", \"2021-06-08\", \"2021-06-09\"], \"xaxis\": \"x\", \"y\": [8.352, 7.792000000000001, 18.354, 23.098000000000003, 18.457, 18.929000000000002, 19.135, 10.046, 8.868, 23.746, 26.898000000000003, 19.090999999999998, 20.638, 19.916, 9.0, 8.75, 24.099, 25.425, 18.250999999999998, 18.384, 17.75, 8.691, 5.995, 21.374000000000002, 19.474, 13.478, 14.952, 12.197000000000001, 5.539, 4.905, 15.497, 14.76, 10.017000000000001, 11.181, 9.148, 3.815, 3.4619999999999997, 11.77, 10.870999999999999, 6.702000000000001, 7.851, 6.57, 3.197, 2.622, 8.072000000000001, 6.526, 4.773, 5.082, 4.287, 2.121, 1.5319999999999998, 5.053, 7.1739999999999995, 3.565, 3.4760000000000004, 2.342, 1.208, 0.9570000000000001, 3.403, 2.799, 2.6660000000000004, 2.593, 1.797, 0.7659999999999999, 0.943, 1.62, 2.077, 1.399, 1.473, 1.4140000000000001, 0.501, 0.265, 1.65, 1.444, 0.9279999999999999, 1.046, 0.8540000000000001, 0.309, 0.33899999999999997, 0.81, 0.633, 0.7509999999999999, 0.7659999999999999, 0.147, 0.147, 0.41200000000000003, 0.295, 0.6629999999999999, 0.7809999999999999, 0.884, 0.589, 0.10300000000000001, 0.221, 0.33899999999999997, 0.56, 0.457, 0.501, 0.53, 0.147, 0.08800000000000001, 0.486, 0.295, 0.295, 0.604, 0.47100000000000003, 0.162, 0.10300000000000001, 0.25, 0.42700000000000005, 0.368, 0.23600000000000002, 0.10300000000000001, 0.20600000000000002, 0.015, 0.08800000000000001, 0.39799999999999996, 0.191, 0.221, 0.07400000000000001, 0.028999999999999998, 0.07400000000000001, 0.295, 0.162, 0.162, 0.265, 0.10300000000000001, 0.059000000000000004, 0.07400000000000001, 0.10300000000000001, 0.044000000000000004, 0.10300000000000001, 0.133, 0.08800000000000001, 0.07400000000000001, 0.044000000000000004, 0.221, 0.133, 0.147, 0.147, 0.10300000000000001, 0.08800000000000001, 0.028999999999999998, 0.0, 0.177, 0.265, 0.162, 0.191, 0.059000000000000004, 0.015, 0.20600000000000002, 0.08800000000000001], \"yaxis\": \"y\"}],                        {\"hovermode\": \"x unified\", \"legend\": {\"title\": {\"text\": \"Vaccine\"}, \"tracegroupgap\": 0}, \"template\": {\"data\": {\"bar\": [{\"error_x\": {\"color\": \"#2a3f5f\"}, \"error_y\": {\"color\": \"#2a3f5f\"}, \"marker\": {\"line\": {\"color\": \"#E5ECF6\", \"width\": 0.5}}, \"type\": \"bar\"}], \"barpolar\": [{\"marker\": {\"line\": {\"color\": \"#E5ECF6\", \"width\": 0.5}}, \"type\": \"barpolar\"}], \"carpet\": [{\"aaxis\": {\"endlinecolor\": \"#2a3f5f\", \"gridcolor\": \"white\", \"linecolor\": \"white\", \"minorgridcolor\": \"white\", \"startlinecolor\": \"#2a3f5f\"}, \"baxis\": {\"endlinecolor\": \"#2a3f5f\", \"gridcolor\": \"white\", \"linecolor\": \"white\", \"minorgridcolor\": \"white\", \"startlinecolor\": \"#2a3f5f\"}, \"type\": \"carpet\"}], \"choropleth\": [{\"colorbar\": {\"outlinewidth\": 0, \"ticks\": \"\"}, \"type\": \"choropleth\"}], \"contour\": [{\"colorbar\": {\"outlinewidth\": 0, \"ticks\": \"\"}, \"colorscale\": [[0.0, \"#0d0887\"], [0.1111111111111111, \"#46039f\"], [0.2222222222222222, \"#7201a8\"], [0.3333333333333333, \"#9c179e\"], [0.4444444444444444, \"#bd3786\"], [0.5555555555555556, \"#d8576b\"], [0.6666666666666666, \"#ed7953\"], [0.7777777777777778, \"#fb9f3a\"], [0.8888888888888888, \"#fdca26\"], [1.0, \"#f0f921\"]], \"type\": \"contour\"}], \"contourcarpet\": [{\"colorbar\": {\"outlinewidth\": 0, \"ticks\": \"\"}, \"type\": \"contourcarpet\"}], \"heatmap\": [{\"colorbar\": {\"outlinewidth\": 0, \"ticks\": \"\"}, \"colorscale\": [[0.0, \"#0d0887\"], [0.1111111111111111, \"#46039f\"], [0.2222222222222222, \"#7201a8\"], [0.3333333333333333, \"#9c179e\"], [0.4444444444444444, \"#bd3786\"], [0.5555555555555556, \"#d8576b\"], [0.6666666666666666, \"#ed7953\"], [0.7777777777777778, \"#fb9f3a\"], [0.8888888888888888, \"#fdca26\"], [1.0, \"#f0f921\"]], \"type\": \"heatmap\"}], \"heatmapgl\": [{\"colorbar\": {\"outlinewidth\": 0, \"ticks\": \"\"}, \"colorscale\": [[0.0, \"#0d0887\"], [0.1111111111111111, \"#46039f\"], [0.2222222222222222, \"#7201a8\"], [0.3333333333333333, \"#9c179e\"], [0.4444444444444444, \"#bd3786\"], [0.5555555555555556, \"#d8576b\"], [0.6666666666666666, \"#ed7953\"], [0.7777777777777778, \"#fb9f3a\"], [0.8888888888888888, \"#fdca26\"], [1.0, \"#f0f921\"]], \"type\": \"heatmapgl\"}], \"histogram\": [{\"marker\": {\"colorbar\": {\"outlinewidth\": 0, \"ticks\": \"\"}}, \"type\": \"histogram\"}], \"histogram2d\": [{\"colorbar\": {\"outlinewidth\": 0, \"ticks\": \"\"}, \"colorscale\": [[0.0, \"#0d0887\"], [0.1111111111111111, \"#46039f\"], [0.2222222222222222, \"#7201a8\"], [0.3333333333333333, \"#9c179e\"], [0.4444444444444444, \"#bd3786\"], [0.5555555555555556, \"#d8576b\"], [0.6666666666666666, \"#ed7953\"], [0.7777777777777778, \"#fb9f3a\"], [0.8888888888888888, \"#fdca26\"], [1.0, \"#f0f921\"]], \"type\": \"histogram2d\"}], \"histogram2dcontour\": [{\"colorbar\": {\"outlinewidth\": 0, \"ticks\": \"\"}, \"colorscale\": [[0.0, \"#0d0887\"], [0.1111111111111111, \"#46039f\"], [0.2222222222222222, \"#7201a8\"], [0.3333333333333333, \"#9c179e\"], [0.4444444444444444, \"#bd3786\"], [0.5555555555555556, \"#d8576b\"], [0.6666666666666666, \"#ed7953\"], [0.7777777777777778, \"#fb9f3a\"], [0.8888888888888888, \"#fdca26\"], [1.0, \"#f0f921\"]], \"type\": \"histogram2dcontour\"}], \"mesh3d\": [{\"colorbar\": {\"outlinewidth\": 0, \"ticks\": \"\"}, \"type\": \"mesh3d\"}], \"parcoords\": [{\"line\": {\"colorbar\": {\"outlinewidth\": 0, \"ticks\": \"\"}}, \"type\": \"parcoords\"}], \"pie\": [{\"automargin\": true, \"type\": \"pie\"}], \"scatter\": [{\"marker\": {\"colorbar\": {\"outlinewidth\": 0, \"ticks\": \"\"}}, \"type\": \"scatter\"}], \"scatter3d\": [{\"line\": {\"colorbar\": {\"outlinewidth\": 0, \"ticks\": \"\"}}, \"marker\": {\"colorbar\": {\"outlinewidth\": 0, \"ticks\": \"\"}}, \"type\": \"scatter3d\"}], \"scattercarpet\": [{\"marker\": {\"colorbar\": {\"outlinewidth\": 0, \"ticks\": \"\"}}, \"type\": \"scattercarpet\"}], \"scattergeo\": [{\"marker\": {\"colorbar\": {\"outlinewidth\": 0, \"ticks\": \"\"}}, \"type\": \"scattergeo\"}], \"scattergl\": [{\"marker\": {\"colorbar\": {\"outlinewidth\": 0, \"ticks\": \"\"}}, \"type\": \"scattergl\"}], \"scattermapbox\": [{\"marker\": {\"colorbar\": {\"outlinewidth\": 0, \"ticks\": \"\"}}, \"type\": \"scattermapbox\"}], \"scatterpolar\": [{\"marker\": {\"colorbar\": {\"outlinewidth\": 0, \"ticks\": \"\"}}, \"type\": \"scatterpolar\"}], \"scatterpolargl\": [{\"marker\": {\"colorbar\": {\"outlinewidth\": 0, \"ticks\": \"\"}}, \"type\": \"scatterpolargl\"}], \"scatterternary\": [{\"marker\": {\"colorbar\": {\"outlinewidth\": 0, \"ticks\": \"\"}}, \"type\": \"scatterternary\"}], \"surface\": [{\"colorbar\": {\"outlinewidth\": 0, \"ticks\": \"\"}, \"colorscale\": [[0.0, \"#0d0887\"], [0.1111111111111111, \"#46039f\"], [0.2222222222222222, \"#7201a8\"], [0.3333333333333333, \"#9c179e\"], [0.4444444444444444, \"#bd3786\"], [0.5555555555555556, \"#d8576b\"], [0.6666666666666666, \"#ed7953\"], [0.7777777777777778, \"#fb9f3a\"], [0.8888888888888888, \"#fdca26\"], [1.0, \"#f0f921\"]], \"type\": \"surface\"}], \"table\": [{\"cells\": {\"fill\": {\"color\": \"#EBF0F8\"}, \"line\": {\"color\": \"white\"}}, \"header\": {\"fill\": {\"color\": \"#C8D4E3\"}, \"line\": {\"color\": \"white\"}}, \"type\": \"table\"}]}, \"layout\": {\"annotationdefaults\": {\"arrowcolor\": \"#2a3f5f\", \"arrowhead\": 0, \"arrowwidth\": 1}, \"autotypenumbers\": \"strict\", \"coloraxis\": {\"colorbar\": {\"outlinewidth\": 0, \"ticks\": \"\"}}, \"colorscale\": {\"diverging\": [[0, \"#8e0152\"], [0.1, \"#c51b7d\"], [0.2, \"#de77ae\"], [0.3, \"#f1b6da\"], [0.4, \"#fde0ef\"], [0.5, \"#f7f7f7\"], [0.6, \"#e6f5d0\"], [0.7, \"#b8e186\"], [0.8, \"#7fbc41\"], [0.9, \"#4d9221\"], [1, \"#276419\"]], \"sequential\": [[0.0, \"#0d0887\"], [0.1111111111111111, \"#46039f\"], [0.2222222222222222, \"#7201a8\"], [0.3333333333333333, \"#9c179e\"], [0.4444444444444444, \"#bd3786\"], [0.5555555555555556, \"#d8576b\"], [0.6666666666666666, \"#ed7953\"], [0.7777777777777778, \"#fb9f3a\"], [0.8888888888888888, \"#fdca26\"], [1.0, \"#f0f921\"]], \"sequentialminus\": [[0.0, \"#0d0887\"], [0.1111111111111111, \"#46039f\"], [0.2222222222222222, \"#7201a8\"], [0.3333333333333333, \"#9c179e\"], [0.4444444444444444, \"#bd3786\"], [0.5555555555555556, \"#d8576b\"], [0.6666666666666666, \"#ed7953\"], [0.7777777777777778, \"#fb9f3a\"], [0.8888888888888888, \"#fdca26\"], [1.0, \"#f0f921\"]]}, \"colorway\": [\"#636efa\", \"#EF553B\", \"#00cc96\", \"#ab63fa\", \"#FFA15A\", \"#19d3f3\", \"#FF6692\", \"#B6E880\", \"#FF97FF\", \"#FECB52\"], \"font\": {\"color\": \"#2a3f5f\"}, \"geo\": {\"bgcolor\": \"white\", \"lakecolor\": \"white\", \"landcolor\": \"#E5ECF6\", \"showlakes\": true, \"showland\": true, \"subunitcolor\": \"white\"}, \"hoverlabel\": {\"align\": \"left\"}, \"hovermode\": \"closest\", \"mapbox\": {\"style\": \"light\"}, \"paper_bgcolor\": \"white\", \"plot_bgcolor\": \"#E5ECF6\", \"polar\": {\"angularaxis\": {\"gridcolor\": \"white\", \"linecolor\": \"white\", \"ticks\": \"\"}, \"bgcolor\": \"#E5ECF6\", \"radialaxis\": {\"gridcolor\": \"white\", \"linecolor\": \"white\", \"ticks\": \"\"}}, \"scene\": {\"xaxis\": {\"backgroundcolor\": \"#E5ECF6\", \"gridcolor\": \"white\", \"gridwidth\": 2, \"linecolor\": \"white\", \"showbackground\": true, \"ticks\": \"\", \"zerolinecolor\": \"white\"}, \"yaxis\": {\"backgroundcolor\": \"#E5ECF6\", \"gridcolor\": \"white\", \"gridwidth\": 2, \"linecolor\": \"white\", \"showbackground\": true, \"ticks\": \"\", \"zerolinecolor\": \"white\"}, \"zaxis\": {\"backgroundcolor\": \"#E5ECF6\", \"gridcolor\": \"white\", \"gridwidth\": 2, \"linecolor\": \"white\", \"showbackground\": true, \"ticks\": \"\", \"zerolinecolor\": \"white\"}}, \"shapedefaults\": {\"line\": {\"color\": \"#2a3f5f\"}}, \"ternary\": {\"aaxis\": {\"gridcolor\": \"white\", \"linecolor\": \"white\", \"ticks\": \"\"}, \"baxis\": {\"gridcolor\": \"white\", \"linecolor\": \"white\", \"ticks\": \"\"}, \"bgcolor\": \"#E5ECF6\", \"caxis\": {\"gridcolor\": \"white\", \"linecolor\": \"white\", \"ticks\": \"\"}}, \"title\": {\"x\": 0.05}, \"xaxis\": {\"automargin\": true, \"gridcolor\": \"white\", \"linecolor\": \"white\", \"ticks\": \"\", \"title\": {\"standoff\": 15}, \"zerolinecolor\": \"white\", \"zerolinewidth\": 2}, \"yaxis\": {\"automargin\": true, \"gridcolor\": \"white\", \"linecolor\": \"white\", \"ticks\": \"\", \"title\": {\"standoff\": 15}, \"zerolinecolor\": \"white\", \"zerolinewidth\": 2}}}, \"title\": {\"text\": \"New Deaths\"}, \"xaxis\": {\"anchor\": \"y\", \"domain\": [0.0, 1.0], \"title\": {\"text\": \"date\"}}, \"yaxis\": {\"anchor\": \"x\", \"domain\": [0.0, 1.0], \"title\": {\"text\": \"new_deaths_per_million\"}}},                        {\"responsive\": true}                    ).then(function(){\n",
              "                            \n",
              "var gd = document.getElementById('b7f64ce8-ec45-4f87-bcc8-d5835561badf');\n",
              "var x = new MutationObserver(function (mutations, observer) {{\n",
              "        var display = window.getComputedStyle(gd).display;\n",
              "        if (!display || display === 'none') {{\n",
              "            console.log([gd, 'removed!']);\n",
              "            Plotly.purge(gd);\n",
              "            observer.disconnect();\n",
              "        }}\n",
              "}});\n",
              "\n",
              "// Listen for the removal of the full notebook cells\n",
              "var notebookContainer = gd.closest('#notebook-container');\n",
              "if (notebookContainer) {{\n",
              "    x.observe(notebookContainer, {childList: true});\n",
              "}}\n",
              "\n",
              "// Listen for the clearing of the current output cell\n",
              "var outputEl = gd.closest('.output');\n",
              "if (outputEl) {{\n",
              "    x.observe(outputEl, {childList: true});\n",
              "}}\n",
              "\n",
              "                        })                };                            </script>        </div>\n",
              "</body>\n",
              "</html>"
            ]
          },
          "metadata": {
            "tags": []
          }
        }
      ]
    },
    {
      "cell_type": "code",
      "metadata": {
        "colab": {
          "base_uri": "https://localhost:8080/",
          "height": 542
        },
        "id": "np1-ZUtiLWcO",
        "outputId": "dc46a057-175b-4c34-c52e-77a321e35e8e"
      },
      "source": [
        "fig = px.line(dataset_UK,  dataset_UK[\"date\"], dataset_UK[\"new_deaths_per_million\"], title = \"New Deaths\", color = dataset_UK[\"Vaccine\"]) #hover_data = [\"new_deaths\", \"population\", \"total_cases\", \"new_cases\"])\n",
        "fig.update_traces(mode = \"markers + lines\", hovertemplate = None)\n",
        "fig.update_layout(hovermode = \"x unified\")\n",
        "fig.show()"
      ],
      "execution_count": 65,
      "outputs": [
        {
          "output_type": "display_data",
          "data": {
            "text/html": [
              "<html>\n",
              "<head><meta charset=\"utf-8\" /></head>\n",
              "<body>\n",
              "    <div>            <script src=\"https://cdnjs.cloudflare.com/ajax/libs/mathjax/2.7.5/MathJax.js?config=TeX-AMS-MML_SVG\"></script><script type=\"text/javascript\">if (window.MathJax) {MathJax.Hub.Config({SVG: {font: \"STIX-Web\"}});}</script>                <script type=\"text/javascript\">window.PlotlyConfig = {MathJaxConfig: 'local'};</script>\n",
              "        <script src=\"https://cdn.plot.ly/plotly-latest.min.js\"></script>                <div id=\"902a16e6-424f-4132-b1ea-faed277e7f6d\" class=\"plotly-graph-div\" style=\"height:525px; width:100%;\"></div>            <script type=\"text/javascript\">                                    window.PLOTLYENV=window.PLOTLYENV || {};                                    if (document.getElementById(\"902a16e6-424f-4132-b1ea-faed277e7f6d\")) {                    Plotly.newPlot(                        \"902a16e6-424f-4132-b1ea-faed277e7f6d\",                        [{\"legendgroup\": \"No Vaccine\", \"line\": {\"color\": \"#636efa\", \"dash\": \"solid\"}, \"mode\": \"markers+lines\", \"name\": \"No Vaccine\", \"orientation\": \"v\", \"showlegend\": true, \"type\": \"scatter\", \"x\": [\"2020-05-01\", \"2020-05-02\", \"2020-05-03\", \"2020-05-04\", \"2020-05-05\", \"2020-05-06\", \"2020-05-07\", \"2020-05-08\", \"2020-05-09\", \"2020-05-10\", \"2020-05-11\", \"2020-05-12\", \"2020-05-13\", \"2020-05-14\", \"2020-05-15\", \"2020-05-16\", \"2020-05-17\", \"2020-05-18\", \"2020-05-19\", \"2020-05-20\", \"2020-05-21\", \"2020-05-22\", \"2020-05-23\", \"2020-05-24\", \"2020-05-25\", \"2020-05-26\", \"2020-05-27\", \"2020-05-28\", \"2020-05-29\", \"2020-05-30\", \"2020-05-31\", \"2020-06-01\", \"2020-06-02\", \"2020-06-03\", \"2020-06-04\", \"2020-06-05\", \"2020-06-06\", \"2020-06-07\", \"2020-06-08\", \"2020-06-09\", \"2020-06-10\", \"2020-06-11\", \"2020-06-12\", \"2020-06-13\", \"2020-06-14\", \"2020-06-15\", \"2020-06-16\", \"2020-06-17\", \"2020-06-18\", \"2020-06-19\", \"2020-06-20\", \"2020-06-21\", \"2020-06-22\", \"2020-06-23\", \"2020-06-24\", \"2020-06-25\", \"2020-06-26\", \"2020-06-27\", \"2020-06-28\", \"2020-06-29\", \"2020-06-30\", \"2020-07-01\", \"2020-07-02\", \"2020-07-03\", \"2020-07-04\", \"2020-07-05\", \"2020-07-06\", \"2020-07-07\", \"2020-07-08\", \"2020-07-09\", \"2020-07-10\", \"2020-07-11\", \"2020-07-12\", \"2020-07-13\", \"2020-07-14\", \"2020-07-15\", \"2020-07-16\", \"2020-07-17\", \"2020-07-18\", \"2020-07-19\", \"2020-07-20\", \"2020-07-21\", \"2020-07-22\", \"2020-07-23\", \"2020-07-24\", \"2020-07-25\", \"2020-07-26\", \"2020-07-27\", \"2020-07-28\", \"2020-07-29\", \"2020-07-30\", \"2020-07-31\", \"2020-08-01\", \"2020-08-02\", \"2020-08-03\", \"2020-08-04\", \"2020-08-05\", \"2020-08-06\", \"2020-08-07\", \"2020-08-08\", \"2020-08-09\", \"2020-08-10\", \"2020-08-11\", \"2020-08-12\", \"2020-08-13\", \"2020-08-14\", \"2020-08-15\", \"2020-08-16\", \"2020-08-17\", \"2020-08-18\", \"2020-08-19\", \"2020-08-20\", \"2020-08-21\", \"2020-08-22\", \"2020-08-23\", \"2020-08-24\", \"2020-08-25\", \"2020-08-26\", \"2020-08-27\", \"2020-08-28\", \"2020-08-29\", \"2020-08-30\", \"2020-08-31\", \"2020-09-01\", \"2020-09-02\", \"2020-09-03\", \"2020-09-04\", \"2020-09-05\", \"2020-09-06\", \"2020-09-07\", \"2020-09-08\", \"2020-09-09\", \"2020-09-10\", \"2020-09-11\", \"2020-09-12\", \"2020-09-13\", \"2020-09-14\", \"2020-09-15\", \"2020-09-16\", \"2020-09-17\", \"2020-09-18\", \"2020-09-19\", \"2020-09-20\", \"2020-09-21\", \"2020-09-22\", \"2020-09-23\", \"2020-09-24\", \"2020-09-25\", \"2020-09-26\", \"2020-09-27\", \"2020-09-28\", \"2020-09-29\", \"2020-09-30\", \"2020-10-01\", \"2020-10-02\", \"2020-10-03\", \"2020-10-04\", \"2020-10-05\", \"2020-10-06\", \"2020-10-07\", \"2020-10-08\", \"2020-10-09\", \"2020-10-10\", \"2020-10-11\", \"2020-10-12\", \"2020-10-13\", \"2020-10-14\", \"2020-10-15\", \"2020-10-16\", \"2020-10-17\", \"2020-10-18\", \"2020-10-19\", \"2020-10-20\", \"2020-10-21\", \"2020-10-22\", \"2020-10-23\", \"2020-10-24\", \"2020-10-25\", \"2020-10-26\", \"2020-10-27\", \"2020-10-28\", \"2020-10-29\", \"2020-10-30\", \"2020-10-31\", \"2020-11-01\", \"2020-11-02\", \"2020-11-03\", \"2020-11-04\", \"2020-11-05\", \"2020-11-06\", \"2020-11-07\", \"2020-11-08\", \"2020-11-09\", \"2020-11-10\", \"2020-11-11\", \"2020-11-12\", \"2020-11-13\", \"2020-11-14\", \"2020-11-15\", \"2020-11-16\", \"2020-11-17\", \"2020-11-18\", \"2020-11-19\", \"2020-11-20\", \"2020-11-21\", \"2020-11-22\", \"2020-11-23\", \"2020-11-24\", \"2020-11-25\", \"2020-11-26\", \"2020-11-27\", \"2020-11-28\", \"2020-11-29\", \"2020-11-30\", \"2020-12-01\", \"2020-12-02\", \"2020-12-03\", \"2020-12-04\", \"2020-12-05\", \"2020-12-06\", \"2020-12-07\", \"2020-12-08\", \"2020-12-09\", \"2020-12-10\", \"2020-12-11\", \"2020-12-12\", \"2020-12-13\", \"2020-12-14\", \"2020-12-15\", \"2020-12-16\", \"2020-12-17\", \"2020-12-18\", \"2020-12-19\", \"2020-12-20\", \"2020-12-21\", \"2020-12-22\", \"2020-12-23\", \"2020-12-24\", \"2020-12-25\", \"2020-12-26\", \"2020-12-27\", \"2020-12-28\", \"2020-12-29\", \"2020-12-30\", \"2020-12-31\", \"2021-01-01\", \"2021-01-02\", \"2021-01-03\", \"2021-01-04\", \"2021-01-05\", \"2021-01-06\", \"2021-01-07\", \"2021-01-08\", \"2021-01-09\"], \"xaxis\": \"x\", \"y\": [10.311, 8.617, 3.727, 4.021, 10.68, 9.531, 6.747000000000001, 8.544, 4.051, 3.197, 2.7689999999999997, 9.059, 6.599, 5.2, 5.17, 6.053999999999999, 0.987, 2.151, 7.38, 4.846, 4.021, 4.287, 3.241, 5.582999999999999, 1.5319999999999998, 1.93, 6.216, 5.053, 4.0360000000000005, 2.269, 0.884, 1.2670000000000001, 3.6830000000000003, 3.742, 1.915, 3.8, 2.106, 0.795, 0.6920000000000001, 2.9019999999999997, 2.416, 1.12, 1.93, 1.5759999999999998, 0.39799999999999996, 0.42700000000000005, 1.768, 1.62, 0.987, 1.237, 1.046, 0.457, 0.191, 1.385, 1.2819999999999998, 1.4580000000000002, 1.1340000000000001, 0.589, 0.457, 0.309, 0.795, 1.429, 0.604, 0.722, 0.47100000000000003, 0.28, 0.162, 0.795, 0.84, 0.457, 0.501, 0.25, 0.133, 0.147, 0.648, 0.38299999999999995, 0.354, 0.38299999999999995, 0.133, 0.162, 0.147, 0.368, 0.25, 0.133, 0.47100000000000003, 0.221, 0.11800000000000001, 0.044000000000000004, 0.309, 0.501, 0.0, 0.295, 0.191, 0.07400000000000001, 0.015, 0.265, 0.20600000000000002, 0.265, 0.177, 0.044000000000000004, 0.07400000000000001, 0.265, 0.191, 0.295, 0.265, 0.162, 0.044000000000000004, 0.07400000000000001, 0.044000000000000004, 0.177, 0.25, 0.08800000000000001, 0.028999999999999998, 0.265, 0.08800000000000001, 0.059000000000000004, 0.23600000000000002, 0.25, 0.177, 0.133, 0.177, 0.015, 0.044000000000000004, 0.044000000000000004, 0.147, 0.20600000000000002, 0.147, 0.177, 0.028999999999999998, 0.044000000000000004, 0.47100000000000003, 0.11800000000000001, 0.20600000000000002, 0.08800000000000001, 0.133, 0.07400000000000001, 0.133, 0.39799999999999996, 0.295, 0.309, 0.39799999999999996, 0.39799999999999996, 0.265, 0.162, 0.545, 0.545, 0.589, 0.501, 0.516, 0.25, 0.191, 1.061, 1.046, 0.8690000000000001, 0.972, 0.722, 0.486, 0.28, 1.12, 1.031, 1.1340000000000001, 1.2819999999999998, 1.193, 0.9570000000000001, 0.737, 2.106, 2.0180000000000002, 2.033, 2.003, 2.21, 0.987, 1.178, 3.55, 2.8139999999999996, 2.784, 3.3, 2.563, 2.224, 1.5030000000000001, 5.406000000000001, 4.566, 4.125, 4.0360000000000005, 4.802, 2.386, 2.003, 5.848, 7.247000000000001, 5.568, 5.229, 6.084, 2.298, 2.872, 7.837000000000001, 8.779, 8.293, 5.539, 6.806, 2.475, 3.1519999999999997, 8.824, 7.792000000000001, 7.395, 7.527, 5.008, 5.877999999999999, 3.049, 8.956, 10.238, 7.336, 7.66, 7.056, 3.167, 2.99, 8.883, 9.545, 6.098, 7.4239999999999995, 5.848, 3.403, 2.784, 8.824, 7.851, 7.601, 6.246, 7.66, 2.121, 3.432, 7.454, 9.015, 7.837000000000001, 7.218, 7.91, 4.802, 3.167, 10.179, 11.017999999999999, 8.47, 8.396, 3.108, 5.112, 5.2589999999999995, 6.747000000000001, 14.465, 14.215, 9.059, 6.555, 6.702000000000001, 6.04, 12.978, 15.349, 17.117, 19.636, 15.245999999999999], \"yaxis\": \"y\"}, {\"legendgroup\": \"Astra Zeneca\", \"line\": {\"color\": \"#EF553B\", \"dash\": \"solid\"}, \"mode\": \"markers+lines\", \"name\": \"Astra Zeneca\", \"orientation\": \"v\", \"showlegend\": true, \"type\": \"scatter\", \"x\": [\"2021-01-10\", \"2021-01-11\", \"2021-01-12\", \"2021-01-13\", \"2021-01-14\", \"2021-01-15\", \"2021-01-16\", \"2021-01-17\", \"2021-01-18\", \"2021-01-19\", \"2021-01-20\", \"2021-01-21\", \"2021-01-22\", \"2021-01-23\", \"2021-01-24\", \"2021-01-25\", \"2021-01-26\", \"2021-01-27\", \"2021-01-28\", \"2021-01-29\", \"2021-01-30\", \"2021-01-31\", \"2021-02-01\", \"2021-02-02\", \"2021-02-03\", \"2021-02-04\", \"2021-02-05\", \"2021-02-06\", \"2021-02-07\", \"2021-02-08\", \"2021-02-09\", \"2021-02-10\", \"2021-02-11\", \"2021-02-12\", \"2021-02-13\", \"2021-02-14\", \"2021-02-15\", \"2021-02-16\", \"2021-02-17\", \"2021-02-18\", \"2021-02-19\", \"2021-02-20\", \"2021-02-21\", \"2021-02-22\", \"2021-02-23\", \"2021-02-24\", \"2021-02-25\", \"2021-02-26\", \"2021-02-27\", \"2021-02-28\", \"2021-03-01\", \"2021-03-02\", \"2021-03-03\", \"2021-03-04\", \"2021-03-05\", \"2021-03-06\", \"2021-03-07\", \"2021-03-08\", \"2021-03-09\", \"2021-03-10\", \"2021-03-11\", \"2021-03-12\", \"2021-03-13\", \"2021-03-14\", \"2021-03-15\", \"2021-03-16\", \"2021-03-17\", \"2021-03-18\", \"2021-03-19\", \"2021-03-20\", \"2021-03-21\", \"2021-03-22\", \"2021-03-23\", \"2021-03-24\", \"2021-03-25\", \"2021-03-26\", \"2021-03-27\", \"2021-03-28\", \"2021-03-29\", \"2021-03-30\", \"2021-03-31\", \"2021-04-01\", \"2021-04-02\", \"2021-04-03\", \"2021-04-04\", \"2021-04-05\", \"2021-04-06\", \"2021-04-07\", \"2021-04-08\", \"2021-04-09\", \"2021-04-10\", \"2021-04-11\", \"2021-04-12\", \"2021-04-13\", \"2021-04-14\", \"2021-04-15\", \"2021-04-16\", \"2021-04-17\", \"2021-04-18\", \"2021-04-19\", \"2021-04-20\", \"2021-04-21\", \"2021-04-22\", \"2021-04-23\", \"2021-04-24\", \"2021-04-25\", \"2021-04-26\", \"2021-04-27\", \"2021-04-28\", \"2021-04-29\", \"2021-04-30\", \"2021-05-01\", \"2021-05-02\", \"2021-05-03\", \"2021-05-04\", \"2021-05-05\", \"2021-05-06\", \"2021-05-07\", \"2021-05-08\", \"2021-05-09\", \"2021-05-10\", \"2021-05-11\", \"2021-05-12\", \"2021-05-13\", \"2021-05-14\", \"2021-05-15\", \"2021-05-16\", \"2021-05-17\", \"2021-05-18\", \"2021-05-19\", \"2021-05-20\", \"2021-05-21\", \"2021-05-22\", \"2021-05-23\", \"2021-05-24\", \"2021-05-25\", \"2021-05-26\", \"2021-05-27\", \"2021-05-28\", \"2021-05-29\", \"2021-05-30\", \"2021-05-31\", \"2021-06-01\", \"2021-06-02\", \"2021-06-03\", \"2021-06-04\", \"2021-06-05\", \"2021-06-06\", \"2021-06-07\", \"2021-06-08\", \"2021-06-09\"], \"xaxis\": \"x\", \"y\": [8.352, 7.792000000000001, 18.354, 23.098000000000003, 18.457, 18.929000000000002, 19.135, 10.046, 8.868, 23.746, 26.898000000000003, 19.090999999999998, 20.638, 19.916, 9.0, 8.75, 24.099, 25.425, 18.250999999999998, 18.384, 17.75, 8.691, 5.995, 21.374000000000002, 19.474, 13.478, 14.952, 12.197000000000001, 5.539, 4.905, 15.497, 14.76, 10.017000000000001, 11.181, 9.148, 3.815, 3.4619999999999997, 11.77, 10.870999999999999, 6.702000000000001, 7.851, 6.57, 3.197, 2.622, 8.072000000000001, 6.526, 4.773, 5.082, 4.287, 2.121, 1.5319999999999998, 5.053, 7.1739999999999995, 3.565, 3.4760000000000004, 2.342, 1.208, 0.9570000000000001, 3.403, 2.799, 2.6660000000000004, 2.593, 1.797, 0.7659999999999999, 0.943, 1.62, 2.077, 1.399, 1.473, 1.4140000000000001, 0.501, 0.265, 1.65, 1.444, 0.9279999999999999, 1.046, 0.8540000000000001, 0.309, 0.33899999999999997, 0.81, 0.633, 0.7509999999999999, 0.7659999999999999, 0.147, 0.147, 0.41200000000000003, 0.295, 0.6629999999999999, 0.7809999999999999, 0.884, 0.589, 0.10300000000000001, 0.221, 0.33899999999999997, 0.56, 0.457, 0.501, 0.53, 0.147, 0.08800000000000001, 0.486, 0.295, 0.295, 0.604, 0.47100000000000003, 0.162, 0.10300000000000001, 0.25, 0.42700000000000005, 0.368, 0.23600000000000002, 0.10300000000000001, 0.20600000000000002, 0.015, 0.08800000000000001, 0.39799999999999996, 0.191, 0.221, 0.07400000000000001, 0.028999999999999998, 0.07400000000000001, 0.295, 0.162, 0.162, 0.265, 0.10300000000000001, 0.059000000000000004, 0.07400000000000001, 0.10300000000000001, 0.044000000000000004, 0.10300000000000001, 0.133, 0.08800000000000001, 0.07400000000000001, 0.044000000000000004, 0.221, 0.133, 0.147, 0.147, 0.10300000000000001, 0.08800000000000001, 0.028999999999999998, 0.0, 0.177, 0.265, 0.162, 0.191, 0.059000000000000004, 0.015, 0.20600000000000002, 0.08800000000000001], \"yaxis\": \"y\"}],                        {\"hovermode\": \"x unified\", \"legend\": {\"title\": {\"text\": \"Vaccine\"}, \"tracegroupgap\": 0}, \"template\": {\"data\": {\"bar\": [{\"error_x\": {\"color\": \"#2a3f5f\"}, \"error_y\": {\"color\": \"#2a3f5f\"}, \"marker\": {\"line\": {\"color\": \"#E5ECF6\", \"width\": 0.5}}, \"type\": \"bar\"}], \"barpolar\": [{\"marker\": {\"line\": {\"color\": \"#E5ECF6\", \"width\": 0.5}}, \"type\": \"barpolar\"}], \"carpet\": [{\"aaxis\": {\"endlinecolor\": \"#2a3f5f\", \"gridcolor\": \"white\", \"linecolor\": \"white\", \"minorgridcolor\": \"white\", \"startlinecolor\": \"#2a3f5f\"}, \"baxis\": {\"endlinecolor\": \"#2a3f5f\", \"gridcolor\": \"white\", \"linecolor\": \"white\", \"minorgridcolor\": \"white\", \"startlinecolor\": \"#2a3f5f\"}, \"type\": \"carpet\"}], \"choropleth\": [{\"colorbar\": {\"outlinewidth\": 0, \"ticks\": \"\"}, \"type\": \"choropleth\"}], \"contour\": [{\"colorbar\": {\"outlinewidth\": 0, \"ticks\": \"\"}, \"colorscale\": [[0.0, \"#0d0887\"], [0.1111111111111111, \"#46039f\"], [0.2222222222222222, \"#7201a8\"], [0.3333333333333333, \"#9c179e\"], [0.4444444444444444, \"#bd3786\"], [0.5555555555555556, \"#d8576b\"], [0.6666666666666666, \"#ed7953\"], [0.7777777777777778, \"#fb9f3a\"], [0.8888888888888888, \"#fdca26\"], [1.0, \"#f0f921\"]], \"type\": \"contour\"}], \"contourcarpet\": [{\"colorbar\": {\"outlinewidth\": 0, \"ticks\": \"\"}, \"type\": \"contourcarpet\"}], \"heatmap\": [{\"colorbar\": {\"outlinewidth\": 0, \"ticks\": \"\"}, \"colorscale\": [[0.0, \"#0d0887\"], [0.1111111111111111, \"#46039f\"], [0.2222222222222222, \"#7201a8\"], [0.3333333333333333, \"#9c179e\"], [0.4444444444444444, \"#bd3786\"], [0.5555555555555556, \"#d8576b\"], [0.6666666666666666, \"#ed7953\"], [0.7777777777777778, \"#fb9f3a\"], [0.8888888888888888, \"#fdca26\"], [1.0, \"#f0f921\"]], \"type\": \"heatmap\"}], \"heatmapgl\": [{\"colorbar\": {\"outlinewidth\": 0, \"ticks\": \"\"}, \"colorscale\": [[0.0, \"#0d0887\"], [0.1111111111111111, \"#46039f\"], [0.2222222222222222, \"#7201a8\"], [0.3333333333333333, \"#9c179e\"], [0.4444444444444444, \"#bd3786\"], [0.5555555555555556, \"#d8576b\"], [0.6666666666666666, \"#ed7953\"], [0.7777777777777778, \"#fb9f3a\"], [0.8888888888888888, \"#fdca26\"], [1.0, \"#f0f921\"]], \"type\": \"heatmapgl\"}], \"histogram\": [{\"marker\": {\"colorbar\": {\"outlinewidth\": 0, \"ticks\": \"\"}}, \"type\": \"histogram\"}], \"histogram2d\": [{\"colorbar\": {\"outlinewidth\": 0, \"ticks\": \"\"}, \"colorscale\": [[0.0, \"#0d0887\"], [0.1111111111111111, \"#46039f\"], [0.2222222222222222, \"#7201a8\"], [0.3333333333333333, \"#9c179e\"], [0.4444444444444444, \"#bd3786\"], [0.5555555555555556, \"#d8576b\"], [0.6666666666666666, \"#ed7953\"], [0.7777777777777778, \"#fb9f3a\"], [0.8888888888888888, \"#fdca26\"], [1.0, \"#f0f921\"]], \"type\": \"histogram2d\"}], \"histogram2dcontour\": [{\"colorbar\": {\"outlinewidth\": 0, \"ticks\": \"\"}, \"colorscale\": [[0.0, \"#0d0887\"], [0.1111111111111111, \"#46039f\"], [0.2222222222222222, \"#7201a8\"], [0.3333333333333333, \"#9c179e\"], [0.4444444444444444, \"#bd3786\"], [0.5555555555555556, \"#d8576b\"], [0.6666666666666666, \"#ed7953\"], [0.7777777777777778, \"#fb9f3a\"], [0.8888888888888888, \"#fdca26\"], [1.0, \"#f0f921\"]], \"type\": \"histogram2dcontour\"}], \"mesh3d\": [{\"colorbar\": {\"outlinewidth\": 0, \"ticks\": \"\"}, \"type\": \"mesh3d\"}], \"parcoords\": [{\"line\": {\"colorbar\": {\"outlinewidth\": 0, \"ticks\": \"\"}}, \"type\": \"parcoords\"}], \"pie\": [{\"automargin\": true, \"type\": \"pie\"}], \"scatter\": [{\"marker\": {\"colorbar\": {\"outlinewidth\": 0, \"ticks\": \"\"}}, \"type\": \"scatter\"}], \"scatter3d\": [{\"line\": {\"colorbar\": {\"outlinewidth\": 0, \"ticks\": \"\"}}, \"marker\": {\"colorbar\": {\"outlinewidth\": 0, \"ticks\": \"\"}}, \"type\": \"scatter3d\"}], \"scattercarpet\": [{\"marker\": {\"colorbar\": {\"outlinewidth\": 0, \"ticks\": \"\"}}, \"type\": \"scattercarpet\"}], \"scattergeo\": [{\"marker\": {\"colorbar\": {\"outlinewidth\": 0, \"ticks\": \"\"}}, \"type\": \"scattergeo\"}], \"scattergl\": [{\"marker\": {\"colorbar\": {\"outlinewidth\": 0, \"ticks\": \"\"}}, \"type\": \"scattergl\"}], \"scattermapbox\": [{\"marker\": {\"colorbar\": {\"outlinewidth\": 0, \"ticks\": \"\"}}, \"type\": \"scattermapbox\"}], \"scatterpolar\": [{\"marker\": {\"colorbar\": {\"outlinewidth\": 0, \"ticks\": \"\"}}, \"type\": \"scatterpolar\"}], \"scatterpolargl\": [{\"marker\": {\"colorbar\": {\"outlinewidth\": 0, \"ticks\": \"\"}}, \"type\": \"scatterpolargl\"}], \"scatterternary\": [{\"marker\": {\"colorbar\": {\"outlinewidth\": 0, \"ticks\": \"\"}}, \"type\": \"scatterternary\"}], \"surface\": [{\"colorbar\": {\"outlinewidth\": 0, \"ticks\": \"\"}, \"colorscale\": [[0.0, \"#0d0887\"], [0.1111111111111111, \"#46039f\"], [0.2222222222222222, \"#7201a8\"], [0.3333333333333333, \"#9c179e\"], [0.4444444444444444, \"#bd3786\"], [0.5555555555555556, \"#d8576b\"], [0.6666666666666666, \"#ed7953\"], [0.7777777777777778, \"#fb9f3a\"], [0.8888888888888888, \"#fdca26\"], [1.0, \"#f0f921\"]], \"type\": \"surface\"}], \"table\": [{\"cells\": {\"fill\": {\"color\": \"#EBF0F8\"}, \"line\": {\"color\": \"white\"}}, \"header\": {\"fill\": {\"color\": \"#C8D4E3\"}, \"line\": {\"color\": \"white\"}}, \"type\": \"table\"}]}, \"layout\": {\"annotationdefaults\": {\"arrowcolor\": \"#2a3f5f\", \"arrowhead\": 0, \"arrowwidth\": 1}, \"autotypenumbers\": \"strict\", \"coloraxis\": {\"colorbar\": {\"outlinewidth\": 0, \"ticks\": \"\"}}, \"colorscale\": {\"diverging\": [[0, \"#8e0152\"], [0.1, \"#c51b7d\"], [0.2, \"#de77ae\"], [0.3, \"#f1b6da\"], [0.4, \"#fde0ef\"], [0.5, \"#f7f7f7\"], [0.6, \"#e6f5d0\"], [0.7, \"#b8e186\"], [0.8, \"#7fbc41\"], [0.9, \"#4d9221\"], [1, \"#276419\"]], \"sequential\": [[0.0, \"#0d0887\"], [0.1111111111111111, \"#46039f\"], [0.2222222222222222, \"#7201a8\"], [0.3333333333333333, \"#9c179e\"], [0.4444444444444444, \"#bd3786\"], [0.5555555555555556, \"#d8576b\"], [0.6666666666666666, \"#ed7953\"], [0.7777777777777778, \"#fb9f3a\"], [0.8888888888888888, \"#fdca26\"], [1.0, \"#f0f921\"]], \"sequentialminus\": [[0.0, \"#0d0887\"], [0.1111111111111111, \"#46039f\"], [0.2222222222222222, \"#7201a8\"], [0.3333333333333333, \"#9c179e\"], [0.4444444444444444, \"#bd3786\"], [0.5555555555555556, \"#d8576b\"], [0.6666666666666666, \"#ed7953\"], [0.7777777777777778, \"#fb9f3a\"], [0.8888888888888888, \"#fdca26\"], [1.0, \"#f0f921\"]]}, \"colorway\": [\"#636efa\", \"#EF553B\", \"#00cc96\", \"#ab63fa\", \"#FFA15A\", \"#19d3f3\", \"#FF6692\", \"#B6E880\", \"#FF97FF\", \"#FECB52\"], \"font\": {\"color\": \"#2a3f5f\"}, \"geo\": {\"bgcolor\": \"white\", \"lakecolor\": \"white\", \"landcolor\": \"#E5ECF6\", \"showlakes\": true, \"showland\": true, \"subunitcolor\": \"white\"}, \"hoverlabel\": {\"align\": \"left\"}, \"hovermode\": \"closest\", \"mapbox\": {\"style\": \"light\"}, \"paper_bgcolor\": \"white\", \"plot_bgcolor\": \"#E5ECF6\", \"polar\": {\"angularaxis\": {\"gridcolor\": \"white\", \"linecolor\": \"white\", \"ticks\": \"\"}, \"bgcolor\": \"#E5ECF6\", \"radialaxis\": {\"gridcolor\": \"white\", \"linecolor\": \"white\", \"ticks\": \"\"}}, \"scene\": {\"xaxis\": {\"backgroundcolor\": \"#E5ECF6\", \"gridcolor\": \"white\", \"gridwidth\": 2, \"linecolor\": \"white\", \"showbackground\": true, \"ticks\": \"\", \"zerolinecolor\": \"white\"}, \"yaxis\": {\"backgroundcolor\": \"#E5ECF6\", \"gridcolor\": \"white\", \"gridwidth\": 2, \"linecolor\": \"white\", \"showbackground\": true, \"ticks\": \"\", \"zerolinecolor\": \"white\"}, \"zaxis\": {\"backgroundcolor\": \"#E5ECF6\", \"gridcolor\": \"white\", \"gridwidth\": 2, \"linecolor\": \"white\", \"showbackground\": true, \"ticks\": \"\", \"zerolinecolor\": \"white\"}}, \"shapedefaults\": {\"line\": {\"color\": \"#2a3f5f\"}}, \"ternary\": {\"aaxis\": {\"gridcolor\": \"white\", \"linecolor\": \"white\", \"ticks\": \"\"}, \"baxis\": {\"gridcolor\": \"white\", \"linecolor\": \"white\", \"ticks\": \"\"}, \"bgcolor\": \"#E5ECF6\", \"caxis\": {\"gridcolor\": \"white\", \"linecolor\": \"white\", \"ticks\": \"\"}}, \"title\": {\"x\": 0.05}, \"xaxis\": {\"automargin\": true, \"gridcolor\": \"white\", \"linecolor\": \"white\", \"ticks\": \"\", \"title\": {\"standoff\": 15}, \"zerolinecolor\": \"white\", \"zerolinewidth\": 2}, \"yaxis\": {\"automargin\": true, \"gridcolor\": \"white\", \"linecolor\": \"white\", \"ticks\": \"\", \"title\": {\"standoff\": 15}, \"zerolinecolor\": \"white\", \"zerolinewidth\": 2}}}, \"title\": {\"text\": \"New Deaths\"}, \"xaxis\": {\"anchor\": \"y\", \"domain\": [0.0, 1.0], \"title\": {\"text\": \"date\"}}, \"yaxis\": {\"anchor\": \"x\", \"domain\": [0.0, 1.0], \"title\": {\"text\": \"new_deaths_per_million\"}}},                        {\"responsive\": true}                    ).then(function(){\n",
              "                            \n",
              "var gd = document.getElementById('902a16e6-424f-4132-b1ea-faed277e7f6d');\n",
              "var x = new MutationObserver(function (mutations, observer) {{\n",
              "        var display = window.getComputedStyle(gd).display;\n",
              "        if (!display || display === 'none') {{\n",
              "            console.log([gd, 'removed!']);\n",
              "            Plotly.purge(gd);\n",
              "            observer.disconnect();\n",
              "        }}\n",
              "}});\n",
              "\n",
              "// Listen for the removal of the full notebook cells\n",
              "var notebookContainer = gd.closest('#notebook-container');\n",
              "if (notebookContainer) {{\n",
              "    x.observe(notebookContainer, {childList: true});\n",
              "}}\n",
              "\n",
              "// Listen for the clearing of the current output cell\n",
              "var outputEl = gd.closest('.output');\n",
              "if (outputEl) {{\n",
              "    x.observe(outputEl, {childList: true});\n",
              "}}\n",
              "\n",
              "                        })                };                            </script>        </div>\n",
              "</body>\n",
              "</html>"
            ]
          },
          "metadata": {
            "tags": []
          }
        }
      ]
    },
    {
      "cell_type": "code",
      "metadata": {
        "colab": {
          "base_uri": "https://localhost:8080/",
          "height": 542
        },
        "id": "mnAxr_OB6kM4",
        "outputId": "e90cde9e-87f8-4a8e-bced-9886d8160907"
      },
      "source": [
        "fig = px.line(dataset_UK,  dataset_UK[\"date\"], dataset_UK[\"new_deaths\"], title = \"New Deaths\", color = dataset_UK[\"Variant\"]) #hover_data = [\"new_deaths\", \"population\", \"total_cases\", \"new_cases\"])\n",
        "fig.update_traces(mode = \"markers + lines\", hovertemplate = None)\n",
        "fig.update_layout(hovermode = \"x unified\")\n",
        "fig.show()"
      ],
      "execution_count": 66,
      "outputs": [
        {
          "output_type": "display_data",
          "data": {
            "text/html": [
              "<html>\n",
              "<head><meta charset=\"utf-8\" /></head>\n",
              "<body>\n",
              "    <div>            <script src=\"https://cdnjs.cloudflare.com/ajax/libs/mathjax/2.7.5/MathJax.js?config=TeX-AMS-MML_SVG\"></script><script type=\"text/javascript\">if (window.MathJax) {MathJax.Hub.Config({SVG: {font: \"STIX-Web\"}});}</script>                <script type=\"text/javascript\">window.PlotlyConfig = {MathJaxConfig: 'local'};</script>\n",
              "        <script src=\"https://cdn.plot.ly/plotly-latest.min.js\"></script>                <div id=\"7774ed2e-7914-450b-b12c-7808e12e8740\" class=\"plotly-graph-div\" style=\"height:525px; width:100%;\"></div>            <script type=\"text/javascript\">                                    window.PLOTLYENV=window.PLOTLYENV || {};                                    if (document.getElementById(\"7774ed2e-7914-450b-b12c-7808e12e8740\")) {                    Plotly.newPlot(                        \"7774ed2e-7914-450b-b12c-7808e12e8740\",                        [{\"legendgroup\": \"First\", \"line\": {\"color\": \"#636efa\", \"dash\": \"solid\"}, \"mode\": \"markers+lines\", \"name\": \"First\", \"orientation\": \"v\", \"showlegend\": true, \"type\": \"scatter\", \"x\": [\"2020-05-01\", \"2020-05-02\", \"2020-05-03\", \"2020-05-04\", \"2020-05-05\", \"2020-05-06\", \"2020-05-07\", \"2020-05-08\", \"2020-05-09\", \"2020-05-10\", \"2020-05-11\", \"2020-05-12\", \"2020-05-13\", \"2020-05-14\", \"2020-05-15\", \"2020-05-16\", \"2020-05-17\", \"2020-05-18\", \"2020-05-19\", \"2020-05-20\", \"2020-05-21\", \"2020-05-22\", \"2020-05-23\", \"2020-05-24\", \"2020-05-25\", \"2020-05-26\", \"2020-05-27\", \"2020-05-28\", \"2020-05-29\", \"2020-05-30\", \"2020-05-31\", \"2020-06-01\", \"2020-06-02\", \"2020-06-03\", \"2020-06-04\", \"2020-06-05\", \"2020-06-06\", \"2020-06-07\", \"2020-06-08\", \"2020-06-09\", \"2020-06-10\", \"2020-06-11\", \"2020-06-12\", \"2020-06-13\", \"2020-06-14\", \"2020-06-15\", \"2020-06-16\", \"2020-06-17\", \"2020-06-18\", \"2020-06-19\", \"2020-06-20\", \"2020-06-21\", \"2020-06-22\", \"2020-06-23\", \"2020-06-24\", \"2020-06-25\", \"2020-06-26\", \"2020-06-27\", \"2020-06-28\", \"2020-06-29\", \"2020-06-30\", \"2020-07-01\", \"2020-07-02\", \"2020-07-03\", \"2020-07-04\", \"2020-07-05\", \"2020-07-06\", \"2020-07-07\", \"2020-07-08\", \"2020-07-09\", \"2020-07-10\", \"2020-07-11\", \"2020-07-12\", \"2020-07-13\", \"2020-07-14\", \"2020-07-15\", \"2020-07-16\", \"2020-07-17\", \"2020-07-18\", \"2020-07-19\", \"2020-07-20\", \"2020-07-21\", \"2020-07-22\", \"2020-07-23\", \"2020-07-24\", \"2020-07-25\", \"2020-07-26\", \"2020-07-27\", \"2020-07-28\", \"2020-07-29\", \"2020-07-30\", \"2020-07-31\", \"2020-08-01\", \"2020-08-02\", \"2020-08-03\", \"2020-08-04\", \"2020-08-05\", \"2020-08-06\", \"2020-08-07\", \"2020-08-08\", \"2020-08-09\", \"2020-08-10\", \"2020-08-11\", \"2020-08-12\", \"2020-08-13\", \"2020-08-14\", \"2020-08-15\", \"2020-08-16\", \"2020-08-17\", \"2020-08-18\", \"2020-08-19\", \"2020-08-20\", \"2020-08-21\", \"2020-08-22\", \"2020-08-23\", \"2020-08-24\", \"2020-08-25\", \"2020-08-26\", \"2020-08-27\", \"2020-08-28\", \"2020-08-29\", \"2020-08-30\", \"2020-08-31\", \"2020-09-01\", \"2020-09-02\", \"2020-09-03\", \"2020-09-04\", \"2020-09-05\", \"2020-09-06\", \"2020-09-07\", \"2020-09-08\", \"2020-09-09\", \"2020-09-10\", \"2020-09-11\", \"2020-09-12\", \"2020-09-13\", \"2020-09-14\"], \"xaxis\": \"x\", \"y\": [700.0, 585.0, 253.0, 273.0, 725.0, 647.0, 458.0, 580.0, 275.0, 217.0, 188.0, 615.0, 448.0, 353.0, 351.0, 411.0, 67.0, 146.0, 501.0, 329.0, 273.0, 291.0, 220.0, 379.0, 104.0, 131.0, 422.0, 343.0, 274.0, 154.0, 60.0, 86.0, 250.0, 254.0, 130.0, 258.0, 143.0, 54.0, 47.0, 197.0, 164.0, 76.0, 131.0, 107.0, 27.0, 29.0, 120.0, 110.0, 67.0, 84.0, 71.0, 31.0, 13.0, 94.0, 87.0, 99.0, 77.0, 40.0, 31.0, 21.0, 54.0, 97.0, 41.0, 49.0, 32.0, 19.0, 11.0, 54.0, 57.0, 31.0, 34.0, 17.0, 9.0, 10.0, 44.0, 26.0, 24.0, 26.0, 9.0, 11.0, 10.0, 25.0, 17.0, 9.0, 32.0, 15.0, 8.0, 3.0, 21.0, 34.0, 0.0, 20.0, 13.0, 5.0, 1.0, 18.0, 14.0, 18.0, 12.0, 3.0, 5.0, 18.0, 13.0, 20.0, 18.0, 11.0, 3.0, 5.0, 3.0, 12.0, 17.0, 6.0, 2.0, 18.0, 6.0, 4.0, 16.0, 17.0, 12.0, 9.0, 12.0, 1.0, 3.0, 3.0, 10.0, 14.0, 10.0, 12.0, 2.0, 3.0, 32.0, 8.0, 14.0, 6.0, 9.0, 5.0, 9.0], \"yaxis\": \"y\"}, {\"legendgroup\": \"Alpha\", \"line\": {\"color\": \"#EF553B\", \"dash\": \"solid\"}, \"mode\": \"markers+lines\", \"name\": \"Alpha\", \"orientation\": \"v\", \"showlegend\": true, \"type\": \"scatter\", \"x\": [\"2020-09-15\", \"2020-09-16\", \"2020-09-17\", \"2020-09-18\", \"2020-09-19\", \"2020-09-20\", \"2020-09-21\", \"2020-09-22\", \"2020-09-23\", \"2020-09-24\", \"2020-09-25\", \"2020-09-26\", \"2020-09-27\", \"2020-09-28\", \"2020-09-29\", \"2020-09-30\", \"2020-10-01\", \"2020-10-02\", \"2020-10-03\", \"2020-10-04\", \"2020-10-05\", \"2020-10-06\", \"2020-10-07\", \"2020-10-08\", \"2020-10-09\", \"2020-10-10\", \"2020-10-11\", \"2020-10-12\", \"2020-10-13\", \"2020-10-14\", \"2020-10-15\", \"2020-10-16\", \"2020-10-17\", \"2020-10-18\", \"2020-10-19\", \"2020-10-20\", \"2020-10-21\", \"2020-10-22\", \"2020-10-23\", \"2020-10-24\", \"2020-10-25\", \"2020-10-26\", \"2020-10-27\", \"2020-10-28\", \"2020-10-29\", \"2020-10-30\", \"2020-10-31\", \"2020-11-01\", \"2020-11-02\", \"2020-11-03\", \"2020-11-04\", \"2020-11-05\", \"2020-11-06\", \"2020-11-07\", \"2020-11-08\", \"2020-11-09\", \"2020-11-10\", \"2020-11-11\", \"2020-11-12\", \"2020-11-13\", \"2020-11-14\", \"2020-11-15\", \"2020-11-16\", \"2020-11-17\", \"2020-11-18\", \"2020-11-19\", \"2020-11-20\", \"2020-11-21\", \"2020-11-22\", \"2020-11-23\", \"2020-11-24\", \"2020-11-25\", \"2020-11-26\", \"2020-11-27\", \"2020-11-28\", \"2020-11-29\", \"2020-11-30\", \"2020-12-01\", \"2020-12-02\", \"2020-12-03\", \"2020-12-04\", \"2020-12-05\", \"2020-12-06\", \"2020-12-07\", \"2020-12-08\", \"2020-12-09\", \"2020-12-10\", \"2020-12-11\", \"2020-12-12\", \"2020-12-13\", \"2020-12-14\", \"2020-12-15\", \"2020-12-16\", \"2020-12-17\", \"2020-12-18\", \"2020-12-19\", \"2020-12-20\", \"2020-12-21\", \"2020-12-22\", \"2020-12-23\", \"2020-12-24\", \"2020-12-25\", \"2020-12-26\", \"2020-12-27\", \"2020-12-28\", \"2020-12-29\", \"2020-12-30\", \"2020-12-31\", \"2021-01-01\", \"2021-01-02\", \"2021-01-03\", \"2021-01-04\", \"2021-01-05\", \"2021-01-06\", \"2021-01-07\", \"2021-01-08\", \"2021-01-09\", \"2021-01-10\", \"2021-01-11\", \"2021-01-12\", \"2021-01-13\", \"2021-01-14\", \"2021-01-15\", \"2021-01-16\", \"2021-01-17\", \"2021-01-18\", \"2021-01-19\", \"2021-01-20\", \"2021-01-21\", \"2021-01-22\", \"2021-01-23\", \"2021-01-24\", \"2021-01-25\", \"2021-01-26\", \"2021-01-27\", \"2021-01-28\", \"2021-01-29\", \"2021-01-30\", \"2021-01-31\", \"2021-02-01\", \"2021-02-02\", \"2021-02-03\", \"2021-02-04\", \"2021-02-05\", \"2021-02-06\", \"2021-02-07\", \"2021-02-08\", \"2021-02-09\", \"2021-02-10\", \"2021-02-11\", \"2021-02-12\", \"2021-02-13\", \"2021-02-14\", \"2021-02-15\", \"2021-02-16\", \"2021-02-17\", \"2021-02-18\", \"2021-02-19\", \"2021-02-20\", \"2021-02-21\", \"2021-02-22\", \"2021-02-23\", \"2021-02-24\", \"2021-02-25\", \"2021-02-26\", \"2021-02-27\", \"2021-02-28\", \"2021-03-01\", \"2021-03-02\", \"2021-03-03\", \"2021-03-04\", \"2021-03-05\", \"2021-03-06\", \"2021-03-07\", \"2021-03-08\", \"2021-03-09\", \"2021-03-10\", \"2021-03-11\", \"2021-03-12\", \"2021-03-13\", \"2021-03-14\", \"2021-03-15\", \"2021-03-16\", \"2021-03-17\", \"2021-03-18\", \"2021-03-19\", \"2021-03-20\", \"2021-03-21\", \"2021-03-22\", \"2021-03-23\", \"2021-03-24\", \"2021-03-25\", \"2021-03-26\", \"2021-03-27\", \"2021-03-28\", \"2021-03-29\", \"2021-03-30\", \"2021-03-31\", \"2021-04-01\", \"2021-04-02\", \"2021-04-03\", \"2021-04-04\", \"2021-04-05\", \"2021-04-06\", \"2021-04-07\", \"2021-04-08\", \"2021-04-09\", \"2021-04-10\", \"2021-04-11\", \"2021-04-12\", \"2021-04-13\", \"2021-04-14\", \"2021-04-15\", \"2021-04-16\", \"2021-04-17\", \"2021-04-18\", \"2021-04-19\", \"2021-04-20\", \"2021-04-21\", \"2021-04-22\", \"2021-04-23\", \"2021-04-24\", \"2021-04-25\", \"2021-04-26\", \"2021-04-27\", \"2021-04-28\", \"2021-04-29\", \"2021-04-30\", \"2021-05-01\", \"2021-05-02\", \"2021-05-03\", \"2021-05-04\", \"2021-05-05\", \"2021-05-06\", \"2021-05-07\", \"2021-05-08\", \"2021-05-09\", \"2021-05-10\", \"2021-05-11\", \"2021-05-12\", \"2021-05-13\"], \"xaxis\": \"x\", \"y\": [27.0, 20.0, 21.0, 27.0, 27.0, 18.0, 11.0, 37.0, 37.0, 40.0, 34.0, 35.0, 17.0, 13.0, 72.0, 71.0, 59.0, 66.0, 49.0, 33.0, 19.0, 76.0, 70.0, 77.0, 87.0, 81.0, 65.0, 50.0, 143.0, 137.0, 138.0, 136.0, 150.0, 67.0, 80.0, 241.0, 191.0, 189.0, 224.0, 174.0, 151.0, 102.0, 367.0, 310.0, 280.0, 274.0, 326.0, 162.0, 136.0, 397.0, 492.0, 378.0, 355.0, 413.0, 156.0, 195.0, 532.0, 596.0, 563.0, 376.0, 462.0, 168.0, 214.0, 599.0, 529.0, 502.0, 511.0, 340.0, 399.0, 207.0, 608.0, 695.0, 498.0, 520.0, 479.0, 215.0, 203.0, 603.0, 648.0, 414.0, 504.0, 397.0, 231.0, 189.0, 599.0, 533.0, 516.0, 424.0, 520.0, 144.0, 233.0, 506.0, 612.0, 532.0, 490.0, 537.0, 326.0, 215.0, 691.0, 748.0, 575.0, 570.0, 211.0, 347.0, 357.0, 458.0, 982.0, 965.0, 615.0, 445.0, 455.0, 410.0, 881.0, 1042.0, 1162.0, 1333.0, 1035.0, 567.0, 529.0, 1246.0, 1568.0, 1253.0, 1285.0, 1299.0, 682.0, 602.0, 1612.0, 1826.0, 1296.0, 1401.0, 1352.0, 611.0, 594.0, 1636.0, 1726.0, 1239.0, 1248.0, 1205.0, 590.0, 407.0, 1451.0, 1322.0, 915.0, 1015.0, 828.0, 376.0, 333.0, 1052.0, 1002.0, 680.0, 759.0, 621.0, 259.0, 235.0, 799.0, 738.0, 455.0, 533.0, 446.0, 217.0, 178.0, 548.0, 443.0, 324.0, 345.0, 291.0, 144.0, 104.0, 343.0, 487.0, 242.0, 236.0, 159.0, 82.0, 65.0, 231.0, 190.0, 181.0, 176.0, 122.0, 52.0, 64.0, 110.0, 141.0, 95.0, 100.0, 96.0, 34.0, 18.0, 112.0, 98.0, 63.0, 71.0, 58.0, 21.0, 23.0, 55.0, 43.0, 51.0, 52.0, 10.0, 10.0, 28.0, 20.0, 45.0, 53.0, 60.0, 40.0, 7.0, 15.0, 23.0, 38.0, 31.0, 34.0, 36.0, 10.0, 6.0, 33.0, 20.0, 20.0, 41.0, 32.0, 11.0, 7.0, 17.0, 29.0, 25.0, 16.0, 7.0, 14.0, 1.0, 6.0, 27.0, 13.0, 15.0, 5.0, 2.0, 5.0, 20.0, 11.0, 11.0], \"yaxis\": \"y\"}, {\"legendgroup\": \"Delta\", \"line\": {\"color\": \"#00cc96\", \"dash\": \"solid\"}, \"mode\": \"markers+lines\", \"name\": \"Delta\", \"orientation\": \"v\", \"showlegend\": true, \"type\": \"scatter\", \"x\": [\"2021-05-14\", \"2021-05-15\", \"2021-05-16\", \"2021-05-17\", \"2021-05-18\", \"2021-05-19\", \"2021-05-20\", \"2021-05-21\", \"2021-05-22\", \"2021-05-23\", \"2021-05-24\", \"2021-05-25\", \"2021-05-26\", \"2021-05-27\", \"2021-05-28\", \"2021-05-29\", \"2021-05-30\", \"2021-05-31\", \"2021-06-01\", \"2021-06-02\", \"2021-06-03\", \"2021-06-04\", \"2021-06-05\", \"2021-06-06\", \"2021-06-07\", \"2021-06-08\", \"2021-06-09\"], \"xaxis\": \"x\", \"y\": [18.0, 7.0, 4.0, 5.0, 7.0, 3.0, 7.0, 9.0, 6.0, 5.0, 3.0, 15.0, 9.0, 10.0, 10.0, 7.0, 6.0, 2.0, 0.0, 12.0, 18.0, 11.0, 13.0, 4.0, 1.0, 14.0, 6.0], \"yaxis\": \"y\"}],                        {\"hovermode\": \"x unified\", \"legend\": {\"title\": {\"text\": \"Variant\"}, \"tracegroupgap\": 0}, \"template\": {\"data\": {\"bar\": [{\"error_x\": {\"color\": \"#2a3f5f\"}, \"error_y\": {\"color\": \"#2a3f5f\"}, \"marker\": {\"line\": {\"color\": \"#E5ECF6\", \"width\": 0.5}}, \"type\": \"bar\"}], \"barpolar\": [{\"marker\": {\"line\": {\"color\": \"#E5ECF6\", \"width\": 0.5}}, \"type\": \"barpolar\"}], \"carpet\": [{\"aaxis\": {\"endlinecolor\": \"#2a3f5f\", \"gridcolor\": \"white\", \"linecolor\": \"white\", \"minorgridcolor\": \"white\", \"startlinecolor\": \"#2a3f5f\"}, \"baxis\": {\"endlinecolor\": \"#2a3f5f\", \"gridcolor\": \"white\", \"linecolor\": \"white\", \"minorgridcolor\": \"white\", \"startlinecolor\": \"#2a3f5f\"}, \"type\": \"carpet\"}], \"choropleth\": [{\"colorbar\": {\"outlinewidth\": 0, \"ticks\": \"\"}, \"type\": \"choropleth\"}], \"contour\": [{\"colorbar\": {\"outlinewidth\": 0, \"ticks\": \"\"}, \"colorscale\": [[0.0, \"#0d0887\"], [0.1111111111111111, \"#46039f\"], [0.2222222222222222, \"#7201a8\"], [0.3333333333333333, \"#9c179e\"], [0.4444444444444444, \"#bd3786\"], [0.5555555555555556, \"#d8576b\"], [0.6666666666666666, \"#ed7953\"], [0.7777777777777778, \"#fb9f3a\"], [0.8888888888888888, \"#fdca26\"], [1.0, \"#f0f921\"]], \"type\": \"contour\"}], \"contourcarpet\": [{\"colorbar\": {\"outlinewidth\": 0, \"ticks\": \"\"}, \"type\": \"contourcarpet\"}], \"heatmap\": [{\"colorbar\": {\"outlinewidth\": 0, \"ticks\": \"\"}, \"colorscale\": [[0.0, \"#0d0887\"], [0.1111111111111111, \"#46039f\"], [0.2222222222222222, \"#7201a8\"], [0.3333333333333333, \"#9c179e\"], [0.4444444444444444, \"#bd3786\"], [0.5555555555555556, \"#d8576b\"], [0.6666666666666666, \"#ed7953\"], [0.7777777777777778, \"#fb9f3a\"], [0.8888888888888888, \"#fdca26\"], [1.0, \"#f0f921\"]], \"type\": \"heatmap\"}], \"heatmapgl\": [{\"colorbar\": {\"outlinewidth\": 0, \"ticks\": \"\"}, \"colorscale\": [[0.0, \"#0d0887\"], [0.1111111111111111, \"#46039f\"], [0.2222222222222222, \"#7201a8\"], [0.3333333333333333, \"#9c179e\"], [0.4444444444444444, \"#bd3786\"], [0.5555555555555556, \"#d8576b\"], [0.6666666666666666, \"#ed7953\"], [0.7777777777777778, \"#fb9f3a\"], [0.8888888888888888, \"#fdca26\"], [1.0, \"#f0f921\"]], \"type\": \"heatmapgl\"}], \"histogram\": [{\"marker\": {\"colorbar\": {\"outlinewidth\": 0, \"ticks\": \"\"}}, \"type\": \"histogram\"}], \"histogram2d\": [{\"colorbar\": {\"outlinewidth\": 0, \"ticks\": \"\"}, \"colorscale\": [[0.0, \"#0d0887\"], [0.1111111111111111, \"#46039f\"], [0.2222222222222222, \"#7201a8\"], [0.3333333333333333, \"#9c179e\"], [0.4444444444444444, \"#bd3786\"], [0.5555555555555556, \"#d8576b\"], [0.6666666666666666, \"#ed7953\"], [0.7777777777777778, \"#fb9f3a\"], [0.8888888888888888, \"#fdca26\"], [1.0, \"#f0f921\"]], \"type\": \"histogram2d\"}], \"histogram2dcontour\": [{\"colorbar\": {\"outlinewidth\": 0, \"ticks\": \"\"}, \"colorscale\": [[0.0, \"#0d0887\"], [0.1111111111111111, \"#46039f\"], [0.2222222222222222, \"#7201a8\"], [0.3333333333333333, \"#9c179e\"], [0.4444444444444444, \"#bd3786\"], [0.5555555555555556, \"#d8576b\"], [0.6666666666666666, \"#ed7953\"], [0.7777777777777778, \"#fb9f3a\"], [0.8888888888888888, \"#fdca26\"], [1.0, \"#f0f921\"]], \"type\": \"histogram2dcontour\"}], \"mesh3d\": [{\"colorbar\": {\"outlinewidth\": 0, \"ticks\": \"\"}, \"type\": \"mesh3d\"}], \"parcoords\": [{\"line\": {\"colorbar\": {\"outlinewidth\": 0, \"ticks\": \"\"}}, \"type\": \"parcoords\"}], \"pie\": [{\"automargin\": true, \"type\": \"pie\"}], \"scatter\": [{\"marker\": {\"colorbar\": {\"outlinewidth\": 0, \"ticks\": \"\"}}, \"type\": \"scatter\"}], \"scatter3d\": [{\"line\": {\"colorbar\": {\"outlinewidth\": 0, \"ticks\": \"\"}}, \"marker\": {\"colorbar\": {\"outlinewidth\": 0, \"ticks\": \"\"}}, \"type\": \"scatter3d\"}], \"scattercarpet\": [{\"marker\": {\"colorbar\": {\"outlinewidth\": 0, \"ticks\": \"\"}}, \"type\": \"scattercarpet\"}], \"scattergeo\": [{\"marker\": {\"colorbar\": {\"outlinewidth\": 0, \"ticks\": \"\"}}, \"type\": \"scattergeo\"}], \"scattergl\": [{\"marker\": {\"colorbar\": {\"outlinewidth\": 0, \"ticks\": \"\"}}, \"type\": \"scattergl\"}], \"scattermapbox\": [{\"marker\": {\"colorbar\": {\"outlinewidth\": 0, \"ticks\": \"\"}}, \"type\": \"scattermapbox\"}], \"scatterpolar\": [{\"marker\": {\"colorbar\": {\"outlinewidth\": 0, \"ticks\": \"\"}}, \"type\": \"scatterpolar\"}], \"scatterpolargl\": [{\"marker\": {\"colorbar\": {\"outlinewidth\": 0, \"ticks\": \"\"}}, \"type\": \"scatterpolargl\"}], \"scatterternary\": [{\"marker\": {\"colorbar\": {\"outlinewidth\": 0, \"ticks\": \"\"}}, \"type\": \"scatterternary\"}], \"surface\": [{\"colorbar\": {\"outlinewidth\": 0, \"ticks\": \"\"}, \"colorscale\": [[0.0, \"#0d0887\"], [0.1111111111111111, \"#46039f\"], [0.2222222222222222, \"#7201a8\"], [0.3333333333333333, \"#9c179e\"], [0.4444444444444444, \"#bd3786\"], [0.5555555555555556, \"#d8576b\"], [0.6666666666666666, \"#ed7953\"], [0.7777777777777778, \"#fb9f3a\"], [0.8888888888888888, \"#fdca26\"], [1.0, \"#f0f921\"]], \"type\": \"surface\"}], \"table\": [{\"cells\": {\"fill\": {\"color\": \"#EBF0F8\"}, \"line\": {\"color\": \"white\"}}, \"header\": {\"fill\": {\"color\": \"#C8D4E3\"}, \"line\": {\"color\": \"white\"}}, \"type\": \"table\"}]}, \"layout\": {\"annotationdefaults\": {\"arrowcolor\": \"#2a3f5f\", \"arrowhead\": 0, \"arrowwidth\": 1}, \"autotypenumbers\": \"strict\", \"coloraxis\": {\"colorbar\": {\"outlinewidth\": 0, \"ticks\": \"\"}}, \"colorscale\": {\"diverging\": [[0, \"#8e0152\"], [0.1, \"#c51b7d\"], [0.2, \"#de77ae\"], [0.3, \"#f1b6da\"], [0.4, \"#fde0ef\"], [0.5, \"#f7f7f7\"], [0.6, \"#e6f5d0\"], [0.7, \"#b8e186\"], [0.8, \"#7fbc41\"], [0.9, \"#4d9221\"], [1, \"#276419\"]], \"sequential\": [[0.0, \"#0d0887\"], [0.1111111111111111, \"#46039f\"], [0.2222222222222222, \"#7201a8\"], [0.3333333333333333, \"#9c179e\"], [0.4444444444444444, \"#bd3786\"], [0.5555555555555556, \"#d8576b\"], [0.6666666666666666, \"#ed7953\"], [0.7777777777777778, \"#fb9f3a\"], [0.8888888888888888, \"#fdca26\"], [1.0, \"#f0f921\"]], \"sequentialminus\": [[0.0, \"#0d0887\"], [0.1111111111111111, \"#46039f\"], [0.2222222222222222, \"#7201a8\"], [0.3333333333333333, \"#9c179e\"], [0.4444444444444444, \"#bd3786\"], [0.5555555555555556, \"#d8576b\"], [0.6666666666666666, \"#ed7953\"], [0.7777777777777778, \"#fb9f3a\"], [0.8888888888888888, \"#fdca26\"], [1.0, \"#f0f921\"]]}, \"colorway\": [\"#636efa\", \"#EF553B\", \"#00cc96\", \"#ab63fa\", \"#FFA15A\", \"#19d3f3\", \"#FF6692\", \"#B6E880\", \"#FF97FF\", \"#FECB52\"], \"font\": {\"color\": \"#2a3f5f\"}, \"geo\": {\"bgcolor\": \"white\", \"lakecolor\": \"white\", \"landcolor\": \"#E5ECF6\", \"showlakes\": true, \"showland\": true, \"subunitcolor\": \"white\"}, \"hoverlabel\": {\"align\": \"left\"}, \"hovermode\": \"closest\", \"mapbox\": {\"style\": \"light\"}, \"paper_bgcolor\": \"white\", \"plot_bgcolor\": \"#E5ECF6\", \"polar\": {\"angularaxis\": {\"gridcolor\": \"white\", \"linecolor\": \"white\", \"ticks\": \"\"}, \"bgcolor\": \"#E5ECF6\", \"radialaxis\": {\"gridcolor\": \"white\", \"linecolor\": \"white\", \"ticks\": \"\"}}, \"scene\": {\"xaxis\": {\"backgroundcolor\": \"#E5ECF6\", \"gridcolor\": \"white\", \"gridwidth\": 2, \"linecolor\": \"white\", \"showbackground\": true, \"ticks\": \"\", \"zerolinecolor\": \"white\"}, \"yaxis\": {\"backgroundcolor\": \"#E5ECF6\", \"gridcolor\": \"white\", \"gridwidth\": 2, \"linecolor\": \"white\", \"showbackground\": true, \"ticks\": \"\", \"zerolinecolor\": \"white\"}, \"zaxis\": {\"backgroundcolor\": \"#E5ECF6\", \"gridcolor\": \"white\", \"gridwidth\": 2, \"linecolor\": \"white\", \"showbackground\": true, \"ticks\": \"\", \"zerolinecolor\": \"white\"}}, \"shapedefaults\": {\"line\": {\"color\": \"#2a3f5f\"}}, \"ternary\": {\"aaxis\": {\"gridcolor\": \"white\", \"linecolor\": \"white\", \"ticks\": \"\"}, \"baxis\": {\"gridcolor\": \"white\", \"linecolor\": \"white\", \"ticks\": \"\"}, \"bgcolor\": \"#E5ECF6\", \"caxis\": {\"gridcolor\": \"white\", \"linecolor\": \"white\", \"ticks\": \"\"}}, \"title\": {\"x\": 0.05}, \"xaxis\": {\"automargin\": true, \"gridcolor\": \"white\", \"linecolor\": \"white\", \"ticks\": \"\", \"title\": {\"standoff\": 15}, \"zerolinecolor\": \"white\", \"zerolinewidth\": 2}, \"yaxis\": {\"automargin\": true, \"gridcolor\": \"white\", \"linecolor\": \"white\", \"ticks\": \"\", \"title\": {\"standoff\": 15}, \"zerolinecolor\": \"white\", \"zerolinewidth\": 2}}}, \"title\": {\"text\": \"New Deaths\"}, \"xaxis\": {\"anchor\": \"y\", \"domain\": [0.0, 1.0], \"title\": {\"text\": \"date\"}}, \"yaxis\": {\"anchor\": \"x\", \"domain\": [0.0, 1.0], \"title\": {\"text\": \"new_deaths\"}}},                        {\"responsive\": true}                    ).then(function(){\n",
              "                            \n",
              "var gd = document.getElementById('7774ed2e-7914-450b-b12c-7808e12e8740');\n",
              "var x = new MutationObserver(function (mutations, observer) {{\n",
              "        var display = window.getComputedStyle(gd).display;\n",
              "        if (!display || display === 'none') {{\n",
              "            console.log([gd, 'removed!']);\n",
              "            Plotly.purge(gd);\n",
              "            observer.disconnect();\n",
              "        }}\n",
              "}});\n",
              "\n",
              "// Listen for the removal of the full notebook cells\n",
              "var notebookContainer = gd.closest('#notebook-container');\n",
              "if (notebookContainer) {{\n",
              "    x.observe(notebookContainer, {childList: true});\n",
              "}}\n",
              "\n",
              "// Listen for the clearing of the current output cell\n",
              "var outputEl = gd.closest('.output');\n",
              "if (outputEl) {{\n",
              "    x.observe(outputEl, {childList: true});\n",
              "}}\n",
              "\n",
              "                        })                };                            </script>        </div>\n",
              "</body>\n",
              "</html>"
            ]
          },
          "metadata": {
            "tags": []
          }
        }
      ]
    },
    {
      "cell_type": "code",
      "metadata": {
        "colab": {
          "base_uri": "https://localhost:8080/",
          "height": 542
        },
        "id": "XYvEFE0c7iUH",
        "outputId": "cb629b96-d24b-4382-ce72-8d4b87b8c84e"
      },
      "source": [
        "fig = px.line(dataset_UK,  dataset_UK[\"date\"], dataset_UK[\"new_cases\"], title = \"Mortality Rate\", color = dataset_UK[\"Variant\"]) #hover_data = [\"new_deaths\", \"population\", \"total_cases\", \"new_cases\"])\n",
        "fig.update_traces(mode = \"markers + lines\", hovertemplate = None)\n",
        "fig.update_layout(hovermode = \"x unified\")\n",
        "fig.show()"
      ],
      "execution_count": 67,
      "outputs": [
        {
          "output_type": "display_data",
          "data": {
            "text/html": [
              "<html>\n",
              "<head><meta charset=\"utf-8\" /></head>\n",
              "<body>\n",
              "    <div>            <script src=\"https://cdnjs.cloudflare.com/ajax/libs/mathjax/2.7.5/MathJax.js?config=TeX-AMS-MML_SVG\"></script><script type=\"text/javascript\">if (window.MathJax) {MathJax.Hub.Config({SVG: {font: \"STIX-Web\"}});}</script>                <script type=\"text/javascript\">window.PlotlyConfig = {MathJaxConfig: 'local'};</script>\n",
              "        <script src=\"https://cdn.plot.ly/plotly-latest.min.js\"></script>                <div id=\"4ac55ef7-ffe0-454f-8d22-cd29739adfb2\" class=\"plotly-graph-div\" style=\"height:525px; width:100%;\"></div>            <script type=\"text/javascript\">                                    window.PLOTLYENV=window.PLOTLYENV || {};                                    if (document.getElementById(\"4ac55ef7-ffe0-454f-8d22-cd29739adfb2\")) {                    Plotly.newPlot(                        \"4ac55ef7-ffe0-454f-8d22-cd29739adfb2\",                        [{\"legendgroup\": \"First\", \"line\": {\"color\": \"#636efa\", \"dash\": \"solid\"}, \"mode\": \"markers+lines\", \"name\": \"First\", \"orientation\": \"v\", \"showlegend\": true, \"type\": \"scatter\", \"x\": [\"2020-05-01\", \"2020-05-02\", \"2020-05-03\", \"2020-05-04\", \"2020-05-05\", \"2020-05-06\", \"2020-05-07\", \"2020-05-08\", \"2020-05-09\", \"2020-05-10\", \"2020-05-11\", \"2020-05-12\", \"2020-05-13\", \"2020-05-14\", \"2020-05-15\", \"2020-05-16\", \"2020-05-17\", \"2020-05-18\", \"2020-05-19\", \"2020-05-20\", \"2020-05-21\", \"2020-05-22\", \"2020-05-23\", \"2020-05-24\", \"2020-05-25\", \"2020-05-26\", \"2020-05-27\", \"2020-05-28\", \"2020-05-29\", \"2020-05-30\", \"2020-05-31\", \"2020-06-01\", \"2020-06-02\", \"2020-06-03\", \"2020-06-04\", \"2020-06-05\", \"2020-06-06\", \"2020-06-07\", \"2020-06-08\", \"2020-06-09\", \"2020-06-10\", \"2020-06-11\", \"2020-06-12\", \"2020-06-13\", \"2020-06-14\", \"2020-06-15\", \"2020-06-16\", \"2020-06-17\", \"2020-06-18\", \"2020-06-19\", \"2020-06-20\", \"2020-06-21\", \"2020-06-22\", \"2020-06-23\", \"2020-06-24\", \"2020-06-25\", \"2020-06-26\", \"2020-06-27\", \"2020-06-28\", \"2020-06-29\", \"2020-06-30\", \"2020-07-01\", \"2020-07-02\", \"2020-07-03\", \"2020-07-04\", \"2020-07-05\", \"2020-07-06\", \"2020-07-07\", \"2020-07-08\", \"2020-07-09\", \"2020-07-10\", \"2020-07-11\", \"2020-07-12\", \"2020-07-13\", \"2020-07-14\", \"2020-07-15\", \"2020-07-16\", \"2020-07-17\", \"2020-07-18\", \"2020-07-19\", \"2020-07-20\", \"2020-07-21\", \"2020-07-22\", \"2020-07-23\", \"2020-07-24\", \"2020-07-25\", \"2020-07-26\", \"2020-07-27\", \"2020-07-28\", \"2020-07-29\", \"2020-07-30\", \"2020-07-31\", \"2020-08-01\", \"2020-08-02\", \"2020-08-03\", \"2020-08-04\", \"2020-08-05\", \"2020-08-06\", \"2020-08-07\", \"2020-08-08\", \"2020-08-09\", \"2020-08-10\", \"2020-08-11\", \"2020-08-12\", \"2020-08-13\", \"2020-08-14\", \"2020-08-15\", \"2020-08-16\", \"2020-08-17\", \"2020-08-18\", \"2020-08-19\", \"2020-08-20\", \"2020-08-21\", \"2020-08-22\", \"2020-08-23\", \"2020-08-24\", \"2020-08-25\", \"2020-08-26\", \"2020-08-27\", \"2020-08-28\", \"2020-08-29\", \"2020-08-30\", \"2020-08-31\", \"2020-09-01\", \"2020-09-02\", \"2020-09-03\", \"2020-09-04\", \"2020-09-05\", \"2020-09-06\", \"2020-09-07\", \"2020-09-08\", \"2020-09-09\", \"2020-09-10\", \"2020-09-11\", \"2020-09-12\", \"2020-09-13\", \"2020-09-14\"], \"xaxis\": \"x\", \"y\": [4730.0, 3230.0, 2977.0, 3383.0, 3689.0, 3836.0, 3771.0, 3052.0, 2150.0, 2322.0, 3589.0, 3395.0, 3300.0, 2618.0, 2521.0, 2072.0, 1826.0, 2577.0, 3058.0, 2712.0, 2554.0, 2041.0, 1508.0, 1355.0, 1613.0, 1659.0, 1809.0, 1736.0, 1508.0, 1107.0, 1070.0, 1444.0, 1470.0, 1349.0, 1238.0, 1110.0, 794.0, 718.0, 1094.0, 1159.0, 1186.0, 1007.0, 1054.0, 888.0, 807.0, 1031.0, 1083.0, 999.0, 1020.0, 984.0, 666.0, 624.0, 892.0, 882.0, 777.0, 697.0, 639.0, 634.0, 407.0, 620.0, 404.0, 63.0, 6.0, 502.0, 625.0, 519.0, 359.0, 584.0, 637.0, 643.0, 524.0, 826.0, 650.0, 537.0, 1240.0, 538.0, 647.0, 687.0, 829.0, 726.0, 586.0, 445.0, 563.0, 779.0, 769.0, 770.0, 750.0, 688.0, 553.0, 802.0, 847.0, 883.0, 769.0, 747.0, 942.0, 675.0, 906.0, 964.0, 900.0, 765.0, 1113.0, 818.0, 1150.0, 1039.0, 1148.0, 1461.0, 1042.0, 1111.0, 721.0, 1113.0, 831.0, 1195.0, 1060.0, 1332.0, 1048.0, 977.0, 1201.0, 1146.0, 1542.0, 1297.0, 1110.0, 1752.0, 1415.0, 1332.0, 1514.0, 1779.0, 1978.0, 1827.0, 2987.0, 2953.0, 2481.0, 2681.0, 2931.0, 3544.0, 3504.0, 3338.0, 2625.0], \"yaxis\": \"y\"}, {\"legendgroup\": \"Alpha\", \"line\": {\"color\": \"#EF553B\", \"dash\": \"solid\"}, \"mode\": \"markers+lines\", \"name\": \"Alpha\", \"orientation\": \"v\", \"showlegend\": true, \"type\": \"scatter\", \"x\": [\"2020-09-15\", \"2020-09-16\", \"2020-09-17\", \"2020-09-18\", \"2020-09-19\", \"2020-09-20\", \"2020-09-21\", \"2020-09-22\", \"2020-09-23\", \"2020-09-24\", \"2020-09-25\", \"2020-09-26\", \"2020-09-27\", \"2020-09-28\", \"2020-09-29\", \"2020-09-30\", \"2020-10-01\", \"2020-10-02\", \"2020-10-03\", \"2020-10-04\", \"2020-10-05\", \"2020-10-06\", \"2020-10-07\", \"2020-10-08\", \"2020-10-09\", \"2020-10-10\", \"2020-10-11\", \"2020-10-12\", \"2020-10-13\", \"2020-10-14\", \"2020-10-15\", \"2020-10-16\", \"2020-10-17\", \"2020-10-18\", \"2020-10-19\", \"2020-10-20\", \"2020-10-21\", \"2020-10-22\", \"2020-10-23\", \"2020-10-24\", \"2020-10-25\", \"2020-10-26\", \"2020-10-27\", \"2020-10-28\", \"2020-10-29\", \"2020-10-30\", \"2020-10-31\", \"2020-11-01\", \"2020-11-02\", \"2020-11-03\", \"2020-11-04\", \"2020-11-05\", \"2020-11-06\", \"2020-11-07\", \"2020-11-08\", \"2020-11-09\", \"2020-11-10\", \"2020-11-11\", \"2020-11-12\", \"2020-11-13\", \"2020-11-14\", \"2020-11-15\", \"2020-11-16\", \"2020-11-17\", \"2020-11-18\", \"2020-11-19\", \"2020-11-20\", \"2020-11-21\", \"2020-11-22\", \"2020-11-23\", \"2020-11-24\", \"2020-11-25\", \"2020-11-26\", \"2020-11-27\", \"2020-11-28\", \"2020-11-29\", \"2020-11-30\", \"2020-12-01\", \"2020-12-02\", \"2020-12-03\", \"2020-12-04\", \"2020-12-05\", \"2020-12-06\", \"2020-12-07\", \"2020-12-08\", \"2020-12-09\", \"2020-12-10\", \"2020-12-11\", \"2020-12-12\", \"2020-12-13\", \"2020-12-14\", \"2020-12-15\", \"2020-12-16\", \"2020-12-17\", \"2020-12-18\", \"2020-12-19\", \"2020-12-20\", \"2020-12-21\", \"2020-12-22\", \"2020-12-23\", \"2020-12-24\", \"2020-12-25\", \"2020-12-26\", \"2020-12-27\", \"2020-12-28\", \"2020-12-29\", \"2020-12-30\", \"2020-12-31\", \"2021-01-01\", \"2021-01-02\", \"2021-01-03\", \"2021-01-04\", \"2021-01-05\", \"2021-01-06\", \"2021-01-07\", \"2021-01-08\", \"2021-01-09\", \"2021-01-10\", \"2021-01-11\", \"2021-01-12\", \"2021-01-13\", \"2021-01-14\", \"2021-01-15\", \"2021-01-16\", \"2021-01-17\", \"2021-01-18\", \"2021-01-19\", \"2021-01-20\", \"2021-01-21\", \"2021-01-22\", \"2021-01-23\", \"2021-01-24\", \"2021-01-25\", \"2021-01-26\", \"2021-01-27\", \"2021-01-28\", \"2021-01-29\", \"2021-01-30\", \"2021-01-31\", \"2021-02-01\", \"2021-02-02\", \"2021-02-03\", \"2021-02-04\", \"2021-02-05\", \"2021-02-06\", \"2021-02-07\", \"2021-02-08\", \"2021-02-09\", \"2021-02-10\", \"2021-02-11\", \"2021-02-12\", \"2021-02-13\", \"2021-02-14\", \"2021-02-15\", \"2021-02-16\", \"2021-02-17\", \"2021-02-18\", \"2021-02-19\", \"2021-02-20\", \"2021-02-21\", \"2021-02-22\", \"2021-02-23\", \"2021-02-24\", \"2021-02-25\", \"2021-02-26\", \"2021-02-27\", \"2021-02-28\", \"2021-03-01\", \"2021-03-02\", \"2021-03-03\", \"2021-03-04\", \"2021-03-05\", \"2021-03-06\", \"2021-03-07\", \"2021-03-08\", \"2021-03-09\", \"2021-03-10\", \"2021-03-11\", \"2021-03-12\", \"2021-03-13\", \"2021-03-14\", \"2021-03-15\", \"2021-03-16\", \"2021-03-17\", \"2021-03-18\", \"2021-03-19\", \"2021-03-20\", \"2021-03-21\", \"2021-03-22\", \"2021-03-23\", \"2021-03-24\", \"2021-03-25\", \"2021-03-26\", \"2021-03-27\", \"2021-03-28\", \"2021-03-29\", \"2021-03-30\", \"2021-03-31\", \"2021-04-01\", \"2021-04-02\", \"2021-04-03\", \"2021-04-04\", \"2021-04-05\", \"2021-04-06\", \"2021-04-07\", \"2021-04-08\", \"2021-04-09\", \"2021-04-10\", \"2021-04-11\", \"2021-04-12\", \"2021-04-13\", \"2021-04-14\", \"2021-04-15\", \"2021-04-16\", \"2021-04-17\", \"2021-04-18\", \"2021-04-19\", \"2021-04-20\", \"2021-04-21\", \"2021-04-22\", \"2021-04-23\", \"2021-04-24\", \"2021-04-25\", \"2021-04-26\", \"2021-04-27\", \"2021-04-28\", \"2021-04-29\", \"2021-04-30\", \"2021-05-01\", \"2021-05-02\", \"2021-05-03\", \"2021-05-04\", \"2021-05-05\", \"2021-05-06\", \"2021-05-07\", \"2021-05-08\", \"2021-05-09\", \"2021-05-10\", \"2021-05-11\", \"2021-05-12\", \"2021-05-13\"], \"xaxis\": \"x\", \"y\": [3115.0, 4007.0, 3410.0, 4329.0, 4429.0, 3899.0, 4378.0, 4936.0, 6187.0, 6644.0, 6878.0, 6050.0, 5700.0, 4056.0, 7156.0, 7117.0, 6929.0, 6994.0, 12885.0, 22965.0, 12603.0, 14557.0, 14173.0, 17550.0, 13888.0, 15175.0, 12882.0, 14011.0, 17250.0, 19751.0, 18996.0, 15657.0, 16186.0, 16994.0, 18830.0, 21365.0, 26707.0, 21257.0, 20559.0, 23033.0, 19797.0, 20900.0, 22924.0, 24714.0, 23078.0, 24418.0, 21919.0, 23261.0, 18967.0, 20078.0, 25206.0, 24164.0, 23322.0, 24979.0, 20580.0, 21397.0, 20451.0, 23000.0, 33517.0, 27316.0, 26876.0, 24977.0, 21416.0, 20060.0, 19645.0, 22936.0, 20274.0, 19921.0, 18667.0, 15465.0, 11344.0, 18261.0, 17557.0, 14821.0, 15891.0, 12164.0, 12428.0, 13497.0, 16237.0, 14951.0, 16382.0, 15579.0, 17372.0, 14774.0, 12386.0, 16634.0, 21066.0, 21784.0, 21554.0, 18541.0, 20377.0, 18569.0, 25300.0, 35532.0, 28560.0, 27249.0, 36084.0, 33517.0, 36931.0, 39387.0, 39149.0, 32803.0, 34788.0, 32493.0, 41460.0, 53275.0, 50239.0, 56029.0, 53458.0, 57853.0, 55157.0, 58923.0, 61087.0, 62556.0, 52787.0, 68192.0, 60098.0, 55026.0, 46275.0, 45648.0, 47662.0, 48804.0, 55885.0, 41428.0, 38670.0, 37610.0, 33454.0, 38992.0, 37977.0, 40321.0, 33652.0, 30111.0, 22244.0, 20167.0, 25369.0, 28811.0, 29145.0, 23400.0, 21190.0, 18668.0, 16906.0, 19215.0, 20734.0, 19204.0, 18363.0, 15904.0, 14138.0, 12441.0, 13077.0, 13543.0, 15198.0, 13355.0, 10991.0, 9776.0, 10636.0, 12760.0, 12095.0, 12099.0, 10453.0, 9835.0, 10659.0, 8523.0, 9947.0, 10020.0, 8588.0, 7457.0, 6055.0, 5462.0, 6411.0, 6420.0, 6644.0, 6024.0, 6118.0, 5260.0, 4823.0, 5869.0, 6021.0, 6835.0, 6684.0, 5617.0, 4695.0, 5130.0, 5363.0, 5793.0, 6332.0, 4872.0, 5639.0, 5356.0, 5407.0, 5417.0, 5626.0, 6277.0, 6235.0, 3909.0, 3947.0, 4783.0, 4071.0, 4115.0, 4565.0, 3422.0, 3424.0, 2405.0, 2831.0, 2404.0, 2797.0, 3124.0, -4787.0, 2713.0, 1730.0, 3686.0, 2505.0, 2529.0, 2766.0, 2807.0, 2273.0, 1884.0, 3054.0, 2530.0, 2424.0, 2766.0, 2754.0, 2122.0, 1733.0, 2119.0, 2697.0, 2131.0, 2459.0, 2397.0, 1911.0, 1674.0, 1674.0, 1984.0, 2155.0, 2618.0, 2490.0, 2056.0, 1770.0, 2378.0, 2490.0, 2296.0, 2663.0], \"yaxis\": \"y\"}, {\"legendgroup\": \"Delta\", \"line\": {\"color\": \"#00cc96\", \"dash\": \"solid\"}, \"mode\": \"markers+lines\", \"name\": \"Delta\", \"orientation\": \"v\", \"showlegend\": true, \"type\": \"scatter\", \"x\": [\"2021-05-14\", \"2021-05-15\", \"2021-05-16\", \"2021-05-17\", \"2021-05-18\", \"2021-05-19\", \"2021-05-20\", \"2021-05-21\", \"2021-05-22\", \"2021-05-23\", \"2021-05-24\", \"2021-05-25\", \"2021-05-26\", \"2021-05-27\", \"2021-05-28\", \"2021-05-29\", \"2021-05-30\", \"2021-05-31\", \"2021-06-01\", \"2021-06-02\", \"2021-06-03\", \"2021-06-04\", \"2021-06-05\", \"2021-06-06\", \"2021-06-07\", \"2021-06-08\", \"2021-06-09\"], \"xaxis\": \"x\", \"y\": [2198.0, 2060.0, 1926.0, 1993.0, -2362.0, 2146.0, 2699.0, 2708.0, 2524.0, 2093.0, 2370.0, 2417.0, 2991.0, 3384.0, 4030.0, 3241.0, 3114.0, 3294.0, 3102.0, 4264.0, 5181.0, 6144.0, 5655.0, 5225.0, 5597.0, 5973.0, 7322.0], \"yaxis\": \"y\"}],                        {\"hovermode\": \"x unified\", \"legend\": {\"title\": {\"text\": \"Variant\"}, \"tracegroupgap\": 0}, \"template\": {\"data\": {\"bar\": [{\"error_x\": {\"color\": \"#2a3f5f\"}, \"error_y\": {\"color\": \"#2a3f5f\"}, \"marker\": {\"line\": {\"color\": \"#E5ECF6\", \"width\": 0.5}}, \"type\": \"bar\"}], \"barpolar\": [{\"marker\": {\"line\": {\"color\": \"#E5ECF6\", \"width\": 0.5}}, \"type\": \"barpolar\"}], \"carpet\": [{\"aaxis\": {\"endlinecolor\": \"#2a3f5f\", \"gridcolor\": \"white\", \"linecolor\": \"white\", \"minorgridcolor\": \"white\", \"startlinecolor\": \"#2a3f5f\"}, \"baxis\": {\"endlinecolor\": \"#2a3f5f\", \"gridcolor\": \"white\", \"linecolor\": \"white\", \"minorgridcolor\": \"white\", \"startlinecolor\": \"#2a3f5f\"}, \"type\": \"carpet\"}], \"choropleth\": [{\"colorbar\": {\"outlinewidth\": 0, \"ticks\": \"\"}, \"type\": \"choropleth\"}], \"contour\": [{\"colorbar\": {\"outlinewidth\": 0, \"ticks\": \"\"}, \"colorscale\": [[0.0, \"#0d0887\"], [0.1111111111111111, \"#46039f\"], [0.2222222222222222, \"#7201a8\"], [0.3333333333333333, \"#9c179e\"], [0.4444444444444444, \"#bd3786\"], [0.5555555555555556, \"#d8576b\"], [0.6666666666666666, \"#ed7953\"], [0.7777777777777778, \"#fb9f3a\"], [0.8888888888888888, \"#fdca26\"], [1.0, \"#f0f921\"]], \"type\": \"contour\"}], \"contourcarpet\": [{\"colorbar\": {\"outlinewidth\": 0, \"ticks\": \"\"}, \"type\": \"contourcarpet\"}], \"heatmap\": [{\"colorbar\": {\"outlinewidth\": 0, \"ticks\": \"\"}, \"colorscale\": [[0.0, \"#0d0887\"], [0.1111111111111111, \"#46039f\"], [0.2222222222222222, \"#7201a8\"], [0.3333333333333333, \"#9c179e\"], [0.4444444444444444, \"#bd3786\"], [0.5555555555555556, \"#d8576b\"], [0.6666666666666666, \"#ed7953\"], [0.7777777777777778, \"#fb9f3a\"], [0.8888888888888888, \"#fdca26\"], [1.0, \"#f0f921\"]], \"type\": \"heatmap\"}], \"heatmapgl\": [{\"colorbar\": {\"outlinewidth\": 0, \"ticks\": \"\"}, \"colorscale\": [[0.0, \"#0d0887\"], [0.1111111111111111, \"#46039f\"], [0.2222222222222222, \"#7201a8\"], [0.3333333333333333, \"#9c179e\"], [0.4444444444444444, \"#bd3786\"], [0.5555555555555556, \"#d8576b\"], [0.6666666666666666, \"#ed7953\"], [0.7777777777777778, \"#fb9f3a\"], [0.8888888888888888, \"#fdca26\"], [1.0, \"#f0f921\"]], \"type\": \"heatmapgl\"}], \"histogram\": [{\"marker\": {\"colorbar\": {\"outlinewidth\": 0, \"ticks\": \"\"}}, \"type\": \"histogram\"}], \"histogram2d\": [{\"colorbar\": {\"outlinewidth\": 0, \"ticks\": \"\"}, \"colorscale\": [[0.0, \"#0d0887\"], [0.1111111111111111, \"#46039f\"], [0.2222222222222222, \"#7201a8\"], [0.3333333333333333, \"#9c179e\"], [0.4444444444444444, \"#bd3786\"], [0.5555555555555556, \"#d8576b\"], [0.6666666666666666, \"#ed7953\"], [0.7777777777777778, \"#fb9f3a\"], [0.8888888888888888, \"#fdca26\"], [1.0, \"#f0f921\"]], \"type\": \"histogram2d\"}], \"histogram2dcontour\": [{\"colorbar\": {\"outlinewidth\": 0, \"ticks\": \"\"}, \"colorscale\": [[0.0, \"#0d0887\"], [0.1111111111111111, \"#46039f\"], [0.2222222222222222, \"#7201a8\"], [0.3333333333333333, \"#9c179e\"], [0.4444444444444444, \"#bd3786\"], [0.5555555555555556, \"#d8576b\"], [0.6666666666666666, \"#ed7953\"], [0.7777777777777778, \"#fb9f3a\"], [0.8888888888888888, \"#fdca26\"], [1.0, \"#f0f921\"]], \"type\": \"histogram2dcontour\"}], \"mesh3d\": [{\"colorbar\": {\"outlinewidth\": 0, \"ticks\": \"\"}, \"type\": \"mesh3d\"}], \"parcoords\": [{\"line\": {\"colorbar\": {\"outlinewidth\": 0, \"ticks\": \"\"}}, \"type\": \"parcoords\"}], \"pie\": [{\"automargin\": true, \"type\": \"pie\"}], \"scatter\": [{\"marker\": {\"colorbar\": {\"outlinewidth\": 0, \"ticks\": \"\"}}, \"type\": \"scatter\"}], \"scatter3d\": [{\"line\": {\"colorbar\": {\"outlinewidth\": 0, \"ticks\": \"\"}}, \"marker\": {\"colorbar\": {\"outlinewidth\": 0, \"ticks\": \"\"}}, \"type\": \"scatter3d\"}], \"scattercarpet\": [{\"marker\": {\"colorbar\": {\"outlinewidth\": 0, \"ticks\": \"\"}}, \"type\": \"scattercarpet\"}], \"scattergeo\": [{\"marker\": {\"colorbar\": {\"outlinewidth\": 0, \"ticks\": \"\"}}, \"type\": \"scattergeo\"}], \"scattergl\": [{\"marker\": {\"colorbar\": {\"outlinewidth\": 0, \"ticks\": \"\"}}, \"type\": \"scattergl\"}], \"scattermapbox\": [{\"marker\": {\"colorbar\": {\"outlinewidth\": 0, \"ticks\": \"\"}}, \"type\": \"scattermapbox\"}], \"scatterpolar\": [{\"marker\": {\"colorbar\": {\"outlinewidth\": 0, \"ticks\": \"\"}}, \"type\": \"scatterpolar\"}], \"scatterpolargl\": [{\"marker\": {\"colorbar\": {\"outlinewidth\": 0, \"ticks\": \"\"}}, \"type\": \"scatterpolargl\"}], \"scatterternary\": [{\"marker\": {\"colorbar\": {\"outlinewidth\": 0, \"ticks\": \"\"}}, \"type\": \"scatterternary\"}], \"surface\": [{\"colorbar\": {\"outlinewidth\": 0, \"ticks\": \"\"}, \"colorscale\": [[0.0, \"#0d0887\"], [0.1111111111111111, \"#46039f\"], [0.2222222222222222, \"#7201a8\"], [0.3333333333333333, \"#9c179e\"], [0.4444444444444444, \"#bd3786\"], [0.5555555555555556, \"#d8576b\"], [0.6666666666666666, \"#ed7953\"], [0.7777777777777778, \"#fb9f3a\"], [0.8888888888888888, \"#fdca26\"], [1.0, \"#f0f921\"]], \"type\": \"surface\"}], \"table\": [{\"cells\": {\"fill\": {\"color\": \"#EBF0F8\"}, \"line\": {\"color\": \"white\"}}, \"header\": {\"fill\": {\"color\": \"#C8D4E3\"}, \"line\": {\"color\": \"white\"}}, \"type\": \"table\"}]}, \"layout\": {\"annotationdefaults\": {\"arrowcolor\": \"#2a3f5f\", \"arrowhead\": 0, \"arrowwidth\": 1}, \"autotypenumbers\": \"strict\", \"coloraxis\": {\"colorbar\": {\"outlinewidth\": 0, \"ticks\": \"\"}}, \"colorscale\": {\"diverging\": [[0, \"#8e0152\"], [0.1, \"#c51b7d\"], [0.2, \"#de77ae\"], [0.3, \"#f1b6da\"], [0.4, \"#fde0ef\"], [0.5, \"#f7f7f7\"], [0.6, \"#e6f5d0\"], [0.7, \"#b8e186\"], [0.8, \"#7fbc41\"], [0.9, \"#4d9221\"], [1, \"#276419\"]], \"sequential\": [[0.0, \"#0d0887\"], [0.1111111111111111, \"#46039f\"], [0.2222222222222222, \"#7201a8\"], [0.3333333333333333, \"#9c179e\"], [0.4444444444444444, \"#bd3786\"], [0.5555555555555556, \"#d8576b\"], [0.6666666666666666, \"#ed7953\"], [0.7777777777777778, \"#fb9f3a\"], [0.8888888888888888, \"#fdca26\"], [1.0, \"#f0f921\"]], \"sequentialminus\": [[0.0, \"#0d0887\"], [0.1111111111111111, \"#46039f\"], [0.2222222222222222, \"#7201a8\"], [0.3333333333333333, \"#9c179e\"], [0.4444444444444444, \"#bd3786\"], [0.5555555555555556, \"#d8576b\"], [0.6666666666666666, \"#ed7953\"], [0.7777777777777778, \"#fb9f3a\"], [0.8888888888888888, \"#fdca26\"], [1.0, \"#f0f921\"]]}, \"colorway\": [\"#636efa\", \"#EF553B\", \"#00cc96\", \"#ab63fa\", \"#FFA15A\", \"#19d3f3\", \"#FF6692\", \"#B6E880\", \"#FF97FF\", \"#FECB52\"], \"font\": {\"color\": \"#2a3f5f\"}, \"geo\": {\"bgcolor\": \"white\", \"lakecolor\": \"white\", \"landcolor\": \"#E5ECF6\", \"showlakes\": true, \"showland\": true, \"subunitcolor\": \"white\"}, \"hoverlabel\": {\"align\": \"left\"}, \"hovermode\": \"closest\", \"mapbox\": {\"style\": \"light\"}, \"paper_bgcolor\": \"white\", \"plot_bgcolor\": \"#E5ECF6\", \"polar\": {\"angularaxis\": {\"gridcolor\": \"white\", \"linecolor\": \"white\", \"ticks\": \"\"}, \"bgcolor\": \"#E5ECF6\", \"radialaxis\": {\"gridcolor\": \"white\", \"linecolor\": \"white\", \"ticks\": \"\"}}, \"scene\": {\"xaxis\": {\"backgroundcolor\": \"#E5ECF6\", \"gridcolor\": \"white\", \"gridwidth\": 2, \"linecolor\": \"white\", \"showbackground\": true, \"ticks\": \"\", \"zerolinecolor\": \"white\"}, \"yaxis\": {\"backgroundcolor\": \"#E5ECF6\", \"gridcolor\": \"white\", \"gridwidth\": 2, \"linecolor\": \"white\", \"showbackground\": true, \"ticks\": \"\", \"zerolinecolor\": \"white\"}, \"zaxis\": {\"backgroundcolor\": \"#E5ECF6\", \"gridcolor\": \"white\", \"gridwidth\": 2, \"linecolor\": \"white\", \"showbackground\": true, \"ticks\": \"\", \"zerolinecolor\": \"white\"}}, \"shapedefaults\": {\"line\": {\"color\": \"#2a3f5f\"}}, \"ternary\": {\"aaxis\": {\"gridcolor\": \"white\", \"linecolor\": \"white\", \"ticks\": \"\"}, \"baxis\": {\"gridcolor\": \"white\", \"linecolor\": \"white\", \"ticks\": \"\"}, \"bgcolor\": \"#E5ECF6\", \"caxis\": {\"gridcolor\": \"white\", \"linecolor\": \"white\", \"ticks\": \"\"}}, \"title\": {\"x\": 0.05}, \"xaxis\": {\"automargin\": true, \"gridcolor\": \"white\", \"linecolor\": \"white\", \"ticks\": \"\", \"title\": {\"standoff\": 15}, \"zerolinecolor\": \"white\", \"zerolinewidth\": 2}, \"yaxis\": {\"automargin\": true, \"gridcolor\": \"white\", \"linecolor\": \"white\", \"ticks\": \"\", \"title\": {\"standoff\": 15}, \"zerolinecolor\": \"white\", \"zerolinewidth\": 2}}}, \"title\": {\"text\": \"Mortality Rate\"}, \"xaxis\": {\"anchor\": \"y\", \"domain\": [0.0, 1.0], \"title\": {\"text\": \"date\"}}, \"yaxis\": {\"anchor\": \"x\", \"domain\": [0.0, 1.0], \"title\": {\"text\": \"new_cases\"}}},                        {\"responsive\": true}                    ).then(function(){\n",
              "                            \n",
              "var gd = document.getElementById('4ac55ef7-ffe0-454f-8d22-cd29739adfb2');\n",
              "var x = new MutationObserver(function (mutations, observer) {{\n",
              "        var display = window.getComputedStyle(gd).display;\n",
              "        if (!display || display === 'none') {{\n",
              "            console.log([gd, 'removed!']);\n",
              "            Plotly.purge(gd);\n",
              "            observer.disconnect();\n",
              "        }}\n",
              "}});\n",
              "\n",
              "// Listen for the removal of the full notebook cells\n",
              "var notebookContainer = gd.closest('#notebook-container');\n",
              "if (notebookContainer) {{\n",
              "    x.observe(notebookContainer, {childList: true});\n",
              "}}\n",
              "\n",
              "// Listen for the clearing of the current output cell\n",
              "var outputEl = gd.closest('.output');\n",
              "if (outputEl) {{\n",
              "    x.observe(outputEl, {childList: true});\n",
              "}}\n",
              "\n",
              "                        })                };                            </script>        </div>\n",
              "</body>\n",
              "</html>"
            ]
          },
          "metadata": {
            "tags": []
          }
        }
      ]
    },
    {
      "cell_type": "code",
      "metadata": {
        "colab": {
          "base_uri": "https://localhost:8080/",
          "height": 542
        },
        "id": "aauluj4HApQT",
        "outputId": "d06f0138-1610-40bb-bd92-fde7e105b54e"
      },
      "source": [
        "fig = px.line(dataset_UK,  dataset_UK[\"date\"], dataset_UK[\"new_deaths\"], title = \"New Deaths\", color = dataset_UK[\"Variant\"]) #hover_data = [\"new_deaths\", \"population\", \"total_cases\", \"new_cases\"])\n",
        "fig.update_traces(mode = \"markers + lines\", hovertemplate = None)\n",
        "fig.update_layout(hovermode = \"x unified\")\n",
        "fig.show()"
      ],
      "execution_count": 68,
      "outputs": [
        {
          "output_type": "display_data",
          "data": {
            "text/html": [
              "<html>\n",
              "<head><meta charset=\"utf-8\" /></head>\n",
              "<body>\n",
              "    <div>            <script src=\"https://cdnjs.cloudflare.com/ajax/libs/mathjax/2.7.5/MathJax.js?config=TeX-AMS-MML_SVG\"></script><script type=\"text/javascript\">if (window.MathJax) {MathJax.Hub.Config({SVG: {font: \"STIX-Web\"}});}</script>                <script type=\"text/javascript\">window.PlotlyConfig = {MathJaxConfig: 'local'};</script>\n",
              "        <script src=\"https://cdn.plot.ly/plotly-latest.min.js\"></script>                <div id=\"567f6b59-0a3e-466f-8d61-59833ca79255\" class=\"plotly-graph-div\" style=\"height:525px; width:100%;\"></div>            <script type=\"text/javascript\">                                    window.PLOTLYENV=window.PLOTLYENV || {};                                    if (document.getElementById(\"567f6b59-0a3e-466f-8d61-59833ca79255\")) {                    Plotly.newPlot(                        \"567f6b59-0a3e-466f-8d61-59833ca79255\",                        [{\"legendgroup\": \"First\", \"line\": {\"color\": \"#636efa\", \"dash\": \"solid\"}, \"mode\": \"markers+lines\", \"name\": \"First\", \"orientation\": \"v\", \"showlegend\": true, \"type\": \"scatter\", \"x\": [\"2020-05-01\", \"2020-05-02\", \"2020-05-03\", \"2020-05-04\", \"2020-05-05\", \"2020-05-06\", \"2020-05-07\", \"2020-05-08\", \"2020-05-09\", \"2020-05-10\", \"2020-05-11\", \"2020-05-12\", \"2020-05-13\", \"2020-05-14\", \"2020-05-15\", \"2020-05-16\", \"2020-05-17\", \"2020-05-18\", \"2020-05-19\", \"2020-05-20\", \"2020-05-21\", \"2020-05-22\", \"2020-05-23\", \"2020-05-24\", \"2020-05-25\", \"2020-05-26\", \"2020-05-27\", \"2020-05-28\", \"2020-05-29\", \"2020-05-30\", \"2020-05-31\", \"2020-06-01\", \"2020-06-02\", \"2020-06-03\", \"2020-06-04\", \"2020-06-05\", \"2020-06-06\", \"2020-06-07\", \"2020-06-08\", \"2020-06-09\", \"2020-06-10\", \"2020-06-11\", \"2020-06-12\", \"2020-06-13\", \"2020-06-14\", \"2020-06-15\", \"2020-06-16\", \"2020-06-17\", \"2020-06-18\", \"2020-06-19\", \"2020-06-20\", \"2020-06-21\", \"2020-06-22\", \"2020-06-23\", \"2020-06-24\", \"2020-06-25\", \"2020-06-26\", \"2020-06-27\", \"2020-06-28\", \"2020-06-29\", \"2020-06-30\", \"2020-07-01\", \"2020-07-02\", \"2020-07-03\", \"2020-07-04\", \"2020-07-05\", \"2020-07-06\", \"2020-07-07\", \"2020-07-08\", \"2020-07-09\", \"2020-07-10\", \"2020-07-11\", \"2020-07-12\", \"2020-07-13\", \"2020-07-14\", \"2020-07-15\", \"2020-07-16\", \"2020-07-17\", \"2020-07-18\", \"2020-07-19\", \"2020-07-20\", \"2020-07-21\", \"2020-07-22\", \"2020-07-23\", \"2020-07-24\", \"2020-07-25\", \"2020-07-26\", \"2020-07-27\", \"2020-07-28\", \"2020-07-29\", \"2020-07-30\", \"2020-07-31\", \"2020-08-01\", \"2020-08-02\", \"2020-08-03\", \"2020-08-04\", \"2020-08-05\", \"2020-08-06\", \"2020-08-07\", \"2020-08-08\", \"2020-08-09\", \"2020-08-10\", \"2020-08-11\", \"2020-08-12\", \"2020-08-13\", \"2020-08-14\", \"2020-08-15\", \"2020-08-16\", \"2020-08-17\", \"2020-08-18\", \"2020-08-19\", \"2020-08-20\", \"2020-08-21\", \"2020-08-22\", \"2020-08-23\", \"2020-08-24\", \"2020-08-25\", \"2020-08-26\", \"2020-08-27\", \"2020-08-28\", \"2020-08-29\", \"2020-08-30\", \"2020-08-31\", \"2020-09-01\", \"2020-09-02\", \"2020-09-03\", \"2020-09-04\", \"2020-09-05\", \"2020-09-06\", \"2020-09-07\", \"2020-09-08\", \"2020-09-09\", \"2020-09-10\", \"2020-09-11\", \"2020-09-12\", \"2020-09-13\", \"2020-09-14\"], \"xaxis\": \"x\", \"y\": [700.0, 585.0, 253.0, 273.0, 725.0, 647.0, 458.0, 580.0, 275.0, 217.0, 188.0, 615.0, 448.0, 353.0, 351.0, 411.0, 67.0, 146.0, 501.0, 329.0, 273.0, 291.0, 220.0, 379.0, 104.0, 131.0, 422.0, 343.0, 274.0, 154.0, 60.0, 86.0, 250.0, 254.0, 130.0, 258.0, 143.0, 54.0, 47.0, 197.0, 164.0, 76.0, 131.0, 107.0, 27.0, 29.0, 120.0, 110.0, 67.0, 84.0, 71.0, 31.0, 13.0, 94.0, 87.0, 99.0, 77.0, 40.0, 31.0, 21.0, 54.0, 97.0, 41.0, 49.0, 32.0, 19.0, 11.0, 54.0, 57.0, 31.0, 34.0, 17.0, 9.0, 10.0, 44.0, 26.0, 24.0, 26.0, 9.0, 11.0, 10.0, 25.0, 17.0, 9.0, 32.0, 15.0, 8.0, 3.0, 21.0, 34.0, 0.0, 20.0, 13.0, 5.0, 1.0, 18.0, 14.0, 18.0, 12.0, 3.0, 5.0, 18.0, 13.0, 20.0, 18.0, 11.0, 3.0, 5.0, 3.0, 12.0, 17.0, 6.0, 2.0, 18.0, 6.0, 4.0, 16.0, 17.0, 12.0, 9.0, 12.0, 1.0, 3.0, 3.0, 10.0, 14.0, 10.0, 12.0, 2.0, 3.0, 32.0, 8.0, 14.0, 6.0, 9.0, 5.0, 9.0], \"yaxis\": \"y\"}, {\"legendgroup\": \"Alpha\", \"line\": {\"color\": \"#EF553B\", \"dash\": \"solid\"}, \"mode\": \"markers+lines\", \"name\": \"Alpha\", \"orientation\": \"v\", \"showlegend\": true, \"type\": \"scatter\", \"x\": [\"2020-09-15\", \"2020-09-16\", \"2020-09-17\", \"2020-09-18\", \"2020-09-19\", \"2020-09-20\", \"2020-09-21\", \"2020-09-22\", \"2020-09-23\", \"2020-09-24\", \"2020-09-25\", \"2020-09-26\", \"2020-09-27\", \"2020-09-28\", \"2020-09-29\", \"2020-09-30\", \"2020-10-01\", \"2020-10-02\", \"2020-10-03\", \"2020-10-04\", \"2020-10-05\", \"2020-10-06\", \"2020-10-07\", \"2020-10-08\", \"2020-10-09\", \"2020-10-10\", \"2020-10-11\", \"2020-10-12\", \"2020-10-13\", \"2020-10-14\", \"2020-10-15\", \"2020-10-16\", \"2020-10-17\", \"2020-10-18\", \"2020-10-19\", \"2020-10-20\", \"2020-10-21\", \"2020-10-22\", \"2020-10-23\", \"2020-10-24\", \"2020-10-25\", \"2020-10-26\", \"2020-10-27\", \"2020-10-28\", \"2020-10-29\", \"2020-10-30\", \"2020-10-31\", \"2020-11-01\", \"2020-11-02\", \"2020-11-03\", \"2020-11-04\", \"2020-11-05\", \"2020-11-06\", \"2020-11-07\", \"2020-11-08\", \"2020-11-09\", \"2020-11-10\", \"2020-11-11\", \"2020-11-12\", \"2020-11-13\", \"2020-11-14\", \"2020-11-15\", \"2020-11-16\", \"2020-11-17\", \"2020-11-18\", \"2020-11-19\", \"2020-11-20\", \"2020-11-21\", \"2020-11-22\", \"2020-11-23\", \"2020-11-24\", \"2020-11-25\", \"2020-11-26\", \"2020-11-27\", \"2020-11-28\", \"2020-11-29\", \"2020-11-30\", \"2020-12-01\", \"2020-12-02\", \"2020-12-03\", \"2020-12-04\", \"2020-12-05\", \"2020-12-06\", \"2020-12-07\", \"2020-12-08\", \"2020-12-09\", \"2020-12-10\", \"2020-12-11\", \"2020-12-12\", \"2020-12-13\", \"2020-12-14\", \"2020-12-15\", \"2020-12-16\", \"2020-12-17\", \"2020-12-18\", \"2020-12-19\", \"2020-12-20\", \"2020-12-21\", \"2020-12-22\", \"2020-12-23\", \"2020-12-24\", \"2020-12-25\", \"2020-12-26\", \"2020-12-27\", \"2020-12-28\", \"2020-12-29\", \"2020-12-30\", \"2020-12-31\", \"2021-01-01\", \"2021-01-02\", \"2021-01-03\", \"2021-01-04\", \"2021-01-05\", \"2021-01-06\", \"2021-01-07\", \"2021-01-08\", \"2021-01-09\", \"2021-01-10\", \"2021-01-11\", \"2021-01-12\", \"2021-01-13\", \"2021-01-14\", \"2021-01-15\", \"2021-01-16\", \"2021-01-17\", \"2021-01-18\", \"2021-01-19\", \"2021-01-20\", \"2021-01-21\", \"2021-01-22\", \"2021-01-23\", \"2021-01-24\", \"2021-01-25\", \"2021-01-26\", \"2021-01-27\", \"2021-01-28\", \"2021-01-29\", \"2021-01-30\", \"2021-01-31\", \"2021-02-01\", \"2021-02-02\", \"2021-02-03\", \"2021-02-04\", \"2021-02-05\", \"2021-02-06\", \"2021-02-07\", \"2021-02-08\", \"2021-02-09\", \"2021-02-10\", \"2021-02-11\", \"2021-02-12\", \"2021-02-13\", \"2021-02-14\", \"2021-02-15\", \"2021-02-16\", \"2021-02-17\", \"2021-02-18\", \"2021-02-19\", \"2021-02-20\", \"2021-02-21\", \"2021-02-22\", \"2021-02-23\", \"2021-02-24\", \"2021-02-25\", \"2021-02-26\", \"2021-02-27\", \"2021-02-28\", \"2021-03-01\", \"2021-03-02\", \"2021-03-03\", \"2021-03-04\", \"2021-03-05\", \"2021-03-06\", \"2021-03-07\", \"2021-03-08\", \"2021-03-09\", \"2021-03-10\", \"2021-03-11\", \"2021-03-12\", \"2021-03-13\", \"2021-03-14\", \"2021-03-15\", \"2021-03-16\", \"2021-03-17\", \"2021-03-18\", \"2021-03-19\", \"2021-03-20\", \"2021-03-21\", \"2021-03-22\", \"2021-03-23\", \"2021-03-24\", \"2021-03-25\", \"2021-03-26\", \"2021-03-27\", \"2021-03-28\", \"2021-03-29\", \"2021-03-30\", \"2021-03-31\", \"2021-04-01\", \"2021-04-02\", \"2021-04-03\", \"2021-04-04\", \"2021-04-05\", \"2021-04-06\", \"2021-04-07\", \"2021-04-08\", \"2021-04-09\", \"2021-04-10\", \"2021-04-11\", \"2021-04-12\", \"2021-04-13\", \"2021-04-14\", \"2021-04-15\", \"2021-04-16\", \"2021-04-17\", \"2021-04-18\", \"2021-04-19\", \"2021-04-20\", \"2021-04-21\", \"2021-04-22\", \"2021-04-23\", \"2021-04-24\", \"2021-04-25\", \"2021-04-26\", \"2021-04-27\", \"2021-04-28\", \"2021-04-29\", \"2021-04-30\", \"2021-05-01\", \"2021-05-02\", \"2021-05-03\", \"2021-05-04\", \"2021-05-05\", \"2021-05-06\", \"2021-05-07\", \"2021-05-08\", \"2021-05-09\", \"2021-05-10\", \"2021-05-11\", \"2021-05-12\", \"2021-05-13\"], \"xaxis\": \"x\", \"y\": [27.0, 20.0, 21.0, 27.0, 27.0, 18.0, 11.0, 37.0, 37.0, 40.0, 34.0, 35.0, 17.0, 13.0, 72.0, 71.0, 59.0, 66.0, 49.0, 33.0, 19.0, 76.0, 70.0, 77.0, 87.0, 81.0, 65.0, 50.0, 143.0, 137.0, 138.0, 136.0, 150.0, 67.0, 80.0, 241.0, 191.0, 189.0, 224.0, 174.0, 151.0, 102.0, 367.0, 310.0, 280.0, 274.0, 326.0, 162.0, 136.0, 397.0, 492.0, 378.0, 355.0, 413.0, 156.0, 195.0, 532.0, 596.0, 563.0, 376.0, 462.0, 168.0, 214.0, 599.0, 529.0, 502.0, 511.0, 340.0, 399.0, 207.0, 608.0, 695.0, 498.0, 520.0, 479.0, 215.0, 203.0, 603.0, 648.0, 414.0, 504.0, 397.0, 231.0, 189.0, 599.0, 533.0, 516.0, 424.0, 520.0, 144.0, 233.0, 506.0, 612.0, 532.0, 490.0, 537.0, 326.0, 215.0, 691.0, 748.0, 575.0, 570.0, 211.0, 347.0, 357.0, 458.0, 982.0, 965.0, 615.0, 445.0, 455.0, 410.0, 881.0, 1042.0, 1162.0, 1333.0, 1035.0, 567.0, 529.0, 1246.0, 1568.0, 1253.0, 1285.0, 1299.0, 682.0, 602.0, 1612.0, 1826.0, 1296.0, 1401.0, 1352.0, 611.0, 594.0, 1636.0, 1726.0, 1239.0, 1248.0, 1205.0, 590.0, 407.0, 1451.0, 1322.0, 915.0, 1015.0, 828.0, 376.0, 333.0, 1052.0, 1002.0, 680.0, 759.0, 621.0, 259.0, 235.0, 799.0, 738.0, 455.0, 533.0, 446.0, 217.0, 178.0, 548.0, 443.0, 324.0, 345.0, 291.0, 144.0, 104.0, 343.0, 487.0, 242.0, 236.0, 159.0, 82.0, 65.0, 231.0, 190.0, 181.0, 176.0, 122.0, 52.0, 64.0, 110.0, 141.0, 95.0, 100.0, 96.0, 34.0, 18.0, 112.0, 98.0, 63.0, 71.0, 58.0, 21.0, 23.0, 55.0, 43.0, 51.0, 52.0, 10.0, 10.0, 28.0, 20.0, 45.0, 53.0, 60.0, 40.0, 7.0, 15.0, 23.0, 38.0, 31.0, 34.0, 36.0, 10.0, 6.0, 33.0, 20.0, 20.0, 41.0, 32.0, 11.0, 7.0, 17.0, 29.0, 25.0, 16.0, 7.0, 14.0, 1.0, 6.0, 27.0, 13.0, 15.0, 5.0, 2.0, 5.0, 20.0, 11.0, 11.0], \"yaxis\": \"y\"}, {\"legendgroup\": \"Delta\", \"line\": {\"color\": \"#00cc96\", \"dash\": \"solid\"}, \"mode\": \"markers+lines\", \"name\": \"Delta\", \"orientation\": \"v\", \"showlegend\": true, \"type\": \"scatter\", \"x\": [\"2021-05-14\", \"2021-05-15\", \"2021-05-16\", \"2021-05-17\", \"2021-05-18\", \"2021-05-19\", \"2021-05-20\", \"2021-05-21\", \"2021-05-22\", \"2021-05-23\", \"2021-05-24\", \"2021-05-25\", \"2021-05-26\", \"2021-05-27\", \"2021-05-28\", \"2021-05-29\", \"2021-05-30\", \"2021-05-31\", \"2021-06-01\", \"2021-06-02\", \"2021-06-03\", \"2021-06-04\", \"2021-06-05\", \"2021-06-06\", \"2021-06-07\", \"2021-06-08\", \"2021-06-09\"], \"xaxis\": \"x\", \"y\": [18.0, 7.0, 4.0, 5.0, 7.0, 3.0, 7.0, 9.0, 6.0, 5.0, 3.0, 15.0, 9.0, 10.0, 10.0, 7.0, 6.0, 2.0, 0.0, 12.0, 18.0, 11.0, 13.0, 4.0, 1.0, 14.0, 6.0], \"yaxis\": \"y\"}],                        {\"hovermode\": \"x unified\", \"legend\": {\"title\": {\"text\": \"Variant\"}, \"tracegroupgap\": 0}, \"template\": {\"data\": {\"bar\": [{\"error_x\": {\"color\": \"#2a3f5f\"}, \"error_y\": {\"color\": \"#2a3f5f\"}, \"marker\": {\"line\": {\"color\": \"#E5ECF6\", \"width\": 0.5}}, \"type\": \"bar\"}], \"barpolar\": [{\"marker\": {\"line\": {\"color\": \"#E5ECF6\", \"width\": 0.5}}, \"type\": \"barpolar\"}], \"carpet\": [{\"aaxis\": {\"endlinecolor\": \"#2a3f5f\", \"gridcolor\": \"white\", \"linecolor\": \"white\", \"minorgridcolor\": \"white\", \"startlinecolor\": \"#2a3f5f\"}, \"baxis\": {\"endlinecolor\": \"#2a3f5f\", \"gridcolor\": \"white\", \"linecolor\": \"white\", \"minorgridcolor\": \"white\", \"startlinecolor\": \"#2a3f5f\"}, \"type\": \"carpet\"}], \"choropleth\": [{\"colorbar\": {\"outlinewidth\": 0, \"ticks\": \"\"}, \"type\": \"choropleth\"}], \"contour\": [{\"colorbar\": {\"outlinewidth\": 0, \"ticks\": \"\"}, \"colorscale\": [[0.0, \"#0d0887\"], [0.1111111111111111, \"#46039f\"], [0.2222222222222222, \"#7201a8\"], [0.3333333333333333, \"#9c179e\"], [0.4444444444444444, \"#bd3786\"], [0.5555555555555556, \"#d8576b\"], [0.6666666666666666, \"#ed7953\"], [0.7777777777777778, \"#fb9f3a\"], [0.8888888888888888, \"#fdca26\"], [1.0, \"#f0f921\"]], \"type\": \"contour\"}], \"contourcarpet\": [{\"colorbar\": {\"outlinewidth\": 0, \"ticks\": \"\"}, \"type\": \"contourcarpet\"}], \"heatmap\": [{\"colorbar\": {\"outlinewidth\": 0, \"ticks\": \"\"}, \"colorscale\": [[0.0, \"#0d0887\"], [0.1111111111111111, \"#46039f\"], [0.2222222222222222, \"#7201a8\"], [0.3333333333333333, \"#9c179e\"], [0.4444444444444444, \"#bd3786\"], [0.5555555555555556, \"#d8576b\"], [0.6666666666666666, \"#ed7953\"], [0.7777777777777778, \"#fb9f3a\"], [0.8888888888888888, \"#fdca26\"], [1.0, \"#f0f921\"]], \"type\": \"heatmap\"}], \"heatmapgl\": [{\"colorbar\": {\"outlinewidth\": 0, \"ticks\": \"\"}, \"colorscale\": [[0.0, \"#0d0887\"], [0.1111111111111111, \"#46039f\"], [0.2222222222222222, \"#7201a8\"], [0.3333333333333333, \"#9c179e\"], [0.4444444444444444, \"#bd3786\"], [0.5555555555555556, \"#d8576b\"], [0.6666666666666666, \"#ed7953\"], [0.7777777777777778, \"#fb9f3a\"], [0.8888888888888888, \"#fdca26\"], [1.0, \"#f0f921\"]], \"type\": \"heatmapgl\"}], \"histogram\": [{\"marker\": {\"colorbar\": {\"outlinewidth\": 0, \"ticks\": \"\"}}, \"type\": \"histogram\"}], \"histogram2d\": [{\"colorbar\": {\"outlinewidth\": 0, \"ticks\": \"\"}, \"colorscale\": [[0.0, \"#0d0887\"], [0.1111111111111111, \"#46039f\"], [0.2222222222222222, \"#7201a8\"], [0.3333333333333333, \"#9c179e\"], [0.4444444444444444, \"#bd3786\"], [0.5555555555555556, \"#d8576b\"], [0.6666666666666666, \"#ed7953\"], [0.7777777777777778, \"#fb9f3a\"], [0.8888888888888888, \"#fdca26\"], [1.0, \"#f0f921\"]], \"type\": \"histogram2d\"}], \"histogram2dcontour\": [{\"colorbar\": {\"outlinewidth\": 0, \"ticks\": \"\"}, \"colorscale\": [[0.0, \"#0d0887\"], [0.1111111111111111, \"#46039f\"], [0.2222222222222222, \"#7201a8\"], [0.3333333333333333, \"#9c179e\"], [0.4444444444444444, \"#bd3786\"], [0.5555555555555556, \"#d8576b\"], [0.6666666666666666, \"#ed7953\"], [0.7777777777777778, \"#fb9f3a\"], [0.8888888888888888, \"#fdca26\"], [1.0, \"#f0f921\"]], \"type\": \"histogram2dcontour\"}], \"mesh3d\": [{\"colorbar\": {\"outlinewidth\": 0, \"ticks\": \"\"}, \"type\": \"mesh3d\"}], \"parcoords\": [{\"line\": {\"colorbar\": {\"outlinewidth\": 0, \"ticks\": \"\"}}, \"type\": \"parcoords\"}], \"pie\": [{\"automargin\": true, \"type\": \"pie\"}], \"scatter\": [{\"marker\": {\"colorbar\": {\"outlinewidth\": 0, \"ticks\": \"\"}}, \"type\": \"scatter\"}], \"scatter3d\": [{\"line\": {\"colorbar\": {\"outlinewidth\": 0, \"ticks\": \"\"}}, \"marker\": {\"colorbar\": {\"outlinewidth\": 0, \"ticks\": \"\"}}, \"type\": \"scatter3d\"}], \"scattercarpet\": [{\"marker\": {\"colorbar\": {\"outlinewidth\": 0, \"ticks\": \"\"}}, \"type\": \"scattercarpet\"}], \"scattergeo\": [{\"marker\": {\"colorbar\": {\"outlinewidth\": 0, \"ticks\": \"\"}}, \"type\": \"scattergeo\"}], \"scattergl\": [{\"marker\": {\"colorbar\": {\"outlinewidth\": 0, \"ticks\": \"\"}}, \"type\": \"scattergl\"}], \"scattermapbox\": [{\"marker\": {\"colorbar\": {\"outlinewidth\": 0, \"ticks\": \"\"}}, \"type\": \"scattermapbox\"}], \"scatterpolar\": [{\"marker\": {\"colorbar\": {\"outlinewidth\": 0, \"ticks\": \"\"}}, \"type\": \"scatterpolar\"}], \"scatterpolargl\": [{\"marker\": {\"colorbar\": {\"outlinewidth\": 0, \"ticks\": \"\"}}, \"type\": \"scatterpolargl\"}], \"scatterternary\": [{\"marker\": {\"colorbar\": {\"outlinewidth\": 0, \"ticks\": \"\"}}, \"type\": \"scatterternary\"}], \"surface\": [{\"colorbar\": {\"outlinewidth\": 0, \"ticks\": \"\"}, \"colorscale\": [[0.0, \"#0d0887\"], [0.1111111111111111, \"#46039f\"], [0.2222222222222222, \"#7201a8\"], [0.3333333333333333, \"#9c179e\"], [0.4444444444444444, \"#bd3786\"], [0.5555555555555556, \"#d8576b\"], [0.6666666666666666, \"#ed7953\"], [0.7777777777777778, \"#fb9f3a\"], [0.8888888888888888, \"#fdca26\"], [1.0, \"#f0f921\"]], \"type\": \"surface\"}], \"table\": [{\"cells\": {\"fill\": {\"color\": \"#EBF0F8\"}, \"line\": {\"color\": \"white\"}}, \"header\": {\"fill\": {\"color\": \"#C8D4E3\"}, \"line\": {\"color\": \"white\"}}, \"type\": \"table\"}]}, \"layout\": {\"annotationdefaults\": {\"arrowcolor\": \"#2a3f5f\", \"arrowhead\": 0, \"arrowwidth\": 1}, \"autotypenumbers\": \"strict\", \"coloraxis\": {\"colorbar\": {\"outlinewidth\": 0, \"ticks\": \"\"}}, \"colorscale\": {\"diverging\": [[0, \"#8e0152\"], [0.1, \"#c51b7d\"], [0.2, \"#de77ae\"], [0.3, \"#f1b6da\"], [0.4, \"#fde0ef\"], [0.5, \"#f7f7f7\"], [0.6, \"#e6f5d0\"], [0.7, \"#b8e186\"], [0.8, \"#7fbc41\"], [0.9, \"#4d9221\"], [1, \"#276419\"]], \"sequential\": [[0.0, \"#0d0887\"], [0.1111111111111111, \"#46039f\"], [0.2222222222222222, \"#7201a8\"], [0.3333333333333333, \"#9c179e\"], [0.4444444444444444, \"#bd3786\"], [0.5555555555555556, \"#d8576b\"], [0.6666666666666666, \"#ed7953\"], [0.7777777777777778, \"#fb9f3a\"], [0.8888888888888888, \"#fdca26\"], [1.0, \"#f0f921\"]], \"sequentialminus\": [[0.0, \"#0d0887\"], [0.1111111111111111, \"#46039f\"], [0.2222222222222222, \"#7201a8\"], [0.3333333333333333, \"#9c179e\"], [0.4444444444444444, \"#bd3786\"], [0.5555555555555556, \"#d8576b\"], [0.6666666666666666, \"#ed7953\"], [0.7777777777777778, \"#fb9f3a\"], [0.8888888888888888, \"#fdca26\"], [1.0, \"#f0f921\"]]}, \"colorway\": [\"#636efa\", \"#EF553B\", \"#00cc96\", \"#ab63fa\", \"#FFA15A\", \"#19d3f3\", \"#FF6692\", \"#B6E880\", \"#FF97FF\", \"#FECB52\"], \"font\": {\"color\": \"#2a3f5f\"}, \"geo\": {\"bgcolor\": \"white\", \"lakecolor\": \"white\", \"landcolor\": \"#E5ECF6\", \"showlakes\": true, \"showland\": true, \"subunitcolor\": \"white\"}, \"hoverlabel\": {\"align\": \"left\"}, \"hovermode\": \"closest\", \"mapbox\": {\"style\": \"light\"}, \"paper_bgcolor\": \"white\", \"plot_bgcolor\": \"#E5ECF6\", \"polar\": {\"angularaxis\": {\"gridcolor\": \"white\", \"linecolor\": \"white\", \"ticks\": \"\"}, \"bgcolor\": \"#E5ECF6\", \"radialaxis\": {\"gridcolor\": \"white\", \"linecolor\": \"white\", \"ticks\": \"\"}}, \"scene\": {\"xaxis\": {\"backgroundcolor\": \"#E5ECF6\", \"gridcolor\": \"white\", \"gridwidth\": 2, \"linecolor\": \"white\", \"showbackground\": true, \"ticks\": \"\", \"zerolinecolor\": \"white\"}, \"yaxis\": {\"backgroundcolor\": \"#E5ECF6\", \"gridcolor\": \"white\", \"gridwidth\": 2, \"linecolor\": \"white\", \"showbackground\": true, \"ticks\": \"\", \"zerolinecolor\": \"white\"}, \"zaxis\": {\"backgroundcolor\": \"#E5ECF6\", \"gridcolor\": \"white\", \"gridwidth\": 2, \"linecolor\": \"white\", \"showbackground\": true, \"ticks\": \"\", \"zerolinecolor\": \"white\"}}, \"shapedefaults\": {\"line\": {\"color\": \"#2a3f5f\"}}, \"ternary\": {\"aaxis\": {\"gridcolor\": \"white\", \"linecolor\": \"white\", \"ticks\": \"\"}, \"baxis\": {\"gridcolor\": \"white\", \"linecolor\": \"white\", \"ticks\": \"\"}, \"bgcolor\": \"#E5ECF6\", \"caxis\": {\"gridcolor\": \"white\", \"linecolor\": \"white\", \"ticks\": \"\"}}, \"title\": {\"x\": 0.05}, \"xaxis\": {\"automargin\": true, \"gridcolor\": \"white\", \"linecolor\": \"white\", \"ticks\": \"\", \"title\": {\"standoff\": 15}, \"zerolinecolor\": \"white\", \"zerolinewidth\": 2}, \"yaxis\": {\"automargin\": true, \"gridcolor\": \"white\", \"linecolor\": \"white\", \"ticks\": \"\", \"title\": {\"standoff\": 15}, \"zerolinecolor\": \"white\", \"zerolinewidth\": 2}}}, \"title\": {\"text\": \"New Deaths\"}, \"xaxis\": {\"anchor\": \"y\", \"domain\": [0.0, 1.0], \"title\": {\"text\": \"date\"}}, \"yaxis\": {\"anchor\": \"x\", \"domain\": [0.0, 1.0], \"title\": {\"text\": \"new_deaths\"}}},                        {\"responsive\": true}                    ).then(function(){\n",
              "                            \n",
              "var gd = document.getElementById('567f6b59-0a3e-466f-8d61-59833ca79255');\n",
              "var x = new MutationObserver(function (mutations, observer) {{\n",
              "        var display = window.getComputedStyle(gd).display;\n",
              "        if (!display || display === 'none') {{\n",
              "            console.log([gd, 'removed!']);\n",
              "            Plotly.purge(gd);\n",
              "            observer.disconnect();\n",
              "        }}\n",
              "}});\n",
              "\n",
              "// Listen for the removal of the full notebook cells\n",
              "var notebookContainer = gd.closest('#notebook-container');\n",
              "if (notebookContainer) {{\n",
              "    x.observe(notebookContainer, {childList: true});\n",
              "}}\n",
              "\n",
              "// Listen for the clearing of the current output cell\n",
              "var outputEl = gd.closest('.output');\n",
              "if (outputEl) {{\n",
              "    x.observe(outputEl, {childList: true});\n",
              "}}\n",
              "\n",
              "                        })                };                            </script>        </div>\n",
              "</body>\n",
              "</html>"
            ]
          },
          "metadata": {
            "tags": []
          }
        }
      ]
    },
    {
      "cell_type": "code",
      "metadata": {
        "colab": {
          "base_uri": "https://localhost:8080/",
          "height": 542
        },
        "id": "f-lVKA_8At0E",
        "outputId": "2f8b9904-ba90-41d2-f662-be5bf3554358"
      },
      "source": [
        "fig = px.line(dataset_UK,  dataset_UK[\"date\"], dataset_UK[\"Fatality_Rate\"], title = \"Fatality Rate\", color = dataset_UK[\"Variant\"]) #hover_data = [\"new_deaths\", \"population\", \"total_cases\", \"new_cases\"])\n",
        "fig.update_traces(mode = \"markers + lines\", hovertemplate = None)\n",
        "fig.update_layout(hovermode = \"x unified\")\n",
        "fig.show()"
      ],
      "execution_count": 69,
      "outputs": [
        {
          "output_type": "display_data",
          "data": {
            "text/html": [
              "<html>\n",
              "<head><meta charset=\"utf-8\" /></head>\n",
              "<body>\n",
              "    <div>            <script src=\"https://cdnjs.cloudflare.com/ajax/libs/mathjax/2.7.5/MathJax.js?config=TeX-AMS-MML_SVG\"></script><script type=\"text/javascript\">if (window.MathJax) {MathJax.Hub.Config({SVG: {font: \"STIX-Web\"}});}</script>                <script type=\"text/javascript\">window.PlotlyConfig = {MathJaxConfig: 'local'};</script>\n",
              "        <script src=\"https://cdn.plot.ly/plotly-latest.min.js\"></script>                <div id=\"894b8d85-d2ef-4f89-9860-74c8433ad63b\" class=\"plotly-graph-div\" style=\"height:525px; width:100%;\"></div>            <script type=\"text/javascript\">                                    window.PLOTLYENV=window.PLOTLYENV || {};                                    if (document.getElementById(\"894b8d85-d2ef-4f89-9860-74c8433ad63b\")) {                    Plotly.newPlot(                        \"894b8d85-d2ef-4f89-9860-74c8433ad63b\",                        [{\"legendgroup\": \"First\", \"line\": {\"color\": \"#636efa\", \"dash\": \"solid\"}, \"mode\": \"markers+lines\", \"name\": \"First\", \"orientation\": \"v\", \"showlegend\": true, \"type\": \"scatter\", \"x\": [\"2020-05-01\", \"2020-05-02\", \"2020-05-03\", \"2020-05-04\", \"2020-05-05\", \"2020-05-06\", \"2020-05-07\", \"2020-05-08\", \"2020-05-09\", \"2020-05-10\", \"2020-05-11\", \"2020-05-12\", \"2020-05-13\", \"2020-05-14\", \"2020-05-15\", \"2020-05-16\", \"2020-05-17\", \"2020-05-18\", \"2020-05-19\", \"2020-05-20\", \"2020-05-21\", \"2020-05-22\", \"2020-05-23\", \"2020-05-24\", \"2020-05-25\", \"2020-05-26\", \"2020-05-27\", \"2020-05-28\", \"2020-05-29\", \"2020-05-30\", \"2020-05-31\", \"2020-06-01\", \"2020-06-02\", \"2020-06-03\", \"2020-06-04\", \"2020-06-05\", \"2020-06-06\", \"2020-06-07\", \"2020-06-08\", \"2020-06-09\", \"2020-06-10\", \"2020-06-11\", \"2020-06-12\", \"2020-06-13\", \"2020-06-14\", \"2020-06-15\", \"2020-06-16\", \"2020-06-17\", \"2020-06-18\", \"2020-06-19\", \"2020-06-20\", \"2020-06-21\", \"2020-06-22\", \"2020-06-23\", \"2020-06-24\", \"2020-06-25\", \"2020-06-26\", \"2020-06-27\", \"2020-06-28\", \"2020-06-29\", \"2020-06-30\", \"2020-07-01\", \"2020-07-02\", \"2020-07-03\", \"2020-07-04\", \"2020-07-05\", \"2020-07-06\", \"2020-07-07\", \"2020-07-08\", \"2020-07-09\", \"2020-07-10\", \"2020-07-11\", \"2020-07-12\", \"2020-07-13\", \"2020-07-14\", \"2020-07-15\", \"2020-07-16\", \"2020-07-17\", \"2020-07-18\", \"2020-07-19\", \"2020-07-20\", \"2020-07-21\", \"2020-07-22\", \"2020-07-23\", \"2020-07-24\", \"2020-07-25\", \"2020-07-26\", \"2020-07-27\", \"2020-07-28\", \"2020-07-29\", \"2020-07-30\", \"2020-07-31\", \"2020-08-01\", \"2020-08-02\", \"2020-08-03\", \"2020-08-04\", \"2020-08-05\", \"2020-08-06\", \"2020-08-07\", \"2020-08-08\", \"2020-08-09\", \"2020-08-10\", \"2020-08-11\", \"2020-08-12\", \"2020-08-13\", \"2020-08-14\", \"2020-08-15\", \"2020-08-16\", \"2020-08-17\", \"2020-08-18\", \"2020-08-19\", \"2020-08-20\", \"2020-08-21\", \"2020-08-22\", \"2020-08-23\", \"2020-08-24\", \"2020-08-25\", \"2020-08-26\", \"2020-08-27\", \"2020-08-28\", \"2020-08-29\", \"2020-08-30\", \"2020-08-31\", \"2020-09-01\", \"2020-09-02\", \"2020-09-03\", \"2020-09-04\", \"2020-09-05\", \"2020-09-06\", \"2020-09-07\", \"2020-09-08\", \"2020-09-09\", \"2020-09-10\", \"2020-09-11\", \"2020-09-12\", \"2020-09-13\", \"2020-09-14\"], \"xaxis\": \"x\", \"y\": [0.14799154334038056, 0.18111455108359134, 0.08498488411152166, 0.080697605675436, 0.1965302249932231, 0.1686652763295099, 0.12145319543887563, 0.19003931847968544, 0.12790697674418605, 0.09345391903531439, 0.0523822791864029, 0.18114874815905743, 0.13575757575757577, 0.1348357524828113, 0.13923046410154702, 0.19835907335907335, 0.03669222343921139, 0.05665502522312767, 0.16383257030739046, 0.12131268436578171, 0.10689115113547376, 0.14257716805487505, 0.14588859416445624, 0.27970479704797047, 0.06447613143211407, 0.07896323086196504, 0.23327805417357655, 0.1975806451612903, 0.1816976127320955, 0.13911472448057813, 0.056074766355140186, 0.05955678670360111, 0.17006802721088435, 0.1882876204595997, 0.1050080775444265, 0.23243243243243245, 0.1801007556675063, 0.07520891364902507, 0.04296160877513711, 0.16997411561691114, 0.13827993254637436, 0.07547169811320754, 0.12428842504743833, 0.1204954954954955, 0.03345724907063197, 0.028128031037827354, 0.11080332409972299, 0.11011011011011011, 0.06568627450980392, 0.08536585365853659, 0.1066066066066066, 0.049679487179487176, 0.014573991031390135, 0.10657596371882086, 0.11196911196911197, 0.14203730272596843, 0.12050078247261346, 0.06309148264984227, 0.07616707616707617, 0.03387096774193549, 0.13366336633663367, 1.5396825396825398, 6.833333333333333, 0.09760956175298804, 0.0512, 0.036608863198458574, 0.03064066852367688, 0.09246575342465753, 0.08948194662480377, 0.04821150855365474, 0.0648854961832061, 0.020581113801452784, 0.013846153846153847, 0.0186219739292365, 0.035483870967741936, 0.048327137546468404, 0.03709428129829984, 0.03784570596797671, 0.010856453558504222, 0.015151515151515152, 0.017064846416382253, 0.056179775280898875, 0.03019538188277087, 0.011553273427471117, 0.04161248374512354, 0.01948051948051948, 0.010666666666666666, 0.00436046511627907, 0.0379746835443038, 0.04239401496259352, 0.0, 0.022650056625141562, 0.016905071521456438, 0.006693440428380187, 0.0010615711252653928, 0.02666666666666667, 0.01545253863134658, 0.01867219917012448, 0.013333333333333334, 0.00392156862745098, 0.004492362982929021, 0.022004889975550123, 0.011304347826086957, 0.019249278152069296, 0.0156794425087108, 0.007529089664613279, 0.0028790786948176585, 0.004500450045004501, 0.004160887656033287, 0.01078167115902965, 0.02045728038507822, 0.00502092050209205, 0.0018867924528301887, 0.013513513513513514, 0.0057251908396946565, 0.0040941658137154556, 0.013322231473771857, 0.014834205933682374, 0.007782101167315175, 0.006939090208172706, 0.010810810810810811, 0.0005707762557077625, 0.0021201413427561835, 0.0022522522522522522, 0.0066050198150594455, 0.007869589657110737, 0.005055611729019211, 0.006568144499178982, 0.0006695681285570807, 0.001015916017609211, 0.012898024989923419, 0.0029839612085042896, 0.004776526782668032, 0.001693002257336343, 0.0025684931506849314, 0.0014979029358897543, 0.0034285714285714284], \"yaxis\": \"y\"}, {\"legendgroup\": \"Alpha\", \"line\": {\"color\": \"#EF553B\", \"dash\": \"solid\"}, \"mode\": \"markers+lines\", \"name\": \"Alpha\", \"orientation\": \"v\", \"showlegend\": true, \"type\": \"scatter\", \"x\": [\"2020-09-15\", \"2020-09-16\", \"2020-09-17\", \"2020-09-18\", \"2020-09-19\", \"2020-09-20\", \"2020-09-21\", \"2020-09-22\", \"2020-09-23\", \"2020-09-24\", \"2020-09-25\", \"2020-09-26\", \"2020-09-27\", \"2020-09-28\", \"2020-09-29\", \"2020-09-30\", \"2020-10-01\", \"2020-10-02\", \"2020-10-03\", \"2020-10-04\", \"2020-10-05\", \"2020-10-06\", \"2020-10-07\", \"2020-10-08\", \"2020-10-09\", \"2020-10-10\", \"2020-10-11\", \"2020-10-12\", \"2020-10-13\", \"2020-10-14\", \"2020-10-15\", \"2020-10-16\", \"2020-10-17\", \"2020-10-18\", \"2020-10-19\", \"2020-10-20\", \"2020-10-21\", \"2020-10-22\", \"2020-10-23\", \"2020-10-24\", \"2020-10-25\", \"2020-10-26\", \"2020-10-27\", \"2020-10-28\", \"2020-10-29\", \"2020-10-30\", \"2020-10-31\", \"2020-11-01\", \"2020-11-02\", \"2020-11-03\", \"2020-11-04\", \"2020-11-05\", \"2020-11-06\", \"2020-11-07\", \"2020-11-08\", \"2020-11-09\", \"2020-11-10\", \"2020-11-11\", \"2020-11-12\", \"2020-11-13\", \"2020-11-14\", \"2020-11-15\", \"2020-11-16\", \"2020-11-17\", \"2020-11-18\", \"2020-11-19\", \"2020-11-20\", \"2020-11-21\", \"2020-11-22\", \"2020-11-23\", \"2020-11-24\", \"2020-11-25\", \"2020-11-26\", \"2020-11-27\", \"2020-11-28\", \"2020-11-29\", \"2020-11-30\", \"2020-12-01\", \"2020-12-02\", \"2020-12-03\", \"2020-12-04\", \"2020-12-05\", \"2020-12-06\", \"2020-12-07\", \"2020-12-08\", \"2020-12-09\", \"2020-12-10\", \"2020-12-11\", \"2020-12-12\", \"2020-12-13\", \"2020-12-14\", \"2020-12-15\", \"2020-12-16\", \"2020-12-17\", \"2020-12-18\", \"2020-12-19\", \"2020-12-20\", \"2020-12-21\", \"2020-12-22\", \"2020-12-23\", \"2020-12-24\", \"2020-12-25\", \"2020-12-26\", \"2020-12-27\", \"2020-12-28\", \"2020-12-29\", \"2020-12-30\", \"2020-12-31\", \"2021-01-01\", \"2021-01-02\", \"2021-01-03\", \"2021-01-04\", \"2021-01-05\", \"2021-01-06\", \"2021-01-07\", \"2021-01-08\", \"2021-01-09\", \"2021-01-10\", \"2021-01-11\", \"2021-01-12\", \"2021-01-13\", \"2021-01-14\", \"2021-01-15\", \"2021-01-16\", \"2021-01-17\", \"2021-01-18\", \"2021-01-19\", \"2021-01-20\", \"2021-01-21\", \"2021-01-22\", \"2021-01-23\", \"2021-01-24\", \"2021-01-25\", \"2021-01-26\", \"2021-01-27\", \"2021-01-28\", \"2021-01-29\", \"2021-01-30\", \"2021-01-31\", \"2021-02-01\", \"2021-02-02\", \"2021-02-03\", \"2021-02-04\", \"2021-02-05\", \"2021-02-06\", \"2021-02-07\", \"2021-02-08\", \"2021-02-09\", \"2021-02-10\", \"2021-02-11\", \"2021-02-12\", \"2021-02-13\", \"2021-02-14\", \"2021-02-15\", \"2021-02-16\", \"2021-02-17\", \"2021-02-18\", \"2021-02-19\", \"2021-02-20\", \"2021-02-21\", \"2021-02-22\", \"2021-02-23\", \"2021-02-24\", \"2021-02-25\", \"2021-02-26\", \"2021-02-27\", \"2021-02-28\", \"2021-03-01\", \"2021-03-02\", \"2021-03-03\", \"2021-03-04\", \"2021-03-05\", \"2021-03-06\", \"2021-03-07\", \"2021-03-08\", \"2021-03-09\", \"2021-03-10\", \"2021-03-11\", \"2021-03-12\", \"2021-03-13\", \"2021-03-14\", \"2021-03-15\", \"2021-03-16\", \"2021-03-17\", \"2021-03-18\", \"2021-03-19\", \"2021-03-20\", \"2021-03-21\", \"2021-03-22\", \"2021-03-23\", \"2021-03-24\", \"2021-03-25\", \"2021-03-26\", \"2021-03-27\", \"2021-03-28\", \"2021-03-29\", \"2021-03-30\", \"2021-03-31\", \"2021-04-01\", \"2021-04-02\", \"2021-04-03\", \"2021-04-04\", \"2021-04-05\", \"2021-04-06\", \"2021-04-07\", \"2021-04-08\", \"2021-04-09\", \"2021-04-10\", \"2021-04-11\", \"2021-04-12\", \"2021-04-13\", \"2021-04-14\", \"2021-04-15\", \"2021-04-16\", \"2021-04-17\", \"2021-04-18\", \"2021-04-19\", \"2021-04-20\", \"2021-04-21\", \"2021-04-22\", \"2021-04-23\", \"2021-04-24\", \"2021-04-25\", \"2021-04-26\", \"2021-04-27\", \"2021-04-28\", \"2021-04-29\", \"2021-04-30\", \"2021-05-01\", \"2021-05-02\", \"2021-05-03\", \"2021-05-04\", \"2021-05-05\", \"2021-05-06\", \"2021-05-07\", \"2021-05-08\", \"2021-05-09\", \"2021-05-10\", \"2021-05-11\", \"2021-05-12\", \"2021-05-13\"], \"xaxis\": \"x\", \"y\": [0.008667736757624398, 0.0049912652857499375, 0.0061583577712609975, 0.006237006237006237, 0.006096184240234816, 0.004616568350859195, 0.002512562814070352, 0.0074959481361426255, 0.00598028123484726, 0.006020469596628537, 0.004943297470194824, 0.005785123966942148, 0.0029824561403508773, 0.003205128205128205, 0.010061486864169928, 0.009976113530982156, 0.00851493722037812, 0.009436659994280812, 0.003802871556072953, 0.0014369693011103853, 0.001507577560898199, 0.005220855945593185, 0.004938968461158541, 0.004387464387464388, 0.006264400921658986, 0.005337726523887974, 0.0050458003415618695, 0.0035686246520590962, 0.008289855072463768, 0.006936357652777074, 0.007264687302590019, 0.008686210640608035, 0.009267268009390832, 0.003942567965164175, 0.004248539564524694, 0.011280131055464545, 0.007151683079342494, 0.008891188784870866, 0.010895471569628872, 0.0075543785004124515, 0.007627418295701369, 0.004880382775119617, 0.01600942243936486, 0.012543497612689164, 0.012132767137533581, 0.011221230239986895, 0.014872941283817692, 0.006964446928334981, 0.0071703485000263615, 0.01977288574559219, 0.01951916210426089, 0.015643105446118192, 0.015221679101277764, 0.0165338884663117, 0.007580174927113703, 0.009113427115950834, 0.026013397877854384, 0.02591304347826087, 0.016797446072142494, 0.013764826475325816, 0.01719005804435184, 0.006726188093045602, 0.00999252895031752, 0.029860418743768696, 0.026927971494018835, 0.021886989884897106, 0.025204695669330177, 0.017067416294362734, 0.021374618310387315, 0.01338506304558681, 0.0535966149506347, 0.03805925195772411, 0.028364754798655807, 0.035085351865596116, 0.030142848153042603, 0.01767510687273923, 0.016334084325716126, 0.044676594798844185, 0.03990885015704872, 0.02769045548792723, 0.03076547430106214, 0.02548302201681751, 0.013297259958553995, 0.012792744009746853, 0.04836105280155014, 0.03204280389563544, 0.024494446026773, 0.019463826661770108, 0.024125452352231604, 0.007766571382341837, 0.011434460421062963, 0.027249717270720016, 0.0241897233201581, 0.014972419227738377, 0.01715686274509804, 0.019707145216338214, 0.009034475113623767, 0.006414655249574843, 0.01871056835720668, 0.01899103765201716, 0.014687476053028175, 0.01737645947017041, 0.00606530987696907, 0.010679223217308343, 0.008610709117221418, 0.008596902862505865, 0.01954656740779076, 0.017223223687733137, 0.011504358561861648, 0.007691908803346413, 0.008249179614554816, 0.00695823362693685, 0.014422053792132532, 0.016657075260566534, 0.022012995623922556, 0.019547747536367902, 0.017221870944124598, 0.010304219823356232, 0.011431658562938951, 0.02729582895198037, 0.03289832571020939, 0.025674125071715435, 0.022993647669320928, 0.03135560490489524, 0.017636410654253944, 0.01600638128157405, 0.04818556824296048, 0.04683011899876898, 0.03412591831898254, 0.034746162049552345, 0.0401759182217996, 0.02029158779183687, 0.02670383024635857, 0.08112262607229632, 0.06803579171429698, 0.04300440803859637, 0.042820380854348944, 0.05149572649572649, 0.02784332232184993, 0.02180201414184701, 0.08582751685792027, 0.06880041634139995, 0.044130413813060675, 0.05285357217246407, 0.04509067145891194, 0.023641851106639838, 0.02355354364125053, 0.08455911904187766, 0.07662307868777242, 0.05021044081813483, 0.04994078168180024, 0.04649943841257956, 0.023564734783004276, 0.02403846153846154, 0.07512222640090259, 0.05783699059561129, 0.03761885076477883, 0.04405322753946607, 0.04266717688701808, 0.02206405693950178, 0.016699502767614224, 0.06429660917517306, 0.044536041017392176, 0.032335329341317366, 0.04017233348858873, 0.039023736086898214, 0.023781998348472336, 0.01904064445258147, 0.05350179379192014, 0.07585669781931464, 0.03642384105960265, 0.039176626826029216, 0.025988885256619812, 0.0155893536121673, 0.013477088948787063, 0.03935934571477254, 0.031556219897027074, 0.02648134601316752, 0.026331538001196888, 0.021719779241588036, 0.011075612353567625, 0.012475633528265107, 0.02051090807383927, 0.024339720352149145, 0.015003158559696778, 0.020525451559934318, 0.01702429508778152, 0.006348020911127707, 0.003329017939707786, 0.020675650729185896, 0.01741912548880199, 0.010036641707822208, 0.011387329591018444, 0.014837554361729342, 0.0053204965796807705, 0.004808697470206983, 0.013510194055514615, 0.010449574726609963, 0.01117196056955093, 0.015195791934541203, 0.0029205607476635513, 0.004158004158004158, 0.009890498057223597, 0.008319467554076539, 0.016088666428316054, 0.016965428937259924, -0.012533946104031753, 0.014743826022852931, 0.004046242774566474, 0.004069451980466631, 0.009181636726546906, 0.015025701858442072, 0.011207519884309472, 0.012112575703598147, 0.01583809942806863, 0.005307855626326964, 0.0019646365422396855, 0.013043478260869565, 0.00825082508250825, 0.0072306579898770785, 0.014887436456063908, 0.015080113100848256, 0.006347374495095211, 0.0033034450212364322, 0.006303299962921765, 0.01360863444392304, 0.010166734444896299, 0.006675010429703796, 0.003663003663003663, 0.008363201911589008, 0.0005973715651135006, 0.0030241935483870967, 0.012529002320185615, 0.004965622612681436, 0.006024096385542169, 0.0024319066147859923, 0.0011299435028248588, 0.0021026072329688814, 0.008032128514056224, 0.004790940766550522, 0.004130679684566279], \"yaxis\": \"y\"}, {\"legendgroup\": \"Delta\", \"line\": {\"color\": \"#00cc96\", \"dash\": \"solid\"}, \"mode\": \"markers+lines\", \"name\": \"Delta\", \"orientation\": \"v\", \"showlegend\": true, \"type\": \"scatter\", \"x\": [\"2021-05-14\", \"2021-05-15\", \"2021-05-16\", \"2021-05-17\", \"2021-05-18\", \"2021-05-19\", \"2021-05-20\", \"2021-05-21\", \"2021-05-22\", \"2021-05-23\", \"2021-05-24\", \"2021-05-25\", \"2021-05-26\", \"2021-05-27\", \"2021-05-28\", \"2021-05-29\", \"2021-05-30\", \"2021-05-31\", \"2021-06-01\", \"2021-06-02\", \"2021-06-03\", \"2021-06-04\", \"2021-06-05\", \"2021-06-06\", \"2021-06-07\", \"2021-06-08\", \"2021-06-09\"], \"xaxis\": \"x\", \"y\": [0.00818926296633303, 0.0033980582524271844, 0.0020768431983385254, 0.002508780732563974, -0.0029635901778154107, 0.0013979496738117428, 0.002593553167839941, 0.0033234859675036928, 0.002377179080824089, 0.0023889154323936935, 0.0012658227848101266, 0.006206040546131568, 0.003009027081243731, 0.002955082742316785, 0.0024813895781637717, 0.0021598272138228943, 0.0019267822736030828, 0.0006071645415907711, 0.0, 0.0028142589118198874, 0.003474232773595831, 0.0017903645833333333, 0.0022988505747126436, 0.0007655502392344498, 0.00017866714311238162, 0.002343880796919471, 0.0008194482381862879], \"yaxis\": \"y\"}],                        {\"hovermode\": \"x unified\", \"legend\": {\"title\": {\"text\": \"Variant\"}, \"tracegroupgap\": 0}, \"template\": {\"data\": {\"bar\": [{\"error_x\": {\"color\": \"#2a3f5f\"}, \"error_y\": {\"color\": \"#2a3f5f\"}, \"marker\": {\"line\": {\"color\": \"#E5ECF6\", \"width\": 0.5}}, \"type\": \"bar\"}], \"barpolar\": [{\"marker\": {\"line\": {\"color\": \"#E5ECF6\", \"width\": 0.5}}, \"type\": \"barpolar\"}], \"carpet\": [{\"aaxis\": {\"endlinecolor\": \"#2a3f5f\", \"gridcolor\": \"white\", \"linecolor\": \"white\", \"minorgridcolor\": \"white\", \"startlinecolor\": \"#2a3f5f\"}, \"baxis\": {\"endlinecolor\": \"#2a3f5f\", \"gridcolor\": \"white\", \"linecolor\": \"white\", \"minorgridcolor\": \"white\", \"startlinecolor\": \"#2a3f5f\"}, \"type\": \"carpet\"}], \"choropleth\": [{\"colorbar\": {\"outlinewidth\": 0, \"ticks\": \"\"}, \"type\": \"choropleth\"}], \"contour\": [{\"colorbar\": {\"outlinewidth\": 0, \"ticks\": \"\"}, \"colorscale\": [[0.0, \"#0d0887\"], [0.1111111111111111, \"#46039f\"], [0.2222222222222222, \"#7201a8\"], [0.3333333333333333, \"#9c179e\"], [0.4444444444444444, \"#bd3786\"], [0.5555555555555556, \"#d8576b\"], [0.6666666666666666, \"#ed7953\"], [0.7777777777777778, \"#fb9f3a\"], [0.8888888888888888, \"#fdca26\"], [1.0, \"#f0f921\"]], \"type\": \"contour\"}], \"contourcarpet\": [{\"colorbar\": {\"outlinewidth\": 0, \"ticks\": \"\"}, \"type\": \"contourcarpet\"}], \"heatmap\": [{\"colorbar\": {\"outlinewidth\": 0, \"ticks\": \"\"}, \"colorscale\": [[0.0, \"#0d0887\"], [0.1111111111111111, \"#46039f\"], [0.2222222222222222, \"#7201a8\"], [0.3333333333333333, \"#9c179e\"], [0.4444444444444444, \"#bd3786\"], [0.5555555555555556, \"#d8576b\"], [0.6666666666666666, \"#ed7953\"], [0.7777777777777778, \"#fb9f3a\"], [0.8888888888888888, \"#fdca26\"], [1.0, \"#f0f921\"]], \"type\": \"heatmap\"}], \"heatmapgl\": [{\"colorbar\": {\"outlinewidth\": 0, \"ticks\": \"\"}, \"colorscale\": [[0.0, \"#0d0887\"], [0.1111111111111111, \"#46039f\"], [0.2222222222222222, \"#7201a8\"], [0.3333333333333333, \"#9c179e\"], [0.4444444444444444, \"#bd3786\"], [0.5555555555555556, \"#d8576b\"], [0.6666666666666666, \"#ed7953\"], [0.7777777777777778, \"#fb9f3a\"], [0.8888888888888888, \"#fdca26\"], [1.0, \"#f0f921\"]], \"type\": \"heatmapgl\"}], \"histogram\": [{\"marker\": {\"colorbar\": {\"outlinewidth\": 0, \"ticks\": \"\"}}, \"type\": \"histogram\"}], \"histogram2d\": [{\"colorbar\": {\"outlinewidth\": 0, \"ticks\": \"\"}, \"colorscale\": [[0.0, \"#0d0887\"], [0.1111111111111111, \"#46039f\"], [0.2222222222222222, \"#7201a8\"], [0.3333333333333333, \"#9c179e\"], [0.4444444444444444, \"#bd3786\"], [0.5555555555555556, \"#d8576b\"], [0.6666666666666666, \"#ed7953\"], [0.7777777777777778, \"#fb9f3a\"], [0.8888888888888888, \"#fdca26\"], [1.0, \"#f0f921\"]], \"type\": \"histogram2d\"}], \"histogram2dcontour\": [{\"colorbar\": {\"outlinewidth\": 0, \"ticks\": \"\"}, \"colorscale\": [[0.0, \"#0d0887\"], [0.1111111111111111, \"#46039f\"], [0.2222222222222222, \"#7201a8\"], [0.3333333333333333, \"#9c179e\"], [0.4444444444444444, \"#bd3786\"], [0.5555555555555556, \"#d8576b\"], [0.6666666666666666, \"#ed7953\"], [0.7777777777777778, \"#fb9f3a\"], [0.8888888888888888, \"#fdca26\"], [1.0, \"#f0f921\"]], \"type\": \"histogram2dcontour\"}], \"mesh3d\": [{\"colorbar\": {\"outlinewidth\": 0, \"ticks\": \"\"}, \"type\": \"mesh3d\"}], \"parcoords\": [{\"line\": {\"colorbar\": {\"outlinewidth\": 0, \"ticks\": \"\"}}, \"type\": \"parcoords\"}], \"pie\": [{\"automargin\": true, \"type\": \"pie\"}], \"scatter\": [{\"marker\": {\"colorbar\": {\"outlinewidth\": 0, \"ticks\": \"\"}}, \"type\": \"scatter\"}], \"scatter3d\": [{\"line\": {\"colorbar\": {\"outlinewidth\": 0, \"ticks\": \"\"}}, \"marker\": {\"colorbar\": {\"outlinewidth\": 0, \"ticks\": \"\"}}, \"type\": \"scatter3d\"}], \"scattercarpet\": [{\"marker\": {\"colorbar\": {\"outlinewidth\": 0, \"ticks\": \"\"}}, \"type\": \"scattercarpet\"}], \"scattergeo\": [{\"marker\": {\"colorbar\": {\"outlinewidth\": 0, \"ticks\": \"\"}}, \"type\": \"scattergeo\"}], \"scattergl\": [{\"marker\": {\"colorbar\": {\"outlinewidth\": 0, \"ticks\": \"\"}}, \"type\": \"scattergl\"}], \"scattermapbox\": [{\"marker\": {\"colorbar\": {\"outlinewidth\": 0, \"ticks\": \"\"}}, \"type\": \"scattermapbox\"}], \"scatterpolar\": [{\"marker\": {\"colorbar\": {\"outlinewidth\": 0, \"ticks\": \"\"}}, \"type\": \"scatterpolar\"}], \"scatterpolargl\": [{\"marker\": {\"colorbar\": {\"outlinewidth\": 0, \"ticks\": \"\"}}, \"type\": \"scatterpolargl\"}], \"scatterternary\": [{\"marker\": {\"colorbar\": {\"outlinewidth\": 0, \"ticks\": \"\"}}, \"type\": \"scatterternary\"}], \"surface\": [{\"colorbar\": {\"outlinewidth\": 0, \"ticks\": \"\"}, \"colorscale\": [[0.0, \"#0d0887\"], [0.1111111111111111, \"#46039f\"], [0.2222222222222222, \"#7201a8\"], [0.3333333333333333, \"#9c179e\"], [0.4444444444444444, \"#bd3786\"], [0.5555555555555556, \"#d8576b\"], [0.6666666666666666, \"#ed7953\"], [0.7777777777777778, \"#fb9f3a\"], [0.8888888888888888, \"#fdca26\"], [1.0, \"#f0f921\"]], \"type\": \"surface\"}], \"table\": [{\"cells\": {\"fill\": {\"color\": \"#EBF0F8\"}, \"line\": {\"color\": \"white\"}}, \"header\": {\"fill\": {\"color\": \"#C8D4E3\"}, \"line\": {\"color\": \"white\"}}, \"type\": \"table\"}]}, \"layout\": {\"annotationdefaults\": {\"arrowcolor\": \"#2a3f5f\", \"arrowhead\": 0, \"arrowwidth\": 1}, \"autotypenumbers\": \"strict\", \"coloraxis\": {\"colorbar\": {\"outlinewidth\": 0, \"ticks\": \"\"}}, \"colorscale\": {\"diverging\": [[0, \"#8e0152\"], [0.1, \"#c51b7d\"], [0.2, \"#de77ae\"], [0.3, \"#f1b6da\"], [0.4, \"#fde0ef\"], [0.5, \"#f7f7f7\"], [0.6, \"#e6f5d0\"], [0.7, \"#b8e186\"], [0.8, \"#7fbc41\"], [0.9, \"#4d9221\"], [1, \"#276419\"]], \"sequential\": [[0.0, \"#0d0887\"], [0.1111111111111111, \"#46039f\"], [0.2222222222222222, \"#7201a8\"], [0.3333333333333333, \"#9c179e\"], [0.4444444444444444, \"#bd3786\"], [0.5555555555555556, \"#d8576b\"], [0.6666666666666666, \"#ed7953\"], [0.7777777777777778, \"#fb9f3a\"], [0.8888888888888888, \"#fdca26\"], [1.0, \"#f0f921\"]], \"sequentialminus\": [[0.0, \"#0d0887\"], [0.1111111111111111, \"#46039f\"], [0.2222222222222222, \"#7201a8\"], [0.3333333333333333, \"#9c179e\"], [0.4444444444444444, \"#bd3786\"], [0.5555555555555556, \"#d8576b\"], [0.6666666666666666, \"#ed7953\"], [0.7777777777777778, \"#fb9f3a\"], [0.8888888888888888, \"#fdca26\"], [1.0, \"#f0f921\"]]}, \"colorway\": [\"#636efa\", \"#EF553B\", \"#00cc96\", \"#ab63fa\", \"#FFA15A\", \"#19d3f3\", \"#FF6692\", \"#B6E880\", \"#FF97FF\", \"#FECB52\"], \"font\": {\"color\": \"#2a3f5f\"}, \"geo\": {\"bgcolor\": \"white\", \"lakecolor\": \"white\", \"landcolor\": \"#E5ECF6\", \"showlakes\": true, \"showland\": true, \"subunitcolor\": \"white\"}, \"hoverlabel\": {\"align\": \"left\"}, \"hovermode\": \"closest\", \"mapbox\": {\"style\": \"light\"}, \"paper_bgcolor\": \"white\", \"plot_bgcolor\": \"#E5ECF6\", \"polar\": {\"angularaxis\": {\"gridcolor\": \"white\", \"linecolor\": \"white\", \"ticks\": \"\"}, \"bgcolor\": \"#E5ECF6\", \"radialaxis\": {\"gridcolor\": \"white\", \"linecolor\": \"white\", \"ticks\": \"\"}}, \"scene\": {\"xaxis\": {\"backgroundcolor\": \"#E5ECF6\", \"gridcolor\": \"white\", \"gridwidth\": 2, \"linecolor\": \"white\", \"showbackground\": true, \"ticks\": \"\", \"zerolinecolor\": \"white\"}, \"yaxis\": {\"backgroundcolor\": \"#E5ECF6\", \"gridcolor\": \"white\", \"gridwidth\": 2, \"linecolor\": \"white\", \"showbackground\": true, \"ticks\": \"\", \"zerolinecolor\": \"white\"}, \"zaxis\": {\"backgroundcolor\": \"#E5ECF6\", \"gridcolor\": \"white\", \"gridwidth\": 2, \"linecolor\": \"white\", \"showbackground\": true, \"ticks\": \"\", \"zerolinecolor\": \"white\"}}, \"shapedefaults\": {\"line\": {\"color\": \"#2a3f5f\"}}, \"ternary\": {\"aaxis\": {\"gridcolor\": \"white\", \"linecolor\": \"white\", \"ticks\": \"\"}, \"baxis\": {\"gridcolor\": \"white\", \"linecolor\": \"white\", \"ticks\": \"\"}, \"bgcolor\": \"#E5ECF6\", \"caxis\": {\"gridcolor\": \"white\", \"linecolor\": \"white\", \"ticks\": \"\"}}, \"title\": {\"x\": 0.05}, \"xaxis\": {\"automargin\": true, \"gridcolor\": \"white\", \"linecolor\": \"white\", \"ticks\": \"\", \"title\": {\"standoff\": 15}, \"zerolinecolor\": \"white\", \"zerolinewidth\": 2}, \"yaxis\": {\"automargin\": true, \"gridcolor\": \"white\", \"linecolor\": \"white\", \"ticks\": \"\", \"title\": {\"standoff\": 15}, \"zerolinecolor\": \"white\", \"zerolinewidth\": 2}}}, \"title\": {\"text\": \"Fatality Rate\"}, \"xaxis\": {\"anchor\": \"y\", \"domain\": [0.0, 1.0], \"title\": {\"text\": \"date\"}}, \"yaxis\": {\"anchor\": \"x\", \"domain\": [0.0, 1.0], \"title\": {\"text\": \"Fatality_Rate\"}}},                        {\"responsive\": true}                    ).then(function(){\n",
              "                            \n",
              "var gd = document.getElementById('894b8d85-d2ef-4f89-9860-74c8433ad63b');\n",
              "var x = new MutationObserver(function (mutations, observer) {{\n",
              "        var display = window.getComputedStyle(gd).display;\n",
              "        if (!display || display === 'none') {{\n",
              "            console.log([gd, 'removed!']);\n",
              "            Plotly.purge(gd);\n",
              "            observer.disconnect();\n",
              "        }}\n",
              "}});\n",
              "\n",
              "// Listen for the removal of the full notebook cells\n",
              "var notebookContainer = gd.closest('#notebook-container');\n",
              "if (notebookContainer) {{\n",
              "    x.observe(notebookContainer, {childList: true});\n",
              "}}\n",
              "\n",
              "// Listen for the clearing of the current output cell\n",
              "var outputEl = gd.closest('.output');\n",
              "if (outputEl) {{\n",
              "    x.observe(outputEl, {childList: true});\n",
              "}}\n",
              "\n",
              "                        })                };                            </script>        </div>\n",
              "</body>\n",
              "</html>"
            ]
          },
          "metadata": {
            "tags": []
          }
        }
      ]
    },
    {
      "cell_type": "code",
      "metadata": {
        "colab": {
          "base_uri": "https://localhost:8080/",
          "height": 542
        },
        "id": "W-b3pQQ0BgLa",
        "outputId": "c762eaf7-3324-40b8-e841-9ef6124c0f78"
      },
      "source": [
        "fig = px.line(dataset_UK,  dataset_UK[\"date\"], dataset_UK[\"Fatality_Rate\"], title = \"Fatality Rate\", color = dataset_UK[\"Lockdown\"]) #hover_data = [\"new_deaths\", \"population\", \"total_cases\", \"new_cases\"])\n",
        "fig.update_traces(mode = \"markers + lines\", hovertemplate = None)\n",
        "fig.update_layout(hovermode = \"x unified\")\n",
        "fig.show()"
      ],
      "execution_count": 70,
      "outputs": [
        {
          "output_type": "display_data",
          "data": {
            "text/html": [
              "<html>\n",
              "<head><meta charset=\"utf-8\" /></head>\n",
              "<body>\n",
              "    <div>            <script src=\"https://cdnjs.cloudflare.com/ajax/libs/mathjax/2.7.5/MathJax.js?config=TeX-AMS-MML_SVG\"></script><script type=\"text/javascript\">if (window.MathJax) {MathJax.Hub.Config({SVG: {font: \"STIX-Web\"}});}</script>                <script type=\"text/javascript\">window.PlotlyConfig = {MathJaxConfig: 'local'};</script>\n",
              "        <script src=\"https://cdn.plot.ly/plotly-latest.min.js\"></script>                <div id=\"2402b59b-a48e-46d1-ae14-7d91f9c2cee5\" class=\"plotly-graph-div\" style=\"height:525px; width:100%;\"></div>            <script type=\"text/javascript\">                                    window.PLOTLYENV=window.PLOTLYENV || {};                                    if (document.getElementById(\"2402b59b-a48e-46d1-ae14-7d91f9c2cee5\")) {                    Plotly.newPlot(                        \"2402b59b-a48e-46d1-ae14-7d91f9c2cee5\",                        [{\"legendgroup\": \"0\", \"line\": {\"color\": \"#636efa\", \"dash\": \"solid\"}, \"mode\": \"markers+lines\", \"name\": \"0\", \"orientation\": \"v\", \"showlegend\": true, \"type\": \"scatter\", \"x\": [\"2020-05-01\", \"2020-05-02\", \"2020-05-03\", \"2020-05-04\", \"2020-05-05\", \"2020-05-06\", \"2020-05-07\", \"2020-05-08\", \"2020-05-09\", \"2020-06-24\", \"2020-06-25\", \"2020-06-26\", \"2020-06-27\", \"2020-06-28\", \"2020-06-29\", \"2020-06-30\", \"2020-07-01\", \"2020-07-02\", \"2020-07-03\", \"2020-07-04\", \"2020-07-05\", \"2020-07-06\", \"2020-07-07\", \"2020-07-08\", \"2020-07-09\", \"2020-07-10\", \"2020-07-11\", \"2020-07-12\", \"2020-07-13\", \"2020-07-14\", \"2020-07-15\", \"2020-07-16\", \"2020-07-17\", \"2020-07-18\", \"2020-07-19\", \"2020-07-20\", \"2020-07-21\", \"2020-07-22\", \"2020-07-23\", \"2020-07-24\", \"2020-07-25\", \"2020-07-26\", \"2020-07-27\", \"2020-07-28\", \"2020-07-29\", \"2020-07-30\", \"2020-07-31\", \"2020-08-01\", \"2020-08-02\", \"2020-08-03\", \"2020-08-04\", \"2020-08-05\", \"2020-08-06\", \"2020-08-07\", \"2020-08-08\", \"2020-08-09\", \"2020-08-10\", \"2020-08-11\", \"2020-08-12\", \"2020-08-13\", \"2020-08-14\", \"2020-08-15\", \"2020-08-16\", \"2020-08-17\", \"2020-08-18\", \"2020-08-19\", \"2020-08-20\", \"2020-08-21\", \"2020-08-22\", \"2020-08-23\", \"2020-08-24\", \"2020-08-25\", \"2020-08-26\", \"2020-08-27\", \"2020-08-28\", \"2020-08-29\", \"2020-08-30\", \"2020-08-31\", \"2020-09-01\", \"2020-09-02\", \"2020-09-03\", \"2020-09-04\", \"2020-09-05\", \"2020-09-06\", \"2020-09-07\", \"2020-09-08\", \"2020-09-09\", \"2020-09-10\", \"2020-09-11\", \"2020-09-12\", \"2020-09-13\", \"2020-09-14\", \"2020-09-15\", \"2020-09-16\", \"2020-09-17\", \"2020-09-18\", \"2020-09-19\", \"2020-09-20\", \"2020-09-21\", \"2020-09-22\", \"2020-09-23\", \"2020-09-24\", \"2020-09-25\", \"2020-09-26\", \"2020-09-27\", \"2020-09-28\", \"2020-09-29\", \"2020-09-30\", \"2020-10-01\", \"2020-10-02\", \"2020-10-03\", \"2020-10-04\", \"2020-10-05\", \"2020-10-06\", \"2020-10-07\", \"2020-10-08\", \"2020-10-09\", \"2020-10-10\", \"2020-10-11\", \"2020-10-12\", \"2020-10-13\", \"2020-10-14\", \"2020-10-15\", \"2020-10-16\", \"2020-10-17\", \"2020-10-18\", \"2020-10-19\", \"2020-10-20\", \"2020-10-21\", \"2020-10-22\", \"2020-10-23\", \"2020-10-24\", \"2020-10-25\", \"2020-10-26\", \"2020-10-27\", \"2020-10-28\", \"2020-10-29\", \"2020-10-30\", \"2020-12-03\", \"2020-12-04\", \"2020-12-05\", \"2020-12-06\", \"2020-12-07\", \"2020-12-08\", \"2020-12-09\", \"2020-12-10\", \"2020-12-11\", \"2020-12-12\", \"2020-12-13\", \"2020-12-14\", \"2020-12-15\", \"2020-12-16\", \"2020-12-17\", \"2020-12-18\", \"2020-12-19\", \"2020-12-20\", \"2021-04-18\", \"2021-04-19\", \"2021-04-20\", \"2021-04-21\", \"2021-04-22\", \"2021-04-23\", \"2021-04-24\", \"2021-04-25\", \"2021-04-26\", \"2021-04-27\", \"2021-04-28\", \"2021-04-29\", \"2021-04-30\", \"2021-05-01\", \"2021-05-02\", \"2021-05-03\", \"2021-05-04\", \"2021-05-05\", \"2021-05-06\", \"2021-05-07\", \"2021-05-08\", \"2021-05-09\", \"2021-05-10\", \"2021-05-11\", \"2021-05-12\", \"2021-05-13\", \"2021-05-14\", \"2021-05-15\", \"2021-05-16\", \"2021-05-17\", \"2021-05-18\", \"2021-05-19\", \"2021-05-20\", \"2021-05-21\", \"2021-05-22\", \"2021-05-23\", \"2021-05-24\", \"2021-05-25\", \"2021-05-26\", \"2021-05-27\", \"2021-05-28\", \"2021-05-29\", \"2021-05-30\", \"2021-05-31\", \"2021-06-01\", \"2021-06-02\", \"2021-06-03\", \"2021-06-04\", \"2021-06-05\", \"2021-06-06\", \"2021-06-07\", \"2021-06-08\", \"2021-06-09\"], \"xaxis\": \"x\", \"y\": [0.14799154334038056, 0.18111455108359134, 0.08498488411152166, 0.080697605675436, 0.1965302249932231, 0.1686652763295099, 0.12145319543887563, 0.19003931847968544, 0.12790697674418605, 0.11196911196911197, 0.14203730272596843, 0.12050078247261346, 0.06309148264984227, 0.07616707616707617, 0.03387096774193549, 0.13366336633663367, 1.5396825396825398, 6.833333333333333, 0.09760956175298804, 0.0512, 0.036608863198458574, 0.03064066852367688, 0.09246575342465753, 0.08948194662480377, 0.04821150855365474, 0.0648854961832061, 0.020581113801452784, 0.013846153846153847, 0.0186219739292365, 0.035483870967741936, 0.048327137546468404, 0.03709428129829984, 0.03784570596797671, 0.010856453558504222, 0.015151515151515152, 0.017064846416382253, 0.056179775280898875, 0.03019538188277087, 0.011553273427471117, 0.04161248374512354, 0.01948051948051948, 0.010666666666666666, 0.00436046511627907, 0.0379746835443038, 0.04239401496259352, 0.0, 0.022650056625141562, 0.016905071521456438, 0.006693440428380187, 0.0010615711252653928, 0.02666666666666667, 0.01545253863134658, 0.01867219917012448, 0.013333333333333334, 0.00392156862745098, 0.004492362982929021, 0.022004889975550123, 0.011304347826086957, 0.019249278152069296, 0.0156794425087108, 0.007529089664613279, 0.0028790786948176585, 0.004500450045004501, 0.004160887656033287, 0.01078167115902965, 0.02045728038507822, 0.00502092050209205, 0.0018867924528301887, 0.013513513513513514, 0.0057251908396946565, 0.0040941658137154556, 0.013322231473771857, 0.014834205933682374, 0.007782101167315175, 0.006939090208172706, 0.010810810810810811, 0.0005707762557077625, 0.0021201413427561835, 0.0022522522522522522, 0.0066050198150594455, 0.007869589657110737, 0.005055611729019211, 0.006568144499178982, 0.0006695681285570807, 0.001015916017609211, 0.012898024989923419, 0.0029839612085042896, 0.004776526782668032, 0.001693002257336343, 0.0025684931506849314, 0.0014979029358897543, 0.0034285714285714284, 0.008667736757624398, 0.0049912652857499375, 0.0061583577712609975, 0.006237006237006237, 0.006096184240234816, 0.004616568350859195, 0.002512562814070352, 0.0074959481361426255, 0.00598028123484726, 0.006020469596628537, 0.004943297470194824, 0.005785123966942148, 0.0029824561403508773, 0.003205128205128205, 0.010061486864169928, 0.009976113530982156, 0.00851493722037812, 0.009436659994280812, 0.003802871556072953, 0.0014369693011103853, 0.001507577560898199, 0.005220855945593185, 0.004938968461158541, 0.004387464387464388, 0.006264400921658986, 0.005337726523887974, 0.0050458003415618695, 0.0035686246520590962, 0.008289855072463768, 0.006936357652777074, 0.007264687302590019, 0.008686210640608035, 0.009267268009390832, 0.003942567965164175, 0.004248539564524694, 0.011280131055464545, 0.007151683079342494, 0.008891188784870866, 0.010895471569628872, 0.0075543785004124515, 0.007627418295701369, 0.004880382775119617, 0.01600942243936486, 0.012543497612689164, 0.012132767137533581, 0.011221230239986895, 0.02769045548792723, 0.03076547430106214, 0.02548302201681751, 0.013297259958553995, 0.012792744009746853, 0.04836105280155014, 0.03204280389563544, 0.024494446026773, 0.019463826661770108, 0.024125452352231604, 0.007766571382341837, 0.011434460421062963, 0.027249717270720016, 0.0241897233201581, 0.014972419227738377, 0.01715686274509804, 0.019707145216338214, 0.009034475113623767, 0.005307855626326964, 0.0019646365422396855, 0.013043478260869565, 0.00825082508250825, 0.0072306579898770785, 0.014887436456063908, 0.015080113100848256, 0.006347374495095211, 0.0033034450212364322, 0.006303299962921765, 0.01360863444392304, 0.010166734444896299, 0.006675010429703796, 0.003663003663003663, 0.008363201911589008, 0.0005973715651135006, 0.0030241935483870967, 0.012529002320185615, 0.004965622612681436, 0.006024096385542169, 0.0024319066147859923, 0.0011299435028248588, 0.0021026072329688814, 0.008032128514056224, 0.004790940766550522, 0.004130679684566279, 0.00818926296633303, 0.0033980582524271844, 0.0020768431983385254, 0.002508780732563974, -0.0029635901778154107, 0.0013979496738117428, 0.002593553167839941, 0.0033234859675036928, 0.002377179080824089, 0.0023889154323936935, 0.0012658227848101266, 0.006206040546131568, 0.003009027081243731, 0.002955082742316785, 0.0024813895781637717, 0.0021598272138228943, 0.0019267822736030828, 0.0006071645415907711, 0.0, 0.0028142589118198874, 0.003474232773595831, 0.0017903645833333333, 0.0022988505747126436, 0.0007655502392344498, 0.00017866714311238162, 0.002343880796919471, 0.0008194482381862879], \"yaxis\": \"y\"}, {\"legendgroup\": \"1\", \"line\": {\"color\": \"#EF553B\", \"dash\": \"solid\"}, \"mode\": \"markers+lines\", \"name\": \"1\", \"orientation\": \"v\", \"showlegend\": true, \"type\": \"scatter\", \"x\": [\"2020-05-10\", \"2020-05-11\", \"2020-05-12\", \"2020-05-13\", \"2020-05-14\", \"2020-05-15\", \"2020-05-16\", \"2020-05-17\", \"2020-05-18\", \"2020-05-19\", \"2020-05-20\", \"2020-05-21\", \"2020-05-22\", \"2020-05-23\", \"2020-05-24\", \"2020-05-25\", \"2020-05-26\", \"2020-05-27\", \"2020-05-28\", \"2020-05-29\", \"2020-05-30\", \"2020-05-31\", \"2020-06-01\", \"2020-06-02\", \"2020-06-03\", \"2020-06-04\", \"2020-06-05\", \"2020-06-06\", \"2020-06-07\", \"2020-06-08\", \"2020-06-09\", \"2020-06-10\", \"2020-06-11\", \"2020-06-12\", \"2020-06-13\", \"2020-06-14\", \"2020-06-15\", \"2020-06-16\", \"2020-06-17\", \"2020-06-18\", \"2020-06-19\", \"2020-06-20\", \"2020-06-21\", \"2020-06-22\", \"2020-06-23\", \"2020-10-31\", \"2020-11-01\", \"2020-11-02\", \"2020-11-03\", \"2020-11-04\", \"2020-11-05\", \"2020-11-06\", \"2020-11-07\", \"2020-11-08\", \"2020-11-09\", \"2020-11-10\", \"2020-11-11\", \"2020-11-12\", \"2020-11-13\", \"2020-11-14\", \"2020-11-15\", \"2020-11-16\", \"2020-11-17\", \"2020-11-18\", \"2020-11-19\", \"2020-11-20\", \"2020-11-21\", \"2020-11-22\", \"2020-11-23\", \"2020-11-24\", \"2020-11-25\", \"2020-11-26\", \"2020-11-27\", \"2020-11-28\", \"2020-11-29\", \"2020-11-30\", \"2020-12-01\", \"2020-12-02\", \"2020-12-21\", \"2020-12-22\", \"2020-12-23\", \"2020-12-24\", \"2020-12-25\", \"2020-12-26\", \"2020-12-27\", \"2020-12-28\", \"2020-12-29\", \"2020-12-30\", \"2020-12-31\", \"2021-01-01\", \"2021-01-02\", \"2021-01-03\", \"2021-01-04\", \"2021-01-05\", \"2021-01-06\", \"2021-01-07\", \"2021-01-08\", \"2021-01-09\", \"2021-01-10\", \"2021-01-11\", \"2021-01-12\", \"2021-01-13\", \"2021-01-14\", \"2021-01-15\", \"2021-01-16\", \"2021-01-17\", \"2021-01-18\", \"2021-01-19\", \"2021-01-20\", \"2021-01-21\", \"2021-01-22\", \"2021-01-23\", \"2021-01-24\", \"2021-01-25\", \"2021-01-26\", \"2021-01-27\", \"2021-01-28\", \"2021-01-29\", \"2021-01-30\", \"2021-01-31\", \"2021-02-01\", \"2021-02-02\", \"2021-02-03\", \"2021-02-04\", \"2021-02-05\", \"2021-02-06\", \"2021-02-07\", \"2021-02-08\", \"2021-02-09\", \"2021-02-10\", \"2021-02-11\", \"2021-02-12\", \"2021-02-13\", \"2021-02-14\", \"2021-02-15\", \"2021-02-16\", \"2021-02-17\", \"2021-02-18\", \"2021-02-19\", \"2021-02-20\", \"2021-02-21\", \"2021-02-22\", \"2021-02-23\", \"2021-02-24\", \"2021-02-25\", \"2021-02-26\", \"2021-02-27\", \"2021-02-28\", \"2021-03-01\", \"2021-03-02\", \"2021-03-03\", \"2021-03-04\", \"2021-03-05\", \"2021-03-06\", \"2021-03-07\", \"2021-03-08\", \"2021-03-09\", \"2021-03-10\", \"2021-03-11\", \"2021-03-12\", \"2021-03-13\", \"2021-03-14\", \"2021-03-15\", \"2021-03-16\", \"2021-03-17\", \"2021-03-18\", \"2021-03-19\", \"2021-03-20\", \"2021-03-21\", \"2021-03-22\", \"2021-03-23\", \"2021-03-24\", \"2021-03-25\", \"2021-03-26\", \"2021-03-27\", \"2021-03-28\", \"2021-03-29\", \"2021-03-30\", \"2021-03-31\", \"2021-04-01\", \"2021-04-02\", \"2021-04-03\", \"2021-04-04\", \"2021-04-05\", \"2021-04-06\", \"2021-04-07\", \"2021-04-08\", \"2021-04-09\", \"2021-04-10\", \"2021-04-11\", \"2021-04-12\", \"2021-04-13\", \"2021-04-14\", \"2021-04-15\", \"2021-04-16\", \"2021-04-17\"], \"xaxis\": \"x\", \"y\": [0.09345391903531439, 0.0523822791864029, 0.18114874815905743, 0.13575757575757577, 0.1348357524828113, 0.13923046410154702, 0.19835907335907335, 0.03669222343921139, 0.05665502522312767, 0.16383257030739046, 0.12131268436578171, 0.10689115113547376, 0.14257716805487505, 0.14588859416445624, 0.27970479704797047, 0.06447613143211407, 0.07896323086196504, 0.23327805417357655, 0.1975806451612903, 0.1816976127320955, 0.13911472448057813, 0.056074766355140186, 0.05955678670360111, 0.17006802721088435, 0.1882876204595997, 0.1050080775444265, 0.23243243243243245, 0.1801007556675063, 0.07520891364902507, 0.04296160877513711, 0.16997411561691114, 0.13827993254637436, 0.07547169811320754, 0.12428842504743833, 0.1204954954954955, 0.03345724907063197, 0.028128031037827354, 0.11080332409972299, 0.11011011011011011, 0.06568627450980392, 0.08536585365853659, 0.1066066066066066, 0.049679487179487176, 0.014573991031390135, 0.10657596371882086, 0.014872941283817692, 0.006964446928334981, 0.0071703485000263615, 0.01977288574559219, 0.01951916210426089, 0.015643105446118192, 0.015221679101277764, 0.0165338884663117, 0.007580174927113703, 0.009113427115950834, 0.026013397877854384, 0.02591304347826087, 0.016797446072142494, 0.013764826475325816, 0.01719005804435184, 0.006726188093045602, 0.00999252895031752, 0.029860418743768696, 0.026927971494018835, 0.021886989884897106, 0.025204695669330177, 0.017067416294362734, 0.021374618310387315, 0.01338506304558681, 0.0535966149506347, 0.03805925195772411, 0.028364754798655807, 0.035085351865596116, 0.030142848153042603, 0.01767510687273923, 0.016334084325716126, 0.044676594798844185, 0.03990885015704872, 0.006414655249574843, 0.01871056835720668, 0.01899103765201716, 0.014687476053028175, 0.01737645947017041, 0.00606530987696907, 0.010679223217308343, 0.008610709117221418, 0.008596902862505865, 0.01954656740779076, 0.017223223687733137, 0.011504358561861648, 0.007691908803346413, 0.008249179614554816, 0.00695823362693685, 0.014422053792132532, 0.016657075260566534, 0.022012995623922556, 0.019547747536367902, 0.017221870944124598, 0.010304219823356232, 0.011431658562938951, 0.02729582895198037, 0.03289832571020939, 0.025674125071715435, 0.022993647669320928, 0.03135560490489524, 0.017636410654253944, 0.01600638128157405, 0.04818556824296048, 0.04683011899876898, 0.03412591831898254, 0.034746162049552345, 0.0401759182217996, 0.02029158779183687, 0.02670383024635857, 0.08112262607229632, 0.06803579171429698, 0.04300440803859637, 0.042820380854348944, 0.05149572649572649, 0.02784332232184993, 0.02180201414184701, 0.08582751685792027, 0.06880041634139995, 0.044130413813060675, 0.05285357217246407, 0.04509067145891194, 0.023641851106639838, 0.02355354364125053, 0.08455911904187766, 0.07662307868777242, 0.05021044081813483, 0.04994078168180024, 0.04649943841257956, 0.023564734783004276, 0.02403846153846154, 0.07512222640090259, 0.05783699059561129, 0.03761885076477883, 0.04405322753946607, 0.04266717688701808, 0.02206405693950178, 0.016699502767614224, 0.06429660917517306, 0.044536041017392176, 0.032335329341317366, 0.04017233348858873, 0.039023736086898214, 0.023781998348472336, 0.01904064445258147, 0.05350179379192014, 0.07585669781931464, 0.03642384105960265, 0.039176626826029216, 0.025988885256619812, 0.0155893536121673, 0.013477088948787063, 0.03935934571477254, 0.031556219897027074, 0.02648134601316752, 0.026331538001196888, 0.021719779241588036, 0.011075612353567625, 0.012475633528265107, 0.02051090807383927, 0.024339720352149145, 0.015003158559696778, 0.020525451559934318, 0.01702429508778152, 0.006348020911127707, 0.003329017939707786, 0.020675650729185896, 0.01741912548880199, 0.010036641707822208, 0.011387329591018444, 0.014837554361729342, 0.0053204965796807705, 0.004808697470206983, 0.013510194055514615, 0.010449574726609963, 0.01117196056955093, 0.015195791934541203, 0.0029205607476635513, 0.004158004158004158, 0.009890498057223597, 0.008319467554076539, 0.016088666428316054, 0.016965428937259924, -0.012533946104031753, 0.014743826022852931, 0.004046242774566474, 0.004069451980466631, 0.009181636726546906, 0.015025701858442072, 0.011207519884309472, 0.012112575703598147, 0.01583809942806863], \"yaxis\": \"y\"}],                        {\"hovermode\": \"x unified\", \"legend\": {\"title\": {\"text\": \"Lockdown\"}, \"tracegroupgap\": 0}, \"template\": {\"data\": {\"bar\": [{\"error_x\": {\"color\": \"#2a3f5f\"}, \"error_y\": {\"color\": \"#2a3f5f\"}, \"marker\": {\"line\": {\"color\": \"#E5ECF6\", \"width\": 0.5}}, \"type\": \"bar\"}], \"barpolar\": [{\"marker\": {\"line\": {\"color\": \"#E5ECF6\", \"width\": 0.5}}, \"type\": \"barpolar\"}], \"carpet\": [{\"aaxis\": {\"endlinecolor\": \"#2a3f5f\", \"gridcolor\": \"white\", \"linecolor\": \"white\", \"minorgridcolor\": \"white\", \"startlinecolor\": \"#2a3f5f\"}, \"baxis\": {\"endlinecolor\": \"#2a3f5f\", \"gridcolor\": \"white\", \"linecolor\": \"white\", \"minorgridcolor\": \"white\", \"startlinecolor\": \"#2a3f5f\"}, \"type\": \"carpet\"}], \"choropleth\": [{\"colorbar\": {\"outlinewidth\": 0, \"ticks\": \"\"}, \"type\": \"choropleth\"}], \"contour\": [{\"colorbar\": {\"outlinewidth\": 0, \"ticks\": \"\"}, \"colorscale\": [[0.0, \"#0d0887\"], [0.1111111111111111, \"#46039f\"], [0.2222222222222222, \"#7201a8\"], [0.3333333333333333, \"#9c179e\"], [0.4444444444444444, \"#bd3786\"], [0.5555555555555556, \"#d8576b\"], [0.6666666666666666, \"#ed7953\"], [0.7777777777777778, \"#fb9f3a\"], [0.8888888888888888, \"#fdca26\"], [1.0, \"#f0f921\"]], \"type\": \"contour\"}], \"contourcarpet\": [{\"colorbar\": {\"outlinewidth\": 0, \"ticks\": \"\"}, \"type\": \"contourcarpet\"}], \"heatmap\": [{\"colorbar\": {\"outlinewidth\": 0, \"ticks\": \"\"}, \"colorscale\": [[0.0, \"#0d0887\"], [0.1111111111111111, \"#46039f\"], [0.2222222222222222, \"#7201a8\"], [0.3333333333333333, \"#9c179e\"], [0.4444444444444444, \"#bd3786\"], [0.5555555555555556, \"#d8576b\"], [0.6666666666666666, \"#ed7953\"], [0.7777777777777778, \"#fb9f3a\"], [0.8888888888888888, \"#fdca26\"], [1.0, \"#f0f921\"]], \"type\": \"heatmap\"}], \"heatmapgl\": [{\"colorbar\": {\"outlinewidth\": 0, \"ticks\": \"\"}, \"colorscale\": [[0.0, \"#0d0887\"], [0.1111111111111111, \"#46039f\"], [0.2222222222222222, \"#7201a8\"], [0.3333333333333333, \"#9c179e\"], [0.4444444444444444, \"#bd3786\"], [0.5555555555555556, \"#d8576b\"], [0.6666666666666666, \"#ed7953\"], [0.7777777777777778, \"#fb9f3a\"], [0.8888888888888888, \"#fdca26\"], [1.0, \"#f0f921\"]], \"type\": \"heatmapgl\"}], \"histogram\": [{\"marker\": {\"colorbar\": {\"outlinewidth\": 0, \"ticks\": \"\"}}, \"type\": \"histogram\"}], \"histogram2d\": [{\"colorbar\": {\"outlinewidth\": 0, \"ticks\": \"\"}, \"colorscale\": [[0.0, \"#0d0887\"], [0.1111111111111111, \"#46039f\"], [0.2222222222222222, \"#7201a8\"], [0.3333333333333333, \"#9c179e\"], [0.4444444444444444, \"#bd3786\"], [0.5555555555555556, \"#d8576b\"], [0.6666666666666666, \"#ed7953\"], [0.7777777777777778, \"#fb9f3a\"], [0.8888888888888888, \"#fdca26\"], [1.0, \"#f0f921\"]], \"type\": \"histogram2d\"}], \"histogram2dcontour\": [{\"colorbar\": {\"outlinewidth\": 0, \"ticks\": \"\"}, \"colorscale\": [[0.0, \"#0d0887\"], [0.1111111111111111, \"#46039f\"], [0.2222222222222222, \"#7201a8\"], [0.3333333333333333, \"#9c179e\"], [0.4444444444444444, \"#bd3786\"], [0.5555555555555556, \"#d8576b\"], [0.6666666666666666, \"#ed7953\"], [0.7777777777777778, \"#fb9f3a\"], [0.8888888888888888, \"#fdca26\"], [1.0, \"#f0f921\"]], \"type\": \"histogram2dcontour\"}], \"mesh3d\": [{\"colorbar\": {\"outlinewidth\": 0, \"ticks\": \"\"}, \"type\": \"mesh3d\"}], \"parcoords\": [{\"line\": {\"colorbar\": {\"outlinewidth\": 0, \"ticks\": \"\"}}, \"type\": \"parcoords\"}], \"pie\": [{\"automargin\": true, \"type\": \"pie\"}], \"scatter\": [{\"marker\": {\"colorbar\": {\"outlinewidth\": 0, \"ticks\": \"\"}}, \"type\": \"scatter\"}], \"scatter3d\": [{\"line\": {\"colorbar\": {\"outlinewidth\": 0, \"ticks\": \"\"}}, \"marker\": {\"colorbar\": {\"outlinewidth\": 0, \"ticks\": \"\"}}, \"type\": \"scatter3d\"}], \"scattercarpet\": [{\"marker\": {\"colorbar\": {\"outlinewidth\": 0, \"ticks\": \"\"}}, \"type\": \"scattercarpet\"}], \"scattergeo\": [{\"marker\": {\"colorbar\": {\"outlinewidth\": 0, \"ticks\": \"\"}}, \"type\": \"scattergeo\"}], \"scattergl\": [{\"marker\": {\"colorbar\": {\"outlinewidth\": 0, \"ticks\": \"\"}}, \"type\": \"scattergl\"}], \"scattermapbox\": [{\"marker\": {\"colorbar\": {\"outlinewidth\": 0, \"ticks\": \"\"}}, \"type\": \"scattermapbox\"}], \"scatterpolar\": [{\"marker\": {\"colorbar\": {\"outlinewidth\": 0, \"ticks\": \"\"}}, \"type\": \"scatterpolar\"}], \"scatterpolargl\": [{\"marker\": {\"colorbar\": {\"outlinewidth\": 0, \"ticks\": \"\"}}, \"type\": \"scatterpolargl\"}], \"scatterternary\": [{\"marker\": {\"colorbar\": {\"outlinewidth\": 0, \"ticks\": \"\"}}, \"type\": \"scatterternary\"}], \"surface\": [{\"colorbar\": {\"outlinewidth\": 0, \"ticks\": \"\"}, \"colorscale\": [[0.0, \"#0d0887\"], [0.1111111111111111, \"#46039f\"], [0.2222222222222222, \"#7201a8\"], [0.3333333333333333, \"#9c179e\"], [0.4444444444444444, \"#bd3786\"], [0.5555555555555556, \"#d8576b\"], [0.6666666666666666, \"#ed7953\"], [0.7777777777777778, \"#fb9f3a\"], [0.8888888888888888, \"#fdca26\"], [1.0, \"#f0f921\"]], \"type\": \"surface\"}], \"table\": [{\"cells\": {\"fill\": {\"color\": \"#EBF0F8\"}, \"line\": {\"color\": \"white\"}}, \"header\": {\"fill\": {\"color\": \"#C8D4E3\"}, \"line\": {\"color\": \"white\"}}, \"type\": \"table\"}]}, \"layout\": {\"annotationdefaults\": {\"arrowcolor\": \"#2a3f5f\", \"arrowhead\": 0, \"arrowwidth\": 1}, \"autotypenumbers\": \"strict\", \"coloraxis\": {\"colorbar\": {\"outlinewidth\": 0, \"ticks\": \"\"}}, \"colorscale\": {\"diverging\": [[0, \"#8e0152\"], [0.1, \"#c51b7d\"], [0.2, \"#de77ae\"], [0.3, \"#f1b6da\"], [0.4, \"#fde0ef\"], [0.5, \"#f7f7f7\"], [0.6, \"#e6f5d0\"], [0.7, \"#b8e186\"], [0.8, \"#7fbc41\"], [0.9, \"#4d9221\"], [1, \"#276419\"]], \"sequential\": [[0.0, \"#0d0887\"], [0.1111111111111111, \"#46039f\"], [0.2222222222222222, \"#7201a8\"], [0.3333333333333333, \"#9c179e\"], [0.4444444444444444, \"#bd3786\"], [0.5555555555555556, \"#d8576b\"], [0.6666666666666666, \"#ed7953\"], [0.7777777777777778, \"#fb9f3a\"], [0.8888888888888888, \"#fdca26\"], [1.0, \"#f0f921\"]], \"sequentialminus\": [[0.0, \"#0d0887\"], [0.1111111111111111, \"#46039f\"], [0.2222222222222222, \"#7201a8\"], [0.3333333333333333, \"#9c179e\"], [0.4444444444444444, \"#bd3786\"], [0.5555555555555556, \"#d8576b\"], [0.6666666666666666, \"#ed7953\"], [0.7777777777777778, \"#fb9f3a\"], [0.8888888888888888, \"#fdca26\"], [1.0, \"#f0f921\"]]}, \"colorway\": [\"#636efa\", \"#EF553B\", \"#00cc96\", \"#ab63fa\", \"#FFA15A\", \"#19d3f3\", \"#FF6692\", \"#B6E880\", \"#FF97FF\", \"#FECB52\"], \"font\": {\"color\": \"#2a3f5f\"}, \"geo\": {\"bgcolor\": \"white\", \"lakecolor\": \"white\", \"landcolor\": \"#E5ECF6\", \"showlakes\": true, \"showland\": true, \"subunitcolor\": \"white\"}, \"hoverlabel\": {\"align\": \"left\"}, \"hovermode\": \"closest\", \"mapbox\": {\"style\": \"light\"}, \"paper_bgcolor\": \"white\", \"plot_bgcolor\": \"#E5ECF6\", \"polar\": {\"angularaxis\": {\"gridcolor\": \"white\", \"linecolor\": \"white\", \"ticks\": \"\"}, \"bgcolor\": \"#E5ECF6\", \"radialaxis\": {\"gridcolor\": \"white\", \"linecolor\": \"white\", \"ticks\": \"\"}}, \"scene\": {\"xaxis\": {\"backgroundcolor\": \"#E5ECF6\", \"gridcolor\": \"white\", \"gridwidth\": 2, \"linecolor\": \"white\", \"showbackground\": true, \"ticks\": \"\", \"zerolinecolor\": \"white\"}, \"yaxis\": {\"backgroundcolor\": \"#E5ECF6\", \"gridcolor\": \"white\", \"gridwidth\": 2, \"linecolor\": \"white\", \"showbackground\": true, \"ticks\": \"\", \"zerolinecolor\": \"white\"}, \"zaxis\": {\"backgroundcolor\": \"#E5ECF6\", \"gridcolor\": \"white\", \"gridwidth\": 2, \"linecolor\": \"white\", \"showbackground\": true, \"ticks\": \"\", \"zerolinecolor\": \"white\"}}, \"shapedefaults\": {\"line\": {\"color\": \"#2a3f5f\"}}, \"ternary\": {\"aaxis\": {\"gridcolor\": \"white\", \"linecolor\": \"white\", \"ticks\": \"\"}, \"baxis\": {\"gridcolor\": \"white\", \"linecolor\": \"white\", \"ticks\": \"\"}, \"bgcolor\": \"#E5ECF6\", \"caxis\": {\"gridcolor\": \"white\", \"linecolor\": \"white\", \"ticks\": \"\"}}, \"title\": {\"x\": 0.05}, \"xaxis\": {\"automargin\": true, \"gridcolor\": \"white\", \"linecolor\": \"white\", \"ticks\": \"\", \"title\": {\"standoff\": 15}, \"zerolinecolor\": \"white\", \"zerolinewidth\": 2}, \"yaxis\": {\"automargin\": true, \"gridcolor\": \"white\", \"linecolor\": \"white\", \"ticks\": \"\", \"title\": {\"standoff\": 15}, \"zerolinecolor\": \"white\", \"zerolinewidth\": 2}}}, \"title\": {\"text\": \"Fatality Rate\"}, \"xaxis\": {\"anchor\": \"y\", \"domain\": [0.0, 1.0], \"title\": {\"text\": \"date\"}}, \"yaxis\": {\"anchor\": \"x\", \"domain\": [0.0, 1.0], \"title\": {\"text\": \"Fatality_Rate\"}}},                        {\"responsive\": true}                    ).then(function(){\n",
              "                            \n",
              "var gd = document.getElementById('2402b59b-a48e-46d1-ae14-7d91f9c2cee5');\n",
              "var x = new MutationObserver(function (mutations, observer) {{\n",
              "        var display = window.getComputedStyle(gd).display;\n",
              "        if (!display || display === 'none') {{\n",
              "            console.log([gd, 'removed!']);\n",
              "            Plotly.purge(gd);\n",
              "            observer.disconnect();\n",
              "        }}\n",
              "}});\n",
              "\n",
              "// Listen for the removal of the full notebook cells\n",
              "var notebookContainer = gd.closest('#notebook-container');\n",
              "if (notebookContainer) {{\n",
              "    x.observe(notebookContainer, {childList: true});\n",
              "}}\n",
              "\n",
              "// Listen for the clearing of the current output cell\n",
              "var outputEl = gd.closest('.output');\n",
              "if (outputEl) {{\n",
              "    x.observe(outputEl, {childList: true});\n",
              "}}\n",
              "\n",
              "                        })                };                            </script>        </div>\n",
              "</body>\n",
              "</html>"
            ]
          },
          "metadata": {
            "tags": []
          }
        }
      ]
    },
    {
      "cell_type": "code",
      "metadata": {
        "colab": {
          "base_uri": "https://localhost:8080/"
        },
        "id": "piLpMhUDBm4a",
        "outputId": "369d35a9-0793-4eaf-98f7-c4bcbcec2c90"
      },
      "source": [
        "dataset_UK[\"Vaccine\"].unique()"
      ],
      "execution_count": 71,
      "outputs": [
        {
          "output_type": "execute_result",
          "data": {
            "text/plain": [
              "array(['No Vaccine', 'Astra Zeneca'], dtype=object)"
            ]
          },
          "metadata": {
            "tags": []
          },
          "execution_count": 71
        }
      ]
    },
    {
      "cell_type": "code",
      "metadata": {
        "id": "w7yB4wWICCo1"
      },
      "source": [
        "labels = {\n",
        "    \"No Vaccine\" : 0,\n",
        "    \"Astra Zeneca\" : 1\n",
        "}"
      ],
      "execution_count": 72,
      "outputs": []
    },
    {
      "cell_type": "code",
      "metadata": {
        "id": "F9n63hSRCKVF"
      },
      "source": [
        "dataset_UK[\"Vaccine\"] = dataset_UK[\"Vaccine\"].map(labels)"
      ],
      "execution_count": 73,
      "outputs": []
    },
    {
      "cell_type": "code",
      "metadata": {
        "id": "x7ksu4dwCNSO"
      },
      "source": [
        "labels = {\n",
        "    'First' : 0,\n",
        "     'Alpha' : 1, \n",
        "     'Delta' : 2\n",
        "}"
      ],
      "execution_count": 74,
      "outputs": []
    },
    {
      "cell_type": "code",
      "metadata": {
        "id": "Dd7yuthoCWXG"
      },
      "source": [
        "dataset_UK[\"Variant\"] = dataset_UK[\"Variant\"].map(labels)"
      ],
      "execution_count": 75,
      "outputs": []
    },
    {
      "cell_type": "code",
      "metadata": {
        "colab": {
          "base_uri": "https://localhost:8080/"
        },
        "id": "zq1uzsMuClYg",
        "outputId": "c1a58a28-d58a-4fb9-f96c-65adf9963e23"
      },
      "source": [
        "dataset_UK[\"Variant\"].unique()"
      ],
      "execution_count": 76,
      "outputs": [
        {
          "output_type": "execute_result",
          "data": {
            "text/plain": [
              "array([0, 1, 2])"
            ]
          },
          "metadata": {
            "tags": []
          },
          "execution_count": 76
        }
      ]
    },
    {
      "cell_type": "code",
      "metadata": {
        "colab": {
          "base_uri": "https://localhost:8080/",
          "height": 299
        },
        "id": "D1mINYIeC1d4",
        "outputId": "587d7ccc-a963-44ee-aa22-9a8ad6ea95d6"
      },
      "source": [
        "dataset_UK.head()"
      ],
      "execution_count": 77,
      "outputs": [
        {
          "output_type": "execute_result",
          "data": {
            "text/html": [
              "<div>\n",
              "<style scoped>\n",
              "    .dataframe tbody tr th:only-of-type {\n",
              "        vertical-align: middle;\n",
              "    }\n",
              "\n",
              "    .dataframe tbody tr th {\n",
              "        vertical-align: top;\n",
              "    }\n",
              "\n",
              "    .dataframe thead th {\n",
              "        text-align: right;\n",
              "    }\n",
              "</style>\n",
              "<table border=\"1\" class=\"dataframe\">\n",
              "  <thead>\n",
              "    <tr style=\"text-align: right;\">\n",
              "      <th></th>\n",
              "      <th>location</th>\n",
              "      <th>date</th>\n",
              "      <th>new_deaths_per_million</th>\n",
              "      <th>new_cases_per_million</th>\n",
              "      <th>icu_patients_per_million</th>\n",
              "      <th>hosp_patients_per_million</th>\n",
              "      <th>new_tests_per_thousand</th>\n",
              "      <th>total_vaccinations_per_hundred</th>\n",
              "      <th>gdp_per_capita</th>\n",
              "      <th>population</th>\n",
              "      <th>reproduction_rate</th>\n",
              "      <th>people_fully_vaccinated_per_hundred</th>\n",
              "      <th>people_vaccinated_per_hundred</th>\n",
              "      <th>new_cases</th>\n",
              "      <th>new_deaths</th>\n",
              "      <th>Mortality_Rate</th>\n",
              "      <th>Fatality_Rate</th>\n",
              "      <th>Lockdown</th>\n",
              "      <th>Variant</th>\n",
              "      <th>Vaccine</th>\n",
              "    </tr>\n",
              "  </thead>\n",
              "  <tbody>\n",
              "    <tr>\n",
              "      <th>90078</th>\n",
              "      <td>United Kingdom</td>\n",
              "      <td>2020-05-01</td>\n",
              "      <td>10.311</td>\n",
              "      <td>69.676</td>\n",
              "      <td>32.083</td>\n",
              "      <td>216.878</td>\n",
              "      <td>1.092</td>\n",
              "      <td>0.0</td>\n",
              "      <td>39753.244</td>\n",
              "      <td>67886004.0</td>\n",
              "      <td>0.94</td>\n",
              "      <td>0.0</td>\n",
              "      <td>0.0</td>\n",
              "      <td>4730.0</td>\n",
              "      <td>700.0</td>\n",
              "      <td>0.147985</td>\n",
              "      <td>0.147992</td>\n",
              "      <td>0</td>\n",
              "      <td>0</td>\n",
              "      <td>0</td>\n",
              "    </tr>\n",
              "    <tr>\n",
              "      <th>90079</th>\n",
              "      <td>United Kingdom</td>\n",
              "      <td>2020-05-02</td>\n",
              "      <td>8.617</td>\n",
              "      <td>47.580</td>\n",
              "      <td>30.463</td>\n",
              "      <td>211.826</td>\n",
              "      <td>0.936</td>\n",
              "      <td>0.0</td>\n",
              "      <td>39753.244</td>\n",
              "      <td>67886004.0</td>\n",
              "      <td>0.90</td>\n",
              "      <td>0.0</td>\n",
              "      <td>0.0</td>\n",
              "      <td>3230.0</td>\n",
              "      <td>585.0</td>\n",
              "      <td>0.181106</td>\n",
              "      <td>0.181115</td>\n",
              "      <td>0</td>\n",
              "      <td>0</td>\n",
              "      <td>0</td>\n",
              "    </tr>\n",
              "    <tr>\n",
              "      <th>90080</th>\n",
              "      <td>United Kingdom</td>\n",
              "      <td>2020-05-03</td>\n",
              "      <td>3.727</td>\n",
              "      <td>43.853</td>\n",
              "      <td>29.594</td>\n",
              "      <td>208.997</td>\n",
              "      <td>1.005</td>\n",
              "      <td>0.0</td>\n",
              "      <td>39753.244</td>\n",
              "      <td>67886004.0</td>\n",
              "      <td>0.87</td>\n",
              "      <td>0.0</td>\n",
              "      <td>0.0</td>\n",
              "      <td>2977.0</td>\n",
              "      <td>253.0</td>\n",
              "      <td>0.084988</td>\n",
              "      <td>0.084985</td>\n",
              "      <td>0</td>\n",
              "      <td>0</td>\n",
              "      <td>0</td>\n",
              "    </tr>\n",
              "    <tr>\n",
              "      <th>90081</th>\n",
              "      <td>United Kingdom</td>\n",
              "      <td>2020-05-04</td>\n",
              "      <td>4.021</td>\n",
              "      <td>49.834</td>\n",
              "      <td>28.518</td>\n",
              "      <td>207.657</td>\n",
              "      <td>1.070</td>\n",
              "      <td>0.0</td>\n",
              "      <td>39753.244</td>\n",
              "      <td>67886004.0</td>\n",
              "      <td>0.82</td>\n",
              "      <td>0.0</td>\n",
              "      <td>0.0</td>\n",
              "      <td>3383.0</td>\n",
              "      <td>273.0</td>\n",
              "      <td>0.080688</td>\n",
              "      <td>0.080698</td>\n",
              "      <td>0</td>\n",
              "      <td>0</td>\n",
              "      <td>0</td>\n",
              "    </tr>\n",
              "    <tr>\n",
              "      <th>90082</th>\n",
              "      <td>United Kingdom</td>\n",
              "      <td>2020-05-05</td>\n",
              "      <td>10.680</td>\n",
              "      <td>54.341</td>\n",
              "      <td>27.605</td>\n",
              "      <td>202.148</td>\n",
              "      <td>0.986</td>\n",
              "      <td>0.0</td>\n",
              "      <td>39753.244</td>\n",
              "      <td>67886004.0</td>\n",
              "      <td>0.81</td>\n",
              "      <td>0.0</td>\n",
              "      <td>0.0</td>\n",
              "      <td>3689.0</td>\n",
              "      <td>725.0</td>\n",
              "      <td>0.196537</td>\n",
              "      <td>0.196530</td>\n",
              "      <td>0</td>\n",
              "      <td>0</td>\n",
              "      <td>0</td>\n",
              "    </tr>\n",
              "  </tbody>\n",
              "</table>\n",
              "</div>"
            ],
            "text/plain": [
              "             location        date  ...  Variant  Vaccine\n",
              "90078  United Kingdom  2020-05-01  ...        0        0\n",
              "90079  United Kingdom  2020-05-02  ...        0        0\n",
              "90080  United Kingdom  2020-05-03  ...        0        0\n",
              "90081  United Kingdom  2020-05-04  ...        0        0\n",
              "90082  United Kingdom  2020-05-05  ...        0        0\n",
              "\n",
              "[5 rows x 20 columns]"
            ]
          },
          "metadata": {
            "tags": []
          },
          "execution_count": 77
        }
      ]
    },
    {
      "cell_type": "code",
      "metadata": {
        "id": "hBZOvQL9D7NK"
      },
      "source": [
        "dataset_UK.set_index(\"date\", inplace = True)"
      ],
      "execution_count": 78,
      "outputs": []
    },
    {
      "cell_type": "code",
      "metadata": {
        "colab": {
          "base_uri": "https://localhost:8080/",
          "height": 329
        },
        "id": "jmt0_qTSEqJp",
        "outputId": "00e813d1-03ce-46f4-870b-81fb1f925f6f"
      },
      "source": [
        "dataset_UK.head()"
      ],
      "execution_count": 79,
      "outputs": [
        {
          "output_type": "execute_result",
          "data": {
            "text/html": [
              "<div>\n",
              "<style scoped>\n",
              "    .dataframe tbody tr th:only-of-type {\n",
              "        vertical-align: middle;\n",
              "    }\n",
              "\n",
              "    .dataframe tbody tr th {\n",
              "        vertical-align: top;\n",
              "    }\n",
              "\n",
              "    .dataframe thead th {\n",
              "        text-align: right;\n",
              "    }\n",
              "</style>\n",
              "<table border=\"1\" class=\"dataframe\">\n",
              "  <thead>\n",
              "    <tr style=\"text-align: right;\">\n",
              "      <th></th>\n",
              "      <th>location</th>\n",
              "      <th>new_deaths_per_million</th>\n",
              "      <th>new_cases_per_million</th>\n",
              "      <th>icu_patients_per_million</th>\n",
              "      <th>hosp_patients_per_million</th>\n",
              "      <th>new_tests_per_thousand</th>\n",
              "      <th>total_vaccinations_per_hundred</th>\n",
              "      <th>gdp_per_capita</th>\n",
              "      <th>population</th>\n",
              "      <th>reproduction_rate</th>\n",
              "      <th>people_fully_vaccinated_per_hundred</th>\n",
              "      <th>people_vaccinated_per_hundred</th>\n",
              "      <th>new_cases</th>\n",
              "      <th>new_deaths</th>\n",
              "      <th>Mortality_Rate</th>\n",
              "      <th>Fatality_Rate</th>\n",
              "      <th>Lockdown</th>\n",
              "      <th>Variant</th>\n",
              "      <th>Vaccine</th>\n",
              "    </tr>\n",
              "    <tr>\n",
              "      <th>date</th>\n",
              "      <th></th>\n",
              "      <th></th>\n",
              "      <th></th>\n",
              "      <th></th>\n",
              "      <th></th>\n",
              "      <th></th>\n",
              "      <th></th>\n",
              "      <th></th>\n",
              "      <th></th>\n",
              "      <th></th>\n",
              "      <th></th>\n",
              "      <th></th>\n",
              "      <th></th>\n",
              "      <th></th>\n",
              "      <th></th>\n",
              "      <th></th>\n",
              "      <th></th>\n",
              "      <th></th>\n",
              "      <th></th>\n",
              "    </tr>\n",
              "  </thead>\n",
              "  <tbody>\n",
              "    <tr>\n",
              "      <th>2020-05-01</th>\n",
              "      <td>United Kingdom</td>\n",
              "      <td>10.311</td>\n",
              "      <td>69.676</td>\n",
              "      <td>32.083</td>\n",
              "      <td>216.878</td>\n",
              "      <td>1.092</td>\n",
              "      <td>0.0</td>\n",
              "      <td>39753.244</td>\n",
              "      <td>67886004.0</td>\n",
              "      <td>0.94</td>\n",
              "      <td>0.0</td>\n",
              "      <td>0.0</td>\n",
              "      <td>4730.0</td>\n",
              "      <td>700.0</td>\n",
              "      <td>0.147985</td>\n",
              "      <td>0.147992</td>\n",
              "      <td>0</td>\n",
              "      <td>0</td>\n",
              "      <td>0</td>\n",
              "    </tr>\n",
              "    <tr>\n",
              "      <th>2020-05-02</th>\n",
              "      <td>United Kingdom</td>\n",
              "      <td>8.617</td>\n",
              "      <td>47.580</td>\n",
              "      <td>30.463</td>\n",
              "      <td>211.826</td>\n",
              "      <td>0.936</td>\n",
              "      <td>0.0</td>\n",
              "      <td>39753.244</td>\n",
              "      <td>67886004.0</td>\n",
              "      <td>0.90</td>\n",
              "      <td>0.0</td>\n",
              "      <td>0.0</td>\n",
              "      <td>3230.0</td>\n",
              "      <td>585.0</td>\n",
              "      <td>0.181106</td>\n",
              "      <td>0.181115</td>\n",
              "      <td>0</td>\n",
              "      <td>0</td>\n",
              "      <td>0</td>\n",
              "    </tr>\n",
              "    <tr>\n",
              "      <th>2020-05-03</th>\n",
              "      <td>United Kingdom</td>\n",
              "      <td>3.727</td>\n",
              "      <td>43.853</td>\n",
              "      <td>29.594</td>\n",
              "      <td>208.997</td>\n",
              "      <td>1.005</td>\n",
              "      <td>0.0</td>\n",
              "      <td>39753.244</td>\n",
              "      <td>67886004.0</td>\n",
              "      <td>0.87</td>\n",
              "      <td>0.0</td>\n",
              "      <td>0.0</td>\n",
              "      <td>2977.0</td>\n",
              "      <td>253.0</td>\n",
              "      <td>0.084988</td>\n",
              "      <td>0.084985</td>\n",
              "      <td>0</td>\n",
              "      <td>0</td>\n",
              "      <td>0</td>\n",
              "    </tr>\n",
              "    <tr>\n",
              "      <th>2020-05-04</th>\n",
              "      <td>United Kingdom</td>\n",
              "      <td>4.021</td>\n",
              "      <td>49.834</td>\n",
              "      <td>28.518</td>\n",
              "      <td>207.657</td>\n",
              "      <td>1.070</td>\n",
              "      <td>0.0</td>\n",
              "      <td>39753.244</td>\n",
              "      <td>67886004.0</td>\n",
              "      <td>0.82</td>\n",
              "      <td>0.0</td>\n",
              "      <td>0.0</td>\n",
              "      <td>3383.0</td>\n",
              "      <td>273.0</td>\n",
              "      <td>0.080688</td>\n",
              "      <td>0.080698</td>\n",
              "      <td>0</td>\n",
              "      <td>0</td>\n",
              "      <td>0</td>\n",
              "    </tr>\n",
              "    <tr>\n",
              "      <th>2020-05-05</th>\n",
              "      <td>United Kingdom</td>\n",
              "      <td>10.680</td>\n",
              "      <td>54.341</td>\n",
              "      <td>27.605</td>\n",
              "      <td>202.148</td>\n",
              "      <td>0.986</td>\n",
              "      <td>0.0</td>\n",
              "      <td>39753.244</td>\n",
              "      <td>67886004.0</td>\n",
              "      <td>0.81</td>\n",
              "      <td>0.0</td>\n",
              "      <td>0.0</td>\n",
              "      <td>3689.0</td>\n",
              "      <td>725.0</td>\n",
              "      <td>0.196537</td>\n",
              "      <td>0.196530</td>\n",
              "      <td>0</td>\n",
              "      <td>0</td>\n",
              "      <td>0</td>\n",
              "    </tr>\n",
              "  </tbody>\n",
              "</table>\n",
              "</div>"
            ],
            "text/plain": [
              "                  location  new_deaths_per_million  ...  Variant  Vaccine\n",
              "date                                                ...                  \n",
              "2020-05-01  United Kingdom                  10.311  ...        0        0\n",
              "2020-05-02  United Kingdom                   8.617  ...        0        0\n",
              "2020-05-03  United Kingdom                   3.727  ...        0        0\n",
              "2020-05-04  United Kingdom                   4.021  ...        0        0\n",
              "2020-05-05  United Kingdom                  10.680  ...        0        0\n",
              "\n",
              "[5 rows x 19 columns]"
            ]
          },
          "metadata": {
            "tags": []
          },
          "execution_count": 79
        }
      ]
    },
    {
      "cell_type": "code",
      "metadata": {
        "id": "KMPes52AErVq"
      },
      "source": [
        "features = ['location',\n",
        " 'new_deaths_per_million',\n",
        " 'new_cases_per_million',\n",
        " 'icu_patients_per_million',\n",
        " 'hosp_patients_per_million',\n",
        " 'new_tests_per_thousand',\n",
        " 'total_vaccinations_per_hundred',\n",
        " 'gdp_per_capita',\n",
        " 'population',\n",
        " 'reproduction_rate',\n",
        " 'people_fully_vaccinated_per_hundred',\n",
        " 'people_vaccinated_per_hundred',\n",
        " 'new_cases',\n",
        " 'Mortality_Rate',\n",
        " 'Fatality_Rate',\n",
        " 'Lockdown', 'Variant', 'Vaccine',\n",
        " 'new_deaths']"
      ],
      "execution_count": 80,
      "outputs": []
    },
    {
      "cell_type": "code",
      "metadata": {
        "id": "R0-3HQ7eFlxk"
      },
      "source": [
        "dataset_UK = dataset_UK[features]"
      ],
      "execution_count": 81,
      "outputs": []
    },
    {
      "cell_type": "code",
      "metadata": {
        "colab": {
          "base_uri": "https://localhost:8080/",
          "height": 329
        },
        "id": "4vmsJTvDF5CA",
        "outputId": "660b8798-100c-49c2-dd4d-f2257e317d68"
      },
      "source": [
        "dataset_UK.head()"
      ],
      "execution_count": 82,
      "outputs": [
        {
          "output_type": "execute_result",
          "data": {
            "text/html": [
              "<div>\n",
              "<style scoped>\n",
              "    .dataframe tbody tr th:only-of-type {\n",
              "        vertical-align: middle;\n",
              "    }\n",
              "\n",
              "    .dataframe tbody tr th {\n",
              "        vertical-align: top;\n",
              "    }\n",
              "\n",
              "    .dataframe thead th {\n",
              "        text-align: right;\n",
              "    }\n",
              "</style>\n",
              "<table border=\"1\" class=\"dataframe\">\n",
              "  <thead>\n",
              "    <tr style=\"text-align: right;\">\n",
              "      <th></th>\n",
              "      <th>location</th>\n",
              "      <th>new_deaths_per_million</th>\n",
              "      <th>new_cases_per_million</th>\n",
              "      <th>icu_patients_per_million</th>\n",
              "      <th>hosp_patients_per_million</th>\n",
              "      <th>new_tests_per_thousand</th>\n",
              "      <th>total_vaccinations_per_hundred</th>\n",
              "      <th>gdp_per_capita</th>\n",
              "      <th>population</th>\n",
              "      <th>reproduction_rate</th>\n",
              "      <th>people_fully_vaccinated_per_hundred</th>\n",
              "      <th>people_vaccinated_per_hundred</th>\n",
              "      <th>new_cases</th>\n",
              "      <th>Mortality_Rate</th>\n",
              "      <th>Fatality_Rate</th>\n",
              "      <th>Lockdown</th>\n",
              "      <th>Variant</th>\n",
              "      <th>Vaccine</th>\n",
              "      <th>new_deaths</th>\n",
              "    </tr>\n",
              "    <tr>\n",
              "      <th>date</th>\n",
              "      <th></th>\n",
              "      <th></th>\n",
              "      <th></th>\n",
              "      <th></th>\n",
              "      <th></th>\n",
              "      <th></th>\n",
              "      <th></th>\n",
              "      <th></th>\n",
              "      <th></th>\n",
              "      <th></th>\n",
              "      <th></th>\n",
              "      <th></th>\n",
              "      <th></th>\n",
              "      <th></th>\n",
              "      <th></th>\n",
              "      <th></th>\n",
              "      <th></th>\n",
              "      <th></th>\n",
              "      <th></th>\n",
              "    </tr>\n",
              "  </thead>\n",
              "  <tbody>\n",
              "    <tr>\n",
              "      <th>2020-05-01</th>\n",
              "      <td>United Kingdom</td>\n",
              "      <td>10.311</td>\n",
              "      <td>69.676</td>\n",
              "      <td>32.083</td>\n",
              "      <td>216.878</td>\n",
              "      <td>1.092</td>\n",
              "      <td>0.0</td>\n",
              "      <td>39753.244</td>\n",
              "      <td>67886004.0</td>\n",
              "      <td>0.94</td>\n",
              "      <td>0.0</td>\n",
              "      <td>0.0</td>\n",
              "      <td>4730.0</td>\n",
              "      <td>0.147985</td>\n",
              "      <td>0.147992</td>\n",
              "      <td>0</td>\n",
              "      <td>0</td>\n",
              "      <td>0</td>\n",
              "      <td>700.0</td>\n",
              "    </tr>\n",
              "    <tr>\n",
              "      <th>2020-05-02</th>\n",
              "      <td>United Kingdom</td>\n",
              "      <td>8.617</td>\n",
              "      <td>47.580</td>\n",
              "      <td>30.463</td>\n",
              "      <td>211.826</td>\n",
              "      <td>0.936</td>\n",
              "      <td>0.0</td>\n",
              "      <td>39753.244</td>\n",
              "      <td>67886004.0</td>\n",
              "      <td>0.90</td>\n",
              "      <td>0.0</td>\n",
              "      <td>0.0</td>\n",
              "      <td>3230.0</td>\n",
              "      <td>0.181106</td>\n",
              "      <td>0.181115</td>\n",
              "      <td>0</td>\n",
              "      <td>0</td>\n",
              "      <td>0</td>\n",
              "      <td>585.0</td>\n",
              "    </tr>\n",
              "    <tr>\n",
              "      <th>2020-05-03</th>\n",
              "      <td>United Kingdom</td>\n",
              "      <td>3.727</td>\n",
              "      <td>43.853</td>\n",
              "      <td>29.594</td>\n",
              "      <td>208.997</td>\n",
              "      <td>1.005</td>\n",
              "      <td>0.0</td>\n",
              "      <td>39753.244</td>\n",
              "      <td>67886004.0</td>\n",
              "      <td>0.87</td>\n",
              "      <td>0.0</td>\n",
              "      <td>0.0</td>\n",
              "      <td>2977.0</td>\n",
              "      <td>0.084988</td>\n",
              "      <td>0.084985</td>\n",
              "      <td>0</td>\n",
              "      <td>0</td>\n",
              "      <td>0</td>\n",
              "      <td>253.0</td>\n",
              "    </tr>\n",
              "    <tr>\n",
              "      <th>2020-05-04</th>\n",
              "      <td>United Kingdom</td>\n",
              "      <td>4.021</td>\n",
              "      <td>49.834</td>\n",
              "      <td>28.518</td>\n",
              "      <td>207.657</td>\n",
              "      <td>1.070</td>\n",
              "      <td>0.0</td>\n",
              "      <td>39753.244</td>\n",
              "      <td>67886004.0</td>\n",
              "      <td>0.82</td>\n",
              "      <td>0.0</td>\n",
              "      <td>0.0</td>\n",
              "      <td>3383.0</td>\n",
              "      <td>0.080688</td>\n",
              "      <td>0.080698</td>\n",
              "      <td>0</td>\n",
              "      <td>0</td>\n",
              "      <td>0</td>\n",
              "      <td>273.0</td>\n",
              "    </tr>\n",
              "    <tr>\n",
              "      <th>2020-05-05</th>\n",
              "      <td>United Kingdom</td>\n",
              "      <td>10.680</td>\n",
              "      <td>54.341</td>\n",
              "      <td>27.605</td>\n",
              "      <td>202.148</td>\n",
              "      <td>0.986</td>\n",
              "      <td>0.0</td>\n",
              "      <td>39753.244</td>\n",
              "      <td>67886004.0</td>\n",
              "      <td>0.81</td>\n",
              "      <td>0.0</td>\n",
              "      <td>0.0</td>\n",
              "      <td>3689.0</td>\n",
              "      <td>0.196537</td>\n",
              "      <td>0.196530</td>\n",
              "      <td>0</td>\n",
              "      <td>0</td>\n",
              "      <td>0</td>\n",
              "      <td>725.0</td>\n",
              "    </tr>\n",
              "  </tbody>\n",
              "</table>\n",
              "</div>"
            ],
            "text/plain": [
              "                  location  new_deaths_per_million  ...  Vaccine  new_deaths\n",
              "date                                                ...                     \n",
              "2020-05-01  United Kingdom                  10.311  ...        0       700.0\n",
              "2020-05-02  United Kingdom                   8.617  ...        0       585.0\n",
              "2020-05-03  United Kingdom                   3.727  ...        0       253.0\n",
              "2020-05-04  United Kingdom                   4.021  ...        0       273.0\n",
              "2020-05-05  United Kingdom                  10.680  ...        0       725.0\n",
              "\n",
              "[5 rows x 19 columns]"
            ]
          },
          "metadata": {
            "tags": []
          },
          "execution_count": 82
        }
      ]
    },
    {
      "cell_type": "code",
      "metadata": {
        "id": "vOx2o_hNGCrg"
      },
      "source": [
        "dataset_UK_train = dataset_UK[ : 375]\n",
        "dataset_UK_test = dataset_UK[ 375 : ]"
      ],
      "execution_count": 83,
      "outputs": []
    },
    {
      "cell_type": "code",
      "metadata": {
        "colab": {
          "base_uri": "https://localhost:8080/"
        },
        "id": "vMzLjqrFGDN6",
        "outputId": "50497895-b13b-4ced-ad4b-a18c970c5a3a"
      },
      "source": [
        "len(dataset_UK_train)"
      ],
      "execution_count": 84,
      "outputs": [
        {
          "output_type": "execute_result",
          "data": {
            "text/plain": [
              "375"
            ]
          },
          "metadata": {
            "tags": []
          },
          "execution_count": 84
        }
      ]
    },
    {
      "cell_type": "code",
      "metadata": {
        "colab": {
          "base_uri": "https://localhost:8080/"
        },
        "id": "j_VwoH--GDQ5",
        "outputId": "22b7884b-703f-4665-961a-5012ad626538"
      },
      "source": [
        "len(dataset_UK_test)"
      ],
      "execution_count": 85,
      "outputs": [
        {
          "output_type": "execute_result",
          "data": {
            "text/plain": [
              "30"
            ]
          },
          "metadata": {
            "tags": []
          },
          "execution_count": 85
        }
      ]
    },
    {
      "cell_type": "code",
      "metadata": {
        "id": "ow6fzAryGmPV"
      },
      "source": [
        "X_train = dataset_UK_train.iloc[ : , : -1].drop(\"location\", axis = 1)\n",
        "X_test = dataset_UK_test.iloc[ : , : -1].drop(\"location\", axis = 1)\n",
        "Y_train = dataset_UK_train.iloc[ : , -1]\n",
        "Y_test = dataset_UK_test.iloc[ : , -1]"
      ],
      "execution_count": 86,
      "outputs": []
    },
    {
      "cell_type": "code",
      "metadata": {
        "colab": {
          "base_uri": "https://localhost:8080/"
        },
        "id": "Zn0kvBH_Hvjw",
        "outputId": "ec814653-6e53-4b72-a3f8-2af561466142"
      },
      "source": [
        "regressor = RandomForestRegressor(random_state = SEED)\n",
        "regressor.fit(X_train, Y_train)"
      ],
      "execution_count": 87,
      "outputs": [
        {
          "output_type": "execute_result",
          "data": {
            "text/plain": [
              "RandomForestRegressor(bootstrap=True, ccp_alpha=0.0, criterion='mse',\n",
              "                      max_depth=None, max_features='auto', max_leaf_nodes=None,\n",
              "                      max_samples=None, min_impurity_decrease=0.0,\n",
              "                      min_impurity_split=None, min_samples_leaf=1,\n",
              "                      min_samples_split=2, min_weight_fraction_leaf=0.0,\n",
              "                      n_estimators=100, n_jobs=None, oob_score=False,\n",
              "                      random_state=42, verbose=0, warm_start=False)"
            ]
          },
          "metadata": {
            "tags": []
          },
          "execution_count": 87
        }
      ]
    },
    {
      "cell_type": "code",
      "metadata": {
        "id": "WhsiwzGSIHyJ"
      },
      "source": [
        "Y_pred = regressor.predict(X_test)"
      ],
      "execution_count": 88,
      "outputs": []
    },
    {
      "cell_type": "code",
      "metadata": {
        "colab": {
          "base_uri": "https://localhost:8080/"
        },
        "id": "jZmlFqzUIKKQ",
        "outputId": "c52a7631-ef9e-475a-e471-6cab6ce84736"
      },
      "source": [
        "from sklearn.metrics import r2_score, mean_absolute_error\n",
        "r2_score(Y_test, Y_pred)"
      ],
      "execution_count": 89,
      "outputs": [
        {
          "output_type": "execute_result",
          "data": {
            "text/plain": [
              "0.9970858299947745"
            ]
          },
          "metadata": {
            "tags": []
          },
          "execution_count": 89
        }
      ]
    },
    {
      "cell_type": "code",
      "metadata": {
        "colab": {
          "base_uri": "https://localhost:8080/"
        },
        "id": "Gwv-zqHAIZbI",
        "outputId": "0d949a8b-7f3a-4c80-9dca-59cf9e0d1992"
      },
      "source": [
        "mean_absolute_error(Y_test, Y_pred)"
      ],
      "execution_count": 90,
      "outputs": [
        {
          "output_type": "execute_result",
          "data": {
            "text/plain": [
              "0.1663333333333333"
            ]
          },
          "metadata": {
            "tags": []
          },
          "execution_count": 90
        }
      ]
    },
    {
      "cell_type": "code",
      "metadata": {
        "id": "jx82sn5yfHWP"
      },
      "source": [
        "ensemble = "
      ],
      "execution_count": null,
      "outputs": []
    },
    {
      "cell_type": "code",
      "metadata": {
        "id": "6sg3LksDfHZ8"
      },
      "source": [
        ""
      ],
      "execution_count": null,
      "outputs": []
    }
  ]
}
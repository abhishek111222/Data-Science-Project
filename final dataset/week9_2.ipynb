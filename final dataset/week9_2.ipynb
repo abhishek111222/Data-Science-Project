{
  "nbformat": 4,
  "nbformat_minor": 0,
  "metadata": {
    "colab": {
      "name": "week9_2.ipynb",
      "provenance": [],
      "collapsed_sections": []
    },
    "kernelspec": {
      "name": "python3",
      "display_name": "Python 3"
    },
    "language_info": {
      "name": "python"
    }
  },
  "cells": [
    {
      "cell_type": "code",
      "metadata": {
        "colab": {
          "base_uri": "https://localhost:8080/"
        },
        "id": "9D88ha4lY3Mq",
        "outputId": "853513cf-6b61-41d9-c8d7-26523f44e454"
      },
      "source": [
        "from google.colab import drive\n",
        "drive.mount('/content/gdrive')"
      ],
      "execution_count": 1,
      "outputs": [
        {
          "output_type": "stream",
          "text": [
            "Drive already mounted at /content/gdrive; to attempt to forcibly remount, call drive.mount(\"/content/gdrive\", force_remount=True).\n"
          ],
          "name": "stdout"
        }
      ]
    },
    {
      "cell_type": "code",
      "metadata": {
        "colab": {
          "base_uri": "https://localhost:8080/"
        },
        "id": "znrT1URwY6-f",
        "outputId": "6872c540-6f0f-4019-c7b1-2151e1e4b170"
      },
      "source": [
        "#!pip install --upgrade plotly\n",
        "#!pip install pmdarima\n",
        "print(\"Done\")"
      ],
      "execution_count": 2,
      "outputs": [
        {
          "output_type": "stream",
          "text": [
            "Done\n"
          ],
          "name": "stdout"
        }
      ]
    },
    {
      "cell_type": "code",
      "metadata": {
        "id": "K-skxwLhY__O"
      },
      "source": [
        "import pandas as pd\n",
        "import plotly.express as px\n",
        "import plotly.graph_objects as go\n",
        "import matplotlib.pyplot as plt\n",
        "from pandas.plotting import lag_plot, autocorrelation_plot\n",
        "from statsmodels.graphics.tsaplots import plot_acf\n",
        "from statsmodels.tsa.stattools import adfuller\n",
        "from sklearn.metrics import mean_squared_error\n",
        "from sklearn.preprocessing import StandardScaler\n",
        "from math import sqrt\n",
        "import itertools\n",
        "\n",
        "from statsmodels.tsa.arima_model import ARIMA\n",
        "from statsmodels.tsa.ar_model import AR\n",
        "from pmdarima import auto_arima\n",
        "\n",
        "import warnings\n",
        "warnings.filterwarnings(\"ignore\")"
      ],
      "execution_count": 3,
      "outputs": []
    },
    {
      "cell_type": "code",
      "metadata": {
        "id": "1P2nohEgZAeH"
      },
      "source": [
        "import pandas as pd\n",
        "import numpy as np\n",
        "import matplotlib.pyplot as plt\n",
        "import plotly.express as px\n",
        "\n",
        "from sklearn.preprocessing import LabelEncoder\n",
        "from sklearn.compose import ColumnTransformer\n",
        "from sklearn.linear_model import Lasso, Ridge, LogisticRegression, LinearRegression\n",
        "from sklearn.preprocessing import OneHotEncoder\n",
        "from sklearn.neighbors import KNeighborsRegressor\n",
        "#import category_encoders as ce\n",
        "from scipy import stats\n",
        "from numpy import mean, std\n",
        "import lightgbm as lgb\n",
        "import seaborn as sns\n",
        "#from catboost import CatBoostRegressor\n",
        "import plotly.express as px\n",
        "from sklearn.feature_selection import SelectFromModel\n",
        "from sklearn.linear_model import Lasso\n",
        "from sklearn.svm import LinearSVR, SVR\n",
        "from sklearn.metrics import mean_absolute_error\n",
        "from sklearn.decomposition import PCA\n",
        "from sklearn.ensemble import RandomForestRegressor, BaggingRegressor\n",
        "from sklearn.ensemble import StackingRegressor, AdaBoostRegressor\n",
        "from sklearn.preprocessing import OneHotEncoder, LabelEncoder, StandardScaler, MinMaxScaler, Normalizer\n",
        "from sklearn.pipeline import Pipeline\n",
        "import xgboost as xgb\n",
        "from sklearn.metrics import mean_squared_log_error, r2_score, mean_squared_error\n",
        "from sklearn.utils import shuffle\n",
        "from sklearn.model_selection import train_test_split, GridSearchCV, KFold, cross_val_score\n",
        "import seaborn as sns\n",
        "\n",
        "SEED = 42"
      ],
      "execution_count": 4,
      "outputs": []
    },
    {
      "cell_type": "code",
      "metadata": {
        "id": "wLSVPR3nZAgY"
      },
      "source": [
        "df = pd.read_csv(\"/content/gdrive/MyDrive/owid-covid-data.csv\")\n",
        "check = pd.read_csv(\"/content/gdrive/MyDrive/owid-covid-data.csv\")"
      ],
      "execution_count": 5,
      "outputs": []
    },
    {
      "cell_type": "code",
      "metadata": {
        "colab": {
          "base_uri": "https://localhost:8080/"
        },
        "id": "0Q3q5FFWmeXg",
        "outputId": "3ab61625-a8b7-414f-a6f5-29f276446b68"
      },
      "source": [
        "check[\"population\"]"
      ],
      "execution_count": 6,
      "outputs": [
        {
          "output_type": "execute_result",
          "data": {
            "text/plain": [
              "0         38928341.0\n",
              "1         38928341.0\n",
              "2         38928341.0\n",
              "3         38928341.0\n",
              "4         38928341.0\n",
              "             ...    \n",
              "102470    14862927.0\n",
              "102471    14862927.0\n",
              "102472    14862927.0\n",
              "102473    14862927.0\n",
              "102474    14862927.0\n",
              "Name: population, Length: 102475, dtype: float64"
            ]
          },
          "metadata": {
            "tags": []
          },
          "execution_count": 6
        }
      ]
    },
    {
      "cell_type": "code",
      "metadata": {
        "id": "kLhxUa7gZAis"
      },
      "source": [
        "dataset_UK = df[df[\"location\"] == \"United Kingdom\"]  "
      ],
      "execution_count": 7,
      "outputs": []
    },
    {
      "cell_type": "code",
      "metadata": {
        "id": "1HKWDjErZAkz"
      },
      "source": [
        "dataset_UK[\"Mortality_Rate\"] = dataset_UK[\"new_deaths\"]/ dataset_UK[\"population\"]"
      ],
      "execution_count": 8,
      "outputs": []
    },
    {
      "cell_type": "code",
      "metadata": {
        "id": "it5D3Kz2ZAms"
      },
      "source": [
        "features = [\"date\", \"new_cases\", \"reproduction_rate\", \"icu_patients\", \"hosp_patients\", \"new_tests\", \"positive_rate\", \"people_vaccinated\", \"people_fully_vaccinated\", \n",
        "            \"new_vaccinations\", \"stringency_index\", \"Mortality_Rate\"]"
      ],
      "execution_count": 9,
      "outputs": []
    },
    {
      "cell_type": "code",
      "metadata": {
        "id": "DFW1g3vrZJsr"
      },
      "source": [
        "dataset_UK = dataset_UK[features]"
      ],
      "execution_count": 10,
      "outputs": []
    },
    {
      "cell_type": "code",
      "metadata": {
        "id": "eO197j23ZJvH"
      },
      "source": [
        "dataset_UK[\"Lockdown\"] = \"\"\n",
        "\n",
        "yes1 = (dataset_UK[\"date\"] >= \"2020-05-10\") & (dataset_UK[\"date\"] <= \"2020-06-23\")\n",
        "yes2 = (dataset_UK[\"date\"] >= \"2020-10-31\") & (dataset_UK[\"date\"] <= \"2020-12-02\")\n",
        "yes3 = (dataset_UK[\"date\"] >= \"2020-12-21\") & (dataset_UK[\"date\"] <= \"2021-04-17\")\n",
        "\n",
        "dataset_UK[\"Lockdown\"][yes1] = 1\n",
        "dataset_UK[\"Lockdown\"][yes2] = 1\n",
        "dataset_UK[\"Lockdown\"][yes3] = 1\n",
        "\n",
        "dataset_UK[\"Lockdown\"] = dataset_UK[\"Lockdown\"].replace([''], 0)\n",
        "\n",
        "dataset_UK[\"Variant\"] = \"\"\n",
        "dataset_UK[\"Vaccine\"] = \"\"\n",
        "\n",
        "alpha = (dataset_UK[\"date\"] >= \"2020-09-15\") & (dataset_UK[\"date\"] <= \"2021-05-13\")\n",
        "delta = (dataset_UK[\"date\"] > \"2021-05-13\")\n",
        "\n",
        "dataset_UK[\"Variant\"][alpha] = \"Alpha\"\n",
        "dataset_UK[\"Variant\"][delta] = \"Delta\"\n",
        "\n",
        "dataset_UK[\"Variant\"] = dataset_UK[\"Variant\"].replace([''], \"First\")\n",
        "\n",
        "no_vaccine = (dataset_UK[\"date\"] >= \"2020-05-01\") & (dataset_UK[\"date\"] <= \"2021-01-09\")\n",
        "pfizer = (dataset_UK[\"date\"] > \"2021-01-09\") \n",
        "\n",
        "dataset_UK[\"Vaccine\"][no_vaccine] = \"No Vaccine\"\n",
        "dataset_UK[\"Vaccine\"][pfizer] = \"Pfizer\""
      ],
      "execution_count": 11,
      "outputs": []
    },
    {
      "cell_type": "code",
      "metadata": {
        "id": "tUgw6jVxZJxN"
      },
      "source": [
        "dataset_UK = dataset_UK[dataset_UK[\"date\"] >= \"2020-05-01\"]"
      ],
      "execution_count": 12,
      "outputs": []
    },
    {
      "cell_type": "code",
      "metadata": {
        "id": "vob4Y5ffZJzP"
      },
      "source": [
        "dataset_UK.drop([\"stringency_index\"], axis = 1, inplace = True)"
      ],
      "execution_count": 13,
      "outputs": []
    },
    {
      "cell_type": "code",
      "metadata": {
        "colab": {
          "base_uri": "https://localhost:8080/"
        },
        "id": "lGbmrFJQZaxK",
        "outputId": "816a9656-c54c-4c47-b45e-93ea9035408d"
      },
      "source": [
        "dataset_UK.isna().sum()"
      ],
      "execution_count": 14,
      "outputs": [
        {
          "output_type": "execute_result",
          "data": {
            "text/plain": [
              "date                         0\n",
              "new_cases                    0\n",
              "reproduction_rate            1\n",
              "icu_patients                 1\n",
              "hosp_patients                1\n",
              "new_tests                    3\n",
              "positive_rate                3\n",
              "people_vaccinated          251\n",
              "people_fully_vaccinated    255\n",
              "new_vaccinations           256\n",
              "Mortality_Rate               0\n",
              "Lockdown                     0\n",
              "Variant                      0\n",
              "Vaccine                      0\n",
              "dtype: int64"
            ]
          },
          "metadata": {
            "tags": []
          },
          "execution_count": 14
        }
      ]
    },
    {
      "cell_type": "code",
      "metadata": {
        "id": "qXAF_V8uZazp"
      },
      "source": [
        "dataset_UK['people_vaccinated'] = dataset_UK[\"people_vaccinated\"].fillna(0)\n",
        "dataset_UK['people_fully_vaccinated'] = dataset_UK[\"people_fully_vaccinated\"].fillna(0)\n",
        "dataset_UK['new_vaccinations'] = dataset_UK[\"new_vaccinations\"].fillna(0)"
      ],
      "execution_count": 15,
      "outputs": []
    },
    {
      "cell_type": "code",
      "metadata": {
        "id": "zXO0kZ0RZa1z"
      },
      "source": [
        "dataset_UK = dataset_UK[dataset_UK[\"date\"] < \"2021-07-12\"]"
      ],
      "execution_count": 16,
      "outputs": []
    },
    {
      "cell_type": "code",
      "metadata": {
        "id": "UlHVx0U-Zfvx"
      },
      "source": [
        "l1 = {\n",
        "    \"First\" : 0,\n",
        "    \"Alpha\" : 1,\n",
        "    \"Delta\" : 2\n",
        "}\n",
        "\n",
        "l2 = {\n",
        "    'No Vaccine' : 0,\n",
        "     'Pfizer' : 1\n",
        "}\n",
        "\n",
        "dataset_UK[\"Variant\"] = dataset_UK[\"Variant\"].map(l1)\n",
        "dataset_UK[\"Vaccine\"] = dataset_UK[\"Vaccine\"].map(l2)"
      ],
      "execution_count": 17,
      "outputs": []
    },
    {
      "cell_type": "code",
      "metadata": {
        "colab": {
          "base_uri": "https://localhost:8080/",
          "height": 379
        },
        "id": "Zj0f0QIfZgEp",
        "outputId": "e2845118-5ae0-402e-bb55-6c7ce2647f1a"
      },
      "source": [
        "#data = pd.read_csv('https://raw.githubusercontent.com/drazenz/heatmap/master/autos.clean.csv')\n",
        "\n",
        "corr = dataset_UK.corr()\n",
        "ax = sns.heatmap(\n",
        "    corr, \n",
        "    vmin = -1, vmax = 1, center = 0,\n",
        "    cmap = sns.diverging_palette(20, 220, n = 200),\n",
        "    square = True\n",
        ")"
      ],
      "execution_count": 18,
      "outputs": [
        {
          "output_type": "display_data",
          "data": {
            "image/png": "[encoded data removed]",
            "text/plain": [
              "<Figure size 432x288 with 2 Axes>"
            ]
          },
          "metadata": {
            "tags": [],
            "needs_background": "light"
          }
        }
      ]
    },
    {
      "cell_type": "code",
      "metadata": {
        "colab": {
          "base_uri": "https://localhost:8080/"
        },
        "id": "eXpwq3P0ZgHI",
        "outputId": "8b3b2950-b633-4180-df90-59909dca9d4f"
      },
      "source": [
        "dataset_UK[\"Lockdown\"].unique()"
      ],
      "execution_count": 19,
      "outputs": [
        {
          "output_type": "execute_result",
          "data": {
            "text/plain": [
              "array([0, 1])"
            ]
          },
          "metadata": {
            "tags": []
          },
          "execution_count": 19
        }
      ]
    },
    {
      "cell_type": "code",
      "metadata": {
        "colab": {
          "base_uri": "https://localhost:8080/"
        },
        "id": "7htOGntqZgJV",
        "outputId": "0cd29701-3079-4914-ffcc-c9bd3eeac064"
      },
      "source": [
        "dataset_UK[\"Vaccine\"].unique()"
      ],
      "execution_count": 20,
      "outputs": [
        {
          "output_type": "execute_result",
          "data": {
            "text/plain": [
              "array([0, 1])"
            ]
          },
          "metadata": {
            "tags": []
          },
          "execution_count": 20
        }
      ]
    },
    {
      "cell_type": "code",
      "metadata": {
        "colab": {
          "base_uri": "https://localhost:8080/"
        },
        "id": "uo_OC-YkZgLc",
        "outputId": "3653b468-ec7b-4be1-9da3-7414f4237166"
      },
      "source": [
        "dataset_UK[\"Variant\"].unique()"
      ],
      "execution_count": 21,
      "outputs": [
        {
          "output_type": "execute_result",
          "data": {
            "text/plain": [
              "array([0, 1, 2])"
            ]
          },
          "metadata": {
            "tags": []
          },
          "execution_count": 21
        }
      ]
    },
    {
      "cell_type": "code",
      "metadata": {
        "colab": {
          "base_uri": "https://localhost:8080/",
          "height": 488
        },
        "id": "BS3mBbH1ZgNc",
        "outputId": "44c554d2-2fc6-4108-cb55-cc2e83f434ff"
      },
      "source": [
        "plt.figure(figsize=(16, 6))\n",
        "# Store heatmap object in a variable to easily access it when you want to include more features (such as title).\n",
        "# Set the range of values to be displayed on the colormap from -1 to 1, and set the annotation to True to display the correlation values on the heatmap.\n",
        "heatmap = sns.heatmap(dataset_UK.corr(), vmin=-1, vmax=1, annot=True)\n",
        "# Give a title to the heatmap. Pad defines the distance of the title from the top of the heatmap.\n",
        "#heatmap.set_title('Correlation Heatmap', fontdict={'fontsize':12}, pad=12);"
      ],
      "execution_count": 22,
      "outputs": [
        {
          "output_type": "display_data",
          "data": {
            "image/png": "[encoded data removed]",
            "text/plain": [
              "<Figure size 1152x432 with 2 Axes>"
            ]
          },
          "metadata": {
            "tags": [],
            "needs_background": "light"
          }
        }
      ]
    },
    {
      "cell_type": "code",
      "metadata": {
        "id": "rQBj421FZqz5"
      },
      "source": [
        "dataset_UK.set_index(\"date\", inplace = True)"
      ],
      "execution_count": 23,
      "outputs": []
    },
    {
      "cell_type": "code",
      "metadata": {
        "colab": {
          "base_uri": "https://localhost:8080/",
          "height": 290
        },
        "id": "lz9wIxnjZq2d",
        "outputId": "6995f5b0-9786-4f85-fa54-cb40009391f8"
      },
      "source": [
        "plt.scatter(dataset_UK[\"Variant\"], dataset_UK[\"Mortality_Rate\"])\n",
        "\n",
        "\n",
        "plt.xlabel(\"Variant\") #x label\n",
        "plt.ylabel(\"Mortality Rate\") #y label\n",
        "plt.show()"
      ],
      "execution_count": 24,
      "outputs": [
        {
          "output_type": "display_data",
          "data": {
            "image/png": "[encoded data removed]",
            "text/plain": [
              "<Figure size 432x288 with 1 Axes>"
            ]
          },
          "metadata": {
            "tags": [],
            "needs_background": "light"
          }
        }
      ]
    },
    {
      "cell_type": "code",
      "metadata": {
        "colab": {
          "base_uri": "https://localhost:8080/"
        },
        "id": "bpujRy1rZq4g",
        "outputId": "3eb60bd6-92ce-4de8-8306-199ca9fe5670"
      },
      "source": [
        "dataset_UK.isna().sum()"
      ],
      "execution_count": 25,
      "outputs": [
        {
          "output_type": "execute_result",
          "data": {
            "text/plain": [
              "new_cases                  0\n",
              "reproduction_rate          0\n",
              "icu_patients               0\n",
              "hosp_patients              0\n",
              "new_tests                  0\n",
              "positive_rate              0\n",
              "people_vaccinated          0\n",
              "people_fully_vaccinated    0\n",
              "new_vaccinations           0\n",
              "Mortality_Rate             0\n",
              "Lockdown                   0\n",
              "Variant                    0\n",
              "Vaccine                    0\n",
              "dtype: int64"
            ]
          },
          "metadata": {
            "tags": []
          },
          "execution_count": 25
        }
      ]
    },
    {
      "cell_type": "code",
      "metadata": {
        "colab": {
          "base_uri": "https://localhost:8080/",
          "height": 235
        },
        "id": "Bj8xedv0Zq6s",
        "outputId": "25f02511-cc2c-4231-93bf-574bab3a939a"
      },
      "source": [
        "dataset_UK.head()"
      ],
      "execution_count": 26,
      "outputs": [
        {
          "output_type": "execute_result",
          "data": {
            "text/html": [
              "<div>\n",
              "<style scoped>\n",
              "    .dataframe tbody tr th:only-of-type {\n",
              "        vertical-align: middle;\n",
              "    }\n",
              "\n",
              "    .dataframe tbody tr th {\n",
              "        vertical-align: top;\n",
              "    }\n",
              "\n",
              "    .dataframe thead th {\n",
              "        text-align: right;\n",
              "    }\n",
              "</style>\n",
              "<table border=\"1\" class=\"dataframe\">\n",
              "  <thead>\n",
              "    <tr style=\"text-align: right;\">\n",
              "      <th></th>\n",
              "      <th>new_cases</th>\n",
              "      <th>reproduction_rate</th>\n",
              "      <th>icu_patients</th>\n",
              "      <th>hosp_patients</th>\n",
              "      <th>new_tests</th>\n",
              "      <th>positive_rate</th>\n",
              "      <th>people_vaccinated</th>\n",
              "      <th>people_fully_vaccinated</th>\n",
              "      <th>new_vaccinations</th>\n",
              "      <th>Mortality_Rate</th>\n",
              "      <th>Lockdown</th>\n",
              "      <th>Variant</th>\n",
              "      <th>Vaccine</th>\n",
              "    </tr>\n",
              "    <tr>\n",
              "      <th>date</th>\n",
              "      <th></th>\n",
              "      <th></th>\n",
              "      <th></th>\n",
              "      <th></th>\n",
              "      <th></th>\n",
              "      <th></th>\n",
              "      <th></th>\n",
              "      <th></th>\n",
              "      <th></th>\n",
              "      <th></th>\n",
              "      <th></th>\n",
              "      <th></th>\n",
              "      <th></th>\n",
              "    </tr>\n",
              "  </thead>\n",
              "  <tbody>\n",
              "    <tr>\n",
              "      <th>2020-05-01</th>\n",
              "      <td>4730.0</td>\n",
              "      <td>0.94</td>\n",
              "      <td>2178.0</td>\n",
              "      <td>14723.0</td>\n",
              "      <td>74142.0</td>\n",
              "      <td>0.088</td>\n",
              "      <td>0.0</td>\n",
              "      <td>0.0</td>\n",
              "      <td>0.0</td>\n",
              "      <td>0.000010</td>\n",
              "      <td>0</td>\n",
              "      <td>0</td>\n",
              "      <td>0</td>\n",
              "    </tr>\n",
              "    <tr>\n",
              "      <th>2020-05-02</th>\n",
              "      <td>3230.0</td>\n",
              "      <td>0.91</td>\n",
              "      <td>2068.0</td>\n",
              "      <td>14380.0</td>\n",
              "      <td>63559.0</td>\n",
              "      <td>0.079</td>\n",
              "      <td>0.0</td>\n",
              "      <td>0.0</td>\n",
              "      <td>0.0</td>\n",
              "      <td>0.000009</td>\n",
              "      <td>0</td>\n",
              "      <td>0</td>\n",
              "      <td>0</td>\n",
              "    </tr>\n",
              "    <tr>\n",
              "      <th>2020-05-03</th>\n",
              "      <td>2977.0</td>\n",
              "      <td>0.87</td>\n",
              "      <td>2009.0</td>\n",
              "      <td>14188.0</td>\n",
              "      <td>68203.0</td>\n",
              "      <td>0.071</td>\n",
              "      <td>0.0</td>\n",
              "      <td>0.0</td>\n",
              "      <td>0.0</td>\n",
              "      <td>0.000004</td>\n",
              "      <td>0</td>\n",
              "      <td>0</td>\n",
              "      <td>0</td>\n",
              "    </tr>\n",
              "    <tr>\n",
              "      <th>2020-05-04</th>\n",
              "      <td>3383.0</td>\n",
              "      <td>0.82</td>\n",
              "      <td>1936.0</td>\n",
              "      <td>14097.0</td>\n",
              "      <td>72630.0</td>\n",
              "      <td>0.061</td>\n",
              "      <td>0.0</td>\n",
              "      <td>0.0</td>\n",
              "      <td>0.0</td>\n",
              "      <td>0.000004</td>\n",
              "      <td>0</td>\n",
              "      <td>0</td>\n",
              "      <td>0</td>\n",
              "    </tr>\n",
              "    <tr>\n",
              "      <th>2020-05-05</th>\n",
              "      <td>3689.0</td>\n",
              "      <td>0.81</td>\n",
              "      <td>1874.0</td>\n",
              "      <td>13723.0</td>\n",
              "      <td>66919.0</td>\n",
              "      <td>0.057</td>\n",
              "      <td>0.0</td>\n",
              "      <td>0.0</td>\n",
              "      <td>0.0</td>\n",
              "      <td>0.000011</td>\n",
              "      <td>0</td>\n",
              "      <td>0</td>\n",
              "      <td>0</td>\n",
              "    </tr>\n",
              "  </tbody>\n",
              "</table>\n",
              "</div>"
            ],
            "text/plain": [
              "            new_cases  reproduction_rate  ...  Variant  Vaccine\n",
              "date                                      ...                  \n",
              "2020-05-01     4730.0               0.94  ...        0        0\n",
              "2020-05-02     3230.0               0.91  ...        0        0\n",
              "2020-05-03     2977.0               0.87  ...        0        0\n",
              "2020-05-04     3383.0               0.82  ...        0        0\n",
              "2020-05-05     3689.0               0.81  ...        0        0\n",
              "\n",
              "[5 rows x 13 columns]"
            ]
          },
          "metadata": {
            "tags": []
          },
          "execution_count": 26
        }
      ]
    },
    {
      "cell_type": "code",
      "metadata": {
        "id": "Rr-J0tdKZq8y"
      },
      "source": [
        "features = [\"new_cases\", \"reproduction_rate\", \"icu_patients\", \"hosp_patients\", \"new_tests\", \"positive_rate\", \"people_vaccinated\", \"people_fully_vaccinated\", \n",
        "            \"new_vaccinations\", \"Lockdown\", \"Variant\", \"Vaccine\", \"Mortality_Rate\"]"
      ],
      "execution_count": 27,
      "outputs": []
    },
    {
      "cell_type": "code",
      "metadata": {
        "id": "ektZlWCNaCII"
      },
      "source": [
        "dataset_UK = dataset_UK[features]"
      ],
      "execution_count": 28,
      "outputs": []
    },
    {
      "cell_type": "code",
      "metadata": {
        "colab": {
          "base_uri": "https://localhost:8080/",
          "height": 235
        },
        "id": "2Eh-oZVIaFQC",
        "outputId": "6426d97a-3bd1-436b-dfad-801473d85c53"
      },
      "source": [
        "dataset_UK.tail()"
      ],
      "execution_count": 29,
      "outputs": [
        {
          "output_type": "execute_result",
          "data": {
            "text/html": [
              "<div>\n",
              "<style scoped>\n",
              "    .dataframe tbody tr th:only-of-type {\n",
              "        vertical-align: middle;\n",
              "    }\n",
              "\n",
              "    .dataframe tbody tr th {\n",
              "        vertical-align: top;\n",
              "    }\n",
              "\n",
              "    .dataframe thead th {\n",
              "        text-align: right;\n",
              "    }\n",
              "</style>\n",
              "<table border=\"1\" class=\"dataframe\">\n",
              "  <thead>\n",
              "    <tr style=\"text-align: right;\">\n",
              "      <th></th>\n",
              "      <th>new_cases</th>\n",
              "      <th>reproduction_rate</th>\n",
              "      <th>icu_patients</th>\n",
              "      <th>hosp_patients</th>\n",
              "      <th>new_tests</th>\n",
              "      <th>positive_rate</th>\n",
              "      <th>people_vaccinated</th>\n",
              "      <th>people_fully_vaccinated</th>\n",
              "      <th>new_vaccinations</th>\n",
              "      <th>Lockdown</th>\n",
              "      <th>Variant</th>\n",
              "      <th>Vaccine</th>\n",
              "      <th>Mortality_Rate</th>\n",
              "    </tr>\n",
              "    <tr>\n",
              "      <th>date</th>\n",
              "      <th></th>\n",
              "      <th></th>\n",
              "      <th></th>\n",
              "      <th></th>\n",
              "      <th></th>\n",
              "      <th></th>\n",
              "      <th></th>\n",
              "      <th></th>\n",
              "      <th></th>\n",
              "      <th></th>\n",
              "      <th></th>\n",
              "      <th></th>\n",
              "      <th></th>\n",
              "    </tr>\n",
              "  </thead>\n",
              "  <tbody>\n",
              "    <tr>\n",
              "      <th>2021-07-07</th>\n",
              "      <td>32061.0</td>\n",
              "      <td>1.31</td>\n",
              "      <td>417.0</td>\n",
              "      <td>2651.0</td>\n",
              "      <td>1237992.0</td>\n",
              "      <td>0.024</td>\n",
              "      <td>45601445.0</td>\n",
              "      <td>34198779.0</td>\n",
              "      <td>258430.0</td>\n",
              "      <td>0</td>\n",
              "      <td>2</td>\n",
              "      <td>1</td>\n",
              "      <td>4.861090e-07</td>\n",
              "    </tr>\n",
              "    <tr>\n",
              "      <th>2021-07-08</th>\n",
              "      <td>32096.0</td>\n",
              "      <td>1.30</td>\n",
              "      <td>417.0</td>\n",
              "      <td>2736.0</td>\n",
              "      <td>1114234.0</td>\n",
              "      <td>0.025</td>\n",
              "      <td>45697875.0</td>\n",
              "      <td>34374246.0</td>\n",
              "      <td>271897.0</td>\n",
              "      <td>0</td>\n",
              "      <td>2</td>\n",
              "      <td>1</td>\n",
              "      <td>5.303008e-07</td>\n",
              "    </tr>\n",
              "    <tr>\n",
              "      <th>2021-07-09</th>\n",
              "      <td>35885.0</td>\n",
              "      <td>1.30</td>\n",
              "      <td>437.0</td>\n",
              "      <td>2907.0</td>\n",
              "      <td>889492.0</td>\n",
              "      <td>0.026</td>\n",
              "      <td>45787958.0</td>\n",
              "      <td>34553065.0</td>\n",
              "      <td>268902.0</td>\n",
              "      <td>0</td>\n",
              "      <td>2</td>\n",
              "      <td>1</td>\n",
              "      <td>4.419173e-07</td>\n",
              "    </tr>\n",
              "    <tr>\n",
              "      <th>2021-07-10</th>\n",
              "      <td>31835.0</td>\n",
              "      <td>1.30</td>\n",
              "      <td>448.0</td>\n",
              "      <td>2999.0</td>\n",
              "      <td>733853.0</td>\n",
              "      <td>0.027</td>\n",
              "      <td>45881721.0</td>\n",
              "      <td>34764511.0</td>\n",
              "      <td>305209.0</td>\n",
              "      <td>0</td>\n",
              "      <td>2</td>\n",
              "      <td>1</td>\n",
              "      <td>5.008396e-07</td>\n",
              "    </tr>\n",
              "    <tr>\n",
              "      <th>2021-07-11</th>\n",
              "      <td>31382.0</td>\n",
              "      <td>1.31</td>\n",
              "      <td>454.0</td>\n",
              "      <td>3142.0</td>\n",
              "      <td>1118189.0</td>\n",
              "      <td>0.028</td>\n",
              "      <td>45923721.0</td>\n",
              "      <td>34872131.0</td>\n",
              "      <td>149620.0</td>\n",
              "      <td>0</td>\n",
              "      <td>2</td>\n",
              "      <td>1</td>\n",
              "      <td>3.829950e-07</td>\n",
              "    </tr>\n",
              "  </tbody>\n",
              "</table>\n",
              "</div>"
            ],
            "text/plain": [
              "            new_cases  reproduction_rate  ...  Vaccine  Mortality_Rate\n",
              "date                                      ...                         \n",
              "2021-07-07    32061.0               1.31  ...        1    4.861090e-07\n",
              "2021-07-08    32096.0               1.30  ...        1    5.303008e-07\n",
              "2021-07-09    35885.0               1.30  ...        1    4.419173e-07\n",
              "2021-07-10    31835.0               1.30  ...        1    5.008396e-07\n",
              "2021-07-11    31382.0               1.31  ...        1    3.829950e-07\n",
              "\n",
              "[5 rows x 13 columns]"
            ]
          },
          "metadata": {
            "tags": []
          },
          "execution_count": 29
        }
      ]
    },
    {
      "cell_type": "code",
      "metadata": {
        "id": "6bEKUUA5aJai"
      },
      "source": [
        "check = check[check[\"location\"] == \"United Kingdom\"]"
      ],
      "execution_count": 30,
      "outputs": []
    },
    {
      "cell_type": "code",
      "metadata": {
        "colab": {
          "base_uri": "https://localhost:8080/"
        },
        "id": "8Bp4espoaiA9",
        "outputId": "11ee2406-5e0b-46dd-9536-52a4896f5bf4"
      },
      "source": [
        "check[\"gdp_per_capita\"]"
      ],
      "execution_count": 31,
      "outputs": [
        {
          "output_type": "execute_result",
          "data": {
            "text/plain": [
              "96578    39753.244\n",
              "96579    39753.244\n",
              "96580    39753.244\n",
              "96581    39753.244\n",
              "96582    39753.244\n",
              "           ...    \n",
              "97104    39753.244\n",
              "97105    39753.244\n",
              "97106    39753.244\n",
              "97107    39753.244\n",
              "97108    39753.244\n",
              "Name: gdp_per_capita, Length: 531, dtype: float64"
            ]
          },
          "metadata": {
            "tags": []
          },
          "execution_count": 31
        }
      ]
    },
    {
      "cell_type": "code",
      "metadata": {
        "id": "up-sA0-Maras"
      },
      "source": [
        "dataset_UK[\"GDP_PER_CAPITA\"] = 39753.244"
      ],
      "execution_count": 32,
      "outputs": []
    },
    {
      "cell_type": "code",
      "metadata": {
        "id": "foXc0vXSa3_0"
      },
      "source": [
        ""
      ],
      "execution_count": 32,
      "outputs": []
    },
    {
      "cell_type": "code",
      "metadata": {
        "id": "AcSvcKQya5hM"
      },
      "source": [
        "features = [\"new_cases\", \"reproduction_rate\", \"icu_patients\", \"hosp_patients\", \"new_tests\", \"positive_rate\", \"people_vaccinated\", \"people_fully_vaccinated\", \n",
        "            \"new_vaccinations\", \"Lockdown\", \"Variant\", \"Vaccine\", \"GDP_PER_CAPITA\",  \"Population\", \"Mortality_Rate\"]"
      ],
      "execution_count": 33,
      "outputs": []
    },
    {
      "cell_type": "code",
      "metadata": {
        "id": "vqbE0VvnmjX_"
      },
      "source": [
        "dataset_UK[\"Population\"] =  67886004.0"
      ],
      "execution_count": 34,
      "outputs": []
    },
    {
      "cell_type": "code",
      "metadata": {
        "id": "pZTIHsJDa-vq"
      },
      "source": [
        "dataset_UK = dataset_UK[features]"
      ],
      "execution_count": 35,
      "outputs": []
    },
    {
      "cell_type": "code",
      "metadata": {
        "colab": {
          "base_uri": "https://localhost:8080/",
          "height": 235
        },
        "id": "v2T4nT1QbBdq",
        "outputId": "dbf826ea-6707-400c-84b1-a225a808c8c3"
      },
      "source": [
        "dataset_UK.head()"
      ],
      "execution_count": 36,
      "outputs": [
        {
          "output_type": "execute_result",
          "data": {
            "text/html": [
              "<div>\n",
              "<style scoped>\n",
              "    .dataframe tbody tr th:only-of-type {\n",
              "        vertical-align: middle;\n",
              "    }\n",
              "\n",
              "    .dataframe tbody tr th {\n",
              "        vertical-align: top;\n",
              "    }\n",
              "\n",
              "    .dataframe thead th {\n",
              "        text-align: right;\n",
              "    }\n",
              "</style>\n",
              "<table border=\"1\" class=\"dataframe\">\n",
              "  <thead>\n",
              "    <tr style=\"text-align: right;\">\n",
              "      <th></th>\n",
              "      <th>new_cases</th>\n",
              "      <th>reproduction_rate</th>\n",
              "      <th>icu_patients</th>\n",
              "      <th>hosp_patients</th>\n",
              "      <th>new_tests</th>\n",
              "      <th>positive_rate</th>\n",
              "      <th>people_vaccinated</th>\n",
              "      <th>people_fully_vaccinated</th>\n",
              "      <th>new_vaccinations</th>\n",
              "      <th>Lockdown</th>\n",
              "      <th>Variant</th>\n",
              "      <th>Vaccine</th>\n",
              "      <th>GDP_PER_CAPITA</th>\n",
              "      <th>Population</th>\n",
              "      <th>Mortality_Rate</th>\n",
              "    </tr>\n",
              "    <tr>\n",
              "      <th>date</th>\n",
              "      <th></th>\n",
              "      <th></th>\n",
              "      <th></th>\n",
              "      <th></th>\n",
              "      <th></th>\n",
              "      <th></th>\n",
              "      <th></th>\n",
              "      <th></th>\n",
              "      <th></th>\n",
              "      <th></th>\n",
              "      <th></th>\n",
              "      <th></th>\n",
              "      <th></th>\n",
              "      <th></th>\n",
              "      <th></th>\n",
              "    </tr>\n",
              "  </thead>\n",
              "  <tbody>\n",
              "    <tr>\n",
              "      <th>2020-05-01</th>\n",
              "      <td>4730.0</td>\n",
              "      <td>0.94</td>\n",
              "      <td>2178.0</td>\n",
              "      <td>14723.0</td>\n",
              "      <td>74142.0</td>\n",
              "      <td>0.088</td>\n",
              "      <td>0.0</td>\n",
              "      <td>0.0</td>\n",
              "      <td>0.0</td>\n",
              "      <td>0</td>\n",
              "      <td>0</td>\n",
              "      <td>0</td>\n",
              "      <td>39753.244</td>\n",
              "      <td>67886004.0</td>\n",
              "      <td>0.000010</td>\n",
              "    </tr>\n",
              "    <tr>\n",
              "      <th>2020-05-02</th>\n",
              "      <td>3230.0</td>\n",
              "      <td>0.91</td>\n",
              "      <td>2068.0</td>\n",
              "      <td>14380.0</td>\n",
              "      <td>63559.0</td>\n",
              "      <td>0.079</td>\n",
              "      <td>0.0</td>\n",
              "      <td>0.0</td>\n",
              "      <td>0.0</td>\n",
              "      <td>0</td>\n",
              "      <td>0</td>\n",
              "      <td>0</td>\n",
              "      <td>39753.244</td>\n",
              "      <td>67886004.0</td>\n",
              "      <td>0.000009</td>\n",
              "    </tr>\n",
              "    <tr>\n",
              "      <th>2020-05-03</th>\n",
              "      <td>2977.0</td>\n",
              "      <td>0.87</td>\n",
              "      <td>2009.0</td>\n",
              "      <td>14188.0</td>\n",
              "      <td>68203.0</td>\n",
              "      <td>0.071</td>\n",
              "      <td>0.0</td>\n",
              "      <td>0.0</td>\n",
              "      <td>0.0</td>\n",
              "      <td>0</td>\n",
              "      <td>0</td>\n",
              "      <td>0</td>\n",
              "      <td>39753.244</td>\n",
              "      <td>67886004.0</td>\n",
              "      <td>0.000004</td>\n",
              "    </tr>\n",
              "    <tr>\n",
              "      <th>2020-05-04</th>\n",
              "      <td>3383.0</td>\n",
              "      <td>0.82</td>\n",
              "      <td>1936.0</td>\n",
              "      <td>14097.0</td>\n",
              "      <td>72630.0</td>\n",
              "      <td>0.061</td>\n",
              "      <td>0.0</td>\n",
              "      <td>0.0</td>\n",
              "      <td>0.0</td>\n",
              "      <td>0</td>\n",
              "      <td>0</td>\n",
              "      <td>0</td>\n",
              "      <td>39753.244</td>\n",
              "      <td>67886004.0</td>\n",
              "      <td>0.000004</td>\n",
              "    </tr>\n",
              "    <tr>\n",
              "      <th>2020-05-05</th>\n",
              "      <td>3689.0</td>\n",
              "      <td>0.81</td>\n",
              "      <td>1874.0</td>\n",
              "      <td>13723.0</td>\n",
              "      <td>66919.0</td>\n",
              "      <td>0.057</td>\n",
              "      <td>0.0</td>\n",
              "      <td>0.0</td>\n",
              "      <td>0.0</td>\n",
              "      <td>0</td>\n",
              "      <td>0</td>\n",
              "      <td>0</td>\n",
              "      <td>39753.244</td>\n",
              "      <td>67886004.0</td>\n",
              "      <td>0.000011</td>\n",
              "    </tr>\n",
              "  </tbody>\n",
              "</table>\n",
              "</div>"
            ],
            "text/plain": [
              "            new_cases  reproduction_rate  ...  Population  Mortality_Rate\n",
              "date                                      ...                            \n",
              "2020-05-01     4730.0               0.94  ...  67886004.0        0.000010\n",
              "2020-05-02     3230.0               0.91  ...  67886004.0        0.000009\n",
              "2020-05-03     2977.0               0.87  ...  67886004.0        0.000004\n",
              "2020-05-04     3383.0               0.82  ...  67886004.0        0.000004\n",
              "2020-05-05     3689.0               0.81  ...  67886004.0        0.000011\n",
              "\n",
              "[5 rows x 15 columns]"
            ]
          },
          "metadata": {
            "tags": []
          },
          "execution_count": 36
        }
      ]
    },
    {
      "cell_type": "code",
      "metadata": {
        "colab": {
          "base_uri": "https://localhost:8080/"
        },
        "id": "Z_njqZMXbClC",
        "outputId": "83085317-51db-47a4-9272-7997705bce96"
      },
      "source": [
        "len(dataset_UK)"
      ],
      "execution_count": 37,
      "outputs": [
        {
          "output_type": "execute_result",
          "data": {
            "text/plain": [
              "437"
            ]
          },
          "metadata": {
            "tags": []
          },
          "execution_count": 37
        }
      ]
    },
    {
      "cell_type": "code",
      "metadata": {
        "colab": {
          "base_uri": "https://localhost:8080/",
          "height": 482
        },
        "id": "qyko6GcWbC_a",
        "outputId": "c86270a4-84ae-4a87-8399-a9670506975f"
      },
      "source": [
        "\n",
        "train = dataset_UK[ : 380]\n",
        "test = dataset_UK[380 : ]\n",
        "\n",
        "features = [\"Population\", \"Mortality_Rate\"]\n",
        "\n",
        "train = train[features]\n",
        "test = test[features]\n",
        "\n",
        "X_train = train.iloc[ : ,  : -1]\n",
        "Y_train = train.iloc[ : , -1 : ]\n",
        "\n",
        "X_test = test.iloc[ : ,  : -1]\n",
        "Y_test = test.iloc[ : , -1 : ]\n",
        "\n",
        "sc = StandardScaler()\n",
        "X_train = sc.fit_transform(X_train)\n",
        "X_test = sc.fit_transform(X_test)\n",
        "Y_train = sc.fit_transform(Y_train)\n",
        "Y_test = sc.fit_transform(Y_test)\n",
        "\n",
        "estimators = [\n",
        "             # (\"knn\", KNeighborsRegressor(n_neighbors = 44)),\n",
        "              #(\"xgb\", xgb.XGBRegressor(random_state = SEED)),\n",
        "              (\"lasso\", Lasso(alpha = 1))\n",
        "\n",
        "]\n",
        "\n",
        "reg = StackingRegressor(\n",
        "    estimators = estimators ,\n",
        "    #final_estimator = KNeighborsRegressor(n_neighbors = 10)\n",
        ")\n",
        "\n",
        "reg.fit(X_train, Y_train)\n",
        "predict = reg.predict(X_test)\n",
        "\n",
        "r2 = r2_score(Y_test, predict)\n",
        "mae = mean_absolute_error(Y_test, predict)\n",
        "mse = mean_squared_error(Y_test, predict)\n",
        "print(\"------------------------------------------------\")\n",
        "print(\"------------------------------------------------\")\n",
        "print(\"------------------------------------------------\")\n",
        "print(\"------------------------------------------------\")\n",
        "print(f\"The r2 score is : {r2}\")\n",
        "print(f\"The Mean absolute error is : {mae}\")\n",
        "print(f\"The Mean squared error score is : {mse}\")\n",
        "print(\"------------------------------------------------\")\n",
        "print(\"------------------------------------------------\")\n",
        "print(\"------------------------------------------------\")\n",
        "print(\"------------------------------------------------\")\n",
        "\n",
        "plt.scatter(predict, Y_test)"
      ],
      "execution_count": 38,
      "outputs": [
        {
          "output_type": "stream",
          "text": [
            "------------------------------------------------\n",
            "------------------------------------------------\n",
            "------------------------------------------------\n",
            "------------------------------------------------\n",
            "The r2 score is : 2.220446049250313e-16\n",
            "The Mean absolute error is : 0.810722961639796\n",
            "The Mean squared error score is : 1.0\n",
            "------------------------------------------------\n",
            "------------------------------------------------\n",
            "------------------------------------------------\n",
            "------------------------------------------------\n"
          ],
          "name": "stdout"
        },
        {
          "output_type": "execute_result",
          "data": {
            "text/plain": [
              "<matplotlib.collections.PathCollection at 0x7f3895625b50>"
            ]
          },
          "metadata": {
            "tags": []
          },
          "execution_count": 38
        },
        {
          "output_type": "display_data",
          "data": {
            "image/png": "[encoded data removed]",
            "text/plain": [
              "<Figure size 432x288 with 1 Axes>"
            ]
          },
          "metadata": {
            "tags": [],
            "needs_background": "light"
          }
        }
      ]
    },
    {
      "cell_type": "code",
      "metadata": {
        "id": "c0S-bQonbDBe"
      },
      "source": [
        "a = [0.0025, -0.03, 0.04, 0.07,-0.02, 0.03, 0.0032, 0.0, -0.0015, 0.024, 0.00211]\n",
        "b = [\"New cases\", \"Reproduction Rate\", \"ICU patients\", \"Hospital Patients\", \"New tests\", \"Positive rate\", \"People vaccinated\", \"People fully vaccinated\", \"New vaccinations\", \"GDP per capita\", \"Population\"]"
      ],
      "execution_count": 39,
      "outputs": []
    },
    {
      "cell_type": "code",
      "metadata": {
        "colab": {
          "base_uri": "https://localhost:8080/"
        },
        "id": "dOycnj0hfNqw",
        "outputId": "c718450a-2bc8-4f2c-d904-33dda9d097c2"
      },
      "source": [
        "a = -4.6631374139849413e-07\n",
        "a.as_integer_ratio()"
      ],
      "execution_count": 40,
      "outputs": [
        {
          "output_type": "execute_result",
          "data": {
            "text/plain": [
              "(-262511299, 562949953421312)"
            ]
          },
          "metadata": {
            "tags": []
          },
          "execution_count": 40
        }
      ]
    },
    {
      "cell_type": "code",
      "metadata": {
        "colab": {
          "base_uri": "https://localhost:8080/"
        },
        "id": "GBQbZAUNfaRk",
        "outputId": "9d893f40-c91c-426c-e126-c3a7bf350441"
      },
      "source": [
        "-262511299/562949953421312"
      ],
      "execution_count": 41,
      "outputs": [
        {
          "output_type": "execute_result",
          "data": {
            "text/plain": [
              "-4.6631374139849413e-07"
            ]
          },
          "metadata": {
            "tags": []
          },
          "execution_count": 41
        }
      ]
    },
    {
      "cell_type": "code",
      "metadata": {
        "colab": {
          "base_uri": "https://localhost:8080/",
          "height": 482
        },
        "id": "2vy7Q-7YfcDY",
        "outputId": "79b147a5-dbf8-42f6-acc2-c202f64e15b8"
      },
      "source": [
        "\n",
        "train = dataset_UK[ : 400]\n",
        "test = dataset_UK[400 : ]\n",
        "\n",
        "features = [\"reproduction_rate\", \"Mortality_Rate\"]\n",
        "\n",
        "train = train[features]\n",
        "test = test[features]\n",
        "\n",
        "X_train = train.iloc[ : ,  : -1]\n",
        "Y_train = train.iloc[ : , -1 : ]\n",
        "\n",
        "X_test = test.iloc[ : ,  : -1]\n",
        "Y_test = test.iloc[ : , -1 : ]\n",
        "\n",
        "sc = StandardScaler()\n",
        "X_train = sc.fit_transform(X_train)\n",
        "X_test = sc.fit_transform(X_test)\n",
        "Y_train = sc.fit_transform(Y_train)\n",
        "Y_test = sc.fit_transform(Y_test)\n",
        "\n",
        "estimators = [\n",
        "             # (\"knn\", KNeighborsRegressor(n_neighbors = 44)),\n",
        "              #(\"xgb\", xgb.XGBRegressor(random_state = SEED)),\n",
        "              (\"lasso\", Lasso(alpha = 1))\n",
        "\n",
        "]\n",
        "\n",
        "reg = StackingRegressor(\n",
        "    estimators = estimators ,\n",
        "    #final_estimator = KNeighborsRegressor(n_neighbors = 10)\n",
        ")\n",
        "\n",
        "reg.fit(X_train, Y_train)\n",
        "predict = reg.predict(X_test)\n",
        "\n",
        "r2 = r2_score(Y_test, predict)\n",
        "mae = mean_absolute_error(Y_test, predict)\n",
        "mse = mean_squared_error(Y_test, predict)\n",
        "print(\"------------------------------------------------\")\n",
        "print(\"------------------------------------------------\")\n",
        "print(\"------------------------------------------------\")\n",
        "print(\"------------------------------------------------\")\n",
        "print(f\"The r2 score is : {r2}\")\n",
        "print(f\"The Mean absolute error is : {mae}\")\n",
        "print(f\"The Mean squared error score is : {mse}\")\n",
        "print(\"------------------------------------------------\")\n",
        "print(\"------------------------------------------------\")\n",
        "print(\"------------------------------------------------\")\n",
        "print(\"------------------------------------------------\")\n",
        "\n",
        "plt.scatter(predict, Y_test)"
      ],
      "execution_count": 42,
      "outputs": [
        {
          "output_type": "stream",
          "text": [
            "------------------------------------------------\n",
            "------------------------------------------------\n",
            "------------------------------------------------\n",
            "------------------------------------------------\n",
            "The r2 score is : 0.0\n",
            "The Mean absolute error is : 0.8367798186728023\n",
            "The Mean squared error score is : 0.9999999999999998\n",
            "------------------------------------------------\n",
            "------------------------------------------------\n",
            "------------------------------------------------\n",
            "------------------------------------------------\n"
          ],
          "name": "stdout"
        },
        {
          "output_type": "execute_result",
          "data": {
            "text/plain": [
              "<matplotlib.collections.PathCollection at 0x7f38879bef10>"
            ]
          },
          "metadata": {
            "tags": []
          },
          "execution_count": 42
        },
        {
          "output_type": "display_data",
          "data": {
            "image/png": "[encoded data removed]",
            "text/plain": [
              "<Figure size 432x288 with 1 Axes>"
            ]
          },
          "metadata": {
            "tags": [],
            "needs_background": "light"
          }
        }
      ]
    },
    {
      "cell_type": "code",
      "metadata": {
        "colab": {
          "base_uri": "https://localhost:8080/",
          "height": 450
        },
        "id": "QADUnNGKfm1O",
        "outputId": "a4c8d1e4-05a9-4385-8e83-d15d65d0db0e"
      },
      "source": [
        "dataset_UK"
      ],
      "execution_count": 43,
      "outputs": [
        {
          "output_type": "execute_result",
          "data": {
            "text/html": [
              "<div>\n",
              "<style scoped>\n",
              "    .dataframe tbody tr th:only-of-type {\n",
              "        vertical-align: middle;\n",
              "    }\n",
              "\n",
              "    .dataframe tbody tr th {\n",
              "        vertical-align: top;\n",
              "    }\n",
              "\n",
              "    .dataframe thead th {\n",
              "        text-align: right;\n",
              "    }\n",
              "</style>\n",
              "<table border=\"1\" class=\"dataframe\">\n",
              "  <thead>\n",
              "    <tr style=\"text-align: right;\">\n",
              "      <th></th>\n",
              "      <th>new_cases</th>\n",
              "      <th>reproduction_rate</th>\n",
              "      <th>icu_patients</th>\n",
              "      <th>hosp_patients</th>\n",
              "      <th>new_tests</th>\n",
              "      <th>positive_rate</th>\n",
              "      <th>people_vaccinated</th>\n",
              "      <th>people_fully_vaccinated</th>\n",
              "      <th>new_vaccinations</th>\n",
              "      <th>Lockdown</th>\n",
              "      <th>Variant</th>\n",
              "      <th>Vaccine</th>\n",
              "      <th>GDP_PER_CAPITA</th>\n",
              "      <th>Population</th>\n",
              "      <th>Mortality_Rate</th>\n",
              "    </tr>\n",
              "    <tr>\n",
              "      <th>date</th>\n",
              "      <th></th>\n",
              "      <th></th>\n",
              "      <th></th>\n",
              "      <th></th>\n",
              "      <th></th>\n",
              "      <th></th>\n",
              "      <th></th>\n",
              "      <th></th>\n",
              "      <th></th>\n",
              "      <th></th>\n",
              "      <th></th>\n",
              "      <th></th>\n",
              "      <th></th>\n",
              "      <th></th>\n",
              "      <th></th>\n",
              "    </tr>\n",
              "  </thead>\n",
              "  <tbody>\n",
              "    <tr>\n",
              "      <th>2020-05-01</th>\n",
              "      <td>4730.0</td>\n",
              "      <td>0.94</td>\n",
              "      <td>2178.0</td>\n",
              "      <td>14723.0</td>\n",
              "      <td>74142.0</td>\n",
              "      <td>0.088</td>\n",
              "      <td>0.0</td>\n",
              "      <td>0.0</td>\n",
              "      <td>0.0</td>\n",
              "      <td>0</td>\n",
              "      <td>0</td>\n",
              "      <td>0</td>\n",
              "      <td>39753.244</td>\n",
              "      <td>67886004.0</td>\n",
              "      <td>1.031140e-05</td>\n",
              "    </tr>\n",
              "    <tr>\n",
              "      <th>2020-05-02</th>\n",
              "      <td>3230.0</td>\n",
              "      <td>0.91</td>\n",
              "      <td>2068.0</td>\n",
              "      <td>14380.0</td>\n",
              "      <td>63559.0</td>\n",
              "      <td>0.079</td>\n",
              "      <td>0.0</td>\n",
              "      <td>0.0</td>\n",
              "      <td>0.0</td>\n",
              "      <td>0</td>\n",
              "      <td>0</td>\n",
              "      <td>0</td>\n",
              "      <td>39753.244</td>\n",
              "      <td>67886004.0</td>\n",
              "      <td>8.617387e-06</td>\n",
              "    </tr>\n",
              "    <tr>\n",
              "      <th>2020-05-03</th>\n",
              "      <td>2977.0</td>\n",
              "      <td>0.87</td>\n",
              "      <td>2009.0</td>\n",
              "      <td>14188.0</td>\n",
              "      <td>68203.0</td>\n",
              "      <td>0.071</td>\n",
              "      <td>0.0</td>\n",
              "      <td>0.0</td>\n",
              "      <td>0.0</td>\n",
              "      <td>0</td>\n",
              "      <td>0</td>\n",
              "      <td>0</td>\n",
              "      <td>39753.244</td>\n",
              "      <td>67886004.0</td>\n",
              "      <td>3.726836e-06</td>\n",
              "    </tr>\n",
              "    <tr>\n",
              "      <th>2020-05-04</th>\n",
              "      <td>3383.0</td>\n",
              "      <td>0.82</td>\n",
              "      <td>1936.0</td>\n",
              "      <td>14097.0</td>\n",
              "      <td>72630.0</td>\n",
              "      <td>0.061</td>\n",
              "      <td>0.0</td>\n",
              "      <td>0.0</td>\n",
              "      <td>0.0</td>\n",
              "      <td>0</td>\n",
              "      <td>0</td>\n",
              "      <td>0</td>\n",
              "      <td>39753.244</td>\n",
              "      <td>67886004.0</td>\n",
              "      <td>4.021447e-06</td>\n",
              "    </tr>\n",
              "    <tr>\n",
              "      <th>2020-05-05</th>\n",
              "      <td>3689.0</td>\n",
              "      <td>0.81</td>\n",
              "      <td>1874.0</td>\n",
              "      <td>13723.0</td>\n",
              "      <td>66919.0</td>\n",
              "      <td>0.057</td>\n",
              "      <td>0.0</td>\n",
              "      <td>0.0</td>\n",
              "      <td>0.0</td>\n",
              "      <td>0</td>\n",
              "      <td>0</td>\n",
              "      <td>0</td>\n",
              "      <td>39753.244</td>\n",
              "      <td>67886004.0</td>\n",
              "      <td>1.067967e-05</td>\n",
              "    </tr>\n",
              "    <tr>\n",
              "      <th>...</th>\n",
              "      <td>...</td>\n",
              "      <td>...</td>\n",
              "      <td>...</td>\n",
              "      <td>...</td>\n",
              "      <td>...</td>\n",
              "      <td>...</td>\n",
              "      <td>...</td>\n",
              "      <td>...</td>\n",
              "      <td>...</td>\n",
              "      <td>...</td>\n",
              "      <td>...</td>\n",
              "      <td>...</td>\n",
              "      <td>...</td>\n",
              "      <td>...</td>\n",
              "      <td>...</td>\n",
              "    </tr>\n",
              "    <tr>\n",
              "      <th>2021-07-07</th>\n",
              "      <td>32061.0</td>\n",
              "      <td>1.31</td>\n",
              "      <td>417.0</td>\n",
              "      <td>2651.0</td>\n",
              "      <td>1237992.0</td>\n",
              "      <td>0.024</td>\n",
              "      <td>45601445.0</td>\n",
              "      <td>34198779.0</td>\n",
              "      <td>258430.0</td>\n",
              "      <td>0</td>\n",
              "      <td>2</td>\n",
              "      <td>1</td>\n",
              "      <td>39753.244</td>\n",
              "      <td>67886004.0</td>\n",
              "      <td>4.861090e-07</td>\n",
              "    </tr>\n",
              "    <tr>\n",
              "      <th>2021-07-08</th>\n",
              "      <td>32096.0</td>\n",
              "      <td>1.30</td>\n",
              "      <td>417.0</td>\n",
              "      <td>2736.0</td>\n",
              "      <td>1114234.0</td>\n",
              "      <td>0.025</td>\n",
              "      <td>45697875.0</td>\n",
              "      <td>34374246.0</td>\n",
              "      <td>271897.0</td>\n",
              "      <td>0</td>\n",
              "      <td>2</td>\n",
              "      <td>1</td>\n",
              "      <td>39753.244</td>\n",
              "      <td>67886004.0</td>\n",
              "      <td>5.303008e-07</td>\n",
              "    </tr>\n",
              "    <tr>\n",
              "      <th>2021-07-09</th>\n",
              "      <td>35885.0</td>\n",
              "      <td>1.30</td>\n",
              "      <td>437.0</td>\n",
              "      <td>2907.0</td>\n",
              "      <td>889492.0</td>\n",
              "      <td>0.026</td>\n",
              "      <td>45787958.0</td>\n",
              "      <td>34553065.0</td>\n",
              "      <td>268902.0</td>\n",
              "      <td>0</td>\n",
              "      <td>2</td>\n",
              "      <td>1</td>\n",
              "      <td>39753.244</td>\n",
              "      <td>67886004.0</td>\n",
              "      <td>4.419173e-07</td>\n",
              "    </tr>\n",
              "    <tr>\n",
              "      <th>2021-07-10</th>\n",
              "      <td>31835.0</td>\n",
              "      <td>1.30</td>\n",
              "      <td>448.0</td>\n",
              "      <td>2999.0</td>\n",
              "      <td>733853.0</td>\n",
              "      <td>0.027</td>\n",
              "      <td>45881721.0</td>\n",
              "      <td>34764511.0</td>\n",
              "      <td>305209.0</td>\n",
              "      <td>0</td>\n",
              "      <td>2</td>\n",
              "      <td>1</td>\n",
              "      <td>39753.244</td>\n",
              "      <td>67886004.0</td>\n",
              "      <td>5.008396e-07</td>\n",
              "    </tr>\n",
              "    <tr>\n",
              "      <th>2021-07-11</th>\n",
              "      <td>31382.0</td>\n",
              "      <td>1.31</td>\n",
              "      <td>454.0</td>\n",
              "      <td>3142.0</td>\n",
              "      <td>1118189.0</td>\n",
              "      <td>0.028</td>\n",
              "      <td>45923721.0</td>\n",
              "      <td>34872131.0</td>\n",
              "      <td>149620.0</td>\n",
              "      <td>0</td>\n",
              "      <td>2</td>\n",
              "      <td>1</td>\n",
              "      <td>39753.244</td>\n",
              "      <td>67886004.0</td>\n",
              "      <td>3.829950e-07</td>\n",
              "    </tr>\n",
              "  </tbody>\n",
              "</table>\n",
              "<p>437 rows × 15 columns</p>\n",
              "</div>"
            ],
            "text/plain": [
              "            new_cases  reproduction_rate  ...  Population  Mortality_Rate\n",
              "date                                      ...                            \n",
              "2020-05-01     4730.0               0.94  ...  67886004.0    1.031140e-05\n",
              "2020-05-02     3230.0               0.91  ...  67886004.0    8.617387e-06\n",
              "2020-05-03     2977.0               0.87  ...  67886004.0    3.726836e-06\n",
              "2020-05-04     3383.0               0.82  ...  67886004.0    4.021447e-06\n",
              "2020-05-05     3689.0               0.81  ...  67886004.0    1.067967e-05\n",
              "...               ...                ...  ...         ...             ...\n",
              "2021-07-07    32061.0               1.31  ...  67886004.0    4.861090e-07\n",
              "2021-07-08    32096.0               1.30  ...  67886004.0    5.303008e-07\n",
              "2021-07-09    35885.0               1.30  ...  67886004.0    4.419173e-07\n",
              "2021-07-10    31835.0               1.30  ...  67886004.0    5.008396e-07\n",
              "2021-07-11    31382.0               1.31  ...  67886004.0    3.829950e-07\n",
              "\n",
              "[437 rows x 15 columns]"
            ]
          },
          "metadata": {
            "tags": []
          },
          "execution_count": 43
        }
      ]
    },
    {
      "cell_type": "code",
      "metadata": {
        "colab": {
          "base_uri": "https://localhost:8080/",
          "height": 485
        },
        "id": "-X9sfLuMf2Ht",
        "outputId": "bc2d03e7-981a-49fd-ff49-ba503fc6badd"
      },
      "source": [
        "train = dataset_UK[ : 400]\n",
        "test = dataset_UK[400 : ]\n",
        "\n",
        "features = [\"Vaccine\", \"Mortality_Rate\"]\n",
        "\n",
        "train = train[features]\n",
        "test = test[features]\n",
        "\n",
        "X_train = train.iloc[ : ,  : -1]\n",
        "Y_train = train.iloc[ : , -1 : ]\n",
        "\n",
        "X_test = test.iloc[ : ,  : -1]\n",
        "Y_test = test.iloc[ : , -1 : ]\n",
        "\n",
        "sc = StandardScaler()\n",
        "X_train = sc.fit_transform(X_train)\n",
        "X_test = sc.fit_transform(X_test)\n",
        "Y_train = sc.fit_transform(Y_train)\n",
        "Y_test = sc.fit_transform(Y_test)\n",
        "\n",
        "estimators = [\n",
        "              #(\"knn\", KNeighborsRegressor(n_neighbors = 44)),\n",
        "              #(\"xgb\", xgb.XGBRegressor(random_state = SEED)),\n",
        "              (\"lasso\", Lasso(alpha = 1))\n",
        "\n",
        "]\n",
        "\n",
        "reg = StackingRegressor(\n",
        "    estimators = estimators ,\n",
        "  #  final_estimator = KNeighborsRegressor(n_neighbors = 10)\n",
        ")\n",
        "\n",
        "reg.fit(X_train, Y_train)\n",
        "predict = reg.predict(X_test)\n",
        "\n",
        "r2 = r2_score(Y_test, predict)\n",
        "mae = mean_absolute_error(Y_test, predict)\n",
        "mse = mean_squared_error(Y_test, predict)\n",
        "print(\"------------------------------------------------\")\n",
        "print(\"------------------------------------------------\")\n",
        "print(\"------------------------------------------------\")\n",
        "print(\"------------------------------------------------\")\n",
        "print(f\"The r2 score is : {r2}\")\n",
        "print(f\"The Mean absolute error is : {mae}\")\n",
        "print(f\"The Mean squared error score is : {mse}\")\n",
        "print(\"------------------------------------------------\")\n",
        "print(\"------------------------------------------------\")\n",
        "print(\"------------------------------------------------\")\n",
        "print(\"------------------------------------------------\")\n",
        "\n",
        "plt.scatter(predict, Y_test)\n",
        "plt.title(\"Vaccine\")"
      ],
      "execution_count": 44,
      "outputs": [
        {
          "output_type": "stream",
          "text": [
            "------------------------------------------------\n",
            "------------------------------------------------\n",
            "------------------------------------------------\n",
            "------------------------------------------------\n",
            "The r2 score is : -1.8091268438880093e-06\n",
            "The Mean absolute error is : 0.8368888757965631\n",
            "The Mean squared error score is : 1.0000018091268437\n",
            "------------------------------------------------\n",
            "------------------------------------------------\n",
            "------------------------------------------------\n",
            "------------------------------------------------\n"
          ],
          "name": "stdout"
        },
        {
          "output_type": "execute_result",
          "data": {
            "text/plain": [
              "Text(0.5, 1.0, 'Vaccine')"
            ]
          },
          "metadata": {
            "tags": []
          },
          "execution_count": 44
        },
        {
          "output_type": "display_data",
          "data": {
            "image/png": "[encoded data removed]",
            "text/plain": [
              "<Figure size 432x288 with 1 Axes>"
            ]
          },
          "metadata": {
            "tags": [],
            "needs_background": "light"
          }
        }
      ]
    },
    {
      "cell_type": "code",
      "metadata": {
        "id": "sA4CKNaXf2cE"
      },
      "source": [
        "a = [-0.448477840488116, 0.06208363651735416, 0.3931197129900058, 0.46567331528211864 ,-0.16185721697723876,0.31675936520288284, -0.30533947410537343, -0.893424282470713, -0.1543368221476884, -0.1771739047244627, -0.1771739047244627, -0.13745758649892226, -0.3314571071106014, -0.401488034385443]\n",
        "b = [\"New cases\", \"Reproduction Rate\", \"ICU patients\", \"Hospital Patients\", \"New tests\", \"Positive rate\", \"People vaccinated\", \"People fully vaccinated\", \"New vaccinations\", \"GDP per capita\", \"Population\", \"Lockdown\", \"Variant\", \"Vaccine\"]\n",
        "c = [0.7558059440435333, 0.82877344017137, 0.6124008005366653, 0.6274022578161009, 0.8368714439721661, 0.764981523883939, 0.946662279750325, 0.8466737757705006, 0.8369732670682634, 0.8368064276801915, 0.8328905430725957,0.8368207006419054, 0.8368888757965631 ]\n",
        "d = [0.818959014590692, 0.9661863147926321, 0.6096716257999564, 0.5985923022656644, 1.0041944759203594, 0.8449910899651566, 1.3370653269649777, 1.0294447574093655, 0.9998802061784641, 1.0000001077006406, 1.0023009033518422, 1.0000002542286843, 1.0000018091268437]"
      ],
      "execution_count": 45,
      "outputs": []
    },
    {
      "cell_type": "code",
      "metadata": {
        "colab": {
          "base_uri": "https://localhost:8080/"
        },
        "id": "n4PJk0J84nlu",
        "outputId": "b984a582-a333-4645-9db9-a635d5c3648b"
      },
      "source": [
        "train = dataset_UK[ : 400]\n",
        "test = dataset_UK[400 : ]\n",
        "features = [\"icu_patients\", \"Mortality_Rate\"]\n",
        "train = train[features]\n",
        "test = test[features]\n",
        "X_train = train.iloc[ : ,  : -1]\n",
        "Y_train = train.iloc[ : , -1 : ]\n",
        "X_test = test.iloc[ : ,  : -1]\n",
        "Y_test = test.iloc[ : , -1 : ]\n",
        "sc = StandardScaler()\n",
        "X_train = sc.fit_transform(X_train)\n",
        "X_test = sc.fit_transform(X_test)\n",
        "Y_train = sc.fit_transform(Y_train)\n",
        "Y_test = sc.fit_transform(Y_test)\n",
        "estimators = [\n",
        "              (\"knn\", KNeighborsRegressor(n_neighbors = 44)),\n",
        "              #(\"xgb\", xgb.XGBRegressor(random_state = SEED)),\n",
        "              (\"lasso\", Lasso(alpha = 1))]\n",
        "reg = StackingRegressor(\n",
        "    estimators = estimators ,\n",
        "    final_estimator = KNeighborsRegressor(n_neighbors = 10)\n",
        ")\n",
        "reg.fit(X_train, Y_train)\n",
        "predict = reg.predict(X_test)\n",
        "r2 = r2_score(Y_test, predict)\n",
        "mae = mean_absolute_error(Y_test, predict)\n",
        "mse = mean_squared_error(Y_test, predict)\n",
        "\n",
        "\n",
        "print(f\"The r2 score is : {r2}\")\n",
        "print(f\"The Mean absolute error is : {mae}\")\n",
        "print(f\"The Mean squared error score is : {mse}\")\n",
        "print(\"------------------------------------------------\")"
      ],
      "execution_count": 46,
      "outputs": [
        {
          "output_type": "stream",
          "text": [
            "The r2 score is : 0.3931197129900058\n",
            "The Mean absolute error is : 0.6443812526235317\n",
            "The Mean squared error score is : 0.6068802870099941\n",
            "------------------------------------------------\n"
          ],
          "name": "stdout"
        }
      ]
    },
    {
      "cell_type": "code",
      "metadata": {
        "colab": {
          "base_uri": "https://localhost:8080/"
        },
        "id": "ayXlI-r0R1S_",
        "outputId": "83eb1623-2b0b-47db-bb24-a87d3b8316c3"
      },
      "source": [
        "predict"
      ],
      "execution_count": 47,
      "outputs": [
        {
          "output_type": "execute_result",
          "data": {
            "text/plain": [
              "array([-0.6594313 , -0.6594313 , -0.6594313 , -0.6594313 , -0.6594313 ,\n",
              "       -0.6594313 , -0.6594313 , -0.6594313 , -0.6594313 , -0.6594313 ,\n",
              "       -0.45331423, -0.45331423, -0.45331423, -0.22541009, -0.27242428,\n",
              "       -0.45331423, -0.14141523, -0.02674649, -0.02674649,  0.31955313,\n",
              "        0.18625071,  0.14812336,  0.45113552,  0.33331338,  0.38434098,\n",
              "        0.42734176,  0.33331338,  0.33331338,  0.45801565,  0.55749079,\n",
              "        0.55749079,  0.6022116 ,  0.51649671,  0.51649671,  0.569531  ,\n",
              "        2.3285496 ,  2.3285496 ])"
            ]
          },
          "metadata": {
            "tags": []
          },
          "execution_count": 47
        }
      ]
    },
    {
      "cell_type": "code",
      "metadata": {
        "colab": {
          "base_uri": "https://localhost:8080/",
          "height": 450
        },
        "id": "PWTzDT22Xmic",
        "outputId": "8b253a6c-81b2-4ca2-ac61-20338500ecad"
      },
      "source": [
        "train"
      ],
      "execution_count": 49,
      "outputs": [
        {
          "output_type": "execute_result",
          "data": {
            "text/html": [
              "<div>\n",
              "<style scoped>\n",
              "    .dataframe tbody tr th:only-of-type {\n",
              "        vertical-align: middle;\n",
              "    }\n",
              "\n",
              "    .dataframe tbody tr th {\n",
              "        vertical-align: top;\n",
              "    }\n",
              "\n",
              "    .dataframe thead th {\n",
              "        text-align: right;\n",
              "    }\n",
              "</style>\n",
              "<table border=\"1\" class=\"dataframe\">\n",
              "  <thead>\n",
              "    <tr style=\"text-align: right;\">\n",
              "      <th></th>\n",
              "      <th>icu_patients</th>\n",
              "      <th>Mortality_Rate</th>\n",
              "    </tr>\n",
              "    <tr>\n",
              "      <th>date</th>\n",
              "      <th></th>\n",
              "      <th></th>\n",
              "    </tr>\n",
              "  </thead>\n",
              "  <tbody>\n",
              "    <tr>\n",
              "      <th>2020-05-01</th>\n",
              "      <td>2178.0</td>\n",
              "      <td>1.031140e-05</td>\n",
              "    </tr>\n",
              "    <tr>\n",
              "      <th>2020-05-02</th>\n",
              "      <td>2068.0</td>\n",
              "      <td>8.617387e-06</td>\n",
              "    </tr>\n",
              "    <tr>\n",
              "      <th>2020-05-03</th>\n",
              "      <td>2009.0</td>\n",
              "      <td>3.726836e-06</td>\n",
              "    </tr>\n",
              "    <tr>\n",
              "      <th>2020-05-04</th>\n",
              "      <td>1936.0</td>\n",
              "      <td>4.021447e-06</td>\n",
              "    </tr>\n",
              "    <tr>\n",
              "      <th>2020-05-05</th>\n",
              "      <td>1874.0</td>\n",
              "      <td>1.067967e-05</td>\n",
              "    </tr>\n",
              "    <tr>\n",
              "      <th>...</th>\n",
              "      <td>...</td>\n",
              "      <td>...</td>\n",
              "    </tr>\n",
              "    <tr>\n",
              "      <th>2021-05-31</th>\n",
              "      <td>122.0</td>\n",
              "      <td>2.946115e-08</td>\n",
              "    </tr>\n",
              "    <tr>\n",
              "      <th>2021-06-01</th>\n",
              "      <td>136.0</td>\n",
              "      <td>0.000000e+00</td>\n",
              "    </tr>\n",
              "    <tr>\n",
              "      <th>2021-06-02</th>\n",
              "      <td>129.0</td>\n",
              "      <td>1.767669e-07</td>\n",
              "    </tr>\n",
              "    <tr>\n",
              "      <th>2021-06-03</th>\n",
              "      <td>134.0</td>\n",
              "      <td>2.651504e-07</td>\n",
              "    </tr>\n",
              "    <tr>\n",
              "      <th>2021-06-04</th>\n",
              "      <td>130.0</td>\n",
              "      <td>1.620363e-07</td>\n",
              "    </tr>\n",
              "  </tbody>\n",
              "</table>\n",
              "<p>400 rows × 2 columns</p>\n",
              "</div>"
            ],
            "text/plain": [
              "            icu_patients  Mortality_Rate\n",
              "date                                    \n",
              "2020-05-01        2178.0    1.031140e-05\n",
              "2020-05-02        2068.0    8.617387e-06\n",
              "2020-05-03        2009.0    3.726836e-06\n",
              "2020-05-04        1936.0    4.021447e-06\n",
              "2020-05-05        1874.0    1.067967e-05\n",
              "...                  ...             ...\n",
              "2021-05-31         122.0    2.946115e-08\n",
              "2021-06-01         136.0    0.000000e+00\n",
              "2021-06-02         129.0    1.767669e-07\n",
              "2021-06-03         134.0    2.651504e-07\n",
              "2021-06-04         130.0    1.620363e-07\n",
              "\n",
              "[400 rows x 2 columns]"
            ]
          },
          "metadata": {
            "tags": []
          },
          "execution_count": 49
        }
      ]
    },
    {
      "cell_type": "code",
      "metadata": {
        "id": "-cFKhxtKXp-4",
        "colab": {
          "base_uri": "https://localhost:8080/"
        },
        "outputId": "aed9fc79-25e4-4ea9-a7c1-1503cec72cb7"
      },
      "source": [
        "train = dataset_UK[ : 400]\n",
        "test = dataset_UK[400 : ]\n",
        "\n",
        "X_train = train.iloc[ : ,  : -1]\n",
        "Y_train = train.iloc[ : , -1 : ]\n",
        "X_test = test.iloc[ : ,  : -1]\n",
        "Y_test = test.iloc[ : , -1 : ]\n",
        "sc = StandardScaler()\n",
        "X_train = sc.fit_transform(X_train)\n",
        "X_test = sc.fit_transform(X_test)\n",
        "Y_train = sc.fit_transform(Y_train)\n",
        "Y_test = sc.fit_transform(Y_test)\n",
        "estimators = [\n",
        "              (\"knn\", KNeighborsRegressor(n_neighbors = 44)),\n",
        "              #(\"xgb\", xgb.XGBRegressor(random_state = SEED)),\n",
        "              (\"lasso\", Lasso(alpha = 1))]\n",
        "reg = StackingRegressor(\n",
        "    estimators = estimators ,\n",
        "    final_estimator = KNeighborsRegressor(n_neighbors = 10)\n",
        ")\n",
        "reg.fit(X_train, Y_train)\n",
        "predict = reg.predict(X_test)\n",
        "\n",
        "\n",
        "r2 = r2_score(Y_test, predict)\n",
        "mae = mean_absolute_error(Y_test, predict)\n",
        "mse = mean_squared_error(Y_test, predict)\n",
        "print(\"------------------------------------------------\")\n",
        "print(f\"The r2 score is : {r2}\")\n",
        "print(f\"The Mean absolute error is : {mae}\")\n",
        "print(f\"The Mean squared error score is : {mse}\")\n",
        "print(\"------------------------------------------------\")"
      ],
      "execution_count": 55,
      "outputs": [
        {
          "output_type": "stream",
          "text": [
            "------------------------------------------------\n",
            "The r2 score is : 0.24137591963978544\n",
            "The Mean absolute error is : 0.7011641882846458\n",
            "The Mean squared error score is : 0.7586240803602143\n",
            "------------------------------------------------\n"
          ],
          "name": "stdout"
        }
      ]
    },
    {
      "cell_type": "code",
      "metadata": {
        "colab": {
          "base_uri": "https://localhost:8080/",
          "height": 282
        },
        "id": "QLYOojgO46Ps",
        "outputId": "bd8185f5-a796-46a2-ac11-f363baaa42d3"
      },
      "source": [
        "plt.scatter(predict, Y_test)"
      ],
      "execution_count": 54,
      "outputs": [
        {
          "output_type": "execute_result",
          "data": {
            "text/plain": [
              "<matplotlib.collections.PathCollection at 0x7f38874fd490>"
            ]
          },
          "metadata": {
            "tags": []
          },
          "execution_count": 54
        },
        {
          "output_type": "display_data",
          "data": {
            "image/png": "[encoded data removed]",
            "text/plain": [
              "<Figure size 432x288 with 1 Axes>"
            ]
          },
          "metadata": {
            "tags": [],
            "needs_background": "light"
          }
        }
      ]
    },
    {
      "cell_type": "code",
      "metadata": {
        "colab": {
          "base_uri": "https://localhost:8080/"
        },
        "id": "fNZK57iO5J49",
        "outputId": "6c63c2e8-3252-4cb9-afc1-535006964003"
      },
      "source": [
        "train = dataset_UK[ : 400]\n",
        "test = dataset_UK[400 : ]\n",
        "\n",
        "features = [\"icu_patients\", \"hosp_patients\", \"positive_rate\", \"reproduction_rate\", \"Mortality_Rate\"]\n",
        "train = train[features]\n",
        "test = test[features]\n",
        "\n",
        "\n",
        "X_train = train.iloc[ : ,  : -1]\n",
        "Y_train = train.iloc[ : , -1 : ]\n",
        "X_test = test.iloc[ : ,  : -1]\n",
        "Y_test = test.iloc[ : , -1 : ]\n",
        "sc = StandardScaler()\n",
        "X_train = sc.fit_transform(X_train)\n",
        "X_test = sc.fit_transform(X_test)\n",
        "Y_train = sc.fit_transform(Y_train)\n",
        "Y_test = sc.fit_transform(Y_test)\n",
        "estimators = [\n",
        "              (\"knn\", KNeighborsRegressor(n_neighbors = 44)),\n",
        "              #(\"xgb\", xgb.XGBRegressor(random_state = SEED)),\n",
        "              (\"lasso\", Lasso(alpha = 1))]\n",
        "reg = StackingRegressor(\n",
        "    estimators = estimators ,\n",
        "    final_estimator = KNeighborsRegressor(n_neighbors = 10)\n",
        ")\n",
        "reg.fit(X_train, Y_train)\n",
        "predict = reg.predict(X_test)\n",
        "\n",
        "\n",
        "r2 = r2_score(Y_test, predict)\n",
        "mae = mean_absolute_error(Y_test, predict)\n",
        "mse = mean_squared_error(Y_test, predict)\n",
        "print(\"------------------------------------------------\")\n",
        "print(f\"The r2 score is : {r2}\")\n",
        "print(f\"The Mean absolute error is : {mae}\")\n",
        "print(f\"The Mean squared error score is : {mse}\")\n",
        "print(\"------------------------------------------------\")"
      ],
      "execution_count": 56,
      "outputs": [
        {
          "output_type": "stream",
          "text": [
            "------------------------------------------------\n",
            "The r2 score is : 0.4571212784338865\n",
            "The Mean absolute error is : 0.6104936042764484\n",
            "The Mean squared error score is : 0.5428787215661134\n",
            "------------------------------------------------\n"
          ],
          "name": "stdout"
        }
      ]
    },
    {
      "cell_type": "code",
      "metadata": {
        "colab": {
          "base_uri": "https://localhost:8080/",
          "height": 265
        },
        "id": "syWfWwym8ZFQ",
        "outputId": "2e82345f-fac5-4fbd-c491-9436b748523d"
      },
      "source": [
        "plt.scatter(predict, Y_test);"
      ],
      "execution_count": 58,
      "outputs": [
        {
          "output_type": "display_data",
          "data": {
            "image/png": "[encoded data removed]",
            "text/plain": [
              "<Figure size 432x288 with 1 Axes>"
            ]
          },
          "metadata": {
            "tags": [],
            "needs_background": "light"
          }
        }
      ]
    },
    {
      "cell_type": "code",
      "metadata": {
        "colab": {
          "base_uri": "https://localhost:8080/"
        },
        "id": "tLpalwXx8clX",
        "outputId": "985ff629-e692-47c8-a7b9-200c549a5b1d"
      },
      "source": [
        "train = dataset_UK[ : 400]\n",
        "test = dataset_UK[400 : ]\n",
        "\n",
        "features = [\"icu_patients\", \"positive_rate\", \"reproduction_rate\", \"Mortality_Rate\"]\n",
        "train = train[features]\n",
        "test = test[features]\n",
        "\n",
        "\n",
        "X_train = train.iloc[ : ,  : -1]\n",
        "Y_train = train.iloc[ : , -1 : ]\n",
        "X_test = test.iloc[ : ,  : -1]\n",
        "Y_test = test.iloc[ : , -1 : ]\n",
        "sc = StandardScaler()\n",
        "X_train = sc.fit_transform(X_train)\n",
        "X_test = sc.fit_transform(X_test)\n",
        "Y_train = sc.fit_transform(Y_train)\n",
        "Y_test = sc.fit_transform(Y_test)\n",
        "estimators = [\n",
        "              (\"knn\", KNeighborsRegressor(n_neighbors = 44)),\n",
        "              #(\"xgb\", xgb.XGBRegressor(random_state = SEED)),\n",
        "              (\"lasso\", Lasso(alpha = 1))]\n",
        "reg = StackingRegressor(\n",
        "    estimators = estimators ,\n",
        "    final_estimator = KNeighborsRegressor(n_neighbors = 10)\n",
        ")\n",
        "reg.fit(X_train, Y_train)\n",
        "predict = reg.predict(X_test)\n",
        "\n",
        "\n",
        "r2 = r2_score(Y_test, predict)\n",
        "mae = mean_absolute_error(Y_test, predict)\n",
        "mse = mean_squared_error(Y_test, predict)\n",
        "print(\"------------------------------------------------\")\n",
        "print(f\"The r2 score is : {r2}\")\n",
        "print(f\"The Mean absolute error is : {mae}\")\n",
        "print(f\"The Mean squared error score is : {mse}\")\n",
        "print(\"------------------------------------------------\")"
      ],
      "execution_count": 59,
      "outputs": [
        {
          "output_type": "stream",
          "text": [
            "------------------------------------------------\n",
            "The r2 score is : 0.25038096849855096\n",
            "The Mean absolute error is : 0.730887925517657\n",
            "The Mean squared error score is : 0.7496190315014489\n",
            "------------------------------------------------\n"
          ],
          "name": "stdout"
        }
      ]
    },
    {
      "cell_type": "code",
      "metadata": {
        "colab": {
          "base_uri": "https://localhost:8080/",
          "height": 265
        },
        "id": "anKu1F-R_USp",
        "outputId": "734b3ba9-1ede-4391-fddc-ad507762b750"
      },
      "source": [
        "plt.scatter(predict, Y_test);"
      ],
      "execution_count": 60,
      "outputs": [
        {
          "output_type": "display_data",
          "data": {
            "image/png": "[encoded data removed]",
            "text/plain": [
              "<Figure size 432x288 with 1 Axes>"
            ]
          },
          "metadata": {
            "tags": [],
            "needs_background": "light"
          }
        }
      ]
    },
    {
      "cell_type": "code",
      "metadata": {
        "colab": {
          "base_uri": "https://localhost:8080/"
        },
        "id": "aCYfOUx8_VbY",
        "outputId": "618425df-a973-4938-933d-e7a230d3fe54"
      },
      "source": [
        "train = dataset_UK[ : 400]\n",
        "test = dataset_UK[400 : ]\n",
        "\n",
        "features = [\"icu_patients\", \"positive_rate\", \"reproduction_rate\", \"Mortality_Rate\"]\n",
        "train = train[features]\n",
        "test = test[features]\n",
        "\n",
        "\n",
        "X_train = train.iloc[ : ,  : -1]\n",
        "Y_train = train.iloc[ : , -1 : ]\n",
        "X_test = test.iloc[ : ,  : -1]\n",
        "Y_test = test.iloc[ : , -1 : ]\n",
        "sc = StandardScaler()\n",
        "X_train = sc.fit_transform(X_train)\n",
        "X_test = sc.fit_transform(X_test)\n",
        "Y_train = sc.fit_transform(Y_train)\n",
        "Y_test = sc.fit_transform(Y_test)\n",
        "estimators = [\n",
        "              (\"knn\", KNeighborsRegressor(n_neighbors = 44)),\n",
        "              #(\"xgb\", xgb.XGBRegressor(random_state = SEED)),\n",
        "              (\"lasso\", Lasso(alpha = 1))]\n",
        "reg = StackingRegressor(\n",
        "    estimators = estimators ,\n",
        "    final_estimator = KNeighborsRegressor(n_neighbors = 10)\n",
        ")\n",
        "reg.fit(X_train, Y_train)\n",
        "predict = reg.predict(X_test)\n",
        "\n",
        "\n",
        "r2 = r2_score(Y_test, predict)\n",
        "mae = mean_absolute_error(Y_test, predict)\n",
        "mse = mean_squared_error(Y_test, predict)\n",
        "print(\"------------------------------------------------\")\n",
        "print(f\"The r2 score is : {r2}\")\n",
        "print(f\"The Mean absolute error is : {mae}\")\n",
        "print(f\"The Mean squared error score is : {mse}\")\n",
        "print(\"------------------------------------------------\")"
      ],
      "execution_count": 62,
      "outputs": [
        {
          "output_type": "stream",
          "text": [
            "------------------------------------------------\n",
            "The r2 score is : 0.25038096849855096\n",
            "The Mean absolute error is : 0.730887925517657\n",
            "The Mean squared error score is : 0.7496190315014489\n",
            "------------------------------------------------\n"
          ],
          "name": "stdout"
        }
      ]
    },
    {
      "cell_type": "code",
      "metadata": {
        "colab": {
          "base_uri": "https://localhost:8080/",
          "height": 265
        },
        "id": "pokOnMrJ_XwO",
        "outputId": "fe2642bf-3128-4392-d47d-07a744f34052"
      },
      "source": [
        "plt.scatter(predict, Y_test);"
      ],
      "execution_count": 63,
      "outputs": [
        {
          "output_type": "display_data",
          "data": {
            "image/png": "[encoded data removed]",
            "text/plain": [
              "<Figure size 432x288 with 1 Axes>"
            ]
          },
          "metadata": {
            "tags": [],
            "needs_background": "light"
          }
        }
      ]
    },
    {
      "cell_type": "code",
      "metadata": {
        "colab": {
          "base_uri": "https://localhost:8080/"
        },
        "id": "Z8AQkpJ7_Y-3",
        "outputId": "b665a141-1ff7-49bc-af10-be28fbaf6da5"
      },
      "source": [
        "train = dataset_UK[ : 400]\n",
        "test = dataset_UK[400 : ]\n",
        "\n",
        "\n",
        "\n",
        "X_train = train.iloc[ : ,  : -1]\n",
        "Y_train = train.iloc[ : , -1 : ]\n",
        "X_test = test.iloc[ : ,  : -1]\n",
        "Y_test = test.iloc[ : , -1 : ]\n",
        "\n",
        "sc = StandardScaler()\n",
        "X_train = sc.fit_transform(X_train)\n",
        "X_test = sc.fit_transform(X_test)\n",
        "Y_train = sc.fit_transform(Y_train)\n",
        "Y_test = sc.fit_transform(Y_test)\n",
        "\n",
        "\n",
        "reg = RandomForestRegressor(random_state = 42)\n",
        "reg.fit(X_train, Y_train)\n",
        "predict = reg.predict(X_test)\n",
        "\n",
        "\n",
        "r2 = r2_score(Y_test, predict)\n",
        "mae = mean_absolute_error(Y_test, predict)\n",
        "mse = mean_squared_error(Y_test, predict)\n",
        "print(\"------------------------------------------------\")\n",
        "print(f\"The r2 score is : {r2}\")\n",
        "print(f\"The Mean absolute error is : {mae}\")\n",
        "print(f\"The Mean squared error score is : {mse}\")"
      ],
      "execution_count": 64,
      "outputs": [
        {
          "output_type": "stream",
          "text": [
            "------------------------------------------------\n",
            "The r2 score is : 0.4964188440641051\n",
            "The Mean absolute error is : 0.6020849797890453\n",
            "The Mean squared error score is : 0.5035811559358948\n"
          ],
          "name": "stdout"
        }
      ]
    },
    {
      "cell_type": "code",
      "metadata": {
        "id": "_InRgEVK_5GY"
      },
      "source": [
        "importances = reg.feature_importances_"
      ],
      "execution_count": 69,
      "outputs": []
    },
    {
      "cell_type": "code",
      "metadata": {
        "colab": {
          "base_uri": "https://localhost:8080/"
        },
        "id": "i4Kt98ZQ_-Oo",
        "outputId": "57c388c8-8c0c-4faf-de77-1ad4fadaf786"
      },
      "source": [
        "importances"
      ],
      "execution_count": 76,
      "outputs": [
        {
          "output_type": "execute_result",
          "data": {
            "text/plain": [
              "array([2.16801456e-02, 1.33716547e-02, 2.10386557e-01, 6.37019444e-01,\n",
              "       5.81100023e-02, 1.38647949e-02, 1.05497670e-02, 4.97986780e-03,\n",
              "       2.90343084e-02, 2.49901831e-04, 3.09969184e-04, 4.43587256e-04,\n",
              "       0.00000000e+00, 0.00000000e+00])"
            ]
          },
          "metadata": {
            "tags": []
          },
          "execution_count": 76
        }
      ]
    },
    {
      "cell_type": "code",
      "metadata": {
        "colab": {
          "base_uri": "https://localhost:8080/"
        },
        "id": "WbOBdRdnAbGg",
        "outputId": "af6f246c-8ccb-4ee9-bb75-507247f6f0aa"
      },
      "source": [
        "type(importances)"
      ],
      "execution_count": 77,
      "outputs": [
        {
          "output_type": "execute_result",
          "data": {
            "text/plain": [
              "numpy.ndarray"
            ]
          },
          "metadata": {
            "tags": []
          },
          "execution_count": 77
        }
      ]
    },
    {
      "cell_type": "code",
      "metadata": {
        "id": "BskGzBAsArwB"
      },
      "source": [
        "main = [2.16801456e-02, 1.33716547e-02, 2.10386557e-01, 6.37019444e-01,\n",
        "       5.81100023e-02, 1.38647949e-02, 1.05497670e-02, 4.97986780e-03,\n",
        "       2.90343084e-02, 2.49901831e-04, 3.09969184e-04, 4.43587256e-04,\n",
        "       0.00000000e+00, 0.00000000e+00]"
      ],
      "execution_count": 79,
      "outputs": []
    },
    {
      "cell_type": "code",
      "metadata": {
        "id": "LVvxBYhhAuLi"
      },
      "source": [
        "data = pd.DataFrame(main)"
      ],
      "execution_count": 81,
      "outputs": []
    },
    {
      "cell_type": "code",
      "metadata": {
        "colab": {
          "base_uri": "https://localhost:8080/",
          "height": 483
        },
        "id": "eblINpglA2WC",
        "outputId": "8c46bd11-392e-4300-c333-482e442ca360"
      },
      "source": [
        "data"
      ],
      "execution_count": 84,
      "outputs": [
        {
          "output_type": "execute_result",
          "data": {
            "text/html": [
              "<div>\n",
              "<style scoped>\n",
              "    .dataframe tbody tr th:only-of-type {\n",
              "        vertical-align: middle;\n",
              "    }\n",
              "\n",
              "    .dataframe tbody tr th {\n",
              "        vertical-align: top;\n",
              "    }\n",
              "\n",
              "    .dataframe thead th {\n",
              "        text-align: right;\n",
              "    }\n",
              "</style>\n",
              "<table border=\"1\" class=\"dataframe\">\n",
              "  <thead>\n",
              "    <tr style=\"text-align: right;\">\n",
              "      <th></th>\n",
              "      <th>0</th>\n",
              "    </tr>\n",
              "  </thead>\n",
              "  <tbody>\n",
              "    <tr>\n",
              "      <th>0</th>\n",
              "      <td>0.021680</td>\n",
              "    </tr>\n",
              "    <tr>\n",
              "      <th>1</th>\n",
              "      <td>0.013372</td>\n",
              "    </tr>\n",
              "    <tr>\n",
              "      <th>2</th>\n",
              "      <td>0.210387</td>\n",
              "    </tr>\n",
              "    <tr>\n",
              "      <th>3</th>\n",
              "      <td>0.637019</td>\n",
              "    </tr>\n",
              "    <tr>\n",
              "      <th>4</th>\n",
              "      <td>0.058110</td>\n",
              "    </tr>\n",
              "    <tr>\n",
              "      <th>5</th>\n",
              "      <td>0.013865</td>\n",
              "    </tr>\n",
              "    <tr>\n",
              "      <th>6</th>\n",
              "      <td>0.010550</td>\n",
              "    </tr>\n",
              "    <tr>\n",
              "      <th>7</th>\n",
              "      <td>0.004980</td>\n",
              "    </tr>\n",
              "    <tr>\n",
              "      <th>8</th>\n",
              "      <td>0.029034</td>\n",
              "    </tr>\n",
              "    <tr>\n",
              "      <th>9</th>\n",
              "      <td>0.000250</td>\n",
              "    </tr>\n",
              "    <tr>\n",
              "      <th>10</th>\n",
              "      <td>0.000310</td>\n",
              "    </tr>\n",
              "    <tr>\n",
              "      <th>11</th>\n",
              "      <td>0.000444</td>\n",
              "    </tr>\n",
              "    <tr>\n",
              "      <th>12</th>\n",
              "      <td>0.000000</td>\n",
              "    </tr>\n",
              "    <tr>\n",
              "      <th>13</th>\n",
              "      <td>0.000000</td>\n",
              "    </tr>\n",
              "  </tbody>\n",
              "</table>\n",
              "</div>"
            ],
            "text/plain": [
              "           0\n",
              "0   0.021680\n",
              "1   0.013372\n",
              "2   0.210387\n",
              "3   0.637019\n",
              "4   0.058110\n",
              "5   0.013865\n",
              "6   0.010550\n",
              "7   0.004980\n",
              "8   0.029034\n",
              "9   0.000250\n",
              "10  0.000310\n",
              "11  0.000444\n",
              "12  0.000000\n",
              "13  0.000000"
            ]
          },
          "metadata": {
            "tags": []
          },
          "execution_count": 84
        }
      ]
    },
    {
      "cell_type": "code",
      "metadata": {
        "id": "Bjw-yHFIA5Sx"
      },
      "source": [
        "data[\"Features\"] = fea"
      ],
      "execution_count": 86,
      "outputs": []
    },
    {
      "cell_type": "code",
      "metadata": {
        "colab": {
          "base_uri": "https://localhost:8080/",
          "height": 483
        },
        "id": "mDlTa7oZBByC",
        "outputId": "1426a200-7927-4919-c386-4ca0ec9ffd76"
      },
      "source": [
        "data"
      ],
      "execution_count": 87,
      "outputs": [
        {
          "output_type": "execute_result",
          "data": {
            "text/html": [
              "<div>\n",
              "<style scoped>\n",
              "    .dataframe tbody tr th:only-of-type {\n",
              "        vertical-align: middle;\n",
              "    }\n",
              "\n",
              "    .dataframe tbody tr th {\n",
              "        vertical-align: top;\n",
              "    }\n",
              "\n",
              "    .dataframe thead th {\n",
              "        text-align: right;\n",
              "    }\n",
              "</style>\n",
              "<table border=\"1\" class=\"dataframe\">\n",
              "  <thead>\n",
              "    <tr style=\"text-align: right;\">\n",
              "      <th></th>\n",
              "      <th>0</th>\n",
              "      <th>Features</th>\n",
              "    </tr>\n",
              "  </thead>\n",
              "  <tbody>\n",
              "    <tr>\n",
              "      <th>0</th>\n",
              "      <td>0.021680</td>\n",
              "      <td>new_cases</td>\n",
              "    </tr>\n",
              "    <tr>\n",
              "      <th>1</th>\n",
              "      <td>0.013372</td>\n",
              "      <td>reproduction_rate</td>\n",
              "    </tr>\n",
              "    <tr>\n",
              "      <th>2</th>\n",
              "      <td>0.210387</td>\n",
              "      <td>icu_patients</td>\n",
              "    </tr>\n",
              "    <tr>\n",
              "      <th>3</th>\n",
              "      <td>0.637019</td>\n",
              "      <td>hosp_patients</td>\n",
              "    </tr>\n",
              "    <tr>\n",
              "      <th>4</th>\n",
              "      <td>0.058110</td>\n",
              "      <td>new_tests</td>\n",
              "    </tr>\n",
              "    <tr>\n",
              "      <th>5</th>\n",
              "      <td>0.013865</td>\n",
              "      <td>positive_rate</td>\n",
              "    </tr>\n",
              "    <tr>\n",
              "      <th>6</th>\n",
              "      <td>0.010550</td>\n",
              "      <td>people_vaccinated</td>\n",
              "    </tr>\n",
              "    <tr>\n",
              "      <th>7</th>\n",
              "      <td>0.004980</td>\n",
              "      <td>people_fully_vaccinated</td>\n",
              "    </tr>\n",
              "    <tr>\n",
              "      <th>8</th>\n",
              "      <td>0.029034</td>\n",
              "      <td>new_vaccinations</td>\n",
              "    </tr>\n",
              "    <tr>\n",
              "      <th>9</th>\n",
              "      <td>0.000250</td>\n",
              "      <td>Lockdown</td>\n",
              "    </tr>\n",
              "    <tr>\n",
              "      <th>10</th>\n",
              "      <td>0.000310</td>\n",
              "      <td>Variant</td>\n",
              "    </tr>\n",
              "    <tr>\n",
              "      <th>11</th>\n",
              "      <td>0.000444</td>\n",
              "      <td>Vaccine</td>\n",
              "    </tr>\n",
              "    <tr>\n",
              "      <th>12</th>\n",
              "      <td>0.000000</td>\n",
              "      <td>GDP_PER_CAPITA</td>\n",
              "    </tr>\n",
              "    <tr>\n",
              "      <th>13</th>\n",
              "      <td>0.000000</td>\n",
              "      <td>Population</td>\n",
              "    </tr>\n",
              "  </tbody>\n",
              "</table>\n",
              "</div>"
            ],
            "text/plain": [
              "           0                 Features\n",
              "0   0.021680                new_cases\n",
              "1   0.013372        reproduction_rate\n",
              "2   0.210387             icu_patients\n",
              "3   0.637019            hosp_patients\n",
              "4   0.058110                new_tests\n",
              "5   0.013865            positive_rate\n",
              "6   0.010550        people_vaccinated\n",
              "7   0.004980  people_fully_vaccinated\n",
              "8   0.029034         new_vaccinations\n",
              "9   0.000250                 Lockdown\n",
              "10  0.000310                  Variant\n",
              "11  0.000444                  Vaccine\n",
              "12  0.000000           GDP_PER_CAPITA\n",
              "13  0.000000               Population"
            ]
          },
          "metadata": {
            "tags": []
          },
          "execution_count": 87
        }
      ]
    },
    {
      "cell_type": "code",
      "metadata": {
        "id": "gGnuTBSVBGcS"
      },
      "source": [
        "data.set_index([\"Features\"], inplace = True)"
      ],
      "execution_count": 89,
      "outputs": []
    },
    {
      "cell_type": "code",
      "metadata": {
        "colab": {
          "base_uri": "https://localhost:8080/",
          "height": 542
        },
        "id": "535SqDzdDASP",
        "outputId": "41d03bca-8212-4a0f-c2b1-bc2b3b975489"
      },
      "source": [
        "\n",
        "fig = px.histogram(data, x=data.index, y = [0], )\n",
        "#plt.figure(figsize=(16, 2))\n",
        "\n",
        "fig.show()"
      ],
      "execution_count": 112,
      "outputs": [
        {
          "output_type": "display_data",
          "data": {
            "text/html": [
              "<html>\n",
              "<head><meta charset=\"utf-8\" /></head>\n",
              "<body>\n",
              "    <div>            <script src=\"https://cdnjs.cloudflare.com/ajax/libs/mathjax/2.7.5/MathJax.js?config=TeX-AMS-MML_SVG\"></script><script type=\"text/javascript\">if (window.MathJax) {MathJax.Hub.Config({SVG: {font: \"STIX-Web\"}});}</script>                <script type=\"text/javascript\">window.PlotlyConfig = {MathJaxConfig: 'local'};</script>\n",
              "        <script src=\"https://cdn.plot.ly/plotly-2.2.0.min.js\"></script>                <div id=\"e2b660a7-5c8a-4f55-85af-6316932c7bf2\" class=\"plotly-graph-div\" style=\"height:525px; width:100%;\"></div>            <script type=\"text/javascript\">                                    window.PLOTLYENV=window.PLOTLYENV || {};                                    if (document.getElementById(\"e2b660a7-5c8a-4f55-85af-6316932c7bf2\")) {                    Plotly.newPlot(                        \"e2b660a7-5c8a-4f55-85af-6316932c7bf2\",                        [{\"alignmentgroup\":\"True\",\"bingroup\":\"x\",\"histfunc\":\"sum\",\"hovertemplate\":\"variable=0<br>Features=%{x}<br>sum of value=%{y}<extra></extra>\",\"legendgroup\":\"0\",\"marker\":{\"color\":\"#636efa\",\"pattern\":{\"shape\":\"\"}},\"name\":\"0\",\"offsetgroup\":\"0\",\"orientation\":\"v\",\"showlegend\":true,\"type\":\"histogram\",\"x\":[\"new_cases\",\"reproduction_rate\",\"icu_patients\",\"hosp_patients\",\"new_tests\",\"positive_rate\",\"people_vaccinated\",\"people_fully_vaccinated\",\"new_vaccinations\",\"Lockdown\",\"Variant\",\"Vaccine\",\"GDP_PER_CAPITA\",\"Population\"],\"xaxis\":\"x\",\"y\":[0.0216801456,0.0133716547,0.210386557,0.637019444,0.0581100023,0.0138647949,0.010549767,0.0049798678,0.0290343084,0.000249901831,0.000309969184,0.000443587256,0.0,0.0],\"yaxis\":\"y\"}],                        {\"barmode\":\"relative\",\"legend\":{\"title\":{\"text\":\"variable\"},\"tracegroupgap\":0},\"margin\":{\"t\":60},\"template\":{\"data\":{\"bar\":[{\"error_x\":{\"color\":\"#2a3f5f\"},\"error_y\":{\"color\":\"#2a3f5f\"},\"marker\":{\"line\":{\"color\":\"#E5ECF6\",\"width\":0.5},\"pattern\":{\"fillmode\":\"overlay\",\"size\":10,\"solidity\":0.2}},\"type\":\"bar\"}],\"barpolar\":[{\"marker\":{\"line\":{\"color\":\"#E5ECF6\",\"width\":0.5},\"pattern\":{\"fillmode\":\"overlay\",\"size\":10,\"solidity\":0.2}},\"type\":\"barpolar\"}],\"carpet\":[{\"aaxis\":{\"endlinecolor\":\"#2a3f5f\",\"gridcolor\":\"white\",\"linecolor\":\"white\",\"minorgridcolor\":\"white\",\"startlinecolor\":\"#2a3f5f\"},\"baxis\":{\"endlinecolor\":\"#2a3f5f\",\"gridcolor\":\"white\",\"linecolor\":\"white\",\"minorgridcolor\":\"white\",\"startlinecolor\":\"#2a3f5f\"},\"type\":\"carpet\"}],\"choropleth\":[{\"colorbar\":{\"outlinewidth\":0,\"ticks\":\"\"},\"type\":\"choropleth\"}],\"contour\":[{\"colorbar\":{\"outlinewidth\":0,\"ticks\":\"\"},\"colorscale\":[[0.0,\"#0d0887\"],[0.1111111111111111,\"#46039f\"],[0.2222222222222222,\"#7201a8\"],[0.3333333333333333,\"#9c179e\"],[0.4444444444444444,\"#bd3786\"],[0.5555555555555556,\"#d8576b\"],[0.6666666666666666,\"#ed7953\"],[0.7777777777777778,\"#fb9f3a\"],[0.8888888888888888,\"#fdca26\"],[1.0,\"#f0f921\"]],\"type\":\"contour\"}],\"contourcarpet\":[{\"colorbar\":{\"outlinewidth\":0,\"ticks\":\"\"},\"type\":\"contourcarpet\"}],\"heatmap\":[{\"colorbar\":{\"outlinewidth\":0,\"ticks\":\"\"},\"colorscale\":[[0.0,\"#0d0887\"],[0.1111111111111111,\"#46039f\"],[0.2222222222222222,\"#7201a8\"],[0.3333333333333333,\"#9c179e\"],[0.4444444444444444,\"#bd3786\"],[0.5555555555555556,\"#d8576b\"],[0.6666666666666666,\"#ed7953\"],[0.7777777777777778,\"#fb9f3a\"],[0.8888888888888888,\"#fdca26\"],[1.0,\"#f0f921\"]],\"type\":\"heatmap\"}],\"heatmapgl\":[{\"colorbar\":{\"outlinewidth\":0,\"ticks\":\"\"},\"colorscale\":[[0.0,\"#0d0887\"],[0.1111111111111111,\"#46039f\"],[0.2222222222222222,\"#7201a8\"],[0.3333333333333333,\"#9c179e\"],[0.4444444444444444,\"#bd3786\"],[0.5555555555555556,\"#d8576b\"],[0.6666666666666666,\"#ed7953\"],[0.7777777777777778,\"#fb9f3a\"],[0.8888888888888888,\"#fdca26\"],[1.0,\"#f0f921\"]],\"type\":\"heatmapgl\"}],\"histogram\":[{\"marker\":{\"pattern\":{\"fillmode\":\"overlay\",\"size\":10,\"solidity\":0.2}},\"type\":\"histogram\"}],\"histogram2d\":[{\"colorbar\":{\"outlinewidth\":0,\"ticks\":\"\"},\"colorscale\":[[0.0,\"#0d0887\"],[0.1111111111111111,\"#46039f\"],[0.2222222222222222,\"#7201a8\"],[0.3333333333333333,\"#9c179e\"],[0.4444444444444444,\"#bd3786\"],[0.5555555555555556,\"#d8576b\"],[0.6666666666666666,\"#ed7953\"],[0.7777777777777778,\"#fb9f3a\"],[0.8888888888888888,\"#fdca26\"],[1.0,\"#f0f921\"]],\"type\":\"histogram2d\"}],\"histogram2dcontour\":[{\"colorbar\":{\"outlinewidth\":0,\"ticks\":\"\"},\"colorscale\":[[0.0,\"#0d0887\"],[0.1111111111111111,\"#46039f\"],[0.2222222222222222,\"#7201a8\"],[0.3333333333333333,\"#9c179e\"],[0.4444444444444444,\"#bd3786\"],[0.5555555555555556,\"#d8576b\"],[0.6666666666666666,\"#ed7953\"],[0.7777777777777778,\"#fb9f3a\"],[0.8888888888888888,\"#fdca26\"],[1.0,\"#f0f921\"]],\"type\":\"histogram2dcontour\"}],\"mesh3d\":[{\"colorbar\":{\"outlinewidth\":0,\"ticks\":\"\"},\"type\":\"mesh3d\"}],\"parcoords\":[{\"line\":{\"colorbar\":{\"outlinewidth\":0,\"ticks\":\"\"}},\"type\":\"parcoords\"}],\"pie\":[{\"automargin\":true,\"type\":\"pie\"}],\"scatter\":[{\"marker\":{\"colorbar\":{\"outlinewidth\":0,\"ticks\":\"\"}},\"type\":\"scatter\"}],\"scatter3d\":[{\"line\":{\"colorbar\":{\"outlinewidth\":0,\"ticks\":\"\"}},\"marker\":{\"colorbar\":{\"outlinewidth\":0,\"ticks\":\"\"}},\"type\":\"scatter3d\"}],\"scattercarpet\":[{\"marker\":{\"colorbar\":{\"outlinewidth\":0,\"ticks\":\"\"}},\"type\":\"scattercarpet\"}],\"scattergeo\":[{\"marker\":{\"colorbar\":{\"outlinewidth\":0,\"ticks\":\"\"}},\"type\":\"scattergeo\"}],\"scattergl\":[{\"marker\":{\"colorbar\":{\"outlinewidth\":0,\"ticks\":\"\"}},\"type\":\"scattergl\"}],\"scattermapbox\":[{\"marker\":{\"colorbar\":{\"outlinewidth\":0,\"ticks\":\"\"}},\"type\":\"scattermapbox\"}],\"scatterpolar\":[{\"marker\":{\"colorbar\":{\"outlinewidth\":0,\"ticks\":\"\"}},\"type\":\"scatterpolar\"}],\"scatterpolargl\":[{\"marker\":{\"colorbar\":{\"outlinewidth\":0,\"ticks\":\"\"}},\"type\":\"scatterpolargl\"}],\"scatterternary\":[{\"marker\":{\"colorbar\":{\"outlinewidth\":0,\"ticks\":\"\"}},\"type\":\"scatterternary\"}],\"surface\":[{\"colorbar\":{\"outlinewidth\":0,\"ticks\":\"\"},\"colorscale\":[[0.0,\"#0d0887\"],[0.1111111111111111,\"#46039f\"],[0.2222222222222222,\"#7201a8\"],[0.3333333333333333,\"#9c179e\"],[0.4444444444444444,\"#bd3786\"],[0.5555555555555556,\"#d8576b\"],[0.6666666666666666,\"#ed7953\"],[0.7777777777777778,\"#fb9f3a\"],[0.8888888888888888,\"#fdca26\"],[1.0,\"#f0f921\"]],\"type\":\"surface\"}],\"table\":[{\"cells\":{\"fill\":{\"color\":\"#EBF0F8\"},\"line\":{\"color\":\"white\"}},\"header\":{\"fill\":{\"color\":\"#C8D4E3\"},\"line\":{\"color\":\"white\"}},\"type\":\"table\"}]},\"layout\":{\"annotationdefaults\":{\"arrowcolor\":\"#2a3f5f\",\"arrowhead\":0,\"arrowwidth\":1},\"autotypenumbers\":\"strict\",\"coloraxis\":{\"colorbar\":{\"outlinewidth\":0,\"ticks\":\"\"}},\"colorscale\":{\"diverging\":[[0,\"#8e0152\"],[0.1,\"#c51b7d\"],[0.2,\"#de77ae\"],[0.3,\"#f1b6da\"],[0.4,\"#fde0ef\"],[0.5,\"#f7f7f7\"],[0.6,\"#e6f5d0\"],[0.7,\"#b8e186\"],[0.8,\"#7fbc41\"],[0.9,\"#4d9221\"],[1,\"#276419\"]],\"sequential\":[[0.0,\"#0d0887\"],[0.1111111111111111,\"#46039f\"],[0.2222222222222222,\"#7201a8\"],[0.3333333333333333,\"#9c179e\"],[0.4444444444444444,\"#bd3786\"],[0.5555555555555556,\"#d8576b\"],[0.6666666666666666,\"#ed7953\"],[0.7777777777777778,\"#fb9f3a\"],[0.8888888888888888,\"#fdca26\"],[1.0,\"#f0f921\"]],\"sequentialminus\":[[0.0,\"#0d0887\"],[0.1111111111111111,\"#46039f\"],[0.2222222222222222,\"#7201a8\"],[0.3333333333333333,\"#9c179e\"],[0.4444444444444444,\"#bd3786\"],[0.5555555555555556,\"#d8576b\"],[0.6666666666666666,\"#ed7953\"],[0.7777777777777778,\"#fb9f3a\"],[0.8888888888888888,\"#fdca26\"],[1.0,\"#f0f921\"]]},\"colorway\":[\"#636efa\",\"#EF553B\",\"#00cc96\",\"#ab63fa\",\"#FFA15A\",\"#19d3f3\",\"#FF6692\",\"#B6E880\",\"#FF97FF\",\"#FECB52\"],\"font\":{\"color\":\"#2a3f5f\"},\"geo\":{\"bgcolor\":\"white\",\"lakecolor\":\"white\",\"landcolor\":\"#E5ECF6\",\"showlakes\":true,\"showland\":true,\"subunitcolor\":\"white\"},\"hoverlabel\":{\"align\":\"left\"},\"hovermode\":\"closest\",\"mapbox\":{\"style\":\"light\"},\"paper_bgcolor\":\"white\",\"plot_bgcolor\":\"#E5ECF6\",\"polar\":{\"angularaxis\":{\"gridcolor\":\"white\",\"linecolor\":\"white\",\"ticks\":\"\"},\"bgcolor\":\"#E5ECF6\",\"radialaxis\":{\"gridcolor\":\"white\",\"linecolor\":\"white\",\"ticks\":\"\"}},\"scene\":{\"xaxis\":{\"backgroundcolor\":\"#E5ECF6\",\"gridcolor\":\"white\",\"gridwidth\":2,\"linecolor\":\"white\",\"showbackground\":true,\"ticks\":\"\",\"zerolinecolor\":\"white\"},\"yaxis\":{\"backgroundcolor\":\"#E5ECF6\",\"gridcolor\":\"white\",\"gridwidth\":2,\"linecolor\":\"white\",\"showbackground\":true,\"ticks\":\"\",\"zerolinecolor\":\"white\"},\"zaxis\":{\"backgroundcolor\":\"#E5ECF6\",\"gridcolor\":\"white\",\"gridwidth\":2,\"linecolor\":\"white\",\"showbackground\":true,\"ticks\":\"\",\"zerolinecolor\":\"white\"}},\"shapedefaults\":{\"line\":{\"color\":\"#2a3f5f\"}},\"ternary\":{\"aaxis\":{\"gridcolor\":\"white\",\"linecolor\":\"white\",\"ticks\":\"\"},\"baxis\":{\"gridcolor\":\"white\",\"linecolor\":\"white\",\"ticks\":\"\"},\"bgcolor\":\"#E5ECF6\",\"caxis\":{\"gridcolor\":\"white\",\"linecolor\":\"white\",\"ticks\":\"\"}},\"title\":{\"x\":0.05},\"xaxis\":{\"automargin\":true,\"gridcolor\":\"white\",\"linecolor\":\"white\",\"ticks\":\"\",\"title\":{\"standoff\":15},\"zerolinecolor\":\"white\",\"zerolinewidth\":2},\"yaxis\":{\"automargin\":true,\"gridcolor\":\"white\",\"linecolor\":\"white\",\"ticks\":\"\",\"title\":{\"standoff\":15},\"zerolinecolor\":\"white\",\"zerolinewidth\":2}}},\"xaxis\":{\"anchor\":\"y\",\"domain\":[0.0,1.0],\"title\":{\"text\":\"Features\"}},\"yaxis\":{\"anchor\":\"x\",\"domain\":[0.0,1.0],\"title\":{\"text\":\"sum of value\"}}},                        {\"responsive\": true}                    ).then(function(){\n",
              "                            \n",
              "var gd = document.getElementById('e2b660a7-5c8a-4f55-85af-6316932c7bf2');\n",
              "var x = new MutationObserver(function (mutations, observer) {{\n",
              "        var display = window.getComputedStyle(gd).display;\n",
              "        if (!display || display === 'none') {{\n",
              "            console.log([gd, 'removed!']);\n",
              "            Plotly.purge(gd);\n",
              "            observer.disconnect();\n",
              "        }}\n",
              "}});\n",
              "\n",
              "// Listen for the removal of the full notebook cells\n",
              "var notebookContainer = gd.closest('#notebook-container');\n",
              "if (notebookContainer) {{\n",
              "    x.observe(notebookContainer, {childList: true});\n",
              "}}\n",
              "\n",
              "// Listen for the clearing of the current output cell\n",
              "var outputEl = gd.closest('.output');\n",
              "if (outputEl) {{\n",
              "    x.observe(outputEl, {childList: true});\n",
              "}}\n",
              "\n",
              "                        })                };                            </script>        </div>\n",
              "</body>\n",
              "</html>"
            ]
          },
          "metadata": {
            "tags": []
          }
        }
      ]
    },
    {
      "cell_type": "code",
      "metadata": {
        "colab": {
          "base_uri": "https://localhost:8080/",
          "height": 514
        },
        "id": "eKzr3ZmfDAUb",
        "outputId": "177efac1-473f-4ee5-9fd6-09ef03ab426c"
      },
      "source": [
        "data"
      ],
      "execution_count": 107,
      "outputs": [
        {
          "output_type": "execute_result",
          "data": {
            "text/html": [
              "<div>\n",
              "<style scoped>\n",
              "    .dataframe tbody tr th:only-of-type {\n",
              "        vertical-align: middle;\n",
              "    }\n",
              "\n",
              "    .dataframe tbody tr th {\n",
              "        vertical-align: top;\n",
              "    }\n",
              "\n",
              "    .dataframe thead th {\n",
              "        text-align: right;\n",
              "    }\n",
              "</style>\n",
              "<table border=\"1\" class=\"dataframe\">\n",
              "  <thead>\n",
              "    <tr style=\"text-align: right;\">\n",
              "      <th></th>\n",
              "      <th>0</th>\n",
              "    </tr>\n",
              "    <tr>\n",
              "      <th>Features</th>\n",
              "      <th></th>\n",
              "    </tr>\n",
              "  </thead>\n",
              "  <tbody>\n",
              "    <tr>\n",
              "      <th>new_cases</th>\n",
              "      <td>0.021680</td>\n",
              "    </tr>\n",
              "    <tr>\n",
              "      <th>reproduction_rate</th>\n",
              "      <td>0.013372</td>\n",
              "    </tr>\n",
              "    <tr>\n",
              "      <th>icu_patients</th>\n",
              "      <td>0.210387</td>\n",
              "    </tr>\n",
              "    <tr>\n",
              "      <th>hosp_patients</th>\n",
              "      <td>0.637019</td>\n",
              "    </tr>\n",
              "    <tr>\n",
              "      <th>new_tests</th>\n",
              "      <td>0.058110</td>\n",
              "    </tr>\n",
              "    <tr>\n",
              "      <th>positive_rate</th>\n",
              "      <td>0.013865</td>\n",
              "    </tr>\n",
              "    <tr>\n",
              "      <th>people_vaccinated</th>\n",
              "      <td>0.010550</td>\n",
              "    </tr>\n",
              "    <tr>\n",
              "      <th>people_fully_vaccinated</th>\n",
              "      <td>0.004980</td>\n",
              "    </tr>\n",
              "    <tr>\n",
              "      <th>new_vaccinations</th>\n",
              "      <td>0.029034</td>\n",
              "    </tr>\n",
              "    <tr>\n",
              "      <th>Lockdown</th>\n",
              "      <td>0.000250</td>\n",
              "    </tr>\n",
              "    <tr>\n",
              "      <th>Variant</th>\n",
              "      <td>0.000310</td>\n",
              "    </tr>\n",
              "    <tr>\n",
              "      <th>Vaccine</th>\n",
              "      <td>0.000444</td>\n",
              "    </tr>\n",
              "    <tr>\n",
              "      <th>GDP_PER_CAPITA</th>\n",
              "      <td>0.000000</td>\n",
              "    </tr>\n",
              "    <tr>\n",
              "      <th>Population</th>\n",
              "      <td>0.000000</td>\n",
              "    </tr>\n",
              "  </tbody>\n",
              "</table>\n",
              "</div>"
            ],
            "text/plain": [
              "                                0\n",
              "Features                         \n",
              "new_cases                0.021680\n",
              "reproduction_rate        0.013372\n",
              "icu_patients             0.210387\n",
              "hosp_patients            0.637019\n",
              "new_tests                0.058110\n",
              "positive_rate            0.013865\n",
              "people_vaccinated        0.010550\n",
              "people_fully_vaccinated  0.004980\n",
              "new_vaccinations         0.029034\n",
              "Lockdown                 0.000250\n",
              "Variant                  0.000310\n",
              "Vaccine                  0.000444\n",
              "GDP_PER_CAPITA           0.000000\n",
              "Population               0.000000"
            ]
          },
          "metadata": {
            "tags": []
          },
          "execution_count": 107
        }
      ]
    },
    {
      "cell_type": "code",
      "metadata": {
        "id": "9tqTte1sBd7P"
      },
      "source": [
        ""
      ],
      "execution_count": null,
      "outputs": []
    }
  ]
}
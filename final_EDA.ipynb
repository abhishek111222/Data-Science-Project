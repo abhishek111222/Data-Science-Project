{
  "nbformat": 4,
  "nbformat_minor": 0,
  "metadata": {
    "colab": {
      "name": "final_EDA.ipynb",
      "provenance": [],
      "collapsed_sections": []
    },
    "kernelspec": {
      "display_name": "Python 3",
      "name": "python3"
    },
    "language_info": {
      "name": "python"
    }
  },
  "cells": [
    {
      "cell_type": "code",
      "metadata": {
        "colab": {
          "base_uri": "https://localhost:8080/"
        },
        "id": "9D88ha4lY3Mq",
        "outputId": "f05a03c9-3aae-4e14-edff-fc423f21f478"
      },
      "source": [
        "from google.colab import drive\n",
        "drive.mount('/content/gdrive')"
      ],
      "execution_count": 1,
      "outputs": [
        {
          "output_type": "stream",
          "name": "stdout",
          "text": [
            "Drive already mounted at /content/gdrive; to attempt to forcibly remount, call drive.mount(\"/content/gdrive\", force_remount=True).\n"
          ]
        }
      ]
    },
    {
      "cell_type": "code",
      "metadata": {
        "colab": {
          "base_uri": "https://localhost:8080/"
        },
        "id": "znrT1URwY6-f",
        "outputId": "7f4db9f8-da73-44a2-c017-12dd0fc927c6"
      },
      "source": [
        "!pip install --upgrade plotly\n",
        "!pip install pmdarima\n",
        "print(\"Done\")"
      ],
      "execution_count": 2,
      "outputs": [
        {
          "output_type": "stream",
          "name": "stdout",
          "text": [
            "Requirement already satisfied: plotly in /usr/local/lib/python3.7/dist-packages (5.3.1)\n",
            "Requirement already satisfied: tenacity>=6.2.0 in /usr/local/lib/python3.7/dist-packages (from plotly) (8.0.1)\n",
            "Requirement already satisfied: six in /usr/local/lib/python3.7/dist-packages (from plotly) (1.15.0)\n",
            "Requirement already satisfied: pmdarima in /usr/local/lib/python3.7/dist-packages (1.8.2)\n",
            "Requirement already satisfied: setuptools!=50.0.0,>=38.6.0 in /usr/local/lib/python3.7/dist-packages (from pmdarima) (57.4.0)\n",
            "Requirement already satisfied: urllib3 in /usr/local/lib/python3.7/dist-packages (from pmdarima) (1.24.3)\n",
            "Requirement already satisfied: pandas>=0.19 in /usr/local/lib/python3.7/dist-packages (from pmdarima) (1.1.5)\n",
            "Requirement already satisfied: numpy~=1.19.0 in /usr/local/lib/python3.7/dist-packages (from pmdarima) (1.19.5)\n",
            "Requirement already satisfied: scikit-learn>=0.22 in /usr/local/lib/python3.7/dist-packages (from pmdarima) (0.22.2.post1)\n",
            "Requirement already satisfied: scipy>=1.3.2 in /usr/local/lib/python3.7/dist-packages (from pmdarima) (1.4.1)\n",
            "Requirement already satisfied: joblib>=0.11 in /usr/local/lib/python3.7/dist-packages (from pmdarima) (1.0.1)\n",
            "Requirement already satisfied: Cython!=0.29.18,>=0.29 in /usr/local/lib/python3.7/dist-packages (from pmdarima) (0.29.24)\n",
            "Requirement already satisfied: statsmodels!=0.12.0,>=0.11 in /usr/local/lib/python3.7/dist-packages (from pmdarima) (0.12.2)\n",
            "Requirement already satisfied: pytz>=2017.2 in /usr/local/lib/python3.7/dist-packages (from pandas>=0.19->pmdarima) (2018.9)\n",
            "Requirement already satisfied: python-dateutil>=2.7.3 in /usr/local/lib/python3.7/dist-packages (from pandas>=0.19->pmdarima) (2.8.2)\n",
            "Requirement already satisfied: six>=1.5 in /usr/local/lib/python3.7/dist-packages (from python-dateutil>=2.7.3->pandas>=0.19->pmdarima) (1.15.0)\n",
            "Requirement already satisfied: patsy>=0.5 in /usr/local/lib/python3.7/dist-packages (from statsmodels!=0.12.0,>=0.11->pmdarima) (0.5.1)\n",
            "Done\n"
          ]
        }
      ]
    },
    {
      "cell_type": "code",
      "metadata": {
        "id": "K-skxwLhY__O"
      },
      "source": [
        "import pandas as pd\n",
        "import plotly.express as px\n",
        "import plotly.graph_objects as go\n",
        "import matplotlib.pyplot as plt\n",
        "from pandas.plotting import lag_plot, autocorrelation_plot\n",
        "from statsmodels.graphics.tsaplots import plot_acf\n",
        "from statsmodels.tsa.stattools import adfuller\n",
        "from sklearn.metrics import mean_squared_error\n",
        "from sklearn.preprocessing import StandardScaler\n",
        "from math import sqrt\n",
        "import itertools\n",
        "\n",
        "from statsmodels.tsa.arima_model import ARIMA\n",
        "from statsmodels.tsa.ar_model import AR\n",
        "from pmdarima import auto_arima\n",
        "\n",
        "import warnings\n",
        "warnings.filterwarnings(\"ignore\")"
      ],
      "execution_count": 3,
      "outputs": []
    },
    {
      "cell_type": "code",
      "metadata": {
        "id": "1P2nohEgZAeH"
      },
      "source": [
        "import pandas as pd\n",
        "import numpy as np\n",
        "import matplotlib.pyplot as plt\n",
        "import plotly.express as px\n",
        "\n",
        "from sklearn.preprocessing import LabelEncoder\n",
        "from sklearn.compose import ColumnTransformer\n",
        "from sklearn.linear_model import Lasso, Ridge, LogisticRegression, LinearRegression\n",
        "from sklearn.preprocessing import OneHotEncoder\n",
        "from sklearn.neighbors import KNeighborsRegressor\n",
        "#import category_encoders as ce\n",
        "from scipy import stats\n",
        "from numpy import mean, std\n",
        "import lightgbm as lgb\n",
        "import seaborn as sns\n",
        "#from catboost import CatBoostRegressor\n",
        "import plotly.express as px\n",
        "from sklearn.feature_selection import SelectFromModel\n",
        "from sklearn.linear_model import Lasso\n",
        "from sklearn.svm import LinearSVR, SVR\n",
        "from sklearn.metrics import mean_absolute_error\n",
        "from sklearn.decomposition import PCA\n",
        "from sklearn.ensemble import RandomForestRegressor, BaggingRegressor\n",
        "from sklearn.ensemble import StackingRegressor, AdaBoostRegressor\n",
        "from sklearn.preprocessing import OneHotEncoder, LabelEncoder, StandardScaler, MinMaxScaler, Normalizer\n",
        "from sklearn.pipeline import Pipeline\n",
        "import xgboost as xgb\n",
        "from sklearn.metrics import mean_squared_log_error, r2_score, mean_squared_error\n",
        "from sklearn.utils import shuffle\n",
        "from sklearn.model_selection import train_test_split, GridSearchCV, KFold, cross_val_score\n",
        "import seaborn as sns\n",
        "\n",
        "SEED = 42"
      ],
      "execution_count": 4,
      "outputs": []
    },
    {
      "cell_type": "code",
      "metadata": {
        "id": "wLSVPR3nZAgY"
      },
      "source": [
        "df = pd.read_csv(\"/content/gdrive/MyDrive/owid-covid-data.csv\")\n",
        "check = pd.read_csv(\"/content/gdrive/MyDrive/owid-covid-data.csv\")"
      ],
      "execution_count": 5,
      "outputs": []
    },
    {
      "cell_type": "code",
      "metadata": {
        "colab": {
          "base_uri": "https://localhost:8080/"
        },
        "id": "0Q3q5FFWmeXg",
        "outputId": "728d2782-ffcc-4eab-97c3-d4ddc56ff1ba"
      },
      "source": [
        "check[\"population\"]"
      ],
      "execution_count": 6,
      "outputs": [
        {
          "output_type": "execute_result",
          "data": {
            "text/plain": [
              "0         38928341.0\n",
              "1         38928341.0\n",
              "2         38928341.0\n",
              "3         38928341.0\n",
              "4         38928341.0\n",
              "             ...    \n",
              "102470    14862927.0\n",
              "102471    14862927.0\n",
              "102472    14862927.0\n",
              "102473    14862927.0\n",
              "102474    14862927.0\n",
              "Name: population, Length: 102475, dtype: float64"
            ]
          },
          "metadata": {},
          "execution_count": 6
        }
      ]
    },
    {
      "cell_type": "code",
      "metadata": {
        "id": "kLhxUa7gZAis"
      },
      "source": [
        "dataset_UK = df[df[\"location\"] == \"United Kingdom\"]  "
      ],
      "execution_count": 7,
      "outputs": []
    },
    {
      "cell_type": "code",
      "metadata": {
        "id": "1HKWDjErZAkz"
      },
      "source": [
        "dataset_UK[\"Mortality_Rate\"] = dataset_UK[\"new_deaths\"]/ dataset_UK[\"population\"]"
      ],
      "execution_count": 8,
      "outputs": []
    },
    {
      "cell_type": "code",
      "metadata": {
        "id": "it5D3Kz2ZAms"
      },
      "source": [
        "features = [\"date\", \"new_cases\", \"reproduction_rate\", \"icu_patients\", \"hosp_patients\", \"new_tests\", \"positive_rate\", \"people_vaccinated\", \"people_fully_vaccinated\", \n",
        "            \"new_vaccinations\", \"stringency_index\", \"Mortality_Rate\"]"
      ],
      "execution_count": 9,
      "outputs": []
    },
    {
      "cell_type": "code",
      "metadata": {
        "id": "DFW1g3vrZJsr"
      },
      "source": [
        "dataset_UK = dataset_UK[features]"
      ],
      "execution_count": 10,
      "outputs": []
    },
    {
      "cell_type": "code",
      "metadata": {
        "id": "eO197j23ZJvH"
      },
      "source": [
        "dataset_UK[\"Lockdown\"] = \"\"\n",
        "\n",
        "yes1 = (dataset_UK[\"date\"] >= \"2020-05-10\") & (dataset_UK[\"date\"] <= \"2020-06-23\")\n",
        "yes2 = (dataset_UK[\"date\"] >= \"2020-10-31\") & (dataset_UK[\"date\"] <= \"2020-12-02\")\n",
        "yes3 = (dataset_UK[\"date\"] >= \"2020-12-21\") & (dataset_UK[\"date\"] <= \"2021-04-17\")\n",
        "\n",
        "dataset_UK[\"Lockdown\"][yes1] = 1\n",
        "dataset_UK[\"Lockdown\"][yes2] = 1\n",
        "dataset_UK[\"Lockdown\"][yes3] = 1\n",
        "\n",
        "dataset_UK[\"Lockdown\"] = dataset_UK[\"Lockdown\"].replace([''], 0)\n",
        "\n",
        "dataset_UK[\"Variant\"] = \"\"\n",
        "dataset_UK[\"Vaccine\"] = \"\"\n",
        "\n",
        "alpha = (dataset_UK[\"date\"] >= \"2020-09-15\") & (dataset_UK[\"date\"] <= \"2021-05-13\")\n",
        "delta = (dataset_UK[\"date\"] > \"2021-05-13\")\n",
        "\n",
        "dataset_UK[\"Variant\"][alpha] = \"Alpha\"\n",
        "dataset_UK[\"Variant\"][delta] = \"Delta\"\n",
        "\n",
        "dataset_UK[\"Variant\"] = dataset_UK[\"Variant\"].replace([''], \"First\")\n",
        "\n",
        "no_vaccine = (dataset_UK[\"date\"] >= \"2020-05-01\") & (dataset_UK[\"date\"] <= \"2021-01-09\")\n",
        "pfizer = (dataset_UK[\"date\"] > \"2021-01-09\") \n",
        "\n",
        "dataset_UK[\"Vaccine\"][no_vaccine] = \"No Vaccine\"\n",
        "dataset_UK[\"Vaccine\"][pfizer] = \"Pfizer\""
      ],
      "execution_count": 11,
      "outputs": []
    },
    {
      "cell_type": "code",
      "metadata": {
        "id": "tUgw6jVxZJxN"
      },
      "source": [
        "dataset_UK = dataset_UK[dataset_UK[\"date\"] >= \"2020-05-01\"]"
      ],
      "execution_count": 12,
      "outputs": []
    },
    {
      "cell_type": "code",
      "metadata": {
        "id": "vob4Y5ffZJzP"
      },
      "source": [
        "dataset_UK.drop([\"stringency_index\"], axis = 1, inplace = True)"
      ],
      "execution_count": 13,
      "outputs": []
    },
    {
      "cell_type": "code",
      "metadata": {
        "colab": {
          "base_uri": "https://localhost:8080/"
        },
        "id": "lGbmrFJQZaxK",
        "outputId": "dd3208e0-b904-4b74-9b71-78ff88023c91"
      },
      "source": [
        "dataset_UK.isna().sum()"
      ],
      "execution_count": 14,
      "outputs": [
        {
          "output_type": "execute_result",
          "data": {
            "text/plain": [
              "date                         0\n",
              "new_cases                    0\n",
              "reproduction_rate            1\n",
              "icu_patients                 1\n",
              "hosp_patients                1\n",
              "new_tests                    3\n",
              "positive_rate                3\n",
              "people_vaccinated          251\n",
              "people_fully_vaccinated    255\n",
              "new_vaccinations           256\n",
              "Mortality_Rate               0\n",
              "Lockdown                     0\n",
              "Variant                      0\n",
              "Vaccine                      0\n",
              "dtype: int64"
            ]
          },
          "metadata": {},
          "execution_count": 14
        }
      ]
    },
    {
      "cell_type": "code",
      "metadata": {
        "id": "qXAF_V8uZazp"
      },
      "source": [
        "dataset_UK['people_vaccinated'] = dataset_UK[\"people_vaccinated\"].fillna(0)\n",
        "dataset_UK['people_fully_vaccinated'] = dataset_UK[\"people_fully_vaccinated\"].fillna(0)\n",
        "dataset_UK['new_vaccinations'] = dataset_UK[\"new_vaccinations\"].fillna(0)"
      ],
      "execution_count": 15,
      "outputs": []
    },
    {
      "cell_type": "code",
      "metadata": {
        "id": "zXO0kZ0RZa1z"
      },
      "source": [
        "dataset_UK = dataset_UK[dataset_UK[\"date\"] < \"2021-07-12\"]"
      ],
      "execution_count": 16,
      "outputs": []
    },
    {
      "cell_type": "code",
      "metadata": {
        "id": "UlHVx0U-Zfvx"
      },
      "source": [
        "l1 = {\n",
        "    \"First\" : 0,\n",
        "    \"Alpha\" : 1,\n",
        "    \"Delta\" : 2\n",
        "}\n",
        "\n",
        "l2 = {\n",
        "    'No Vaccine' : 0,\n",
        "     'Pfizer' : 1\n",
        "}\n",
        "\n",
        "dataset_UK[\"Variant\"] = dataset_UK[\"Variant\"].map(l1)\n",
        "dataset_UK[\"Vaccine\"] = dataset_UK[\"Vaccine\"].map(l2)"
      ],
      "execution_count": 17,
      "outputs": []
    },
    {
      "cell_type": "code",
      "metadata": {
        "colab": {
          "base_uri": "https://localhost:8080/",
          "height": 379
        },
        "id": "Zj0f0QIfZgEp",
        "outputId": "e3e4958f-31a4-4675-9b20-ffd0b224da5b"
      },
      "source": [
        "#data = pd.read_csv('https://raw.githubusercontent.com/drazenz/heatmap/master/autos.clean.csv')\n",
        "\n",
        "corr = dataset_UK.corr()\n",
        "ax = sns.heatmap(\n",
        "    corr, \n",
        "    vmin = -1, vmax = 1, center = 0,\n",
        "    cmap = sns.diverging_palette(20, 220, n = 200),\n",
        "    square = True\n",
        ")"
      ],
      "execution_count": 18,
      "outputs": [
        {
          "output_type": "display_data",
          "data": {
            "image/png": "[encoded data removed]",
            "text/plain": [
              "<Figure size 432x288 with 2 Axes>"
            ]
          },
          "metadata": {
            "needs_background": "light"
          }
        }
      ]
    },
    {
      "cell_type": "code",
      "metadata": {
        "colab": {
          "base_uri": "https://localhost:8080/"
        },
        "id": "eXpwq3P0ZgHI",
        "outputId": "05b7f3f5-db60-4b31-a3b7-caeb573d6930"
      },
      "source": [
        "dataset_UK[\"Lockdown\"].unique()"
      ],
      "execution_count": 19,
      "outputs": [
        {
          "output_type": "execute_result",
          "data": {
            "text/plain": [
              "array([0, 1])"
            ]
          },
          "metadata": {},
          "execution_count": 19
        }
      ]
    },
    {
      "cell_type": "code",
      "metadata": {
        "colab": {
          "base_uri": "https://localhost:8080/"
        },
        "id": "7htOGntqZgJV",
        "outputId": "6e007299-4f11-472b-ae42-bb5d604f5d2d"
      },
      "source": [
        "dataset_UK[\"Vaccine\"].unique()"
      ],
      "execution_count": 20,
      "outputs": [
        {
          "output_type": "execute_result",
          "data": {
            "text/plain": [
              "array([0, 1])"
            ]
          },
          "metadata": {},
          "execution_count": 20
        }
      ]
    },
    {
      "cell_type": "code",
      "metadata": {
        "colab": {
          "base_uri": "https://localhost:8080/"
        },
        "id": "uo_OC-YkZgLc",
        "outputId": "52c6d055-ff86-45f7-f291-924e949991fe"
      },
      "source": [
        "dataset_UK[\"Variant\"].unique()"
      ],
      "execution_count": 21,
      "outputs": [
        {
          "output_type": "execute_result",
          "data": {
            "text/plain": [
              "array([0, 1, 2])"
            ]
          },
          "metadata": {},
          "execution_count": 21
        }
      ]
    },
    {
      "cell_type": "code",
      "metadata": {
        "colab": {
          "base_uri": "https://localhost:8080/",
          "height": 488
        },
        "id": "BS3mBbH1ZgNc",
        "outputId": "130b791a-edd5-4910-e74d-97a9e042cad2"
      },
      "source": [
        "plt.figure(figsize=(16, 6))\n",
        "# Store heatmap object in a variable to easily access it when you want to include more features (such as title).\n",
        "# Set the range of values to be displayed on the colormap from -1 to 1, and set the annotation to True to display the correlation values on the heatmap.\n",
        "heatmap = sns.heatmap(dataset_UK.corr(), vmin=-1, vmax=1, annot=True)\n",
        "# Give a title to the heatmap. Pad defines the distance of the title from the top of the heatmap.\n",
        "#heatmap.set_title('Correlation Heatmap', fontdict={'fontsize':12}, pad=12);"
      ],
      "execution_count": 22,
      "outputs": [
        {
          "output_type": "display_data",
          "data": {
            "image/png": "[encoded data removed]",
            "text/plain": [
              "<Figure size 1152x432 with 2 Axes>"
            ]
          },
          "metadata": {
            "needs_background": "light"
          }
        }
      ]
    },
    {
      "cell_type": "code",
      "metadata": {
        "id": "rQBj421FZqz5"
      },
      "source": [
        "dataset_UK.set_index(\"date\", inplace = True)"
      ],
      "execution_count": 23,
      "outputs": []
    },
    {
      "cell_type": "code",
      "metadata": {
        "colab": {
          "base_uri": "https://localhost:8080/",
          "height": 290
        },
        "id": "lz9wIxnjZq2d",
        "outputId": "0cec2e36-2b15-4d4b-ab6b-ef8a7cb14abd"
      },
      "source": [
        "plt.scatter(dataset_UK[\"Variant\"], dataset_UK[\"Mortality_Rate\"])\n",
        "\n",
        "\n",
        "plt.xlabel(\"Variant\") #x label\n",
        "plt.ylabel(\"Mortality Rate\") #y label\n",
        "plt.show()"
      ],
      "execution_count": 24,
      "outputs": [
        {
          "output_type": "display_data",
          "data": {
            "image/png": "[encoded data removed]",
            "text/plain": [
              "<Figure size 432x288 with 1 Axes>"
            ]
          },
          "metadata": {
            "needs_background": "light"
          }
        }
      ]
    },
    {
      "cell_type": "code",
      "metadata": {
        "colab": {
          "base_uri": "https://localhost:8080/"
        },
        "id": "bpujRy1rZq4g",
        "outputId": "10afa40b-87fe-476b-daca-77fa8ca94e46"
      },
      "source": [
        "dataset_UK.isna().sum()"
      ],
      "execution_count": 25,
      "outputs": [
        {
          "output_type": "execute_result",
          "data": {
            "text/plain": [
              "new_cases                  0\n",
              "reproduction_rate          0\n",
              "icu_patients               0\n",
              "hosp_patients              0\n",
              "new_tests                  0\n",
              "positive_rate              0\n",
              "people_vaccinated          0\n",
              "people_fully_vaccinated    0\n",
              "new_vaccinations           0\n",
              "Mortality_Rate             0\n",
              "Lockdown                   0\n",
              "Variant                    0\n",
              "Vaccine                    0\n",
              "dtype: int64"
            ]
          },
          "metadata": {},
          "execution_count": 25
        }
      ]
    },
    {
      "cell_type": "code",
      "metadata": {
        "colab": {
          "base_uri": "https://localhost:8080/",
          "height": 338
        },
        "id": "Bj8xedv0Zq6s",
        "outputId": "7674407e-8fec-49fb-91f4-73a3253a5ff7"
      },
      "source": [
        "dataset_UK.head()"
      ],
      "execution_count": 26,
      "outputs": [
        {
          "output_type": "execute_result",
          "data": {
            "text/html": [
              "<div>\n",
              "<style scoped>\n",
              "    .dataframe tbody tr th:only-of-type {\n",
              "        vertical-align: middle;\n",
              "    }\n",
              "\n",
              "    .dataframe tbody tr th {\n",
              "        vertical-align: top;\n",
              "    }\n",
              "\n",
              "    .dataframe thead th {\n",
              "        text-align: right;\n",
              "    }\n",
              "</style>\n",
              "<table border=\"1\" class=\"dataframe\">\n",
              "  <thead>\n",
              "    <tr style=\"text-align: right;\">\n",
              "      <th></th>\n",
              "      <th>new_cases</th>\n",
              "      <th>reproduction_rate</th>\n",
              "      <th>icu_patients</th>\n",
              "      <th>hosp_patients</th>\n",
              "      <th>new_tests</th>\n",
              "      <th>positive_rate</th>\n",
              "      <th>people_vaccinated</th>\n",
              "      <th>people_fully_vaccinated</th>\n",
              "      <th>new_vaccinations</th>\n",
              "      <th>Mortality_Rate</th>\n",
              "      <th>Lockdown</th>\n",
              "      <th>Variant</th>\n",
              "      <th>Vaccine</th>\n",
              "    </tr>\n",
              "    <tr>\n",
              "      <th>date</th>\n",
              "      <th></th>\n",
              "      <th></th>\n",
              "      <th></th>\n",
              "      <th></th>\n",
              "      <th></th>\n",
              "      <th></th>\n",
              "      <th></th>\n",
              "      <th></th>\n",
              "      <th></th>\n",
              "      <th></th>\n",
              "      <th></th>\n",
              "      <th></th>\n",
              "      <th></th>\n",
              "    </tr>\n",
              "  </thead>\n",
              "  <tbody>\n",
              "    <tr>\n",
              "      <th>2020-05-01</th>\n",
              "      <td>4730.0</td>\n",
              "      <td>0.94</td>\n",
              "      <td>2178.0</td>\n",
              "      <td>14723.0</td>\n",
              "      <td>74142.0</td>\n",
              "      <td>0.088</td>\n",
              "      <td>0.0</td>\n",
              "      <td>0.0</td>\n",
              "      <td>0.0</td>\n",
              "      <td>0.000010</td>\n",
              "      <td>0</td>\n",
              "      <td>0</td>\n",
              "      <td>0</td>\n",
              "    </tr>\n",
              "    <tr>\n",
              "      <th>2020-05-02</th>\n",
              "      <td>3230.0</td>\n",
              "      <td>0.91</td>\n",
              "      <td>2068.0</td>\n",
              "      <td>14380.0</td>\n",
              "      <td>63559.0</td>\n",
              "      <td>0.079</td>\n",
              "      <td>0.0</td>\n",
              "      <td>0.0</td>\n",
              "      <td>0.0</td>\n",
              "      <td>0.000009</td>\n",
              "      <td>0</td>\n",
              "      <td>0</td>\n",
              "      <td>0</td>\n",
              "    </tr>\n",
              "    <tr>\n",
              "      <th>2020-05-03</th>\n",
              "      <td>2977.0</td>\n",
              "      <td>0.87</td>\n",
              "      <td>2009.0</td>\n",
              "      <td>14188.0</td>\n",
              "      <td>68203.0</td>\n",
              "      <td>0.071</td>\n",
              "      <td>0.0</td>\n",
              "      <td>0.0</td>\n",
              "      <td>0.0</td>\n",
              "      <td>0.000004</td>\n",
              "      <td>0</td>\n",
              "      <td>0</td>\n",
              "      <td>0</td>\n",
              "    </tr>\n",
              "    <tr>\n",
              "      <th>2020-05-04</th>\n",
              "      <td>3383.0</td>\n",
              "      <td>0.82</td>\n",
              "      <td>1936.0</td>\n",
              "      <td>14097.0</td>\n",
              "      <td>72630.0</td>\n",
              "      <td>0.061</td>\n",
              "      <td>0.0</td>\n",
              "      <td>0.0</td>\n",
              "      <td>0.0</td>\n",
              "      <td>0.000004</td>\n",
              "      <td>0</td>\n",
              "      <td>0</td>\n",
              "      <td>0</td>\n",
              "    </tr>\n",
              "    <tr>\n",
              "      <th>2020-05-05</th>\n",
              "      <td>3689.0</td>\n",
              "      <td>0.81</td>\n",
              "      <td>1874.0</td>\n",
              "      <td>13723.0</td>\n",
              "      <td>66919.0</td>\n",
              "      <td>0.057</td>\n",
              "      <td>0.0</td>\n",
              "      <td>0.0</td>\n",
              "      <td>0.0</td>\n",
              "      <td>0.000011</td>\n",
              "      <td>0</td>\n",
              "      <td>0</td>\n",
              "      <td>0</td>\n",
              "    </tr>\n",
              "  </tbody>\n",
              "</table>\n",
              "</div>"
            ],
            "text/plain": [
              "            new_cases  reproduction_rate  ...  Variant  Vaccine\n",
              "date                                      ...                  \n",
              "2020-05-01     4730.0               0.94  ...        0        0\n",
              "2020-05-02     3230.0               0.91  ...        0        0\n",
              "2020-05-03     2977.0               0.87  ...        0        0\n",
              "2020-05-04     3383.0               0.82  ...        0        0\n",
              "2020-05-05     3689.0               0.81  ...        0        0\n",
              "\n",
              "[5 rows x 13 columns]"
            ]
          },
          "metadata": {},
          "execution_count": 26
        }
      ]
    },
    {
      "cell_type": "code",
      "metadata": {
        "id": "Rr-J0tdKZq8y"
      },
      "source": [
        "features = [\"new_cases\", \"reproduction_rate\", \"icu_patients\", \"hosp_patients\", \"new_tests\", \"positive_rate\", \"people_vaccinated\", \"people_fully_vaccinated\", \n",
        "            \"new_vaccinations\", \"Lockdown\", \"Variant\", \"Vaccine\", \"Mortality_Rate\"]"
      ],
      "execution_count": 27,
      "outputs": []
    },
    {
      "cell_type": "code",
      "metadata": {
        "id": "ektZlWCNaCII"
      },
      "source": [
        "dataset_UK = dataset_UK[features]"
      ],
      "execution_count": 28,
      "outputs": []
    },
    {
      "cell_type": "code",
      "metadata": {
        "colab": {
          "base_uri": "https://localhost:8080/",
          "height": 338
        },
        "id": "2Eh-oZVIaFQC",
        "outputId": "35d702d0-f2a2-458d-cd4c-cb0d34df7056"
      },
      "source": [
        "dataset_UK.tail()"
      ],
      "execution_count": 29,
      "outputs": [
        {
          "output_type": "execute_result",
          "data": {
            "text/html": [
              "<div>\n",
              "<style scoped>\n",
              "    .dataframe tbody tr th:only-of-type {\n",
              "        vertical-align: middle;\n",
              "    }\n",
              "\n",
              "    .dataframe tbody tr th {\n",
              "        vertical-align: top;\n",
              "    }\n",
              "\n",
              "    .dataframe thead th {\n",
              "        text-align: right;\n",
              "    }\n",
              "</style>\n",
              "<table border=\"1\" class=\"dataframe\">\n",
              "  <thead>\n",
              "    <tr style=\"text-align: right;\">\n",
              "      <th></th>\n",
              "      <th>new_cases</th>\n",
              "      <th>reproduction_rate</th>\n",
              "      <th>icu_patients</th>\n",
              "      <th>hosp_patients</th>\n",
              "      <th>new_tests</th>\n",
              "      <th>positive_rate</th>\n",
              "      <th>people_vaccinated</th>\n",
              "      <th>people_fully_vaccinated</th>\n",
              "      <th>new_vaccinations</th>\n",
              "      <th>Lockdown</th>\n",
              "      <th>Variant</th>\n",
              "      <th>Vaccine</th>\n",
              "      <th>Mortality_Rate</th>\n",
              "    </tr>\n",
              "    <tr>\n",
              "      <th>date</th>\n",
              "      <th></th>\n",
              "      <th></th>\n",
              "      <th></th>\n",
              "      <th></th>\n",
              "      <th></th>\n",
              "      <th></th>\n",
              "      <th></th>\n",
              "      <th></th>\n",
              "      <th></th>\n",
              "      <th></th>\n",
              "      <th></th>\n",
              "      <th></th>\n",
              "      <th></th>\n",
              "    </tr>\n",
              "  </thead>\n",
              "  <tbody>\n",
              "    <tr>\n",
              "      <th>2021-07-07</th>\n",
              "      <td>32061.0</td>\n",
              "      <td>1.31</td>\n",
              "      <td>417.0</td>\n",
              "      <td>2651.0</td>\n",
              "      <td>1237992.0</td>\n",
              "      <td>0.024</td>\n",
              "      <td>45601445.0</td>\n",
              "      <td>34198779.0</td>\n",
              "      <td>258430.0</td>\n",
              "      <td>0</td>\n",
              "      <td>2</td>\n",
              "      <td>1</td>\n",
              "      <td>4.861090e-07</td>\n",
              "    </tr>\n",
              "    <tr>\n",
              "      <th>2021-07-08</th>\n",
              "      <td>32096.0</td>\n",
              "      <td>1.30</td>\n",
              "      <td>417.0</td>\n",
              "      <td>2736.0</td>\n",
              "      <td>1114234.0</td>\n",
              "      <td>0.025</td>\n",
              "      <td>45697875.0</td>\n",
              "      <td>34374246.0</td>\n",
              "      <td>271897.0</td>\n",
              "      <td>0</td>\n",
              "      <td>2</td>\n",
              "      <td>1</td>\n",
              "      <td>5.303008e-07</td>\n",
              "    </tr>\n",
              "    <tr>\n",
              "      <th>2021-07-09</th>\n",
              "      <td>35885.0</td>\n",
              "      <td>1.30</td>\n",
              "      <td>437.0</td>\n",
              "      <td>2907.0</td>\n",
              "      <td>889492.0</td>\n",
              "      <td>0.026</td>\n",
              "      <td>45787958.0</td>\n",
              "      <td>34553065.0</td>\n",
              "      <td>268902.0</td>\n",
              "      <td>0</td>\n",
              "      <td>2</td>\n",
              "      <td>1</td>\n",
              "      <td>4.419173e-07</td>\n",
              "    </tr>\n",
              "    <tr>\n",
              "      <th>2021-07-10</th>\n",
              "      <td>31835.0</td>\n",
              "      <td>1.30</td>\n",
              "      <td>448.0</td>\n",
              "      <td>2999.0</td>\n",
              "      <td>733853.0</td>\n",
              "      <td>0.027</td>\n",
              "      <td>45881721.0</td>\n",
              "      <td>34764511.0</td>\n",
              "      <td>305209.0</td>\n",
              "      <td>0</td>\n",
              "      <td>2</td>\n",
              "      <td>1</td>\n",
              "      <td>5.008396e-07</td>\n",
              "    </tr>\n",
              "    <tr>\n",
              "      <th>2021-07-11</th>\n",
              "      <td>31382.0</td>\n",
              "      <td>1.31</td>\n",
              "      <td>454.0</td>\n",
              "      <td>3142.0</td>\n",
              "      <td>1118189.0</td>\n",
              "      <td>0.028</td>\n",
              "      <td>45923721.0</td>\n",
              "      <td>34872131.0</td>\n",
              "      <td>149620.0</td>\n",
              "      <td>0</td>\n",
              "      <td>2</td>\n",
              "      <td>1</td>\n",
              "      <td>3.829950e-07</td>\n",
              "    </tr>\n",
              "  </tbody>\n",
              "</table>\n",
              "</div>"
            ],
            "text/plain": [
              "            new_cases  reproduction_rate  ...  Vaccine  Mortality_Rate\n",
              "date                                      ...                         \n",
              "2021-07-07    32061.0               1.31  ...        1    4.861090e-07\n",
              "2021-07-08    32096.0               1.30  ...        1    5.303008e-07\n",
              "2021-07-09    35885.0               1.30  ...        1    4.419173e-07\n",
              "2021-07-10    31835.0               1.30  ...        1    5.008396e-07\n",
              "2021-07-11    31382.0               1.31  ...        1    3.829950e-07\n",
              "\n",
              "[5 rows x 13 columns]"
            ]
          },
          "metadata": {},
          "execution_count": 29
        }
      ]
    },
    {
      "cell_type": "code",
      "metadata": {
        "id": "6bEKUUA5aJai"
      },
      "source": [
        "check = check[check[\"location\"] == \"United Kingdom\"]"
      ],
      "execution_count": 30,
      "outputs": []
    },
    {
      "cell_type": "code",
      "metadata": {
        "colab": {
          "base_uri": "https://localhost:8080/"
        },
        "id": "8Bp4espoaiA9",
        "outputId": "201524f8-882c-4d9e-dddf-0ec53085543a"
      },
      "source": [
        "check[\"gdp_per_capita\"]"
      ],
      "execution_count": 31,
      "outputs": [
        {
          "output_type": "execute_result",
          "data": {
            "text/plain": [
              "96578    39753.244\n",
              "96579    39753.244\n",
              "96580    39753.244\n",
              "96581    39753.244\n",
              "96582    39753.244\n",
              "           ...    \n",
              "97104    39753.244\n",
              "97105    39753.244\n",
              "97106    39753.244\n",
              "97107    39753.244\n",
              "97108    39753.244\n",
              "Name: gdp_per_capita, Length: 531, dtype: float64"
            ]
          },
          "metadata": {},
          "execution_count": 31
        }
      ]
    },
    {
      "cell_type": "code",
      "metadata": {
        "id": "up-sA0-Maras"
      },
      "source": [
        "dataset_UK[\"GDP_PER_CAPITA\"] = 39753.244"
      ],
      "execution_count": 32,
      "outputs": []
    },
    {
      "cell_type": "code",
      "metadata": {
        "id": "foXc0vXSa3_0"
      },
      "source": [
        ""
      ],
      "execution_count": 32,
      "outputs": []
    },
    {
      "cell_type": "code",
      "metadata": {
        "id": "AcSvcKQya5hM"
      },
      "source": [
        "features = [\"new_cases\", \"reproduction_rate\", \"icu_patients\", \"hosp_patients\", \"new_tests\", \"positive_rate\", \"people_vaccinated\", \"people_fully_vaccinated\", \n",
        "            \"new_vaccinations\", \"Lockdown\", \"Variant\", \"Vaccine\", \"GDP_PER_CAPITA\",  \"Population\", \"Mortality_Rate\"]"
      ],
      "execution_count": 33,
      "outputs": []
    },
    {
      "cell_type": "code",
      "metadata": {
        "id": "vqbE0VvnmjX_"
      },
      "source": [
        "dataset_UK[\"Population\"] =  67886004.0"
      ],
      "execution_count": 34,
      "outputs": []
    },
    {
      "cell_type": "code",
      "metadata": {
        "id": "pZTIHsJDa-vq"
      },
      "source": [
        "dataset_UK = dataset_UK[features]"
      ],
      "execution_count": 35,
      "outputs": []
    },
    {
      "cell_type": "code",
      "metadata": {
        "colab": {
          "base_uri": "https://localhost:8080/",
          "height": 338
        },
        "id": "v2T4nT1QbBdq",
        "outputId": "34cbd455-ae6d-4c62-8589-46941943421e"
      },
      "source": [
        "dataset_UK.head()"
      ],
      "execution_count": 36,
      "outputs": [
        {
          "output_type": "execute_result",
          "data": {
            "text/html": [
              "<div>\n",
              "<style scoped>\n",
              "    .dataframe tbody tr th:only-of-type {\n",
              "        vertical-align: middle;\n",
              "    }\n",
              "\n",
              "    .dataframe tbody tr th {\n",
              "        vertical-align: top;\n",
              "    }\n",
              "\n",
              "    .dataframe thead th {\n",
              "        text-align: right;\n",
              "    }\n",
              "</style>\n",
              "<table border=\"1\" class=\"dataframe\">\n",
              "  <thead>\n",
              "    <tr style=\"text-align: right;\">\n",
              "      <th></th>\n",
              "      <th>new_cases</th>\n",
              "      <th>reproduction_rate</th>\n",
              "      <th>icu_patients</th>\n",
              "      <th>hosp_patients</th>\n",
              "      <th>new_tests</th>\n",
              "      <th>positive_rate</th>\n",
              "      <th>people_vaccinated</th>\n",
              "      <th>people_fully_vaccinated</th>\n",
              "      <th>new_vaccinations</th>\n",
              "      <th>Lockdown</th>\n",
              "      <th>Variant</th>\n",
              "      <th>Vaccine</th>\n",
              "      <th>GDP_PER_CAPITA</th>\n",
              "      <th>Population</th>\n",
              "      <th>Mortality_Rate</th>\n",
              "    </tr>\n",
              "    <tr>\n",
              "      <th>date</th>\n",
              "      <th></th>\n",
              "      <th></th>\n",
              "      <th></th>\n",
              "      <th></th>\n",
              "      <th></th>\n",
              "      <th></th>\n",
              "      <th></th>\n",
              "      <th></th>\n",
              "      <th></th>\n",
              "      <th></th>\n",
              "      <th></th>\n",
              "      <th></th>\n",
              "      <th></th>\n",
              "      <th></th>\n",
              "      <th></th>\n",
              "    </tr>\n",
              "  </thead>\n",
              "  <tbody>\n",
              "    <tr>\n",
              "      <th>2020-05-01</th>\n",
              "      <td>4730.0</td>\n",
              "      <td>0.94</td>\n",
              "      <td>2178.0</td>\n",
              "      <td>14723.0</td>\n",
              "      <td>74142.0</td>\n",
              "      <td>0.088</td>\n",
              "      <td>0.0</td>\n",
              "      <td>0.0</td>\n",
              "      <td>0.0</td>\n",
              "      <td>0</td>\n",
              "      <td>0</td>\n",
              "      <td>0</td>\n",
              "      <td>39753.244</td>\n",
              "      <td>67886004.0</td>\n",
              "      <td>0.000010</td>\n",
              "    </tr>\n",
              "    <tr>\n",
              "      <th>2020-05-02</th>\n",
              "      <td>3230.0</td>\n",
              "      <td>0.91</td>\n",
              "      <td>2068.0</td>\n",
              "      <td>14380.0</td>\n",
              "      <td>63559.0</td>\n",
              "      <td>0.079</td>\n",
              "      <td>0.0</td>\n",
              "      <td>0.0</td>\n",
              "      <td>0.0</td>\n",
              "      <td>0</td>\n",
              "      <td>0</td>\n",
              "      <td>0</td>\n",
              "      <td>39753.244</td>\n",
              "      <td>67886004.0</td>\n",
              "      <td>0.000009</td>\n",
              "    </tr>\n",
              "    <tr>\n",
              "      <th>2020-05-03</th>\n",
              "      <td>2977.0</td>\n",
              "      <td>0.87</td>\n",
              "      <td>2009.0</td>\n",
              "      <td>14188.0</td>\n",
              "      <td>68203.0</td>\n",
              "      <td>0.071</td>\n",
              "      <td>0.0</td>\n",
              "      <td>0.0</td>\n",
              "      <td>0.0</td>\n",
              "      <td>0</td>\n",
              "      <td>0</td>\n",
              "      <td>0</td>\n",
              "      <td>39753.244</td>\n",
              "      <td>67886004.0</td>\n",
              "      <td>0.000004</td>\n",
              "    </tr>\n",
              "    <tr>\n",
              "      <th>2020-05-04</th>\n",
              "      <td>3383.0</td>\n",
              "      <td>0.82</td>\n",
              "      <td>1936.0</td>\n",
              "      <td>14097.0</td>\n",
              "      <td>72630.0</td>\n",
              "      <td>0.061</td>\n",
              "      <td>0.0</td>\n",
              "      <td>0.0</td>\n",
              "      <td>0.0</td>\n",
              "      <td>0</td>\n",
              "      <td>0</td>\n",
              "      <td>0</td>\n",
              "      <td>39753.244</td>\n",
              "      <td>67886004.0</td>\n",
              "      <td>0.000004</td>\n",
              "    </tr>\n",
              "    <tr>\n",
              "      <th>2020-05-05</th>\n",
              "      <td>3689.0</td>\n",
              "      <td>0.81</td>\n",
              "      <td>1874.0</td>\n",
              "      <td>13723.0</td>\n",
              "      <td>66919.0</td>\n",
              "      <td>0.057</td>\n",
              "      <td>0.0</td>\n",
              "      <td>0.0</td>\n",
              "      <td>0.0</td>\n",
              "      <td>0</td>\n",
              "      <td>0</td>\n",
              "      <td>0</td>\n",
              "      <td>39753.244</td>\n",
              "      <td>67886004.0</td>\n",
              "      <td>0.000011</td>\n",
              "    </tr>\n",
              "  </tbody>\n",
              "</table>\n",
              "</div>"
            ],
            "text/plain": [
              "            new_cases  reproduction_rate  ...  Population  Mortality_Rate\n",
              "date                                      ...                            \n",
              "2020-05-01     4730.0               0.94  ...  67886004.0        0.000010\n",
              "2020-05-02     3230.0               0.91  ...  67886004.0        0.000009\n",
              "2020-05-03     2977.0               0.87  ...  67886004.0        0.000004\n",
              "2020-05-04     3383.0               0.82  ...  67886004.0        0.000004\n",
              "2020-05-05     3689.0               0.81  ...  67886004.0        0.000011\n",
              "\n",
              "[5 rows x 15 columns]"
            ]
          },
          "metadata": {},
          "execution_count": 36
        }
      ]
    },
    {
      "cell_type": "code",
      "metadata": {
        "colab": {
          "base_uri": "https://localhost:8080/"
        },
        "id": "Z_njqZMXbClC",
        "outputId": "e1b25487-8bcb-43b1-aceb-57653ffe0359"
      },
      "source": [
        "len(dataset_UK)"
      ],
      "execution_count": 37,
      "outputs": [
        {
          "output_type": "execute_result",
          "data": {
            "text/plain": [
              "437"
            ]
          },
          "metadata": {},
          "execution_count": 37
        }
      ]
    },
    {
      "cell_type": "code",
      "metadata": {
        "colab": {
          "base_uri": "https://localhost:8080/",
          "height": 480
        },
        "id": "qyko6GcWbC_a",
        "outputId": "3caa7890-0718-4c16-b303-d4cc15ae222f"
      },
      "source": [
        "\n",
        "train = dataset_UK[ : 380]\n",
        "test = dataset_UK[380 : ]\n",
        "\n",
        "features = [\"Population\", \"Mortality_Rate\"]\n",
        "\n",
        "train = train[features]\n",
        "test = test[features]\n",
        "\n",
        "X_train = train.iloc[ : ,  : -1]\n",
        "Y_train = train.iloc[ : , -1 : ]\n",
        "\n",
        "X_test = test.iloc[ : ,  : -1]\n",
        "Y_test = test.iloc[ : , -1 : ]\n",
        "\n",
        "sc = StandardScaler()\n",
        "X_train = sc.fit_transform(X_train)\n",
        "X_test = sc.fit_transform(X_test)\n",
        "Y_train = sc.fit_transform(Y_train)\n",
        "Y_test = sc.fit_transform(Y_test)\n",
        "\n",
        "estimators = [\n",
        "             # (\"knn\", KNeighborsRegressor(n_neighbors = 44)),\n",
        "              #(\"xgb\", xgb.XGBRegressor(random_state = SEED)),\n",
        "              (\"lasso\", Lasso(alpha = 1))\n",
        "\n",
        "]\n",
        "\n",
        "reg = StackingRegressor(\n",
        "    estimators = estimators ,\n",
        "    #final_estimator = KNeighborsRegressor(n_neighbors = 10)\n",
        ")\n",
        "\n",
        "reg.fit(X_train, Y_train)\n",
        "predict = reg.predict(X_test)\n",
        "\n",
        "r2 = r2_score(Y_test, predict)\n",
        "mae = mean_absolute_error(Y_test, predict)\n",
        "mse = mean_squared_error(Y_test, predict)\n",
        "print(\"------------------------------------------------\")\n",
        "print(\"------------------------------------------------\")\n",
        "print(\"------------------------------------------------\")\n",
        "print(\"------------------------------------------------\")\n",
        "print(f\"The r2 score is : {r2}\")\n",
        "print(f\"The Mean absolute error is : {mae}\")\n",
        "print(f\"The Mean squared error score is : {mse}\")\n",
        "print(\"------------------------------------------------\")\n",
        "print(\"------------------------------------------------\")\n",
        "print(\"------------------------------------------------\")\n",
        "print(\"------------------------------------------------\")\n",
        "\n",
        "plt.scatter(predict, Y_test)"
      ],
      "execution_count": 38,
      "outputs": [
        {
          "output_type": "stream",
          "name": "stdout",
          "text": [
            "------------------------------------------------\n",
            "------------------------------------------------\n",
            "------------------------------------------------\n",
            "------------------------------------------------\n",
            "The r2 score is : 2.220446049250313e-16\n",
            "The Mean absolute error is : 0.810722961639796\n",
            "The Mean squared error score is : 1.0\n",
            "------------------------------------------------\n",
            "------------------------------------------------\n",
            "------------------------------------------------\n",
            "------------------------------------------------\n"
          ]
        },
        {
          "output_type": "execute_result",
          "data": {
            "text/plain": [
              "<matplotlib.collections.PathCollection at 0x7f851ee443d0>"
            ]
          },
          "metadata": {},
          "execution_count": 38
        },
        {
          "output_type": "display_data",
          "data": {
            "image/png": "[encoded data removed]",
            "text/plain": [
              "<Figure size 432x288 with 1 Axes>"
            ]
          },
          "metadata": {
            "needs_background": "light"
          }
        }
      ]
    },
    {
      "cell_type": "code",
      "metadata": {
        "id": "c0S-bQonbDBe"
      },
      "source": [
        "a = [0.0025, -0.03, 0.04, 0.07,-0.02, 0.03, 0.0032, 0.0, -0.0015, 0.024, 0.00211]\n",
        "b = [\"New cases\", \"Reproduction Rate\", \"ICU patients\", \"Hospital Patients\", \"New tests\", \"Positive rate\", \"People vaccinated\", \"People fully vaccinated\", \"New vaccinations\", \"GDP per capita\", \"Population\"]"
      ],
      "execution_count": 39,
      "outputs": []
    },
    {
      "cell_type": "code",
      "metadata": {
        "colab": {
          "base_uri": "https://localhost:8080/"
        },
        "id": "dOycnj0hfNqw",
        "outputId": "b3a2c836-3f14-457f-f31e-226a685adcb9"
      },
      "source": [
        "a = -4.6631374139849413e-07\n",
        "a.as_integer_ratio()"
      ],
      "execution_count": 40,
      "outputs": [
        {
          "output_type": "execute_result",
          "data": {
            "text/plain": [
              "(-262511299, 562949953421312)"
            ]
          },
          "metadata": {},
          "execution_count": 40
        }
      ]
    },
    {
      "cell_type": "code",
      "metadata": {
        "colab": {
          "base_uri": "https://localhost:8080/"
        },
        "id": "GBQbZAUNfaRk",
        "outputId": "cb6d9849-87f8-4622-9c84-86298e9d9ec0"
      },
      "source": [
        "-262511299/562949953421312"
      ],
      "execution_count": 41,
      "outputs": [
        {
          "output_type": "execute_result",
          "data": {
            "text/plain": [
              "-4.6631374139849413e-07"
            ]
          },
          "metadata": {},
          "execution_count": 41
        }
      ]
    },
    {
      "cell_type": "code",
      "metadata": {
        "colab": {
          "base_uri": "https://localhost:8080/",
          "height": 480
        },
        "id": "2vy7Q-7YfcDY",
        "outputId": "4c829de7-1bad-43d9-9a2d-c90e7fcceb01"
      },
      "source": [
        "\n",
        "train = dataset_UK[ : 400]\n",
        "test = dataset_UK[400 : ]\n",
        "\n",
        "features = [\"reproduction_rate\", \"Mortality_Rate\"]\n",
        "\n",
        "train = train[features]\n",
        "test = test[features]\n",
        "\n",
        "X_train = train.iloc[ : ,  : -1]\n",
        "Y_train = train.iloc[ : , -1 : ]\n",
        "\n",
        "X_test = test.iloc[ : ,  : -1]\n",
        "Y_test = test.iloc[ : , -1 : ]\n",
        "\n",
        "sc = StandardScaler()\n",
        "X_train = sc.fit_transform(X_train)\n",
        "X_test = sc.fit_transform(X_test)\n",
        "Y_train = sc.fit_transform(Y_train)\n",
        "Y_test = sc.fit_transform(Y_test)\n",
        "\n",
        "estimators = [\n",
        "             # (\"knn\", KNeighborsRegressor(n_neighbors = 44)),\n",
        "              #(\"xgb\", xgb.XGBRegressor(random_state = SEED)),\n",
        "              (\"lasso\", Lasso(alpha = 1))\n",
        "\n",
        "]\n",
        "\n",
        "reg = StackingRegressor(\n",
        "    estimators = estimators ,\n",
        "    #final_estimator = KNeighborsRegressor(n_neighbors = 10)\n",
        ")\n",
        "\n",
        "reg.fit(X_train, Y_train)\n",
        "predict = reg.predict(X_test)\n",
        "\n",
        "r2 = r2_score(Y_test, predict)\n",
        "mae = mean_absolute_error(Y_test, predict)\n",
        "mse = mean_squared_error(Y_test, predict)\n",
        "print(\"------------------------------------------------\")\n",
        "print(\"------------------------------------------------\")\n",
        "print(\"------------------------------------------------\")\n",
        "print(\"------------------------------------------------\")\n",
        "print(f\"The r2 score is : {r2}\")\n",
        "print(f\"The Mean absolute error is : {mae}\")\n",
        "print(f\"The Mean squared error score is : {mse}\")\n",
        "print(\"------------------------------------------------\")\n",
        "print(\"------------------------------------------------\")\n",
        "print(\"------------------------------------------------\")\n",
        "print(\"------------------------------------------------\")\n",
        "\n",
        "plt.scatter(predict, Y_test)"
      ],
      "execution_count": 42,
      "outputs": [
        {
          "output_type": "stream",
          "name": "stdout",
          "text": [
            "------------------------------------------------\n",
            "------------------------------------------------\n",
            "------------------------------------------------\n",
            "------------------------------------------------\n",
            "The r2 score is : 0.0\n",
            "The Mean absolute error is : 0.8367798186728023\n",
            "The Mean squared error score is : 0.9999999999999998\n",
            "------------------------------------------------\n",
            "------------------------------------------------\n",
            "------------------------------------------------\n",
            "------------------------------------------------\n"
          ]
        },
        {
          "output_type": "execute_result",
          "data": {
            "text/plain": [
              "<matplotlib.collections.PathCollection at 0x7f851cdbce10>"
            ]
          },
          "metadata": {},
          "execution_count": 42
        },
        {
          "output_type": "display_data",
          "data": {
            "image/png": "[encoded data removed]",
            "text/plain": [
              "<Figure size 432x288 with 1 Axes>"
            ]
          },
          "metadata": {
            "needs_background": "light"
          }
        }
      ]
    },
    {
      "cell_type": "code",
      "metadata": {
        "colab": {
          "base_uri": "https://localhost:8080/",
          "height": 635
        },
        "id": "QADUnNGKfm1O",
        "outputId": "58ba3bd8-2aa5-4b60-9c82-d1eda8716c15"
      },
      "source": [
        "dataset_UK"
      ],
      "execution_count": 43,
      "outputs": [
        {
          "output_type": "execute_result",
          "data": {
            "text/html": [
              "<div>\n",
              "<style scoped>\n",
              "    .dataframe tbody tr th:only-of-type {\n",
              "        vertical-align: middle;\n",
              "    }\n",
              "\n",
              "    .dataframe tbody tr th {\n",
              "        vertical-align: top;\n",
              "    }\n",
              "\n",
              "    .dataframe thead th {\n",
              "        text-align: right;\n",
              "    }\n",
              "</style>\n",
              "<table border=\"1\" class=\"dataframe\">\n",
              "  <thead>\n",
              "    <tr style=\"text-align: right;\">\n",
              "      <th></th>\n",
              "      <th>new_cases</th>\n",
              "      <th>reproduction_rate</th>\n",
              "      <th>icu_patients</th>\n",
              "      <th>hosp_patients</th>\n",
              "      <th>new_tests</th>\n",
              "      <th>positive_rate</th>\n",
              "      <th>people_vaccinated</th>\n",
              "      <th>people_fully_vaccinated</th>\n",
              "      <th>new_vaccinations</th>\n",
              "      <th>Lockdown</th>\n",
              "      <th>Variant</th>\n",
              "      <th>Vaccine</th>\n",
              "      <th>GDP_PER_CAPITA</th>\n",
              "      <th>Population</th>\n",
              "      <th>Mortality_Rate</th>\n",
              "    </tr>\n",
              "    <tr>\n",
              "      <th>date</th>\n",
              "      <th></th>\n",
              "      <th></th>\n",
              "      <th></th>\n",
              "      <th></th>\n",
              "      <th></th>\n",
              "      <th></th>\n",
              "      <th></th>\n",
              "      <th></th>\n",
              "      <th></th>\n",
              "      <th></th>\n",
              "      <th></th>\n",
              "      <th></th>\n",
              "      <th></th>\n",
              "      <th></th>\n",
              "      <th></th>\n",
              "    </tr>\n",
              "  </thead>\n",
              "  <tbody>\n",
              "    <tr>\n",
              "      <th>2020-05-01</th>\n",
              "      <td>4730.0</td>\n",
              "      <td>0.94</td>\n",
              "      <td>2178.0</td>\n",
              "      <td>14723.0</td>\n",
              "      <td>74142.0</td>\n",
              "      <td>0.088</td>\n",
              "      <td>0.0</td>\n",
              "      <td>0.0</td>\n",
              "      <td>0.0</td>\n",
              "      <td>0</td>\n",
              "      <td>0</td>\n",
              "      <td>0</td>\n",
              "      <td>39753.244</td>\n",
              "      <td>67886004.0</td>\n",
              "      <td>1.031140e-05</td>\n",
              "    </tr>\n",
              "    <tr>\n",
              "      <th>2020-05-02</th>\n",
              "      <td>3230.0</td>\n",
              "      <td>0.91</td>\n",
              "      <td>2068.0</td>\n",
              "      <td>14380.0</td>\n",
              "      <td>63559.0</td>\n",
              "      <td>0.079</td>\n",
              "      <td>0.0</td>\n",
              "      <td>0.0</td>\n",
              "      <td>0.0</td>\n",
              "      <td>0</td>\n",
              "      <td>0</td>\n",
              "      <td>0</td>\n",
              "      <td>39753.244</td>\n",
              "      <td>67886004.0</td>\n",
              "      <td>8.617387e-06</td>\n",
              "    </tr>\n",
              "    <tr>\n",
              "      <th>2020-05-03</th>\n",
              "      <td>2977.0</td>\n",
              "      <td>0.87</td>\n",
              "      <td>2009.0</td>\n",
              "      <td>14188.0</td>\n",
              "      <td>68203.0</td>\n",
              "      <td>0.071</td>\n",
              "      <td>0.0</td>\n",
              "      <td>0.0</td>\n",
              "      <td>0.0</td>\n",
              "      <td>0</td>\n",
              "      <td>0</td>\n",
              "      <td>0</td>\n",
              "      <td>39753.244</td>\n",
              "      <td>67886004.0</td>\n",
              "      <td>3.726836e-06</td>\n",
              "    </tr>\n",
              "    <tr>\n",
              "      <th>2020-05-04</th>\n",
              "      <td>3383.0</td>\n",
              "      <td>0.82</td>\n",
              "      <td>1936.0</td>\n",
              "      <td>14097.0</td>\n",
              "      <td>72630.0</td>\n",
              "      <td>0.061</td>\n",
              "      <td>0.0</td>\n",
              "      <td>0.0</td>\n",
              "      <td>0.0</td>\n",
              "      <td>0</td>\n",
              "      <td>0</td>\n",
              "      <td>0</td>\n",
              "      <td>39753.244</td>\n",
              "      <td>67886004.0</td>\n",
              "      <td>4.021447e-06</td>\n",
              "    </tr>\n",
              "    <tr>\n",
              "      <th>2020-05-05</th>\n",
              "      <td>3689.0</td>\n",
              "      <td>0.81</td>\n",
              "      <td>1874.0</td>\n",
              "      <td>13723.0</td>\n",
              "      <td>66919.0</td>\n",
              "      <td>0.057</td>\n",
              "      <td>0.0</td>\n",
              "      <td>0.0</td>\n",
              "      <td>0.0</td>\n",
              "      <td>0</td>\n",
              "      <td>0</td>\n",
              "      <td>0</td>\n",
              "      <td>39753.244</td>\n",
              "      <td>67886004.0</td>\n",
              "      <td>1.067967e-05</td>\n",
              "    </tr>\n",
              "    <tr>\n",
              "      <th>...</th>\n",
              "      <td>...</td>\n",
              "      <td>...</td>\n",
              "      <td>...</td>\n",
              "      <td>...</td>\n",
              "      <td>...</td>\n",
              "      <td>...</td>\n",
              "      <td>...</td>\n",
              "      <td>...</td>\n",
              "      <td>...</td>\n",
              "      <td>...</td>\n",
              "      <td>...</td>\n",
              "      <td>...</td>\n",
              "      <td>...</td>\n",
              "      <td>...</td>\n",
              "      <td>...</td>\n",
              "    </tr>\n",
              "    <tr>\n",
              "      <th>2021-07-07</th>\n",
              "      <td>32061.0</td>\n",
              "      <td>1.31</td>\n",
              "      <td>417.0</td>\n",
              "      <td>2651.0</td>\n",
              "      <td>1237992.0</td>\n",
              "      <td>0.024</td>\n",
              "      <td>45601445.0</td>\n",
              "      <td>34198779.0</td>\n",
              "      <td>258430.0</td>\n",
              "      <td>0</td>\n",
              "      <td>2</td>\n",
              "      <td>1</td>\n",
              "      <td>39753.244</td>\n",
              "      <td>67886004.0</td>\n",
              "      <td>4.861090e-07</td>\n",
              "    </tr>\n",
              "    <tr>\n",
              "      <th>2021-07-08</th>\n",
              "      <td>32096.0</td>\n",
              "      <td>1.30</td>\n",
              "      <td>417.0</td>\n",
              "      <td>2736.0</td>\n",
              "      <td>1114234.0</td>\n",
              "      <td>0.025</td>\n",
              "      <td>45697875.0</td>\n",
              "      <td>34374246.0</td>\n",
              "      <td>271897.0</td>\n",
              "      <td>0</td>\n",
              "      <td>2</td>\n",
              "      <td>1</td>\n",
              "      <td>39753.244</td>\n",
              "      <td>67886004.0</td>\n",
              "      <td>5.303008e-07</td>\n",
              "    </tr>\n",
              "    <tr>\n",
              "      <th>2021-07-09</th>\n",
              "      <td>35885.0</td>\n",
              "      <td>1.30</td>\n",
              "      <td>437.0</td>\n",
              "      <td>2907.0</td>\n",
              "      <td>889492.0</td>\n",
              "      <td>0.026</td>\n",
              "      <td>45787958.0</td>\n",
              "      <td>34553065.0</td>\n",
              "      <td>268902.0</td>\n",
              "      <td>0</td>\n",
              "      <td>2</td>\n",
              "      <td>1</td>\n",
              "      <td>39753.244</td>\n",
              "      <td>67886004.0</td>\n",
              "      <td>4.419173e-07</td>\n",
              "    </tr>\n",
              "    <tr>\n",
              "      <th>2021-07-10</th>\n",
              "      <td>31835.0</td>\n",
              "      <td>1.30</td>\n",
              "      <td>448.0</td>\n",
              "      <td>2999.0</td>\n",
              "      <td>733853.0</td>\n",
              "      <td>0.027</td>\n",
              "      <td>45881721.0</td>\n",
              "      <td>34764511.0</td>\n",
              "      <td>305209.0</td>\n",
              "      <td>0</td>\n",
              "      <td>2</td>\n",
              "      <td>1</td>\n",
              "      <td>39753.244</td>\n",
              "      <td>67886004.0</td>\n",
              "      <td>5.008396e-07</td>\n",
              "    </tr>\n",
              "    <tr>\n",
              "      <th>2021-07-11</th>\n",
              "      <td>31382.0</td>\n",
              "      <td>1.31</td>\n",
              "      <td>454.0</td>\n",
              "      <td>3142.0</td>\n",
              "      <td>1118189.0</td>\n",
              "      <td>0.028</td>\n",
              "      <td>45923721.0</td>\n",
              "      <td>34872131.0</td>\n",
              "      <td>149620.0</td>\n",
              "      <td>0</td>\n",
              "      <td>2</td>\n",
              "      <td>1</td>\n",
              "      <td>39753.244</td>\n",
              "      <td>67886004.0</td>\n",
              "      <td>3.829950e-07</td>\n",
              "    </tr>\n",
              "  </tbody>\n",
              "</table>\n",
              "<p>437 rows × 15 columns</p>\n",
              "</div>"
            ],
            "text/plain": [
              "            new_cases  reproduction_rate  ...  Population  Mortality_Rate\n",
              "date                                      ...                            \n",
              "2020-05-01     4730.0               0.94  ...  67886004.0    1.031140e-05\n",
              "2020-05-02     3230.0               0.91  ...  67886004.0    8.617387e-06\n",
              "2020-05-03     2977.0               0.87  ...  67886004.0    3.726836e-06\n",
              "2020-05-04     3383.0               0.82  ...  67886004.0    4.021447e-06\n",
              "2020-05-05     3689.0               0.81  ...  67886004.0    1.067967e-05\n",
              "...               ...                ...  ...         ...             ...\n",
              "2021-07-07    32061.0               1.31  ...  67886004.0    4.861090e-07\n",
              "2021-07-08    32096.0               1.30  ...  67886004.0    5.303008e-07\n",
              "2021-07-09    35885.0               1.30  ...  67886004.0    4.419173e-07\n",
              "2021-07-10    31835.0               1.30  ...  67886004.0    5.008396e-07\n",
              "2021-07-11    31382.0               1.31  ...  67886004.0    3.829950e-07\n",
              "\n",
              "[437 rows x 15 columns]"
            ]
          },
          "metadata": {},
          "execution_count": 43
        }
      ]
    },
    {
      "cell_type": "code",
      "metadata": {
        "colab": {
          "base_uri": "https://localhost:8080/",
          "height": 496
        },
        "id": "-X9sfLuMf2Ht",
        "outputId": "d7f2f838-5015-4e45-f49f-ed8cdee33689"
      },
      "source": [
        "train = dataset_UK[ : 400]\n",
        "test = dataset_UK[400 : ]\n",
        "\n",
        "features = [\"Vaccine\", \"Mortality_Rate\"]\n",
        "\n",
        "train = train[features]\n",
        "test = test[features]\n",
        "\n",
        "X_train = train.iloc[ : ,  : -1]\n",
        "Y_train = train.iloc[ : , -1 : ]\n",
        "\n",
        "X_test = test.iloc[ : ,  : -1]\n",
        "Y_test = test.iloc[ : , -1 : ]\n",
        "\n",
        "sc = StandardScaler()\n",
        "X_train = sc.fit_transform(X_train)\n",
        "X_test = sc.fit_transform(X_test)\n",
        "Y_train = sc.fit_transform(Y_train)\n",
        "Y_test = sc.fit_transform(Y_test)\n",
        "\n",
        "estimators = [\n",
        "              #(\"knn\", KNeighborsRegressor(n_neighbors = 44)),\n",
        "              #(\"xgb\", xgb.XGBRegressor(random_state = SEED)),\n",
        "              (\"lasso\", Lasso(alpha = 1))\n",
        "\n",
        "]\n",
        "\n",
        "reg = StackingRegressor(\n",
        "    estimators = estimators ,\n",
        "  #  final_estimator = KNeighborsRegressor(n_neighbors = 10)\n",
        ")\n",
        "\n",
        "reg.fit(X_train, Y_train)\n",
        "predict = reg.predict(X_test)\n",
        "\n",
        "r2 = r2_score(Y_test, predict)\n",
        "mae = mean_absolute_error(Y_test, predict)\n",
        "mse = mean_squared_error(Y_test, predict)\n",
        "print(\"------------------------------------------------\")\n",
        "print(\"------------------------------------------------\")\n",
        "print(\"------------------------------------------------\")\n",
        "print(\"------------------------------------------------\")\n",
        "print(f\"The r2 score is : {r2}\")\n",
        "print(f\"The Mean absolute error is : {mae}\")\n",
        "print(f\"The Mean squared error score is : {mse}\")\n",
        "print(\"------------------------------------------------\")\n",
        "print(\"------------------------------------------------\")\n",
        "print(\"------------------------------------------------\")\n",
        "print(\"------------------------------------------------\")\n",
        "\n",
        "plt.scatter(predict, Y_test)\n",
        "plt.title(\"Vaccine\")"
      ],
      "execution_count": 44,
      "outputs": [
        {
          "output_type": "stream",
          "name": "stdout",
          "text": [
            "------------------------------------------------\n",
            "------------------------------------------------\n",
            "------------------------------------------------\n",
            "------------------------------------------------\n",
            "The r2 score is : 0.0\n",
            "The Mean absolute error is : 0.8367798186728023\n",
            "The Mean squared error score is : 0.9999999999999998\n",
            "------------------------------------------------\n",
            "------------------------------------------------\n",
            "------------------------------------------------\n",
            "------------------------------------------------\n"
          ]
        },
        {
          "output_type": "execute_result",
          "data": {
            "text/plain": [
              "Text(0.5, 1.0, 'Vaccine')"
            ]
          },
          "metadata": {},
          "execution_count": 44
        },
        {
          "output_type": "display_data",
          "data": {
            "image/png": "[encoded data removed]",
            "text/plain": [
              "<Figure size 432x288 with 1 Axes>"
            ]
          },
          "metadata": {
            "needs_background": "light"
          }
        }
      ]
    },
    {
      "cell_type": "code",
      "metadata": {
        "id": "sA4CKNaXf2cE"
      },
      "source": [
        "a = [-0.448477840488116, 0.06208363651735416, 0.3931197129900058, 0.46567331528211864 ,-0.16185721697723876,0.31675936520288284, -0.30533947410537343, -0.893424282470713, -0.1543368221476884, -0.1771739047244627, -0.1771739047244627, -0.13745758649892226, -0.3314571071106014, -0.401488034385443]\n",
        "b = [\"New cases\", \"Reproduction Rate\", \"ICU patients\", \"Hospital Patients\", \"New tests\", \"Positive rate\", \"People vaccinated\", \"People fully vaccinated\", \"New vaccinations\", \"GDP per capita\", \"Population\", \"Lockdown\", \"Variant\", \"Vaccine\"]\n",
        "c = [0.7558059440435333, 0.82877344017137, 0.6124008005366653, 0.6274022578161009, 0.8368714439721661, 0.764981523883939, 0.946662279750325, 0.8466737757705006, 0.8369732670682634, 0.8368064276801915, 0.8328905430725957,0.8368207006419054, 0.8368888757965631 ]\n",
        "d = [0.818959014590692, 0.9661863147926321, 0.6096716257999564, 0.5985923022656644, 1.0041944759203594, 0.8449910899651566, 1.3370653269649777, 1.0294447574093655, 0.9998802061784641, 1.0000001077006406, 1.0023009033518422, 1.0000002542286843, 1.0000018091268437]"
      ],
      "execution_count": 45,
      "outputs": []
    },
    {
      "cell_type": "code",
      "metadata": {
        "colab": {
          "base_uri": "https://localhost:8080/"
        },
        "id": "n4PJk0J84nlu",
        "outputId": "a0200dec-ab29-4e7d-a57e-c8975f7ff7be"
      },
      "source": [
        "train = dataset_UK[ : 400]\n",
        "test = dataset_UK[400 : ]\n",
        "features = [\"icu_patients\", \"Mortality_Rate\"]\n",
        "train = train[features]\n",
        "test = test[features]\n",
        "X_train = train.iloc[ : ,  : -1]\n",
        "Y_train = train.iloc[ : , -1 : ]\n",
        "X_test = test.iloc[ : ,  : -1]\n",
        "Y_test = test.iloc[ : , -1 : ]\n",
        "sc = StandardScaler()\n",
        "X_train = sc.fit_transform(X_train)\n",
        "X_test = sc.fit_transform(X_test)\n",
        "Y_train = sc.fit_transform(Y_train)\n",
        "Y_test = sc.fit_transform(Y_test)\n",
        "estimators = [\n",
        "              (\"knn\", KNeighborsRegressor(n_neighbors = 44)),\n",
        "              #(\"xgb\", xgb.XGBRegressor(random_state = SEED)),\n",
        "              (\"lasso\", Lasso(alpha = 1))]\n",
        "reg = StackingRegressor(\n",
        "    estimators = estimators ,\n",
        "    final_estimator = KNeighborsRegressor(n_neighbors = 10)\n",
        ")\n",
        "reg.fit(X_train, Y_train)\n",
        "predict = reg.predict(X_test)\n",
        "r2 = r2_score(Y_test, predict)\n",
        "mae = mean_absolute_error(Y_test, predict)\n",
        "mse = mean_squared_error(Y_test, predict)\n",
        "\n",
        "\n",
        "print(f\"The r2 score is : {r2}\")\n",
        "print(f\"The Mean absolute error is : {mae}\")\n",
        "print(f\"The Mean squared error score is : {mse}\")\n",
        "print(\"------------------------------------------------\")"
      ],
      "execution_count": 46,
      "outputs": [
        {
          "output_type": "stream",
          "name": "stdout",
          "text": [
            "The r2 score is : 0.3931197129900058\n",
            "The Mean absolute error is : 0.6443812526235317\n",
            "The Mean squared error score is : 0.6068802870099941\n",
            "------------------------------------------------\n"
          ]
        }
      ]
    },
    {
      "cell_type": "code",
      "metadata": {
        "colab": {
          "base_uri": "https://localhost:8080/"
        },
        "id": "ayXlI-r0R1S_",
        "outputId": "68d9351d-c226-458e-8da2-fe7245a786ea"
      },
      "source": [
        "predict"
      ],
      "execution_count": 47,
      "outputs": [
        {
          "output_type": "execute_result",
          "data": {
            "text/plain": [
              "array([-0.6594313 , -0.6594313 , -0.6594313 , -0.6594313 , -0.6594313 ,\n",
              "       -0.6594313 , -0.6594313 , -0.6594313 , -0.6594313 , -0.6594313 ,\n",
              "       -0.45331423, -0.45331423, -0.45331423, -0.22541009, -0.27242428,\n",
              "       -0.45331423, -0.14141523, -0.02674649, -0.02674649,  0.31955313,\n",
              "        0.18625071,  0.14812336,  0.45113552,  0.33331338,  0.38434098,\n",
              "        0.42734176,  0.33331338,  0.33331338,  0.45801565,  0.55749079,\n",
              "        0.55749079,  0.6022116 ,  0.51649671,  0.51649671,  0.569531  ,\n",
              "        2.3285496 ,  2.3285496 ])"
            ]
          },
          "metadata": {},
          "execution_count": 47
        }
      ]
    },
    {
      "cell_type": "code",
      "metadata": {
        "colab": {
          "base_uri": "https://localhost:8080/",
          "height": 447
        },
        "id": "PWTzDT22Xmic",
        "outputId": "f2b21a7a-0ec4-434f-f487-3b913b3b8980"
      },
      "source": [
        "train"
      ],
      "execution_count": 48,
      "outputs": [
        {
          "output_type": "execute_result",
          "data": {
            "text/html": [
              "<div>\n",
              "<style scoped>\n",
              "    .dataframe tbody tr th:only-of-type {\n",
              "        vertical-align: middle;\n",
              "    }\n",
              "\n",
              "    .dataframe tbody tr th {\n",
              "        vertical-align: top;\n",
              "    }\n",
              "\n",
              "    .dataframe thead th {\n",
              "        text-align: right;\n",
              "    }\n",
              "</style>\n",
              "<table border=\"1\" class=\"dataframe\">\n",
              "  <thead>\n",
              "    <tr style=\"text-align: right;\">\n",
              "      <th></th>\n",
              "      <th>icu_patients</th>\n",
              "      <th>Mortality_Rate</th>\n",
              "    </tr>\n",
              "    <tr>\n",
              "      <th>date</th>\n",
              "      <th></th>\n",
              "      <th></th>\n",
              "    </tr>\n",
              "  </thead>\n",
              "  <tbody>\n",
              "    <tr>\n",
              "      <th>2020-05-01</th>\n",
              "      <td>2178.0</td>\n",
              "      <td>1.031140e-05</td>\n",
              "    </tr>\n",
              "    <tr>\n",
              "      <th>2020-05-02</th>\n",
              "      <td>2068.0</td>\n",
              "      <td>8.617387e-06</td>\n",
              "    </tr>\n",
              "    <tr>\n",
              "      <th>2020-05-03</th>\n",
              "      <td>2009.0</td>\n",
              "      <td>3.726836e-06</td>\n",
              "    </tr>\n",
              "    <tr>\n",
              "      <th>2020-05-04</th>\n",
              "      <td>1936.0</td>\n",
              "      <td>4.021447e-06</td>\n",
              "    </tr>\n",
              "    <tr>\n",
              "      <th>2020-05-05</th>\n",
              "      <td>1874.0</td>\n",
              "      <td>1.067967e-05</td>\n",
              "    </tr>\n",
              "    <tr>\n",
              "      <th>...</th>\n",
              "      <td>...</td>\n",
              "      <td>...</td>\n",
              "    </tr>\n",
              "    <tr>\n",
              "      <th>2021-05-31</th>\n",
              "      <td>122.0</td>\n",
              "      <td>2.946115e-08</td>\n",
              "    </tr>\n",
              "    <tr>\n",
              "      <th>2021-06-01</th>\n",
              "      <td>136.0</td>\n",
              "      <td>0.000000e+00</td>\n",
              "    </tr>\n",
              "    <tr>\n",
              "      <th>2021-06-02</th>\n",
              "      <td>129.0</td>\n",
              "      <td>1.767669e-07</td>\n",
              "    </tr>\n",
              "    <tr>\n",
              "      <th>2021-06-03</th>\n",
              "      <td>134.0</td>\n",
              "      <td>2.651504e-07</td>\n",
              "    </tr>\n",
              "    <tr>\n",
              "      <th>2021-06-04</th>\n",
              "      <td>130.0</td>\n",
              "      <td>1.620363e-07</td>\n",
              "    </tr>\n",
              "  </tbody>\n",
              "</table>\n",
              "<p>400 rows × 2 columns</p>\n",
              "</div>"
            ],
            "text/plain": [
              "            icu_patients  Mortality_Rate\n",
              "date                                    \n",
              "2020-05-01        2178.0    1.031140e-05\n",
              "2020-05-02        2068.0    8.617387e-06\n",
              "2020-05-03        2009.0    3.726836e-06\n",
              "2020-05-04        1936.0    4.021447e-06\n",
              "2020-05-05        1874.0    1.067967e-05\n",
              "...                  ...             ...\n",
              "2021-05-31         122.0    2.946115e-08\n",
              "2021-06-01         136.0    0.000000e+00\n",
              "2021-06-02         129.0    1.767669e-07\n",
              "2021-06-03         134.0    2.651504e-07\n",
              "2021-06-04         130.0    1.620363e-07\n",
              "\n",
              "[400 rows x 2 columns]"
            ]
          },
          "metadata": {},
          "execution_count": 48
        }
      ]
    },
    {
      "cell_type": "code",
      "metadata": {
        "colab": {
          "base_uri": "https://localhost:8080/"
        },
        "id": "-cFKhxtKXp-4",
        "outputId": "2b707f71-d126-48dd-c0e1-85f1b5c62c5c"
      },
      "source": [
        "train = dataset_UK[ : 400]\n",
        "test = dataset_UK[400 : ]\n",
        "\n",
        "X_train = train.iloc[ : ,  : -1]\n",
        "Y_train = train.iloc[ : , -1 : ]\n",
        "X_test = test.iloc[ : ,  : -1]\n",
        "Y_test = test.iloc[ : , -1 : ]\n",
        "sc = StandardScaler()\n",
        "X_train = sc.fit_transform(X_train)\n",
        "X_test = sc.fit_transform(X_test)\n",
        "Y_train = sc.fit_transform(Y_train)\n",
        "Y_test = sc.fit_transform(Y_test)\n",
        "estimators = [\n",
        "              (\"knn\", KNeighborsRegressor(n_neighbors = 44)),\n",
        "              #(\"xgb\", xgb.XGBRegressor(random_state = SEED)),\n",
        "              (\"lasso\", Lasso(alpha = 1))]\n",
        "reg = StackingRegressor(\n",
        "    estimators = estimators ,\n",
        "    final_estimator = KNeighborsRegressor(n_neighbors = 10)\n",
        ")\n",
        "reg.fit(X_train, Y_train)\n",
        "predict = reg.predict(X_test)\n",
        "\n",
        "\n",
        "r2 = r2_score(Y_test, predict)\n",
        "mae = mean_absolute_error(Y_test, predict)\n",
        "mse = mean_squared_error(Y_test, predict)\n",
        "print(\"------------------------------------------------\")\n",
        "print(f\"The r2 score is : {r2}\")\n",
        "print(f\"The Mean absolute error is : {mae}\")\n",
        "print(f\"The Mean squared error score is : {mse}\")\n",
        "print(\"------------------------------------------------\")"
      ],
      "execution_count": 49,
      "outputs": [
        {
          "output_type": "stream",
          "name": "stdout",
          "text": [
            "------------------------------------------------\n",
            "The r2 score is : 0.24137591963978544\n",
            "The Mean absolute error is : 0.7011641882846458\n",
            "The Mean squared error score is : 0.7586240803602143\n",
            "------------------------------------------------\n"
          ]
        }
      ]
    },
    {
      "cell_type": "code",
      "metadata": {
        "colab": {
          "base_uri": "https://localhost:8080/",
          "height": 282
        },
        "id": "QLYOojgO46Ps",
        "outputId": "4fd06cfd-2028-4367-f6cf-c28dce2cafb3"
      },
      "source": [
        "plt.scatter(predict, Y_test)"
      ],
      "execution_count": 50,
      "outputs": [
        {
          "output_type": "execute_result",
          "data": {
            "text/plain": [
              "<matplotlib.collections.PathCollection at 0x7f851cd1ac10>"
            ]
          },
          "metadata": {},
          "execution_count": 50
        },
        {
          "output_type": "display_data",
          "data": {
            "image/png": "[encoded data removed]",
            "text/plain": [
              "<Figure size 432x288 with 1 Axes>"
            ]
          },
          "metadata": {
            "needs_background": "light"
          }
        }
      ]
    },
    {
      "cell_type": "code",
      "metadata": {
        "colab": {
          "base_uri": "https://localhost:8080/"
        },
        "id": "fNZK57iO5J49",
        "outputId": "cee7db87-9dbb-4370-89ae-9853b5e02404"
      },
      "source": [
        "train = dataset_UK[ : 400]\n",
        "test = dataset_UK[400 : ]\n",
        "\n",
        "features = [\"icu_patients\", \"hosp_patients\", \"positive_rate\", \"reproduction_rate\", \"Mortality_Rate\"]\n",
        "train = train[features]\n",
        "test = test[features]\n",
        "\n",
        "\n",
        "X_train = train.iloc[ : ,  : -1]\n",
        "Y_train = train.iloc[ : , -1 : ]\n",
        "X_test = test.iloc[ : ,  : -1]\n",
        "Y_test = test.iloc[ : , -1 : ]\n",
        "sc = StandardScaler()\n",
        "X_train = sc.fit_transform(X_train)\n",
        "X_test = sc.fit_transform(X_test)\n",
        "Y_train = sc.fit_transform(Y_train)\n",
        "Y_test = sc.fit_transform(Y_test)\n",
        "estimators = [\n",
        "              (\"knn\", KNeighborsRegressor(n_neighbors = 44)),\n",
        "              #(\"xgb\", xgb.XGBRegressor(random_state = SEED)),\n",
        "              (\"lasso\", Lasso(alpha = 1))]\n",
        "reg = StackingRegressor(\n",
        "    estimators = estimators ,\n",
        "    final_estimator = KNeighborsRegressor(n_neighbors = 10)\n",
        ")\n",
        "reg.fit(X_train, Y_train)\n",
        "predict = reg.predict(X_test)\n",
        "\n",
        "\n",
        "r2 = r2_score(Y_test, predict)\n",
        "mae = mean_absolute_error(Y_test, predict)\n",
        "mse = mean_squared_error(Y_test, predict)\n",
        "print(\"------------------------------------------------\")\n",
        "print(f\"The r2 score is : {r2}\")\n",
        "print(f\"The Mean absolute error is : {mae}\")\n",
        "print(f\"The Mean squared error score is : {mse}\")\n",
        "print(\"------------------------------------------------\")"
      ],
      "execution_count": 51,
      "outputs": [
        {
          "output_type": "stream",
          "name": "stdout",
          "text": [
            "------------------------------------------------\n",
            "The r2 score is : 0.4571212784338865\n",
            "The Mean absolute error is : 0.6104936042764484\n",
            "The Mean squared error score is : 0.5428787215661134\n",
            "------------------------------------------------\n"
          ]
        }
      ]
    },
    {
      "cell_type": "code",
      "metadata": {
        "colab": {
          "base_uri": "https://localhost:8080/",
          "height": 265
        },
        "id": "syWfWwym8ZFQ",
        "outputId": "143d7be9-a49e-4a83-b013-70bf717d4715"
      },
      "source": [
        "plt.scatter(predict, Y_test);"
      ],
      "execution_count": 52,
      "outputs": [
        {
          "output_type": "display_data",
          "data": {
            "image/png": "[encoded data removed]",
            "text/plain": [
              "<Figure size 432x288 with 1 Axes>"
            ]
          },
          "metadata": {
            "needs_background": "light"
          }
        }
      ]
    },
    {
      "cell_type": "code",
      "metadata": {
        "colab": {
          "base_uri": "https://localhost:8080/"
        },
        "id": "viDWd8U2Y3Sz",
        "outputId": "004b8e45-8dbd-47d9-85ef-69183e7fae2b"
      },
      "source": [
        "len(dataset_UK)"
      ],
      "execution_count": 53,
      "outputs": [
        {
          "output_type": "execute_result",
          "data": {
            "text/plain": [
              "437"
            ]
          },
          "metadata": {},
          "execution_count": 53
        }
      ]
    },
    {
      "cell_type": "code",
      "metadata": {
        "colab": {
          "base_uri": "https://localhost:8080/"
        },
        "id": "tLpalwXx8clX",
        "outputId": "9d716798-83e3-456d-a21f-61f46bf77da2"
      },
      "source": [
        "train = dataset_UK[ : 430]\n",
        "test = dataset_UK[430 : ]\n",
        "\n",
        "features = [\"icu_patients\", \"positive_rate\", \"reproduction_rate\", \"Mortality_Rate\"]\n",
        "train = train[features]\n",
        "test = test[features]\n",
        "\n",
        "\n",
        "X_train = train.iloc[ : ,  : -1]\n",
        "Y_train = train.iloc[ : , -1 : ]\n",
        "X_test = test.iloc[ : ,  : -1]\n",
        "Y_test = test.iloc[ : , -1 : ]\n",
        "sc = StandardScaler()\n",
        "X_train = sc.fit_transform(X_train)\n",
        "X_test = sc.fit_transform(X_test)\n",
        "Y_train = sc.fit_transform(Y_train)\n",
        "Y_test = sc.fit_transform(Y_test)\n",
        "estimators = [\n",
        "              (\"knn\", KNeighborsRegressor(n_neighbors = 44)),\n",
        "              #(\"xgb\", xgb.XGBRegressor(random_state = SEED)),\n",
        "              (\"lasso\", Lasso(alpha = 1))]\n",
        "reg = StackingRegressor(\n",
        "    estimators = estimators ,\n",
        "    final_estimator = KNeighborsRegressor(n_neighbors = 10)\n",
        ")\n",
        "reg.fit(X_train, Y_train)\n",
        "predict = reg.predict(X_test)\n",
        "\n",
        "\n",
        "r2 = r2_score(Y_test, predict)\n",
        "mae = mean_absolute_error(Y_test, predict)\n",
        "mse = mean_squared_error(Y_test, predict)\n",
        "print(\"------------------------------------------------\")\n",
        "print(f\"The r2 score is : {r2}\")\n",
        "print(f\"The Mean absolute error is : {mae}\")\n",
        "print(f\"The Mean squared error score is : {mse}\")\n",
        "print(\"------------------------------------------------\")"
      ],
      "execution_count": 54,
      "outputs": [
        {
          "output_type": "stream",
          "name": "stdout",
          "text": [
            "------------------------------------------------\n",
            "The r2 score is : 0.03900109635836335\n",
            "The Mean absolute error is : 0.8230185893692469\n",
            "The Mean squared error score is : 0.960998903641637\n",
            "------------------------------------------------\n"
          ]
        }
      ]
    },
    {
      "cell_type": "code",
      "metadata": {
        "colab": {
          "base_uri": "https://localhost:8080/",
          "height": 268
        },
        "id": "anKu1F-R_USp",
        "outputId": "1c38ffc9-b470-41fa-86b4-914630fdce74"
      },
      "source": [
        "plt.scatter(predict, Y_test);"
      ],
      "execution_count": 55,
      "outputs": [
        {
          "output_type": "display_data",
          "data": {
            "image/png": "[encoded data removed]",
            "text/plain": [
              "<Figure size 432x288 with 1 Axes>"
            ]
          },
          "metadata": {
            "needs_background": "light"
          }
        }
      ]
    },
    {
      "cell_type": "code",
      "metadata": {
        "colab": {
          "base_uri": "https://localhost:8080/"
        },
        "id": "aCYfOUx8_VbY",
        "outputId": "3ede66ac-adf4-4068-c886-bd8dc67e2bb5"
      },
      "source": [
        "train = dataset_UK[ : 430]\n",
        "test = dataset_UK[430 : ]\n",
        "\n",
        "features = [\"icu_patients\", \"positive_rate\", \"reproduction_rate\", \"Mortality_Rate\"]\n",
        "train = train[features]\n",
        "test = test[features]\n",
        "\n",
        "\n",
        "X_train = train.iloc[ : ,  : -1]\n",
        "Y_train = train.iloc[ : , -1 : ]\n",
        "X_test = test.iloc[ : ,  : -1]\n",
        "Y_test = test.iloc[ : , -1 : ]\n",
        "sc = StandardScaler()\n",
        "X_train = sc.fit_transform(X_train)\n",
        "X_test = sc.fit_transform(X_test)\n",
        "Y_train = sc.fit_transform(Y_train)\n",
        "Y_test = sc.fit_transform(Y_test)\n",
        "estimators = [\n",
        "              (\"knn\", KNeighborsRegressor(n_neighbors = 44)),\n",
        "              #(\"xgb\", xgb.XGBRegressor(random_state = SEED)),\n",
        "              (\"lasso\", Lasso(alpha = 1))]\n",
        "reg = StackingRegressor(\n",
        "    estimators = estimators ,\n",
        "    final_estimator = KNeighborsRegressor(n_neighbors = 10)\n",
        ")\n",
        "reg.fit(X_train, Y_train)\n",
        "predict = reg.predict(X_test)\n",
        "\n",
        "\n",
        "r2 = r2_score(Y_test, predict)\n",
        "mae = mean_absolute_error(Y_test, predict)\n",
        "mse = mean_squared_error(Y_test, predict)\n",
        "print(\"------------------------------------------------\")\n",
        "print(f\"The r2 score is : {r2}\")\n",
        "print(f\"The Mean absolute error is : {mae}\")\n",
        "print(f\"The Mean squared error score is : {mse}\")\n",
        "print(\"------------------------------------------------\")"
      ],
      "execution_count": 56,
      "outputs": [
        {
          "output_type": "stream",
          "name": "stdout",
          "text": [
            "------------------------------------------------\n",
            "The r2 score is : 0.03900109635836335\n",
            "The Mean absolute error is : 0.8230185893692469\n",
            "The Mean squared error score is : 0.960998903641637\n",
            "------------------------------------------------\n"
          ]
        }
      ]
    },
    {
      "cell_type": "code",
      "metadata": {
        "colab": {
          "base_uri": "https://localhost:8080/",
          "height": 268
        },
        "id": "pokOnMrJ_XwO",
        "outputId": "4415755e-a2e7-42e6-9275-b104d34548d5"
      },
      "source": [
        "plt.scatter(predict, Y_test);"
      ],
      "execution_count": 57,
      "outputs": [
        {
          "output_type": "display_data",
          "data": {
            "image/png": "[encoded data removed]",
            "text/plain": [
              "<Figure size 432x288 with 1 Axes>"
            ]
          },
          "metadata": {
            "needs_background": "light"
          }
        }
      ]
    },
    {
      "cell_type": "code",
      "metadata": {
        "colab": {
          "base_uri": "https://localhost:8080/"
        },
        "id": "Z8AQkpJ7_Y-3",
        "outputId": "8d708039-5ec7-4d6c-db92-47e7d188cd37"
      },
      "source": [
        "train = dataset_UK[ : 430]\n",
        "test = dataset_UK[430 : ]\n",
        "\n",
        "\n",
        "\n",
        "X_train = train.iloc[ : ,  : -1]\n",
        "Y_train = train.iloc[ : , -1 : ]\n",
        "X_test = test.iloc[ : ,  : -1]\n",
        "Y_test = test.iloc[ : , -1 : ]\n",
        "\n",
        "sc = StandardScaler()\n",
        "X_train = sc.fit_transform(X_train)\n",
        "X_test = sc.fit_transform(X_test)\n",
        "Y_train = sc.fit_transform(Y_train)\n",
        "Y_test = sc.fit_transform(Y_test)\n",
        "\n",
        "\n",
        "reg = RandomForestRegressor(random_state = 42)\n",
        "reg.fit(X_train, Y_train)\n",
        "predict = reg.predict(X_test)\n",
        "\n",
        "\n",
        "r2 = r2_score(Y_test, predict)\n",
        "mae = mean_absolute_error(Y_test, predict)\n",
        "mse = mean_squared_error(Y_test, predict)\n",
        "print(\"------------------------------------------------\")\n",
        "print(f\"The r2 score is : {r2}\")\n",
        "print(f\"The Mean absolute error is : {mae}\")\n",
        "print(f\"The Mean squared error score is : {mse}\")"
      ],
      "execution_count": 58,
      "outputs": [
        {
          "output_type": "stream",
          "name": "stdout",
          "text": [
            "------------------------------------------------\n",
            "The r2 score is : -0.03793767723713182\n",
            "The Mean absolute error is : 0.8623885104488805\n",
            "The Mean squared error score is : 1.037937677237132\n"
          ]
        }
      ]
    },
    {
      "cell_type": "code",
      "metadata": {
        "id": "_InRgEVK_5GY"
      },
      "source": [
        "importances = reg.feature_importances_"
      ],
      "execution_count": 59,
      "outputs": []
    },
    {
      "cell_type": "code",
      "metadata": {
        "colab": {
          "base_uri": "https://localhost:8080/"
        },
        "id": "i4Kt98ZQ_-Oo",
        "outputId": "de125024-6349-461c-d33c-175ecfc7350c"
      },
      "source": [
        "importances"
      ],
      "execution_count": 60,
      "outputs": [
        {
          "output_type": "execute_result",
          "data": {
            "text/plain": [
              "array([2.04592777e-02, 1.41072939e-02, 2.26368387e-01, 6.29146979e-01,\n",
              "       5.35971250e-02, 1.11653931e-02, 8.47969031e-03, 6.59970412e-03,\n",
              "       2.84929338e-02, 1.73055083e-04, 7.96884133e-04, 6.13276350e-04,\n",
              "       0.00000000e+00, 0.00000000e+00])"
            ]
          },
          "metadata": {},
          "execution_count": 60
        }
      ]
    },
    {
      "cell_type": "code",
      "metadata": {
        "colab": {
          "base_uri": "https://localhost:8080/"
        },
        "id": "WbOBdRdnAbGg",
        "outputId": "8d10a3f7-5146-4d76-c4ac-62f5a87a1802"
      },
      "source": [
        "type(importances)"
      ],
      "execution_count": 61,
      "outputs": [
        {
          "output_type": "execute_result",
          "data": {
            "text/plain": [
              "numpy.ndarray"
            ]
          },
          "metadata": {},
          "execution_count": 61
        }
      ]
    },
    {
      "cell_type": "code",
      "metadata": {
        "id": "BskGzBAsArwB"
      },
      "source": [
        "main = [2.16801456e-02, 1.33716547e-02, 2.10386557e-01, 6.37019444e-01,\n",
        "       5.81100023e-02, 1.38647949e-02, 1.05497670e-02, 4.97986780e-03,\n",
        "       2.90343084e-02, 2.49901831e-04, 3.09969184e-04, 4.43587256e-04,\n",
        "       0.00000000e+00, 0.00000000e+00]"
      ],
      "execution_count": 62,
      "outputs": []
    },
    {
      "cell_type": "code",
      "metadata": {
        "id": "LVvxBYhhAuLi"
      },
      "source": [
        "data = pd.DataFrame(main)"
      ],
      "execution_count": 63,
      "outputs": []
    },
    {
      "cell_type": "code",
      "metadata": {
        "colab": {
          "base_uri": "https://localhost:8080/",
          "height": 480
        },
        "id": "eblINpglA2WC",
        "outputId": "e268d273-7090-4aaf-88b9-1d75eb8614f9"
      },
      "source": [
        "data"
      ],
      "execution_count": 64,
      "outputs": [
        {
          "output_type": "execute_result",
          "data": {
            "text/html": [
              "<div>\n",
              "<style scoped>\n",
              "    .dataframe tbody tr th:only-of-type {\n",
              "        vertical-align: middle;\n",
              "    }\n",
              "\n",
              "    .dataframe tbody tr th {\n",
              "        vertical-align: top;\n",
              "    }\n",
              "\n",
              "    .dataframe thead th {\n",
              "        text-align: right;\n",
              "    }\n",
              "</style>\n",
              "<table border=\"1\" class=\"dataframe\">\n",
              "  <thead>\n",
              "    <tr style=\"text-align: right;\">\n",
              "      <th></th>\n",
              "      <th>0</th>\n",
              "    </tr>\n",
              "  </thead>\n",
              "  <tbody>\n",
              "    <tr>\n",
              "      <th>0</th>\n",
              "      <td>0.021680</td>\n",
              "    </tr>\n",
              "    <tr>\n",
              "      <th>1</th>\n",
              "      <td>0.013372</td>\n",
              "    </tr>\n",
              "    <tr>\n",
              "      <th>2</th>\n",
              "      <td>0.210387</td>\n",
              "    </tr>\n",
              "    <tr>\n",
              "      <th>3</th>\n",
              "      <td>0.637019</td>\n",
              "    </tr>\n",
              "    <tr>\n",
              "      <th>4</th>\n",
              "      <td>0.058110</td>\n",
              "    </tr>\n",
              "    <tr>\n",
              "      <th>5</th>\n",
              "      <td>0.013865</td>\n",
              "    </tr>\n",
              "    <tr>\n",
              "      <th>6</th>\n",
              "      <td>0.010550</td>\n",
              "    </tr>\n",
              "    <tr>\n",
              "      <th>7</th>\n",
              "      <td>0.004980</td>\n",
              "    </tr>\n",
              "    <tr>\n",
              "      <th>8</th>\n",
              "      <td>0.029034</td>\n",
              "    </tr>\n",
              "    <tr>\n",
              "      <th>9</th>\n",
              "      <td>0.000250</td>\n",
              "    </tr>\n",
              "    <tr>\n",
              "      <th>10</th>\n",
              "      <td>0.000310</td>\n",
              "    </tr>\n",
              "    <tr>\n",
              "      <th>11</th>\n",
              "      <td>0.000444</td>\n",
              "    </tr>\n",
              "    <tr>\n",
              "      <th>12</th>\n",
              "      <td>0.000000</td>\n",
              "    </tr>\n",
              "    <tr>\n",
              "      <th>13</th>\n",
              "      <td>0.000000</td>\n",
              "    </tr>\n",
              "  </tbody>\n",
              "</table>\n",
              "</div>"
            ],
            "text/plain": [
              "           0\n",
              "0   0.021680\n",
              "1   0.013372\n",
              "2   0.210387\n",
              "3   0.637019\n",
              "4   0.058110\n",
              "5   0.013865\n",
              "6   0.010550\n",
              "7   0.004980\n",
              "8   0.029034\n",
              "9   0.000250\n",
              "10  0.000310\n",
              "11  0.000444\n",
              "12  0.000000\n",
              "13  0.000000"
            ]
          },
          "metadata": {},
          "execution_count": 64
        }
      ]
    },
    {
      "cell_type": "code",
      "metadata": {
        "colab": {
          "base_uri": "https://localhost:8080/",
          "height": 480
        },
        "id": "mDlTa7oZBByC",
        "outputId": "e58973b9-1236-4b21-8ea0-1fb521341b60"
      },
      "source": [
        "data"
      ],
      "execution_count": 65,
      "outputs": [
        {
          "output_type": "execute_result",
          "data": {
            "text/html": [
              "<div>\n",
              "<style scoped>\n",
              "    .dataframe tbody tr th:only-of-type {\n",
              "        vertical-align: middle;\n",
              "    }\n",
              "\n",
              "    .dataframe tbody tr th {\n",
              "        vertical-align: top;\n",
              "    }\n",
              "\n",
              "    .dataframe thead th {\n",
              "        text-align: right;\n",
              "    }\n",
              "</style>\n",
              "<table border=\"1\" class=\"dataframe\">\n",
              "  <thead>\n",
              "    <tr style=\"text-align: right;\">\n",
              "      <th></th>\n",
              "      <th>0</th>\n",
              "    </tr>\n",
              "  </thead>\n",
              "  <tbody>\n",
              "    <tr>\n",
              "      <th>0</th>\n",
              "      <td>0.021680</td>\n",
              "    </tr>\n",
              "    <tr>\n",
              "      <th>1</th>\n",
              "      <td>0.013372</td>\n",
              "    </tr>\n",
              "    <tr>\n",
              "      <th>2</th>\n",
              "      <td>0.210387</td>\n",
              "    </tr>\n",
              "    <tr>\n",
              "      <th>3</th>\n",
              "      <td>0.637019</td>\n",
              "    </tr>\n",
              "    <tr>\n",
              "      <th>4</th>\n",
              "      <td>0.058110</td>\n",
              "    </tr>\n",
              "    <tr>\n",
              "      <th>5</th>\n",
              "      <td>0.013865</td>\n",
              "    </tr>\n",
              "    <tr>\n",
              "      <th>6</th>\n",
              "      <td>0.010550</td>\n",
              "    </tr>\n",
              "    <tr>\n",
              "      <th>7</th>\n",
              "      <td>0.004980</td>\n",
              "    </tr>\n",
              "    <tr>\n",
              "      <th>8</th>\n",
              "      <td>0.029034</td>\n",
              "    </tr>\n",
              "    <tr>\n",
              "      <th>9</th>\n",
              "      <td>0.000250</td>\n",
              "    </tr>\n",
              "    <tr>\n",
              "      <th>10</th>\n",
              "      <td>0.000310</td>\n",
              "    </tr>\n",
              "    <tr>\n",
              "      <th>11</th>\n",
              "      <td>0.000444</td>\n",
              "    </tr>\n",
              "    <tr>\n",
              "      <th>12</th>\n",
              "      <td>0.000000</td>\n",
              "    </tr>\n",
              "    <tr>\n",
              "      <th>13</th>\n",
              "      <td>0.000000</td>\n",
              "    </tr>\n",
              "  </tbody>\n",
              "</table>\n",
              "</div>"
            ],
            "text/plain": [
              "           0\n",
              "0   0.021680\n",
              "1   0.013372\n",
              "2   0.210387\n",
              "3   0.637019\n",
              "4   0.058110\n",
              "5   0.013865\n",
              "6   0.010550\n",
              "7   0.004980\n",
              "8   0.029034\n",
              "9   0.000250\n",
              "10  0.000310\n",
              "11  0.000444\n",
              "12  0.000000\n",
              "13  0.000000"
            ]
          },
          "metadata": {},
          "execution_count": 65
        }
      ]
    },
    {
      "cell_type": "code",
      "metadata": {
        "id": "-VVFsx3fKOC_"
      },
      "source": [
        "dataset_UK.to_csv(\"dataset.csv\")"
      ],
      "execution_count": 66,
      "outputs": []
    },
    {
      "cell_type": "code",
      "metadata": {
        "colab": {
          "base_uri": "https://localhost:8080/",
          "height": 338
        },
        "id": "41EjVpI6KhSG",
        "outputId": "a0171118-c5c1-4c23-88ec-9e2de1a27f77"
      },
      "source": [
        "dataset_UK.head()"
      ],
      "execution_count": 67,
      "outputs": [
        {
          "output_type": "execute_result",
          "data": {
            "text/html": [
              "<div>\n",
              "<style scoped>\n",
              "    .dataframe tbody tr th:only-of-type {\n",
              "        vertical-align: middle;\n",
              "    }\n",
              "\n",
              "    .dataframe tbody tr th {\n",
              "        vertical-align: top;\n",
              "    }\n",
              "\n",
              "    .dataframe thead th {\n",
              "        text-align: right;\n",
              "    }\n",
              "</style>\n",
              "<table border=\"1\" class=\"dataframe\">\n",
              "  <thead>\n",
              "    <tr style=\"text-align: right;\">\n",
              "      <th></th>\n",
              "      <th>new_cases</th>\n",
              "      <th>reproduction_rate</th>\n",
              "      <th>icu_patients</th>\n",
              "      <th>hosp_patients</th>\n",
              "      <th>new_tests</th>\n",
              "      <th>positive_rate</th>\n",
              "      <th>people_vaccinated</th>\n",
              "      <th>people_fully_vaccinated</th>\n",
              "      <th>new_vaccinations</th>\n",
              "      <th>Lockdown</th>\n",
              "      <th>Variant</th>\n",
              "      <th>Vaccine</th>\n",
              "      <th>GDP_PER_CAPITA</th>\n",
              "      <th>Population</th>\n",
              "      <th>Mortality_Rate</th>\n",
              "    </tr>\n",
              "    <tr>\n",
              "      <th>date</th>\n",
              "      <th></th>\n",
              "      <th></th>\n",
              "      <th></th>\n",
              "      <th></th>\n",
              "      <th></th>\n",
              "      <th></th>\n",
              "      <th></th>\n",
              "      <th></th>\n",
              "      <th></th>\n",
              "      <th></th>\n",
              "      <th></th>\n",
              "      <th></th>\n",
              "      <th></th>\n",
              "      <th></th>\n",
              "      <th></th>\n",
              "    </tr>\n",
              "  </thead>\n",
              "  <tbody>\n",
              "    <tr>\n",
              "      <th>2020-05-01</th>\n",
              "      <td>4730.0</td>\n",
              "      <td>0.94</td>\n",
              "      <td>2178.0</td>\n",
              "      <td>14723.0</td>\n",
              "      <td>74142.0</td>\n",
              "      <td>0.088</td>\n",
              "      <td>0.0</td>\n",
              "      <td>0.0</td>\n",
              "      <td>0.0</td>\n",
              "      <td>0</td>\n",
              "      <td>0</td>\n",
              "      <td>0</td>\n",
              "      <td>39753.244</td>\n",
              "      <td>67886004.0</td>\n",
              "      <td>0.000010</td>\n",
              "    </tr>\n",
              "    <tr>\n",
              "      <th>2020-05-02</th>\n",
              "      <td>3230.0</td>\n",
              "      <td>0.91</td>\n",
              "      <td>2068.0</td>\n",
              "      <td>14380.0</td>\n",
              "      <td>63559.0</td>\n",
              "      <td>0.079</td>\n",
              "      <td>0.0</td>\n",
              "      <td>0.0</td>\n",
              "      <td>0.0</td>\n",
              "      <td>0</td>\n",
              "      <td>0</td>\n",
              "      <td>0</td>\n",
              "      <td>39753.244</td>\n",
              "      <td>67886004.0</td>\n",
              "      <td>0.000009</td>\n",
              "    </tr>\n",
              "    <tr>\n",
              "      <th>2020-05-03</th>\n",
              "      <td>2977.0</td>\n",
              "      <td>0.87</td>\n",
              "      <td>2009.0</td>\n",
              "      <td>14188.0</td>\n",
              "      <td>68203.0</td>\n",
              "      <td>0.071</td>\n",
              "      <td>0.0</td>\n",
              "      <td>0.0</td>\n",
              "      <td>0.0</td>\n",
              "      <td>0</td>\n",
              "      <td>0</td>\n",
              "      <td>0</td>\n",
              "      <td>39753.244</td>\n",
              "      <td>67886004.0</td>\n",
              "      <td>0.000004</td>\n",
              "    </tr>\n",
              "    <tr>\n",
              "      <th>2020-05-04</th>\n",
              "      <td>3383.0</td>\n",
              "      <td>0.82</td>\n",
              "      <td>1936.0</td>\n",
              "      <td>14097.0</td>\n",
              "      <td>72630.0</td>\n",
              "      <td>0.061</td>\n",
              "      <td>0.0</td>\n",
              "      <td>0.0</td>\n",
              "      <td>0.0</td>\n",
              "      <td>0</td>\n",
              "      <td>0</td>\n",
              "      <td>0</td>\n",
              "      <td>39753.244</td>\n",
              "      <td>67886004.0</td>\n",
              "      <td>0.000004</td>\n",
              "    </tr>\n",
              "    <tr>\n",
              "      <th>2020-05-05</th>\n",
              "      <td>3689.0</td>\n",
              "      <td>0.81</td>\n",
              "      <td>1874.0</td>\n",
              "      <td>13723.0</td>\n",
              "      <td>66919.0</td>\n",
              "      <td>0.057</td>\n",
              "      <td>0.0</td>\n",
              "      <td>0.0</td>\n",
              "      <td>0.0</td>\n",
              "      <td>0</td>\n",
              "      <td>0</td>\n",
              "      <td>0</td>\n",
              "      <td>39753.244</td>\n",
              "      <td>67886004.0</td>\n",
              "      <td>0.000011</td>\n",
              "    </tr>\n",
              "  </tbody>\n",
              "</table>\n",
              "</div>"
            ],
            "text/plain": [
              "            new_cases  reproduction_rate  ...  Population  Mortality_Rate\n",
              "date                                      ...                            \n",
              "2020-05-01     4730.0               0.94  ...  67886004.0        0.000010\n",
              "2020-05-02     3230.0               0.91  ...  67886004.0        0.000009\n",
              "2020-05-03     2977.0               0.87  ...  67886004.0        0.000004\n",
              "2020-05-04     3383.0               0.82  ...  67886004.0        0.000004\n",
              "2020-05-05     3689.0               0.81  ...  67886004.0        0.000011\n",
              "\n",
              "[5 rows x 15 columns]"
            ]
          },
          "metadata": {},
          "execution_count": 67
        }
      ]
    },
    {
      "cell_type": "code",
      "metadata": {
        "id": "V_msT0h29r51"
      },
      "source": [
        "import numpy as np\n",
        "import pandas as pd\n",
        "import matplotlib.pyplot as plt\n",
        "from scipy import stats"
      ],
      "execution_count": 68,
      "outputs": []
    },
    {
      "cell_type": "code",
      "metadata": {
        "colab": {
          "base_uri": "https://localhost:8080/",
          "height": 321
        },
        "id": "j2u0wU2N-8G4",
        "outputId": "e7374bfc-9cb5-4e14-fb7f-1e4a38e90fea"
      },
      "source": [
        "fig, ax = plt.subplots()\n",
        "dataset_UK[\"reproduction_rate\"].plot.kde(ax=ax, legend=False, title='A random normal distrubution with mean 0 and SD 1')\n",
        "dataset_UK.plot.hist(density=True, ax=ax)\n",
        "ax.set_ylabel('Frequency')"
      ],
      "execution_count": 69,
      "outputs": [
        {
          "output_type": "execute_result",
          "data": {
            "text/plain": [
              "Text(0, 0.5, 'Frequency')"
            ]
          },
          "metadata": {},
          "execution_count": 69
        },
        {
          "output_type": "display_data",
          "data": {
            "image/png": "[encoded data removed]",
            "text/plain": [
              "<Figure size 432x288 with 1 Axes>"
            ]
          },
          "metadata": {
            "needs_background": "light"
          }
        }
      ]
    },
    {
      "cell_type": "code",
      "metadata": {
        "colab": {
          "base_uri": "https://localhost:8080/",
          "height": 295
        },
        "id": "WqTUVlpu9sbr",
        "outputId": "812f91e8-adf2-4607-9bb2-f0c17811a378"
      },
      "source": [
        "res = stats.probplot(dataset_UK[\"new_cases\"], plot=plt)\n",
        "plt.show()"
      ],
      "execution_count": 70,
      "outputs": [
        {
          "output_type": "display_data",
          "data": {
            "image/png": "[encoded data removed]",
            "text/plain": [
              "<Figure size 432x288 with 1 Axes>"
            ]
          },
          "metadata": {
            "needs_background": "light"
          }
        }
      ]
    },
    {
      "cell_type": "code",
      "metadata": {
        "colab": {
          "base_uri": "https://localhost:8080/",
          "height": 295
        },
        "id": "bQYqlNWs9sew",
        "outputId": "4753f995-73e6-4424-9b51-508ed6b884b4"
      },
      "source": [
        "res = stats.probplot(dataset_UK[\"reproduction_rate\"], plot=plt)\n",
        "plt.show()"
      ],
      "execution_count": 71,
      "outputs": [
        {
          "output_type": "display_data",
          "data": {
            "image/png": "[encoded data removed]",
            "text/plain": [
              "<Figure size 432x288 with 1 Axes>"
            ]
          },
          "metadata": {
            "needs_background": "light"
          }
        }
      ]
    },
    {
      "cell_type": "code",
      "metadata": {
        "colab": {
          "base_uri": "https://localhost:8080/",
          "height": 295
        },
        "id": "tYlv1MM49sgL",
        "outputId": "ec0aad89-7f45-478a-ce58-daf1375434bb"
      },
      "source": [
        "res = stats.probplot(dataset_UK[\"icu_patients\"], plot=plt)\n",
        "plt.show()"
      ],
      "execution_count": 72,
      "outputs": [
        {
          "output_type": "display_data",
          "data": {
            "image/png": "[encoded data removed]",
            "text/plain": [
              "<Figure size 432x288 with 1 Axes>"
            ]
          },
          "metadata": {
            "needs_background": "light"
          }
        }
      ]
    },
    {
      "cell_type": "code",
      "metadata": {
        "colab": {
          "base_uri": "https://localhost:8080/",
          "height": 295
        },
        "id": "XoMAEdUO9siw",
        "outputId": "b1f11855-4358-4b94-c2f4-b70b8e3aca6b"
      },
      "source": [
        "res = stats.probplot(dataset_UK[\"hosp_patients\"], plot=plt)\n",
        "plt.show()"
      ],
      "execution_count": 73,
      "outputs": [
        {
          "output_type": "display_data",
          "data": {
            "image/png": "[encoded data removed]",
            "text/plain": [
              "<Figure size 432x288 with 1 Axes>"
            ]
          },
          "metadata": {
            "needs_background": "light"
          }
        }
      ]
    },
    {
      "cell_type": "code",
      "metadata": {
        "colab": {
          "base_uri": "https://localhost:8080/",
          "height": 295
        },
        "id": "ui1H6VY79slF",
        "outputId": "96ffc6ba-1326-4640-d4ca-40193b291b61"
      },
      "source": [
        "res = stats.probplot(dataset_UK[\"new_tests\"], plot=plt)\n",
        "plt.show()"
      ],
      "execution_count": 74,
      "outputs": [
        {
          "output_type": "display_data",
          "data": {
            "image/png": "[encoded data removed]",
            "text/plain": [
              "<Figure size 432x288 with 1 Axes>"
            ]
          },
          "metadata": {
            "needs_background": "light"
          }
        }
      ]
    },
    {
      "cell_type": "code",
      "metadata": {
        "colab": {
          "base_uri": "https://localhost:8080/",
          "height": 295
        },
        "id": "kGJDALHdAIrl",
        "outputId": "4c9698da-f515-4841-b3f8-e1816912ba38"
      },
      "source": [
        "res = stats.probplot(dataset_UK[\"positive_rate\"], plot=plt)\n",
        "plt.show()"
      ],
      "execution_count": 75,
      "outputs": [
        {
          "output_type": "display_data",
          "data": {
            "image/png": "[encoded data removed]",
            "text/plain": [
              "<Figure size 432x288 with 1 Axes>"
            ]
          },
          "metadata": {
            "needs_background": "light"
          }
        }
      ]
    },
    {
      "cell_type": "code",
      "metadata": {
        "colab": {
          "base_uri": "https://localhost:8080/",
          "height": 295
        },
        "id": "JzA4CYQCAL_c",
        "outputId": "6b92d880-e345-4b4f-f01b-5a858fa34e2b"
      },
      "source": [
        "res = stats.probplot(dataset_UK[\"people_vaccinated\"], plot=plt)\n",
        "plt.show()"
      ],
      "execution_count": 76,
      "outputs": [
        {
          "output_type": "display_data",
          "data": {
            "image/png": "[encoded data removed]",
            "text/plain": [
              "<Figure size 432x288 with 1 Axes>"
            ]
          },
          "metadata": {
            "needs_background": "light"
          }
        }
      ]
    },
    {
      "cell_type": "code",
      "metadata": {
        "colab": {
          "base_uri": "https://localhost:8080/",
          "height": 295
        },
        "id": "JcQLUBEBAOfk",
        "outputId": "d42f7d1d-cfaa-4a0c-e756-dbc2c66682c7"
      },
      "source": [
        "res = stats.probplot(dataset_UK[\"people_fully_vaccinated\"], plot=plt)\n",
        "plt.show()"
      ],
      "execution_count": 77,
      "outputs": [
        {
          "output_type": "display_data",
          "data": {
            "image/png": "[encoded data removed]",
            "text/plain": [
              "<Figure size 432x288 with 1 Axes>"
            ]
          },
          "metadata": {
            "needs_background": "light"
          }
        }
      ]
    },
    {
      "cell_type": "code",
      "metadata": {
        "colab": {
          "base_uri": "https://localhost:8080/",
          "height": 295
        },
        "id": "L3HH0_i7ATY8",
        "outputId": "d34dfd24-1538-4567-ca3f-f9af88251210"
      },
      "source": [
        "res = stats.probplot(dataset_UK[\"new_vaccinations\"], plot=plt)\n",
        "plt.show()"
      ],
      "execution_count": 78,
      "outputs": [
        {
          "output_type": "display_data",
          "data": {
            "image/png": "[encoded data removed]",
            "text/plain": [
              "<Figure size 432x288 with 1 Axes>"
            ]
          },
          "metadata": {
            "needs_background": "light"
          }
        }
      ]
    },
    {
      "cell_type": "code",
      "metadata": {
        "colab": {
          "base_uri": "https://localhost:8080/",
          "height": 295
        },
        "id": "qsgbQA2tAbR0",
        "outputId": "dead9dcf-9e7b-4e52-eb8a-b4b73c1a1fa2"
      },
      "source": [
        "res = stats.probplot(dataset_UK[\"Lockdown\"], plot=plt)\n",
        "plt.show()"
      ],
      "execution_count": 79,
      "outputs": [
        {
          "output_type": "display_data",
          "data": {
            "image/png": "[encoded data removed]",
            "text/plain": [
              "<Figure size 432x288 with 1 Axes>"
            ]
          },
          "metadata": {
            "needs_background": "light"
          }
        }
      ]
    },
    {
      "cell_type": "code",
      "metadata": {
        "colab": {
          "base_uri": "https://localhost:8080/",
          "height": 295
        },
        "id": "toCd2WiNAe3E",
        "outputId": "ce9ce59b-afd1-4f3d-9a78-8dbe904179df"
      },
      "source": [
        "res = stats.probplot(dataset_UK[\"Variant\"], plot=plt)\n",
        "plt.show()"
      ],
      "execution_count": 80,
      "outputs": [
        {
          "output_type": "display_data",
          "data": {
            "image/png": "[encoded data removed]",
            "text/plain": [
              "<Figure size 432x288 with 1 Axes>"
            ]
          },
          "metadata": {
            "needs_background": "light"
          }
        }
      ]
    },
    {
      "cell_type": "code",
      "metadata": {
        "colab": {
          "base_uri": "https://localhost:8080/"
        },
        "id": "CRoCG1ErApq9",
        "outputId": "d8d9fd42-5933-40eb-a56a-a4e01c680479"
      },
      "source": [
        "dataset_UK.columns"
      ],
      "execution_count": 81,
      "outputs": [
        {
          "output_type": "execute_result",
          "data": {
            "text/plain": [
              "Index(['new_cases', 'reproduction_rate', 'icu_patients', 'hosp_patients',\n",
              "       'new_tests', 'positive_rate', 'people_vaccinated',\n",
              "       'people_fully_vaccinated', 'new_vaccinations', 'Lockdown', 'Variant',\n",
              "       'Vaccine', 'GDP_PER_CAPITA', 'Population', 'Mortality_Rate'],\n",
              "      dtype='object')"
            ]
          },
          "metadata": {},
          "execution_count": 81
        }
      ]
    },
    {
      "cell_type": "code",
      "metadata": {
        "colab": {
          "base_uri": "https://localhost:8080/",
          "height": 295
        },
        "id": "278gfw4lAgMM",
        "outputId": "53c37ae0-b968-41a6-ee89-89890f811469"
      },
      "source": [
        "res = stats.probplot(dataset_UK[\"Vaccine\"], plot=plt)\n",
        "plt.show()"
      ],
      "execution_count": 82,
      "outputs": [
        {
          "output_type": "display_data",
          "data": {
            "image/png": "[encoded data removed]",
            "text/plain": [
              "<Figure size 432x288 with 1 Axes>"
            ]
          },
          "metadata": {
            "needs_background": "light"
          }
        }
      ]
    },
    {
      "cell_type": "code",
      "metadata": {
        "colab": {
          "base_uri": "https://localhost:8080/",
          "height": 295
        },
        "id": "1beyQ5QTAtEV",
        "outputId": "4caf895b-9709-45c2-e04e-f843b7fd7cc8"
      },
      "source": [
        "res = stats.probplot(dataset_UK[\"GDP_PER_CAPITA\"], plot=plt)\n",
        "plt.show()"
      ],
      "execution_count": 83,
      "outputs": [
        {
          "output_type": "display_data",
          "data": {
            "image/png": "[encoded data removed]",
            "text/plain": [
              "<Figure size 432x288 with 1 Axes>"
            ]
          },
          "metadata": {
            "needs_background": "light"
          }
        }
      ]
    },
    {
      "cell_type": "code",
      "metadata": {
        "colab": {
          "base_uri": "https://localhost:8080/",
          "height": 295
        },
        "id": "ir4BwRcfAxvd",
        "outputId": "5c58b1aa-3e0d-4688-a14f-88c358bf3821"
      },
      "source": [
        "res = stats.probplot(dataset_UK[\"Population\"], plot=plt)\n",
        "plt.show()"
      ],
      "execution_count": 84,
      "outputs": [
        {
          "output_type": "display_data",
          "data": {
            "image/png": "[encoded data removed]",
            "text/plain": [
              "<Figure size 432x288 with 1 Axes>"
            ]
          },
          "metadata": {
            "needs_background": "light"
          }
        }
      ]
    },
    {
      "cell_type": "code",
      "metadata": {
        "colab": {
          "base_uri": "https://localhost:8080/",
          "height": 295
        },
        "id": "ZV4W5AjcA1kV",
        "outputId": "4e4d712a-0549-4828-df03-0100ac88dd51"
      },
      "source": [
        "res = stats.probplot(dataset_UK[\"Mortality_Rate\"], plot=plt)\n",
        "plt.show()"
      ],
      "execution_count": 85,
      "outputs": [
        {
          "output_type": "display_data",
          "data": {
            "image/png": "[encoded data removed]",
            "text/plain": [
              "<Figure size 432x288 with 1 Axes>"
            ]
          },
          "metadata": {
            "needs_background": "light"
          }
        }
      ]
    },
    {
      "cell_type": "code",
      "metadata": {
        "id": "EjFIyR7bBMrn"
      },
      "source": [
        "import matplotlib.pyplot as plt"
      ],
      "execution_count": 86,
      "outputs": []
    },
    {
      "cell_type": "code",
      "metadata": {
        "colab": {
          "base_uri": "https://localhost:8080/",
          "height": 298
        },
        "id": "8_ecCCc4A5O9",
        "outputId": "6eb7b346-f335-409d-8929-3ac259b751b7"
      },
      "source": [
        "fig, ax = plt.subplots()\n",
        "dataset_UK[\"new_cases\"].plot.kde(ax=ax, legend=False, title='A random normal distrubution with mean 0 and SD 0.1')\n",
        "dataset_UK[\"new_cases\"].plot.hist(density=True, ax=ax)"
      ],
      "execution_count": 87,
      "outputs": [
        {
          "output_type": "execute_result",
          "data": {
            "text/plain": [
              "<matplotlib.axes._subplots.AxesSubplot at 0x7f851c652d10>"
            ]
          },
          "metadata": {},
          "execution_count": 87
        },
        {
          "output_type": "display_data",
          "data": {
            "image/png": "[encoded data removed]",
            "text/plain": [
              "<Figure size 432x288 with 1 Axes>"
            ]
          },
          "metadata": {
            "needs_background": "light"
          }
        }
      ]
    },
    {
      "cell_type": "code",
      "metadata": {
        "colab": {
          "base_uri": "https://localhost:8080/",
          "height": 298
        },
        "id": "XuqCt3AIB8z4",
        "outputId": "d6824da7-45a8-438e-8020-c59280fa9674"
      },
      "source": [
        "fig, ax = plt.subplots()\n",
        "dataset_UK[\"reproduction_rate\"].plot.kde(ax=ax, legend=False, title='A random normal distrubution with mean 0 and SD 0.1')\n",
        "dataset_UK[\"reproduction_rate\"].plot.hist(density=True, ax=ax)"
      ],
      "execution_count": 88,
      "outputs": [
        {
          "output_type": "execute_result",
          "data": {
            "text/plain": [
              "<matplotlib.axes._subplots.AxesSubplot at 0x7f851c7d54d0>"
            ]
          },
          "metadata": {},
          "execution_count": 88
        },
        {
          "output_type": "display_data",
          "data": {
            "image/png": "[encoded data removed]",
            "text/plain": [
              "<Figure size 432x288 with 1 Axes>"
            ]
          },
          "metadata": {
            "needs_background": "light"
          }
        }
      ]
    },
    {
      "cell_type": "code",
      "metadata": {
        "colab": {
          "base_uri": "https://localhost:8080/",
          "height": 298
        },
        "id": "9bAQtooWB6l0",
        "outputId": "6f4cb11e-ccc8-4887-e919-ce20443bbc27"
      },
      "source": [
        "fig, ax = plt.subplots()\n",
        "dataset_UK[\"icu_patients\"].plot.kde(ax=ax, legend=False, title='A random normal distrubution with mean 0 and SD 0.1')\n",
        "dataset_UK[\"icu_patients\"].plot.hist(density=True, ax=ax)"
      ],
      "execution_count": 89,
      "outputs": [
        {
          "output_type": "execute_result",
          "data": {
            "text/plain": [
              "<matplotlib.axes._subplots.AxesSubplot at 0x7f851cc72490>"
            ]
          },
          "metadata": {},
          "execution_count": 89
        },
        {
          "output_type": "display_data",
          "data": {
            "image/png": "[encoded data removed]",
            "text/plain": [
              "<Figure size 432x288 with 1 Axes>"
            ]
          },
          "metadata": {
            "needs_background": "light"
          }
        }
      ]
    },
    {
      "cell_type": "code",
      "metadata": {
        "colab": {
          "base_uri": "https://localhost:8080/",
          "height": 298
        },
        "id": "uoiqKng2CD0z",
        "outputId": "0d11a955-5bd1-4ff8-fec7-d72af7d80098"
      },
      "source": [
        "fig, ax = plt.subplots()\n",
        "dataset_UK[\"hosp_patients\"].plot.kde(ax=ax, legend=False, title='A random normal distrubution with mean 0 and SD 0.1')\n",
        "dataset_UK[\"hosp_patients\"].plot.hist(density=True, ax=ax)"
      ],
      "execution_count": 90,
      "outputs": [
        {
          "output_type": "execute_result",
          "data": {
            "text/plain": [
              "<matplotlib.axes._subplots.AxesSubplot at 0x7f851c91bd50>"
            ]
          },
          "metadata": {},
          "execution_count": 90
        },
        {
          "output_type": "display_data",
          "data": {
            "image/png": "[encoded data removed]",
            "text/plain": [
              "<Figure size 432x288 with 1 Axes>"
            ]
          },
          "metadata": {
            "needs_background": "light"
          }
        }
      ]
    },
    {
      "cell_type": "code",
      "metadata": {
        "colab": {
          "base_uri": "https://localhost:8080/",
          "height": 312
        },
        "id": "cgh4Y4tJCoH_",
        "outputId": "a10d9a0e-9793-4424-a275-f60941bd7628"
      },
      "source": [
        "fig, ax = plt.subplots()\n",
        "dataset_UK[\"new_tests\"].plot.kde(ax=ax, legend=False, title='A random normal distrubution with mean 0 and SD 0.1')\n",
        "dataset_UK[\"new_tests\"].plot.hist(density=True, ax=ax)"
      ],
      "execution_count": 91,
      "outputs": [
        {
          "output_type": "execute_result",
          "data": {
            "text/plain": [
              "<matplotlib.axes._subplots.AxesSubplot at 0x7f8520e2dc50>"
            ]
          },
          "metadata": {},
          "execution_count": 91
        },
        {
          "output_type": "display_data",
          "data": {
            "image/png": "[encoded data removed]",
            "text/plain": [
              "<Figure size 432x288 with 1 Axes>"
            ]
          },
          "metadata": {
            "needs_background": "light"
          }
        }
      ]
    },
    {
      "cell_type": "code",
      "metadata": {
        "colab": {
          "base_uri": "https://localhost:8080/",
          "height": 298
        },
        "id": "U5Ib9Q6xCpuc",
        "outputId": "6533f7cf-e150-4154-9293-6dbaa8a2b6ba"
      },
      "source": [
        "fig, ax = plt.subplots()\n",
        "dataset_UK[\"positive_rate\"].plot.kde(ax=ax, legend=False, title='A random normal distrubution with mean 0 and SD 0.1')\n",
        "dataset_UK[\"positive_rate\"].plot.hist(density=True, ax=ax)"
      ],
      "execution_count": 92,
      "outputs": [
        {
          "output_type": "execute_result",
          "data": {
            "text/plain": [
              "<matplotlib.axes._subplots.AxesSubplot at 0x7f85296ddd50>"
            ]
          },
          "metadata": {},
          "execution_count": 92
        },
        {
          "output_type": "display_data",
          "data": {
            "image/png": "[encoded data removed]",
            "text/plain": [
              "<Figure size 432x288 with 1 Axes>"
            ]
          },
          "metadata": {
            "needs_background": "light"
          }
        }
      ]
    },
    {
      "cell_type": "code",
      "metadata": {
        "colab": {
          "base_uri": "https://localhost:8080/",
          "height": 312
        },
        "id": "ieYOPuL-Cpw9",
        "outputId": "1e3f0922-0e36-49fb-b645-c9078955c70d"
      },
      "source": [
        "fig, ax = plt.subplots()\n",
        "dataset_UK[\"people_vaccinated\"].plot.kde(ax=ax, legend=False, title='A random normal distrubution with mean 0 and SD 0.1')\n",
        "dataset_UK[\"people_vaccinated\"].plot.hist(density=True, ax=ax)"
      ],
      "execution_count": 93,
      "outputs": [
        {
          "output_type": "execute_result",
          "data": {
            "text/plain": [
              "<matplotlib.axes._subplots.AxesSubplot at 0x7f85296d8ed0>"
            ]
          },
          "metadata": {},
          "execution_count": 93
        },
        {
          "output_type": "display_data",
          "data": {
            "image/png": "[encoded data removed]",
            "text/plain": [
              "<Figure size 432x288 with 1 Axes>"
            ]
          },
          "metadata": {
            "needs_background": "light"
          }
        }
      ]
    },
    {
      "cell_type": "code",
      "metadata": {
        "colab": {
          "base_uri": "https://localhost:8080/",
          "height": 312
        },
        "id": "YBoznemkCpy2",
        "outputId": "fd25393d-92d6-4af5-ccef-cfd58805d8ee"
      },
      "source": [
        "fig, ax = plt.subplots()\n",
        "dataset_UK[\"people_fully_vaccinated\"].plot.kde(ax=ax, legend=False, title='A random normal distrubution with mean 0 and SD 0.1')\n",
        "dataset_UK[\"people_fully_vaccinated\"].plot.hist(density=True, ax=ax)"
      ],
      "execution_count": 94,
      "outputs": [
        {
          "output_type": "execute_result",
          "data": {
            "text/plain": [
              "<matplotlib.axes._subplots.AxesSubplot at 0x7f851c70d250>"
            ]
          },
          "metadata": {},
          "execution_count": 94
        },
        {
          "output_type": "display_data",
          "data": {
            "image/png": "[encoded data removed]",
            "text/plain": [
              "<Figure size 432x288 with 1 Axes>"
            ]
          },
          "metadata": {
            "needs_background": "light"
          }
        }
      ]
    },
    {
      "cell_type": "code",
      "metadata": {
        "colab": {
          "base_uri": "https://localhost:8080/",
          "height": 312
        },
        "id": "8rSSJxXFCp0u",
        "outputId": "e9ab07ea-79a9-4fe6-eb52-22808e7a07b7"
      },
      "source": [
        "fig, ax = plt.subplots()\n",
        "dataset_UK[\"new_vaccinations\"].plot.kde(ax=ax, legend=False, title='A random normal distrubution with mean 0 and SD 0.1')\n",
        "dataset_UK[\"new_vaccinations\"].plot.hist(density=True, ax=ax)"
      ],
      "execution_count": 95,
      "outputs": [
        {
          "output_type": "execute_result",
          "data": {
            "text/plain": [
              "<matplotlib.axes._subplots.AxesSubplot at 0x7f851c5a0990>"
            ]
          },
          "metadata": {},
          "execution_count": 95
        },
        {
          "output_type": "display_data",
          "data": {
            "image/png": "[encoded data removed]",
            "text/plain": [
              "<Figure size 432x288 with 1 Axes>"
            ]
          },
          "metadata": {
            "needs_background": "light"
          }
        }
      ]
    },
    {
      "cell_type": "code",
      "metadata": {
        "colab": {
          "base_uri": "https://localhost:8080/",
          "height": 312
        },
        "id": "KFYy0QOzDPg7",
        "outputId": "c9e601b7-da0f-4b6f-bf80-cb9ae423106a"
      },
      "source": [
        "fig, ax = plt.subplots()\n",
        "dataset_UK[\"Mortality_Rate\"].plot.kde(ax=ax, legend=False, title='A random normal distrubution with mean 0 and SD 0.1')\n",
        "dataset_UK[\"Mortality_Rate\"].plot.hist(density=True, ax=ax)"
      ],
      "execution_count": 96,
      "outputs": [
        {
          "output_type": "execute_result",
          "data": {
            "text/plain": [
              "<matplotlib.axes._subplots.AxesSubplot at 0x7f851c8fcfd0>"
            ]
          },
          "metadata": {},
          "execution_count": 96
        },
        {
          "output_type": "display_data",
          "data": {
            "image/png": "[encoded data removed]",
            "text/plain": [
              "<Figure size 432x288 with 1 Axes>"
            ]
          },
          "metadata": {
            "needs_background": "light"
          }
        }
      ]
    },
    {
      "cell_type": "code",
      "metadata": {
        "colab": {
          "base_uri": "https://localhost:8080/",
          "height": 232
        },
        "id": "vrCKymfVDTw6",
        "outputId": "b019e31b-fd66-4af8-cba5-0ae1a2cff527"
      },
      "source": [
        "dataset_UK.head()"
      ],
      "execution_count": 97,
      "outputs": [
        {
          "output_type": "execute_result",
          "data": {
            "text/html": [
              "<div>\n",
              "<style scoped>\n",
              "    .dataframe tbody tr th:only-of-type {\n",
              "        vertical-align: middle;\n",
              "    }\n",
              "\n",
              "    .dataframe tbody tr th {\n",
              "        vertical-align: top;\n",
              "    }\n",
              "\n",
              "    .dataframe thead th {\n",
              "        text-align: right;\n",
              "    }\n",
              "</style>\n",
              "<table border=\"1\" class=\"dataframe\">\n",
              "  <thead>\n",
              "    <tr style=\"text-align: right;\">\n",
              "      <th></th>\n",
              "      <th>new_cases</th>\n",
              "      <th>reproduction_rate</th>\n",
              "      <th>icu_patients</th>\n",
              "      <th>hosp_patients</th>\n",
              "      <th>new_tests</th>\n",
              "      <th>positive_rate</th>\n",
              "      <th>people_vaccinated</th>\n",
              "      <th>people_fully_vaccinated</th>\n",
              "      <th>new_vaccinations</th>\n",
              "      <th>Lockdown</th>\n",
              "      <th>Variant</th>\n",
              "      <th>Vaccine</th>\n",
              "      <th>GDP_PER_CAPITA</th>\n",
              "      <th>Population</th>\n",
              "      <th>Mortality_Rate</th>\n",
              "    </tr>\n",
              "    <tr>\n",
              "      <th>date</th>\n",
              "      <th></th>\n",
              "      <th></th>\n",
              "      <th></th>\n",
              "      <th></th>\n",
              "      <th></th>\n",
              "      <th></th>\n",
              "      <th></th>\n",
              "      <th></th>\n",
              "      <th></th>\n",
              "      <th></th>\n",
              "      <th></th>\n",
              "      <th></th>\n",
              "      <th></th>\n",
              "      <th></th>\n",
              "      <th></th>\n",
              "    </tr>\n",
              "  </thead>\n",
              "  <tbody>\n",
              "    <tr>\n",
              "      <th>2020-05-01</th>\n",
              "      <td>4730.0</td>\n",
              "      <td>0.94</td>\n",
              "      <td>2178.0</td>\n",
              "      <td>14723.0</td>\n",
              "      <td>74142.0</td>\n",
              "      <td>0.088</td>\n",
              "      <td>0.0</td>\n",
              "      <td>0.0</td>\n",
              "      <td>0.0</td>\n",
              "      <td>0</td>\n",
              "      <td>0</td>\n",
              "      <td>0</td>\n",
              "      <td>39753.244</td>\n",
              "      <td>67886004.0</td>\n",
              "      <td>0.000010</td>\n",
              "    </tr>\n",
              "    <tr>\n",
              "      <th>2020-05-02</th>\n",
              "      <td>3230.0</td>\n",
              "      <td>0.91</td>\n",
              "      <td>2068.0</td>\n",
              "      <td>14380.0</td>\n",
              "      <td>63559.0</td>\n",
              "      <td>0.079</td>\n",
              "      <td>0.0</td>\n",
              "      <td>0.0</td>\n",
              "      <td>0.0</td>\n",
              "      <td>0</td>\n",
              "      <td>0</td>\n",
              "      <td>0</td>\n",
              "      <td>39753.244</td>\n",
              "      <td>67886004.0</td>\n",
              "      <td>0.000009</td>\n",
              "    </tr>\n",
              "    <tr>\n",
              "      <th>2020-05-03</th>\n",
              "      <td>2977.0</td>\n",
              "      <td>0.87</td>\n",
              "      <td>2009.0</td>\n",
              "      <td>14188.0</td>\n",
              "      <td>68203.0</td>\n",
              "      <td>0.071</td>\n",
              "      <td>0.0</td>\n",
              "      <td>0.0</td>\n",
              "      <td>0.0</td>\n",
              "      <td>0</td>\n",
              "      <td>0</td>\n",
              "      <td>0</td>\n",
              "      <td>39753.244</td>\n",
              "      <td>67886004.0</td>\n",
              "      <td>0.000004</td>\n",
              "    </tr>\n",
              "    <tr>\n",
              "      <th>2020-05-04</th>\n",
              "      <td>3383.0</td>\n",
              "      <td>0.82</td>\n",
              "      <td>1936.0</td>\n",
              "      <td>14097.0</td>\n",
              "      <td>72630.0</td>\n",
              "      <td>0.061</td>\n",
              "      <td>0.0</td>\n",
              "      <td>0.0</td>\n",
              "      <td>0.0</td>\n",
              "      <td>0</td>\n",
              "      <td>0</td>\n",
              "      <td>0</td>\n",
              "      <td>39753.244</td>\n",
              "      <td>67886004.0</td>\n",
              "      <td>0.000004</td>\n",
              "    </tr>\n",
              "    <tr>\n",
              "      <th>2020-05-05</th>\n",
              "      <td>3689.0</td>\n",
              "      <td>0.81</td>\n",
              "      <td>1874.0</td>\n",
              "      <td>13723.0</td>\n",
              "      <td>66919.0</td>\n",
              "      <td>0.057</td>\n",
              "      <td>0.0</td>\n",
              "      <td>0.0</td>\n",
              "      <td>0.0</td>\n",
              "      <td>0</td>\n",
              "      <td>0</td>\n",
              "      <td>0</td>\n",
              "      <td>39753.244</td>\n",
              "      <td>67886004.0</td>\n",
              "      <td>0.000011</td>\n",
              "    </tr>\n",
              "  </tbody>\n",
              "</table>\n",
              "</div>"
            ],
            "text/plain": [
              "            new_cases  reproduction_rate  ...  Population  Mortality_Rate\n",
              "date                                      ...                            \n",
              "2020-05-01     4730.0               0.94  ...  67886004.0        0.000010\n",
              "2020-05-02     3230.0               0.91  ...  67886004.0        0.000009\n",
              "2020-05-03     2977.0               0.87  ...  67886004.0        0.000004\n",
              "2020-05-04     3383.0               0.82  ...  67886004.0        0.000004\n",
              "2020-05-05     3689.0               0.81  ...  67886004.0        0.000011\n",
              "\n",
              "[5 rows x 15 columns]"
            ]
          },
          "metadata": {},
          "execution_count": 97
        }
      ]
    },
    {
      "cell_type": "code",
      "metadata": {
        "colab": {
          "base_uri": "https://localhost:8080/"
        },
        "id": "Yi7Lhu217NOj",
        "outputId": "652d9bd0-be04-4a97-afa7-554221f03884"
      },
      "source": [
        "#importing Autoviz class\n",
        "from autoviz.AutoViz_Class import AutoViz_Class       #Instantiate the AutoViz class\n",
        "AV = AutoViz_Class()"
      ],
      "execution_count": 105,
      "outputs": [
        {
          "output_type": "stream",
          "name": "stdout",
          "text": [
            "Imported AutoViz_Class version: 0.0.84. Call using:\n",
            "    AV = AutoViz_Class()\n",
            "    AV.AutoViz(filename, sep=',', depVar='', dfte=None, header=0, verbose=0,\n",
            "                            lowess=False,chart_format='svg',max_rows_analyzed=150000,max_cols_analyzed=30)\n",
            "Note: verbose=0 or 1 generates charts and displays them in your local Jupyter notebook.\n",
            "      verbose=2 does not show plot but creates them and saves them in AutoViz_Plots directory in your local machine.\n"
          ]
        }
      ]
    },
    {
      "cell_type": "code",
      "metadata": {
        "id": "6PqW5zb57NQh"
      },
      "source": [
        "df = AV.AutoViz(\"/content/gdrive/MyDrive/owid-covid-data.csv\")"
      ],
      "execution_count": null,
      "outputs": []
    },
    {
      "cell_type": "code",
      "metadata": {
        "id": "daYz9OKP7NS7",
        "colab": {
          "base_uri": "https://localhost:8080/"
        },
        "outputId": "68261513-0c0f-4d2a-a0a2-b251e9cf75bf"
      },
      "source": [
        "df.columns"
      ],
      "execution_count": 107,
      "outputs": [
        {
          "output_type": "execute_result",
          "data": {
            "text/plain": [
              "Index(['iso_code', 'continent', 'location', 'date', 'total_cases', 'new_cases',\n",
              "       'new_cases_smoothed', 'total_deaths', 'new_deaths',\n",
              "       'new_deaths_smoothed', 'total_cases_per_million',\n",
              "       'new_cases_per_million', 'new_cases_smoothed_per_million',\n",
              "       'total_deaths_per_million', 'new_deaths_per_million',\n",
              "       'new_deaths_smoothed_per_million', 'reproduction_rate', 'icu_patients',\n",
              "       'icu_patients_per_million', 'hosp_patients',\n",
              "       'hosp_patients_per_million', 'weekly_icu_admissions',\n",
              "       'weekly_icu_admissions_per_million', 'weekly_hosp_admissions',\n",
              "       'weekly_hosp_admissions_per_million', 'new_tests', 'total_tests',\n",
              "       'total_tests_per_thousand', 'new_tests_per_thousand',\n",
              "       'new_tests_smoothed', 'new_tests_smoothed_per_thousand',\n",
              "       'positive_rate', 'tests_per_case', 'tests_units', 'total_vaccinations',\n",
              "       'people_vaccinated', 'people_fully_vaccinated', 'new_vaccinations',\n",
              "       'new_vaccinations_smoothed', 'total_vaccinations_per_hundred',\n",
              "       'people_vaccinated_per_hundred', 'people_fully_vaccinated_per_hundred',\n",
              "       'new_vaccinations_smoothed_per_million', 'stringency_index',\n",
              "       'population', 'population_density', 'median_age', 'aged_65_older',\n",
              "       'aged_70_older', 'gdp_per_capita', 'extreme_poverty',\n",
              "       'cardiovasc_death_rate', 'diabetes_prevalence', 'female_smokers',\n",
              "       'male_smokers', 'handwashing_facilities', 'hospital_beds_per_thousand',\n",
              "       'life_expectancy', 'human_development_index', 'excess_mortality'],\n",
              "      dtype='object')"
            ]
          },
          "metadata": {},
          "execution_count": 107
        }
      ]
    },
    {
      "cell_type": "code",
      "metadata": {
        "id": "U73qA3rh7NVl",
        "colab": {
          "base_uri": "https://localhost:8080/",
          "height": 305
        },
        "outputId": "4cbf59ea-c705-4090-eb76-4ff6dcb0384f"
      },
      "source": [
        "df.head()"
      ],
      "execution_count": 108,
      "outputs": [
        {
          "output_type": "execute_result",
          "data": {
            "text/html": [
              "<div>\n",
              "<style scoped>\n",
              "    .dataframe tbody tr th:only-of-type {\n",
              "        vertical-align: middle;\n",
              "    }\n",
              "\n",
              "    .dataframe tbody tr th {\n",
              "        vertical-align: top;\n",
              "    }\n",
              "\n",
              "    .dataframe thead th {\n",
              "        text-align: right;\n",
              "    }\n",
              "</style>\n",
              "<table border=\"1\" class=\"dataframe\">\n",
              "  <thead>\n",
              "    <tr style=\"text-align: right;\">\n",
              "      <th></th>\n",
              "      <th>iso_code</th>\n",
              "      <th>continent</th>\n",
              "      <th>location</th>\n",
              "      <th>date</th>\n",
              "      <th>total_cases</th>\n",
              "      <th>new_cases</th>\n",
              "      <th>new_cases_smoothed</th>\n",
              "      <th>total_deaths</th>\n",
              "      <th>new_deaths</th>\n",
              "      <th>new_deaths_smoothed</th>\n",
              "      <th>total_cases_per_million</th>\n",
              "      <th>new_cases_per_million</th>\n",
              "      <th>new_cases_smoothed_per_million</th>\n",
              "      <th>total_deaths_per_million</th>\n",
              "      <th>new_deaths_per_million</th>\n",
              "      <th>new_deaths_smoothed_per_million</th>\n",
              "      <th>reproduction_rate</th>\n",
              "      <th>icu_patients</th>\n",
              "      <th>icu_patients_per_million</th>\n",
              "      <th>hosp_patients</th>\n",
              "      <th>hosp_patients_per_million</th>\n",
              "      <th>weekly_icu_admissions</th>\n",
              "      <th>weekly_icu_admissions_per_million</th>\n",
              "      <th>weekly_hosp_admissions</th>\n",
              "      <th>weekly_hosp_admissions_per_million</th>\n",
              "      <th>new_tests</th>\n",
              "      <th>total_tests</th>\n",
              "      <th>total_tests_per_thousand</th>\n",
              "      <th>new_tests_per_thousand</th>\n",
              "      <th>new_tests_smoothed</th>\n",
              "      <th>new_tests_smoothed_per_thousand</th>\n",
              "      <th>positive_rate</th>\n",
              "      <th>tests_per_case</th>\n",
              "      <th>tests_units</th>\n",
              "      <th>total_vaccinations</th>\n",
              "      <th>people_vaccinated</th>\n",
              "      <th>people_fully_vaccinated</th>\n",
              "      <th>new_vaccinations</th>\n",
              "      <th>new_vaccinations_smoothed</th>\n",
              "      <th>total_vaccinations_per_hundred</th>\n",
              "      <th>people_vaccinated_per_hundred</th>\n",
              "      <th>people_fully_vaccinated_per_hundred</th>\n",
              "      <th>new_vaccinations_smoothed_per_million</th>\n",
              "      <th>stringency_index</th>\n",
              "      <th>population</th>\n",
              "      <th>population_density</th>\n",
              "      <th>median_age</th>\n",
              "      <th>aged_65_older</th>\n",
              "      <th>aged_70_older</th>\n",
              "      <th>gdp_per_capita</th>\n",
              "      <th>extreme_poverty</th>\n",
              "      <th>cardiovasc_death_rate</th>\n",
              "      <th>diabetes_prevalence</th>\n",
              "      <th>female_smokers</th>\n",
              "      <th>male_smokers</th>\n",
              "      <th>handwashing_facilities</th>\n",
              "      <th>hospital_beds_per_thousand</th>\n",
              "      <th>life_expectancy</th>\n",
              "      <th>human_development_index</th>\n",
              "      <th>excess_mortality</th>\n",
              "    </tr>\n",
              "  </thead>\n",
              "  <tbody>\n",
              "    <tr>\n",
              "      <th>0</th>\n",
              "      <td>AFG</td>\n",
              "      <td>Asia</td>\n",
              "      <td>Afghanistan</td>\n",
              "      <td>2020-02-24</td>\n",
              "      <td>1.0</td>\n",
              "      <td>1.0</td>\n",
              "      <td>NaN</td>\n",
              "      <td>NaN</td>\n",
              "      <td>NaN</td>\n",
              "      <td>NaN</td>\n",
              "      <td>0.026</td>\n",
              "      <td>0.026</td>\n",
              "      <td>NaN</td>\n",
              "      <td>NaN</td>\n",
              "      <td>NaN</td>\n",
              "      <td>NaN</td>\n",
              "      <td>NaN</td>\n",
              "      <td>NaN</td>\n",
              "      <td>NaN</td>\n",
              "      <td>NaN</td>\n",
              "      <td>NaN</td>\n",
              "      <td>NaN</td>\n",
              "      <td>NaN</td>\n",
              "      <td>NaN</td>\n",
              "      <td>NaN</td>\n",
              "      <td>NaN</td>\n",
              "      <td>NaN</td>\n",
              "      <td>NaN</td>\n",
              "      <td>NaN</td>\n",
              "      <td>NaN</td>\n",
              "      <td>NaN</td>\n",
              "      <td>NaN</td>\n",
              "      <td>NaN</td>\n",
              "      <td>NaN</td>\n",
              "      <td>NaN</td>\n",
              "      <td>NaN</td>\n",
              "      <td>NaN</td>\n",
              "      <td>NaN</td>\n",
              "      <td>NaN</td>\n",
              "      <td>NaN</td>\n",
              "      <td>NaN</td>\n",
              "      <td>NaN</td>\n",
              "      <td>NaN</td>\n",
              "      <td>8.33</td>\n",
              "      <td>38928341.0</td>\n",
              "      <td>54.422</td>\n",
              "      <td>18.6</td>\n",
              "      <td>2.581</td>\n",
              "      <td>1.337</td>\n",
              "      <td>1803.987</td>\n",
              "      <td>NaN</td>\n",
              "      <td>597.029</td>\n",
              "      <td>9.59</td>\n",
              "      <td>NaN</td>\n",
              "      <td>NaN</td>\n",
              "      <td>37.746</td>\n",
              "      <td>0.5</td>\n",
              "      <td>64.83</td>\n",
              "      <td>0.511</td>\n",
              "      <td>NaN</td>\n",
              "    </tr>\n",
              "    <tr>\n",
              "      <th>1</th>\n",
              "      <td>AFG</td>\n",
              "      <td>Asia</td>\n",
              "      <td>Afghanistan</td>\n",
              "      <td>2020-02-25</td>\n",
              "      <td>1.0</td>\n",
              "      <td>0.0</td>\n",
              "      <td>NaN</td>\n",
              "      <td>NaN</td>\n",
              "      <td>NaN</td>\n",
              "      <td>NaN</td>\n",
              "      <td>0.026</td>\n",
              "      <td>0.000</td>\n",
              "      <td>NaN</td>\n",
              "      <td>NaN</td>\n",
              "      <td>NaN</td>\n",
              "      <td>NaN</td>\n",
              "      <td>NaN</td>\n",
              "      <td>NaN</td>\n",
              "      <td>NaN</td>\n",
              "      <td>NaN</td>\n",
              "      <td>NaN</td>\n",
              "      <td>NaN</td>\n",
              "      <td>NaN</td>\n",
              "      <td>NaN</td>\n",
              "      <td>NaN</td>\n",
              "      <td>NaN</td>\n",
              "      <td>NaN</td>\n",
              "      <td>NaN</td>\n",
              "      <td>NaN</td>\n",
              "      <td>NaN</td>\n",
              "      <td>NaN</td>\n",
              "      <td>NaN</td>\n",
              "      <td>NaN</td>\n",
              "      <td>NaN</td>\n",
              "      <td>NaN</td>\n",
              "      <td>NaN</td>\n",
              "      <td>NaN</td>\n",
              "      <td>NaN</td>\n",
              "      <td>NaN</td>\n",
              "      <td>NaN</td>\n",
              "      <td>NaN</td>\n",
              "      <td>NaN</td>\n",
              "      <td>NaN</td>\n",
              "      <td>8.33</td>\n",
              "      <td>38928341.0</td>\n",
              "      <td>54.422</td>\n",
              "      <td>18.6</td>\n",
              "      <td>2.581</td>\n",
              "      <td>1.337</td>\n",
              "      <td>1803.987</td>\n",
              "      <td>NaN</td>\n",
              "      <td>597.029</td>\n",
              "      <td>9.59</td>\n",
              "      <td>NaN</td>\n",
              "      <td>NaN</td>\n",
              "      <td>37.746</td>\n",
              "      <td>0.5</td>\n",
              "      <td>64.83</td>\n",
              "      <td>0.511</td>\n",
              "      <td>NaN</td>\n",
              "    </tr>\n",
              "    <tr>\n",
              "      <th>2</th>\n",
              "      <td>AFG</td>\n",
              "      <td>Asia</td>\n",
              "      <td>Afghanistan</td>\n",
              "      <td>2020-02-26</td>\n",
              "      <td>1.0</td>\n",
              "      <td>0.0</td>\n",
              "      <td>NaN</td>\n",
              "      <td>NaN</td>\n",
              "      <td>NaN</td>\n",
              "      <td>NaN</td>\n",
              "      <td>0.026</td>\n",
              "      <td>0.000</td>\n",
              "      <td>NaN</td>\n",
              "      <td>NaN</td>\n",
              "      <td>NaN</td>\n",
              "      <td>NaN</td>\n",
              "      <td>NaN</td>\n",
              "      <td>NaN</td>\n",
              "      <td>NaN</td>\n",
              "      <td>NaN</td>\n",
              "      <td>NaN</td>\n",
              "      <td>NaN</td>\n",
              "      <td>NaN</td>\n",
              "      <td>NaN</td>\n",
              "      <td>NaN</td>\n",
              "      <td>NaN</td>\n",
              "      <td>NaN</td>\n",
              "      <td>NaN</td>\n",
              "      <td>NaN</td>\n",
              "      <td>NaN</td>\n",
              "      <td>NaN</td>\n",
              "      <td>NaN</td>\n",
              "      <td>NaN</td>\n",
              "      <td>NaN</td>\n",
              "      <td>NaN</td>\n",
              "      <td>NaN</td>\n",
              "      <td>NaN</td>\n",
              "      <td>NaN</td>\n",
              "      <td>NaN</td>\n",
              "      <td>NaN</td>\n",
              "      <td>NaN</td>\n",
              "      <td>NaN</td>\n",
              "      <td>NaN</td>\n",
              "      <td>8.33</td>\n",
              "      <td>38928341.0</td>\n",
              "      <td>54.422</td>\n",
              "      <td>18.6</td>\n",
              "      <td>2.581</td>\n",
              "      <td>1.337</td>\n",
              "      <td>1803.987</td>\n",
              "      <td>NaN</td>\n",
              "      <td>597.029</td>\n",
              "      <td>9.59</td>\n",
              "      <td>NaN</td>\n",
              "      <td>NaN</td>\n",
              "      <td>37.746</td>\n",
              "      <td>0.5</td>\n",
              "      <td>64.83</td>\n",
              "      <td>0.511</td>\n",
              "      <td>NaN</td>\n",
              "    </tr>\n",
              "    <tr>\n",
              "      <th>3</th>\n",
              "      <td>AFG</td>\n",
              "      <td>Asia</td>\n",
              "      <td>Afghanistan</td>\n",
              "      <td>2020-02-27</td>\n",
              "      <td>1.0</td>\n",
              "      <td>0.0</td>\n",
              "      <td>NaN</td>\n",
              "      <td>NaN</td>\n",
              "      <td>NaN</td>\n",
              "      <td>NaN</td>\n",
              "      <td>0.026</td>\n",
              "      <td>0.000</td>\n",
              "      <td>NaN</td>\n",
              "      <td>NaN</td>\n",
              "      <td>NaN</td>\n",
              "      <td>NaN</td>\n",
              "      <td>NaN</td>\n",
              "      <td>NaN</td>\n",
              "      <td>NaN</td>\n",
              "      <td>NaN</td>\n",
              "      <td>NaN</td>\n",
              "      <td>NaN</td>\n",
              "      <td>NaN</td>\n",
              "      <td>NaN</td>\n",
              "      <td>NaN</td>\n",
              "      <td>NaN</td>\n",
              "      <td>NaN</td>\n",
              "      <td>NaN</td>\n",
              "      <td>NaN</td>\n",
              "      <td>NaN</td>\n",
              "      <td>NaN</td>\n",
              "      <td>NaN</td>\n",
              "      <td>NaN</td>\n",
              "      <td>NaN</td>\n",
              "      <td>NaN</td>\n",
              "      <td>NaN</td>\n",
              "      <td>NaN</td>\n",
              "      <td>NaN</td>\n",
              "      <td>NaN</td>\n",
              "      <td>NaN</td>\n",
              "      <td>NaN</td>\n",
              "      <td>NaN</td>\n",
              "      <td>NaN</td>\n",
              "      <td>8.33</td>\n",
              "      <td>38928341.0</td>\n",
              "      <td>54.422</td>\n",
              "      <td>18.6</td>\n",
              "      <td>2.581</td>\n",
              "      <td>1.337</td>\n",
              "      <td>1803.987</td>\n",
              "      <td>NaN</td>\n",
              "      <td>597.029</td>\n",
              "      <td>9.59</td>\n",
              "      <td>NaN</td>\n",
              "      <td>NaN</td>\n",
              "      <td>37.746</td>\n",
              "      <td>0.5</td>\n",
              "      <td>64.83</td>\n",
              "      <td>0.511</td>\n",
              "      <td>NaN</td>\n",
              "    </tr>\n",
              "    <tr>\n",
              "      <th>4</th>\n",
              "      <td>AFG</td>\n",
              "      <td>Asia</td>\n",
              "      <td>Afghanistan</td>\n",
              "      <td>2020-02-28</td>\n",
              "      <td>1.0</td>\n",
              "      <td>0.0</td>\n",
              "      <td>NaN</td>\n",
              "      <td>NaN</td>\n",
              "      <td>NaN</td>\n",
              "      <td>NaN</td>\n",
              "      <td>0.026</td>\n",
              "      <td>0.000</td>\n",
              "      <td>NaN</td>\n",
              "      <td>NaN</td>\n",
              "      <td>NaN</td>\n",
              "      <td>NaN</td>\n",
              "      <td>NaN</td>\n",
              "      <td>NaN</td>\n",
              "      <td>NaN</td>\n",
              "      <td>NaN</td>\n",
              "      <td>NaN</td>\n",
              "      <td>NaN</td>\n",
              "      <td>NaN</td>\n",
              "      <td>NaN</td>\n",
              "      <td>NaN</td>\n",
              "      <td>NaN</td>\n",
              "      <td>NaN</td>\n",
              "      <td>NaN</td>\n",
              "      <td>NaN</td>\n",
              "      <td>NaN</td>\n",
              "      <td>NaN</td>\n",
              "      <td>NaN</td>\n",
              "      <td>NaN</td>\n",
              "      <td>NaN</td>\n",
              "      <td>NaN</td>\n",
              "      <td>NaN</td>\n",
              "      <td>NaN</td>\n",
              "      <td>NaN</td>\n",
              "      <td>NaN</td>\n",
              "      <td>NaN</td>\n",
              "      <td>NaN</td>\n",
              "      <td>NaN</td>\n",
              "      <td>NaN</td>\n",
              "      <td>8.33</td>\n",
              "      <td>38928341.0</td>\n",
              "      <td>54.422</td>\n",
              "      <td>18.6</td>\n",
              "      <td>2.581</td>\n",
              "      <td>1.337</td>\n",
              "      <td>1803.987</td>\n",
              "      <td>NaN</td>\n",
              "      <td>597.029</td>\n",
              "      <td>9.59</td>\n",
              "      <td>NaN</td>\n",
              "      <td>NaN</td>\n",
              "      <td>37.746</td>\n",
              "      <td>0.5</td>\n",
              "      <td>64.83</td>\n",
              "      <td>0.511</td>\n",
              "      <td>NaN</td>\n",
              "    </tr>\n",
              "  </tbody>\n",
              "</table>\n",
              "</div>"
            ],
            "text/plain": [
              "  iso_code continent  ... human_development_index excess_mortality\n",
              "0      AFG      Asia  ...                   0.511              NaN\n",
              "1      AFG      Asia  ...                   0.511              NaN\n",
              "2      AFG      Asia  ...                   0.511              NaN\n",
              "3      AFG      Asia  ...                   0.511              NaN\n",
              "4      AFG      Asia  ...                   0.511              NaN\n",
              "\n",
              "[5 rows x 60 columns]"
            ]
          },
          "metadata": {},
          "execution_count": 108
        }
      ]
    },
    {
      "cell_type": "code",
      "metadata": {
        "colab": {
          "base_uri": "https://localhost:8080/"
        },
        "id": "ySmBZbHdxv2c",
        "outputId": "51c590fe-2adc-4ae1-a141-2727861bde68"
      },
      "source": [
        "df[\"location\"].nunique()"
      ],
      "execution_count": 110,
      "outputs": [
        {
          "output_type": "execute_result",
          "data": {
            "text/plain": [
              "231"
            ]
          },
          "metadata": {},
          "execution_count": 110
        }
      ]
    },
    {
      "cell_type": "code",
      "metadata": {
        "id": "yqhVHgmd0xDb"
      },
      "source": [
        "dataset = pd.read_csv(\"/content/dataset.csv\")"
      ],
      "execution_count": 111,
      "outputs": []
    },
    {
      "cell_type": "code",
      "metadata": {
        "id": "vBc36LVz1Ls0"
      },
      "source": [
        "df = AV.AutoViz(\"/content/dataset.csv\")"
      ],
      "execution_count": null,
      "outputs": []
    },
    {
      "cell_type": "code",
      "metadata": {
        "colab": {
          "base_uri": "https://localhost:8080/",
          "height": 202
        },
        "id": "eE8Lgb5y1RXr",
        "outputId": "4276d9e4-74f3-4eda-e914-cfdea1ad0a09"
      },
      "source": [
        "dataset.head()"
      ],
      "execution_count": 113,
      "outputs": [
        {
          "output_type": "execute_result",
          "data": {
            "text/html": [
              "<div>\n",
              "<style scoped>\n",
              "    .dataframe tbody tr th:only-of-type {\n",
              "        vertical-align: middle;\n",
              "    }\n",
              "\n",
              "    .dataframe tbody tr th {\n",
              "        vertical-align: top;\n",
              "    }\n",
              "\n",
              "    .dataframe thead th {\n",
              "        text-align: right;\n",
              "    }\n",
              "</style>\n",
              "<table border=\"1\" class=\"dataframe\">\n",
              "  <thead>\n",
              "    <tr style=\"text-align: right;\">\n",
              "      <th></th>\n",
              "      <th>date</th>\n",
              "      <th>new_cases</th>\n",
              "      <th>reproduction_rate</th>\n",
              "      <th>icu_patients</th>\n",
              "      <th>hosp_patients</th>\n",
              "      <th>new_tests</th>\n",
              "      <th>positive_rate</th>\n",
              "      <th>people_vaccinated</th>\n",
              "      <th>people_fully_vaccinated</th>\n",
              "      <th>new_vaccinations</th>\n",
              "      <th>Lockdown</th>\n",
              "      <th>Variant</th>\n",
              "      <th>Vaccine</th>\n",
              "      <th>GDP_PER_CAPITA</th>\n",
              "      <th>Population</th>\n",
              "      <th>Mortality_Rate</th>\n",
              "    </tr>\n",
              "  </thead>\n",
              "  <tbody>\n",
              "    <tr>\n",
              "      <th>0</th>\n",
              "      <td>2020-05-01</td>\n",
              "      <td>4730.0</td>\n",
              "      <td>0.94</td>\n",
              "      <td>2178.0</td>\n",
              "      <td>14723.0</td>\n",
              "      <td>74142.0</td>\n",
              "      <td>0.088</td>\n",
              "      <td>0.0</td>\n",
              "      <td>0.0</td>\n",
              "      <td>0.0</td>\n",
              "      <td>0</td>\n",
              "      <td>0</td>\n",
              "      <td>0</td>\n",
              "      <td>39753.244</td>\n",
              "      <td>67886004.0</td>\n",
              "      <td>0.000010</td>\n",
              "    </tr>\n",
              "    <tr>\n",
              "      <th>1</th>\n",
              "      <td>2020-05-02</td>\n",
              "      <td>3230.0</td>\n",
              "      <td>0.91</td>\n",
              "      <td>2068.0</td>\n",
              "      <td>14380.0</td>\n",
              "      <td>63559.0</td>\n",
              "      <td>0.079</td>\n",
              "      <td>0.0</td>\n",
              "      <td>0.0</td>\n",
              "      <td>0.0</td>\n",
              "      <td>0</td>\n",
              "      <td>0</td>\n",
              "      <td>0</td>\n",
              "      <td>39753.244</td>\n",
              "      <td>67886004.0</td>\n",
              "      <td>0.000009</td>\n",
              "    </tr>\n",
              "    <tr>\n",
              "      <th>2</th>\n",
              "      <td>2020-05-03</td>\n",
              "      <td>2977.0</td>\n",
              "      <td>0.87</td>\n",
              "      <td>2009.0</td>\n",
              "      <td>14188.0</td>\n",
              "      <td>68203.0</td>\n",
              "      <td>0.071</td>\n",
              "      <td>0.0</td>\n",
              "      <td>0.0</td>\n",
              "      <td>0.0</td>\n",
              "      <td>0</td>\n",
              "      <td>0</td>\n",
              "      <td>0</td>\n",
              "      <td>39753.244</td>\n",
              "      <td>67886004.0</td>\n",
              "      <td>0.000004</td>\n",
              "    </tr>\n",
              "    <tr>\n",
              "      <th>3</th>\n",
              "      <td>2020-05-04</td>\n",
              "      <td>3383.0</td>\n",
              "      <td>0.82</td>\n",
              "      <td>1936.0</td>\n",
              "      <td>14097.0</td>\n",
              "      <td>72630.0</td>\n",
              "      <td>0.061</td>\n",
              "      <td>0.0</td>\n",
              "      <td>0.0</td>\n",
              "      <td>0.0</td>\n",
              "      <td>0</td>\n",
              "      <td>0</td>\n",
              "      <td>0</td>\n",
              "      <td>39753.244</td>\n",
              "      <td>67886004.0</td>\n",
              "      <td>0.000004</td>\n",
              "    </tr>\n",
              "    <tr>\n",
              "      <th>4</th>\n",
              "      <td>2020-05-05</td>\n",
              "      <td>3689.0</td>\n",
              "      <td>0.81</td>\n",
              "      <td>1874.0</td>\n",
              "      <td>13723.0</td>\n",
              "      <td>66919.0</td>\n",
              "      <td>0.057</td>\n",
              "      <td>0.0</td>\n",
              "      <td>0.0</td>\n",
              "      <td>0.0</td>\n",
              "      <td>0</td>\n",
              "      <td>0</td>\n",
              "      <td>0</td>\n",
              "      <td>39753.244</td>\n",
              "      <td>67886004.0</td>\n",
              "      <td>0.000011</td>\n",
              "    </tr>\n",
              "  </tbody>\n",
              "</table>\n",
              "</div>"
            ],
            "text/plain": [
              "         date  new_cases  ...  Population  Mortality_Rate\n",
              "0  2020-05-01     4730.0  ...  67886004.0        0.000010\n",
              "1  2020-05-02     3230.0  ...  67886004.0        0.000009\n",
              "2  2020-05-03     2977.0  ...  67886004.0        0.000004\n",
              "3  2020-05-04     3383.0  ...  67886004.0        0.000004\n",
              "4  2020-05-05     3689.0  ...  67886004.0        0.000011\n",
              "\n",
              "[5 rows x 16 columns]"
            ]
          },
          "metadata": {},
          "execution_count": 113
        }
      ]
    },
    {
      "cell_type": "code",
      "metadata": {
        "id": "kluszPli1qRt"
      },
      "source": [
        "df = AV.AutoViz(\"/content/dataset.csv\", depVar = \"Mortality_Rate\")"
      ],
      "execution_count": null,
      "outputs": []
    },
    {
      "cell_type": "code",
      "metadata": {
        "id": "iBQo8cqf1_Jt"
      },
      "source": [
        "\n"
      ],
      "execution_count": null,
      "outputs": []
    }
  ]
}
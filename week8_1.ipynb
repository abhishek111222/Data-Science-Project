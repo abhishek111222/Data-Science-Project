{
  "nbformat": 4,
  "nbformat_minor": 0,
  "metadata": {
    "colab": {
      "name": "week8_1.ipynb",
      "provenance": []
    },
    "kernelspec": {
      "name": "python3",
      "display_name": "Python 3"
    },
    "language_info": {
      "name": "python"
    }
  },
  "cells": [
    {
      "cell_type": "code",
      "metadata": {
        "colab": {
          "base_uri": "https://localhost:8080/"
        },
        "id": "skQTUYLNlMks",
        "outputId": "ac3b88b1-0c8a-450b-847b-f9031ef86b54"
      },
      "source": [
        "from google.colab import drive\n",
        "drive.mount('/content/gdrive')"
      ],
      "execution_count": null,
      "outputs": [
        {
          "output_type": "stream",
          "text": [
            "Drive already mounted at /content/gdrive; to attempt to forcibly remount, call drive.mount(\"/content/gdrive\", force_remount=True).\n"
          ],
          "name": "stdout"
        }
      ]
    },
    {
      "cell_type": "code",
      "metadata": {
        "id": "_iXe42OqlPf1"
      },
      "source": [
        "import pandas as pd\n",
        "import numpy as np\n",
        "import matplotlib.pyplot as plt\n",
        "import plotly.express as px\n",
        "\n",
        "from sklearn.preprocessing import LabelEncoder\n",
        "from sklearn.compose import ColumnTransformer\n",
        "from sklearn.linear_model import Lasso, Ridge, LogisticRegression, LinearRegression\n",
        "from sklearn.preprocessing import OneHotEncoder\n",
        "from sklearn.neighbors import KNeighborsRegressor\n",
        "#import category_encoders as ce\n",
        "from scipy import stats\n",
        "from numpy import mean, std\n",
        "import lightgbm as lgb\n",
        "import seaborn as sns\n",
        "#from catboost import CatBoostRegressor\n",
        "import plotly.express as px\n",
        "from sklearn.feature_selection import SelectFromModel\n",
        "from sklearn.linear_model import Lasso\n",
        "from sklearn.svm import LinearSVR, SVR\n",
        "from sklearn.metrics import mean_absolute_error\n",
        "from sklearn.decomposition import PCA\n",
        "from sklearn.ensemble import RandomForestRegressor, BaggingRegressor\n",
        "from sklearn.ensemble import StackingRegressor, AdaBoostRegressor\n",
        "from sklearn.preprocessing import OneHotEncoder, LabelEncoder, StandardScaler, MinMaxScaler, Normalizer\n",
        "from sklearn.pipeline import Pipeline\n",
        "import xgboost as xgb\n",
        "from sklearn.metrics import mean_squared_log_error, r2_score, mean_squared_error\n",
        "from sklearn.utils import shuffle\n",
        "from sklearn.model_selection import train_test_split, GridSearchCV, KFold, cross_val_score\n",
        "import seaborn as sns\n",
        "\n",
        "SEED = 42"
      ],
      "execution_count": null,
      "outputs": []
    },
    {
      "cell_type": "code",
      "metadata": {
        "colab": {
          "base_uri": "https://localhost:8080/"
        },
        "id": "x8p7t1VflWWI",
        "outputId": "82dd1ffc-c943-48ba-8211-115ac0da9992"
      },
      "source": [
        "#!pip install --upgrade plotly\n",
        "#!pip install pmdarima\n",
        "print(\"Done\")"
      ],
      "execution_count": null,
      "outputs": [
        {
          "output_type": "stream",
          "text": [
            "Done\n"
          ],
          "name": "stdout"
        }
      ]
    },
    {
      "cell_type": "code",
      "metadata": {
        "id": "cTWo5zzWl1sb"
      },
      "source": [
        "df = pd.read_csv(\"/content/gdrive/MyDrive/owid-covid-data.csv\")\n",
        "check = pd.read_csv(\"/content/gdrive/MyDrive/owid-covid-data.csv\")"
      ],
      "execution_count": null,
      "outputs": []
    },
    {
      "cell_type": "code",
      "metadata": {
        "id": "ffcjMp97mCJA"
      },
      "source": [
        "dataset_UK = df[df[\"location\"] == \"United Kingdom\"]  "
      ],
      "execution_count": null,
      "outputs": []
    },
    {
      "cell_type": "code",
      "metadata": {
        "colab": {
          "base_uri": "https://localhost:8080/"
        },
        "id": "V2bQPSoscp8a",
        "outputId": "ba5b1f76-fb61-43ee-9055-d15a883ca302"
      },
      "source": [
        "dataset_UK.columns"
      ],
      "execution_count": null,
      "outputs": [
        {
          "output_type": "execute_result",
          "data": {
            "text/plain": [
              "Index(['iso_code', 'continent', 'location', 'date', 'total_cases', 'new_cases',\n",
              "       'new_cases_smoothed', 'total_deaths', 'new_deaths',\n",
              "       'new_deaths_smoothed', 'total_cases_per_million',\n",
              "       'new_cases_per_million', 'new_cases_smoothed_per_million',\n",
              "       'total_deaths_per_million', 'new_deaths_per_million',\n",
              "       'new_deaths_smoothed_per_million', 'reproduction_rate', 'icu_patients',\n",
              "       'icu_patients_per_million', 'hosp_patients',\n",
              "       'hosp_patients_per_million', 'weekly_icu_admissions',\n",
              "       'weekly_icu_admissions_per_million', 'weekly_hosp_admissions',\n",
              "       'weekly_hosp_admissions_per_million', 'new_tests', 'total_tests',\n",
              "       'total_tests_per_thousand', 'new_tests_per_thousand',\n",
              "       'new_tests_smoothed', 'new_tests_smoothed_per_thousand',\n",
              "       'positive_rate', 'tests_per_case', 'tests_units', 'total_vaccinations',\n",
              "       'people_vaccinated', 'people_fully_vaccinated', 'new_vaccinations',\n",
              "       'new_vaccinations_smoothed', 'total_vaccinations_per_hundred',\n",
              "       'people_vaccinated_per_hundred', 'people_fully_vaccinated_per_hundred',\n",
              "       'new_vaccinations_smoothed_per_million', 'stringency_index',\n",
              "       'population', 'population_density', 'median_age', 'aged_65_older',\n",
              "       'aged_70_older', 'gdp_per_capita', 'extreme_poverty',\n",
              "       'cardiovasc_death_rate', 'diabetes_prevalence', 'female_smokers',\n",
              "       'male_smokers', 'handwashing_facilities', 'hospital_beds_per_thousand',\n",
              "       'life_expectancy', 'human_development_index', 'excess_mortality'],\n",
              "      dtype='object')"
            ]
          },
          "metadata": {
            "tags": []
          },
          "execution_count": 6
        }
      ]
    },
    {
      "cell_type": "code",
      "metadata": {
        "id": "I9K9jXs3cp-w"
      },
      "source": [
        "features = [\"icu_patients\", \"date\", \"new_cases\", \"population\", \"new_tests\", \"new_deaths\", \"positive_rate\"]"
      ],
      "execution_count": null,
      "outputs": []
    },
    {
      "cell_type": "code",
      "metadata": {
        "id": "v6E-zc51et7N"
      },
      "source": [
        "dataset_UK = dataset_UK[features]"
      ],
      "execution_count": null,
      "outputs": []
    },
    {
      "cell_type": "code",
      "metadata": {
        "id": "hWUNfGPscqAu"
      },
      "source": [
        "dataset_UK[\"Mortality_Rate\"] = dataset_UK[\"new_deaths\"]/dataset_UK[\"population\"]"
      ],
      "execution_count": null,
      "outputs": []
    },
    {
      "cell_type": "code",
      "metadata": {
        "colab": {
          "base_uri": "https://localhost:8080/",
          "height": 204
        },
        "id": "1QIazOHUcqEo",
        "outputId": "ad8c015c-28df-4e66-c227-31ade7108aa3"
      },
      "source": [
        "dataset_UK.head()"
      ],
      "execution_count": null,
      "outputs": [
        {
          "output_type": "execute_result",
          "data": {
            "text/html": [
              "<div>\n",
              "<style scoped>\n",
              "    .dataframe tbody tr th:only-of-type {\n",
              "        vertical-align: middle;\n",
              "    }\n",
              "\n",
              "    .dataframe tbody tr th {\n",
              "        vertical-align: top;\n",
              "    }\n",
              "\n",
              "    .dataframe thead th {\n",
              "        text-align: right;\n",
              "    }\n",
              "</style>\n",
              "<table border=\"1\" class=\"dataframe\">\n",
              "  <thead>\n",
              "    <tr style=\"text-align: right;\">\n",
              "      <th></th>\n",
              "      <th>icu_patients</th>\n",
              "      <th>date</th>\n",
              "      <th>new_cases</th>\n",
              "      <th>population</th>\n",
              "      <th>new_tests</th>\n",
              "      <th>new_deaths</th>\n",
              "      <th>positive_rate</th>\n",
              "      <th>Mortality_Rate</th>\n",
              "    </tr>\n",
              "  </thead>\n",
              "  <tbody>\n",
              "    <tr>\n",
              "      <th>96578</th>\n",
              "      <td>NaN</td>\n",
              "      <td>2020-01-31</td>\n",
              "      <td>2.0</td>\n",
              "      <td>67886004.0</td>\n",
              "      <td>NaN</td>\n",
              "      <td>NaN</td>\n",
              "      <td>NaN</td>\n",
              "      <td>NaN</td>\n",
              "    </tr>\n",
              "    <tr>\n",
              "      <th>96579</th>\n",
              "      <td>NaN</td>\n",
              "      <td>2020-02-01</td>\n",
              "      <td>0.0</td>\n",
              "      <td>67886004.0</td>\n",
              "      <td>NaN</td>\n",
              "      <td>NaN</td>\n",
              "      <td>NaN</td>\n",
              "      <td>NaN</td>\n",
              "    </tr>\n",
              "    <tr>\n",
              "      <th>96580</th>\n",
              "      <td>NaN</td>\n",
              "      <td>2020-02-02</td>\n",
              "      <td>0.0</td>\n",
              "      <td>67886004.0</td>\n",
              "      <td>NaN</td>\n",
              "      <td>NaN</td>\n",
              "      <td>NaN</td>\n",
              "      <td>NaN</td>\n",
              "    </tr>\n",
              "    <tr>\n",
              "      <th>96581</th>\n",
              "      <td>NaN</td>\n",
              "      <td>2020-02-03</td>\n",
              "      <td>6.0</td>\n",
              "      <td>67886004.0</td>\n",
              "      <td>NaN</td>\n",
              "      <td>NaN</td>\n",
              "      <td>NaN</td>\n",
              "      <td>NaN</td>\n",
              "    </tr>\n",
              "    <tr>\n",
              "      <th>96582</th>\n",
              "      <td>NaN</td>\n",
              "      <td>2020-02-04</td>\n",
              "      <td>0.0</td>\n",
              "      <td>67886004.0</td>\n",
              "      <td>NaN</td>\n",
              "      <td>NaN</td>\n",
              "      <td>NaN</td>\n",
              "      <td>NaN</td>\n",
              "    </tr>\n",
              "  </tbody>\n",
              "</table>\n",
              "</div>"
            ],
            "text/plain": [
              "       icu_patients        date  ...  positive_rate  Mortality_Rate\n",
              "96578           NaN  2020-01-31  ...            NaN             NaN\n",
              "96579           NaN  2020-02-01  ...            NaN             NaN\n",
              "96580           NaN  2020-02-02  ...            NaN             NaN\n",
              "96581           NaN  2020-02-03  ...            NaN             NaN\n",
              "96582           NaN  2020-02-04  ...            NaN             NaN\n",
              "\n",
              "[5 rows x 8 columns]"
            ]
          },
          "metadata": {
            "tags": []
          },
          "execution_count": 10
        }
      ]
    },
    {
      "cell_type": "code",
      "metadata": {
        "id": "QcR_JEeKcqGs"
      },
      "source": [
        "dataset_UK.drop([\"new_deaths\", \"population\"], axis = 1, inplace = True)"
      ],
      "execution_count": null,
      "outputs": []
    },
    {
      "cell_type": "code",
      "metadata": {
        "colab": {
          "base_uri": "https://localhost:8080/",
          "height": 204
        },
        "id": "Q8sfvv46mwc3",
        "outputId": "6cded2e8-eb0e-4466-9701-7e5f61443472"
      },
      "source": [
        "dataset_UK.tail()"
      ],
      "execution_count": null,
      "outputs": [
        {
          "output_type": "execute_result",
          "data": {
            "text/html": [
              "<div>\n",
              "<style scoped>\n",
              "    .dataframe tbody tr th:only-of-type {\n",
              "        vertical-align: middle;\n",
              "    }\n",
              "\n",
              "    .dataframe tbody tr th {\n",
              "        vertical-align: top;\n",
              "    }\n",
              "\n",
              "    .dataframe thead th {\n",
              "        text-align: right;\n",
              "    }\n",
              "</style>\n",
              "<table border=\"1\" class=\"dataframe\">\n",
              "  <thead>\n",
              "    <tr style=\"text-align: right;\">\n",
              "      <th></th>\n",
              "      <th>icu_patients</th>\n",
              "      <th>date</th>\n",
              "      <th>new_cases</th>\n",
              "      <th>new_tests</th>\n",
              "      <th>positive_rate</th>\n",
              "      <th>Mortality_Rate</th>\n",
              "    </tr>\n",
              "  </thead>\n",
              "  <tbody>\n",
              "    <tr>\n",
              "      <th>97104</th>\n",
              "      <td>448.0</td>\n",
              "      <td>2021-07-10</td>\n",
              "      <td>31835.0</td>\n",
              "      <td>733853.0</td>\n",
              "      <td>0.027</td>\n",
              "      <td>5.008396e-07</td>\n",
              "    </tr>\n",
              "    <tr>\n",
              "      <th>97105</th>\n",
              "      <td>454.0</td>\n",
              "      <td>2021-07-11</td>\n",
              "      <td>31382.0</td>\n",
              "      <td>1118189.0</td>\n",
              "      <td>0.028</td>\n",
              "      <td>3.829950e-07</td>\n",
              "    </tr>\n",
              "    <tr>\n",
              "      <th>97106</th>\n",
              "      <td>482.0</td>\n",
              "      <td>2021-07-12</td>\n",
              "      <td>34810.0</td>\n",
              "      <td>NaN</td>\n",
              "      <td>NaN</td>\n",
              "      <td>8.838346e-08</td>\n",
              "    </tr>\n",
              "    <tr>\n",
              "      <th>97107</th>\n",
              "      <td>522.0</td>\n",
              "      <td>2021-07-13</td>\n",
              "      <td>36500.0</td>\n",
              "      <td>NaN</td>\n",
              "      <td>NaN</td>\n",
              "      <td>7.365288e-07</td>\n",
              "    </tr>\n",
              "    <tr>\n",
              "      <th>97108</th>\n",
              "      <td>NaN</td>\n",
              "      <td>2021-07-14</td>\n",
              "      <td>42183.0</td>\n",
              "      <td>NaN</td>\n",
              "      <td>NaN</td>\n",
              "      <td>7.365288e-07</td>\n",
              "    </tr>\n",
              "  </tbody>\n",
              "</table>\n",
              "</div>"
            ],
            "text/plain": [
              "       icu_patients        date  ...  positive_rate  Mortality_Rate\n",
              "97104         448.0  2021-07-10  ...          0.027    5.008396e-07\n",
              "97105         454.0  2021-07-11  ...          0.028    3.829950e-07\n",
              "97106         482.0  2021-07-12  ...            NaN    8.838346e-08\n",
              "97107         522.0  2021-07-13  ...            NaN    7.365288e-07\n",
              "97108           NaN  2021-07-14  ...            NaN    7.365288e-07\n",
              "\n",
              "[5 rows x 6 columns]"
            ]
          },
          "metadata": {
            "tags": []
          },
          "execution_count": 12
        }
      ]
    },
    {
      "cell_type": "code",
      "metadata": {
        "id": "nlpIAQxPmwfe"
      },
      "source": [
        "dataset_UK.set_index(\"date\", inplace  = True)"
      ],
      "execution_count": null,
      "outputs": []
    },
    {
      "cell_type": "code",
      "metadata": {
        "colab": {
          "base_uri": "https://localhost:8080/",
          "height": 450
        },
        "id": "7UhyoAXPfIld",
        "outputId": "dc00a901-7038-422c-d8b8-1fa0320cc0e3"
      },
      "source": [
        "dataset_UK"
      ],
      "execution_count": null,
      "outputs": [
        {
          "output_type": "execute_result",
          "data": {
            "text/html": [
              "<div>\n",
              "<style scoped>\n",
              "    .dataframe tbody tr th:only-of-type {\n",
              "        vertical-align: middle;\n",
              "    }\n",
              "\n",
              "    .dataframe tbody tr th {\n",
              "        vertical-align: top;\n",
              "    }\n",
              "\n",
              "    .dataframe thead th {\n",
              "        text-align: right;\n",
              "    }\n",
              "</style>\n",
              "<table border=\"1\" class=\"dataframe\">\n",
              "  <thead>\n",
              "    <tr style=\"text-align: right;\">\n",
              "      <th></th>\n",
              "      <th>icu_patients</th>\n",
              "      <th>new_cases</th>\n",
              "      <th>new_tests</th>\n",
              "      <th>positive_rate</th>\n",
              "      <th>Mortality_Rate</th>\n",
              "    </tr>\n",
              "    <tr>\n",
              "      <th>date</th>\n",
              "      <th></th>\n",
              "      <th></th>\n",
              "      <th></th>\n",
              "      <th></th>\n",
              "      <th></th>\n",
              "    </tr>\n",
              "  </thead>\n",
              "  <tbody>\n",
              "    <tr>\n",
              "      <th>2020-01-31</th>\n",
              "      <td>NaN</td>\n",
              "      <td>2.0</td>\n",
              "      <td>NaN</td>\n",
              "      <td>NaN</td>\n",
              "      <td>NaN</td>\n",
              "    </tr>\n",
              "    <tr>\n",
              "      <th>2020-02-01</th>\n",
              "      <td>NaN</td>\n",
              "      <td>0.0</td>\n",
              "      <td>NaN</td>\n",
              "      <td>NaN</td>\n",
              "      <td>NaN</td>\n",
              "    </tr>\n",
              "    <tr>\n",
              "      <th>2020-02-02</th>\n",
              "      <td>NaN</td>\n",
              "      <td>0.0</td>\n",
              "      <td>NaN</td>\n",
              "      <td>NaN</td>\n",
              "      <td>NaN</td>\n",
              "    </tr>\n",
              "    <tr>\n",
              "      <th>2020-02-03</th>\n",
              "      <td>NaN</td>\n",
              "      <td>6.0</td>\n",
              "      <td>NaN</td>\n",
              "      <td>NaN</td>\n",
              "      <td>NaN</td>\n",
              "    </tr>\n",
              "    <tr>\n",
              "      <th>2020-02-04</th>\n",
              "      <td>NaN</td>\n",
              "      <td>0.0</td>\n",
              "      <td>NaN</td>\n",
              "      <td>NaN</td>\n",
              "      <td>NaN</td>\n",
              "    </tr>\n",
              "    <tr>\n",
              "      <th>...</th>\n",
              "      <td>...</td>\n",
              "      <td>...</td>\n",
              "      <td>...</td>\n",
              "      <td>...</td>\n",
              "      <td>...</td>\n",
              "    </tr>\n",
              "    <tr>\n",
              "      <th>2021-07-10</th>\n",
              "      <td>448.0</td>\n",
              "      <td>31835.0</td>\n",
              "      <td>733853.0</td>\n",
              "      <td>0.027</td>\n",
              "      <td>5.008396e-07</td>\n",
              "    </tr>\n",
              "    <tr>\n",
              "      <th>2021-07-11</th>\n",
              "      <td>454.0</td>\n",
              "      <td>31382.0</td>\n",
              "      <td>1118189.0</td>\n",
              "      <td>0.028</td>\n",
              "      <td>3.829950e-07</td>\n",
              "    </tr>\n",
              "    <tr>\n",
              "      <th>2021-07-12</th>\n",
              "      <td>482.0</td>\n",
              "      <td>34810.0</td>\n",
              "      <td>NaN</td>\n",
              "      <td>NaN</td>\n",
              "      <td>8.838346e-08</td>\n",
              "    </tr>\n",
              "    <tr>\n",
              "      <th>2021-07-13</th>\n",
              "      <td>522.0</td>\n",
              "      <td>36500.0</td>\n",
              "      <td>NaN</td>\n",
              "      <td>NaN</td>\n",
              "      <td>7.365288e-07</td>\n",
              "    </tr>\n",
              "    <tr>\n",
              "      <th>2021-07-14</th>\n",
              "      <td>NaN</td>\n",
              "      <td>42183.0</td>\n",
              "      <td>NaN</td>\n",
              "      <td>NaN</td>\n",
              "      <td>7.365288e-07</td>\n",
              "    </tr>\n",
              "  </tbody>\n",
              "</table>\n",
              "<p>531 rows × 5 columns</p>\n",
              "</div>"
            ],
            "text/plain": [
              "            icu_patients  new_cases  new_tests  positive_rate  Mortality_Rate\n",
              "date                                                                         \n",
              "2020-01-31           NaN        2.0        NaN            NaN             NaN\n",
              "2020-02-01           NaN        0.0        NaN            NaN             NaN\n",
              "2020-02-02           NaN        0.0        NaN            NaN             NaN\n",
              "2020-02-03           NaN        6.0        NaN            NaN             NaN\n",
              "2020-02-04           NaN        0.0        NaN            NaN             NaN\n",
              "...                  ...        ...        ...            ...             ...\n",
              "2021-07-10         448.0    31835.0   733853.0          0.027    5.008396e-07\n",
              "2021-07-11         454.0    31382.0  1118189.0          0.028    3.829950e-07\n",
              "2021-07-12         482.0    34810.0        NaN            NaN    8.838346e-08\n",
              "2021-07-13         522.0    36500.0        NaN            NaN    7.365288e-07\n",
              "2021-07-14           NaN    42183.0        NaN            NaN    7.365288e-07\n",
              "\n",
              "[531 rows x 5 columns]"
            ]
          },
          "metadata": {
            "tags": []
          },
          "execution_count": 14
        }
      ]
    },
    {
      "cell_type": "code",
      "metadata": {
        "id": "bV60BKsVmwh7"
      },
      "source": [
        "dataset_UK = dataset_UK[dataset_UK.index >= \"2020-05-01\"]"
      ],
      "execution_count": null,
      "outputs": []
    },
    {
      "cell_type": "code",
      "metadata": {
        "colab": {
          "base_uri": "https://localhost:8080/"
        },
        "id": "bQ10Q-Taoc10",
        "outputId": "526f0c7b-fd60-4ce3-efcc-dda97cb5f76a"
      },
      "source": [
        "dataset_UK.isna().sum()"
      ],
      "execution_count": null,
      "outputs": [
        {
          "output_type": "execute_result",
          "data": {
            "text/plain": [
              "icu_patients      1\n",
              "new_cases         0\n",
              "new_tests         3\n",
              "positive_rate     3\n",
              "Mortality_Rate    0\n",
              "dtype: int64"
            ]
          },
          "metadata": {
            "tags": []
          },
          "execution_count": 16
        }
      ]
    },
    {
      "cell_type": "code",
      "metadata": {
        "id": "PH1TS0BApZXQ"
      },
      "source": [
        "dataset_UK = dataset_UK[dataset_UK.index < \"2021-07-12\"]"
      ],
      "execution_count": null,
      "outputs": []
    },
    {
      "cell_type": "code",
      "metadata": {
        "colab": {
          "base_uri": "https://localhost:8080/"
        },
        "id": "-XL7SraTffVz",
        "outputId": "1b6eafa7-bfe4-4078-fa1b-f8aebcf98e34"
      },
      "source": [
        "dataset_UK.columns"
      ],
      "execution_count": null,
      "outputs": [
        {
          "output_type": "execute_result",
          "data": {
            "text/plain": [
              "Index(['icu_patients', 'new_cases', 'new_tests', 'positive_rate',\n",
              "       'Mortality_Rate'],\n",
              "      dtype='object')"
            ]
          },
          "metadata": {
            "tags": []
          },
          "execution_count": 18
        }
      ]
    },
    {
      "cell_type": "code",
      "metadata": {
        "colab": {
          "base_uri": "https://localhost:8080/",
          "height": 557
        },
        "id": "EhBi_0B2fhlL",
        "outputId": "70377030-d307-4600-a11e-b20094e15f59"
      },
      "source": [
        "train = dataset_UK[ : 380]\n",
        "test = dataset_UK[380 : ]\n",
        "\n",
        "features = [\"icu_patients\", \"Mortality_Rate\"]\n",
        "\n",
        "train = train[features]\n",
        "test = test[features]\n",
        "\n",
        "X_train = train.iloc[ : ,  : -1]\n",
        "Y_train = train.iloc[ : , -1 : ]\n",
        "\n",
        "X_test = test.iloc[ : ,  : -1]\n",
        "Y_test = test.iloc[ : , -1 : ]\n",
        "\n",
        "sc = StandardScaler()\n",
        "X_train = sc.fit_transform(X_train)\n",
        "X_test = sc.fit_transform(X_test)\n",
        "Y_train = sc.fit_transform(Y_train)\n",
        "Y_test = sc.fit_transform(Y_test)\n",
        "\n",
        "estimators = [\n",
        "             # (\"knn\", KNeighborsRegressor(n_neighbors = 44)),\n",
        "              #(\"xgb\", xgb.XGBRegressor(random_state = SEED)),\n",
        "              (\"lasso\", Lasso(alpha = 1))\n",
        "\n",
        "]\n",
        "\n",
        "reg = StackingRegressor(\n",
        "    estimators = estimators ,\n",
        "    #final_estimator = KNeighborsRegressor(n_neighbors = 10)\n",
        ")\n",
        "\n",
        "reg.fit(X_train, Y_train)\n",
        "predict = reg.predict(X_test)\n",
        "\n",
        "r2 = r2_score(Y_test, predict)\n",
        "mae = mean_absolute_error(Y_test, predict)\n",
        "mse = mean_squared_error(Y_test, predict)\n",
        "print(\"------------------------------------------------\")\n",
        "print(\"------------------------------------------------\")\n",
        "print(\"------------------------------------------------\")\n",
        "print(\"------------------------------------------------\")\n",
        "print(f\"The r2 score is : {r2}\")\n",
        "print(f\"The Mean absolute error is : {mae}\")\n",
        "print(f\"The Mean squared error score is : {mse}\")\n",
        "print(\"------------------------------------------------\")\n",
        "print(\"------------------------------------------------\")\n",
        "print(\"------------------------------------------------\")\n",
        "print(\"------------------------------------------------\")\n",
        "\n",
        "plt.scatter(predict, Y_test)"
      ],
      "execution_count": null,
      "outputs": [
        {
          "output_type": "stream",
          "text": [
            "------------------------------------------------\n",
            "------------------------------------------------\n",
            "------------------------------------------------\n",
            "------------------------------------------------\n",
            "The r2 score is : -4.3134006835865435e-05\n",
            "The Mean absolute error is : 0.8094555207009563\n",
            "The Mean squared error score is : 1.000043134006836\n",
            "------------------------------------------------\n",
            "------------------------------------------------\n",
            "------------------------------------------------\n",
            "------------------------------------------------\n"
          ],
          "name": "stdout"
        },
        {
          "output_type": "stream",
          "text": [
            "/usr/local/lib/python3.7/dist-packages/sklearn/ensemble/_stacking.py:642: DataConversionWarning:\n",
            "\n",
            "A column-vector y was passed when a 1d array was expected. Please change the shape of y to (n_samples, ), for example using ravel().\n",
            "\n"
          ],
          "name": "stderr"
        },
        {
          "output_type": "execute_result",
          "data": {
            "text/plain": [
              "<matplotlib.collections.PathCollection at 0x7ff99bf05690>"
            ]
          },
          "metadata": {
            "tags": []
          },
          "execution_count": 19
        },
        {
          "output_type": "display_data",
          "data": {
            "image/png": "[encoded data removed]",
            "text/plain": [
              "<Figure size 432x288 with 1 Axes>"
            ]
          },
          "metadata": {
            "tags": [],
            "needs_background": "light"
          }
        }
      ]
    },
    {
      "cell_type": "code",
      "metadata": {
        "colab": {
          "base_uri": "https://localhost:8080/",
          "height": 570
        },
        "id": "gk6BUrpBfiH8",
        "outputId": "c498f403-746b-48dc-ffcf-e4c90ef622c1"
      },
      "source": [
        "train = dataset_UK[ : 380]\n",
        "test = dataset_UK[380 : ]\n",
        "\n",
        "features = [\"new_cases\", \"Mortality_Rate\"]\n",
        "\n",
        "train = train[features]\n",
        "test = test[features]\n",
        "\n",
        "X_train = train.iloc[ : ,  : -1]\n",
        "Y_train = train.iloc[ : , -1 : ]\n",
        "\n",
        "X_test = test.iloc[ : ,  : -1]\n",
        "Y_test = test.iloc[ : , -1 : ]\n",
        "\n",
        "sc = StandardScaler()\n",
        "X_train = sc.fit_transform(X_train)\n",
        "X_test = sc.fit_transform(X_test)\n",
        "Y_train = sc.fit_transform(Y_train)\n",
        "Y_test = sc.fit_transform(Y_test)\n",
        "\n",
        "estimators = [\n",
        "              #(\"knn\", KNeighborsRegressor(n_neighbors = 44)),\n",
        "              #(\"xgb\", xgb.XGBRegressor(random_state = SEED)),\n",
        "              (\"lasso\", Lasso(alpha = 5))\n",
        "\n",
        "]\n",
        "\n",
        "reg = StackingRegressor(\n",
        "    estimators = estimators ,\n",
        "   # final_estimator = KNeighborsRegressor(n_neighbors = 10)\n",
        ")\n",
        "\n",
        "reg.fit(X_train, Y_train)\n",
        "predict = reg.predict(X_test)\n",
        "\n",
        "r2 = r2_score(Y_test, predict)\n",
        "mae = mean_absolute_error(Y_test, predict)\n",
        "mse = mean_squared_error(Y_test, predict)\n",
        "print(\"------------------------------------------------\")\n",
        "print(\"------------------------------------------------\")\n",
        "print(\"------------------------------------------------\")\n",
        "print(\"------------------------------------------------\")\n",
        "print(f\"The r2 score is : {r2}\")\n",
        "print(f\"The Mean absolute error is : {mae}\")\n",
        "print(f\"The Mean squared error score is : {mse}\")\n",
        "print(\"------------------------------------------------\")\n",
        "print(\"------------------------------------------------\")\n",
        "print(\"------------------------------------------------\")\n",
        "print(\"------------------------------------------------\")\n",
        "\n",
        "plt.scatter(predict, Y_test)"
      ],
      "execution_count": null,
      "outputs": [
        {
          "output_type": "stream",
          "text": [
            "------------------------------------------------\n",
            "------------------------------------------------\n",
            "------------------------------------------------\n",
            "------------------------------------------------\n",
            "The r2 score is : 2.220446049250313e-16\n",
            "The Mean absolute error is : 0.810722961639796\n",
            "The Mean squared error score is : 1.0\n",
            "------------------------------------------------\n",
            "------------------------------------------------\n",
            "------------------------------------------------\n",
            "------------------------------------------------\n"
          ],
          "name": "stdout"
        },
        {
          "output_type": "stream",
          "text": [
            "/usr/local/lib/python3.7/dist-packages/sklearn/ensemble/_stacking.py:642: DataConversionWarning:\n",
            "\n",
            "A column-vector y was passed when a 1d array was expected. Please change the shape of y to (n_samples, ), for example using ravel().\n",
            "\n"
          ],
          "name": "stderr"
        },
        {
          "output_type": "execute_result",
          "data": {
            "text/plain": [
              "<matplotlib.collections.PathCollection at 0x7ff99bf055d0>"
            ]
          },
          "metadata": {
            "tags": []
          },
          "execution_count": 20
        },
        {
          "output_type": "display_data",
          "data": {
            "image/png": "[encoded data removed]",
            "text/plain": [
              "<Figure size 432x288 with 1 Axes>"
            ]
          },
          "metadata": {
            "tags": [],
            "needs_background": "light"
          }
        }
      ]
    },
    {
      "cell_type": "code",
      "metadata": {
        "colab": {
          "base_uri": "https://localhost:8080/",
          "height": 570
        },
        "id": "RA72YwiJfiKM",
        "outputId": "98d1761c-2eb5-4e1f-fd2e-f6e8c0c6b73e"
      },
      "source": [
        "train = dataset_UK[ : 380]\n",
        "test = dataset_UK[380 : ]\n",
        "\n",
        "features = [\"new_tests\", \"Mortality_Rate\"]\n",
        "\n",
        "train = train[features]\n",
        "test = test[features]\n",
        "\n",
        "X_train = train.iloc[ : ,  : -1]\n",
        "Y_train = train.iloc[ : , -1 : ]\n",
        "\n",
        "X_test = test.iloc[ : ,  : -1]\n",
        "Y_test = test.iloc[ : , -1 : ]\n",
        "\n",
        "sc = StandardScaler()\n",
        "X_train = sc.fit_transform(X_train)\n",
        "X_test = sc.fit_transform(X_test)\n",
        "Y_train = sc.fit_transform(Y_train)\n",
        "Y_test = sc.fit_transform(Y_test)\n",
        "\n",
        "estimators = [\n",
        "              #(\"knn\", KNeighborsRegressor(n_neighbors = 44)),\n",
        "              #(\"xgb\", xgb.XGBRegressor(random_state = SEED)),\n",
        "              (\"lasso\", Lasso(alpha = 1))\n",
        "\n",
        "]\n",
        "\n",
        "reg = StackingRegressor(\n",
        "    estimators = estimators ,\n",
        "    #final_estimator = KNeighborsRegressor(n_neighbors = 10)\n",
        ")\n",
        "\n",
        "reg.fit(X_train, Y_train)\n",
        "predict = reg.predict(X_test)\n",
        "\n",
        "r2 = r2_score(Y_test, predict)\n",
        "mae = mean_absolute_error(Y_test, predict)\n",
        "mse = mean_squared_error(Y_test, predict)\n",
        "print(\"------------------------------------------------\")\n",
        "print(\"------------------------------------------------\")\n",
        "print(\"------------------------------------------------\")\n",
        "print(\"------------------------------------------------\")\n",
        "print(f\"The r2 score is : {r2}\")\n",
        "print(f\"The Mean absolute error is : {mae}\")\n",
        "print(f\"The Mean squared error score is : {mse}\")\n",
        "print(\"------------------------------------------------\")\n",
        "print(\"------------------------------------------------\")\n",
        "print(\"------------------------------------------------\")\n",
        "print(\"------------------------------------------------\")\n",
        "\n",
        "plt.scatter(predict, Y_test)"
      ],
      "execution_count": null,
      "outputs": [
        {
          "output_type": "stream",
          "text": [
            "------------------------------------------------\n",
            "------------------------------------------------\n",
            "------------------------------------------------\n",
            "------------------------------------------------\n",
            "The r2 score is : 2.220446049250313e-16\n",
            "The Mean absolute error is : 0.810722961639796\n",
            "The Mean squared error score is : 1.0\n",
            "------------------------------------------------\n",
            "------------------------------------------------\n",
            "------------------------------------------------\n",
            "------------------------------------------------\n"
          ],
          "name": "stdout"
        },
        {
          "output_type": "stream",
          "text": [
            "/usr/local/lib/python3.7/dist-packages/sklearn/ensemble/_stacking.py:642: DataConversionWarning:\n",
            "\n",
            "A column-vector y was passed when a 1d array was expected. Please change the shape of y to (n_samples, ), for example using ravel().\n",
            "\n"
          ],
          "name": "stderr"
        },
        {
          "output_type": "execute_result",
          "data": {
            "text/plain": [
              "<matplotlib.collections.PathCollection at 0x7ff99b981790>"
            ]
          },
          "metadata": {
            "tags": []
          },
          "execution_count": 21
        },
        {
          "output_type": "display_data",
          "data": {
            "image/png": "[encoded data removed]",
            "text/plain": [
              "<Figure size 432x288 with 1 Axes>"
            ]
          },
          "metadata": {
            "tags": [],
            "needs_background": "light"
          }
        }
      ]
    },
    {
      "cell_type": "code",
      "metadata": {
        "colab": {
          "base_uri": "https://localhost:8080/",
          "height": 570
        },
        "id": "sfo_887WfiMF",
        "outputId": "25f6956f-437f-4ca2-987b-a8435591bfe6"
      },
      "source": [
        "train = dataset_UK[ : 380]\n",
        "test = dataset_UK[380 : ]\n",
        "\n",
        "features = [\"positive_rate\", \"Mortality_Rate\"]\n",
        "\n",
        "train = train[features]\n",
        "test = test[features]\n",
        "\n",
        "X_train = train.iloc[ : ,  : -1]\n",
        "Y_train = train.iloc[ : , -1 : ]\n",
        "\n",
        "X_test = test.iloc[ : ,  : -1]\n",
        "Y_test = test.iloc[ : , -1 : ]\n",
        "\n",
        "sc = StandardScaler()\n",
        "X_train = sc.fit_transform(X_train)\n",
        "X_test = sc.fit_transform(X_test)\n",
        "Y_train = sc.fit_transform(Y_train)\n",
        "Y_test = sc.fit_transform(Y_test)\n",
        "\n",
        "estimators = [\n",
        "              #(\"knn\", KNeighborsRegressor(n_neighbors = 44)),\n",
        "              #(\"xgb\", xgb.XGBRegressor(random_state = SEED)),\n",
        "              (\"lasso\", Lasso(alpha = 1))\n",
        "\n",
        "]\n",
        "\n",
        "reg = StackingRegressor(\n",
        "    estimators = estimators ,\n",
        "    #final_estimator = KNeighborsRegressor(n_neighbors = 10)\n",
        ")\n",
        "\n",
        "reg.fit(X_train, Y_train)\n",
        "predict = reg.predict(X_test)\n",
        "\n",
        "r2 = r2_score(Y_test, predict)\n",
        "mae = mean_absolute_error(Y_test, predict)\n",
        "mse = mean_squared_error(Y_test, predict)\n",
        "print(\"------------------------------------------------\")\n",
        "print(\"------------------------------------------------\")\n",
        "print(\"------------------------------------------------\")\n",
        "print(\"------------------------------------------------\")\n",
        "print(f\"The r2 score is : {r2}\")\n",
        "print(f\"The Mean absolute error is : {mae}\")\n",
        "print(f\"The Mean squared error score is : {mse}\")\n",
        "print(\"------------------------------------------------\")\n",
        "print(\"------------------------------------------------\")\n",
        "print(\"------------------------------------------------\")\n",
        "print(\"------------------------------------------------\")\n",
        "\n",
        "plt.scatter(predict, Y_test)"
      ],
      "execution_count": null,
      "outputs": [
        {
          "output_type": "stream",
          "text": [
            "------------------------------------------------\n",
            "------------------------------------------------\n",
            "------------------------------------------------\n",
            "------------------------------------------------\n",
            "The r2 score is : 2.220446049250313e-16\n",
            "The Mean absolute error is : 0.810722961639796\n",
            "The Mean squared error score is : 1.0\n",
            "------------------------------------------------\n",
            "------------------------------------------------\n",
            "------------------------------------------------\n",
            "------------------------------------------------\n"
          ],
          "name": "stdout"
        },
        {
          "output_type": "stream",
          "text": [
            "/usr/local/lib/python3.7/dist-packages/sklearn/ensemble/_stacking.py:642: DataConversionWarning:\n",
            "\n",
            "A column-vector y was passed when a 1d array was expected. Please change the shape of y to (n_samples, ), for example using ravel().\n",
            "\n"
          ],
          "name": "stderr"
        },
        {
          "output_type": "execute_result",
          "data": {
            "text/plain": [
              "<matplotlib.collections.PathCollection at 0x7ff99b948910>"
            ]
          },
          "metadata": {
            "tags": []
          },
          "execution_count": 22
        },
        {
          "output_type": "display_data",
          "data": {
            "image/png": "[encoded data removed]",
            "text/plain": [
              "<Figure size 432x288 with 1 Axes>"
            ]
          },
          "metadata": {
            "tags": [],
            "needs_background": "light"
          }
        }
      ]
    },
    {
      "cell_type": "code",
      "metadata": {
        "colab": {
          "base_uri": "https://localhost:8080/",
          "height": 557
        },
        "id": "_oLgRNnziUwr",
        "outputId": "18c70757-18e8-499f-e378-039f77996561"
      },
      "source": [
        "train = dataset_UK[ : 380]\n",
        "test = dataset_UK[380 : ]\n",
        "\n",
        "features = [\"icu_patients\", \"Mortality_Rate\"]\n",
        "\n",
        "train = train[features]\n",
        "test = test[features]\n",
        "\n",
        "X_train = train.iloc[ : ,  : -1]\n",
        "Y_train = train.iloc[ : , -1 : ]\n",
        "\n",
        "X_test = test.iloc[ : ,  : -1]\n",
        "Y_test = test.iloc[ : , -1 : ]\n",
        "\n",
        "sc = StandardScaler()\n",
        "X_train = sc.fit_transform(X_train)\n",
        "X_test = sc.fit_transform(X_test)\n",
        "Y_train = sc.fit_transform(Y_train)\n",
        "Y_test = sc.fit_transform(Y_test)\n",
        "\n",
        "estimators = [\n",
        "             (\"knn\", KNeighborsRegressor(n_neighbors = 44)),\n",
        "              #(\"xgb\", xgb.XGBRegressor(random_state = SEED)),\n",
        "              (\"lasso\", Lasso(alpha = 1))\n",
        "\n",
        "]\n",
        "\n",
        "reg = StackingRegressor(\n",
        "    estimators = estimators ,\n",
        "    final_estimator = KNeighborsRegressor(n_neighbors = 10)\n",
        ")\n",
        "\n",
        "reg.fit(X_train, Y_train)\n",
        "predict = reg.predict(X_test)\n",
        "\n",
        "r2 = r2_score(Y_test, predict)\n",
        "mae = mean_absolute_error(Y_test, predict)\n",
        "mse = mean_squared_error(Y_test, predict)\n",
        "print(\"------------------------------------------------\")\n",
        "print(\"------------------------------------------------\")\n",
        "print(\"------------------------------------------------\")\n",
        "print(\"------------------------------------------------\")\n",
        "print(f\"The r2 score is : {r2}\")\n",
        "print(f\"The Mean absolute error is : {mae}\")\n",
        "print(f\"The Mean squared error score is : {mse}\")\n",
        "print(\"------------------------------------------------\")\n",
        "print(\"------------------------------------------------\")\n",
        "print(\"------------------------------------------------\")\n",
        "print(\"------------------------------------------------\")\n",
        "\n",
        "plt.scatter(predict, Y_test)"
      ],
      "execution_count": null,
      "outputs": [
        {
          "output_type": "stream",
          "text": [
            "------------------------------------------------\n",
            "------------------------------------------------\n",
            "------------------------------------------------\n",
            "------------------------------------------------\n",
            "The r2 score is : 0.2297067458231532\n",
            "The Mean absolute error is : 0.6544789033102955\n",
            "The Mean squared error score is : 0.770293254176847\n",
            "------------------------------------------------\n",
            "------------------------------------------------\n",
            "------------------------------------------------\n",
            "------------------------------------------------\n"
          ],
          "name": "stdout"
        },
        {
          "output_type": "stream",
          "text": [
            "/usr/local/lib/python3.7/dist-packages/sklearn/ensemble/_stacking.py:642: DataConversionWarning:\n",
            "\n",
            "A column-vector y was passed when a 1d array was expected. Please change the shape of y to (n_samples, ), for example using ravel().\n",
            "\n"
          ],
          "name": "stderr"
        },
        {
          "output_type": "execute_result",
          "data": {
            "text/plain": [
              "<matplotlib.collections.PathCollection at 0x7ff99b8e8690>"
            ]
          },
          "metadata": {
            "tags": []
          },
          "execution_count": 23
        },
        {
          "output_type": "display_data",
          "data": {
            "image/png": "[encoded data removed]",
            "text/plain": [
              "<Figure size 432x288 with 1 Axes>"
            ]
          },
          "metadata": {
            "tags": [],
            "needs_background": "light"
          }
        }
      ]
    },
    {
      "cell_type": "code",
      "metadata": {
        "colab": {
          "base_uri": "https://localhost:8080/",
          "height": 557
        },
        "id": "sH_IxA9iibMa",
        "outputId": "595baea7-3d89-4e01-986c-25c880f1bc9f"
      },
      "source": [
        "train = dataset_UK[ : 380]\n",
        "test = dataset_UK[380 : ]\n",
        "\n",
        "features = [\"new_cases\", \"Mortality_Rate\"]\n",
        "\n",
        "train = train[features]\n",
        "test = test[features]\n",
        "\n",
        "X_train = train.iloc[ : ,  : -1]\n",
        "Y_train = train.iloc[ : , -1 : ]\n",
        "\n",
        "X_test = test.iloc[ : ,  : -1]\n",
        "Y_test = test.iloc[ : , -1 : ]\n",
        "\n",
        "sc = StandardScaler()\n",
        "X_train = sc.fit_transform(X_train)\n",
        "X_test = sc.fit_transform(X_test)\n",
        "Y_train = sc.fit_transform(Y_train)\n",
        "Y_test = sc.fit_transform(Y_test)\n",
        "\n",
        "estimators = [\n",
        "             (\"knn\", KNeighborsRegressor(n_neighbors = 44)),\n",
        "              #(\"xgb\", xgb.XGBRegressor(random_state = SEED)),\n",
        "              (\"lasso\", Lasso(alpha = 1))\n",
        "\n",
        "]\n",
        "\n",
        "reg = StackingRegressor(\n",
        "    estimators = estimators ,\n",
        "    final_estimator = KNeighborsRegressor(n_neighbors = 10)\n",
        ")\n",
        "\n",
        "reg.fit(X_train, Y_train)\n",
        "predict = reg.predict(X_test)\n",
        "\n",
        "r2 = r2_score(Y_test, predict)\n",
        "mae = mean_absolute_error(Y_test, predict)\n",
        "mse = mean_squared_error(Y_test, predict)\n",
        "print(\"------------------------------------------------\")\n",
        "print(\"------------------------------------------------\")\n",
        "print(\"------------------------------------------------\")\n",
        "print(\"------------------------------------------------\")\n",
        "print(f\"The r2 score is : {r2}\")\n",
        "print(f\"The Mean absolute error is : {mae}\")\n",
        "print(f\"The Mean squared error score is : {mse}\")\n",
        "print(\"------------------------------------------------\")\n",
        "print(\"------------------------------------------------\")\n",
        "print(\"------------------------------------------------\")\n",
        "print(\"------------------------------------------------\")\n",
        "\n",
        "plt.scatter(predict, Y_test)"
      ],
      "execution_count": null,
      "outputs": [
        {
          "output_type": "stream",
          "text": [
            "------------------------------------------------\n",
            "------------------------------------------------\n",
            "------------------------------------------------\n",
            "------------------------------------------------\n",
            "The r2 score is : -0.3444960817097531\n",
            "The Mean absolute error is : 0.9837092651908782\n",
            "The Mean squared error score is : 1.3444960817097535\n",
            "------------------------------------------------\n",
            "------------------------------------------------\n",
            "------------------------------------------------\n",
            "------------------------------------------------\n"
          ],
          "name": "stdout"
        },
        {
          "output_type": "stream",
          "text": [
            "/usr/local/lib/python3.7/dist-packages/sklearn/ensemble/_stacking.py:642: DataConversionWarning:\n",
            "\n",
            "A column-vector y was passed when a 1d array was expected. Please change the shape of y to (n_samples, ), for example using ravel().\n",
            "\n"
          ],
          "name": "stderr"
        },
        {
          "output_type": "execute_result",
          "data": {
            "text/plain": [
              "<matplotlib.collections.PathCollection at 0x7ff99b861910>"
            ]
          },
          "metadata": {
            "tags": []
          },
          "execution_count": 24
        },
        {
          "output_type": "display_data",
          "data": {
            "image/png": "[encoded data removed]",
            "text/plain": [
              "<Figure size 432x288 with 1 Axes>"
            ]
          },
          "metadata": {
            "tags": [],
            "needs_background": "light"
          }
        }
      ]
    },
    {
      "cell_type": "code",
      "metadata": {
        "colab": {
          "base_uri": "https://localhost:8080/",
          "height": 557
        },
        "id": "kAA3BygHjFiM",
        "outputId": "71e44862-5c36-4ce5-d2ea-279067354304"
      },
      "source": [
        "train = dataset_UK[ : 380]\n",
        "test = dataset_UK[380 : ]\n",
        "\n",
        "features = [\"new_tests\", \"Mortality_Rate\"]\n",
        "\n",
        "train = train[features]\n",
        "test = test[features]\n",
        "\n",
        "X_train = train.iloc[ : ,  : -1]\n",
        "Y_train = train.iloc[ : , -1 : ]\n",
        "\n",
        "X_test = test.iloc[ : ,  : -1]\n",
        "Y_test = test.iloc[ : , -1 : ]\n",
        "\n",
        "sc = StandardScaler()\n",
        "X_train = sc.fit_transform(X_train)\n",
        "X_test = sc.fit_transform(X_test)\n",
        "Y_train = sc.fit_transform(Y_train)\n",
        "Y_test = sc.fit_transform(Y_test)\n",
        "\n",
        "estimators = [\n",
        "             (\"knn\", KNeighborsRegressor(n_neighbors = 44)),\n",
        "              #(\"xgb\", xgb.XGBRegressor(random_state = SEED)),\n",
        "              (\"lasso\", Lasso(alpha = 1))\n",
        "\n",
        "]\n",
        "\n",
        "reg = StackingRegressor(\n",
        "    estimators = estimators ,\n",
        "    final_estimator = KNeighborsRegressor(n_neighbors = 10)\n",
        ")\n",
        "\n",
        "reg.fit(X_train, Y_train)\n",
        "predict = reg.predict(X_test)\n",
        "\n",
        "r2 = r2_score(Y_test, predict)\n",
        "mae = mean_absolute_error(Y_test, predict)\n",
        "mse = mean_squared_error(Y_test, predict)\n",
        "print(\"------------------------------------------------\")\n",
        "print(\"------------------------------------------------\")\n",
        "print(\"------------------------------------------------\")\n",
        "print(\"------------------------------------------------\")\n",
        "print(f\"The r2 score is : {r2}\")\n",
        "print(f\"The Mean absolute error is : {mae}\")\n",
        "print(f\"The Mean squared error score is : {mse}\")\n",
        "print(\"------------------------------------------------\")\n",
        "print(\"------------------------------------------------\")\n",
        "print(\"------------------------------------------------\")\n",
        "print(\"------------------------------------------------\")\n",
        "\n",
        "plt.scatter(predict, Y_test)"
      ],
      "execution_count": null,
      "outputs": [
        {
          "output_type": "stream",
          "text": [
            "------------------------------------------------\n",
            "------------------------------------------------\n",
            "------------------------------------------------\n",
            "------------------------------------------------\n",
            "The r2 score is : -0.1305706244537319\n",
            "The Mean absolute error is : 0.8105075500239555\n",
            "The Mean squared error score is : 1.1305706244537324\n",
            "------------------------------------------------\n",
            "------------------------------------------------\n",
            "------------------------------------------------\n",
            "------------------------------------------------\n"
          ],
          "name": "stdout"
        },
        {
          "output_type": "stream",
          "text": [
            "/usr/local/lib/python3.7/dist-packages/sklearn/ensemble/_stacking.py:642: DataConversionWarning:\n",
            "\n",
            "A column-vector y was passed when a 1d array was expected. Please change the shape of y to (n_samples, ), for example using ravel().\n",
            "\n"
          ],
          "name": "stderr"
        },
        {
          "output_type": "execute_result",
          "data": {
            "text/plain": [
              "<matplotlib.collections.PathCollection at 0x7ff99b7c8950>"
            ]
          },
          "metadata": {
            "tags": []
          },
          "execution_count": 25
        },
        {
          "output_type": "display_data",
          "data": {
            "image/png": "[encoded data removed]",
            "text/plain": [
              "<Figure size 432x288 with 1 Axes>"
            ]
          },
          "metadata": {
            "tags": [],
            "needs_background": "light"
          }
        }
      ]
    },
    {
      "cell_type": "code",
      "metadata": {
        "colab": {
          "base_uri": "https://localhost:8080/",
          "height": 557
        },
        "id": "W5RsKSHXjKos",
        "outputId": "b35aeee8-9faa-4a65-87a6-a9b0b50cc9b8"
      },
      "source": [
        "train = dataset_UK[ : 380]\n",
        "test = dataset_UK[380 : ]\n",
        "\n",
        "features = [\"positive_rate\", \"Mortality_Rate\"]\n",
        "\n",
        "train = train[features]\n",
        "test = test[features]\n",
        "\n",
        "X_train = train.iloc[ : ,  : -1]\n",
        "Y_train = train.iloc[ : , -1 : ]\n",
        "\n",
        "X_test = test.iloc[ : ,  : -1]\n",
        "Y_test = test.iloc[ : , -1 : ]\n",
        "\n",
        "sc = StandardScaler()\n",
        "X_train = sc.fit_transform(X_train)\n",
        "X_test = sc.fit_transform(X_test)\n",
        "Y_train = sc.fit_transform(Y_train)\n",
        "Y_test = sc.fit_transform(Y_test)\n",
        "\n",
        "estimators = [\n",
        "             (\"knn\", KNeighborsRegressor(n_neighbors = 44)),\n",
        "              #(\"xgb\", xgb.XGBRegressor(random_state = SEED)),\n",
        "              (\"lasso\", Lasso(alpha = 1))\n",
        "\n",
        "]\n",
        "\n",
        "reg = StackingRegressor(\n",
        "    estimators = estimators ,\n",
        "    final_estimator = KNeighborsRegressor(n_neighbors = 10)\n",
        ")\n",
        "\n",
        "reg.fit(X_train, Y_train)\n",
        "predict = reg.predict(X_test)\n",
        "\n",
        "r2 = r2_score(Y_test, predict)\n",
        "mae = mean_absolute_error(Y_test, predict)\n",
        "mse = mean_squared_error(Y_test, predict)\n",
        "print(\"------------------------------------------------\")\n",
        "print(\"------------------------------------------------\")\n",
        "print(\"------------------------------------------------\")\n",
        "print(\"------------------------------------------------\")\n",
        "print(f\"The r2 score is : {r2}\")\n",
        "print(f\"The Mean absolute error is : {mae}\")\n",
        "print(f\"The Mean squared error score is : {mse}\")\n",
        "print(\"------------------------------------------------\")\n",
        "print(\"------------------------------------------------\")\n",
        "print(\"------------------------------------------------\")\n",
        "print(\"------------------------------------------------\")\n",
        "\n",
        "plt.scatter(predict, Y_test)"
      ],
      "execution_count": null,
      "outputs": [
        {
          "output_type": "stream",
          "text": [
            "------------------------------------------------\n",
            "------------------------------------------------\n",
            "------------------------------------------------\n",
            "------------------------------------------------\n",
            "The r2 score is : 0.31601426945037703\n",
            "The Mean absolute error is : 0.6117917985209695\n",
            "The Mean squared error score is : 0.6839857305496232\n",
            "------------------------------------------------\n",
            "------------------------------------------------\n",
            "------------------------------------------------\n",
            "------------------------------------------------\n"
          ],
          "name": "stdout"
        },
        {
          "output_type": "stream",
          "text": [
            "/usr/local/lib/python3.7/dist-packages/sklearn/ensemble/_stacking.py:642: DataConversionWarning:\n",
            "\n",
            "A column-vector y was passed when a 1d array was expected. Please change the shape of y to (n_samples, ), for example using ravel().\n",
            "\n"
          ],
          "name": "stderr"
        },
        {
          "output_type": "execute_result",
          "data": {
            "text/plain": [
              "<matplotlib.collections.PathCollection at 0x7ff99b749d10>"
            ]
          },
          "metadata": {
            "tags": []
          },
          "execution_count": 26
        },
        {
          "output_type": "display_data",
          "data": {
            "image/png": "[encoded data removed]",
            "text/plain": [
              "<Figure size 432x288 with 1 Axes>"
            ]
          },
          "metadata": {
            "tags": [],
            "needs_background": "light"
          }
        }
      ]
    }
  ]
}
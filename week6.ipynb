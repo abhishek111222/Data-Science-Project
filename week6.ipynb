{
  "nbformat": 4,
  "nbformat_minor": 0,
  "metadata": {
    "colab": {
      "name": "week6.ipynb",
      "provenance": []
    },
    "kernelspec": {
      "name": "python3",
      "display_name": "Python 3"
    },
    "language_info": {
      "name": "python"
    }
  },
  "cells": [
    {
      "cell_type": "code",
      "metadata": {
        "colab": {
          "base_uri": "https://localhost:8080/"
        },
        "id": "COEbmOZPB6if",
        "outputId": "88a7f5a3-1301-4e95-a0c4-68f8a47852d3"
      },
      "source": [
        "from google.colab import drive\n",
        "drive.mount('/content/gdrive')"
      ],
      "execution_count": 1,
      "outputs": [
        {
          "output_type": "stream",
          "text": [
            "Drive already mounted at /content/gdrive; to attempt to forcibly remount, call drive.mount(\"/content/gdrive\", force_remount=True).\n"
          ],
          "name": "stdout"
        }
      ]
    },
    {
      "cell_type": "code",
      "metadata": {
        "colab": {
          "base_uri": "https://localhost:8080/"
        },
        "id": "SdlDsOPEB7ge",
        "outputId": "7eab53f3-6d46-449d-fa26-abb1af9537ee"
      },
      "source": [
        "!pip install --upgrade plotly\n",
        "!pip install pmdarima\n",
        "print(\"Done\")"
      ],
      "execution_count": 2,
      "outputs": [
        {
          "output_type": "stream",
          "text": [
            "Requirement already up-to-date: plotly in /usr/local/lib/python3.7/dist-packages (5.1.0)\n",
            "Requirement already satisfied, skipping upgrade: six in /usr/local/lib/python3.7/dist-packages (from plotly) (1.15.0)\n",
            "Requirement already satisfied, skipping upgrade: tenacity>=6.2.0 in /usr/local/lib/python3.7/dist-packages (from plotly) (7.0.0)\n",
            "Requirement already satisfied: pmdarima in /usr/local/lib/python3.7/dist-packages (1.8.2)\n",
            "Requirement already satisfied: urllib3 in /usr/local/lib/python3.7/dist-packages (from pmdarima) (1.24.3)\n",
            "Requirement already satisfied: Cython!=0.29.18,>=0.29 in /usr/local/lib/python3.7/dist-packages (from pmdarima) (0.29.23)\n",
            "Requirement already satisfied: setuptools!=50.0.0,>=38.6.0 in /usr/local/lib/python3.7/dist-packages (from pmdarima) (57.0.0)\n",
            "Requirement already satisfied: scipy>=1.3.2 in /usr/local/lib/python3.7/dist-packages (from pmdarima) (1.4.1)\n",
            "Requirement already satisfied: statsmodels!=0.12.0,>=0.11 in /usr/local/lib/python3.7/dist-packages (from pmdarima) (0.12.2)\n",
            "Requirement already satisfied: pandas>=0.19 in /usr/local/lib/python3.7/dist-packages (from pmdarima) (1.1.5)\n",
            "Requirement already satisfied: joblib>=0.11 in /usr/local/lib/python3.7/dist-packages (from pmdarima) (1.0.1)\n",
            "Requirement already satisfied: numpy~=1.19.0 in /usr/local/lib/python3.7/dist-packages (from pmdarima) (1.19.5)\n",
            "Requirement already satisfied: scikit-learn>=0.22 in /usr/local/lib/python3.7/dist-packages (from pmdarima) (0.22.2.post1)\n",
            "Requirement already satisfied: patsy>=0.5 in /usr/local/lib/python3.7/dist-packages (from statsmodels!=0.12.0,>=0.11->pmdarima) (0.5.1)\n",
            "Requirement already satisfied: python-dateutil>=2.7.3 in /usr/local/lib/python3.7/dist-packages (from pandas>=0.19->pmdarima) (2.8.1)\n",
            "Requirement already satisfied: pytz>=2017.2 in /usr/local/lib/python3.7/dist-packages (from pandas>=0.19->pmdarima) (2018.9)\n",
            "Requirement already satisfied: six in /usr/local/lib/python3.7/dist-packages (from patsy>=0.5->statsmodels!=0.12.0,>=0.11->pmdarima) (1.15.0)\n",
            "Done\n"
          ],
          "name": "stdout"
        }
      ]
    },
    {
      "cell_type": "code",
      "metadata": {
        "id": "iEa112HKCFef"
      },
      "source": [
        "import pandas as pd\n",
        "import numpy as np\n",
        "import plotly.express as px\n",
        "import plotly.graph_objects as go\n",
        "import matplotlib.pyplot as plt\n",
        "from pandas.plotting import lag_plot, autocorrelation_plot\n",
        "from statsmodels.graphics.tsaplots import plot_acf\n",
        "from statsmodels.tsa.api import VAR\n",
        "import statsmodels.api as sm\n",
        "from statsmodels.tsa.stattools import adfuller\n",
        "from sklearn.metrics import mean_squared_error\n",
        "from sklearn.preprocessing import StandardScaler\n",
        "from sklearn.model_selection import GridSearchCV\n",
        "from pprint import pprint\n",
        "from math import sqrt\n",
        "import itertools\n",
        "\n",
        "from statsmodels.tsa.arima_model import ARIMA\n",
        "from statsmodels.tsa.ar_model import AR\n",
        "from pmdarima import auto_arima\n",
        "\n",
        "import warnings\n",
        "warnings.filterwarnings(\"ignore\")"
      ],
      "execution_count": 3,
      "outputs": []
    },
    {
      "cell_type": "code",
      "metadata": {
        "id": "4ddBS7bfCGIg"
      },
      "source": [
        "from sklearn.preprocessing import OneHotEncoder\n",
        "from sklearn.preprocessing import LabelEncoder\n",
        "from sklearn.pipeline import Pipeline\n",
        "\n",
        "from sklearn.ensemble import RandomForestRegressor\n",
        "from sklearn.ensemble import StackingRegressor\n",
        "from sklearn.datasets import make_regression\n",
        "from sklearn.linear_model import RidgeCV, Lasso, LassoCV\n",
        "from sklearn.neighbors import KNeighborsRegressor\n",
        "from sklearn.svm import LinearSVR\n",
        "from sklearn import linear_model\n",
        "import xgboost as xgb\n",
        "\n",
        "from sklearn.metrics import r2_score, mean_absolute_error, mean_squared_error\n",
        "\n",
        "SEED = 42"
      ],
      "execution_count": 4,
      "outputs": []
    },
    {
      "cell_type": "code",
      "metadata": {
        "id": "Y0mlPuKYCH3_"
      },
      "source": [
        "df = pd.read_csv(\"/content/gdrive/MyDrive/owid-covid-data.csv\")"
      ],
      "execution_count": 5,
      "outputs": []
    },
    {
      "cell_type": "code",
      "metadata": {
        "id": "CPfzMZ6fCMz1"
      },
      "source": [
        "dataset_UK = df[df[\"location\"] == \"United Kingdom\"]  "
      ],
      "execution_count": 6,
      "outputs": []
    },
    {
      "cell_type": "code",
      "metadata": {
        "colab": {
          "base_uri": "https://localhost:8080/"
        },
        "id": "hUN6FqMwDBdW",
        "outputId": "ea4cd8bf-1096-41be-92f4-31f2db08ced7"
      },
      "source": [
        "dataset_UK.columns"
      ],
      "execution_count": 7,
      "outputs": [
        {
          "output_type": "execute_result",
          "data": {
            "text/plain": [
              "Index(['iso_code', 'continent', 'location', 'date', 'total_cases', 'new_cases',\n",
              "       'new_cases_smoothed', 'total_deaths', 'new_deaths',\n",
              "       'new_deaths_smoothed', 'total_cases_per_million',\n",
              "       'new_cases_per_million', 'new_cases_smoothed_per_million',\n",
              "       'total_deaths_per_million', 'new_deaths_per_million',\n",
              "       'new_deaths_smoothed_per_million', 'reproduction_rate', 'icu_patients',\n",
              "       'icu_patients_per_million', 'hosp_patients',\n",
              "       'hosp_patients_per_million', 'weekly_icu_admissions',\n",
              "       'weekly_icu_admissions_per_million', 'weekly_hosp_admissions',\n",
              "       'weekly_hosp_admissions_per_million', 'new_tests', 'total_tests',\n",
              "       'total_tests_per_thousand', 'new_tests_per_thousand',\n",
              "       'new_tests_smoothed', 'new_tests_smoothed_per_thousand',\n",
              "       'positive_rate', 'tests_per_case', 'tests_units', 'total_vaccinations',\n",
              "       'people_vaccinated', 'people_fully_vaccinated', 'new_vaccinations',\n",
              "       'new_vaccinations_smoothed', 'total_vaccinations_per_hundred',\n",
              "       'people_vaccinated_per_hundred', 'people_fully_vaccinated_per_hundred',\n",
              "       'new_vaccinations_smoothed_per_million', 'stringency_index',\n",
              "       'population', 'population_density', 'median_age', 'aged_65_older',\n",
              "       'aged_70_older', 'gdp_per_capita', 'extreme_poverty',\n",
              "       'cardiovasc_death_rate', 'diabetes_prevalence', 'female_smokers',\n",
              "       'male_smokers', 'handwashing_facilities', 'hospital_beds_per_thousand',\n",
              "       'life_expectancy', 'human_development_index', 'excess_mortality'],\n",
              "      dtype='object')"
            ]
          },
          "metadata": {
            "tags": []
          },
          "execution_count": 7
        }
      ]
    },
    {
      "cell_type": "code",
      "metadata": {
        "id": "OfmMqA0oCtGy"
      },
      "source": [
        "features = [\"date\", \"population\", \"new_deaths\", \"reproduction_rate\", \"icu_patients\"]"
      ],
      "execution_count": 8,
      "outputs": []
    },
    {
      "cell_type": "code",
      "metadata": {
        "id": "ipmJYkqTDLEN"
      },
      "source": [
        "dataset_UK = dataset_UK[dataset_UK[\"date\"] >= \"2020-05-01\"]"
      ],
      "execution_count": 9,
      "outputs": []
    },
    {
      "cell_type": "code",
      "metadata": {
        "id": "W_8m__tUDd0u"
      },
      "source": [
        "dataset_UK = dataset_UK[features]"
      ],
      "execution_count": 10,
      "outputs": []
    },
    {
      "cell_type": "code",
      "metadata": {
        "colab": {
          "base_uri": "https://localhost:8080/",
          "height": 204
        },
        "id": "xcpzfIwqDfIO",
        "outputId": "71a2c712-86de-4fe5-ebaa-86c243e6e994"
      },
      "source": [
        "dataset_UK.head()"
      ],
      "execution_count": 11,
      "outputs": [
        {
          "output_type": "execute_result",
          "data": {
            "text/html": [
              "<div>\n",
              "<style scoped>\n",
              "    .dataframe tbody tr th:only-of-type {\n",
              "        vertical-align: middle;\n",
              "    }\n",
              "\n",
              "    .dataframe tbody tr th {\n",
              "        vertical-align: top;\n",
              "    }\n",
              "\n",
              "    .dataframe thead th {\n",
              "        text-align: right;\n",
              "    }\n",
              "</style>\n",
              "<table border=\"1\" class=\"dataframe\">\n",
              "  <thead>\n",
              "    <tr style=\"text-align: right;\">\n",
              "      <th></th>\n",
              "      <th>date</th>\n",
              "      <th>population</th>\n",
              "      <th>new_deaths</th>\n",
              "      <th>reproduction_rate</th>\n",
              "      <th>icu_patients</th>\n",
              "    </tr>\n",
              "  </thead>\n",
              "  <tbody>\n",
              "    <tr>\n",
              "      <th>90078</th>\n",
              "      <td>2020-05-01</td>\n",
              "      <td>67886004.0</td>\n",
              "      <td>700.0</td>\n",
              "      <td>0.94</td>\n",
              "      <td>2178.0</td>\n",
              "    </tr>\n",
              "    <tr>\n",
              "      <th>90079</th>\n",
              "      <td>2020-05-02</td>\n",
              "      <td>67886004.0</td>\n",
              "      <td>585.0</td>\n",
              "      <td>0.90</td>\n",
              "      <td>2068.0</td>\n",
              "    </tr>\n",
              "    <tr>\n",
              "      <th>90080</th>\n",
              "      <td>2020-05-03</td>\n",
              "      <td>67886004.0</td>\n",
              "      <td>253.0</td>\n",
              "      <td>0.87</td>\n",
              "      <td>2009.0</td>\n",
              "    </tr>\n",
              "    <tr>\n",
              "      <th>90081</th>\n",
              "      <td>2020-05-04</td>\n",
              "      <td>67886004.0</td>\n",
              "      <td>273.0</td>\n",
              "      <td>0.82</td>\n",
              "      <td>1936.0</td>\n",
              "    </tr>\n",
              "    <tr>\n",
              "      <th>90082</th>\n",
              "      <td>2020-05-05</td>\n",
              "      <td>67886004.0</td>\n",
              "      <td>725.0</td>\n",
              "      <td>0.81</td>\n",
              "      <td>1874.0</td>\n",
              "    </tr>\n",
              "  </tbody>\n",
              "</table>\n",
              "</div>"
            ],
            "text/plain": [
              "             date  population  new_deaths  reproduction_rate  icu_patients\n",
              "90078  2020-05-01  67886004.0       700.0               0.94        2178.0\n",
              "90079  2020-05-02  67886004.0       585.0               0.90        2068.0\n",
              "90080  2020-05-03  67886004.0       253.0               0.87        2009.0\n",
              "90081  2020-05-04  67886004.0       273.0               0.82        1936.0\n",
              "90082  2020-05-05  67886004.0       725.0               0.81        1874.0"
            ]
          },
          "metadata": {
            "tags": []
          },
          "execution_count": 11
        }
      ]
    },
    {
      "cell_type": "code",
      "metadata": {
        "colab": {
          "base_uri": "https://localhost:8080/",
          "height": 204
        },
        "id": "QaF7t9d1Dk86",
        "outputId": "39f6b945-ab2c-4fad-b35c-29944e6b924f"
      },
      "source": [
        "dataset_UK.tail()"
      ],
      "execution_count": 12,
      "outputs": [
        {
          "output_type": "execute_result",
          "data": {
            "text/html": [
              "<div>\n",
              "<style scoped>\n",
              "    .dataframe tbody tr th:only-of-type {\n",
              "        vertical-align: middle;\n",
              "    }\n",
              "\n",
              "    .dataframe tbody tr th {\n",
              "        vertical-align: top;\n",
              "    }\n",
              "\n",
              "    .dataframe thead th {\n",
              "        text-align: right;\n",
              "    }\n",
              "</style>\n",
              "<table border=\"1\" class=\"dataframe\">\n",
              "  <thead>\n",
              "    <tr style=\"text-align: right;\">\n",
              "      <th></th>\n",
              "      <th>date</th>\n",
              "      <th>population</th>\n",
              "      <th>new_deaths</th>\n",
              "      <th>reproduction_rate</th>\n",
              "      <th>icu_patients</th>\n",
              "    </tr>\n",
              "  </thead>\n",
              "  <tbody>\n",
              "    <tr>\n",
              "      <th>90482</th>\n",
              "      <td>2021-06-09</td>\n",
              "      <td>67886004.0</td>\n",
              "      <td>6.0</td>\n",
              "      <td>1.48</td>\n",
              "      <td>159.0</td>\n",
              "    </tr>\n",
              "    <tr>\n",
              "      <th>90483</th>\n",
              "      <td>2021-06-10</td>\n",
              "      <td>67886004.0</td>\n",
              "      <td>7.0</td>\n",
              "      <td>NaN</td>\n",
              "      <td>158.0</td>\n",
              "    </tr>\n",
              "    <tr>\n",
              "      <th>90484</th>\n",
              "      <td>2021-06-11</td>\n",
              "      <td>67886004.0</td>\n",
              "      <td>17.0</td>\n",
              "      <td>NaN</td>\n",
              "      <td>NaN</td>\n",
              "    </tr>\n",
              "    <tr>\n",
              "      <th>90485</th>\n",
              "      <td>2021-06-12</td>\n",
              "      <td>67886004.0</td>\n",
              "      <td>12.0</td>\n",
              "      <td>NaN</td>\n",
              "      <td>NaN</td>\n",
              "    </tr>\n",
              "    <tr>\n",
              "      <th>90486</th>\n",
              "      <td>2021-06-13</td>\n",
              "      <td>67886004.0</td>\n",
              "      <td>8.0</td>\n",
              "      <td>NaN</td>\n",
              "      <td>NaN</td>\n",
              "    </tr>\n",
              "  </tbody>\n",
              "</table>\n",
              "</div>"
            ],
            "text/plain": [
              "             date  population  new_deaths  reproduction_rate  icu_patients\n",
              "90482  2021-06-09  67886004.0         6.0               1.48         159.0\n",
              "90483  2021-06-10  67886004.0         7.0                NaN         158.0\n",
              "90484  2021-06-11  67886004.0        17.0                NaN           NaN\n",
              "90485  2021-06-12  67886004.0        12.0                NaN           NaN\n",
              "90486  2021-06-13  67886004.0         8.0                NaN           NaN"
            ]
          },
          "metadata": {
            "tags": []
          },
          "execution_count": 12
        }
      ]
    },
    {
      "cell_type": "code",
      "metadata": {
        "colab": {
          "base_uri": "https://localhost:8080/"
        },
        "id": "1QApyohnDoJu",
        "outputId": "c6dd6a4c-ef77-4199-e89f-fa3fac31b054"
      },
      "source": [
        "dataset_UK.isna().sum()"
      ],
      "execution_count": 13,
      "outputs": [
        {
          "output_type": "execute_result",
          "data": {
            "text/plain": [
              "date                 0\n",
              "population           0\n",
              "new_deaths           0\n",
              "reproduction_rate    4\n",
              "icu_patients         3\n",
              "dtype: int64"
            ]
          },
          "metadata": {
            "tags": []
          },
          "execution_count": 13
        }
      ]
    },
    {
      "cell_type": "code",
      "metadata": {
        "id": "OUHR27KxDs7f"
      },
      "source": [
        "dataset_UK = dataset_UK[dataset_UK[\"date\"] < \"2021-06-10\"]"
      ],
      "execution_count": 14,
      "outputs": []
    },
    {
      "cell_type": "code",
      "metadata": {
        "colab": {
          "base_uri": "https://localhost:8080/"
        },
        "id": "ry1Jz1f0D6Kr",
        "outputId": "a44117aa-9b59-450b-84ea-d5fab83e722b"
      },
      "source": [
        "dataset_UK.isna().sum()"
      ],
      "execution_count": 15,
      "outputs": [
        {
          "output_type": "execute_result",
          "data": {
            "text/plain": [
              "date                 0\n",
              "population           0\n",
              "new_deaths           0\n",
              "reproduction_rate    0\n",
              "icu_patients         0\n",
              "dtype: int64"
            ]
          },
          "metadata": {
            "tags": []
          },
          "execution_count": 15
        }
      ]
    },
    {
      "cell_type": "code",
      "metadata": {
        "id": "SSI3SKcPEcp6"
      },
      "source": [
        "dataset_UK[\"Mortality_Rate\"] = \" \"\n",
        "dataset_UK[\"Mortality_Rate\"] = dataset_UK[\"new_deaths\"]/dataset_UK[\"population\"]"
      ],
      "execution_count": 16,
      "outputs": []
    },
    {
      "cell_type": "code",
      "metadata": {
        "colab": {
          "base_uri": "https://localhost:8080/",
          "height": 204
        },
        "id": "P-dg-l9nEhY1",
        "outputId": "5bcd8729-60c5-4b34-abb1-b5a8132b9efe"
      },
      "source": [
        "dataset_UK.head()"
      ],
      "execution_count": 17,
      "outputs": [
        {
          "output_type": "execute_result",
          "data": {
            "text/html": [
              "<div>\n",
              "<style scoped>\n",
              "    .dataframe tbody tr th:only-of-type {\n",
              "        vertical-align: middle;\n",
              "    }\n",
              "\n",
              "    .dataframe tbody tr th {\n",
              "        vertical-align: top;\n",
              "    }\n",
              "\n",
              "    .dataframe thead th {\n",
              "        text-align: right;\n",
              "    }\n",
              "</style>\n",
              "<table border=\"1\" class=\"dataframe\">\n",
              "  <thead>\n",
              "    <tr style=\"text-align: right;\">\n",
              "      <th></th>\n",
              "      <th>date</th>\n",
              "      <th>population</th>\n",
              "      <th>new_deaths</th>\n",
              "      <th>reproduction_rate</th>\n",
              "      <th>icu_patients</th>\n",
              "      <th>Mortality_Rate</th>\n",
              "    </tr>\n",
              "  </thead>\n",
              "  <tbody>\n",
              "    <tr>\n",
              "      <th>90078</th>\n",
              "      <td>2020-05-01</td>\n",
              "      <td>67886004.0</td>\n",
              "      <td>700.0</td>\n",
              "      <td>0.94</td>\n",
              "      <td>2178.0</td>\n",
              "      <td>0.000010</td>\n",
              "    </tr>\n",
              "    <tr>\n",
              "      <th>90079</th>\n",
              "      <td>2020-05-02</td>\n",
              "      <td>67886004.0</td>\n",
              "      <td>585.0</td>\n",
              "      <td>0.90</td>\n",
              "      <td>2068.0</td>\n",
              "      <td>0.000009</td>\n",
              "    </tr>\n",
              "    <tr>\n",
              "      <th>90080</th>\n",
              "      <td>2020-05-03</td>\n",
              "      <td>67886004.0</td>\n",
              "      <td>253.0</td>\n",
              "      <td>0.87</td>\n",
              "      <td>2009.0</td>\n",
              "      <td>0.000004</td>\n",
              "    </tr>\n",
              "    <tr>\n",
              "      <th>90081</th>\n",
              "      <td>2020-05-04</td>\n",
              "      <td>67886004.0</td>\n",
              "      <td>273.0</td>\n",
              "      <td>0.82</td>\n",
              "      <td>1936.0</td>\n",
              "      <td>0.000004</td>\n",
              "    </tr>\n",
              "    <tr>\n",
              "      <th>90082</th>\n",
              "      <td>2020-05-05</td>\n",
              "      <td>67886004.0</td>\n",
              "      <td>725.0</td>\n",
              "      <td>0.81</td>\n",
              "      <td>1874.0</td>\n",
              "      <td>0.000011</td>\n",
              "    </tr>\n",
              "  </tbody>\n",
              "</table>\n",
              "</div>"
            ],
            "text/plain": [
              "             date  population  ...  icu_patients  Mortality_Rate\n",
              "90078  2020-05-01  67886004.0  ...        2178.0        0.000010\n",
              "90079  2020-05-02  67886004.0  ...        2068.0        0.000009\n",
              "90080  2020-05-03  67886004.0  ...        2009.0        0.000004\n",
              "90081  2020-05-04  67886004.0  ...        1936.0        0.000004\n",
              "90082  2020-05-05  67886004.0  ...        1874.0        0.000011\n",
              "\n",
              "[5 rows x 6 columns]"
            ]
          },
          "metadata": {
            "tags": []
          },
          "execution_count": 17
        }
      ]
    },
    {
      "cell_type": "code",
      "metadata": {
        "colab": {
          "base_uri": "https://localhost:8080/"
        },
        "id": "H7VeOAybEjtc",
        "outputId": "ac6bd06b-2420-4ac8-ba96-e2e190faacc8"
      },
      "source": [
        "len(dataset_UK)"
      ],
      "execution_count": 18,
      "outputs": [
        {
          "output_type": "execute_result",
          "data": {
            "text/plain": [
              "405"
            ]
          },
          "metadata": {
            "tags": []
          },
          "execution_count": 18
        }
      ]
    },
    {
      "cell_type": "code",
      "metadata": {
        "id": "sOUtE5XTE4cN"
      },
      "source": [
        "dataset_UK.drop([\"population\", \"new_deaths\"], axis = 1, inplace = True)"
      ],
      "execution_count": 19,
      "outputs": []
    },
    {
      "cell_type": "code",
      "metadata": {
        "colab": {
          "base_uri": "https://localhost:8080/",
          "height": 204
        },
        "id": "MFlXNhM7FCpW",
        "outputId": "ce963f75-7bc8-416e-a44e-4f46771bf378"
      },
      "source": [
        "dataset_UK.tail()"
      ],
      "execution_count": 20,
      "outputs": [
        {
          "output_type": "execute_result",
          "data": {
            "text/html": [
              "<div>\n",
              "<style scoped>\n",
              "    .dataframe tbody tr th:only-of-type {\n",
              "        vertical-align: middle;\n",
              "    }\n",
              "\n",
              "    .dataframe tbody tr th {\n",
              "        vertical-align: top;\n",
              "    }\n",
              "\n",
              "    .dataframe thead th {\n",
              "        text-align: right;\n",
              "    }\n",
              "</style>\n",
              "<table border=\"1\" class=\"dataframe\">\n",
              "  <thead>\n",
              "    <tr style=\"text-align: right;\">\n",
              "      <th></th>\n",
              "      <th>date</th>\n",
              "      <th>reproduction_rate</th>\n",
              "      <th>icu_patients</th>\n",
              "      <th>Mortality_Rate</th>\n",
              "    </tr>\n",
              "  </thead>\n",
              "  <tbody>\n",
              "    <tr>\n",
              "      <th>90478</th>\n",
              "      <td>2021-06-05</td>\n",
              "      <td>1.48</td>\n",
              "      <td>135.0</td>\n",
              "      <td>1.914975e-07</td>\n",
              "    </tr>\n",
              "    <tr>\n",
              "      <th>90479</th>\n",
              "      <td>2021-06-06</td>\n",
              "      <td>1.48</td>\n",
              "      <td>145.0</td>\n",
              "      <td>5.892231e-08</td>\n",
              "    </tr>\n",
              "    <tr>\n",
              "      <th>90480</th>\n",
              "      <td>2021-06-07</td>\n",
              "      <td>1.48</td>\n",
              "      <td>148.0</td>\n",
              "      <td>1.473058e-08</td>\n",
              "    </tr>\n",
              "    <tr>\n",
              "      <th>90481</th>\n",
              "      <td>2021-06-08</td>\n",
              "      <td>1.48</td>\n",
              "      <td>154.0</td>\n",
              "      <td>2.062281e-07</td>\n",
              "    </tr>\n",
              "    <tr>\n",
              "      <th>90482</th>\n",
              "      <td>2021-06-09</td>\n",
              "      <td>1.48</td>\n",
              "      <td>159.0</td>\n",
              "      <td>8.838346e-08</td>\n",
              "    </tr>\n",
              "  </tbody>\n",
              "</table>\n",
              "</div>"
            ],
            "text/plain": [
              "             date  reproduction_rate  icu_patients  Mortality_Rate\n",
              "90478  2021-06-05               1.48         135.0    1.914975e-07\n",
              "90479  2021-06-06               1.48         145.0    5.892231e-08\n",
              "90480  2021-06-07               1.48         148.0    1.473058e-08\n",
              "90481  2021-06-08               1.48         154.0    2.062281e-07\n",
              "90482  2021-06-09               1.48         159.0    8.838346e-08"
            ]
          },
          "metadata": {
            "tags": []
          },
          "execution_count": 20
        }
      ]
    },
    {
      "cell_type": "code",
      "metadata": {
        "id": "lfdshy8XFEHO"
      },
      "source": [
        "dataset_UK.set_index([\"date\"], inplace = True)"
      ],
      "execution_count": 21,
      "outputs": []
    },
    {
      "cell_type": "code",
      "metadata": {
        "colab": {
          "base_uri": "https://localhost:8080/",
          "height": 235
        },
        "id": "3KjydBtTFJyE",
        "outputId": "6b10355a-fcf5-47b2-d99c-17ce1c17eb49"
      },
      "source": [
        "dataset_UK.tail()"
      ],
      "execution_count": 22,
      "outputs": [
        {
          "output_type": "execute_result",
          "data": {
            "text/html": [
              "<div>\n",
              "<style scoped>\n",
              "    .dataframe tbody tr th:only-of-type {\n",
              "        vertical-align: middle;\n",
              "    }\n",
              "\n",
              "    .dataframe tbody tr th {\n",
              "        vertical-align: top;\n",
              "    }\n",
              "\n",
              "    .dataframe thead th {\n",
              "        text-align: right;\n",
              "    }\n",
              "</style>\n",
              "<table border=\"1\" class=\"dataframe\">\n",
              "  <thead>\n",
              "    <tr style=\"text-align: right;\">\n",
              "      <th></th>\n",
              "      <th>reproduction_rate</th>\n",
              "      <th>icu_patients</th>\n",
              "      <th>Mortality_Rate</th>\n",
              "    </tr>\n",
              "    <tr>\n",
              "      <th>date</th>\n",
              "      <th></th>\n",
              "      <th></th>\n",
              "      <th></th>\n",
              "    </tr>\n",
              "  </thead>\n",
              "  <tbody>\n",
              "    <tr>\n",
              "      <th>2021-06-05</th>\n",
              "      <td>1.48</td>\n",
              "      <td>135.0</td>\n",
              "      <td>1.914975e-07</td>\n",
              "    </tr>\n",
              "    <tr>\n",
              "      <th>2021-06-06</th>\n",
              "      <td>1.48</td>\n",
              "      <td>145.0</td>\n",
              "      <td>5.892231e-08</td>\n",
              "    </tr>\n",
              "    <tr>\n",
              "      <th>2021-06-07</th>\n",
              "      <td>1.48</td>\n",
              "      <td>148.0</td>\n",
              "      <td>1.473058e-08</td>\n",
              "    </tr>\n",
              "    <tr>\n",
              "      <th>2021-06-08</th>\n",
              "      <td>1.48</td>\n",
              "      <td>154.0</td>\n",
              "      <td>2.062281e-07</td>\n",
              "    </tr>\n",
              "    <tr>\n",
              "      <th>2021-06-09</th>\n",
              "      <td>1.48</td>\n",
              "      <td>159.0</td>\n",
              "      <td>8.838346e-08</td>\n",
              "    </tr>\n",
              "  </tbody>\n",
              "</table>\n",
              "</div>"
            ],
            "text/plain": [
              "            reproduction_rate  icu_patients  Mortality_Rate\n",
              "date                                                       \n",
              "2021-06-05               1.48         135.0    1.914975e-07\n",
              "2021-06-06               1.48         145.0    5.892231e-08\n",
              "2021-06-07               1.48         148.0    1.473058e-08\n",
              "2021-06-08               1.48         154.0    2.062281e-07\n",
              "2021-06-09               1.48         159.0    8.838346e-08"
            ]
          },
          "metadata": {
            "tags": []
          },
          "execution_count": 22
        }
      ]
    },
    {
      "cell_type": "code",
      "metadata": {
        "id": "TTRuZDrAFMz2"
      },
      "source": [
        "train = dataset_UK[ : 350]\n",
        "test = dataset_UK[350 : ]"
      ],
      "execution_count": 23,
      "outputs": []
    },
    {
      "cell_type": "code",
      "metadata": {
        "id": "2ilPpw-BFSqn"
      },
      "source": [
        "X_train = train.iloc[ : ,  : -1]\n",
        "Y_train = train.iloc[ : , -1 : ]\n",
        "\n",
        "X_test = test.iloc[ : ,  : -1]\n",
        "Y_test = test.iloc[ : , -1 : ]"
      ],
      "execution_count": 24,
      "outputs": []
    },
    {
      "cell_type": "code",
      "metadata": {
        "colab": {
          "base_uri": "https://localhost:8080/"
        },
        "id": "QKygZQiIFlSh",
        "outputId": "e53aa8bd-e618-405f-fa6f-dd3df6dbb5de"
      },
      "source": [
        "estimators = [\n",
        "              (\"rf\", RandomForestRegressor(random_state = SEED)),\n",
        "              (\"svr\", LinearSVR(random_state = SEED)),\n",
        "              (\"rf1\", RandomForestRegressor(random_state = SEED)),\n",
        "              (\"xgb\", xgb.XGBRegressor(random_state = SEED)),\n",
        "              (\"knn\", KNeighborsRegressor(n_neighbors = 7))\n",
        "]\n",
        "\n",
        "reg = StackingRegressor(\n",
        "    estimators = estimators, \n",
        "    final_estimator = RandomForestRegressor(random_state = SEED)\n",
        ")\n",
        "\n",
        "reg.fit(X_train, Y_train)\n",
        "predict = reg.predict(X_test)\n",
        "\n",
        "r2 = r2_score(Y_test, predict)\n",
        "\n",
        "print(\"------------------------------------------------\")\n",
        "print(\"------------------------------------------------\")\n",
        "print(\"------------------------------------------------\")\n",
        "print(\"------------------------------------------------\")\n",
        "print(f\"The r2 score is {r2}\")\n",
        "print(\"------------------------------------------------\")\n",
        "print(\"------------------------------------------------\")\n",
        "print(\"------------------------------------------------\")\n",
        "print(\"------------------------------------------------\")"
      ],
      "execution_count": 25,
      "outputs": [
        {
          "output_type": "stream",
          "text": [
            "[00:59:05] WARNING: /workspace/src/objective/regression_obj.cu:152: reg:linear is now deprecated in favor of reg:squarederror.\n",
            "[00:59:07] WARNING: /workspace/src/objective/regression_obj.cu:152: reg:linear is now deprecated in favor of reg:squarederror.\n",
            "[00:59:07] WARNING: /workspace/src/objective/regression_obj.cu:152: reg:linear is now deprecated in favor of reg:squarederror.\n",
            "[00:59:07] WARNING: /workspace/src/objective/regression_obj.cu:152: reg:linear is now deprecated in favor of reg:squarederror.\n",
            "[00:59:07] WARNING: /workspace/src/objective/regression_obj.cu:152: reg:linear is now deprecated in favor of reg:squarederror.\n",
            "[00:59:07] WARNING: /workspace/src/objective/regression_obj.cu:152: reg:linear is now deprecated in favor of reg:squarederror.\n",
            "------------------------------------------------\n",
            "------------------------------------------------\n",
            "------------------------------------------------\n",
            "------------------------------------------------\n",
            "The r2 score is -810.2436622602492\n",
            "------------------------------------------------\n",
            "------------------------------------------------\n",
            "------------------------------------------------\n",
            "------------------------------------------------\n"
          ],
          "name": "stdout"
        }
      ]
    },
    {
      "cell_type": "code",
      "metadata": {
        "colab": {
          "base_uri": "https://localhost:8080/"
        },
        "id": "W0HPGsBjF-iy",
        "outputId": "0f3b12bc-5fe3-497c-a902-4e44b2176fb8"
      },
      "source": [
        "regressor = KNeighborsRegressor(n_neighbors = SEED)\n",
        "regressor.fit(X_train, Y_train)\n",
        "\n",
        "predict = regressor.predict(X_test)\n",
        "\n",
        "\n",
        "r2 = r2_score(Y_test, predict)\n",
        "mae = mean_absolute_error(Y_test, predict)\n",
        "mse = mean_squared_error(Y_test, predict)\n",
        "print(\"------------------------------------------------\")\n",
        "print(\"------------------------------------------------\")\n",
        "print(\"------------------------------------------------\")\n",
        "print(\"------------------------------------------------\")\n",
        "print(f\"The r2 score is : {r2}\")\n",
        "print(f\"The Mean absolute error is : {mae}\")\n",
        "print(f\"The Mean squared error score is : {mse}\")\n",
        "print(\"------------------------------------------------\")\n",
        "print(\"------------------------------------------------\")\n",
        "print(\"------------------------------------------------\")\n",
        "print(\"------------------------------------------------\")"
      ],
      "execution_count": 26,
      "outputs": [
        {
          "output_type": "stream",
          "text": [
            "------------------------------------------------\n",
            "------------------------------------------------\n",
            "------------------------------------------------\n",
            "------------------------------------------------\n",
            "The r2 score is : -1.7847472227485475\n",
            "The Mean absolute error is : 1.8931023177494953e-07\n",
            "The Mean squared error score is : 5.692927153211653e-14\n",
            "------------------------------------------------\n",
            "------------------------------------------------\n",
            "------------------------------------------------\n",
            "------------------------------------------------\n"
          ],
          "name": "stdout"
        }
      ]
    },
    {
      "cell_type": "code",
      "metadata": {
        "colab": {
          "base_uri": "https://localhost:8080/"
        },
        "id": "-0D8vAKKQ7e2",
        "outputId": "261bedbf-6c1b-4135-ae5d-ffc672c3e64e"
      },
      "source": [
        "estimators = [\n",
        "              (\"knn\", KNeighborsRegressor(n_neighbors = 44)),\n",
        "              (\"xgb\", xgb.XGBRegressor(random_state = SEED)),\n",
        "\n",
        "]\n",
        "\n",
        "reg = StackingRegressor(\n",
        "    estimators = estimators ,\n",
        "    final_estimator = KNeighborsRegressor(n_neighbors = 10)\n",
        ")\n",
        "\n",
        "reg.fit(X_train, Y_train)\n",
        "predict = reg.predict(X_test)\n",
        "\n",
        "r2 = r2_score(Y_test, predict)\n",
        "mae = mean_absolute_error(Y_test, predict)\n",
        "mse = mean_squared_error(Y_test, predict)\n",
        "print(\"------------------------------------------------\")\n",
        "print(\"------------------------------------------------\")\n",
        "print(\"------------------------------------------------\")\n",
        "print(\"------------------------------------------------\")\n",
        "print(f\"The r2 score is : {r2}\")\n",
        "print(f\"The Mean absolute error is : {mae}\")\n",
        "print(f\"The Mean squared error score is : {mse}\")\n",
        "print(\"------------------------------------------------\")\n",
        "print(\"------------------------------------------------\")\n",
        "print(\"------------------------------------------------\")\n",
        "print(\"------------------------------------------------\")"
      ],
      "execution_count": 27,
      "outputs": [
        {
          "output_type": "stream",
          "text": [
            "[00:59:07] WARNING: /workspace/src/objective/regression_obj.cu:152: reg:linear is now deprecated in favor of reg:squarederror.\n",
            "[00:59:07] WARNING: /workspace/src/objective/regression_obj.cu:152: reg:linear is now deprecated in favor of reg:squarederror.\n",
            "[00:59:07] WARNING: /workspace/src/objective/regression_obj.cu:152: reg:linear is now deprecated in favor of reg:squarederror.\n",
            "[00:59:07] WARNING: /workspace/src/objective/regression_obj.cu:152: reg:linear is now deprecated in favor of reg:squarederror.\n",
            "[00:59:08] WARNING: /workspace/src/objective/regression_obj.cu:152: reg:linear is now deprecated in favor of reg:squarederror.\n",
            "[00:59:08] WARNING: /workspace/src/objective/regression_obj.cu:152: reg:linear is now deprecated in favor of reg:squarederror.\n",
            "------------------------------------------------\n",
            "------------------------------------------------\n",
            "------------------------------------------------\n",
            "------------------------------------------------\n",
            "The r2 score is : -4.244580412219203\n",
            "The Mean absolute error is : 3.009055110575183e-07\n",
            "The Mean squared error score is : 1.0721624566863117e-13\n",
            "------------------------------------------------\n",
            "------------------------------------------------\n",
            "------------------------------------------------\n",
            "------------------------------------------------\n"
          ],
          "name": "stdout"
        }
      ]
    },
    {
      "cell_type": "code",
      "metadata": {
        "colab": {
          "base_uri": "https://localhost:8080/"
        },
        "id": "2nVGpEMyR7b1",
        "outputId": "4599f602-8e4c-4fa4-cfc7-3bd8631710c9"
      },
      "source": [
        "lasso = linear_model.Lasso(alpha = 5)\n",
        "lasso.fit(X_train, Y_train)\n",
        "\n",
        "predict = lasso.predict(X_test)\n",
        "\n",
        "r2 = r2_score(Y_test, predict)\n",
        "mae = mean_absolute_error(Y_test, predict)\n",
        "mse = mean_squared_error(Y_test, predict)\n",
        "print(\"------------------------------------------------\")\n",
        "print(\"------------------------------------------------\")\n",
        "print(\"------------------------------------------------\")\n",
        "print(\"------------------------------------------------\")\n",
        "print(f\"The r2 score is : {r2}\")\n",
        "print(f\"The Mean absolute error is : {mae}\")\n",
        "print(f\"The Mean squared error score is : {mse}\")\n",
        "print(\"------------------------------------------------\")\n",
        "print(\"------------------------------------------------\")\n",
        "print(\"------------------------------------------------\")\n",
        "print(\"------------------------------------------------\")"
      ],
      "execution_count": 28,
      "outputs": [
        {
          "output_type": "stream",
          "text": [
            "------------------------------------------------\n",
            "------------------------------------------------\n",
            "------------------------------------------------\n",
            "------------------------------------------------\n",
            "The r2 score is : -803.8470169124932\n",
            "The Mean absolute error is : 4.053793535348526e-06\n",
            "The Mean squared error score is : 1.6453685272877863e-11\n",
            "------------------------------------------------\n",
            "------------------------------------------------\n",
            "------------------------------------------------\n",
            "------------------------------------------------\n"
          ],
          "name": "stdout"
        }
      ]
    },
    {
      "cell_type": "code",
      "metadata": {
        "colab": {
          "base_uri": "https://localhost:8080/"
        },
        "id": "kEMkKWr5UIx-",
        "outputId": "ad2a1285-06a9-424b-ae89-fed44b95d1c5"
      },
      "source": [
        "estimators = [\n",
        "              (\"knn\", KNeighborsRegressor(n_neighbors = 44)),\n",
        "              (\"xgb\", xgb.XGBRegressor(random_state = SEED)),\n",
        "              (\"lasso\", linear_model.Lasso(alpha = 5))\n",
        "\n",
        "]\n",
        "\n",
        "reg = StackingRegressor(\n",
        "    estimators = estimators ,\n",
        "    final_estimator = KNeighborsRegressor(n_neighbors = 10)\n",
        ")\n",
        "\n",
        "reg.fit(X_train, Y_train)\n",
        "predict = reg.predict(X_test)\n",
        "\n",
        "r2 = r2_score(Y_test, predict)\n",
        "mae = mean_absolute_error(Y_test, predict)\n",
        "mse = mean_squared_error(Y_test, predict)\n",
        "print(\"------------------------------------------------\")\n",
        "print(\"------------------------------------------------\")\n",
        "print(\"------------------------------------------------\")\n",
        "print(\"------------------------------------------------\")\n",
        "print(f\"The r2 score is : {r2}\")\n",
        "print(f\"The Mean absolute error is : {mae}\")\n",
        "print(f\"The Mean squared error score is : {mse}\")\n",
        "print(\"------------------------------------------------\")\n",
        "print(\"------------------------------------------------\")\n",
        "print(\"------------------------------------------------\")\n",
        "print(\"------------------------------------------------\")"
      ],
      "execution_count": 29,
      "outputs": [
        {
          "output_type": "stream",
          "text": [
            "[00:59:08] WARNING: /workspace/src/objective/regression_obj.cu:152: reg:linear is now deprecated in favor of reg:squarederror.\n",
            "[00:59:08] WARNING: /workspace/src/objective/regression_obj.cu:152: reg:linear is now deprecated in favor of reg:squarederror.\n",
            "[00:59:08] WARNING: /workspace/src/objective/regression_obj.cu:152: reg:linear is now deprecated in favor of reg:squarederror.\n",
            "[00:59:08] WARNING: /workspace/src/objective/regression_obj.cu:152: reg:linear is now deprecated in favor of reg:squarederror.\n",
            "[00:59:08] WARNING: /workspace/src/objective/regression_obj.cu:152: reg:linear is now deprecated in favor of reg:squarederror.\n",
            "[00:59:08] WARNING: /workspace/src/objective/regression_obj.cu:152: reg:linear is now deprecated in favor of reg:squarederror.\n",
            "------------------------------------------------\n",
            "------------------------------------------------\n",
            "------------------------------------------------\n",
            "------------------------------------------------\n",
            "The r2 score is : -3.3151997936798656\n",
            "The Mean absolute error is : 2.718728831993652e-07\n",
            "The Mean squared error score is : 8.821668938671803e-14\n",
            "------------------------------------------------\n",
            "------------------------------------------------\n",
            "------------------------------------------------\n",
            "------------------------------------------------\n"
          ],
          "name": "stdout"
        }
      ]
    },
    {
      "cell_type": "code",
      "metadata": {
        "colab": {
          "base_uri": "https://localhost:8080/"
        },
        "id": "_r-2NWarVyej",
        "outputId": "0bebe511-f83d-4cad-f3e8-0818eb402f42"
      },
      "source": [
        "estimators = [\n",
        "              (\"knn\", KNeighborsRegressor(n_neighbors = 44)),\n",
        "              #(\"xgb\", xgb.XGBRegressor(random_state = SEED)),\n",
        "              (\"lasso\", linear_model.Lasso(alpha = 5))\n",
        "\n",
        "]\n",
        "\n",
        "reg = StackingRegressor(\n",
        "    estimators = estimators ,\n",
        "    final_estimator = KNeighborsRegressor(n_neighbors = 10)\n",
        ")\n",
        "\n",
        "reg.fit(X_train, Y_train)\n",
        "predict = reg.predict(X_test)\n",
        "\n",
        "r2 = r2_score(Y_test, predict)\n",
        "mae = mean_absolute_error(Y_test, predict)\n",
        "mse = mean_squared_error(Y_test, predict)\n",
        "print(\"------------------------------------------------\")\n",
        "print(\"------------------------------------------------\")\n",
        "print(\"------------------------------------------------\")\n",
        "print(\"------------------------------------------------\")\n",
        "print(f\"The r2 score is : {r2}\")\n",
        "print(f\"The Mean absolute error is : {mae}\")\n",
        "print(f\"The Mean squared error score is : {mse}\")\n",
        "print(\"------------------------------------------------\")\n",
        "print(\"------------------------------------------------\")\n",
        "print(\"------------------------------------------------\")\n",
        "print(\"------------------------------------------------\")"
      ],
      "execution_count": 30,
      "outputs": [
        {
          "output_type": "stream",
          "text": [
            "------------------------------------------------\n",
            "------------------------------------------------\n",
            "------------------------------------------------\n",
            "------------------------------------------------\n",
            "The r2 score is : -4.1431891548593995\n",
            "The Mean absolute error is : 3.041194551008563e-07\n",
            "The Mean squared error score is : 1.051434792882335e-13\n",
            "------------------------------------------------\n",
            "------------------------------------------------\n",
            "------------------------------------------------\n",
            "------------------------------------------------\n"
          ],
          "name": "stdout"
        }
      ]
    },
    {
      "cell_type": "code",
      "metadata": {
        "colab": {
          "base_uri": "https://localhost:8080/"
        },
        "id": "GSa4qyyVV5HC",
        "outputId": "6c26d679-b4d4-4383-dd7d-f712c065fa5f"
      },
      "source": [
        "sc = StandardScaler()\n",
        "X_train = sc.fit_transform(X_train)\n",
        "X_test = sc.fit_transform(X_test)\n",
        "\n",
        "Y_train = sc.fit_transform(Y_train)\n",
        "Y_test = sc.fit_transform(Y_test) \n",
        "\n",
        "regressor = KNeighborsRegressor(n_neighbors = SEED)\n",
        "regressor.fit(X_train, Y_train)\n",
        "\n",
        "predict = regressor.predict(X_test)\n",
        "\n",
        "r2 = r2_score(Y_test, predict)\n",
        "mae = mean_absolute_error(Y_test, predict)\n",
        "mse = mean_squared_error(Y_test, predict)\n",
        "print(\"------------------------------------------------\")\n",
        "print(\"------------------------------------------------\")\n",
        "print(\"------------------------------------------------\")\n",
        "print(\"------------------------------------------------\")\n",
        "print(f\"The r2 score is : {r2}\")\n",
        "print(f\"The Mean absolute error is : {mae}\")\n",
        "print(f\"The Mean squared error score is : {mse}\")\n",
        "print(\"------------------------------------------------\")\n",
        "print(\"------------------------------------------------\")\n",
        "print(\"------------------------------------------------\")\n",
        "print(\"------------------------------------------------\")"
      ],
      "execution_count": 31,
      "outputs": [
        {
          "output_type": "stream",
          "text": [
            "------------------------------------------------\n",
            "------------------------------------------------\n",
            "------------------------------------------------\n",
            "------------------------------------------------\n",
            "The r2 score is : 0.2649956184757376\n",
            "The Mean absolute error is : 0.6330872729493936\n",
            "The Mean squared error score is : 0.7350043815242621\n",
            "------------------------------------------------\n",
            "------------------------------------------------\n",
            "------------------------------------------------\n",
            "------------------------------------------------\n"
          ],
          "name": "stdout"
        }
      ]
    },
    {
      "cell_type": "code",
      "metadata": {
        "colab": {
          "base_uri": "https://localhost:8080/"
        },
        "id": "FO5O4xx7dEha",
        "outputId": "b62bfc3a-73ba-49e1-a7cc-7f9a17d63f94"
      },
      "source": [
        "estimators = [\n",
        "              (\"knn\", KNeighborsRegressor(n_neighbors = 44)),\n",
        "              #(\"xgb\", xgb.XGBRegressor(random_state = SEED)),\n",
        "              (\"lasso\", linear_model.Lasso(alpha = 5))\n",
        "\n",
        "]\n",
        "\n",
        "reg = StackingRegressor(\n",
        "    estimators = estimators ,\n",
        "    final_estimator = KNeighborsRegressor(n_neighbors = 10)\n",
        ")\n",
        "\n",
        "reg.fit(X_train, Y_train)\n",
        "predict = reg.predict(X_test)\n",
        "\n",
        "r2 = r2_score(Y_test, predict)\n",
        "mae = mean_absolute_error(Y_test, predict)\n",
        "mse = mean_squared_error(Y_test, predict)\n",
        "print(\"------------------------------------------------\")\n",
        "print(\"------------------------------------------------\")\n",
        "print(\"------------------------------------------------\")\n",
        "print(\"------------------------------------------------\")\n",
        "print(f\"The r2 score is : {r2}\")\n",
        "print(f\"The Mean absolute error is : {mae}\")\n",
        "print(f\"The Mean squared error score is : {mse}\")\n",
        "print(\"------------------------------------------------\")\n",
        "print(\"------------------------------------------------\")\n",
        "print(\"------------------------------------------------\")\n",
        "print(\"------------------------------------------------\")"
      ],
      "execution_count": 32,
      "outputs": [
        {
          "output_type": "stream",
          "text": [
            "------------------------------------------------\n",
            "------------------------------------------------\n",
            "------------------------------------------------\n",
            "------------------------------------------------\n",
            "The r2 score is : 0.2683285210842543\n",
            "The Mean absolute error is : 0.6372232312193429\n",
            "The Mean squared error score is : 0.7316714789157454\n",
            "------------------------------------------------\n",
            "------------------------------------------------\n",
            "------------------------------------------------\n",
            "------------------------------------------------\n"
          ],
          "name": "stdout"
        }
      ]
    },
    {
      "cell_type": "code",
      "metadata": {
        "colab": {
          "base_uri": "https://localhost:8080/"
        },
        "id": "r-4jZGP-dOIv",
        "outputId": "439f582e-4b1f-4438-80cc-afdd24e2f3b8"
      },
      "source": [
        "lasso = linear_model.Lasso(alpha = 5)\n",
        "lasso.fit(X_train, Y_train)\n",
        "\n",
        "predict = lasso.predict(X_test)\n",
        "\n",
        "r2 = r2_score(Y_test, predict)\n",
        "mae = mean_absolute_error(Y_test, predict)\n",
        "mse = mean_squared_error(Y_test, predict)\n",
        "print(\"------------------------------------------------\")\n",
        "print(\"------------------------------------------------\")\n",
        "print(\"------------------------------------------------\")\n",
        "print(\"------------------------------------------------\")\n",
        "print(f\"The r2 score is : {r2}\")\n",
        "print(f\"The Mean absolute error is : {mae}\")\n",
        "print(f\"The Mean squared error score is : {mse}\")\n",
        "print(\"------------------------------------------------\")\n",
        "print(\"------------------------------------------------\")\n",
        "print(\"------------------------------------------------\")\n",
        "print(\"------------------------------------------------\")"
      ],
      "execution_count": 33,
      "outputs": [
        {
          "output_type": "stream",
          "text": [
            "------------------------------------------------\n",
            "------------------------------------------------\n",
            "------------------------------------------------\n",
            "------------------------------------------------\n",
            "The r2 score is : -2.220446049250313e-16\n",
            "The Mean absolute error is : 0.7795200620804997\n",
            "The Mean squared error score is : 0.9999999999999997\n",
            "------------------------------------------------\n",
            "------------------------------------------------\n",
            "------------------------------------------------\n",
            "------------------------------------------------\n"
          ],
          "name": "stdout"
        }
      ]
    },
    {
      "cell_type": "code",
      "metadata": {
        "id": "YA6lFGdkdSob"
      },
      "source": [
        ""
      ],
      "execution_count": 33,
      "outputs": []
    }
  ]
}
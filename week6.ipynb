{
  "nbformat": 4,
  "nbformat_minor": 0,
  "metadata": {
    "colab": {
      "name": "week6.ipynb",
      "provenance": []
    },
    "kernelspec": {
      "name": "python3",
      "display_name": "Python 3"
    },
    "language_info": {
      "name": "python"
    }
  },
  "cells": [
    {
      "cell_type": "code",
      "metadata": {
        "colab": {
          "base_uri": "https://localhost:8080/"
        },
        "id": "COEbmOZPB6if",
        "outputId": "1242012f-a464-49fb-e7bf-ad4c1e6234d8"
      },
      "source": [
        "from google.colab import drive\n",
        "drive.mount('/content/gdrive')"
      ],
      "execution_count": 73,
      "outputs": [
        {
          "output_type": "stream",
          "text": [
            "Drive already mounted at /content/gdrive; to attempt to forcibly remount, call drive.mount(\"/content/gdrive\", force_remount=True).\n"
          ],
          "name": "stdout"
        }
      ]
    },
    {
      "cell_type": "code",
      "metadata": {
        "colab": {
          "base_uri": "https://localhost:8080/"
        },
        "id": "SdlDsOPEB7ge",
        "outputId": "e7eda04a-94f9-42e7-d984-b6ea396975eb"
      },
      "source": [
        "!pip install --upgrade plotly\n",
        "!pip install pmdarima\n",
        "print(\"Done\")"
      ],
      "execution_count": 74,
      "outputs": [
        {
          "output_type": "stream",
          "text": [
            "Requirement already up-to-date: plotly in /usr/local/lib/python3.7/dist-packages (5.1.0)\n",
            "Requirement already satisfied, skipping upgrade: tenacity>=6.2.0 in /usr/local/lib/python3.7/dist-packages (from plotly) (8.0.0)\n",
            "Requirement already satisfied, skipping upgrade: six in /usr/local/lib/python3.7/dist-packages (from plotly) (1.15.0)\n",
            "Requirement already satisfied: pmdarima in /usr/local/lib/python3.7/dist-packages (1.8.2)\n",
            "Requirement already satisfied: urllib3 in /usr/local/lib/python3.7/dist-packages (from pmdarima) (1.24.3)\n",
            "Requirement already satisfied: Cython!=0.29.18,>=0.29 in /usr/local/lib/python3.7/dist-packages (from pmdarima) (0.29.23)\n",
            "Requirement already satisfied: numpy~=1.19.0 in /usr/local/lib/python3.7/dist-packages (from pmdarima) (1.19.5)\n",
            "Requirement already satisfied: pandas>=0.19 in /usr/local/lib/python3.7/dist-packages (from pmdarima) (1.1.5)\n",
            "Requirement already satisfied: joblib>=0.11 in /usr/local/lib/python3.7/dist-packages (from pmdarima) (1.0.1)\n",
            "Requirement already satisfied: scikit-learn>=0.22 in /usr/local/lib/python3.7/dist-packages (from pmdarima) (0.22.2.post1)\n",
            "Requirement already satisfied: scipy>=1.3.2 in /usr/local/lib/python3.7/dist-packages (from pmdarima) (1.4.1)\n",
            "Requirement already satisfied: setuptools!=50.0.0,>=38.6.0 in /usr/local/lib/python3.7/dist-packages (from pmdarima) (57.0.0)\n",
            "Requirement already satisfied: statsmodels!=0.12.0,>=0.11 in /usr/local/lib/python3.7/dist-packages (from pmdarima) (0.12.2)\n",
            "Requirement already satisfied: python-dateutil>=2.7.3 in /usr/local/lib/python3.7/dist-packages (from pandas>=0.19->pmdarima) (2.8.1)\n",
            "Requirement already satisfied: pytz>=2017.2 in /usr/local/lib/python3.7/dist-packages (from pandas>=0.19->pmdarima) (2018.9)\n",
            "Requirement already satisfied: patsy>=0.5 in /usr/local/lib/python3.7/dist-packages (from statsmodels!=0.12.0,>=0.11->pmdarima) (0.5.1)\n",
            "Requirement already satisfied: six>=1.5 in /usr/local/lib/python3.7/dist-packages (from python-dateutil>=2.7.3->pandas>=0.19->pmdarima) (1.15.0)\n",
            "Done\n"
          ],
          "name": "stdout"
        }
      ]
    },
    {
      "cell_type": "code",
      "metadata": {
        "id": "iEa112HKCFef"
      },
      "source": [
        "import pandas as pd\n",
        "import numpy as np\n",
        "import plotly.express as px\n",
        "import plotly.graph_objects as go\n",
        "import matplotlib.pyplot as plt\n",
        "from pandas.plotting import lag_plot, autocorrelation_plot\n",
        "from statsmodels.graphics.tsaplots import plot_acf\n",
        "from statsmodels.tsa.api import VAR\n",
        "import statsmodels.api as sm\n",
        "from statsmodels.tsa.stattools import adfuller\n",
        "from sklearn.metrics import mean_squared_error\n",
        "from sklearn.preprocessing import StandardScaler\n",
        "from sklearn.model_selection import GridSearchCV\n",
        "from pprint import pprint\n",
        "from math import sqrt\n",
        "import itertools\n",
        "\n",
        "from statsmodels.tsa.arima_model import ARIMA\n",
        "from statsmodels.tsa.ar_model import AR\n",
        "from pmdarima import auto_arima\n",
        "\n",
        "import warnings\n",
        "warnings.filterwarnings(\"ignore\")"
      ],
      "execution_count": 75,
      "outputs": []
    },
    {
      "cell_type": "code",
      "metadata": {
        "id": "4ddBS7bfCGIg"
      },
      "source": [
        "from sklearn.preprocessing import OneHotEncoder\n",
        "from sklearn.preprocessing import LabelEncoder\n",
        "from sklearn.pipeline import Pipeline\n",
        "\n",
        "from sklearn.ensemble import RandomForestRegressor\n",
        "from sklearn.ensemble import StackingRegressor\n",
        "from sklearn.datasets import make_regression\n",
        "from sklearn.linear_model import RidgeCV, Lasso, LassoCV\n",
        "from sklearn.neighbors import KNeighborsRegressor\n",
        "from sklearn.svm import LinearSVR\n",
        "from sklearn import linear_model\n",
        "import xgboost as xgb\n",
        "\n",
        "from sklearn.metrics import r2_score, mean_absolute_error, mean_squared_error\n",
        "\n",
        "SEED = 42"
      ],
      "execution_count": 76,
      "outputs": []
    },
    {
      "cell_type": "code",
      "metadata": {
        "id": "Y0mlPuKYCH3_"
      },
      "source": [
        "df = pd.read_csv(\"/content/gdrive/MyDrive/owid-covid-data.csv\")"
      ],
      "execution_count": 125,
      "outputs": []
    },
    {
      "cell_type": "code",
      "metadata": {
        "id": "CPfzMZ6fCMz1"
      },
      "source": [
        "dataset_UK = df[df[\"location\"] == \"United Kingdom\"]  "
      ],
      "execution_count": 126,
      "outputs": []
    },
    {
      "cell_type": "code",
      "metadata": {
        "colab": {
          "base_uri": "https://localhost:8080/"
        },
        "id": "hUN6FqMwDBdW",
        "outputId": "1b494cc8-d884-4b2d-d451-dee57cb4e606"
      },
      "source": [
        "dataset_UK.columns"
      ],
      "execution_count": 127,
      "outputs": [
        {
          "output_type": "execute_result",
          "data": {
            "text/plain": [
              "Index(['iso_code', 'continent', 'location', 'date', 'total_cases', 'new_cases',\n",
              "       'new_cases_smoothed', 'total_deaths', 'new_deaths',\n",
              "       'new_deaths_smoothed', 'total_cases_per_million',\n",
              "       'new_cases_per_million', 'new_cases_smoothed_per_million',\n",
              "       'total_deaths_per_million', 'new_deaths_per_million',\n",
              "       'new_deaths_smoothed_per_million', 'reproduction_rate', 'icu_patients',\n",
              "       'icu_patients_per_million', 'hosp_patients',\n",
              "       'hosp_patients_per_million', 'weekly_icu_admissions',\n",
              "       'weekly_icu_admissions_per_million', 'weekly_hosp_admissions',\n",
              "       'weekly_hosp_admissions_per_million', 'new_tests', 'total_tests',\n",
              "       'total_tests_per_thousand', 'new_tests_per_thousand',\n",
              "       'new_tests_smoothed', 'new_tests_smoothed_per_thousand',\n",
              "       'positive_rate', 'tests_per_case', 'tests_units', 'total_vaccinations',\n",
              "       'people_vaccinated', 'people_fully_vaccinated', 'new_vaccinations',\n",
              "       'new_vaccinations_smoothed', 'total_vaccinations_per_hundred',\n",
              "       'people_vaccinated_per_hundred', 'people_fully_vaccinated_per_hundred',\n",
              "       'new_vaccinations_smoothed_per_million', 'stringency_index',\n",
              "       'population', 'population_density', 'median_age', 'aged_65_older',\n",
              "       'aged_70_older', 'gdp_per_capita', 'extreme_poverty',\n",
              "       'cardiovasc_death_rate', 'diabetes_prevalence', 'female_smokers',\n",
              "       'male_smokers', 'handwashing_facilities', 'hospital_beds_per_thousand',\n",
              "       'life_expectancy', 'human_development_index', 'excess_mortality'],\n",
              "      dtype='object')"
            ]
          },
          "metadata": {
            "tags": []
          },
          "execution_count": 127
        }
      ]
    },
    {
      "cell_type": "code",
      "metadata": {
        "id": "OfmMqA0oCtGy"
      },
      "source": [
        "features = [\"date\", \"population\", \"new_deaths\", \"reproduction_rate\", \"icu_patients\", \"weekly_icu_admissions\", \"weekly_icu_admissions_per_million\"]"
      ],
      "execution_count": 128,
      "outputs": []
    },
    {
      "cell_type": "code",
      "metadata": {
        "id": "ipmJYkqTDLEN"
      },
      "source": [
        "dataset_UK = dataset_UK[dataset_UK[\"date\"] >= \"2020-05-01\"]"
      ],
      "execution_count": 129,
      "outputs": []
    },
    {
      "cell_type": "code",
      "metadata": {
        "id": "W_8m__tUDd0u"
      },
      "source": [
        "dataset_UK = dataset_UK[features]"
      ],
      "execution_count": 130,
      "outputs": []
    },
    {
      "cell_type": "code",
      "metadata": {
        "id": "xcpzfIwqDfIO"
      },
      "source": [
        ""
      ],
      "execution_count": 130,
      "outputs": []
    },
    {
      "cell_type": "code",
      "metadata": {
        "colab": {
          "base_uri": "https://localhost:8080/",
          "height": 203
        },
        "id": "QaF7t9d1Dk86",
        "outputId": "2cc86de2-6325-4fef-ee80-ac57a873aec2"
      },
      "source": [
        " dataset_UK.tail()"
      ],
      "execution_count": 131,
      "outputs": [
        {
          "output_type": "execute_result",
          "data": {
            "text/html": [
              "<div>\n",
              "<style scoped>\n",
              "    .dataframe tbody tr th:only-of-type {\n",
              "        vertical-align: middle;\n",
              "    }\n",
              "\n",
              "    .dataframe tbody tr th {\n",
              "        vertical-align: top;\n",
              "    }\n",
              "\n",
              "    .dataframe thead th {\n",
              "        text-align: right;\n",
              "    }\n",
              "</style>\n",
              "<table border=\"1\" class=\"dataframe\">\n",
              "  <thead>\n",
              "    <tr style=\"text-align: right;\">\n",
              "      <th></th>\n",
              "      <th>date</th>\n",
              "      <th>population</th>\n",
              "      <th>new_deaths</th>\n",
              "      <th>reproduction_rate</th>\n",
              "      <th>icu_patients</th>\n",
              "      <th>weekly_icu_admissions</th>\n",
              "      <th>weekly_icu_admissions_per_million</th>\n",
              "    </tr>\n",
              "  </thead>\n",
              "  <tbody>\n",
              "    <tr>\n",
              "      <th>90482</th>\n",
              "      <td>2021-06-09</td>\n",
              "      <td>67886004.0</td>\n",
              "      <td>6.0</td>\n",
              "      <td>1.48</td>\n",
              "      <td>159.0</td>\n",
              "      <td>NaN</td>\n",
              "      <td>NaN</td>\n",
              "    </tr>\n",
              "    <tr>\n",
              "      <th>90483</th>\n",
              "      <td>2021-06-10</td>\n",
              "      <td>67886004.0</td>\n",
              "      <td>7.0</td>\n",
              "      <td>NaN</td>\n",
              "      <td>158.0</td>\n",
              "      <td>NaN</td>\n",
              "      <td>NaN</td>\n",
              "    </tr>\n",
              "    <tr>\n",
              "      <th>90484</th>\n",
              "      <td>2021-06-11</td>\n",
              "      <td>67886004.0</td>\n",
              "      <td>17.0</td>\n",
              "      <td>NaN</td>\n",
              "      <td>NaN</td>\n",
              "      <td>NaN</td>\n",
              "      <td>NaN</td>\n",
              "    </tr>\n",
              "    <tr>\n",
              "      <th>90485</th>\n",
              "      <td>2021-06-12</td>\n",
              "      <td>67886004.0</td>\n",
              "      <td>12.0</td>\n",
              "      <td>NaN</td>\n",
              "      <td>NaN</td>\n",
              "      <td>NaN</td>\n",
              "      <td>NaN</td>\n",
              "    </tr>\n",
              "    <tr>\n",
              "      <th>90486</th>\n",
              "      <td>2021-06-13</td>\n",
              "      <td>67886004.0</td>\n",
              "      <td>8.0</td>\n",
              "      <td>NaN</td>\n",
              "      <td>NaN</td>\n",
              "      <td>NaN</td>\n",
              "      <td>NaN</td>\n",
              "    </tr>\n",
              "  </tbody>\n",
              "</table>\n",
              "</div>"
            ],
            "text/plain": [
              "             date  ...  weekly_icu_admissions_per_million\n",
              "90482  2021-06-09  ...                                NaN\n",
              "90483  2021-06-10  ...                                NaN\n",
              "90484  2021-06-11  ...                                NaN\n",
              "90485  2021-06-12  ...                                NaN\n",
              "90486  2021-06-13  ...                                NaN\n",
              "\n",
              "[5 rows x 7 columns]"
            ]
          },
          "metadata": {
            "tags": []
          },
          "execution_count": 131
        }
      ]
    },
    {
      "cell_type": "code",
      "metadata": {
        "colab": {
          "base_uri": "https://localhost:8080/"
        },
        "id": "1QApyohnDoJu",
        "outputId": "699bd09a-c77e-424c-c074-fc736cfb37ad"
      },
      "source": [
        "dataset_UK.isna().sum()"
      ],
      "execution_count": 132,
      "outputs": [
        {
          "output_type": "execute_result",
          "data": {
            "text/plain": [
              "date                                   0\n",
              "population                             0\n",
              "new_deaths                             0\n",
              "reproduction_rate                      4\n",
              "icu_patients                           3\n",
              "weekly_icu_admissions                409\n",
              "weekly_icu_admissions_per_million    409\n",
              "dtype: int64"
            ]
          },
          "metadata": {
            "tags": []
          },
          "execution_count": 132
        }
      ]
    },
    {
      "cell_type": "code",
      "metadata": {
        "id": "OUHR27KxDs7f"
      },
      "source": [
        "dataset_UK = dataset_UK[dataset_UK[\"date\"] < \"2021-06-10\"]"
      ],
      "execution_count": 112,
      "outputs": []
    },
    {
      "cell_type": "code",
      "metadata": {
        "colab": {
          "base_uri": "https://localhost:8080/"
        },
        "id": "ry1Jz1f0D6Kr",
        "outputId": "20a2ab36-82bf-4dd2-f544-b1dc85d4e6f1"
      },
      "source": [
        "dataset_UK.isna().sum()"
      ],
      "execution_count": 113,
      "outputs": [
        {
          "output_type": "execute_result",
          "data": {
            "text/plain": [
              "date                       0\n",
              "population                 0\n",
              "new_deaths                 0\n",
              "reproduction_rate          0\n",
              "icu_patients               0\n",
              "weekly_icu_admissions    405\n",
              "dtype: int64"
            ]
          },
          "metadata": {
            "tags": []
          },
          "execution_count": 113
        }
      ]
    },
    {
      "cell_type": "code",
      "metadata": {
        "id": "SSI3SKcPEcp6"
      },
      "source": [
        "dataset_UK[\"Mortality_Rate\"] = \" \"\n",
        "dataset_UK[\"Mortality_Rate\"] = dataset_UK[\"new_deaths\"]/dataset_UK[\"population\"]"
      ],
      "execution_count": 138,
      "outputs": []
    },
    {
      "cell_type": "code",
      "metadata": {
        "colab": {
          "base_uri": "https://localhost:8080/",
          "height": 203
        },
        "id": "P-dg-l9nEhY1",
        "outputId": "fbb12d56-0919-4212-9e16-3562f97c6653"
      },
      "source": [
        "dataset_UK.head()"
      ],
      "execution_count": 115,
      "outputs": [
        {
          "output_type": "execute_result",
          "data": {
            "text/html": [
              "<div>\n",
              "<style scoped>\n",
              "    .dataframe tbody tr th:only-of-type {\n",
              "        vertical-align: middle;\n",
              "    }\n",
              "\n",
              "    .dataframe tbody tr th {\n",
              "        vertical-align: top;\n",
              "    }\n",
              "\n",
              "    .dataframe thead th {\n",
              "        text-align: right;\n",
              "    }\n",
              "</style>\n",
              "<table border=\"1\" class=\"dataframe\">\n",
              "  <thead>\n",
              "    <tr style=\"text-align: right;\">\n",
              "      <th></th>\n",
              "      <th>date</th>\n",
              "      <th>population</th>\n",
              "      <th>new_deaths</th>\n",
              "      <th>reproduction_rate</th>\n",
              "      <th>icu_patients</th>\n",
              "      <th>weekly_icu_admissions</th>\n",
              "      <th>Mortality_Rate</th>\n",
              "    </tr>\n",
              "  </thead>\n",
              "  <tbody>\n",
              "    <tr>\n",
              "      <th>90078</th>\n",
              "      <td>2020-05-01</td>\n",
              "      <td>67886004.0</td>\n",
              "      <td>700.0</td>\n",
              "      <td>0.94</td>\n",
              "      <td>2178.0</td>\n",
              "      <td>NaN</td>\n",
              "      <td>0.000010</td>\n",
              "    </tr>\n",
              "    <tr>\n",
              "      <th>90079</th>\n",
              "      <td>2020-05-02</td>\n",
              "      <td>67886004.0</td>\n",
              "      <td>585.0</td>\n",
              "      <td>0.90</td>\n",
              "      <td>2068.0</td>\n",
              "      <td>NaN</td>\n",
              "      <td>0.000009</td>\n",
              "    </tr>\n",
              "    <tr>\n",
              "      <th>90080</th>\n",
              "      <td>2020-05-03</td>\n",
              "      <td>67886004.0</td>\n",
              "      <td>253.0</td>\n",
              "      <td>0.87</td>\n",
              "      <td>2009.0</td>\n",
              "      <td>NaN</td>\n",
              "      <td>0.000004</td>\n",
              "    </tr>\n",
              "    <tr>\n",
              "      <th>90081</th>\n",
              "      <td>2020-05-04</td>\n",
              "      <td>67886004.0</td>\n",
              "      <td>273.0</td>\n",
              "      <td>0.82</td>\n",
              "      <td>1936.0</td>\n",
              "      <td>NaN</td>\n",
              "      <td>0.000004</td>\n",
              "    </tr>\n",
              "    <tr>\n",
              "      <th>90082</th>\n",
              "      <td>2020-05-05</td>\n",
              "      <td>67886004.0</td>\n",
              "      <td>725.0</td>\n",
              "      <td>0.81</td>\n",
              "      <td>1874.0</td>\n",
              "      <td>NaN</td>\n",
              "      <td>0.000011</td>\n",
              "    </tr>\n",
              "  </tbody>\n",
              "</table>\n",
              "</div>"
            ],
            "text/plain": [
              "             date  population  ...  weekly_icu_admissions  Mortality_Rate\n",
              "90078  2020-05-01  67886004.0  ...                    NaN        0.000010\n",
              "90079  2020-05-02  67886004.0  ...                    NaN        0.000009\n",
              "90080  2020-05-03  67886004.0  ...                    NaN        0.000004\n",
              "90081  2020-05-04  67886004.0  ...                    NaN        0.000004\n",
              "90082  2020-05-05  67886004.0  ...                    NaN        0.000011\n",
              "\n",
              "[5 rows x 7 columns]"
            ]
          },
          "metadata": {
            "tags": []
          },
          "execution_count": 115
        }
      ]
    },
    {
      "cell_type": "code",
      "metadata": {
        "id": "YSmg4bF1WAW8"
      },
      "source": [
        "dataset_UK.set_index(\"date\", inplace = True)"
      ],
      "execution_count": 116,
      "outputs": []
    },
    {
      "cell_type": "code",
      "metadata": {
        "id": "sOUtE5XTE4cN"
      },
      "source": [
        "dataset_UK.drop([\"population\"], axis = 1, inplace = True)"
      ],
      "execution_count": 117,
      "outputs": []
    },
    {
      "cell_type": "code",
      "metadata": {
        "colab": {
          "base_uri": "https://localhost:8080/"
        },
        "id": "MFlXNhM7FCpW",
        "outputId": "cde01bc6-f5cd-4c47-ed36-96292d29f56f"
      },
      "source": [
        "dataset_UK[\"weekly_icu_admissions\"].isna().sum()"
      ],
      "execution_count": 121,
      "outputs": [
        {
          "output_type": "execute_result",
          "data": {
            "text/plain": [
              "405"
            ]
          },
          "metadata": {
            "tags": []
          },
          "execution_count": 121
        }
      ]
    },
    {
      "cell_type": "code",
      "metadata": {
        "colab": {
          "base_uri": "https://localhost:8080/",
          "height": 417
        },
        "id": "yqEwax1HeOhw",
        "outputId": "fbff877f-2f20-4260-d533-8c1a54007c58"
      },
      "source": [
        "dataset_UK"
      ],
      "execution_count": 137,
      "outputs": [
        {
          "output_type": "execute_result",
          "data": {
            "text/html": [
              "<div>\n",
              "<style scoped>\n",
              "    .dataframe tbody tr th:only-of-type {\n",
              "        vertical-align: middle;\n",
              "    }\n",
              "\n",
              "    .dataframe tbody tr th {\n",
              "        vertical-align: top;\n",
              "    }\n",
              "\n",
              "    .dataframe thead th {\n",
              "        text-align: right;\n",
              "    }\n",
              "</style>\n",
              "<table border=\"1\" class=\"dataframe\">\n",
              "  <thead>\n",
              "    <tr style=\"text-align: right;\">\n",
              "      <th></th>\n",
              "      <th>date</th>\n",
              "      <th>population</th>\n",
              "      <th>new_deaths</th>\n",
              "      <th>reproduction_rate</th>\n",
              "      <th>icu_patients</th>\n",
              "      <th>weekly_icu_admissions</th>\n",
              "      <th>weekly_icu_admissions_per_million</th>\n",
              "    </tr>\n",
              "  </thead>\n",
              "  <tbody>\n",
              "    <tr>\n",
              "      <th>90078</th>\n",
              "      <td>2020-05-01</td>\n",
              "      <td>67886004.0</td>\n",
              "      <td>700.0</td>\n",
              "      <td>0.94</td>\n",
              "      <td>2178.0</td>\n",
              "      <td>NaN</td>\n",
              "      <td>NaN</td>\n",
              "    </tr>\n",
              "    <tr>\n",
              "      <th>90079</th>\n",
              "      <td>2020-05-02</td>\n",
              "      <td>67886004.0</td>\n",
              "      <td>585.0</td>\n",
              "      <td>0.90</td>\n",
              "      <td>2068.0</td>\n",
              "      <td>NaN</td>\n",
              "      <td>NaN</td>\n",
              "    </tr>\n",
              "    <tr>\n",
              "      <th>90080</th>\n",
              "      <td>2020-05-03</td>\n",
              "      <td>67886004.0</td>\n",
              "      <td>253.0</td>\n",
              "      <td>0.87</td>\n",
              "      <td>2009.0</td>\n",
              "      <td>NaN</td>\n",
              "      <td>NaN</td>\n",
              "    </tr>\n",
              "    <tr>\n",
              "      <th>90081</th>\n",
              "      <td>2020-05-04</td>\n",
              "      <td>67886004.0</td>\n",
              "      <td>273.0</td>\n",
              "      <td>0.82</td>\n",
              "      <td>1936.0</td>\n",
              "      <td>NaN</td>\n",
              "      <td>NaN</td>\n",
              "    </tr>\n",
              "    <tr>\n",
              "      <th>90082</th>\n",
              "      <td>2020-05-05</td>\n",
              "      <td>67886004.0</td>\n",
              "      <td>725.0</td>\n",
              "      <td>0.81</td>\n",
              "      <td>1874.0</td>\n",
              "      <td>NaN</td>\n",
              "      <td>NaN</td>\n",
              "    </tr>\n",
              "    <tr>\n",
              "      <th>...</th>\n",
              "      <td>...</td>\n",
              "      <td>...</td>\n",
              "      <td>...</td>\n",
              "      <td>...</td>\n",
              "      <td>...</td>\n",
              "      <td>...</td>\n",
              "      <td>...</td>\n",
              "    </tr>\n",
              "    <tr>\n",
              "      <th>90482</th>\n",
              "      <td>2021-06-09</td>\n",
              "      <td>67886004.0</td>\n",
              "      <td>6.0</td>\n",
              "      <td>1.48</td>\n",
              "      <td>159.0</td>\n",
              "      <td>NaN</td>\n",
              "      <td>NaN</td>\n",
              "    </tr>\n",
              "    <tr>\n",
              "      <th>90483</th>\n",
              "      <td>2021-06-10</td>\n",
              "      <td>67886004.0</td>\n",
              "      <td>7.0</td>\n",
              "      <td>NaN</td>\n",
              "      <td>158.0</td>\n",
              "      <td>NaN</td>\n",
              "      <td>NaN</td>\n",
              "    </tr>\n",
              "    <tr>\n",
              "      <th>90484</th>\n",
              "      <td>2021-06-11</td>\n",
              "      <td>67886004.0</td>\n",
              "      <td>17.0</td>\n",
              "      <td>NaN</td>\n",
              "      <td>NaN</td>\n",
              "      <td>NaN</td>\n",
              "      <td>NaN</td>\n",
              "    </tr>\n",
              "    <tr>\n",
              "      <th>90485</th>\n",
              "      <td>2021-06-12</td>\n",
              "      <td>67886004.0</td>\n",
              "      <td>12.0</td>\n",
              "      <td>NaN</td>\n",
              "      <td>NaN</td>\n",
              "      <td>NaN</td>\n",
              "      <td>NaN</td>\n",
              "    </tr>\n",
              "    <tr>\n",
              "      <th>90486</th>\n",
              "      <td>2021-06-13</td>\n",
              "      <td>67886004.0</td>\n",
              "      <td>8.0</td>\n",
              "      <td>NaN</td>\n",
              "      <td>NaN</td>\n",
              "      <td>NaN</td>\n",
              "      <td>NaN</td>\n",
              "    </tr>\n",
              "  </tbody>\n",
              "</table>\n",
              "<p>409 rows × 7 columns</p>\n",
              "</div>"
            ],
            "text/plain": [
              "             date  ...  weekly_icu_admissions_per_million\n",
              "90078  2020-05-01  ...                                NaN\n",
              "90079  2020-05-02  ...                                NaN\n",
              "90080  2020-05-03  ...                                NaN\n",
              "90081  2020-05-04  ...                                NaN\n",
              "90082  2020-05-05  ...                                NaN\n",
              "...           ...  ...                                ...\n",
              "90482  2021-06-09  ...                                NaN\n",
              "90483  2021-06-10  ...                                NaN\n",
              "90484  2021-06-11  ...                                NaN\n",
              "90485  2021-06-12  ...                                NaN\n",
              "90486  2021-06-13  ...                                NaN\n",
              "\n",
              "[409 rows x 7 columns]"
            ]
          },
          "metadata": {
            "tags": []
          },
          "execution_count": 137
        }
      ]
    },
    {
      "cell_type": "code",
      "metadata": {
        "colab": {
          "base_uri": "https://localhost:8080/",
          "height": 293
        },
        "id": "3KjydBtTFJyE",
        "outputId": "2737530c-6ae1-4d78-f5fd-5dff5068bf4f"
      },
      "source": [
        "plt.scatter(x = dataset_UK[\"icu_patients\"][ : 100], y = dataset_UK[\"Mortality_Rate\"][7 : 107])"
      ],
      "execution_count": 141,
      "outputs": [
        {
          "output_type": "execute_result",
          "data": {
            "text/plain": [
              "<matplotlib.collections.PathCollection at 0x7f1f91c1d7d0>"
            ]
          },
          "metadata": {
            "tags": []
          },
          "execution_count": 141
        },
        {
          "output_type": "display_data",
          "data": {
            "image/png": "[encoded data removed]",
            "text/plain": [
              "<Figure size 432x288 with 1 Axes>"
            ]
          },
          "metadata": {
            "tags": [],
            "needs_background": "light"
          }
        }
      ]
    },
    {
      "cell_type": "code",
      "metadata": {
        "colab": {
          "base_uri": "https://localhost:8080/"
        },
        "id": "8tKA5rHteGmE",
        "outputId": "3f339228-68b2-4af7-dd1d-040fad3c41bd"
      },
      "source": [
        "dataset_UK[\"icu_patients\"][ : 7]"
      ],
      "execution_count": 133,
      "outputs": [
        {
          "output_type": "execute_result",
          "data": {
            "text/plain": [
              "90078    2178.0\n",
              "90079    2068.0\n",
              "90080    2009.0\n",
              "90081    1936.0\n",
              "90082    1874.0\n",
              "90083    1802.0\n",
              "90084    1685.0\n",
              "Name: icu_patients, dtype: float64"
            ]
          },
          "metadata": {
            "tags": []
          },
          "execution_count": 133
        }
      ]
    },
    {
      "cell_type": "code",
      "metadata": {
        "colab": {
          "base_uri": "https://localhost:8080/",
          "height": 447
        },
        "id": "r8UEz6C_cQRs",
        "outputId": "a4039a42-2624-4d8e-f40d-b1e221af6838"
      },
      "source": [
        "dataset_UK"
      ],
      "execution_count": 101,
      "outputs": [
        {
          "output_type": "execute_result",
          "data": {
            "text/html": [
              "<div>\n",
              "<style scoped>\n",
              "    .dataframe tbody tr th:only-of-type {\n",
              "        vertical-align: middle;\n",
              "    }\n",
              "\n",
              "    .dataframe tbody tr th {\n",
              "        vertical-align: top;\n",
              "    }\n",
              "\n",
              "    .dataframe thead th {\n",
              "        text-align: right;\n",
              "    }\n",
              "</style>\n",
              "<table border=\"1\" class=\"dataframe\">\n",
              "  <thead>\n",
              "    <tr style=\"text-align: right;\">\n",
              "      <th></th>\n",
              "      <th>new_deaths</th>\n",
              "      <th>reproduction_rate</th>\n",
              "      <th>icu_patients</th>\n",
              "      <th>Mortality_Rate</th>\n",
              "    </tr>\n",
              "    <tr>\n",
              "      <th>date</th>\n",
              "      <th></th>\n",
              "      <th></th>\n",
              "      <th></th>\n",
              "      <th></th>\n",
              "    </tr>\n",
              "  </thead>\n",
              "  <tbody>\n",
              "    <tr>\n",
              "      <th>2020-05-01</th>\n",
              "      <td>700.0</td>\n",
              "      <td>0.94</td>\n",
              "      <td>2178.0</td>\n",
              "      <td>1.031140e-05</td>\n",
              "    </tr>\n",
              "    <tr>\n",
              "      <th>2020-05-02</th>\n",
              "      <td>585.0</td>\n",
              "      <td>0.90</td>\n",
              "      <td>2068.0</td>\n",
              "      <td>8.617387e-06</td>\n",
              "    </tr>\n",
              "    <tr>\n",
              "      <th>2020-05-03</th>\n",
              "      <td>253.0</td>\n",
              "      <td>0.87</td>\n",
              "      <td>2009.0</td>\n",
              "      <td>3.726836e-06</td>\n",
              "    </tr>\n",
              "    <tr>\n",
              "      <th>2020-05-04</th>\n",
              "      <td>273.0</td>\n",
              "      <td>0.82</td>\n",
              "      <td>1936.0</td>\n",
              "      <td>4.021447e-06</td>\n",
              "    </tr>\n",
              "    <tr>\n",
              "      <th>2020-05-05</th>\n",
              "      <td>725.0</td>\n",
              "      <td>0.81</td>\n",
              "      <td>1874.0</td>\n",
              "      <td>1.067967e-05</td>\n",
              "    </tr>\n",
              "    <tr>\n",
              "      <th>...</th>\n",
              "      <td>...</td>\n",
              "      <td>...</td>\n",
              "      <td>...</td>\n",
              "      <td>...</td>\n",
              "    </tr>\n",
              "    <tr>\n",
              "      <th>2021-06-05</th>\n",
              "      <td>13.0</td>\n",
              "      <td>1.48</td>\n",
              "      <td>135.0</td>\n",
              "      <td>1.914975e-07</td>\n",
              "    </tr>\n",
              "    <tr>\n",
              "      <th>2021-06-06</th>\n",
              "      <td>4.0</td>\n",
              "      <td>1.48</td>\n",
              "      <td>145.0</td>\n",
              "      <td>5.892231e-08</td>\n",
              "    </tr>\n",
              "    <tr>\n",
              "      <th>2021-06-07</th>\n",
              "      <td>1.0</td>\n",
              "      <td>1.48</td>\n",
              "      <td>148.0</td>\n",
              "      <td>1.473058e-08</td>\n",
              "    </tr>\n",
              "    <tr>\n",
              "      <th>2021-06-08</th>\n",
              "      <td>14.0</td>\n",
              "      <td>1.48</td>\n",
              "      <td>154.0</td>\n",
              "      <td>2.062281e-07</td>\n",
              "    </tr>\n",
              "    <tr>\n",
              "      <th>2021-06-09</th>\n",
              "      <td>6.0</td>\n",
              "      <td>1.48</td>\n",
              "      <td>159.0</td>\n",
              "      <td>8.838346e-08</td>\n",
              "    </tr>\n",
              "  </tbody>\n",
              "</table>\n",
              "<p>405 rows × 4 columns</p>\n",
              "</div>"
            ],
            "text/plain": [
              "            new_deaths  reproduction_rate  icu_patients  Mortality_Rate\n",
              "date                                                                   \n",
              "2020-05-01       700.0               0.94        2178.0    1.031140e-05\n",
              "2020-05-02       585.0               0.90        2068.0    8.617387e-06\n",
              "2020-05-03       253.0               0.87        2009.0    3.726836e-06\n",
              "2020-05-04       273.0               0.82        1936.0    4.021447e-06\n",
              "2020-05-05       725.0               0.81        1874.0    1.067967e-05\n",
              "...                ...                ...           ...             ...\n",
              "2021-06-05        13.0               1.48         135.0    1.914975e-07\n",
              "2021-06-06         4.0               1.48         145.0    5.892231e-08\n",
              "2021-06-07         1.0               1.48         148.0    1.473058e-08\n",
              "2021-06-08        14.0               1.48         154.0    2.062281e-07\n",
              "2021-06-09         6.0               1.48         159.0    8.838346e-08\n",
              "\n",
              "[405 rows x 4 columns]"
            ]
          },
          "metadata": {
            "tags": []
          },
          "execution_count": 101
        }
      ]
    },
    {
      "cell_type": "code",
      "metadata": {
        "colab": {
          "base_uri": "https://localhost:8080/",
          "height": 295
        },
        "id": "nG47nQIKWV4g",
        "outputId": "95c40ffd-2070-4721-88ba-30dcc5b1050d"
      },
      "source": [
        "plt.scatter(x = dataset_UK[\"Mortality_Rate\"], y = dataset_UK[\"reproduction_rate\t\"])"
      ],
      "execution_count": 94,
      "outputs": [
        {
          "output_type": "execute_result",
          "data": {
            "text/plain": [
              "<matplotlib.collections.PathCollection at 0x7f1f927cae50>"
            ]
          },
          "metadata": {
            "tags": []
          },
          "execution_count": 94
        },
        {
          "output_type": "display_data",
          "data": {
            "image/png": "[encoded data removed]",
            "text/plain": [
              "<Figure size 432x288 with 1 Axes>"
            ]
          },
          "metadata": {
            "tags": [],
            "needs_background": "light"
          }
        }
      ]
    },
    {
      "cell_type": "code",
      "metadata": {
        "colab": {
          "base_uri": "https://localhost:8080/",
          "height": 296
        },
        "id": "_FoNJwQEWtna",
        "outputId": "7347eccc-a717-4d82-ef87-db05d5a637fe"
      },
      "source": [
        "plt.scatter( x = dataset_UK.index, y = dataset_UK[\"Mortality_Rate\"], c = \"lightblue\")\n",
        "plt.scatter( x = dataset_UK.index, y = dataset_UK[\"icu_patients\"], c = \"coral\")\n",
        "\n",
        "plt.xlabel(\"x\")\n",
        "plt.ylabel(\"Y\")"
      ],
      "execution_count": 95,
      "outputs": [
        {
          "output_type": "execute_result",
          "data": {
            "text/plain": [
              "Text(0, 0.5, 'Y')"
            ]
          },
          "metadata": {
            "tags": []
          },
          "execution_count": 95
        },
        {
          "output_type": "display_data",
          "data": {
            "image/png": "[encoded data removed]",
            "text/plain": [
              "<Figure size 432x288 with 1 Axes>"
            ]
          },
          "metadata": {
            "tags": [],
            "needs_background": "light"
          }
        }
      ]
    },
    {
      "cell_type": "code",
      "metadata": {
        "colab": {
          "base_uri": "https://localhost:8080/",
          "height": 296
        },
        "id": "HZWl8PezWtqA",
        "outputId": "072382b3-769b-4263-e6f1-9d833ea2dce0"
      },
      "source": [
        "plt.scatter(x = dataset_UK.index, y = dataset_UK[\"Mortality_Rate\"], c = \"lightblue\")\n",
        "plt.scatter(x = dataset_UK.index, y = dataset_UK[\"icu_patients\"], c = \"coral\")\n",
        "plt.scatter(x = dataset_UK.index, y = dataset_UK[\"new_deaths\"], c = \"coral\")\n",
        "\n",
        "plt.xlabel(\"x\")\n",
        "plt.ylabel(\"Y\")"
      ],
      "execution_count": 96,
      "outputs": [
        {
          "output_type": "execute_result",
          "data": {
            "text/plain": [
              "Text(0, 0.5, 'Y')"
            ]
          },
          "metadata": {
            "tags": []
          },
          "execution_count": 96
        },
        {
          "output_type": "display_data",
          "data": {
            "image/png": "[encoded data removed]",
            "text/plain": [
              "<Figure size 432x288 with 1 Axes>"
            ]
          },
          "metadata": {
            "tags": [],
            "needs_background": "light"
          }
        }
      ]
    },
    {
      "cell_type": "code",
      "metadata": {
        "id": "CNMQHATPWttt"
      },
      "source": [
        "X_train"
      ],
      "execution_count": null,
      "outputs": []
    },
    {
      "cell_type": "code",
      "metadata": {
        "id": "TTRuZDrAFMz2"
      },
      "source": [
        "train = dataset_UK[ : 350]\n",
        "test = dataset_UK[350 : ]"
      ],
      "execution_count": 23,
      "outputs": []
    },
    {
      "cell_type": "code",
      "metadata": {
        "id": "2ilPpw-BFSqn"
      },
      "source": [
        "X_train = train.iloc[ : ,  : -1]\n",
        "Y_train = train.iloc[ : , -1 : ]\n",
        "\n",
        "X_test = test.iloc[ : ,  : -1]\n",
        "Y_test = test.iloc[ : , -1 : ]"
      ],
      "execution_count": 24,
      "outputs": []
    },
    {
      "cell_type": "code",
      "metadata": {
        "colab": {
          "base_uri": "https://localhost:8080/"
        },
        "id": "QKygZQiIFlSh",
        "outputId": "ced714b3-b075-47c3-8fa0-20f943ca8e09"
      },
      "source": [
        "estimators = [\n",
        "              (\"rf\", RandomForestRegressor(random_state = SEED)),\n",
        "              (\"svr\", LinearSVR(random_state = SEED)),\n",
        "              (\"rf1\", RandomForestRegressor(random_state = SEED)),\n",
        "              (\"xgb\", xgb.XGBRegressor(random_state = SEED)),\n",
        "              (\"knn\", KNeighborsRegressor(n_neighbors = 7))\n",
        "]\n",
        "\n",
        "reg = StackingRegressor(\n",
        "    estimators = estimators, \n",
        "    final_estimator = RandomForestRegressor(random_state = SEED)\n",
        ")\n",
        "\n",
        "reg.fit(X_train, Y_train)\n",
        "predict = reg.predict(X_test)\n",
        "\n",
        "r2 = r2_score(Y_test, predict)\n",
        "\n",
        "\n",
        "print(f\"The r2 score is {r2}\")\n"
      ],
      "execution_count": 97,
      "outputs": [
        {
          "output_type": "stream",
          "text": [
            "[13:15:42] WARNING: /workspace/src/objective/regression_obj.cu:152: reg:linear is now deprecated in favor of reg:squarederror.\n",
            "[13:15:43] WARNING: /workspace/src/objective/regression_obj.cu:152: reg:linear is now deprecated in favor of reg:squarederror.\n",
            "[13:15:43] WARNING: /workspace/src/objective/regression_obj.cu:152: reg:linear is now deprecated in favor of reg:squarederror.\n",
            "[13:15:43] WARNING: /workspace/src/objective/regression_obj.cu:152: reg:linear is now deprecated in favor of reg:squarederror.\n",
            "[13:15:43] WARNING: /workspace/src/objective/regression_obj.cu:152: reg:linear is now deprecated in favor of reg:squarederror.\n",
            "[13:15:43] WARNING: /workspace/src/objective/regression_obj.cu:152: reg:linear is now deprecated in favor of reg:squarederror.\n",
            "The r2 score is 0.3125902163884464\n"
          ],
          "name": "stdout"
        }
      ]
    },
    {
      "cell_type": "code",
      "metadata": {
        "colab": {
          "base_uri": "https://localhost:8080/"
        },
        "id": "W0HPGsBjF-iy",
        "outputId": "d9488d1b-b7f9-46c4-9452-4ff9d72bf306"
      },
      "source": [
        "regressor = KNeighborsRegressor(n_neighbors = SEED)\n",
        "regressor.fit(X_train, Y_train)\n",
        "\n",
        "predict = regressor.predict(X_test)\n",
        "\n",
        "\n",
        "r2 = r2_score(Y_test, predict)\n",
        "mae = mean_absolute_error(Y_test, predict)\n",
        "mse = mean_squared_error(Y_test, predict)\n",
        "print(\"------------------------------------------------\")\n",
        "print(\"------------------------------------------------\")\n",
        "print(\"------------------------------------------------\")\n",
        "print(\"------------------------------------------------\")\n",
        "print(f\"The r2 score is : {r2}\")\n",
        "print(f\"The Mean absolute error is : {mae}\")\n",
        "print(f\"The Mean squared error score is : {mse}\")\n",
        "print(\"------------------------------------------------\")\n",
        "print(\"------------------------------------------------\")\n",
        "print(\"------------------------------------------------\")\n",
        "print(\"------------------------------------------------\")"
      ],
      "execution_count": 26,
      "outputs": [
        {
          "output_type": "stream",
          "text": [
            "------------------------------------------------\n",
            "------------------------------------------------\n",
            "------------------------------------------------\n",
            "------------------------------------------------\n",
            "The r2 score is : -1.7847472227485475\n",
            "The Mean absolute error is : 1.8931023177494953e-07\n",
            "The Mean squared error score is : 5.692927153211653e-14\n",
            "------------------------------------------------\n",
            "------------------------------------------------\n",
            "------------------------------------------------\n",
            "------------------------------------------------\n"
          ],
          "name": "stdout"
        }
      ]
    },
    {
      "cell_type": "code",
      "metadata": {
        "colab": {
          "base_uri": "https://localhost:8080/"
        },
        "id": "-0D8vAKKQ7e2",
        "outputId": "a3c4ce17-c408-4c8f-d392-6b302fe84bdb"
      },
      "source": [
        "estimators = [\n",
        "              (\"knn\", KNeighborsRegressor(n_neighbors = 44)),\n",
        "              (\"xgb\", xgb.XGBRegressor(random_state = SEED)),\n",
        "\n",
        "]\n",
        "\n",
        "reg = StackingRegressor(\n",
        "    estimators = estimators ,\n",
        "    final_estimator = KNeighborsRegressor(n_neighbors = 10)\n",
        ")\n",
        "\n",
        "reg.fit(X_train, Y_train)\n",
        "predict = reg.predict(X_test)\n",
        "\n",
        "r2 = r2_score(Y_test, predict)\n",
        "mae = mean_absolute_error(Y_test, predict)\n",
        "mse = mean_squared_error(Y_test, predict)\n",
        "print(\"------------------------------------------------\")\n",
        "print(\"------------------------------------------------\")\n",
        "print(\"------------------------------------------------\")\n",
        "print(\"------------------------------------------------\")\n",
        "print(f\"The r2 score is : {r2}\")\n",
        "print(f\"The Mean absolute error is : {mae}\")\n",
        "print(f\"The Mean squared error score is : {mse}\")\n",
        "print(\"------------------------------------------------\")\n",
        "print(\"------------------------------------------------\")\n",
        "print(\"------------------------------------------------\")\n",
        "print(\"------------------------------------------------\")"
      ],
      "execution_count": 27,
      "outputs": [
        {
          "output_type": "stream",
          "text": [
            "[12:51:01] WARNING: /workspace/src/objective/regression_obj.cu:152: reg:linear is now deprecated in favor of reg:squarederror.\n",
            "[12:51:01] WARNING: /workspace/src/objective/regression_obj.cu:152: reg:linear is now deprecated in favor of reg:squarederror.\n",
            "[12:51:01] WARNING: /workspace/src/objective/regression_obj.cu:152: reg:linear is now deprecated in favor of reg:squarederror.\n",
            "[12:51:01] WARNING: /workspace/src/objective/regression_obj.cu:152: reg:linear is now deprecated in favor of reg:squarederror.\n",
            "[12:51:01] WARNING: /workspace/src/objective/regression_obj.cu:152: reg:linear is now deprecated in favor of reg:squarederror.\n",
            "[12:51:01] WARNING: /workspace/src/objective/regression_obj.cu:152: reg:linear is now deprecated in favor of reg:squarederror.\n",
            "------------------------------------------------\n",
            "------------------------------------------------\n",
            "------------------------------------------------\n",
            "------------------------------------------------\n",
            "The r2 score is : -4.244580412219203\n",
            "The Mean absolute error is : 3.009055110575183e-07\n",
            "The Mean squared error score is : 1.0721624566863117e-13\n",
            "------------------------------------------------\n",
            "------------------------------------------------\n",
            "------------------------------------------------\n",
            "------------------------------------------------\n"
          ],
          "name": "stdout"
        }
      ]
    },
    {
      "cell_type": "code",
      "metadata": {
        "colab": {
          "base_uri": "https://localhost:8080/"
        },
        "id": "2nVGpEMyR7b1",
        "outputId": "ad55af8e-b424-422b-c2a9-a3954967b8af"
      },
      "source": [
        "lasso = linear_model.Lasso(alpha = 5)\n",
        "lasso.fit(X_train, Y_train)\n",
        "\n",
        "predict = lasso.predict(X_train)\n",
        "\n",
        "r2 = r2_score(Y_train, predict)\n",
        "mae = mean_absolute_error(Y_train, predict)\n",
        "mse = mean_squared_error(Y_train, predict)\n",
        "print(\"------------------------------------------------\")\n",
        "print(\"------------------------------------------------\")\n",
        "print(\"------------------------------------------------\")\n",
        "print(\"------------------------------------------------\")\n",
        "print(f\"The r2 score is : {r2}\")\n",
        "print(f\"The Mean absolute error is : {mae}\")\n",
        "print(f\"The Mean squared error score is : {mse}\")\n",
        "print(\"------------------------------------------------\")\n",
        "print(\"------------------------------------------------\")\n",
        "print(\"------------------------------------------------\")\n",
        "print(\"------------------------------------------------\")"
      ],
      "execution_count": 38,
      "outputs": [
        {
          "output_type": "stream",
          "text": [
            "------------------------------------------------\n",
            "------------------------------------------------\n",
            "------------------------------------------------\n",
            "------------------------------------------------\n",
            "The r2 score is : 0.0\n",
            "The Mean absolute error is : 0.7523482770227461\n",
            "The Mean squared error score is : 1.0000000000000002\n",
            "------------------------------------------------\n",
            "------------------------------------------------\n",
            "------------------------------------------------\n",
            "------------------------------------------------\n"
          ],
          "name": "stdout"
        }
      ]
    },
    {
      "cell_type": "code",
      "metadata": {
        "colab": {
          "base_uri": "https://localhost:8080/",
          "height": 282
        },
        "id": "X7pTvbl6UgBr",
        "outputId": "9b00f046-d8e1-4608-895f-6ae2fd875a1d"
      },
      "source": [
        "plt.scatter(predict, Y_test)"
      ],
      "execution_count": 37,
      "outputs": [
        {
          "output_type": "execute_result",
          "data": {
            "text/plain": [
              "<matplotlib.collections.PathCollection at 0x7f1f9875ebd0>"
            ]
          },
          "metadata": {
            "tags": []
          },
          "execution_count": 37
        },
        {
          "output_type": "display_data",
          "data": {
            "image/png": "[encoded data removed]",
            "text/plain": [
              "<Figure size 432x288 with 1 Axes>"
            ]
          },
          "metadata": {
            "tags": [],
            "needs_background": "light"
          }
        }
      ]
    },
    {
      "cell_type": "code",
      "metadata": {
        "colab": {
          "base_uri": "https://localhost:8080/"
        },
        "id": "kEMkKWr5UIx-",
        "outputId": "9a10711a-d75b-4c6d-b89e-08861e6bf06b"
      },
      "source": [
        "estimators = [\n",
        "              (\"knn\", KNeighborsRegressor(n_neighbors = 44)),\n",
        "              (\"xgb\", xgb.XGBRegressor(random_state = SEED)),\n",
        "              (\"lasso\", linear_model.Lasso(alpha = 5))\n",
        "\n",
        "]\n",
        "\n",
        "reg = StackingRegressor(\n",
        "    estimators = estimators ,\n",
        "    final_estimator = KNeighborsRegressor(n_neighbors = 10)\n",
        ")\n",
        "\n",
        "reg.fit(X_train, Y_train)\n",
        "predict = reg.predict(X_test)\n",
        "\n",
        "r2 = r2_score(Y_test, predict)\n",
        "mae = mean_absolute_error(Y_test, predict)\n",
        "mse = mean_squared_error(Y_test, predict)\n",
        "print(\"------------------------------------------------\")\n",
        "print(\"------------------------------------------------\")\n",
        "print(\"------------------------------------------------\")\n",
        "print(\"------------------------------------------------\")\n",
        "print(f\"The r2 score is : {r2}\")\n",
        "print(f\"The Mean absolute error is : {mae}\")\n",
        "print(f\"The Mean squared error score is : {mse}\")\n",
        "print(\"------------------------------------------------\")\n",
        "print(\"------------------------------------------------\")\n",
        "print(\"------------------------------------------------\")\n",
        "print(\"------------------------------------------------\")"
      ],
      "execution_count": 29,
      "outputs": [
        {
          "output_type": "stream",
          "text": [
            "[12:51:01] WARNING: /workspace/src/objective/regression_obj.cu:152: reg:linear is now deprecated in favor of reg:squarederror.\n",
            "[12:51:01] WARNING: /workspace/src/objective/regression_obj.cu:152: reg:linear is now deprecated in favor of reg:squarederror.\n",
            "[12:51:01] WARNING: /workspace/src/objective/regression_obj.cu:152: reg:linear is now deprecated in favor of reg:squarederror.\n",
            "[12:51:01] WARNING: /workspace/src/objective/regression_obj.cu:152: reg:linear is now deprecated in favor of reg:squarederror.\n",
            "[12:51:01] WARNING: /workspace/src/objective/regression_obj.cu:152: reg:linear is now deprecated in favor of reg:squarederror.\n",
            "[12:51:01] WARNING: /workspace/src/objective/regression_obj.cu:152: reg:linear is now deprecated in favor of reg:squarederror.\n",
            "------------------------------------------------\n",
            "------------------------------------------------\n",
            "------------------------------------------------\n",
            "------------------------------------------------\n",
            "The r2 score is : -3.3151997936798656\n",
            "The Mean absolute error is : 2.718728831993652e-07\n",
            "The Mean squared error score is : 8.821668938671803e-14\n",
            "------------------------------------------------\n",
            "------------------------------------------------\n",
            "------------------------------------------------\n",
            "------------------------------------------------\n"
          ],
          "name": "stdout"
        }
      ]
    },
    {
      "cell_type": "code",
      "metadata": {
        "colab": {
          "base_uri": "https://localhost:8080/"
        },
        "id": "_r-2NWarVyej",
        "outputId": "922b65ea-cc0b-4b35-86a7-ed48edd2cf46"
      },
      "source": [
        "estimators = [\n",
        "              (\"knn\", KNeighborsRegressor(n_neighbors = 44)),\n",
        "              #(\"xgb\", xgb.XGBRegressor(random_state = SEED)),\n",
        "              (\"lasso\", linear_model.Lasso(alpha = 5))\n",
        "\n",
        "]\n",
        "\n",
        "reg = StackingRegressor(\n",
        "    estimators = estimators ,\n",
        "    final_estimator = KNeighborsRegressor(n_neighbors = 10)\n",
        ")\n",
        "\n",
        "reg.fit(X_train, Y_train)\n",
        "predict = reg.predict(X_test)\n",
        "\n",
        "r2 = r2_score(Y_test, predict)\n",
        "mae = mean_absolute_error(Y_test, predict)\n",
        "mse = mean_squared_error(Y_test, predict)\n",
        "print(\"------------------------------------------------\")\n",
        "print(\"------------------------------------------------\")\n",
        "print(\"------------------------------------------------\")\n",
        "print(\"------------------------------------------------\")\n",
        "print(f\"The r2 score is : {r2}\")\n",
        "print(f\"The Mean absolute error is : {mae}\")\n",
        "print(f\"The Mean squared error score is : {mse}\")\n",
        "print(\"------------------------------------------------\")\n",
        "print(\"------------------------------------------------\")\n",
        "print(\"------------------------------------------------\")\n",
        "print(\"------------------------------------------------\")"
      ],
      "execution_count": 30,
      "outputs": [
        {
          "output_type": "stream",
          "text": [
            "------------------------------------------------\n",
            "------------------------------------------------\n",
            "------------------------------------------------\n",
            "------------------------------------------------\n",
            "The r2 score is : -4.1431891548593995\n",
            "The Mean absolute error is : 3.041194551008563e-07\n",
            "The Mean squared error score is : 1.051434792882335e-13\n",
            "------------------------------------------------\n",
            "------------------------------------------------\n",
            "------------------------------------------------\n",
            "------------------------------------------------\n"
          ],
          "name": "stdout"
        }
      ]
    },
    {
      "cell_type": "code",
      "metadata": {
        "colab": {
          "base_uri": "https://localhost:8080/"
        },
        "id": "GSa4qyyVV5HC",
        "outputId": "55927935-06ec-4623-8506-8b49fe419b25"
      },
      "source": [
        "sc = StandardScaler()\n",
        "X_train = sc.fit_transform(X_train)\n",
        "X_test = sc.fit_transform(X_test)\n",
        "\n",
        "Y_train = sc.fit_transform(Y_train)\n",
        "Y_test = sc.fit_transform(Y_test) \n",
        "\n",
        "regressor = KNeighborsRegressor(n_neighbors = SEED)\n",
        "regressor.fit(X_train, Y_train)\n",
        "\n",
        "predict = regressor.predict(X_test)\n",
        "\n",
        "r2 = r2_score(Y_test, predict)\n",
        "mae = mean_absolute_error(Y_test, predict)\n",
        "mse = mean_squared_error(Y_test, predict)\n",
        "print(\"------------------------------------------------\")\n",
        "print(\"------------------------------------------------\")\n",
        "print(\"------------------------------------------------\")\n",
        "print(\"------------------------------------------------\")\n",
        "print(f\"The r2 score is : {r2}\")\n",
        "print(f\"The Mean absolute error is : {mae}\")\n",
        "print(f\"The Mean squared error score is : {mse}\")\n",
        "print(\"------------------------------------------------\")\n",
        "print(\"------------------------------------------------\")\n",
        "print(\"------------------------------------------------\")\n",
        "print(\"------------------------------------------------\")"
      ],
      "execution_count": 31,
      "outputs": [
        {
          "output_type": "stream",
          "text": [
            "------------------------------------------------\n",
            "------------------------------------------------\n",
            "------------------------------------------------\n",
            "------------------------------------------------\n",
            "The r2 score is : 0.2649956184757376\n",
            "The Mean absolute error is : 0.6330872729493936\n",
            "The Mean squared error score is : 0.7350043815242621\n",
            "------------------------------------------------\n",
            "------------------------------------------------\n",
            "------------------------------------------------\n",
            "------------------------------------------------\n"
          ],
          "name": "stdout"
        }
      ]
    },
    {
      "cell_type": "code",
      "metadata": {
        "colab": {
          "base_uri": "https://localhost:8080/"
        },
        "id": "FO5O4xx7dEha",
        "outputId": "e7375fbb-1c7f-414f-b914-84304d1013b0"
      },
      "source": [
        "estimators = [\n",
        "              (\"knn\", KNeighborsRegressor(n_neighbors = 44)),\n",
        "              #(\"xgb\", xgb.XGBRegressor(random_state = SEED)),\n",
        "              (\"lasso\", linear_model.Lasso(alpha = 5))\n",
        "\n",
        "]\n",
        "\n",
        "reg = StackingRegressor(\n",
        "    estimators = estimators ,\n",
        "    final_estimator = KNeighborsRegressor(n_neighbors = 10)\n",
        ")\n",
        "\n",
        "reg.fit(X_train, Y_train)\n",
        "predict = reg.predict(X_test)\n",
        "\n",
        "r2 = r2_score(Y_test, predict)\n",
        "mae = mean_absolute_error(Y_test, predict)\n",
        "mse = mean_squared_error(Y_test, predict)\n",
        "print(\"------------------------------------------------\")\n",
        "print(\"------------------------------------------------\")\n",
        "print(\"------------------------------------------------\")\n",
        "print(\"------------------------------------------------\")\n",
        "print(f\"The r2 score is : {r2}\")\n",
        "print(f\"The Mean absolute error is : {mae}\")\n",
        "print(f\"The Mean squared error score is : {mse}\")\n",
        "print(\"------------------------------------------------\")\n",
        "print(\"------------------------------------------------\")\n",
        "print(\"------------------------------------------------\")\n",
        "print(\"------------------------------------------------\")"
      ],
      "execution_count": 32,
      "outputs": [
        {
          "output_type": "stream",
          "text": [
            "------------------------------------------------\n",
            "------------------------------------------------\n",
            "------------------------------------------------\n",
            "------------------------------------------------\n",
            "The r2 score is : 0.2683285210842543\n",
            "The Mean absolute error is : 0.6372232312193429\n",
            "The Mean squared error score is : 0.7316714789157454\n",
            "------------------------------------------------\n",
            "------------------------------------------------\n",
            "------------------------------------------------\n",
            "------------------------------------------------\n"
          ],
          "name": "stdout"
        }
      ]
    },
    {
      "cell_type": "code",
      "metadata": {
        "colab": {
          "base_uri": "https://localhost:8080/"
        },
        "id": "r-4jZGP-dOIv",
        "outputId": "98ca8f7d-a2fd-4ef1-e555-0074ccffd30c"
      },
      "source": [
        "lasso = linear_model.Lasso(alpha = 5)\n",
        "lasso.fit(X_train, Y_train)\n",
        "\n",
        "predict = lasso.predict(X_test)\n",
        "\n",
        "r2 = r2_score(Y_test, predict)\n",
        "mae = mean_absolute_error(Y_test, predict)\n",
        "mse = mean_squared_error(Y_test, predict)\n",
        "print(\"------------------------------------------------\")\n",
        "print(\"------------------------------------------------\")\n",
        "print(\"------------------------------------------------\")\n",
        "print(\"------------------------------------------------\")\n",
        "print(f\"The r2 score is : {r2}\")\n",
        "print(f\"The Mean absolute error is : {mae}\")\n",
        "print(f\"The Mean squared error score is : {mse}\")\n",
        "print(\"------------------------------------------------\")\n",
        "print(\"------------------------------------------------\")\n",
        "print(\"------------------------------------------------\")\n",
        "print(\"------------------------------------------------\")"
      ],
      "execution_count": 33,
      "outputs": [
        {
          "output_type": "stream",
          "text": [
            "------------------------------------------------\n",
            "------------------------------------------------\n",
            "------------------------------------------------\n",
            "------------------------------------------------\n",
            "The r2 score is : -2.220446049250313e-16\n",
            "The Mean absolute error is : 0.7795200620804997\n",
            "The Mean squared error score is : 0.9999999999999997\n",
            "------------------------------------------------\n",
            "------------------------------------------------\n",
            "------------------------------------------------\n",
            "------------------------------------------------\n"
          ],
          "name": "stdout"
        }
      ]
    },
    {
      "cell_type": "code",
      "metadata": {
        "id": "35SGJynkV4v3"
      },
      "source": [
        ""
      ],
      "execution_count": null,
      "outputs": []
    }
  ]
}
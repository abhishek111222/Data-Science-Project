{
  "nbformat": 4,
  "nbformat_minor": 0,
  "metadata": {
    "colab": {
      "name": "week 5.ipynb",
      "provenance": []
    },
    "kernelspec": {
      "name": "python3",
      "display_name": "Python 3"
    },
    "language_info": {
      "name": "python"
    }
  },
  "cells": [
    {
      "cell_type": "markdown",
      "metadata": {
        "id": "_LCNY4FThKoD"
      },
      "source": [
        "Mortality Rate = new_cases / population     (In week 3, I did new_deaths_per_million/new_cases_per_million)"
      ]
    },
    {
      "cell_type": "code",
      "metadata": {
        "colab": {
          "base_uri": "https://localhost:8080/"
        },
        "id": "PFDQJAiKfNC2",
        "outputId": "c4490163-d877-4d66-d97b-e79868faf17a"
      },
      "source": [
        "from google.colab import drive\n",
        "drive.mount('/content/gdrive')"
      ],
      "execution_count": 1,
      "outputs": [
        {
          "output_type": "stream",
          "text": [
            "Drive already mounted at /content/gdrive; to attempt to forcibly remount, call drive.mount(\"/content/gdrive\", force_remount=True).\n"
          ],
          "name": "stdout"
        }
      ]
    },
    {
      "cell_type": "code",
      "metadata": {
        "colab": {
          "base_uri": "https://localhost:8080/"
        },
        "id": "JISvpMbdfRQ8",
        "outputId": "5be6b513-95d2-4e0a-c3ee-6c9be138884a"
      },
      "source": [
        "!pip install --upgrade plotly\n",
        "!pip install pmdarima\n",
        "print(\"Done\")"
      ],
      "execution_count": 2,
      "outputs": [
        {
          "output_type": "stream",
          "text": [
            "Requirement already up-to-date: plotly in /usr/local/lib/python3.7/dist-packages (5.1.0)\n",
            "Requirement already satisfied, skipping upgrade: tenacity>=6.2.0 in /usr/local/lib/python3.7/dist-packages (from plotly) (7.0.0)\n",
            "Requirement already satisfied, skipping upgrade: six in /usr/local/lib/python3.7/dist-packages (from plotly) (1.15.0)\n",
            "Requirement already satisfied: pmdarima in /usr/local/lib/python3.7/dist-packages (1.8.2)\n",
            "Requirement already satisfied: pandas>=0.19 in /usr/local/lib/python3.7/dist-packages (from pmdarima) (1.1.5)\n",
            "Requirement already satisfied: numpy~=1.19.0 in /usr/local/lib/python3.7/dist-packages (from pmdarima) (1.19.5)\n",
            "Requirement already satisfied: joblib>=0.11 in /usr/local/lib/python3.7/dist-packages (from pmdarima) (1.0.1)\n",
            "Requirement already satisfied: statsmodels!=0.12.0,>=0.11 in /usr/local/lib/python3.7/dist-packages (from pmdarima) (0.12.2)\n",
            "Requirement already satisfied: setuptools!=50.0.0,>=38.6.0 in /usr/local/lib/python3.7/dist-packages (from pmdarima) (57.0.0)\n",
            "Requirement already satisfied: scipy>=1.3.2 in /usr/local/lib/python3.7/dist-packages (from pmdarima) (1.4.1)\n",
            "Requirement already satisfied: urllib3 in /usr/local/lib/python3.7/dist-packages (from pmdarima) (1.24.3)\n",
            "Requirement already satisfied: scikit-learn>=0.22 in /usr/local/lib/python3.7/dist-packages (from pmdarima) (0.22.2.post1)\n",
            "Requirement already satisfied: Cython!=0.29.18,>=0.29 in /usr/local/lib/python3.7/dist-packages (from pmdarima) (0.29.23)\n",
            "Requirement already satisfied: pytz>=2017.2 in /usr/local/lib/python3.7/dist-packages (from pandas>=0.19->pmdarima) (2018.9)\n",
            "Requirement already satisfied: python-dateutil>=2.7.3 in /usr/local/lib/python3.7/dist-packages (from pandas>=0.19->pmdarima) (2.8.1)\n",
            "Requirement already satisfied: patsy>=0.5 in /usr/local/lib/python3.7/dist-packages (from statsmodels!=0.12.0,>=0.11->pmdarima) (0.5.1)\n",
            "Requirement already satisfied: six>=1.5 in /usr/local/lib/python3.7/dist-packages (from python-dateutil>=2.7.3->pandas>=0.19->pmdarima) (1.15.0)\n",
            "Done\n"
          ],
          "name": "stdout"
        }
      ]
    },
    {
      "cell_type": "code",
      "metadata": {
        "id": "-8TmSTKQfbZ7"
      },
      "source": [
        "import pandas as pd\n",
        "import numpy as np\n",
        "import plotly.express as px\n",
        "import plotly.graph_objects as go\n",
        "import matplotlib.pyplot as plt\n",
        "from pandas.plotting import lag_plot, autocorrelation_plot\n",
        "from statsmodels.graphics.tsaplots import plot_acf\n",
        "from statsmodels.tsa.stattools import adfuller\n",
        "from sklearn.metrics import mean_squared_error\n",
        "from sklearn.preprocessing import StandardScaler\n",
        "from pprint import pprint\n",
        "from math import sqrt\n",
        "import itertools\n",
        "\n",
        "from statsmodels.tsa.arima_model import ARIMA\n",
        "from statsmodels.tsa.ar_model import AR\n",
        "from pmdarima import auto_arima\n",
        "\n",
        "import warnings\n",
        "warnings.filterwarnings(\"ignore\")"
      ],
      "execution_count": 3,
      "outputs": []
    },
    {
      "cell_type": "code",
      "metadata": {
        "id": "J_Q3yRZffepL"
      },
      "source": [
        "from sklearn.preprocessing import OneHotEncoder\n",
        "from sklearn.preprocessing import LabelEncoder\n",
        "\n",
        "from sklearn.ensemble import RandomForestRegressor\n",
        "from sklearn.ensemble import StackingRegressor\n",
        "from sklearn.linear_model import RidgeCV\n",
        "from sklearn.svm import LinearSVR\n",
        "from sklearn import linear_model\n",
        "import xgboost as xgb\n",
        "\n",
        "SEED = 42"
      ],
      "execution_count": 4,
      "outputs": []
    },
    {
      "cell_type": "code",
      "metadata": {
        "id": "gpQltB_ffg0k"
      },
      "source": [
        "df = pd.read_csv(\"/content/gdrive/MyDrive/owid-covid-data.csv\")"
      ],
      "execution_count": 5,
      "outputs": []
    },
    {
      "cell_type": "code",
      "metadata": {
        "colab": {
          "base_uri": "https://localhost:8080/"
        },
        "id": "8wNOPwtefjnK",
        "outputId": "928c9dfa-ed54-4dd5-9919-6627e8f99fda"
      },
      "source": [
        "df.columns"
      ],
      "execution_count": 6,
      "outputs": [
        {
          "output_type": "execute_result",
          "data": {
            "text/plain": [
              "Index(['iso_code', 'continent', 'location', 'date', 'total_cases', 'new_cases',\n",
              "       'new_cases_smoothed', 'total_deaths', 'new_deaths',\n",
              "       'new_deaths_smoothed', 'total_cases_per_million',\n",
              "       'new_cases_per_million', 'new_cases_smoothed_per_million',\n",
              "       'total_deaths_per_million', 'new_deaths_per_million',\n",
              "       'new_deaths_smoothed_per_million', 'reproduction_rate', 'icu_patients',\n",
              "       'icu_patients_per_million', 'hosp_patients',\n",
              "       'hosp_patients_per_million', 'weekly_icu_admissions',\n",
              "       'weekly_icu_admissions_per_million', 'weekly_hosp_admissions',\n",
              "       'weekly_hosp_admissions_per_million', 'new_tests', 'total_tests',\n",
              "       'total_tests_per_thousand', 'new_tests_per_thousand',\n",
              "       'new_tests_smoothed', 'new_tests_smoothed_per_thousand',\n",
              "       'positive_rate', 'tests_per_case', 'tests_units', 'total_vaccinations',\n",
              "       'people_vaccinated', 'people_fully_vaccinated', 'new_vaccinations',\n",
              "       'new_vaccinations_smoothed', 'total_vaccinations_per_hundred',\n",
              "       'people_vaccinated_per_hundred', 'people_fully_vaccinated_per_hundred',\n",
              "       'new_vaccinations_smoothed_per_million', 'stringency_index',\n",
              "       'population', 'population_density', 'median_age', 'aged_65_older',\n",
              "       'aged_70_older', 'gdp_per_capita', 'extreme_poverty',\n",
              "       'cardiovasc_death_rate', 'diabetes_prevalence', 'female_smokers',\n",
              "       'male_smokers', 'handwashing_facilities', 'hospital_beds_per_thousand',\n",
              "       'life_expectancy', 'human_development_index', 'excess_mortality'],\n",
              "      dtype='object')"
            ]
          },
          "metadata": {
            "tags": []
          },
          "execution_count": 6
        }
      ]
    },
    {
      "cell_type": "code",
      "metadata": {
        "id": "P279j8bxfpPB"
      },
      "source": [
        "features = [\"location\", \"date\", \"total_cases\", \"new_cases\", \"total_deaths\", \"new_deaths\", \"reproduction_rate\", \"icu_patients\", \"hosp_patients\", \n",
        "            \"new_tests\", \"total_tests\", \"population\", ]"
      ],
      "execution_count": 7,
      "outputs": []
    },
    {
      "cell_type": "code",
      "metadata": {
        "id": "_yUKWExVgdjT"
      },
      "source": [
        "dataset_UK = df[df[\"location\"] == \"United Kingdom\"]  "
      ],
      "execution_count": 8,
      "outputs": []
    },
    {
      "cell_type": "code",
      "metadata": {
        "id": "mamPAuo6ghKS"
      },
      "source": [
        "dataset_UK = dataset_UK[dataset_UK[\"date\"] >= \"2020-05-01\"]"
      ],
      "execution_count": 9,
      "outputs": []
    },
    {
      "cell_type": "code",
      "metadata": {
        "colab": {
          "base_uri": "https://localhost:8080/",
          "height": 299
        },
        "id": "AoAWR-oOgoTK",
        "outputId": "cf941791-012a-4b57-8ad0-ef67b0006dcc"
      },
      "source": [
        "dataset_UK.head()"
      ],
      "execution_count": 10,
      "outputs": [
        {
          "output_type": "execute_result",
          "data": {
            "text/html": [
              "<div>\n",
              "<style scoped>\n",
              "    .dataframe tbody tr th:only-of-type {\n",
              "        vertical-align: middle;\n",
              "    }\n",
              "\n",
              "    .dataframe tbody tr th {\n",
              "        vertical-align: top;\n",
              "    }\n",
              "\n",
              "    .dataframe thead th {\n",
              "        text-align: right;\n",
              "    }\n",
              "</style>\n",
              "<table border=\"1\" class=\"dataframe\">\n",
              "  <thead>\n",
              "    <tr style=\"text-align: right;\">\n",
              "      <th></th>\n",
              "      <th>iso_code</th>\n",
              "      <th>continent</th>\n",
              "      <th>location</th>\n",
              "      <th>date</th>\n",
              "      <th>total_cases</th>\n",
              "      <th>new_cases</th>\n",
              "      <th>new_cases_smoothed</th>\n",
              "      <th>total_deaths</th>\n",
              "      <th>new_deaths</th>\n",
              "      <th>new_deaths_smoothed</th>\n",
              "      <th>total_cases_per_million</th>\n",
              "      <th>new_cases_per_million</th>\n",
              "      <th>new_cases_smoothed_per_million</th>\n",
              "      <th>total_deaths_per_million</th>\n",
              "      <th>new_deaths_per_million</th>\n",
              "      <th>new_deaths_smoothed_per_million</th>\n",
              "      <th>reproduction_rate</th>\n",
              "      <th>icu_patients</th>\n",
              "      <th>icu_patients_per_million</th>\n",
              "      <th>hosp_patients</th>\n",
              "      <th>hosp_patients_per_million</th>\n",
              "      <th>weekly_icu_admissions</th>\n",
              "      <th>weekly_icu_admissions_per_million</th>\n",
              "      <th>weekly_hosp_admissions</th>\n",
              "      <th>weekly_hosp_admissions_per_million</th>\n",
              "      <th>new_tests</th>\n",
              "      <th>total_tests</th>\n",
              "      <th>total_tests_per_thousand</th>\n",
              "      <th>new_tests_per_thousand</th>\n",
              "      <th>new_tests_smoothed</th>\n",
              "      <th>new_tests_smoothed_per_thousand</th>\n",
              "      <th>positive_rate</th>\n",
              "      <th>tests_per_case</th>\n",
              "      <th>tests_units</th>\n",
              "      <th>total_vaccinations</th>\n",
              "      <th>people_vaccinated</th>\n",
              "      <th>people_fully_vaccinated</th>\n",
              "      <th>new_vaccinations</th>\n",
              "      <th>new_vaccinations_smoothed</th>\n",
              "      <th>total_vaccinations_per_hundred</th>\n",
              "      <th>people_vaccinated_per_hundred</th>\n",
              "      <th>people_fully_vaccinated_per_hundred</th>\n",
              "      <th>new_vaccinations_smoothed_per_million</th>\n",
              "      <th>stringency_index</th>\n",
              "      <th>population</th>\n",
              "      <th>population_density</th>\n",
              "      <th>median_age</th>\n",
              "      <th>aged_65_older</th>\n",
              "      <th>aged_70_older</th>\n",
              "      <th>gdp_per_capita</th>\n",
              "      <th>extreme_poverty</th>\n",
              "      <th>cardiovasc_death_rate</th>\n",
              "      <th>diabetes_prevalence</th>\n",
              "      <th>female_smokers</th>\n",
              "      <th>male_smokers</th>\n",
              "      <th>handwashing_facilities</th>\n",
              "      <th>hospital_beds_per_thousand</th>\n",
              "      <th>life_expectancy</th>\n",
              "      <th>human_development_index</th>\n",
              "      <th>excess_mortality</th>\n",
              "    </tr>\n",
              "  </thead>\n",
              "  <tbody>\n",
              "    <tr>\n",
              "      <th>90078</th>\n",
              "      <td>GBR</td>\n",
              "      <td>Europe</td>\n",
              "      <td>United Kingdom</td>\n",
              "      <td>2020-05-01</td>\n",
              "      <td>183501.0</td>\n",
              "      <td>4730.0</td>\n",
              "      <td>4544.571</td>\n",
              "      <td>27454.0</td>\n",
              "      <td>700.0</td>\n",
              "      <td>654.429</td>\n",
              "      <td>2703.076</td>\n",
              "      <td>69.676</td>\n",
              "      <td>66.944</td>\n",
              "      <td>404.413</td>\n",
              "      <td>10.311</td>\n",
              "      <td>9.640</td>\n",
              "      <td>0.94</td>\n",
              "      <td>2178.0</td>\n",
              "      <td>32.083</td>\n",
              "      <td>14723.0</td>\n",
              "      <td>216.878</td>\n",
              "      <td>NaN</td>\n",
              "      <td>NaN</td>\n",
              "      <td>NaN</td>\n",
              "      <td>NaN</td>\n",
              "      <td>74142.0</td>\n",
              "      <td>996826.0</td>\n",
              "      <td>14.684</td>\n",
              "      <td>1.092</td>\n",
              "      <td>51787.0</td>\n",
              "      <td>0.763</td>\n",
              "      <td>0.088</td>\n",
              "      <td>11.4</td>\n",
              "      <td>tests performed</td>\n",
              "      <td>NaN</td>\n",
              "      <td>NaN</td>\n",
              "      <td>NaN</td>\n",
              "      <td>NaN</td>\n",
              "      <td>NaN</td>\n",
              "      <td>NaN</td>\n",
              "      <td>NaN</td>\n",
              "      <td>NaN</td>\n",
              "      <td>NaN</td>\n",
              "      <td>79.63</td>\n",
              "      <td>67886004.0</td>\n",
              "      <td>272.898</td>\n",
              "      <td>40.8</td>\n",
              "      <td>18.517</td>\n",
              "      <td>12.527</td>\n",
              "      <td>39753.244</td>\n",
              "      <td>0.2</td>\n",
              "      <td>122.137</td>\n",
              "      <td>4.28</td>\n",
              "      <td>20.0</td>\n",
              "      <td>24.7</td>\n",
              "      <td>NaN</td>\n",
              "      <td>2.54</td>\n",
              "      <td>81.32</td>\n",
              "      <td>0.932</td>\n",
              "      <td>NaN</td>\n",
              "    </tr>\n",
              "    <tr>\n",
              "      <th>90079</th>\n",
              "      <td>GBR</td>\n",
              "      <td>Europe</td>\n",
              "      <td>United Kingdom</td>\n",
              "      <td>2020-05-02</td>\n",
              "      <td>186731.0</td>\n",
              "      <td>3230.0</td>\n",
              "      <td>4468.286</td>\n",
              "      <td>28039.0</td>\n",
              "      <td>585.0</td>\n",
              "      <td>621.429</td>\n",
              "      <td>2750.655</td>\n",
              "      <td>47.580</td>\n",
              "      <td>65.820</td>\n",
              "      <td>413.031</td>\n",
              "      <td>8.617</td>\n",
              "      <td>9.154</td>\n",
              "      <td>0.90</td>\n",
              "      <td>2068.0</td>\n",
              "      <td>30.463</td>\n",
              "      <td>14380.0</td>\n",
              "      <td>211.826</td>\n",
              "      <td>NaN</td>\n",
              "      <td>NaN</td>\n",
              "      <td>NaN</td>\n",
              "      <td>NaN</td>\n",
              "      <td>63559.0</td>\n",
              "      <td>1060387.0</td>\n",
              "      <td>15.620</td>\n",
              "      <td>0.936</td>\n",
              "      <td>56716.0</td>\n",
              "      <td>0.835</td>\n",
              "      <td>0.079</td>\n",
              "      <td>12.7</td>\n",
              "      <td>tests performed</td>\n",
              "      <td>NaN</td>\n",
              "      <td>NaN</td>\n",
              "      <td>NaN</td>\n",
              "      <td>NaN</td>\n",
              "      <td>NaN</td>\n",
              "      <td>NaN</td>\n",
              "      <td>NaN</td>\n",
              "      <td>NaN</td>\n",
              "      <td>NaN</td>\n",
              "      <td>79.63</td>\n",
              "      <td>67886004.0</td>\n",
              "      <td>272.898</td>\n",
              "      <td>40.8</td>\n",
              "      <td>18.517</td>\n",
              "      <td>12.527</td>\n",
              "      <td>39753.244</td>\n",
              "      <td>0.2</td>\n",
              "      <td>122.137</td>\n",
              "      <td>4.28</td>\n",
              "      <td>20.0</td>\n",
              "      <td>24.7</td>\n",
              "      <td>NaN</td>\n",
              "      <td>2.54</td>\n",
              "      <td>81.32</td>\n",
              "      <td>0.932</td>\n",
              "      <td>NaN</td>\n",
              "    </tr>\n",
              "    <tr>\n",
              "      <th>90080</th>\n",
              "      <td>GBR</td>\n",
              "      <td>Europe</td>\n",
              "      <td>United Kingdom</td>\n",
              "      <td>2020-05-03</td>\n",
              "      <td>189708.0</td>\n",
              "      <td>2977.0</td>\n",
              "      <td>4397.429</td>\n",
              "      <td>28292.0</td>\n",
              "      <td>253.0</td>\n",
              "      <td>605.571</td>\n",
              "      <td>2794.508</td>\n",
              "      <td>43.853</td>\n",
              "      <td>64.777</td>\n",
              "      <td>416.757</td>\n",
              "      <td>3.727</td>\n",
              "      <td>8.920</td>\n",
              "      <td>0.87</td>\n",
              "      <td>2009.0</td>\n",
              "      <td>29.594</td>\n",
              "      <td>14188.0</td>\n",
              "      <td>208.997</td>\n",
              "      <td>NaN</td>\n",
              "      <td>NaN</td>\n",
              "      <td>9616.0</td>\n",
              "      <td>141.649</td>\n",
              "      <td>68203.0</td>\n",
              "      <td>1128590.0</td>\n",
              "      <td>16.625</td>\n",
              "      <td>1.005</td>\n",
              "      <td>61943.0</td>\n",
              "      <td>0.912</td>\n",
              "      <td>0.071</td>\n",
              "      <td>14.1</td>\n",
              "      <td>tests performed</td>\n",
              "      <td>NaN</td>\n",
              "      <td>NaN</td>\n",
              "      <td>NaN</td>\n",
              "      <td>NaN</td>\n",
              "      <td>NaN</td>\n",
              "      <td>NaN</td>\n",
              "      <td>NaN</td>\n",
              "      <td>NaN</td>\n",
              "      <td>NaN</td>\n",
              "      <td>79.63</td>\n",
              "      <td>67886004.0</td>\n",
              "      <td>272.898</td>\n",
              "      <td>40.8</td>\n",
              "      <td>18.517</td>\n",
              "      <td>12.527</td>\n",
              "      <td>39753.244</td>\n",
              "      <td>0.2</td>\n",
              "      <td>122.137</td>\n",
              "      <td>4.28</td>\n",
              "      <td>20.0</td>\n",
              "      <td>24.7</td>\n",
              "      <td>NaN</td>\n",
              "      <td>2.54</td>\n",
              "      <td>81.32</td>\n",
              "      <td>0.932</td>\n",
              "      <td>77.33</td>\n",
              "    </tr>\n",
              "    <tr>\n",
              "      <th>90081</th>\n",
              "      <td>GBR</td>\n",
              "      <td>Europe</td>\n",
              "      <td>United Kingdom</td>\n",
              "      <td>2020-05-04</td>\n",
              "      <td>193091.0</td>\n",
              "      <td>3383.0</td>\n",
              "      <td>4208.714</td>\n",
              "      <td>28565.0</td>\n",
              "      <td>273.0</td>\n",
              "      <td>598.429</td>\n",
              "      <td>2844.342</td>\n",
              "      <td>49.834</td>\n",
              "      <td>61.997</td>\n",
              "      <td>420.779</td>\n",
              "      <td>4.021</td>\n",
              "      <td>8.815</td>\n",
              "      <td>0.82</td>\n",
              "      <td>1936.0</td>\n",
              "      <td>28.518</td>\n",
              "      <td>14097.0</td>\n",
              "      <td>207.657</td>\n",
              "      <td>NaN</td>\n",
              "      <td>NaN</td>\n",
              "      <td>NaN</td>\n",
              "      <td>NaN</td>\n",
              "      <td>72630.0</td>\n",
              "      <td>1208190.0</td>\n",
              "      <td>17.797</td>\n",
              "      <td>1.070</td>\n",
              "      <td>68805.0</td>\n",
              "      <td>1.014</td>\n",
              "      <td>0.061</td>\n",
              "      <td>16.3</td>\n",
              "      <td>tests performed</td>\n",
              "      <td>NaN</td>\n",
              "      <td>NaN</td>\n",
              "      <td>NaN</td>\n",
              "      <td>NaN</td>\n",
              "      <td>NaN</td>\n",
              "      <td>NaN</td>\n",
              "      <td>NaN</td>\n",
              "      <td>NaN</td>\n",
              "      <td>NaN</td>\n",
              "      <td>79.63</td>\n",
              "      <td>67886004.0</td>\n",
              "      <td>272.898</td>\n",
              "      <td>40.8</td>\n",
              "      <td>18.517</td>\n",
              "      <td>12.527</td>\n",
              "      <td>39753.244</td>\n",
              "      <td>0.2</td>\n",
              "      <td>122.137</td>\n",
              "      <td>4.28</td>\n",
              "      <td>20.0</td>\n",
              "      <td>24.7</td>\n",
              "      <td>NaN</td>\n",
              "      <td>2.54</td>\n",
              "      <td>81.32</td>\n",
              "      <td>0.932</td>\n",
              "      <td>NaN</td>\n",
              "    </tr>\n",
              "    <tr>\n",
              "      <th>90082</th>\n",
              "      <td>GBR</td>\n",
              "      <td>Europe</td>\n",
              "      <td>United Kingdom</td>\n",
              "      <td>2020-05-05</td>\n",
              "      <td>196780.0</td>\n",
              "      <td>3689.0</td>\n",
              "      <td>4060.429</td>\n",
              "      <td>29290.0</td>\n",
              "      <td>725.0</td>\n",
              "      <td>563.286</td>\n",
              "      <td>2898.683</td>\n",
              "      <td>54.341</td>\n",
              "      <td>59.812</td>\n",
              "      <td>431.459</td>\n",
              "      <td>10.680</td>\n",
              "      <td>8.298</td>\n",
              "      <td>0.81</td>\n",
              "      <td>1874.0</td>\n",
              "      <td>27.605</td>\n",
              "      <td>13723.0</td>\n",
              "      <td>202.148</td>\n",
              "      <td>NaN</td>\n",
              "      <td>NaN</td>\n",
              "      <td>NaN</td>\n",
              "      <td>NaN</td>\n",
              "      <td>66919.0</td>\n",
              "      <td>1270344.0</td>\n",
              "      <td>18.713</td>\n",
              "      <td>0.986</td>\n",
              "      <td>71218.0</td>\n",
              "      <td>1.049</td>\n",
              "      <td>0.057</td>\n",
              "      <td>17.5</td>\n",
              "      <td>tests performed</td>\n",
              "      <td>NaN</td>\n",
              "      <td>NaN</td>\n",
              "      <td>NaN</td>\n",
              "      <td>NaN</td>\n",
              "      <td>NaN</td>\n",
              "      <td>NaN</td>\n",
              "      <td>NaN</td>\n",
              "      <td>NaN</td>\n",
              "      <td>NaN</td>\n",
              "      <td>79.63</td>\n",
              "      <td>67886004.0</td>\n",
              "      <td>272.898</td>\n",
              "      <td>40.8</td>\n",
              "      <td>18.517</td>\n",
              "      <td>12.527</td>\n",
              "      <td>39753.244</td>\n",
              "      <td>0.2</td>\n",
              "      <td>122.137</td>\n",
              "      <td>4.28</td>\n",
              "      <td>20.0</td>\n",
              "      <td>24.7</td>\n",
              "      <td>NaN</td>\n",
              "      <td>2.54</td>\n",
              "      <td>81.32</td>\n",
              "      <td>0.932</td>\n",
              "      <td>NaN</td>\n",
              "    </tr>\n",
              "  </tbody>\n",
              "</table>\n",
              "</div>"
            ],
            "text/plain": [
              "      iso_code continent  ... human_development_index excess_mortality\n",
              "90078      GBR    Europe  ...                   0.932              NaN\n",
              "90079      GBR    Europe  ...                   0.932              NaN\n",
              "90080      GBR    Europe  ...                   0.932            77.33\n",
              "90081      GBR    Europe  ...                   0.932              NaN\n",
              "90082      GBR    Europe  ...                   0.932              NaN\n",
              "\n",
              "[5 rows x 60 columns]"
            ]
          },
          "metadata": {
            "tags": []
          },
          "execution_count": 10
        }
      ]
    },
    {
      "cell_type": "code",
      "metadata": {
        "colab": {
          "base_uri": "https://localhost:8080/",
          "height": 299
        },
        "id": "MAMcCiUagqMz",
        "outputId": "ae6b03ab-ea07-4efb-f8c4-abc2a8e9fdc0"
      },
      "source": [
        "dataset_UK.tail()"
      ],
      "execution_count": 11,
      "outputs": [
        {
          "output_type": "execute_result",
          "data": {
            "text/html": [
              "<div>\n",
              "<style scoped>\n",
              "    .dataframe tbody tr th:only-of-type {\n",
              "        vertical-align: middle;\n",
              "    }\n",
              "\n",
              "    .dataframe tbody tr th {\n",
              "        vertical-align: top;\n",
              "    }\n",
              "\n",
              "    .dataframe thead th {\n",
              "        text-align: right;\n",
              "    }\n",
              "</style>\n",
              "<table border=\"1\" class=\"dataframe\">\n",
              "  <thead>\n",
              "    <tr style=\"text-align: right;\">\n",
              "      <th></th>\n",
              "      <th>iso_code</th>\n",
              "      <th>continent</th>\n",
              "      <th>location</th>\n",
              "      <th>date</th>\n",
              "      <th>total_cases</th>\n",
              "      <th>new_cases</th>\n",
              "      <th>new_cases_smoothed</th>\n",
              "      <th>total_deaths</th>\n",
              "      <th>new_deaths</th>\n",
              "      <th>new_deaths_smoothed</th>\n",
              "      <th>total_cases_per_million</th>\n",
              "      <th>new_cases_per_million</th>\n",
              "      <th>new_cases_smoothed_per_million</th>\n",
              "      <th>total_deaths_per_million</th>\n",
              "      <th>new_deaths_per_million</th>\n",
              "      <th>new_deaths_smoothed_per_million</th>\n",
              "      <th>reproduction_rate</th>\n",
              "      <th>icu_patients</th>\n",
              "      <th>icu_patients_per_million</th>\n",
              "      <th>hosp_patients</th>\n",
              "      <th>hosp_patients_per_million</th>\n",
              "      <th>weekly_icu_admissions</th>\n",
              "      <th>weekly_icu_admissions_per_million</th>\n",
              "      <th>weekly_hosp_admissions</th>\n",
              "      <th>weekly_hosp_admissions_per_million</th>\n",
              "      <th>new_tests</th>\n",
              "      <th>total_tests</th>\n",
              "      <th>total_tests_per_thousand</th>\n",
              "      <th>new_tests_per_thousand</th>\n",
              "      <th>new_tests_smoothed</th>\n",
              "      <th>new_tests_smoothed_per_thousand</th>\n",
              "      <th>positive_rate</th>\n",
              "      <th>tests_per_case</th>\n",
              "      <th>tests_units</th>\n",
              "      <th>total_vaccinations</th>\n",
              "      <th>people_vaccinated</th>\n",
              "      <th>people_fully_vaccinated</th>\n",
              "      <th>new_vaccinations</th>\n",
              "      <th>new_vaccinations_smoothed</th>\n",
              "      <th>total_vaccinations_per_hundred</th>\n",
              "      <th>people_vaccinated_per_hundred</th>\n",
              "      <th>people_fully_vaccinated_per_hundred</th>\n",
              "      <th>new_vaccinations_smoothed_per_million</th>\n",
              "      <th>stringency_index</th>\n",
              "      <th>population</th>\n",
              "      <th>population_density</th>\n",
              "      <th>median_age</th>\n",
              "      <th>aged_65_older</th>\n",
              "      <th>aged_70_older</th>\n",
              "      <th>gdp_per_capita</th>\n",
              "      <th>extreme_poverty</th>\n",
              "      <th>cardiovasc_death_rate</th>\n",
              "      <th>diabetes_prevalence</th>\n",
              "      <th>female_smokers</th>\n",
              "      <th>male_smokers</th>\n",
              "      <th>handwashing_facilities</th>\n",
              "      <th>hospital_beds_per_thousand</th>\n",
              "      <th>life_expectancy</th>\n",
              "      <th>human_development_index</th>\n",
              "      <th>excess_mortality</th>\n",
              "    </tr>\n",
              "  </thead>\n",
              "  <tbody>\n",
              "    <tr>\n",
              "      <th>90482</th>\n",
              "      <td>GBR</td>\n",
              "      <td>Europe</td>\n",
              "      <td>United Kingdom</td>\n",
              "      <td>2021-06-09</td>\n",
              "      <td>4551694.0</td>\n",
              "      <td>7322.0</td>\n",
              "      <td>5871.000</td>\n",
              "      <td>128124.0</td>\n",
              "      <td>6.0</td>\n",
              "      <td>9.571</td>\n",
              "      <td>67049.078</td>\n",
              "      <td>107.857</td>\n",
              "      <td>86.483</td>\n",
              "      <td>1887.340</td>\n",
              "      <td>0.088</td>\n",
              "      <td>0.141</td>\n",
              "      <td>1.48</td>\n",
              "      <td>159.0</td>\n",
              "      <td>2.342</td>\n",
              "      <td>1058.0</td>\n",
              "      <td>15.585</td>\n",
              "      <td>NaN</td>\n",
              "      <td>NaN</td>\n",
              "      <td>NaN</td>\n",
              "      <td>NaN</td>\n",
              "      <td>1085999.0</td>\n",
              "      <td>188125558.0</td>\n",
              "      <td>2771.198</td>\n",
              "      <td>15.997</td>\n",
              "      <td>914986.0</td>\n",
              "      <td>13.478</td>\n",
              "      <td>0.006</td>\n",
              "      <td>155.8</td>\n",
              "      <td>tests performed</td>\n",
              "      <td>69743980.0</td>\n",
              "      <td>40886878.0</td>\n",
              "      <td>28857102.0</td>\n",
              "      <td>492817.0</td>\n",
              "      <td>509036.0</td>\n",
              "      <td>102.74</td>\n",
              "      <td>60.23</td>\n",
              "      <td>42.51</td>\n",
              "      <td>7498.0</td>\n",
              "      <td>NaN</td>\n",
              "      <td>67886004.0</td>\n",
              "      <td>272.898</td>\n",
              "      <td>40.8</td>\n",
              "      <td>18.517</td>\n",
              "      <td>12.527</td>\n",
              "      <td>39753.244</td>\n",
              "      <td>0.2</td>\n",
              "      <td>122.137</td>\n",
              "      <td>4.28</td>\n",
              "      <td>20.0</td>\n",
              "      <td>24.7</td>\n",
              "      <td>NaN</td>\n",
              "      <td>2.54</td>\n",
              "      <td>81.32</td>\n",
              "      <td>0.932</td>\n",
              "      <td>NaN</td>\n",
              "    </tr>\n",
              "    <tr>\n",
              "      <th>90483</th>\n",
              "      <td>GBR</td>\n",
              "      <td>Europe</td>\n",
              "      <td>United Kingdom</td>\n",
              "      <td>2021-06-10</td>\n",
              "      <td>4558933.0</td>\n",
              "      <td>7239.0</td>\n",
              "      <td>6165.000</td>\n",
              "      <td>128131.0</td>\n",
              "      <td>7.0</td>\n",
              "      <td>8.000</td>\n",
              "      <td>67155.713</td>\n",
              "      <td>106.635</td>\n",
              "      <td>90.814</td>\n",
              "      <td>1887.444</td>\n",
              "      <td>0.103</td>\n",
              "      <td>0.118</td>\n",
              "      <td>NaN</td>\n",
              "      <td>158.0</td>\n",
              "      <td>2.327</td>\n",
              "      <td>1089.0</td>\n",
              "      <td>16.042</td>\n",
              "      <td>NaN</td>\n",
              "      <td>NaN</td>\n",
              "      <td>NaN</td>\n",
              "      <td>NaN</td>\n",
              "      <td>NaN</td>\n",
              "      <td>NaN</td>\n",
              "      <td>NaN</td>\n",
              "      <td>NaN</td>\n",
              "      <td>NaN</td>\n",
              "      <td>NaN</td>\n",
              "      <td>NaN</td>\n",
              "      <td>NaN</td>\n",
              "      <td>NaN</td>\n",
              "      <td>70253625.0</td>\n",
              "      <td>41088485.0</td>\n",
              "      <td>29165140.0</td>\n",
              "      <td>509645.0</td>\n",
              "      <td>500570.0</td>\n",
              "      <td>103.49</td>\n",
              "      <td>60.53</td>\n",
              "      <td>42.96</td>\n",
              "      <td>7374.0</td>\n",
              "      <td>NaN</td>\n",
              "      <td>67886004.0</td>\n",
              "      <td>272.898</td>\n",
              "      <td>40.8</td>\n",
              "      <td>18.517</td>\n",
              "      <td>12.527</td>\n",
              "      <td>39753.244</td>\n",
              "      <td>0.2</td>\n",
              "      <td>122.137</td>\n",
              "      <td>4.28</td>\n",
              "      <td>20.0</td>\n",
              "      <td>24.7</td>\n",
              "      <td>NaN</td>\n",
              "      <td>2.54</td>\n",
              "      <td>81.32</td>\n",
              "      <td>0.932</td>\n",
              "      <td>NaN</td>\n",
              "    </tr>\n",
              "    <tr>\n",
              "      <th>90484</th>\n",
              "      <td>GBR</td>\n",
              "      <td>Europe</td>\n",
              "      <td>United Kingdom</td>\n",
              "      <td>2021-06-11</td>\n",
              "      <td>4566893.0</td>\n",
              "      <td>7960.0</td>\n",
              "      <td>6424.429</td>\n",
              "      <td>128148.0</td>\n",
              "      <td>17.0</td>\n",
              "      <td>8.857</td>\n",
              "      <td>67272.968</td>\n",
              "      <td>117.255</td>\n",
              "      <td>94.636</td>\n",
              "      <td>1887.694</td>\n",
              "      <td>0.250</td>\n",
              "      <td>0.130</td>\n",
              "      <td>NaN</td>\n",
              "      <td>NaN</td>\n",
              "      <td>NaN</td>\n",
              "      <td>NaN</td>\n",
              "      <td>NaN</td>\n",
              "      <td>NaN</td>\n",
              "      <td>NaN</td>\n",
              "      <td>NaN</td>\n",
              "      <td>NaN</td>\n",
              "      <td>NaN</td>\n",
              "      <td>NaN</td>\n",
              "      <td>NaN</td>\n",
              "      <td>NaN</td>\n",
              "      <td>NaN</td>\n",
              "      <td>NaN</td>\n",
              "      <td>NaN</td>\n",
              "      <td>NaN</td>\n",
              "      <td>NaN</td>\n",
              "      <td>70769348.0</td>\n",
              "      <td>41297016.0</td>\n",
              "      <td>29472332.0</td>\n",
              "      <td>515723.0</td>\n",
              "      <td>493108.0</td>\n",
              "      <td>104.25</td>\n",
              "      <td>60.83</td>\n",
              "      <td>43.41</td>\n",
              "      <td>7264.0</td>\n",
              "      <td>NaN</td>\n",
              "      <td>67886004.0</td>\n",
              "      <td>272.898</td>\n",
              "      <td>40.8</td>\n",
              "      <td>18.517</td>\n",
              "      <td>12.527</td>\n",
              "      <td>39753.244</td>\n",
              "      <td>0.2</td>\n",
              "      <td>122.137</td>\n",
              "      <td>4.28</td>\n",
              "      <td>20.0</td>\n",
              "      <td>24.7</td>\n",
              "      <td>NaN</td>\n",
              "      <td>2.54</td>\n",
              "      <td>81.32</td>\n",
              "      <td>0.932</td>\n",
              "      <td>NaN</td>\n",
              "    </tr>\n",
              "    <tr>\n",
              "      <th>90485</th>\n",
              "      <td>GBR</td>\n",
              "      <td>Europe</td>\n",
              "      <td>United Kingdom</td>\n",
              "      <td>2021-06-12</td>\n",
              "      <td>4574445.0</td>\n",
              "      <td>7552.0</td>\n",
              "      <td>6695.429</td>\n",
              "      <td>128160.0</td>\n",
              "      <td>12.0</td>\n",
              "      <td>8.714</td>\n",
              "      <td>67384.214</td>\n",
              "      <td>111.245</td>\n",
              "      <td>98.628</td>\n",
              "      <td>1887.871</td>\n",
              "      <td>0.177</td>\n",
              "      <td>0.128</td>\n",
              "      <td>NaN</td>\n",
              "      <td>NaN</td>\n",
              "      <td>NaN</td>\n",
              "      <td>NaN</td>\n",
              "      <td>NaN</td>\n",
              "      <td>NaN</td>\n",
              "      <td>NaN</td>\n",
              "      <td>NaN</td>\n",
              "      <td>NaN</td>\n",
              "      <td>NaN</td>\n",
              "      <td>NaN</td>\n",
              "      <td>NaN</td>\n",
              "      <td>NaN</td>\n",
              "      <td>NaN</td>\n",
              "      <td>NaN</td>\n",
              "      <td>NaN</td>\n",
              "      <td>NaN</td>\n",
              "      <td>NaN</td>\n",
              "      <td>71343859.0</td>\n",
              "      <td>41551201.0</td>\n",
              "      <td>29792658.0</td>\n",
              "      <td>574511.0</td>\n",
              "      <td>478468.0</td>\n",
              "      <td>105.09</td>\n",
              "      <td>61.21</td>\n",
              "      <td>43.89</td>\n",
              "      <td>7048.0</td>\n",
              "      <td>NaN</td>\n",
              "      <td>67886004.0</td>\n",
              "      <td>272.898</td>\n",
              "      <td>40.8</td>\n",
              "      <td>18.517</td>\n",
              "      <td>12.527</td>\n",
              "      <td>39753.244</td>\n",
              "      <td>0.2</td>\n",
              "      <td>122.137</td>\n",
              "      <td>4.28</td>\n",
              "      <td>20.0</td>\n",
              "      <td>24.7</td>\n",
              "      <td>NaN</td>\n",
              "      <td>2.54</td>\n",
              "      <td>81.32</td>\n",
              "      <td>0.932</td>\n",
              "      <td>NaN</td>\n",
              "    </tr>\n",
              "    <tr>\n",
              "      <th>90486</th>\n",
              "      <td>GBR</td>\n",
              "      <td>Europe</td>\n",
              "      <td>United Kingdom</td>\n",
              "      <td>2021-06-13</td>\n",
              "      <td>4581779.0</td>\n",
              "      <td>7334.0</td>\n",
              "      <td>6996.714</td>\n",
              "      <td>128168.0</td>\n",
              "      <td>8.0</td>\n",
              "      <td>9.286</td>\n",
              "      <td>67492.248</td>\n",
              "      <td>108.034</td>\n",
              "      <td>103.066</td>\n",
              "      <td>1887.989</td>\n",
              "      <td>0.118</td>\n",
              "      <td>0.137</td>\n",
              "      <td>NaN</td>\n",
              "      <td>NaN</td>\n",
              "      <td>NaN</td>\n",
              "      <td>NaN</td>\n",
              "      <td>NaN</td>\n",
              "      <td>NaN</td>\n",
              "      <td>NaN</td>\n",
              "      <td>NaN</td>\n",
              "      <td>NaN</td>\n",
              "      <td>NaN</td>\n",
              "      <td>NaN</td>\n",
              "      <td>NaN</td>\n",
              "      <td>NaN</td>\n",
              "      <td>NaN</td>\n",
              "      <td>NaN</td>\n",
              "      <td>NaN</td>\n",
              "      <td>NaN</td>\n",
              "      <td>NaN</td>\n",
              "      <td>NaN</td>\n",
              "      <td>NaN</td>\n",
              "      <td>NaN</td>\n",
              "      <td>NaN</td>\n",
              "      <td>NaN</td>\n",
              "      <td>NaN</td>\n",
              "      <td>NaN</td>\n",
              "      <td>NaN</td>\n",
              "      <td>NaN</td>\n",
              "      <td>NaN</td>\n",
              "      <td>67886004.0</td>\n",
              "      <td>272.898</td>\n",
              "      <td>40.8</td>\n",
              "      <td>18.517</td>\n",
              "      <td>12.527</td>\n",
              "      <td>39753.244</td>\n",
              "      <td>0.2</td>\n",
              "      <td>122.137</td>\n",
              "      <td>4.28</td>\n",
              "      <td>20.0</td>\n",
              "      <td>24.7</td>\n",
              "      <td>NaN</td>\n",
              "      <td>2.54</td>\n",
              "      <td>81.32</td>\n",
              "      <td>0.932</td>\n",
              "      <td>NaN</td>\n",
              "    </tr>\n",
              "  </tbody>\n",
              "</table>\n",
              "</div>"
            ],
            "text/plain": [
              "      iso_code continent  ... human_development_index excess_mortality\n",
              "90482      GBR    Europe  ...                   0.932              NaN\n",
              "90483      GBR    Europe  ...                   0.932              NaN\n",
              "90484      GBR    Europe  ...                   0.932              NaN\n",
              "90485      GBR    Europe  ...                   0.932              NaN\n",
              "90486      GBR    Europe  ...                   0.932              NaN\n",
              "\n",
              "[5 rows x 60 columns]"
            ]
          },
          "metadata": {
            "tags": []
          },
          "execution_count": 11
        }
      ]
    },
    {
      "cell_type": "code",
      "metadata": {
        "colab": {
          "base_uri": "https://localhost:8080/"
        },
        "id": "nKOz8iqjgsu8",
        "outputId": "c60b3d69-57e0-44c9-baeb-17f66f696903"
      },
      "source": [
        "len(dataset_UK)"
      ],
      "execution_count": 12,
      "outputs": [
        {
          "output_type": "execute_result",
          "data": {
            "text/plain": [
              "409"
            ]
          },
          "metadata": {
            "tags": []
          },
          "execution_count": 12
        }
      ]
    },
    {
      "cell_type": "code",
      "metadata": {
        "id": "lW5ezg1ggv8W"
      },
      "source": [
        "dataset_UK = dataset_UK[features]"
      ],
      "execution_count": 13,
      "outputs": []
    },
    {
      "cell_type": "code",
      "metadata": {
        "id": "9Fj3v5_Igxo2"
      },
      "source": [
        "dataset_UK[\"Mortality_Rate\"] = \" \""
      ],
      "execution_count": 14,
      "outputs": []
    },
    {
      "cell_type": "code",
      "metadata": {
        "id": "l9-o3-Qig0br"
      },
      "source": [
        "dataset_UK[\"Mortality_Rate\"] = dataset_UK[\"new_deaths\"]/dataset_UK[\"population\"]"
      ],
      "execution_count": 15,
      "outputs": []
    },
    {
      "cell_type": "code",
      "metadata": {
        "colab": {
          "base_uri": "https://localhost:8080/"
        },
        "id": "3IHNgzaDg66i",
        "outputId": "ac367c9d-0b93-4daf-dca0-3af1eb49e3d4"
      },
      "source": [
        "dataset_UK.isna().sum()"
      ],
      "execution_count": 16,
      "outputs": [
        {
          "output_type": "execute_result",
          "data": {
            "text/plain": [
              "location             0\n",
              "date                 0\n",
              "total_cases          0\n",
              "new_cases            0\n",
              "total_deaths         0\n",
              "new_deaths           0\n",
              "reproduction_rate    4\n",
              "icu_patients         3\n",
              "hosp_patients        3\n",
              "new_tests            4\n",
              "total_tests          4\n",
              "population           0\n",
              "Mortality_Rate       0\n",
              "dtype: int64"
            ]
          },
          "metadata": {
            "tags": []
          },
          "execution_count": 16
        }
      ]
    },
    {
      "cell_type": "code",
      "metadata": {
        "colab": {
          "base_uri": "https://localhost:8080/"
        },
        "id": "xTWQHOoNigHY",
        "outputId": "c4f37469-3a52-4560-ed82-c2b31e57a24b"
      },
      "source": [
        "dataset_UK[\"reproduction_rate\"].tail()"
      ],
      "execution_count": 17,
      "outputs": [
        {
          "output_type": "execute_result",
          "data": {
            "text/plain": [
              "90482    1.48\n",
              "90483     NaN\n",
              "90484     NaN\n",
              "90485     NaN\n",
              "90486     NaN\n",
              "Name: reproduction_rate, dtype: float64"
            ]
          },
          "metadata": {
            "tags": []
          },
          "execution_count": 17
        }
      ]
    },
    {
      "cell_type": "code",
      "metadata": {
        "colab": {
          "base_uri": "https://localhost:8080/"
        },
        "id": "0KLqkfJKigNy",
        "outputId": "0c6cab20-7303-4230-fda8-c5853c558a18"
      },
      "source": [
        "dataset_UK[\"icu_patients\"].tail()"
      ],
      "execution_count": 18,
      "outputs": [
        {
          "output_type": "execute_result",
          "data": {
            "text/plain": [
              "90482    159.0\n",
              "90483    158.0\n",
              "90484      NaN\n",
              "90485      NaN\n",
              "90486      NaN\n",
              "Name: icu_patients, dtype: float64"
            ]
          },
          "metadata": {
            "tags": []
          },
          "execution_count": 18
        }
      ]
    },
    {
      "cell_type": "code",
      "metadata": {
        "colab": {
          "base_uri": "https://localhost:8080/"
        },
        "id": "sByzED_6igPw",
        "outputId": "81bf22a5-ee8b-41e2-836f-fa9b17567631"
      },
      "source": [
        "dataset_UK[\"hosp_patients\"].tail()"
      ],
      "execution_count": 19,
      "outputs": [
        {
          "output_type": "execute_result",
          "data": {
            "text/plain": [
              "90482    1058.0\n",
              "90483    1089.0\n",
              "90484       NaN\n",
              "90485       NaN\n",
              "90486       NaN\n",
              "Name: hosp_patients, dtype: float64"
            ]
          },
          "metadata": {
            "tags": []
          },
          "execution_count": 19
        }
      ]
    },
    {
      "cell_type": "code",
      "metadata": {
        "colab": {
          "base_uri": "https://localhost:8080/"
        },
        "id": "zR9KHWGWigS4",
        "outputId": "beb9b7a8-8a4d-49ed-d0f1-0d532192edeb"
      },
      "source": [
        "dataset_UK[\"new_tests\"].tail()"
      ],
      "execution_count": 20,
      "outputs": [
        {
          "output_type": "execute_result",
          "data": {
            "text/plain": [
              "90482    1085999.0\n",
              "90483          NaN\n",
              "90484          NaN\n",
              "90485          NaN\n",
              "90486          NaN\n",
              "Name: new_tests, dtype: float64"
            ]
          },
          "metadata": {
            "tags": []
          },
          "execution_count": 20
        }
      ]
    },
    {
      "cell_type": "code",
      "metadata": {
        "colab": {
          "base_uri": "https://localhost:8080/"
        },
        "id": "5Z_nsnU0igWn",
        "outputId": "1018ab1d-0a50-4ddc-ad1c-b17d6b9dc052"
      },
      "source": [
        "dataset_UK[\"total_tests\"].tail()\n"
      ],
      "execution_count": 21,
      "outputs": [
        {
          "output_type": "execute_result",
          "data": {
            "text/plain": [
              "90482    188125558.0\n",
              "90483            NaN\n",
              "90484            NaN\n",
              "90485            NaN\n",
              "90486            NaN\n",
              "Name: total_tests, dtype: float64"
            ]
          },
          "metadata": {
            "tags": []
          },
          "execution_count": 21
        }
      ]
    },
    {
      "cell_type": "code",
      "metadata": {
        "id": "wFXbGigeigZi"
      },
      "source": [
        "dataset_UK.drop(dataset_UK.tail(4).index, inplace=True)"
      ],
      "execution_count": 22,
      "outputs": []
    },
    {
      "cell_type": "code",
      "metadata": {
        "colab": {
          "base_uri": "https://localhost:8080/"
        },
        "id": "engIMJMSjpAz",
        "outputId": "aa4cbcde-2571-4eca-8390-25206628b34b"
      },
      "source": [
        "dataset_UK.isna().sum()"
      ],
      "execution_count": 23,
      "outputs": [
        {
          "output_type": "execute_result",
          "data": {
            "text/plain": [
              "location             0\n",
              "date                 0\n",
              "total_cases          0\n",
              "new_cases            0\n",
              "total_deaths         0\n",
              "new_deaths           0\n",
              "reproduction_rate    0\n",
              "icu_patients         0\n",
              "hosp_patients        0\n",
              "new_tests            0\n",
              "total_tests          0\n",
              "population           0\n",
              "Mortality_Rate       0\n",
              "dtype: int64"
            ]
          },
          "metadata": {
            "tags": []
          },
          "execution_count": 23
        }
      ]
    },
    {
      "cell_type": "code",
      "metadata": {
        "colab": {
          "base_uri": "https://localhost:8080/"
        },
        "id": "ixrm6hncjsdW",
        "outputId": "65c8e25c-66a2-4179-a823-27c4b9e870d6"
      },
      "source": [
        "dataset_UK[\"Mortality_Rate\"]"
      ],
      "execution_count": 24,
      "outputs": [
        {
          "output_type": "execute_result",
          "data": {
            "text/plain": [
              "90078    1.031140e-05\n",
              "90079    8.617387e-06\n",
              "90080    3.726836e-06\n",
              "90081    4.021447e-06\n",
              "90082    1.067967e-05\n",
              "             ...     \n",
              "90478    1.914975e-07\n",
              "90479    5.892231e-08\n",
              "90480    1.473058e-08\n",
              "90481    2.062281e-07\n",
              "90482    8.838346e-08\n",
              "Name: Mortality_Rate, Length: 405, dtype: float64"
            ]
          },
          "metadata": {
            "tags": []
          },
          "execution_count": 24
        }
      ]
    },
    {
      "cell_type": "code",
      "metadata": {
        "colab": {
          "base_uri": "https://localhost:8080/"
        },
        "id": "l7vfJbGzjwJX",
        "outputId": "0ab894a3-a350-4acf-88be-3b98bf3699f2"
      },
      "source": [
        "dataset_UK.columns"
      ],
      "execution_count": 25,
      "outputs": [
        {
          "output_type": "execute_result",
          "data": {
            "text/plain": [
              "Index(['location', 'date', 'total_cases', 'new_cases', 'total_deaths',\n",
              "       'new_deaths', 'reproduction_rate', 'icu_patients', 'hosp_patients',\n",
              "       'new_tests', 'total_tests', 'population', 'Mortality_Rate'],\n",
              "      dtype='object')"
            ]
          },
          "metadata": {
            "tags": []
          },
          "execution_count": 25
        }
      ]
    },
    {
      "cell_type": "code",
      "metadata": {
        "id": "fFLpwhLmka-J"
      },
      "source": [
        "feat = [\"date\", \"reproduction_rate\", \"icu_patients\", \"Mortality_Rate\"]"
      ],
      "execution_count": 26,
      "outputs": []
    },
    {
      "cell_type": "code",
      "metadata": {
        "id": "YzO666vgkhMi"
      },
      "source": [
        "dataset_UK_models = dataset_UK[feat]"
      ],
      "execution_count": 27,
      "outputs": []
    },
    {
      "cell_type": "code",
      "metadata": {
        "colab": {
          "base_uri": "https://localhost:8080/",
          "height": 195
        },
        "id": "TwueKqNHkpSj",
        "outputId": "259fe893-7ebd-4d05-9d4d-3d8ecbc4e322"
      },
      "source": [
        "dataset_UK_models.head()"
      ],
      "execution_count": 28,
      "outputs": [
        {
          "output_type": "execute_result",
          "data": {
            "text/html": [
              "<div>\n",
              "<style scoped>\n",
              "    .dataframe tbody tr th:only-of-type {\n",
              "        vertical-align: middle;\n",
              "    }\n",
              "\n",
              "    .dataframe tbody tr th {\n",
              "        vertical-align: top;\n",
              "    }\n",
              "\n",
              "    .dataframe thead th {\n",
              "        text-align: right;\n",
              "    }\n",
              "</style>\n",
              "<table border=\"1\" class=\"dataframe\">\n",
              "  <thead>\n",
              "    <tr style=\"text-align: right;\">\n",
              "      <th></th>\n",
              "      <th>date</th>\n",
              "      <th>reproduction_rate</th>\n",
              "      <th>icu_patients</th>\n",
              "      <th>Mortality_Rate</th>\n",
              "    </tr>\n",
              "  </thead>\n",
              "  <tbody>\n",
              "    <tr>\n",
              "      <th>90078</th>\n",
              "      <td>2020-05-01</td>\n",
              "      <td>0.94</td>\n",
              "      <td>2178.0</td>\n",
              "      <td>0.000010</td>\n",
              "    </tr>\n",
              "    <tr>\n",
              "      <th>90079</th>\n",
              "      <td>2020-05-02</td>\n",
              "      <td>0.90</td>\n",
              "      <td>2068.0</td>\n",
              "      <td>0.000009</td>\n",
              "    </tr>\n",
              "    <tr>\n",
              "      <th>90080</th>\n",
              "      <td>2020-05-03</td>\n",
              "      <td>0.87</td>\n",
              "      <td>2009.0</td>\n",
              "      <td>0.000004</td>\n",
              "    </tr>\n",
              "    <tr>\n",
              "      <th>90081</th>\n",
              "      <td>2020-05-04</td>\n",
              "      <td>0.82</td>\n",
              "      <td>1936.0</td>\n",
              "      <td>0.000004</td>\n",
              "    </tr>\n",
              "    <tr>\n",
              "      <th>90082</th>\n",
              "      <td>2020-05-05</td>\n",
              "      <td>0.81</td>\n",
              "      <td>1874.0</td>\n",
              "      <td>0.000011</td>\n",
              "    </tr>\n",
              "  </tbody>\n",
              "</table>\n",
              "</div>"
            ],
            "text/plain": [
              "             date  reproduction_rate  icu_patients  Mortality_Rate\n",
              "90078  2020-05-01               0.94        2178.0        0.000010\n",
              "90079  2020-05-02               0.90        2068.0        0.000009\n",
              "90080  2020-05-03               0.87        2009.0        0.000004\n",
              "90081  2020-05-04               0.82        1936.0        0.000004\n",
              "90082  2020-05-05               0.81        1874.0        0.000011"
            ]
          },
          "metadata": {
            "tags": []
          },
          "execution_count": 28
        }
      ]
    },
    {
      "cell_type": "code",
      "metadata": {
        "colab": {
          "base_uri": "https://localhost:8080/"
        },
        "id": "ZRFGDQx8nARb",
        "outputId": "dfd1df99-d9dc-4bfd-cc67-54aa93cf4644"
      },
      "source": [
        "dataset_UK_models[\"date\"].dtype"
      ],
      "execution_count": 29,
      "outputs": [
        {
          "output_type": "execute_result",
          "data": {
            "text/plain": [
              "dtype('O')"
            ]
          },
          "metadata": {
            "tags": []
          },
          "execution_count": 29
        }
      ]
    },
    {
      "cell_type": "code",
      "metadata": {
        "id": "euVVr7TFnP0p"
      },
      "source": [
        "import datetime as dt\n",
        "dataset_UK_models['date'] = pd.to_datetime(dataset_UK_models['date'])\n",
        "dataset_UK_models['date']=dataset_UK_models['date'].map(dt.datetime.toordinal)"
      ],
      "execution_count": 30,
      "outputs": []
    },
    {
      "cell_type": "code",
      "metadata": {
        "colab": {
          "base_uri": "https://localhost:8080/",
          "height": 195
        },
        "id": "_gd_ggjxngBF",
        "outputId": "6462b75b-73c1-4a74-8ef7-45f60094e3a0"
      },
      "source": [
        "dataset_UK_models.head()"
      ],
      "execution_count": 31,
      "outputs": [
        {
          "output_type": "execute_result",
          "data": {
            "text/html": [
              "<div>\n",
              "<style scoped>\n",
              "    .dataframe tbody tr th:only-of-type {\n",
              "        vertical-align: middle;\n",
              "    }\n",
              "\n",
              "    .dataframe tbody tr th {\n",
              "        vertical-align: top;\n",
              "    }\n",
              "\n",
              "    .dataframe thead th {\n",
              "        text-align: right;\n",
              "    }\n",
              "</style>\n",
              "<table border=\"1\" class=\"dataframe\">\n",
              "  <thead>\n",
              "    <tr style=\"text-align: right;\">\n",
              "      <th></th>\n",
              "      <th>date</th>\n",
              "      <th>reproduction_rate</th>\n",
              "      <th>icu_patients</th>\n",
              "      <th>Mortality_Rate</th>\n",
              "    </tr>\n",
              "  </thead>\n",
              "  <tbody>\n",
              "    <tr>\n",
              "      <th>90078</th>\n",
              "      <td>737546</td>\n",
              "      <td>0.94</td>\n",
              "      <td>2178.0</td>\n",
              "      <td>0.000010</td>\n",
              "    </tr>\n",
              "    <tr>\n",
              "      <th>90079</th>\n",
              "      <td>737547</td>\n",
              "      <td>0.90</td>\n",
              "      <td>2068.0</td>\n",
              "      <td>0.000009</td>\n",
              "    </tr>\n",
              "    <tr>\n",
              "      <th>90080</th>\n",
              "      <td>737548</td>\n",
              "      <td>0.87</td>\n",
              "      <td>2009.0</td>\n",
              "      <td>0.000004</td>\n",
              "    </tr>\n",
              "    <tr>\n",
              "      <th>90081</th>\n",
              "      <td>737549</td>\n",
              "      <td>0.82</td>\n",
              "      <td>1936.0</td>\n",
              "      <td>0.000004</td>\n",
              "    </tr>\n",
              "    <tr>\n",
              "      <th>90082</th>\n",
              "      <td>737550</td>\n",
              "      <td>0.81</td>\n",
              "      <td>1874.0</td>\n",
              "      <td>0.000011</td>\n",
              "    </tr>\n",
              "  </tbody>\n",
              "</table>\n",
              "</div>"
            ],
            "text/plain": [
              "         date  reproduction_rate  icu_patients  Mortality_Rate\n",
              "90078  737546               0.94        2178.0        0.000010\n",
              "90079  737547               0.90        2068.0        0.000009\n",
              "90080  737548               0.87        2009.0        0.000004\n",
              "90081  737549               0.82        1936.0        0.000004\n",
              "90082  737550               0.81        1874.0        0.000011"
            ]
          },
          "metadata": {
            "tags": []
          },
          "execution_count": 31
        }
      ]
    },
    {
      "cell_type": "code",
      "metadata": {
        "colab": {
          "base_uri": "https://localhost:8080/"
        },
        "id": "XRVQkjYKnjSw",
        "outputId": "bf3690a3-ad3f-4337-eb95-d18cb295651b"
      },
      "source": [
        "dataset_UK_models[\"date\"].dtype"
      ],
      "execution_count": 32,
      "outputs": [
        {
          "output_type": "execute_result",
          "data": {
            "text/plain": [
              "dtype('int64')"
            ]
          },
          "metadata": {
            "tags": []
          },
          "execution_count": 32
        }
      ]
    },
    {
      "cell_type": "code",
      "metadata": {
        "colab": {
          "base_uri": "https://localhost:8080/"
        },
        "id": "i9QFbYJYovlx",
        "outputId": "ff86487c-21eb-4391-b4e6-c7fc0903b0c1"
      },
      "source": [
        "len(dataset_UK_models)"
      ],
      "execution_count": 33,
      "outputs": [
        {
          "output_type": "execute_result",
          "data": {
            "text/plain": [
              "405"
            ]
          },
          "metadata": {
            "tags": []
          },
          "execution_count": 33
        }
      ]
    },
    {
      "cell_type": "code",
      "metadata": {
        "id": "aN4PrizJo920"
      },
      "source": [
        "train = dataset_UK_models[ : 350]\n",
        "test = dataset_UK_models[350 : ]"
      ],
      "execution_count": 34,
      "outputs": []
    },
    {
      "cell_type": "code",
      "metadata": {
        "colab": {
          "base_uri": "https://localhost:8080/"
        },
        "id": "lF0uAPmmpI40",
        "outputId": "17747db5-040c-4495-f9ff-a96a54b4fa7c"
      },
      "source": [
        "len(train)"
      ],
      "execution_count": 35,
      "outputs": [
        {
          "output_type": "execute_result",
          "data": {
            "text/plain": [
              "350"
            ]
          },
          "metadata": {
            "tags": []
          },
          "execution_count": 35
        }
      ]
    },
    {
      "cell_type": "code",
      "metadata": {
        "colab": {
          "base_uri": "https://localhost:8080/"
        },
        "id": "3BtDaFCLpTCU",
        "outputId": "eeac1475-e584-4706-a4c8-7e135e716dea"
      },
      "source": [
        "len(test)"
      ],
      "execution_count": 36,
      "outputs": [
        {
          "output_type": "execute_result",
          "data": {
            "text/plain": [
              "55"
            ]
          },
          "metadata": {
            "tags": []
          },
          "execution_count": 36
        }
      ]
    },
    {
      "cell_type": "code",
      "metadata": {
        "id": "jnXBlm52pyrJ"
      },
      "source": [
        "X_train = train.iloc[ : ,  : -1]\n",
        "Y_train = train.iloc[ : , -1 : ]\n",
        "\n",
        "X_test = test.iloc[ : ,  : -1]\n",
        "Y_test = test.iloc[ : , -1 : ]"
      ],
      "execution_count": 37,
      "outputs": []
    },
    {
      "cell_type": "code",
      "metadata": {
        "colab": {
          "base_uri": "https://localhost:8080/"
        },
        "id": "sXyQYwueqUgz",
        "outputId": "0ea65c76-33c7-4880-fb78-4e81ef35da20"
      },
      "source": [
        "#We will implement LASSO. It is an extension of linear regression that adds a regularization penalty to the loss function during training.\n",
        "\n",
        "model = linear_model.Lasso(alpha = 1.0)\n",
        "model.fit(X_train, Y_train)"
      ],
      "execution_count": 38,
      "outputs": [
        {
          "output_type": "execute_result",
          "data": {
            "text/plain": [
              "Lasso(alpha=1.0, copy_X=True, fit_intercept=True, max_iter=1000,\n",
              "      normalize=False, positive=False, precompute=False, random_state=None,\n",
              "      selection='cyclic', tol=0.0001, warm_start=False)"
            ]
          },
          "metadata": {
            "tags": []
          },
          "execution_count": 38
        }
      ]
    },
    {
      "cell_type": "code",
      "metadata": {
        "id": "rk9kgPSBqUjU"
      },
      "source": [
        "pred = model.predict(X_test)"
      ],
      "execution_count": 39,
      "outputs": []
    },
    {
      "cell_type": "code",
      "metadata": {
        "id": "DA6osiIprfNr"
      },
      "source": [
        "from sklearn.metrics import r2_score"
      ],
      "execution_count": 40,
      "outputs": []
    },
    {
      "cell_type": "code",
      "metadata": {
        "colab": {
          "base_uri": "https://localhost:8080/"
        },
        "id": "BvkwhxQXrfQV",
        "outputId": "521edbe7-6c63-49e9-fd93-e73983e49345"
      },
      "source": [
        "r2_score(Y_test, pred)"
      ],
      "execution_count": 41,
      "outputs": [
        {
          "output_type": "execute_result",
          "data": {
            "text/plain": [
              "-803.8470169124932"
            ]
          },
          "metadata": {
            "tags": []
          },
          "execution_count": 41
        }
      ]
    },
    {
      "cell_type": "code",
      "metadata": {
        "id": "vpMKv3EPuGJU"
      },
      "source": [
        "model = RandomForestRegressor(random_state = SEED)"
      ],
      "execution_count": 42,
      "outputs": []
    },
    {
      "cell_type": "code",
      "metadata": {
        "colab": {
          "base_uri": "https://localhost:8080/"
        },
        "id": "I4BIh36iuTAV",
        "outputId": "d01e124c-afca-4c9a-8f0e-130f5c501b97"
      },
      "source": [
        "model.fit(X_train, Y_train)"
      ],
      "execution_count": 43,
      "outputs": [
        {
          "output_type": "execute_result",
          "data": {
            "text/plain": [
              "RandomForestRegressor(bootstrap=True, ccp_alpha=0.0, criterion='mse',\n",
              "                      max_depth=None, max_features='auto', max_leaf_nodes=None,\n",
              "                      max_samples=None, min_impurity_decrease=0.0,\n",
              "                      min_impurity_split=None, min_samples_leaf=1,\n",
              "                      min_samples_split=2, min_weight_fraction_leaf=0.0,\n",
              "                      n_estimators=100, n_jobs=None, oob_score=False,\n",
              "                      random_state=42, verbose=0, warm_start=False)"
            ]
          },
          "metadata": {
            "tags": []
          },
          "execution_count": 43
        }
      ]
    },
    {
      "cell_type": "code",
      "metadata": {
        "id": "VMpePlKFuWsM"
      },
      "source": [
        "pred = model.predict(X_test)"
      ],
      "execution_count": 44,
      "outputs": []
    },
    {
      "cell_type": "code",
      "metadata": {
        "colab": {
          "base_uri": "https://localhost:8080/"
        },
        "id": "fDRucWt9uamS",
        "outputId": "45e41615-ac3a-4cbb-8961-8cd150abd8a6"
      },
      "source": [
        "r2_score(Y_test, pred)"
      ],
      "execution_count": 45,
      "outputs": [
        {
          "output_type": "execute_result",
          "data": {
            "text/plain": [
              "-810.2436622602492"
            ]
          },
          "metadata": {
            "tags": []
          },
          "execution_count": 45
        }
      ]
    },
    {
      "cell_type": "code",
      "metadata": {
        "id": "b-SbFdYZumul"
      },
      "source": [
        "estimators = [\n",
        "              (\"xgb\", xgb.XGBRegressor()),\n",
        "              (\"svr\", LinearSVR(random_state = SEED)),\n",
        "              (\"rf\", RandomForestRegressor(random_state = SEED))\n",
        "]"
      ],
      "execution_count": 46,
      "outputs": []
    },
    {
      "cell_type": "code",
      "metadata": {
        "colab": {
          "base_uri": "https://localhost:8080/"
        },
        "id": "CPgye_SgNghW",
        "outputId": "c13db55f-f550-47dc-e693-56930c909f51"
      },
      "source": [
        "estimators"
      ],
      "execution_count": 47,
      "outputs": [
        {
          "output_type": "execute_result",
          "data": {
            "text/plain": [
              "[('xgb', XGBRegressor(base_score=0.5, booster='gbtree', colsample_bylevel=1,\n",
              "               colsample_bynode=1, colsample_bytree=1, gamma=0,\n",
              "               importance_type='gain', learning_rate=0.1, max_delta_step=0,\n",
              "               max_depth=3, min_child_weight=1, missing=None, n_estimators=100,\n",
              "               n_jobs=1, nthread=None, objective='reg:linear', random_state=0,\n",
              "               reg_alpha=0, reg_lambda=1, scale_pos_weight=1, seed=None,\n",
              "               silent=None, subsample=1, verbosity=1)),\n",
              " ('svr', LinearSVR(C=1.0, dual=True, epsilon=0.0, fit_intercept=True,\n",
              "            intercept_scaling=1.0, loss='epsilon_insensitive', max_iter=1000,\n",
              "            random_state=42, tol=0.0001, verbose=0)),\n",
              " ('rf', RandomForestRegressor(bootstrap=True, ccp_alpha=0.0, criterion='mse',\n",
              "                        max_depth=None, max_features='auto', max_leaf_nodes=None,\n",
              "                        max_samples=None, min_impurity_decrease=0.0,\n",
              "                        min_impurity_split=None, min_samples_leaf=1,\n",
              "                        min_samples_split=2, min_weight_fraction_leaf=0.0,\n",
              "                        n_estimators=100, n_jobs=None, oob_score=False,\n",
              "                        random_state=42, verbose=0, warm_start=False))]"
            ]
          },
          "metadata": {
            "tags": []
          },
          "execution_count": 47
        }
      ]
    },
    {
      "cell_type": "code",
      "metadata": {
        "id": "QAVJiMAGQiMn"
      },
      "source": [
        "reg = StackingRegressor(\n",
        "    estimators = estimators, \n",
        "    final_estimator = RandomForestRegressor(random_state = SEED)\n",
        ")"
      ],
      "execution_count": 48,
      "outputs": []
    },
    {
      "cell_type": "code",
      "metadata": {
        "colab": {
          "base_uri": "https://localhost:8080/"
        },
        "id": "c9lx3J0CVLZe",
        "outputId": "a8764869-1a6a-40b9-ebb2-d9fd00e4d443"
      },
      "source": [
        "reg.fit(X_train, Y_train)"
      ],
      "execution_count": 49,
      "outputs": [
        {
          "output_type": "stream",
          "text": [
            "[01:08:49] WARNING: /workspace/src/objective/regression_obj.cu:152: reg:linear is now deprecated in favor of reg:squarederror.\n",
            "[01:08:49] WARNING: /workspace/src/objective/regression_obj.cu:152: reg:linear is now deprecated in favor of reg:squarederror.\n",
            "[01:08:49] WARNING: /workspace/src/objective/regression_obj.cu:152: reg:linear is now deprecated in favor of reg:squarederror.\n",
            "[01:08:49] WARNING: /workspace/src/objective/regression_obj.cu:152: reg:linear is now deprecated in favor of reg:squarederror.\n",
            "[01:08:49] WARNING: /workspace/src/objective/regression_obj.cu:152: reg:linear is now deprecated in favor of reg:squarederror.\n",
            "[01:08:49] WARNING: /workspace/src/objective/regression_obj.cu:152: reg:linear is now deprecated in favor of reg:squarederror.\n"
          ],
          "name": "stdout"
        },
        {
          "output_type": "execute_result",
          "data": {
            "text/plain": [
              "StackingRegressor(cv=None,\n",
              "                  estimators=[('xgb',\n",
              "                               XGBRegressor(base_score=0.5, booster='gbtree',\n",
              "                                            colsample_bylevel=1,\n",
              "                                            colsample_bynode=1,\n",
              "                                            colsample_bytree=1, gamma=0,\n",
              "                                            importance_type='gain',\n",
              "                                            learning_rate=0.1, max_delta_step=0,\n",
              "                                            max_depth=3, min_child_weight=1,\n",
              "                                            missing=None, n_estimators=100,\n",
              "                                            n_jobs=1, nthread=None,\n",
              "                                            objective='reg:linear',\n",
              "                                            random_state=0, reg_alpha=0,\n",
              "                                            reg...\n",
              "                  final_estimator=RandomForestRegressor(bootstrap=True,\n",
              "                                                        ccp_alpha=0.0,\n",
              "                                                        criterion='mse',\n",
              "                                                        max_depth=None,\n",
              "                                                        max_features='auto',\n",
              "                                                        max_leaf_nodes=None,\n",
              "                                                        max_samples=None,\n",
              "                                                        min_impurity_decrease=0.0,\n",
              "                                                        min_impurity_split=None,\n",
              "                                                        min_samples_leaf=1,\n",
              "                                                        min_samples_split=2,\n",
              "                                                        min_weight_fraction_leaf=0.0,\n",
              "                                                        n_estimators=100,\n",
              "                                                        n_jobs=None,\n",
              "                                                        oob_score=False,\n",
              "                                                        random_state=42,\n",
              "                                                        verbose=0,\n",
              "                                                        warm_start=False),\n",
              "                  n_jobs=None, passthrough=False, verbose=0)"
            ]
          },
          "metadata": {
            "tags": []
          },
          "execution_count": 49
        }
      ]
    },
    {
      "cell_type": "code",
      "metadata": {
        "colab": {
          "base_uri": "https://localhost:8080/"
        },
        "id": "gPl6eCOPVPLT",
        "outputId": "513f0010-ec79-419a-d4e3-1860601ca336"
      },
      "source": [
        "reg.predict(X_test)"
      ],
      "execution_count": 50,
      "outputs": [
        {
          "output_type": "execute_result",
          "data": {
            "text/plain": [
              "array([4.25362116e-06, 4.25362116e-06, 4.25362116e-06, 4.25362116e-06,\n",
              "       4.25362116e-06, 4.25362116e-06, 4.25362116e-06, 4.25362116e-06,\n",
              "       4.25362116e-06, 4.25362116e-06, 4.25362116e-06, 4.25362116e-06,\n",
              "       4.25362116e-06, 4.25362116e-06, 4.25362116e-06, 4.25362116e-06,\n",
              "       4.25362116e-06, 4.25362116e-06, 4.25362116e-06, 4.25362116e-06,\n",
              "       4.25362116e-06, 4.25362116e-06, 4.25362116e-06, 4.25362116e-06,\n",
              "       4.25362116e-06, 4.25362116e-06, 4.25362116e-06, 4.25362116e-06,\n",
              "       4.25362116e-06, 4.25362116e-06, 4.25362116e-06, 4.25362116e-06,\n",
              "       4.25362116e-06, 4.25362116e-06, 4.25362116e-06, 4.25362116e-06,\n",
              "       4.25362116e-06, 4.25362116e-06, 4.25362116e-06, 4.25362116e-06,\n",
              "       4.25362116e-06, 4.25362116e-06, 4.25362116e-06, 4.25362116e-06,\n",
              "       4.25362116e-06, 4.25362116e-06, 4.25362116e-06, 4.25362116e-06,\n",
              "       4.25362116e-06, 4.25362116e-06, 4.25362116e-06, 4.25362116e-06,\n",
              "       4.25362116e-06, 4.25362116e-06, 4.25362116e-06])"
            ]
          },
          "metadata": {
            "tags": []
          },
          "execution_count": 50
        }
      ]
    },
    {
      "cell_type": "code",
      "metadata": {
        "colab": {
          "base_uri": "https://localhost:8080/",
          "height": 195
        },
        "id": "0oAkC42xdWiM",
        "outputId": "789cf7ab-6893-42a2-e411-67fcc3ac4676"
      },
      "source": [
        "dataset_UK_models.head()"
      ],
      "execution_count": 51,
      "outputs": [
        {
          "output_type": "execute_result",
          "data": {
            "text/html": [
              "<div>\n",
              "<style scoped>\n",
              "    .dataframe tbody tr th:only-of-type {\n",
              "        vertical-align: middle;\n",
              "    }\n",
              "\n",
              "    .dataframe tbody tr th {\n",
              "        vertical-align: top;\n",
              "    }\n",
              "\n",
              "    .dataframe thead th {\n",
              "        text-align: right;\n",
              "    }\n",
              "</style>\n",
              "<table border=\"1\" class=\"dataframe\">\n",
              "  <thead>\n",
              "    <tr style=\"text-align: right;\">\n",
              "      <th></th>\n",
              "      <th>date</th>\n",
              "      <th>reproduction_rate</th>\n",
              "      <th>icu_patients</th>\n",
              "      <th>Mortality_Rate</th>\n",
              "    </tr>\n",
              "  </thead>\n",
              "  <tbody>\n",
              "    <tr>\n",
              "      <th>90078</th>\n",
              "      <td>737546</td>\n",
              "      <td>0.94</td>\n",
              "      <td>2178.0</td>\n",
              "      <td>0.000010</td>\n",
              "    </tr>\n",
              "    <tr>\n",
              "      <th>90079</th>\n",
              "      <td>737547</td>\n",
              "      <td>0.90</td>\n",
              "      <td>2068.0</td>\n",
              "      <td>0.000009</td>\n",
              "    </tr>\n",
              "    <tr>\n",
              "      <th>90080</th>\n",
              "      <td>737548</td>\n",
              "      <td>0.87</td>\n",
              "      <td>2009.0</td>\n",
              "      <td>0.000004</td>\n",
              "    </tr>\n",
              "    <tr>\n",
              "      <th>90081</th>\n",
              "      <td>737549</td>\n",
              "      <td>0.82</td>\n",
              "      <td>1936.0</td>\n",
              "      <td>0.000004</td>\n",
              "    </tr>\n",
              "    <tr>\n",
              "      <th>90082</th>\n",
              "      <td>737550</td>\n",
              "      <td>0.81</td>\n",
              "      <td>1874.0</td>\n",
              "      <td>0.000011</td>\n",
              "    </tr>\n",
              "  </tbody>\n",
              "</table>\n",
              "</div>"
            ],
            "text/plain": [
              "         date  reproduction_rate  icu_patients  Mortality_Rate\n",
              "90078  737546               0.94        2178.0        0.000010\n",
              "90079  737547               0.90        2068.0        0.000009\n",
              "90080  737548               0.87        2009.0        0.000004\n",
              "90081  737549               0.82        1936.0        0.000004\n",
              "90082  737550               0.81        1874.0        0.000011"
            ]
          },
          "metadata": {
            "tags": []
          },
          "execution_count": 51
        }
      ]
    },
    {
      "cell_type": "code",
      "metadata": {
        "id": "cPmX8wTzeZNi"
      },
      "source": [
        "feat = ['date', 'reproduction_rate', 'icu_patients', 'Mortality_Rate', 'new_deaths']"
      ],
      "execution_count": 52,
      "outputs": []
    },
    {
      "cell_type": "code",
      "metadata": {
        "id": "wJ_VscMTefyR"
      },
      "source": [
        "dataset_UK_models1 = dataset_UK[feat]"
      ],
      "execution_count": 53,
      "outputs": []
    },
    {
      "cell_type": "code",
      "metadata": {
        "colab": {
          "base_uri": "https://localhost:8080/",
          "height": 195
        },
        "id": "Y-ez3Npden4C",
        "outputId": "2e3f290d-b319-4e30-86f5-e325ffcb13ea"
      },
      "source": [
        "dataset_UK_models1.head()"
      ],
      "execution_count": 54,
      "outputs": [
        {
          "output_type": "execute_result",
          "data": {
            "text/html": [
              "<div>\n",
              "<style scoped>\n",
              "    .dataframe tbody tr th:only-of-type {\n",
              "        vertical-align: middle;\n",
              "    }\n",
              "\n",
              "    .dataframe tbody tr th {\n",
              "        vertical-align: top;\n",
              "    }\n",
              "\n",
              "    .dataframe thead th {\n",
              "        text-align: right;\n",
              "    }\n",
              "</style>\n",
              "<table border=\"1\" class=\"dataframe\">\n",
              "  <thead>\n",
              "    <tr style=\"text-align: right;\">\n",
              "      <th></th>\n",
              "      <th>date</th>\n",
              "      <th>reproduction_rate</th>\n",
              "      <th>icu_patients</th>\n",
              "      <th>Mortality_Rate</th>\n",
              "      <th>new_deaths</th>\n",
              "    </tr>\n",
              "  </thead>\n",
              "  <tbody>\n",
              "    <tr>\n",
              "      <th>90078</th>\n",
              "      <td>2020-05-01</td>\n",
              "      <td>0.94</td>\n",
              "      <td>2178.0</td>\n",
              "      <td>0.000010</td>\n",
              "      <td>700.0</td>\n",
              "    </tr>\n",
              "    <tr>\n",
              "      <th>90079</th>\n",
              "      <td>2020-05-02</td>\n",
              "      <td>0.90</td>\n",
              "      <td>2068.0</td>\n",
              "      <td>0.000009</td>\n",
              "      <td>585.0</td>\n",
              "    </tr>\n",
              "    <tr>\n",
              "      <th>90080</th>\n",
              "      <td>2020-05-03</td>\n",
              "      <td>0.87</td>\n",
              "      <td>2009.0</td>\n",
              "      <td>0.000004</td>\n",
              "      <td>253.0</td>\n",
              "    </tr>\n",
              "    <tr>\n",
              "      <th>90081</th>\n",
              "      <td>2020-05-04</td>\n",
              "      <td>0.82</td>\n",
              "      <td>1936.0</td>\n",
              "      <td>0.000004</td>\n",
              "      <td>273.0</td>\n",
              "    </tr>\n",
              "    <tr>\n",
              "      <th>90082</th>\n",
              "      <td>2020-05-05</td>\n",
              "      <td>0.81</td>\n",
              "      <td>1874.0</td>\n",
              "      <td>0.000011</td>\n",
              "      <td>725.0</td>\n",
              "    </tr>\n",
              "  </tbody>\n",
              "</table>\n",
              "</div>"
            ],
            "text/plain": [
              "             date  reproduction_rate  icu_patients  Mortality_Rate  new_deaths\n",
              "90078  2020-05-01               0.94        2178.0        0.000010       700.0\n",
              "90079  2020-05-02               0.90        2068.0        0.000009       585.0\n",
              "90080  2020-05-03               0.87        2009.0        0.000004       253.0\n",
              "90081  2020-05-04               0.82        1936.0        0.000004       273.0\n",
              "90082  2020-05-05               0.81        1874.0        0.000011       725.0"
            ]
          },
          "metadata": {
            "tags": []
          },
          "execution_count": 54
        }
      ]
    },
    {
      "cell_type": "code",
      "metadata": {
        "colab": {
          "base_uri": "https://localhost:8080/",
          "height": 542
        },
        "id": "Dzowry2Oeoa5",
        "outputId": "91e988c7-c13b-4714-f065-ab849c7c1c82"
      },
      "source": [
        "fig = px.line(dataset_UK_models1,  dataset_UK_models1[\"date\"], dataset_UK_models1[\"new_deaths\"], title = \"New Deaths\") #hover_data = [\"new_deaths\", \"population\", \"total_cases\", \"new_cases\"])\n",
        "fig.update_traces(mode = \"markers + lines\", hovertemplate = None)\n",
        "fig.update_layout(hovermode = \"x unified\")\n",
        "fig.show()"
      ],
      "execution_count": 55,
      "outputs": [
        {
          "output_type": "display_data",
          "data": {
            "text/html": [
              "<html>\n",
              "<head><meta charset=\"utf-8\" /></head>\n",
              "<body>\n",
              "    <div>            <script src=\"https://cdnjs.cloudflare.com/ajax/libs/mathjax/2.7.5/MathJax.js?config=TeX-AMS-MML_SVG\"></script><script type=\"text/javascript\">if (window.MathJax) {MathJax.Hub.Config({SVG: {font: \"STIX-Web\"}});}</script>                <script type=\"text/javascript\">window.PlotlyConfig = {MathJaxConfig: 'local'};</script>\n",
              "        <script src=\"https://cdn.plot.ly/plotly-2.2.0.min.js\"></script>                <div id=\"c01cdff0-72b3-406a-b8fe-4b0571a32f6c\" class=\"plotly-graph-div\" style=\"height:525px; width:100%;\"></div>            <script type=\"text/javascript\">                                    window.PLOTLYENV=window.PLOTLYENV || {};                                    if (document.getElementById(\"c01cdff0-72b3-406a-b8fe-4b0571a32f6c\")) {                    Plotly.newPlot(                        \"c01cdff0-72b3-406a-b8fe-4b0571a32f6c\",                        [{\"legendgroup\":\"\",\"line\":{\"color\":\"#636efa\",\"dash\":\"solid\"},\"mode\":\"markers+lines\",\"name\":\"\",\"orientation\":\"v\",\"showlegend\":false,\"type\":\"scatter\",\"x\":[\"2020-05-01\",\"2020-05-02\",\"2020-05-03\",\"2020-05-04\",\"2020-05-05\",\"2020-05-06\",\"2020-05-07\",\"2020-05-08\",\"2020-05-09\",\"2020-05-10\",\"2020-05-11\",\"2020-05-12\",\"2020-05-13\",\"2020-05-14\",\"2020-05-15\",\"2020-05-16\",\"2020-05-17\",\"2020-05-18\",\"2020-05-19\",\"2020-05-20\",\"2020-05-21\",\"2020-05-22\",\"2020-05-23\",\"2020-05-24\",\"2020-05-25\",\"2020-05-26\",\"2020-05-27\",\"2020-05-28\",\"2020-05-29\",\"2020-05-30\",\"2020-05-31\",\"2020-06-01\",\"2020-06-02\",\"2020-06-03\",\"2020-06-04\",\"2020-06-05\",\"2020-06-06\",\"2020-06-07\",\"2020-06-08\",\"2020-06-09\",\"2020-06-10\",\"2020-06-11\",\"2020-06-12\",\"2020-06-13\",\"2020-06-14\",\"2020-06-15\",\"2020-06-16\",\"2020-06-17\",\"2020-06-18\",\"2020-06-19\",\"2020-06-20\",\"2020-06-21\",\"2020-06-22\",\"2020-06-23\",\"2020-06-24\",\"2020-06-25\",\"2020-06-26\",\"2020-06-27\",\"2020-06-28\",\"2020-06-29\",\"2020-06-30\",\"2020-07-01\",\"2020-07-02\",\"2020-07-03\",\"2020-07-04\",\"2020-07-05\",\"2020-07-06\",\"2020-07-07\",\"2020-07-08\",\"2020-07-09\",\"2020-07-10\",\"2020-07-11\",\"2020-07-12\",\"2020-07-13\",\"2020-07-14\",\"2020-07-15\",\"2020-07-16\",\"2020-07-17\",\"2020-07-18\",\"2020-07-19\",\"2020-07-20\",\"2020-07-21\",\"2020-07-22\",\"2020-07-23\",\"2020-07-24\",\"2020-07-25\",\"2020-07-26\",\"2020-07-27\",\"2020-07-28\",\"2020-07-29\",\"2020-07-30\",\"2020-07-31\",\"2020-08-01\",\"2020-08-02\",\"2020-08-03\",\"2020-08-04\",\"2020-08-05\",\"2020-08-06\",\"2020-08-07\",\"2020-08-08\",\"2020-08-09\",\"2020-08-10\",\"2020-08-11\",\"2020-08-12\",\"2020-08-13\",\"2020-08-14\",\"2020-08-15\",\"2020-08-16\",\"2020-08-17\",\"2020-08-18\",\"2020-08-19\",\"2020-08-20\",\"2020-08-21\",\"2020-08-22\",\"2020-08-23\",\"2020-08-24\",\"2020-08-25\",\"2020-08-26\",\"2020-08-27\",\"2020-08-28\",\"2020-08-29\",\"2020-08-30\",\"2020-08-31\",\"2020-09-01\",\"2020-09-02\",\"2020-09-03\",\"2020-09-04\",\"2020-09-05\",\"2020-09-06\",\"2020-09-07\",\"2020-09-08\",\"2020-09-09\",\"2020-09-10\",\"2020-09-11\",\"2020-09-12\",\"2020-09-13\",\"2020-09-14\",\"2020-09-15\",\"2020-09-16\",\"2020-09-17\",\"2020-09-18\",\"2020-09-19\",\"2020-09-20\",\"2020-09-21\",\"2020-09-22\",\"2020-09-23\",\"2020-09-24\",\"2020-09-25\",\"2020-09-26\",\"2020-09-27\",\"2020-09-28\",\"2020-09-29\",\"2020-09-30\",\"2020-10-01\",\"2020-10-02\",\"2020-10-03\",\"2020-10-04\",\"2020-10-05\",\"2020-10-06\",\"2020-10-07\",\"2020-10-08\",\"2020-10-09\",\"2020-10-10\",\"2020-10-11\",\"2020-10-12\",\"2020-10-13\",\"2020-10-14\",\"2020-10-15\",\"2020-10-16\",\"2020-10-17\",\"2020-10-18\",\"2020-10-19\",\"2020-10-20\",\"2020-10-21\",\"2020-10-22\",\"2020-10-23\",\"2020-10-24\",\"2020-10-25\",\"2020-10-26\",\"2020-10-27\",\"2020-10-28\",\"2020-10-29\",\"2020-10-30\",\"2020-10-31\",\"2020-11-01\",\"2020-11-02\",\"2020-11-03\",\"2020-11-04\",\"2020-11-05\",\"2020-11-06\",\"2020-11-07\",\"2020-11-08\",\"2020-11-09\",\"2020-11-10\",\"2020-11-11\",\"2020-11-12\",\"2020-11-13\",\"2020-11-14\",\"2020-11-15\",\"2020-11-16\",\"2020-11-17\",\"2020-11-18\",\"2020-11-19\",\"2020-11-20\",\"2020-11-21\",\"2020-11-22\",\"2020-11-23\",\"2020-11-24\",\"2020-11-25\",\"2020-11-26\",\"2020-11-27\",\"2020-11-28\",\"2020-11-29\",\"2020-11-30\",\"2020-12-01\",\"2020-12-02\",\"2020-12-03\",\"2020-12-04\",\"2020-12-05\",\"2020-12-06\",\"2020-12-07\",\"2020-12-08\",\"2020-12-09\",\"2020-12-10\",\"2020-12-11\",\"2020-12-12\",\"2020-12-13\",\"2020-12-14\",\"2020-12-15\",\"2020-12-16\",\"2020-12-17\",\"2020-12-18\",\"2020-12-19\",\"2020-12-20\",\"2020-12-21\",\"2020-12-22\",\"2020-12-23\",\"2020-12-24\",\"2020-12-25\",\"2020-12-26\",\"2020-12-27\",\"2020-12-28\",\"2020-12-29\",\"2020-12-30\",\"2020-12-31\",\"2021-01-01\",\"2021-01-02\",\"2021-01-03\",\"2021-01-04\",\"2021-01-05\",\"2021-01-06\",\"2021-01-07\",\"2021-01-08\",\"2021-01-09\",\"2021-01-10\",\"2021-01-11\",\"2021-01-12\",\"2021-01-13\",\"2021-01-14\",\"2021-01-15\",\"2021-01-16\",\"2021-01-17\",\"2021-01-18\",\"2021-01-19\",\"2021-01-20\",\"2021-01-21\",\"2021-01-22\",\"2021-01-23\",\"2021-01-24\",\"2021-01-25\",\"2021-01-26\",\"2021-01-27\",\"2021-01-28\",\"2021-01-29\",\"2021-01-30\",\"2021-01-31\",\"2021-02-01\",\"2021-02-02\",\"2021-02-03\",\"2021-02-04\",\"2021-02-05\",\"2021-02-06\",\"2021-02-07\",\"2021-02-08\",\"2021-02-09\",\"2021-02-10\",\"2021-02-11\",\"2021-02-12\",\"2021-02-13\",\"2021-02-14\",\"2021-02-15\",\"2021-02-16\",\"2021-02-17\",\"2021-02-18\",\"2021-02-19\",\"2021-02-20\",\"2021-02-21\",\"2021-02-22\",\"2021-02-23\",\"2021-02-24\",\"2021-02-25\",\"2021-02-26\",\"2021-02-27\",\"2021-02-28\",\"2021-03-01\",\"2021-03-02\",\"2021-03-03\",\"2021-03-04\",\"2021-03-05\",\"2021-03-06\",\"2021-03-07\",\"2021-03-08\",\"2021-03-09\",\"2021-03-10\",\"2021-03-11\",\"2021-03-12\",\"2021-03-13\",\"2021-03-14\",\"2021-03-15\",\"2021-03-16\",\"2021-03-17\",\"2021-03-18\",\"2021-03-19\",\"2021-03-20\",\"2021-03-21\",\"2021-03-22\",\"2021-03-23\",\"2021-03-24\",\"2021-03-25\",\"2021-03-26\",\"2021-03-27\",\"2021-03-28\",\"2021-03-29\",\"2021-03-30\",\"2021-03-31\",\"2021-04-01\",\"2021-04-02\",\"2021-04-03\",\"2021-04-04\",\"2021-04-05\",\"2021-04-06\",\"2021-04-07\",\"2021-04-08\",\"2021-04-09\",\"2021-04-10\",\"2021-04-11\",\"2021-04-12\",\"2021-04-13\",\"2021-04-14\",\"2021-04-15\",\"2021-04-16\",\"2021-04-17\",\"2021-04-18\",\"2021-04-19\",\"2021-04-20\",\"2021-04-21\",\"2021-04-22\",\"2021-04-23\",\"2021-04-24\",\"2021-04-25\",\"2021-04-26\",\"2021-04-27\",\"2021-04-28\",\"2021-04-29\",\"2021-04-30\",\"2021-05-01\",\"2021-05-02\",\"2021-05-03\",\"2021-05-04\",\"2021-05-05\",\"2021-05-06\",\"2021-05-07\",\"2021-05-08\",\"2021-05-09\",\"2021-05-10\",\"2021-05-11\",\"2021-05-12\",\"2021-05-13\",\"2021-05-14\",\"2021-05-15\",\"2021-05-16\",\"2021-05-17\",\"2021-05-18\",\"2021-05-19\",\"2021-05-20\",\"2021-05-21\",\"2021-05-22\",\"2021-05-23\",\"2021-05-24\",\"2021-05-25\",\"2021-05-26\",\"2021-05-27\",\"2021-05-28\",\"2021-05-29\",\"2021-05-30\",\"2021-05-31\",\"2021-06-01\",\"2021-06-02\",\"2021-06-03\",\"2021-06-04\",\"2021-06-05\",\"2021-06-06\",\"2021-06-07\",\"2021-06-08\",\"2021-06-09\"],\"xaxis\":\"x\",\"y\":[700.0,585.0,253.0,273.0,725.0,647.0,458.0,580.0,275.0,217.0,188.0,615.0,448.0,353.0,351.0,411.0,67.0,146.0,501.0,329.0,273.0,291.0,220.0,379.0,104.0,131.0,422.0,343.0,274.0,154.0,60.0,86.0,250.0,254.0,130.0,258.0,143.0,54.0,47.0,197.0,164.0,76.0,131.0,107.0,27.0,29.0,120.0,110.0,67.0,84.0,71.0,31.0,13.0,94.0,87.0,99.0,77.0,40.0,31.0,21.0,54.0,97.0,41.0,49.0,32.0,19.0,11.0,54.0,57.0,31.0,34.0,17.0,9.0,10.0,44.0,26.0,24.0,26.0,9.0,11.0,10.0,25.0,17.0,9.0,32.0,15.0,8.0,3.0,21.0,34.0,0.0,20.0,13.0,5.0,1.0,18.0,14.0,18.0,12.0,3.0,5.0,18.0,13.0,20.0,18.0,11.0,3.0,5.0,3.0,12.0,17.0,6.0,2.0,18.0,6.0,4.0,16.0,17.0,12.0,9.0,12.0,1.0,3.0,3.0,10.0,14.0,10.0,12.0,2.0,3.0,32.0,8.0,14.0,6.0,9.0,5.0,9.0,27.0,20.0,21.0,27.0,27.0,18.0,11.0,37.0,37.0,40.0,34.0,35.0,17.0,13.0,72.0,71.0,59.0,66.0,49.0,33.0,19.0,76.0,70.0,77.0,87.0,81.0,65.0,50.0,143.0,137.0,138.0,136.0,150.0,67.0,80.0,241.0,191.0,189.0,224.0,174.0,151.0,102.0,367.0,310.0,280.0,274.0,326.0,162.0,136.0,397.0,492.0,378.0,355.0,413.0,156.0,195.0,532.0,596.0,563.0,376.0,462.0,168.0,214.0,599.0,529.0,502.0,511.0,340.0,399.0,207.0,608.0,695.0,498.0,520.0,479.0,215.0,203.0,603.0,648.0,414.0,504.0,397.0,231.0,189.0,599.0,533.0,516.0,424.0,520.0,144.0,233.0,506.0,612.0,532.0,490.0,537.0,326.0,215.0,691.0,748.0,575.0,570.0,211.0,347.0,357.0,458.0,982.0,965.0,615.0,445.0,455.0,410.0,881.0,1042.0,1162.0,1333.0,1035.0,567.0,529.0,1246.0,1568.0,1253.0,1285.0,1299.0,682.0,602.0,1612.0,1826.0,1296.0,1401.0,1352.0,611.0,594.0,1636.0,1726.0,1239.0,1248.0,1205.0,590.0,407.0,1451.0,1322.0,915.0,1015.0,828.0,376.0,333.0,1052.0,1002.0,680.0,759.0,621.0,259.0,235.0,799.0,738.0,455.0,533.0,446.0,217.0,178.0,548.0,443.0,324.0,345.0,291.0,144.0,104.0,343.0,487.0,242.0,236.0,159.0,82.0,65.0,231.0,190.0,181.0,176.0,122.0,52.0,64.0,110.0,141.0,95.0,100.0,96.0,34.0,18.0,112.0,98.0,63.0,71.0,58.0,21.0,23.0,55.0,43.0,51.0,52.0,10.0,10.0,28.0,20.0,45.0,53.0,60.0,40.0,7.0,15.0,23.0,38.0,31.0,34.0,36.0,10.0,6.0,33.0,20.0,20.0,41.0,32.0,11.0,7.0,17.0,29.0,25.0,16.0,7.0,14.0,1.0,6.0,27.0,13.0,15.0,5.0,2.0,5.0,20.0,11.0,11.0,18.0,7.0,4.0,5.0,7.0,3.0,7.0,9.0,6.0,5.0,3.0,15.0,9.0,10.0,10.0,7.0,6.0,2.0,0.0,12.0,18.0,11.0,13.0,4.0,1.0,14.0,6.0],\"yaxis\":\"y\"}],                        {\"hovermode\":\"x unified\",\"legend\":{\"tracegroupgap\":0},\"template\":{\"data\":{\"bar\":[{\"error_x\":{\"color\":\"#2a3f5f\"},\"error_y\":{\"color\":\"#2a3f5f\"},\"marker\":{\"line\":{\"color\":\"#E5ECF6\",\"width\":0.5},\"pattern\":{\"fillmode\":\"overlay\",\"size\":10,\"solidity\":0.2}},\"type\":\"bar\"}],\"barpolar\":[{\"marker\":{\"line\":{\"color\":\"#E5ECF6\",\"width\":0.5},\"pattern\":{\"fillmode\":\"overlay\",\"size\":10,\"solidity\":0.2}},\"type\":\"barpolar\"}],\"carpet\":[{\"aaxis\":{\"endlinecolor\":\"#2a3f5f\",\"gridcolor\":\"white\",\"linecolor\":\"white\",\"minorgridcolor\":\"white\",\"startlinecolor\":\"#2a3f5f\"},\"baxis\":{\"endlinecolor\":\"#2a3f5f\",\"gridcolor\":\"white\",\"linecolor\":\"white\",\"minorgridcolor\":\"white\",\"startlinecolor\":\"#2a3f5f\"},\"type\":\"carpet\"}],\"choropleth\":[{\"colorbar\":{\"outlinewidth\":0,\"ticks\":\"\"},\"type\":\"choropleth\"}],\"contour\":[{\"colorbar\":{\"outlinewidth\":0,\"ticks\":\"\"},\"colorscale\":[[0.0,\"#0d0887\"],[0.1111111111111111,\"#46039f\"],[0.2222222222222222,\"#7201a8\"],[0.3333333333333333,\"#9c179e\"],[0.4444444444444444,\"#bd3786\"],[0.5555555555555556,\"#d8576b\"],[0.6666666666666666,\"#ed7953\"],[0.7777777777777778,\"#fb9f3a\"],[0.8888888888888888,\"#fdca26\"],[1.0,\"#f0f921\"]],\"type\":\"contour\"}],\"contourcarpet\":[{\"colorbar\":{\"outlinewidth\":0,\"ticks\":\"\"},\"type\":\"contourcarpet\"}],\"heatmap\":[{\"colorbar\":{\"outlinewidth\":0,\"ticks\":\"\"},\"colorscale\":[[0.0,\"#0d0887\"],[0.1111111111111111,\"#46039f\"],[0.2222222222222222,\"#7201a8\"],[0.3333333333333333,\"#9c179e\"],[0.4444444444444444,\"#bd3786\"],[0.5555555555555556,\"#d8576b\"],[0.6666666666666666,\"#ed7953\"],[0.7777777777777778,\"#fb9f3a\"],[0.8888888888888888,\"#fdca26\"],[1.0,\"#f0f921\"]],\"type\":\"heatmap\"}],\"heatmapgl\":[{\"colorbar\":{\"outlinewidth\":0,\"ticks\":\"\"},\"colorscale\":[[0.0,\"#0d0887\"],[0.1111111111111111,\"#46039f\"],[0.2222222222222222,\"#7201a8\"],[0.3333333333333333,\"#9c179e\"],[0.4444444444444444,\"#bd3786\"],[0.5555555555555556,\"#d8576b\"],[0.6666666666666666,\"#ed7953\"],[0.7777777777777778,\"#fb9f3a\"],[0.8888888888888888,\"#fdca26\"],[1.0,\"#f0f921\"]],\"type\":\"heatmapgl\"}],\"histogram\":[{\"marker\":{\"pattern\":{\"fillmode\":\"overlay\",\"size\":10,\"solidity\":0.2}},\"type\":\"histogram\"}],\"histogram2d\":[{\"colorbar\":{\"outlinewidth\":0,\"ticks\":\"\"},\"colorscale\":[[0.0,\"#0d0887\"],[0.1111111111111111,\"#46039f\"],[0.2222222222222222,\"#7201a8\"],[0.3333333333333333,\"#9c179e\"],[0.4444444444444444,\"#bd3786\"],[0.5555555555555556,\"#d8576b\"],[0.6666666666666666,\"#ed7953\"],[0.7777777777777778,\"#fb9f3a\"],[0.8888888888888888,\"#fdca26\"],[1.0,\"#f0f921\"]],\"type\":\"histogram2d\"}],\"histogram2dcontour\":[{\"colorbar\":{\"outlinewidth\":0,\"ticks\":\"\"},\"colorscale\":[[0.0,\"#0d0887\"],[0.1111111111111111,\"#46039f\"],[0.2222222222222222,\"#7201a8\"],[0.3333333333333333,\"#9c179e\"],[0.4444444444444444,\"#bd3786\"],[0.5555555555555556,\"#d8576b\"],[0.6666666666666666,\"#ed7953\"],[0.7777777777777778,\"#fb9f3a\"],[0.8888888888888888,\"#fdca26\"],[1.0,\"#f0f921\"]],\"type\":\"histogram2dcontour\"}],\"mesh3d\":[{\"colorbar\":{\"outlinewidth\":0,\"ticks\":\"\"},\"type\":\"mesh3d\"}],\"parcoords\":[{\"line\":{\"colorbar\":{\"outlinewidth\":0,\"ticks\":\"\"}},\"type\":\"parcoords\"}],\"pie\":[{\"automargin\":true,\"type\":\"pie\"}],\"scatter\":[{\"marker\":{\"colorbar\":{\"outlinewidth\":0,\"ticks\":\"\"}},\"type\":\"scatter\"}],\"scatter3d\":[{\"line\":{\"colorbar\":{\"outlinewidth\":0,\"ticks\":\"\"}},\"marker\":{\"colorbar\":{\"outlinewidth\":0,\"ticks\":\"\"}},\"type\":\"scatter3d\"}],\"scattercarpet\":[{\"marker\":{\"colorbar\":{\"outlinewidth\":0,\"ticks\":\"\"}},\"type\":\"scattercarpet\"}],\"scattergeo\":[{\"marker\":{\"colorbar\":{\"outlinewidth\":0,\"ticks\":\"\"}},\"type\":\"scattergeo\"}],\"scattergl\":[{\"marker\":{\"colorbar\":{\"outlinewidth\":0,\"ticks\":\"\"}},\"type\":\"scattergl\"}],\"scattermapbox\":[{\"marker\":{\"colorbar\":{\"outlinewidth\":0,\"ticks\":\"\"}},\"type\":\"scattermapbox\"}],\"scatterpolar\":[{\"marker\":{\"colorbar\":{\"outlinewidth\":0,\"ticks\":\"\"}},\"type\":\"scatterpolar\"}],\"scatterpolargl\":[{\"marker\":{\"colorbar\":{\"outlinewidth\":0,\"ticks\":\"\"}},\"type\":\"scatterpolargl\"}],\"scatterternary\":[{\"marker\":{\"colorbar\":{\"outlinewidth\":0,\"ticks\":\"\"}},\"type\":\"scatterternary\"}],\"surface\":[{\"colorbar\":{\"outlinewidth\":0,\"ticks\":\"\"},\"colorscale\":[[0.0,\"#0d0887\"],[0.1111111111111111,\"#46039f\"],[0.2222222222222222,\"#7201a8\"],[0.3333333333333333,\"#9c179e\"],[0.4444444444444444,\"#bd3786\"],[0.5555555555555556,\"#d8576b\"],[0.6666666666666666,\"#ed7953\"],[0.7777777777777778,\"#fb9f3a\"],[0.8888888888888888,\"#fdca26\"],[1.0,\"#f0f921\"]],\"type\":\"surface\"}],\"table\":[{\"cells\":{\"fill\":{\"color\":\"#EBF0F8\"},\"line\":{\"color\":\"white\"}},\"header\":{\"fill\":{\"color\":\"#C8D4E3\"},\"line\":{\"color\":\"white\"}},\"type\":\"table\"}]},\"layout\":{\"annotationdefaults\":{\"arrowcolor\":\"#2a3f5f\",\"arrowhead\":0,\"arrowwidth\":1},\"autotypenumbers\":\"strict\",\"coloraxis\":{\"colorbar\":{\"outlinewidth\":0,\"ticks\":\"\"}},\"colorscale\":{\"diverging\":[[0,\"#8e0152\"],[0.1,\"#c51b7d\"],[0.2,\"#de77ae\"],[0.3,\"#f1b6da\"],[0.4,\"#fde0ef\"],[0.5,\"#f7f7f7\"],[0.6,\"#e6f5d0\"],[0.7,\"#b8e186\"],[0.8,\"#7fbc41\"],[0.9,\"#4d9221\"],[1,\"#276419\"]],\"sequential\":[[0.0,\"#0d0887\"],[0.1111111111111111,\"#46039f\"],[0.2222222222222222,\"#7201a8\"],[0.3333333333333333,\"#9c179e\"],[0.4444444444444444,\"#bd3786\"],[0.5555555555555556,\"#d8576b\"],[0.6666666666666666,\"#ed7953\"],[0.7777777777777778,\"#fb9f3a\"],[0.8888888888888888,\"#fdca26\"],[1.0,\"#f0f921\"]],\"sequentialminus\":[[0.0,\"#0d0887\"],[0.1111111111111111,\"#46039f\"],[0.2222222222222222,\"#7201a8\"],[0.3333333333333333,\"#9c179e\"],[0.4444444444444444,\"#bd3786\"],[0.5555555555555556,\"#d8576b\"],[0.6666666666666666,\"#ed7953\"],[0.7777777777777778,\"#fb9f3a\"],[0.8888888888888888,\"#fdca26\"],[1.0,\"#f0f921\"]]},\"colorway\":[\"#636efa\",\"#EF553B\",\"#00cc96\",\"#ab63fa\",\"#FFA15A\",\"#19d3f3\",\"#FF6692\",\"#B6E880\",\"#FF97FF\",\"#FECB52\"],\"font\":{\"color\":\"#2a3f5f\"},\"geo\":{\"bgcolor\":\"white\",\"lakecolor\":\"white\",\"landcolor\":\"#E5ECF6\",\"showlakes\":true,\"showland\":true,\"subunitcolor\":\"white\"},\"hoverlabel\":{\"align\":\"left\"},\"hovermode\":\"closest\",\"mapbox\":{\"style\":\"light\"},\"paper_bgcolor\":\"white\",\"plot_bgcolor\":\"#E5ECF6\",\"polar\":{\"angularaxis\":{\"gridcolor\":\"white\",\"linecolor\":\"white\",\"ticks\":\"\"},\"bgcolor\":\"#E5ECF6\",\"radialaxis\":{\"gridcolor\":\"white\",\"linecolor\":\"white\",\"ticks\":\"\"}},\"scene\":{\"xaxis\":{\"backgroundcolor\":\"#E5ECF6\",\"gridcolor\":\"white\",\"gridwidth\":2,\"linecolor\":\"white\",\"showbackground\":true,\"ticks\":\"\",\"zerolinecolor\":\"white\"},\"yaxis\":{\"backgroundcolor\":\"#E5ECF6\",\"gridcolor\":\"white\",\"gridwidth\":2,\"linecolor\":\"white\",\"showbackground\":true,\"ticks\":\"\",\"zerolinecolor\":\"white\"},\"zaxis\":{\"backgroundcolor\":\"#E5ECF6\",\"gridcolor\":\"white\",\"gridwidth\":2,\"linecolor\":\"white\",\"showbackground\":true,\"ticks\":\"\",\"zerolinecolor\":\"white\"}},\"shapedefaults\":{\"line\":{\"color\":\"#2a3f5f\"}},\"ternary\":{\"aaxis\":{\"gridcolor\":\"white\",\"linecolor\":\"white\",\"ticks\":\"\"},\"baxis\":{\"gridcolor\":\"white\",\"linecolor\":\"white\",\"ticks\":\"\"},\"bgcolor\":\"#E5ECF6\",\"caxis\":{\"gridcolor\":\"white\",\"linecolor\":\"white\",\"ticks\":\"\"}},\"title\":{\"x\":0.05},\"xaxis\":{\"automargin\":true,\"gridcolor\":\"white\",\"linecolor\":\"white\",\"ticks\":\"\",\"title\":{\"standoff\":15},\"zerolinecolor\":\"white\",\"zerolinewidth\":2},\"yaxis\":{\"automargin\":true,\"gridcolor\":\"white\",\"linecolor\":\"white\",\"ticks\":\"\",\"title\":{\"standoff\":15},\"zerolinecolor\":\"white\",\"zerolinewidth\":2}}},\"title\":{\"text\":\"New Deaths\"},\"xaxis\":{\"anchor\":\"y\",\"domain\":[0.0,1.0],\"title\":{\"text\":\"date\"}},\"yaxis\":{\"anchor\":\"x\",\"domain\":[0.0,1.0],\"title\":{\"text\":\"new_deaths\"}}},                        {\"responsive\": true}                    ).then(function(){\n",
              "                            \n",
              "var gd = document.getElementById('c01cdff0-72b3-406a-b8fe-4b0571a32f6c');\n",
              "var x = new MutationObserver(function (mutations, observer) {{\n",
              "        var display = window.getComputedStyle(gd).display;\n",
              "        if (!display || display === 'none') {{\n",
              "            console.log([gd, 'removed!']);\n",
              "            Plotly.purge(gd);\n",
              "            observer.disconnect();\n",
              "        }}\n",
              "}});\n",
              "\n",
              "// Listen for the removal of the full notebook cells\n",
              "var notebookContainer = gd.closest('#notebook-container');\n",
              "if (notebookContainer) {{\n",
              "    x.observe(notebookContainer, {childList: true});\n",
              "}}\n",
              "\n",
              "// Listen for the clearing of the current output cell\n",
              "var outputEl = gd.closest('.output');\n",
              "if (outputEl) {{\n",
              "    x.observe(outputEl, {childList: true});\n",
              "}}\n",
              "\n",
              "                        })                };                            </script>        </div>\n",
              "</body>\n",
              "</html>"
            ]
          },
          "metadata": {
            "tags": []
          }
        }
      ]
    },
    {
      "cell_type": "code",
      "metadata": {
        "colab": {
          "base_uri": "https://localhost:8080/",
          "height": 542
        },
        "id": "7arJvLjeeodZ",
        "outputId": "6af9e439-7a18-4e3a-95ae-3a54c2965900"
      },
      "source": [
        "fig = px.line(dataset_UK_models1,  dataset_UK_models1[\"date\"], dataset_UK_models1[\"icu_patients\"], title = \"ICU Patients\") #hover_data = [\"new_deaths\", \"population\", \"total_cases\", \"new_cases\"])\n",
        "fig.update_traces(mode = \"markers + lines\", hovertemplate = None)\n",
        "fig.update_layout(hovermode = \"x unified\")\n",
        "fig.show()"
      ],
      "execution_count": 56,
      "outputs": [
        {
          "output_type": "display_data",
          "data": {
            "text/html": [
              "<html>\n",
              "<head><meta charset=\"utf-8\" /></head>\n",
              "<body>\n",
              "    <div>            <script src=\"https://cdnjs.cloudflare.com/ajax/libs/mathjax/2.7.5/MathJax.js?config=TeX-AMS-MML_SVG\"></script><script type=\"text/javascript\">if (window.MathJax) {MathJax.Hub.Config({SVG: {font: \"STIX-Web\"}});}</script>                <script type=\"text/javascript\">window.PlotlyConfig = {MathJaxConfig: 'local'};</script>\n",
              "        <script src=\"https://cdn.plot.ly/plotly-2.2.0.min.js\"></script>                <div id=\"5c106bef-36b6-4c27-8b0d-ad5f1e819539\" class=\"plotly-graph-div\" style=\"height:525px; width:100%;\"></div>            <script type=\"text/javascript\">                                    window.PLOTLYENV=window.PLOTLYENV || {};                                    if (document.getElementById(\"5c106bef-36b6-4c27-8b0d-ad5f1e819539\")) {                    Plotly.newPlot(                        \"5c106bef-36b6-4c27-8b0d-ad5f1e819539\",                        [{\"legendgroup\":\"\",\"line\":{\"color\":\"#636efa\",\"dash\":\"solid\"},\"mode\":\"markers+lines\",\"name\":\"\",\"orientation\":\"v\",\"showlegend\":false,\"type\":\"scatter\",\"x\":[\"2020-05-01\",\"2020-05-02\",\"2020-05-03\",\"2020-05-04\",\"2020-05-05\",\"2020-05-06\",\"2020-05-07\",\"2020-05-08\",\"2020-05-09\",\"2020-05-10\",\"2020-05-11\",\"2020-05-12\",\"2020-05-13\",\"2020-05-14\",\"2020-05-15\",\"2020-05-16\",\"2020-05-17\",\"2020-05-18\",\"2020-05-19\",\"2020-05-20\",\"2020-05-21\",\"2020-05-22\",\"2020-05-23\",\"2020-05-24\",\"2020-05-25\",\"2020-05-26\",\"2020-05-27\",\"2020-05-28\",\"2020-05-29\",\"2020-05-30\",\"2020-05-31\",\"2020-06-01\",\"2020-06-02\",\"2020-06-03\",\"2020-06-04\",\"2020-06-05\",\"2020-06-06\",\"2020-06-07\",\"2020-06-08\",\"2020-06-09\",\"2020-06-10\",\"2020-06-11\",\"2020-06-12\",\"2020-06-13\",\"2020-06-14\",\"2020-06-15\",\"2020-06-16\",\"2020-06-17\",\"2020-06-18\",\"2020-06-19\",\"2020-06-20\",\"2020-06-21\",\"2020-06-22\",\"2020-06-23\",\"2020-06-24\",\"2020-06-25\",\"2020-06-26\",\"2020-06-27\",\"2020-06-28\",\"2020-06-29\",\"2020-06-30\",\"2020-07-01\",\"2020-07-02\",\"2020-07-03\",\"2020-07-04\",\"2020-07-05\",\"2020-07-06\",\"2020-07-07\",\"2020-07-08\",\"2020-07-09\",\"2020-07-10\",\"2020-07-11\",\"2020-07-12\",\"2020-07-13\",\"2020-07-14\",\"2020-07-15\",\"2020-07-16\",\"2020-07-17\",\"2020-07-18\",\"2020-07-19\",\"2020-07-20\",\"2020-07-21\",\"2020-07-22\",\"2020-07-23\",\"2020-07-24\",\"2020-07-25\",\"2020-07-26\",\"2020-07-27\",\"2020-07-28\",\"2020-07-29\",\"2020-07-30\",\"2020-07-31\",\"2020-08-01\",\"2020-08-02\",\"2020-08-03\",\"2020-08-04\",\"2020-08-05\",\"2020-08-06\",\"2020-08-07\",\"2020-08-08\",\"2020-08-09\",\"2020-08-10\",\"2020-08-11\",\"2020-08-12\",\"2020-08-13\",\"2020-08-14\",\"2020-08-15\",\"2020-08-16\",\"2020-08-17\",\"2020-08-18\",\"2020-08-19\",\"2020-08-20\",\"2020-08-21\",\"2020-08-22\",\"2020-08-23\",\"2020-08-24\",\"2020-08-25\",\"2020-08-26\",\"2020-08-27\",\"2020-08-28\",\"2020-08-29\",\"2020-08-30\",\"2020-08-31\",\"2020-09-01\",\"2020-09-02\",\"2020-09-03\",\"2020-09-04\",\"2020-09-05\",\"2020-09-06\",\"2020-09-07\",\"2020-09-08\",\"2020-09-09\",\"2020-09-10\",\"2020-09-11\",\"2020-09-12\",\"2020-09-13\",\"2020-09-14\",\"2020-09-15\",\"2020-09-16\",\"2020-09-17\",\"2020-09-18\",\"2020-09-19\",\"2020-09-20\",\"2020-09-21\",\"2020-09-22\",\"2020-09-23\",\"2020-09-24\",\"2020-09-25\",\"2020-09-26\",\"2020-09-27\",\"2020-09-28\",\"2020-09-29\",\"2020-09-30\",\"2020-10-01\",\"2020-10-02\",\"2020-10-03\",\"2020-10-04\",\"2020-10-05\",\"2020-10-06\",\"2020-10-07\",\"2020-10-08\",\"2020-10-09\",\"2020-10-10\",\"2020-10-11\",\"2020-10-12\",\"2020-10-13\",\"2020-10-14\",\"2020-10-15\",\"2020-10-16\",\"2020-10-17\",\"2020-10-18\",\"2020-10-19\",\"2020-10-20\",\"2020-10-21\",\"2020-10-22\",\"2020-10-23\",\"2020-10-24\",\"2020-10-25\",\"2020-10-26\",\"2020-10-27\",\"2020-10-28\",\"2020-10-29\",\"2020-10-30\",\"2020-10-31\",\"2020-11-01\",\"2020-11-02\",\"2020-11-03\",\"2020-11-04\",\"2020-11-05\",\"2020-11-06\",\"2020-11-07\",\"2020-11-08\",\"2020-11-09\",\"2020-11-10\",\"2020-11-11\",\"2020-11-12\",\"2020-11-13\",\"2020-11-14\",\"2020-11-15\",\"2020-11-16\",\"2020-11-17\",\"2020-11-18\",\"2020-11-19\",\"2020-11-20\",\"2020-11-21\",\"2020-11-22\",\"2020-11-23\",\"2020-11-24\",\"2020-11-25\",\"2020-11-26\",\"2020-11-27\",\"2020-11-28\",\"2020-11-29\",\"2020-11-30\",\"2020-12-01\",\"2020-12-02\",\"2020-12-03\",\"2020-12-04\",\"2020-12-05\",\"2020-12-06\",\"2020-12-07\",\"2020-12-08\",\"2020-12-09\",\"2020-12-10\",\"2020-12-11\",\"2020-12-12\",\"2020-12-13\",\"2020-12-14\",\"2020-12-15\",\"2020-12-16\",\"2020-12-17\",\"2020-12-18\",\"2020-12-19\",\"2020-12-20\",\"2020-12-21\",\"2020-12-22\",\"2020-12-23\",\"2020-12-24\",\"2020-12-25\",\"2020-12-26\",\"2020-12-27\",\"2020-12-28\",\"2020-12-29\",\"2020-12-30\",\"2020-12-31\",\"2021-01-01\",\"2021-01-02\",\"2021-01-03\",\"2021-01-04\",\"2021-01-05\",\"2021-01-06\",\"2021-01-07\",\"2021-01-08\",\"2021-01-09\",\"2021-01-10\",\"2021-01-11\",\"2021-01-12\",\"2021-01-13\",\"2021-01-14\",\"2021-01-15\",\"2021-01-16\",\"2021-01-17\",\"2021-01-18\",\"2021-01-19\",\"2021-01-20\",\"2021-01-21\",\"2021-01-22\",\"2021-01-23\",\"2021-01-24\",\"2021-01-25\",\"2021-01-26\",\"2021-01-27\",\"2021-01-28\",\"2021-01-29\",\"2021-01-30\",\"2021-01-31\",\"2021-02-01\",\"2021-02-02\",\"2021-02-03\",\"2021-02-04\",\"2021-02-05\",\"2021-02-06\",\"2021-02-07\",\"2021-02-08\",\"2021-02-09\",\"2021-02-10\",\"2021-02-11\",\"2021-02-12\",\"2021-02-13\",\"2021-02-14\",\"2021-02-15\",\"2021-02-16\",\"2021-02-17\",\"2021-02-18\",\"2021-02-19\",\"2021-02-20\",\"2021-02-21\",\"2021-02-22\",\"2021-02-23\",\"2021-02-24\",\"2021-02-25\",\"2021-02-26\",\"2021-02-27\",\"2021-02-28\",\"2021-03-01\",\"2021-03-02\",\"2021-03-03\",\"2021-03-04\",\"2021-03-05\",\"2021-03-06\",\"2021-03-07\",\"2021-03-08\",\"2021-03-09\",\"2021-03-10\",\"2021-03-11\",\"2021-03-12\",\"2021-03-13\",\"2021-03-14\",\"2021-03-15\",\"2021-03-16\",\"2021-03-17\",\"2021-03-18\",\"2021-03-19\",\"2021-03-20\",\"2021-03-21\",\"2021-03-22\",\"2021-03-23\",\"2021-03-24\",\"2021-03-25\",\"2021-03-26\",\"2021-03-27\",\"2021-03-28\",\"2021-03-29\",\"2021-03-30\",\"2021-03-31\",\"2021-04-01\",\"2021-04-02\",\"2021-04-03\",\"2021-04-04\",\"2021-04-05\",\"2021-04-06\",\"2021-04-07\",\"2021-04-08\",\"2021-04-09\",\"2021-04-10\",\"2021-04-11\",\"2021-04-12\",\"2021-04-13\",\"2021-04-14\",\"2021-04-15\",\"2021-04-16\",\"2021-04-17\",\"2021-04-18\",\"2021-04-19\",\"2021-04-20\",\"2021-04-21\",\"2021-04-22\",\"2021-04-23\",\"2021-04-24\",\"2021-04-25\",\"2021-04-26\",\"2021-04-27\",\"2021-04-28\",\"2021-04-29\",\"2021-04-30\",\"2021-05-01\",\"2021-05-02\",\"2021-05-03\",\"2021-05-04\",\"2021-05-05\",\"2021-05-06\",\"2021-05-07\",\"2021-05-08\",\"2021-05-09\",\"2021-05-10\",\"2021-05-11\",\"2021-05-12\",\"2021-05-13\",\"2021-05-14\",\"2021-05-15\",\"2021-05-16\",\"2021-05-17\",\"2021-05-18\",\"2021-05-19\",\"2021-05-20\",\"2021-05-21\",\"2021-05-22\",\"2021-05-23\",\"2021-05-24\",\"2021-05-25\",\"2021-05-26\",\"2021-05-27\",\"2021-05-28\",\"2021-05-29\",\"2021-05-30\",\"2021-05-31\",\"2021-06-01\",\"2021-06-02\",\"2021-06-03\",\"2021-06-04\",\"2021-06-05\",\"2021-06-06\",\"2021-06-07\",\"2021-06-08\",\"2021-06-09\"],\"xaxis\":\"x\",\"y\":[2178.0,2068.0,2009.0,1936.0,1874.0,1802.0,1685.0,1642.0,1585.0,1538.0,1485.0,1414.0,1342.0,1314.0,1337.0,1234.0,1196.0,1141.0,1106.0,1034.0,1008.0,964.0,928.0,886.0,863.0,847.0,783.0,751.0,719.0,704.0,679.0,652.0,636.0,602.0,571.0,554.0,540.0,515.0,509.0,491.0,439.0,390.0,393.0,390.0,393.0,385.0,378.0,357.0,352.0,330.0,346.0,310.0,340.0,311.0,316.0,276.0,268.0,270.0,270.0,262.0,279.0,259.0,239.0,231.0,220.0,217.0,209.0,197.0,185.0,188.0,191.0,168.0,159.0,162.0,145.0,153.0,142.0,143.0,137.0,131.0,129.0,137.0,110.0,111.0,104.0,93.0,92.0,97.0,93.0,87.0,84.0,86.0,92.0,85.0,77.0,76.0,73.0,69.0,67.0,62.0,65.0,70.0,73.0,80.0,75.0,73.0,76.0,78.0,73.0,73.0,70.0,76.0,72.0,71.0,72.0,68.0,68.0,64.0,71.0,60.0,66.0,68.0,71.0,82.0,81.0,76.0,69.0,65.0,69.0,77.0,80.0,80.0,78.0,143.0,86.0,92.0,105.0,115.0,124.0,127.0,138.0,144.0,165.0,181.0,211.0,228.0,243.0,262.0,261.0,276.0,297.0,314.0,333.0,341.0,369.0,369.0,369.0,393.0,410.0,442.0,436.0,440.0,470.0,477.0,507.0,516.0,563.0,581.0,592.0,614.0,630.0,658.0,698.0,712.0,708.0,744.0,788.0,828.0,853.0,903.0,957.0,974.0,979.0,1003.0,979.0,1075.0,1144.0,1193.0,1183.0,1187.0,1207.0,1232.0,1271.0,1219.0,1268.0,1275.0,1355.0,1365.0,1397.0,1391.0,1420.0,1430.0,1426.0,1421.0,1447.0,1454.0,1487.0,1489.0,1480.0,1456.0,1417.0,1378.0,1388.0,1357.0,1351.0,1315.0,1261.0,1274.0,1247.0,1249.0,1271.0,1272.0,1243.0,1267.0,1275.0,1243.0,1281.0,1288.0,1326.0,1340.0,1366.0,1364.0,1412.0,1442.0,1512.0,1529.0,1554.0,1607.0,1616.0,1682.0,1751.0,1847.0,1939.0,2066.0,2122.0,2162.0,2256.0,2420.0,2560.0,2645.0,2821.0,2929.0,3098.0,3145.0,3264.0,3363.0,3496.0,3626.0,3672.0,3789.0,3854.0,3871.0,3916.0,3947.0,3953.0,3960.0,4076.0,4066.0,4077.0,4032.0,3961.0,3937.0,3918.0,3832.0,3806.0,3687.0,3726.0,3638.0,3628.0,3572.0,3505.0,3373.0,3302.0,3230.0,3164.0,3132.0,3036.0,2943.0,2842.0,2851.0,2805.0,2708.0,2614.0,2535.0,2469.0,2358.0,2329.0,2273.0,2149.0,2118.0,2047.0,1971.0,1903.0,1783.0,1806.0,1709.0,1647.0,1589.0,1542.0,1449.0,1394.0,1356.0,1292.0,1236.0,1192.0,1110.0,1087.0,1049.0,1016.0,968.0,925.0,879.0,830.0,787.0,768.0,748.0,711.0,682.0,630.0,615.0,594.0,582.0,583.0,568.0,547.0,517.0,485.0,478.0,469.0,461.0,453.0,440.0,421.0,405.0,385.0,385.0,377.0,370.0,351.0,329.0,332.0,323.0,311.0,318.0,300.0,276.0,261.0,243.0,240.0,231.0,227.0,214.0,208.0,196.0,185.0,188.0,196.0,187.0,181.0,182.0,163.0,159.0,151.0,144.0,149.0,138.0,136.0,129.0,124.0,121.0,123.0,125.0,124.0,122.0,123.0,124.0,123.0,120.0,121.0,128.0,125.0,120.0,124.0,119.0,124.0,122.0,136.0,129.0,134.0,130.0,135.0,145.0,148.0,154.0,159.0],\"yaxis\":\"y\"}],                        {\"hovermode\":\"x unified\",\"legend\":{\"tracegroupgap\":0},\"template\":{\"data\":{\"bar\":[{\"error_x\":{\"color\":\"#2a3f5f\"},\"error_y\":{\"color\":\"#2a3f5f\"},\"marker\":{\"line\":{\"color\":\"#E5ECF6\",\"width\":0.5},\"pattern\":{\"fillmode\":\"overlay\",\"size\":10,\"solidity\":0.2}},\"type\":\"bar\"}],\"barpolar\":[{\"marker\":{\"line\":{\"color\":\"#E5ECF6\",\"width\":0.5},\"pattern\":{\"fillmode\":\"overlay\",\"size\":10,\"solidity\":0.2}},\"type\":\"barpolar\"}],\"carpet\":[{\"aaxis\":{\"endlinecolor\":\"#2a3f5f\",\"gridcolor\":\"white\",\"linecolor\":\"white\",\"minorgridcolor\":\"white\",\"startlinecolor\":\"#2a3f5f\"},\"baxis\":{\"endlinecolor\":\"#2a3f5f\",\"gridcolor\":\"white\",\"linecolor\":\"white\",\"minorgridcolor\":\"white\",\"startlinecolor\":\"#2a3f5f\"},\"type\":\"carpet\"}],\"choropleth\":[{\"colorbar\":{\"outlinewidth\":0,\"ticks\":\"\"},\"type\":\"choropleth\"}],\"contour\":[{\"colorbar\":{\"outlinewidth\":0,\"ticks\":\"\"},\"colorscale\":[[0.0,\"#0d0887\"],[0.1111111111111111,\"#46039f\"],[0.2222222222222222,\"#7201a8\"],[0.3333333333333333,\"#9c179e\"],[0.4444444444444444,\"#bd3786\"],[0.5555555555555556,\"#d8576b\"],[0.6666666666666666,\"#ed7953\"],[0.7777777777777778,\"#fb9f3a\"],[0.8888888888888888,\"#fdca26\"],[1.0,\"#f0f921\"]],\"type\":\"contour\"}],\"contourcarpet\":[{\"colorbar\":{\"outlinewidth\":0,\"ticks\":\"\"},\"type\":\"contourcarpet\"}],\"heatmap\":[{\"colorbar\":{\"outlinewidth\":0,\"ticks\":\"\"},\"colorscale\":[[0.0,\"#0d0887\"],[0.1111111111111111,\"#46039f\"],[0.2222222222222222,\"#7201a8\"],[0.3333333333333333,\"#9c179e\"],[0.4444444444444444,\"#bd3786\"],[0.5555555555555556,\"#d8576b\"],[0.6666666666666666,\"#ed7953\"],[0.7777777777777778,\"#fb9f3a\"],[0.8888888888888888,\"#fdca26\"],[1.0,\"#f0f921\"]],\"type\":\"heatmap\"}],\"heatmapgl\":[{\"colorbar\":{\"outlinewidth\":0,\"ticks\":\"\"},\"colorscale\":[[0.0,\"#0d0887\"],[0.1111111111111111,\"#46039f\"],[0.2222222222222222,\"#7201a8\"],[0.3333333333333333,\"#9c179e\"],[0.4444444444444444,\"#bd3786\"],[0.5555555555555556,\"#d8576b\"],[0.6666666666666666,\"#ed7953\"],[0.7777777777777778,\"#fb9f3a\"],[0.8888888888888888,\"#fdca26\"],[1.0,\"#f0f921\"]],\"type\":\"heatmapgl\"}],\"histogram\":[{\"marker\":{\"pattern\":{\"fillmode\":\"overlay\",\"size\":10,\"solidity\":0.2}},\"type\":\"histogram\"}],\"histogram2d\":[{\"colorbar\":{\"outlinewidth\":0,\"ticks\":\"\"},\"colorscale\":[[0.0,\"#0d0887\"],[0.1111111111111111,\"#46039f\"],[0.2222222222222222,\"#7201a8\"],[0.3333333333333333,\"#9c179e\"],[0.4444444444444444,\"#bd3786\"],[0.5555555555555556,\"#d8576b\"],[0.6666666666666666,\"#ed7953\"],[0.7777777777777778,\"#fb9f3a\"],[0.8888888888888888,\"#fdca26\"],[1.0,\"#f0f921\"]],\"type\":\"histogram2d\"}],\"histogram2dcontour\":[{\"colorbar\":{\"outlinewidth\":0,\"ticks\":\"\"},\"colorscale\":[[0.0,\"#0d0887\"],[0.1111111111111111,\"#46039f\"],[0.2222222222222222,\"#7201a8\"],[0.3333333333333333,\"#9c179e\"],[0.4444444444444444,\"#bd3786\"],[0.5555555555555556,\"#d8576b\"],[0.6666666666666666,\"#ed7953\"],[0.7777777777777778,\"#fb9f3a\"],[0.8888888888888888,\"#fdca26\"],[1.0,\"#f0f921\"]],\"type\":\"histogram2dcontour\"}],\"mesh3d\":[{\"colorbar\":{\"outlinewidth\":0,\"ticks\":\"\"},\"type\":\"mesh3d\"}],\"parcoords\":[{\"line\":{\"colorbar\":{\"outlinewidth\":0,\"ticks\":\"\"}},\"type\":\"parcoords\"}],\"pie\":[{\"automargin\":true,\"type\":\"pie\"}],\"scatter\":[{\"marker\":{\"colorbar\":{\"outlinewidth\":0,\"ticks\":\"\"}},\"type\":\"scatter\"}],\"scatter3d\":[{\"line\":{\"colorbar\":{\"outlinewidth\":0,\"ticks\":\"\"}},\"marker\":{\"colorbar\":{\"outlinewidth\":0,\"ticks\":\"\"}},\"type\":\"scatter3d\"}],\"scattercarpet\":[{\"marker\":{\"colorbar\":{\"outlinewidth\":0,\"ticks\":\"\"}},\"type\":\"scattercarpet\"}],\"scattergeo\":[{\"marker\":{\"colorbar\":{\"outlinewidth\":0,\"ticks\":\"\"}},\"type\":\"scattergeo\"}],\"scattergl\":[{\"marker\":{\"colorbar\":{\"outlinewidth\":0,\"ticks\":\"\"}},\"type\":\"scattergl\"}],\"scattermapbox\":[{\"marker\":{\"colorbar\":{\"outlinewidth\":0,\"ticks\":\"\"}},\"type\":\"scattermapbox\"}],\"scatterpolar\":[{\"marker\":{\"colorbar\":{\"outlinewidth\":0,\"ticks\":\"\"}},\"type\":\"scatterpolar\"}],\"scatterpolargl\":[{\"marker\":{\"colorbar\":{\"outlinewidth\":0,\"ticks\":\"\"}},\"type\":\"scatterpolargl\"}],\"scatterternary\":[{\"marker\":{\"colorbar\":{\"outlinewidth\":0,\"ticks\":\"\"}},\"type\":\"scatterternary\"}],\"surface\":[{\"colorbar\":{\"outlinewidth\":0,\"ticks\":\"\"},\"colorscale\":[[0.0,\"#0d0887\"],[0.1111111111111111,\"#46039f\"],[0.2222222222222222,\"#7201a8\"],[0.3333333333333333,\"#9c179e\"],[0.4444444444444444,\"#bd3786\"],[0.5555555555555556,\"#d8576b\"],[0.6666666666666666,\"#ed7953\"],[0.7777777777777778,\"#fb9f3a\"],[0.8888888888888888,\"#fdca26\"],[1.0,\"#f0f921\"]],\"type\":\"surface\"}],\"table\":[{\"cells\":{\"fill\":{\"color\":\"#EBF0F8\"},\"line\":{\"color\":\"white\"}},\"header\":{\"fill\":{\"color\":\"#C8D4E3\"},\"line\":{\"color\":\"white\"}},\"type\":\"table\"}]},\"layout\":{\"annotationdefaults\":{\"arrowcolor\":\"#2a3f5f\",\"arrowhead\":0,\"arrowwidth\":1},\"autotypenumbers\":\"strict\",\"coloraxis\":{\"colorbar\":{\"outlinewidth\":0,\"ticks\":\"\"}},\"colorscale\":{\"diverging\":[[0,\"#8e0152\"],[0.1,\"#c51b7d\"],[0.2,\"#de77ae\"],[0.3,\"#f1b6da\"],[0.4,\"#fde0ef\"],[0.5,\"#f7f7f7\"],[0.6,\"#e6f5d0\"],[0.7,\"#b8e186\"],[0.8,\"#7fbc41\"],[0.9,\"#4d9221\"],[1,\"#276419\"]],\"sequential\":[[0.0,\"#0d0887\"],[0.1111111111111111,\"#46039f\"],[0.2222222222222222,\"#7201a8\"],[0.3333333333333333,\"#9c179e\"],[0.4444444444444444,\"#bd3786\"],[0.5555555555555556,\"#d8576b\"],[0.6666666666666666,\"#ed7953\"],[0.7777777777777778,\"#fb9f3a\"],[0.8888888888888888,\"#fdca26\"],[1.0,\"#f0f921\"]],\"sequentialminus\":[[0.0,\"#0d0887\"],[0.1111111111111111,\"#46039f\"],[0.2222222222222222,\"#7201a8\"],[0.3333333333333333,\"#9c179e\"],[0.4444444444444444,\"#bd3786\"],[0.5555555555555556,\"#d8576b\"],[0.6666666666666666,\"#ed7953\"],[0.7777777777777778,\"#fb9f3a\"],[0.8888888888888888,\"#fdca26\"],[1.0,\"#f0f921\"]]},\"colorway\":[\"#636efa\",\"#EF553B\",\"#00cc96\",\"#ab63fa\",\"#FFA15A\",\"#19d3f3\",\"#FF6692\",\"#B6E880\",\"#FF97FF\",\"#FECB52\"],\"font\":{\"color\":\"#2a3f5f\"},\"geo\":{\"bgcolor\":\"white\",\"lakecolor\":\"white\",\"landcolor\":\"#E5ECF6\",\"showlakes\":true,\"showland\":true,\"subunitcolor\":\"white\"},\"hoverlabel\":{\"align\":\"left\"},\"hovermode\":\"closest\",\"mapbox\":{\"style\":\"light\"},\"paper_bgcolor\":\"white\",\"plot_bgcolor\":\"#E5ECF6\",\"polar\":{\"angularaxis\":{\"gridcolor\":\"white\",\"linecolor\":\"white\",\"ticks\":\"\"},\"bgcolor\":\"#E5ECF6\",\"radialaxis\":{\"gridcolor\":\"white\",\"linecolor\":\"white\",\"ticks\":\"\"}},\"scene\":{\"xaxis\":{\"backgroundcolor\":\"#E5ECF6\",\"gridcolor\":\"white\",\"gridwidth\":2,\"linecolor\":\"white\",\"showbackground\":true,\"ticks\":\"\",\"zerolinecolor\":\"white\"},\"yaxis\":{\"backgroundcolor\":\"#E5ECF6\",\"gridcolor\":\"white\",\"gridwidth\":2,\"linecolor\":\"white\",\"showbackground\":true,\"ticks\":\"\",\"zerolinecolor\":\"white\"},\"zaxis\":{\"backgroundcolor\":\"#E5ECF6\",\"gridcolor\":\"white\",\"gridwidth\":2,\"linecolor\":\"white\",\"showbackground\":true,\"ticks\":\"\",\"zerolinecolor\":\"white\"}},\"shapedefaults\":{\"line\":{\"color\":\"#2a3f5f\"}},\"ternary\":{\"aaxis\":{\"gridcolor\":\"white\",\"linecolor\":\"white\",\"ticks\":\"\"},\"baxis\":{\"gridcolor\":\"white\",\"linecolor\":\"white\",\"ticks\":\"\"},\"bgcolor\":\"#E5ECF6\",\"caxis\":{\"gridcolor\":\"white\",\"linecolor\":\"white\",\"ticks\":\"\"}},\"title\":{\"x\":0.05},\"xaxis\":{\"automargin\":true,\"gridcolor\":\"white\",\"linecolor\":\"white\",\"ticks\":\"\",\"title\":{\"standoff\":15},\"zerolinecolor\":\"white\",\"zerolinewidth\":2},\"yaxis\":{\"automargin\":true,\"gridcolor\":\"white\",\"linecolor\":\"white\",\"ticks\":\"\",\"title\":{\"standoff\":15},\"zerolinecolor\":\"white\",\"zerolinewidth\":2}}},\"title\":{\"text\":\"ICU Patients\"},\"xaxis\":{\"anchor\":\"y\",\"domain\":[0.0,1.0],\"title\":{\"text\":\"date\"}},\"yaxis\":{\"anchor\":\"x\",\"domain\":[0.0,1.0],\"title\":{\"text\":\"icu_patients\"}}},                        {\"responsive\": true}                    ).then(function(){\n",
              "                            \n",
              "var gd = document.getElementById('5c106bef-36b6-4c27-8b0d-ad5f1e819539');\n",
              "var x = new MutationObserver(function (mutations, observer) {{\n",
              "        var display = window.getComputedStyle(gd).display;\n",
              "        if (!display || display === 'none') {{\n",
              "            console.log([gd, 'removed!']);\n",
              "            Plotly.purge(gd);\n",
              "            observer.disconnect();\n",
              "        }}\n",
              "}});\n",
              "\n",
              "// Listen for the removal of the full notebook cells\n",
              "var notebookContainer = gd.closest('#notebook-container');\n",
              "if (notebookContainer) {{\n",
              "    x.observe(notebookContainer, {childList: true});\n",
              "}}\n",
              "\n",
              "// Listen for the clearing of the current output cell\n",
              "var outputEl = gd.closest('.output');\n",
              "if (outputEl) {{\n",
              "    x.observe(outputEl, {childList: true});\n",
              "}}\n",
              "\n",
              "                        })                };                            </script>        </div>\n",
              "</body>\n",
              "</html>"
            ]
          },
          "metadata": {
            "tags": []
          }
        }
      ]
    },
    {
      "cell_type": "code",
      "metadata": {
        "colab": {
          "base_uri": "https://localhost:8080/",
          "height": 542
        },
        "id": "z0h5eLpKeoka",
        "outputId": "5d48dbea-fec5-4f4a-e9cc-c0286204fdef"
      },
      "source": [
        "fig = px.line(dataset_UK_models1,  dataset_UK_models1[\"date\"], dataset_UK_models1[\"Mortality_Rate\"], title = \"New Deaths\", hover_data = [\"Mortality_Rate\"]) #hover_data = [\"new_deaths\", \"population\", \"total_cases\", \"new_cases\"])\n",
        "fig.update_traces(mode = \"markers + lines\", hovertemplate = None)\n",
        "fig.update_layout(hovermode = \"x unified\")\n",
        "fig.show()"
      ],
      "execution_count": 57,
      "outputs": [
        {
          "output_type": "display_data",
          "data": {
            "text/html": [
              "<html>\n",
              "<head><meta charset=\"utf-8\" /></head>\n",
              "<body>\n",
              "    <div>            <script src=\"https://cdnjs.cloudflare.com/ajax/libs/mathjax/2.7.5/MathJax.js?config=TeX-AMS-MML_SVG\"></script><script type=\"text/javascript\">if (window.MathJax) {MathJax.Hub.Config({SVG: {font: \"STIX-Web\"}});}</script>                <script type=\"text/javascript\">window.PlotlyConfig = {MathJaxConfig: 'local'};</script>\n",
              "        <script src=\"https://cdn.plot.ly/plotly-2.2.0.min.js\"></script>                <div id=\"c0bfb85e-d424-4873-b250-6025a2d661c5\" class=\"plotly-graph-div\" style=\"height:525px; width:100%;\"></div>            <script type=\"text/javascript\">                                    window.PLOTLYENV=window.PLOTLYENV || {};                                    if (document.getElementById(\"c0bfb85e-d424-4873-b250-6025a2d661c5\")) {                    Plotly.newPlot(                        \"c0bfb85e-d424-4873-b250-6025a2d661c5\",                        [{\"legendgroup\":\"\",\"line\":{\"color\":\"#636efa\",\"dash\":\"solid\"},\"mode\":\"markers+lines\",\"name\":\"\",\"orientation\":\"v\",\"showlegend\":false,\"type\":\"scatter\",\"x\":[\"2020-05-01\",\"2020-05-02\",\"2020-05-03\",\"2020-05-04\",\"2020-05-05\",\"2020-05-06\",\"2020-05-07\",\"2020-05-08\",\"2020-05-09\",\"2020-05-10\",\"2020-05-11\",\"2020-05-12\",\"2020-05-13\",\"2020-05-14\",\"2020-05-15\",\"2020-05-16\",\"2020-05-17\",\"2020-05-18\",\"2020-05-19\",\"2020-05-20\",\"2020-05-21\",\"2020-05-22\",\"2020-05-23\",\"2020-05-24\",\"2020-05-25\",\"2020-05-26\",\"2020-05-27\",\"2020-05-28\",\"2020-05-29\",\"2020-05-30\",\"2020-05-31\",\"2020-06-01\",\"2020-06-02\",\"2020-06-03\",\"2020-06-04\",\"2020-06-05\",\"2020-06-06\",\"2020-06-07\",\"2020-06-08\",\"2020-06-09\",\"2020-06-10\",\"2020-06-11\",\"2020-06-12\",\"2020-06-13\",\"2020-06-14\",\"2020-06-15\",\"2020-06-16\",\"2020-06-17\",\"2020-06-18\",\"2020-06-19\",\"2020-06-20\",\"2020-06-21\",\"2020-06-22\",\"2020-06-23\",\"2020-06-24\",\"2020-06-25\",\"2020-06-26\",\"2020-06-27\",\"2020-06-28\",\"2020-06-29\",\"2020-06-30\",\"2020-07-01\",\"2020-07-02\",\"2020-07-03\",\"2020-07-04\",\"2020-07-05\",\"2020-07-06\",\"2020-07-07\",\"2020-07-08\",\"2020-07-09\",\"2020-07-10\",\"2020-07-11\",\"2020-07-12\",\"2020-07-13\",\"2020-07-14\",\"2020-07-15\",\"2020-07-16\",\"2020-07-17\",\"2020-07-18\",\"2020-07-19\",\"2020-07-20\",\"2020-07-21\",\"2020-07-22\",\"2020-07-23\",\"2020-07-24\",\"2020-07-25\",\"2020-07-26\",\"2020-07-27\",\"2020-07-28\",\"2020-07-29\",\"2020-07-30\",\"2020-07-31\",\"2020-08-01\",\"2020-08-02\",\"2020-08-03\",\"2020-08-04\",\"2020-08-05\",\"2020-08-06\",\"2020-08-07\",\"2020-08-08\",\"2020-08-09\",\"2020-08-10\",\"2020-08-11\",\"2020-08-12\",\"2020-08-13\",\"2020-08-14\",\"2020-08-15\",\"2020-08-16\",\"2020-08-17\",\"2020-08-18\",\"2020-08-19\",\"2020-08-20\",\"2020-08-21\",\"2020-08-22\",\"2020-08-23\",\"2020-08-24\",\"2020-08-25\",\"2020-08-26\",\"2020-08-27\",\"2020-08-28\",\"2020-08-29\",\"2020-08-30\",\"2020-08-31\",\"2020-09-01\",\"2020-09-02\",\"2020-09-03\",\"2020-09-04\",\"2020-09-05\",\"2020-09-06\",\"2020-09-07\",\"2020-09-08\",\"2020-09-09\",\"2020-09-10\",\"2020-09-11\",\"2020-09-12\",\"2020-09-13\",\"2020-09-14\",\"2020-09-15\",\"2020-09-16\",\"2020-09-17\",\"2020-09-18\",\"2020-09-19\",\"2020-09-20\",\"2020-09-21\",\"2020-09-22\",\"2020-09-23\",\"2020-09-24\",\"2020-09-25\",\"2020-09-26\",\"2020-09-27\",\"2020-09-28\",\"2020-09-29\",\"2020-09-30\",\"2020-10-01\",\"2020-10-02\",\"2020-10-03\",\"2020-10-04\",\"2020-10-05\",\"2020-10-06\",\"2020-10-07\",\"2020-10-08\",\"2020-10-09\",\"2020-10-10\",\"2020-10-11\",\"2020-10-12\",\"2020-10-13\",\"2020-10-14\",\"2020-10-15\",\"2020-10-16\",\"2020-10-17\",\"2020-10-18\",\"2020-10-19\",\"2020-10-20\",\"2020-10-21\",\"2020-10-22\",\"2020-10-23\",\"2020-10-24\",\"2020-10-25\",\"2020-10-26\",\"2020-10-27\",\"2020-10-28\",\"2020-10-29\",\"2020-10-30\",\"2020-10-31\",\"2020-11-01\",\"2020-11-02\",\"2020-11-03\",\"2020-11-04\",\"2020-11-05\",\"2020-11-06\",\"2020-11-07\",\"2020-11-08\",\"2020-11-09\",\"2020-11-10\",\"2020-11-11\",\"2020-11-12\",\"2020-11-13\",\"2020-11-14\",\"2020-11-15\",\"2020-11-16\",\"2020-11-17\",\"2020-11-18\",\"2020-11-19\",\"2020-11-20\",\"2020-11-21\",\"2020-11-22\",\"2020-11-23\",\"2020-11-24\",\"2020-11-25\",\"2020-11-26\",\"2020-11-27\",\"2020-11-28\",\"2020-11-29\",\"2020-11-30\",\"2020-12-01\",\"2020-12-02\",\"2020-12-03\",\"2020-12-04\",\"2020-12-05\",\"2020-12-06\",\"2020-12-07\",\"2020-12-08\",\"2020-12-09\",\"2020-12-10\",\"2020-12-11\",\"2020-12-12\",\"2020-12-13\",\"2020-12-14\",\"2020-12-15\",\"2020-12-16\",\"2020-12-17\",\"2020-12-18\",\"2020-12-19\",\"2020-12-20\",\"2020-12-21\",\"2020-12-22\",\"2020-12-23\",\"2020-12-24\",\"2020-12-25\",\"2020-12-26\",\"2020-12-27\",\"2020-12-28\",\"2020-12-29\",\"2020-12-30\",\"2020-12-31\",\"2021-01-01\",\"2021-01-02\",\"2021-01-03\",\"2021-01-04\",\"2021-01-05\",\"2021-01-06\",\"2021-01-07\",\"2021-01-08\",\"2021-01-09\",\"2021-01-10\",\"2021-01-11\",\"2021-01-12\",\"2021-01-13\",\"2021-01-14\",\"2021-01-15\",\"2021-01-16\",\"2021-01-17\",\"2021-01-18\",\"2021-01-19\",\"2021-01-20\",\"2021-01-21\",\"2021-01-22\",\"2021-01-23\",\"2021-01-24\",\"2021-01-25\",\"2021-01-26\",\"2021-01-27\",\"2021-01-28\",\"2021-01-29\",\"2021-01-30\",\"2021-01-31\",\"2021-02-01\",\"2021-02-02\",\"2021-02-03\",\"2021-02-04\",\"2021-02-05\",\"2021-02-06\",\"2021-02-07\",\"2021-02-08\",\"2021-02-09\",\"2021-02-10\",\"2021-02-11\",\"2021-02-12\",\"2021-02-13\",\"2021-02-14\",\"2021-02-15\",\"2021-02-16\",\"2021-02-17\",\"2021-02-18\",\"2021-02-19\",\"2021-02-20\",\"2021-02-21\",\"2021-02-22\",\"2021-02-23\",\"2021-02-24\",\"2021-02-25\",\"2021-02-26\",\"2021-02-27\",\"2021-02-28\",\"2021-03-01\",\"2021-03-02\",\"2021-03-03\",\"2021-03-04\",\"2021-03-05\",\"2021-03-06\",\"2021-03-07\",\"2021-03-08\",\"2021-03-09\",\"2021-03-10\",\"2021-03-11\",\"2021-03-12\",\"2021-03-13\",\"2021-03-14\",\"2021-03-15\",\"2021-03-16\",\"2021-03-17\",\"2021-03-18\",\"2021-03-19\",\"2021-03-20\",\"2021-03-21\",\"2021-03-22\",\"2021-03-23\",\"2021-03-24\",\"2021-03-25\",\"2021-03-26\",\"2021-03-27\",\"2021-03-28\",\"2021-03-29\",\"2021-03-30\",\"2021-03-31\",\"2021-04-01\",\"2021-04-02\",\"2021-04-03\",\"2021-04-04\",\"2021-04-05\",\"2021-04-06\",\"2021-04-07\",\"2021-04-08\",\"2021-04-09\",\"2021-04-10\",\"2021-04-11\",\"2021-04-12\",\"2021-04-13\",\"2021-04-14\",\"2021-04-15\",\"2021-04-16\",\"2021-04-17\",\"2021-04-18\",\"2021-04-19\",\"2021-04-20\",\"2021-04-21\",\"2021-04-22\",\"2021-04-23\",\"2021-04-24\",\"2021-04-25\",\"2021-04-26\",\"2021-04-27\",\"2021-04-28\",\"2021-04-29\",\"2021-04-30\",\"2021-05-01\",\"2021-05-02\",\"2021-05-03\",\"2021-05-04\",\"2021-05-05\",\"2021-05-06\",\"2021-05-07\",\"2021-05-08\",\"2021-05-09\",\"2021-05-10\",\"2021-05-11\",\"2021-05-12\",\"2021-05-13\",\"2021-05-14\",\"2021-05-15\",\"2021-05-16\",\"2021-05-17\",\"2021-05-18\",\"2021-05-19\",\"2021-05-20\",\"2021-05-21\",\"2021-05-22\",\"2021-05-23\",\"2021-05-24\",\"2021-05-25\",\"2021-05-26\",\"2021-05-27\",\"2021-05-28\",\"2021-05-29\",\"2021-05-30\",\"2021-05-31\",\"2021-06-01\",\"2021-06-02\",\"2021-06-03\",\"2021-06-04\",\"2021-06-05\",\"2021-06-06\",\"2021-06-07\",\"2021-06-08\",\"2021-06-09\"],\"xaxis\":\"x\",\"y\":[1.0311403805709348e-05,8.617387466199956e-06,3.726835946920664e-06,4.021447484226646e-06,1.0679668227341825e-05,9.530683231848497e-06,6.7466042043069736e-06,8.54373458187346e-06,4.050908637957244e-06,3.196535179769898e-06,2.7693484506762246e-06,9.059304772158927e-06,6.599298435653982e-06,5.199893633450571e-06,5.170432479719973e-06,6.054267091637917e-06,9.869486499750376e-07,2.150664222333664e-06,7.380019009514833e-06,4.846359788683393e-06,4.021447484226646e-06,4.286597867802029e-06,3.240726910365795e-06,5.582888631948347e-06,1.5319799939911032e-06,1.929705569354178e-06,6.216303437156207e-06,5.05258786479758e-06,4.036178061091945e-06,2.2685088372560565e-06,8.838346119179441e-07,1.2668296104157199e-06,3.682644216324767e-06,3.7415665237859632e-06,1.914974992488879e-06,3.8004888312471597e-06,2.106472491737767e-06,7.954511507261497e-07,6.923371126690562e-07,2.9019236424639163e-06,2.4158146059090474e-06,1.1195238417627293e-06,1.929705569354178e-06,1.5761717245870004e-06,3.9772557536307484e-07,4.27186729093673e-07,1.7676692238358882e-06,1.6203634551828976e-06,9.869486499750376e-07,1.2373684566851217e-06,1.0458709574362338e-06,4.566478828242711e-07,1.914974992488879e-07,1.3846742253381123e-06,1.2815601872810189e-06,1.4583271096646077e-06,1.1342544186280283e-06,5.892230746119627e-07,4.566478828242711e-07,3.093421141712804e-07,7.954511507261497e-07,1.4288659559340095e-06,6.039536514772618e-07,7.217982663996544e-07,4.7137845968957016e-07,2.798809604406823e-07,1.6203634551828976e-07,7.954511507261497e-07,8.396428813220469e-07,4.566478828242711e-07,5.008396134201683e-07,2.5041980671008416e-07,1.325751917876916e-07,1.4730576865299068e-07,6.48145382073159e-07,3.829949984977758e-07,3.5353384476717763e-07,3.829949984977758e-07,1.325751917876916e-07,1.6203634551828976e-07,1.4730576865299068e-07,3.682644216324767e-07,2.5041980671008416e-07,1.325751917876916e-07,4.7137845968957016e-07,2.2095865297948603e-07,1.1784461492239254e-07,4.4191730595897204e-08,3.093421141712804e-07,5.008396134201683e-07,0.0,2.9461153730598137e-07,1.914974992488879e-07,7.365288432649534e-08,1.4730576865299067e-08,2.651503835753832e-07,2.0622807611418695e-07,2.651503835753832e-07,1.7676692238358882e-07,4.4191730595897204e-08,7.365288432649534e-08,2.651503835753832e-07,1.914974992488879e-07,2.9461153730598137e-07,2.651503835753832e-07,1.6203634551828976e-07,4.4191730595897204e-08,7.365288432649534e-08,4.4191730595897204e-08,1.7676692238358882e-07,2.5041980671008416e-07,8.838346119179441e-08,2.9461153730598135e-08,2.651503835753832e-07,8.838346119179441e-08,5.892230746119627e-08,2.3568922984478508e-07,2.5041980671008416e-07,1.7676692238358882e-07,1.325751917876916e-07,1.7676692238358882e-07,1.4730576865299067e-08,4.4191730595897204e-08,4.4191730595897204e-08,1.4730576865299068e-07,2.0622807611418695e-07,1.4730576865299068e-07,1.7676692238358882e-07,2.9461153730598135e-08,4.4191730595897204e-08,4.7137845968957016e-07,1.1784461492239254e-07,2.0622807611418695e-07,8.838346119179441e-08,1.325751917876916e-07,7.365288432649534e-08,1.325751917876916e-07,3.9772557536307484e-07,2.9461153730598137e-07,3.093421141712804e-07,3.9772557536307484e-07,3.9772557536307484e-07,2.651503835753832e-07,1.6203634551828976e-07,5.450313440160655e-07,5.450313440160655e-07,5.892230746119627e-07,5.008396134201683e-07,5.155701902854674e-07,2.5041980671008416e-07,1.914974992488879e-07,1.0606015343015328e-06,1.0458709574362338e-06,8.69104035052645e-07,9.722180731097384e-07,7.217982663996544e-07,4.861090365548692e-07,2.798809604406823e-07,1.1195238417627293e-06,1.0311403805709348e-06,1.1342544186280283e-06,1.2815601872810189e-06,1.1931767260892245e-06,9.574874962444394e-07,7.365288432649534e-07,2.106472491737767e-06,2.0180890305459725e-06,2.0328196074112713e-06,2.0033584536806733e-06,2.20958652979486e-06,9.869486499750376e-07,1.1784461492239255e-06,3.5500690245370756e-06,2.813540181272122e-06,2.784079027541524e-06,3.299649217826991e-06,2.5631203745620378e-06,2.2243171066601593e-06,1.502518840260505e-06,5.406121709564758e-06,4.5664788282427115e-06,4.124561522283739e-06,4.036178061091945e-06,4.802168058087496e-06,2.386353452178449e-06,2.0033584536806733e-06,5.84803901552373e-06,7.247443817727142e-06,5.568158055083048e-06,5.229354787181169e-06,6.083728245368515e-06,2.2979699909866545e-06,2.8724624887333183e-06,7.836666892339104e-06,8.779423811718245e-06,8.293314775163375e-06,5.538696901352449e-06,6.8055265117681696e-06,2.4747369133702434e-06,3.1523434491740007e-06,8.823615542314141e-06,7.792475161743207e-06,7.394749586380132e-06,7.527324778167824e-06,5.0083961342016836e-06,5.8775001692543286e-06,3.049229411116907e-06,8.956190734101834e-06,1.0237750921382852e-05,7.335827278918936e-06,7.659899969955515e-06,7.055946318478254e-06,3.1670740260392995e-06,2.9903071036557107e-06,8.882537849775338e-06,9.545413808713796e-06,6.098458822233814e-06,7.4242107401107305e-06,5.84803901552373e-06,3.4027632558840848e-06,2.784079027541524e-06,8.823615542314141e-06,7.851397469204403e-06,7.600977662494319e-06,6.245764590886805e-06,7.659899969955515e-06,2.1212030686030657e-06,3.4322244096146828e-06,7.453671893841328e-06,9.01511304156303e-06,7.836666892339104e-06,7.217982663996543e-06,7.9103197766656e-06,4.802168058087496e-06,3.1670740260392995e-06,1.0178828613921657e-05,1.1018471495243703e-05,8.470081697546963e-06,8.396428813220469e-06,3.1081517185781035e-06,5.111510172258776e-06,5.258815940911768e-06,6.7466042043069736e-06,1.4465426481723685e-05,1.42150066750136e-05,9.059304772158927e-06,6.5551067050580855e-06,6.702412473711076e-06,6.039536514772618e-06,1.297763821832848e-05,1.534926109364163e-05,1.7116930317477518e-05,1.9635858961443657e-05,1.5246147055584536e-05,8.352237082624571e-06,7.792475161743207e-06,1.8354298774162638e-05,2.309754452478894e-05,1.8457412812219734e-05,1.8928791271909302e-05,1.913501934802349e-05,1.0046253422133964e-05,8.867807272910039e-06,2.3745689906862098e-05,2.68980333560361e-05,1.909082761742759e-05,2.0637538188283993e-05,1.991573992188434e-05,9.00038246469773e-06,8.749962657987647e-06,2.4099223751629276e-05,2.542497566950619e-05,1.8251184736105545e-05,1.8383759927893236e-05,1.775034512268538e-05,8.69104035052645e-06,5.9953447841767206e-06,2.1374067031548947e-05,1.9473822615925368e-05,1.3478477831748648e-05,1.4951535518278554e-05,1.2196917644467628e-05,5.538696901352449e-06,4.90528209614459e-06,1.549656686229462e-05,1.4760038019029666e-05,1.0016792268403367e-05,1.1180507840761993e-05,9.147688233350722e-06,3.8152194081124585e-06,3.461685563345281e-06,1.1769730915373955e-05,1.0871165726590713e-05,6.702412473711076e-06,7.851397469204403e-06,6.569837281923385e-06,3.196535179769898e-06,2.622042682023234e-06,8.07235612218389e-06,6.525645551327487e-06,4.772706904356898e-06,5.082049018528179e-06,4.286597867802029e-06,2.1212030686030657e-06,1.5319799939911032e-06,5.05258786479758e-06,7.1737909334006464e-06,3.5647996014023744e-06,3.47641614021058e-06,2.3421617215825517e-06,1.2079073029545237e-06,9.574874962444394e-07,3.4027632558840848e-06,2.798809604406823e-06,2.6662344126191314e-06,2.592581528292636e-06,1.7971303775664864e-06,7.659899969955516e-07,9.427569193791403e-07,1.6203634551828976e-06,2.0770113380071685e-06,1.3994048022034115e-06,1.4730576865299067e-06,1.4141353790687105e-06,5.008396134201683e-07,2.651503835753832e-07,1.6498246089134956e-06,1.4435965327993087e-06,9.280263425138413e-07,1.0458709574362338e-06,8.54373458187346e-07,3.093421141712804e-07,3.388032679018786e-07,8.101817275914488e-07,6.334148052078599e-07,7.512594201302525e-07,7.659899969955516e-07,1.4730576865299068e-07,1.4730576865299068e-07,4.124561522283739e-07,2.9461153730598137e-07,6.62875958938458e-07,7.807205738608506e-07,8.838346119179441e-07,5.892230746119627e-07,1.0311403805709347e-07,2.2095865297948603e-07,3.388032679018786e-07,5.597619208813646e-07,4.566478828242711e-07,5.008396134201683e-07,5.303007671507664e-07,1.4730576865299068e-07,8.838346119179441e-08,4.861090365548692e-07,2.9461153730598137e-07,2.9461153730598137e-07,6.039536514772618e-07,4.7137845968957016e-07,1.6203634551828976e-07,1.0311403805709347e-07,2.5041980671008416e-07,4.27186729093673e-07,3.682644216324767e-07,2.3568922984478508e-07,1.0311403805709347e-07,2.0622807611418695e-07,1.4730576865299067e-08,8.838346119179441e-08,3.9772557536307484e-07,1.914974992488879e-07,2.2095865297948603e-07,7.365288432649534e-08,2.9461153730598135e-08,7.365288432649534e-08,2.9461153730598137e-07,1.6203634551828976e-07,1.6203634551828976e-07,2.651503835753832e-07,1.0311403805709347e-07,5.892230746119627e-08,7.365288432649534e-08,1.0311403805709347e-07,4.4191730595897204e-08,1.0311403805709347e-07,1.325751917876916e-07,8.838346119179441e-08,7.365288432649534e-08,4.4191730595897204e-08,2.2095865297948603e-07,1.325751917876916e-07,1.4730576865299068e-07,1.4730576865299068e-07,1.0311403805709347e-07,8.838346119179441e-08,2.9461153730598135e-08,0.0,1.7676692238358882e-07,2.651503835753832e-07,1.6203634551828976e-07,1.914974992488879e-07,5.892230746119627e-08,1.4730576865299067e-08,2.0622807611418695e-07,8.838346119179441e-08],\"yaxis\":\"y\"}],                        {\"hovermode\":\"x unified\",\"legend\":{\"tracegroupgap\":0},\"template\":{\"data\":{\"bar\":[{\"error_x\":{\"color\":\"#2a3f5f\"},\"error_y\":{\"color\":\"#2a3f5f\"},\"marker\":{\"line\":{\"color\":\"#E5ECF6\",\"width\":0.5},\"pattern\":{\"fillmode\":\"overlay\",\"size\":10,\"solidity\":0.2}},\"type\":\"bar\"}],\"barpolar\":[{\"marker\":{\"line\":{\"color\":\"#E5ECF6\",\"width\":0.5},\"pattern\":{\"fillmode\":\"overlay\",\"size\":10,\"solidity\":0.2}},\"type\":\"barpolar\"}],\"carpet\":[{\"aaxis\":{\"endlinecolor\":\"#2a3f5f\",\"gridcolor\":\"white\",\"linecolor\":\"white\",\"minorgridcolor\":\"white\",\"startlinecolor\":\"#2a3f5f\"},\"baxis\":{\"endlinecolor\":\"#2a3f5f\",\"gridcolor\":\"white\",\"linecolor\":\"white\",\"minorgridcolor\":\"white\",\"startlinecolor\":\"#2a3f5f\"},\"type\":\"carpet\"}],\"choropleth\":[{\"colorbar\":{\"outlinewidth\":0,\"ticks\":\"\"},\"type\":\"choropleth\"}],\"contour\":[{\"colorbar\":{\"outlinewidth\":0,\"ticks\":\"\"},\"colorscale\":[[0.0,\"#0d0887\"],[0.1111111111111111,\"#46039f\"],[0.2222222222222222,\"#7201a8\"],[0.3333333333333333,\"#9c179e\"],[0.4444444444444444,\"#bd3786\"],[0.5555555555555556,\"#d8576b\"],[0.6666666666666666,\"#ed7953\"],[0.7777777777777778,\"#fb9f3a\"],[0.8888888888888888,\"#fdca26\"],[1.0,\"#f0f921\"]],\"type\":\"contour\"}],\"contourcarpet\":[{\"colorbar\":{\"outlinewidth\":0,\"ticks\":\"\"},\"type\":\"contourcarpet\"}],\"heatmap\":[{\"colorbar\":{\"outlinewidth\":0,\"ticks\":\"\"},\"colorscale\":[[0.0,\"#0d0887\"],[0.1111111111111111,\"#46039f\"],[0.2222222222222222,\"#7201a8\"],[0.3333333333333333,\"#9c179e\"],[0.4444444444444444,\"#bd3786\"],[0.5555555555555556,\"#d8576b\"],[0.6666666666666666,\"#ed7953\"],[0.7777777777777778,\"#fb9f3a\"],[0.8888888888888888,\"#fdca26\"],[1.0,\"#f0f921\"]],\"type\":\"heatmap\"}],\"heatmapgl\":[{\"colorbar\":{\"outlinewidth\":0,\"ticks\":\"\"},\"colorscale\":[[0.0,\"#0d0887\"],[0.1111111111111111,\"#46039f\"],[0.2222222222222222,\"#7201a8\"],[0.3333333333333333,\"#9c179e\"],[0.4444444444444444,\"#bd3786\"],[0.5555555555555556,\"#d8576b\"],[0.6666666666666666,\"#ed7953\"],[0.7777777777777778,\"#fb9f3a\"],[0.8888888888888888,\"#fdca26\"],[1.0,\"#f0f921\"]],\"type\":\"heatmapgl\"}],\"histogram\":[{\"marker\":{\"pattern\":{\"fillmode\":\"overlay\",\"size\":10,\"solidity\":0.2}},\"type\":\"histogram\"}],\"histogram2d\":[{\"colorbar\":{\"outlinewidth\":0,\"ticks\":\"\"},\"colorscale\":[[0.0,\"#0d0887\"],[0.1111111111111111,\"#46039f\"],[0.2222222222222222,\"#7201a8\"],[0.3333333333333333,\"#9c179e\"],[0.4444444444444444,\"#bd3786\"],[0.5555555555555556,\"#d8576b\"],[0.6666666666666666,\"#ed7953\"],[0.7777777777777778,\"#fb9f3a\"],[0.8888888888888888,\"#fdca26\"],[1.0,\"#f0f921\"]],\"type\":\"histogram2d\"}],\"histogram2dcontour\":[{\"colorbar\":{\"outlinewidth\":0,\"ticks\":\"\"},\"colorscale\":[[0.0,\"#0d0887\"],[0.1111111111111111,\"#46039f\"],[0.2222222222222222,\"#7201a8\"],[0.3333333333333333,\"#9c179e\"],[0.4444444444444444,\"#bd3786\"],[0.5555555555555556,\"#d8576b\"],[0.6666666666666666,\"#ed7953\"],[0.7777777777777778,\"#fb9f3a\"],[0.8888888888888888,\"#fdca26\"],[1.0,\"#f0f921\"]],\"type\":\"histogram2dcontour\"}],\"mesh3d\":[{\"colorbar\":{\"outlinewidth\":0,\"ticks\":\"\"},\"type\":\"mesh3d\"}],\"parcoords\":[{\"line\":{\"colorbar\":{\"outlinewidth\":0,\"ticks\":\"\"}},\"type\":\"parcoords\"}],\"pie\":[{\"automargin\":true,\"type\":\"pie\"}],\"scatter\":[{\"marker\":{\"colorbar\":{\"outlinewidth\":0,\"ticks\":\"\"}},\"type\":\"scatter\"}],\"scatter3d\":[{\"line\":{\"colorbar\":{\"outlinewidth\":0,\"ticks\":\"\"}},\"marker\":{\"colorbar\":{\"outlinewidth\":0,\"ticks\":\"\"}},\"type\":\"scatter3d\"}],\"scattercarpet\":[{\"marker\":{\"colorbar\":{\"outlinewidth\":0,\"ticks\":\"\"}},\"type\":\"scattercarpet\"}],\"scattergeo\":[{\"marker\":{\"colorbar\":{\"outlinewidth\":0,\"ticks\":\"\"}},\"type\":\"scattergeo\"}],\"scattergl\":[{\"marker\":{\"colorbar\":{\"outlinewidth\":0,\"ticks\":\"\"}},\"type\":\"scattergl\"}],\"scattermapbox\":[{\"marker\":{\"colorbar\":{\"outlinewidth\":0,\"ticks\":\"\"}},\"type\":\"scattermapbox\"}],\"scatterpolar\":[{\"marker\":{\"colorbar\":{\"outlinewidth\":0,\"ticks\":\"\"}},\"type\":\"scatterpolar\"}],\"scatterpolargl\":[{\"marker\":{\"colorbar\":{\"outlinewidth\":0,\"ticks\":\"\"}},\"type\":\"scatterpolargl\"}],\"scatterternary\":[{\"marker\":{\"colorbar\":{\"outlinewidth\":0,\"ticks\":\"\"}},\"type\":\"scatterternary\"}],\"surface\":[{\"colorbar\":{\"outlinewidth\":0,\"ticks\":\"\"},\"colorscale\":[[0.0,\"#0d0887\"],[0.1111111111111111,\"#46039f\"],[0.2222222222222222,\"#7201a8\"],[0.3333333333333333,\"#9c179e\"],[0.4444444444444444,\"#bd3786\"],[0.5555555555555556,\"#d8576b\"],[0.6666666666666666,\"#ed7953\"],[0.7777777777777778,\"#fb9f3a\"],[0.8888888888888888,\"#fdca26\"],[1.0,\"#f0f921\"]],\"type\":\"surface\"}],\"table\":[{\"cells\":{\"fill\":{\"color\":\"#EBF0F8\"},\"line\":{\"color\":\"white\"}},\"header\":{\"fill\":{\"color\":\"#C8D4E3\"},\"line\":{\"color\":\"white\"}},\"type\":\"table\"}]},\"layout\":{\"annotationdefaults\":{\"arrowcolor\":\"#2a3f5f\",\"arrowhead\":0,\"arrowwidth\":1},\"autotypenumbers\":\"strict\",\"coloraxis\":{\"colorbar\":{\"outlinewidth\":0,\"ticks\":\"\"}},\"colorscale\":{\"diverging\":[[0,\"#8e0152\"],[0.1,\"#c51b7d\"],[0.2,\"#de77ae\"],[0.3,\"#f1b6da\"],[0.4,\"#fde0ef\"],[0.5,\"#f7f7f7\"],[0.6,\"#e6f5d0\"],[0.7,\"#b8e186\"],[0.8,\"#7fbc41\"],[0.9,\"#4d9221\"],[1,\"#276419\"]],\"sequential\":[[0.0,\"#0d0887\"],[0.1111111111111111,\"#46039f\"],[0.2222222222222222,\"#7201a8\"],[0.3333333333333333,\"#9c179e\"],[0.4444444444444444,\"#bd3786\"],[0.5555555555555556,\"#d8576b\"],[0.6666666666666666,\"#ed7953\"],[0.7777777777777778,\"#fb9f3a\"],[0.8888888888888888,\"#fdca26\"],[1.0,\"#f0f921\"]],\"sequentialminus\":[[0.0,\"#0d0887\"],[0.1111111111111111,\"#46039f\"],[0.2222222222222222,\"#7201a8\"],[0.3333333333333333,\"#9c179e\"],[0.4444444444444444,\"#bd3786\"],[0.5555555555555556,\"#d8576b\"],[0.6666666666666666,\"#ed7953\"],[0.7777777777777778,\"#fb9f3a\"],[0.8888888888888888,\"#fdca26\"],[1.0,\"#f0f921\"]]},\"colorway\":[\"#636efa\",\"#EF553B\",\"#00cc96\",\"#ab63fa\",\"#FFA15A\",\"#19d3f3\",\"#FF6692\",\"#B6E880\",\"#FF97FF\",\"#FECB52\"],\"font\":{\"color\":\"#2a3f5f\"},\"geo\":{\"bgcolor\":\"white\",\"lakecolor\":\"white\",\"landcolor\":\"#E5ECF6\",\"showlakes\":true,\"showland\":true,\"subunitcolor\":\"white\"},\"hoverlabel\":{\"align\":\"left\"},\"hovermode\":\"closest\",\"mapbox\":{\"style\":\"light\"},\"paper_bgcolor\":\"white\",\"plot_bgcolor\":\"#E5ECF6\",\"polar\":{\"angularaxis\":{\"gridcolor\":\"white\",\"linecolor\":\"white\",\"ticks\":\"\"},\"bgcolor\":\"#E5ECF6\",\"radialaxis\":{\"gridcolor\":\"white\",\"linecolor\":\"white\",\"ticks\":\"\"}},\"scene\":{\"xaxis\":{\"backgroundcolor\":\"#E5ECF6\",\"gridcolor\":\"white\",\"gridwidth\":2,\"linecolor\":\"white\",\"showbackground\":true,\"ticks\":\"\",\"zerolinecolor\":\"white\"},\"yaxis\":{\"backgroundcolor\":\"#E5ECF6\",\"gridcolor\":\"white\",\"gridwidth\":2,\"linecolor\":\"white\",\"showbackground\":true,\"ticks\":\"\",\"zerolinecolor\":\"white\"},\"zaxis\":{\"backgroundcolor\":\"#E5ECF6\",\"gridcolor\":\"white\",\"gridwidth\":2,\"linecolor\":\"white\",\"showbackground\":true,\"ticks\":\"\",\"zerolinecolor\":\"white\"}},\"shapedefaults\":{\"line\":{\"color\":\"#2a3f5f\"}},\"ternary\":{\"aaxis\":{\"gridcolor\":\"white\",\"linecolor\":\"white\",\"ticks\":\"\"},\"baxis\":{\"gridcolor\":\"white\",\"linecolor\":\"white\",\"ticks\":\"\"},\"bgcolor\":\"#E5ECF6\",\"caxis\":{\"gridcolor\":\"white\",\"linecolor\":\"white\",\"ticks\":\"\"}},\"title\":{\"x\":0.05},\"xaxis\":{\"automargin\":true,\"gridcolor\":\"white\",\"linecolor\":\"white\",\"ticks\":\"\",\"title\":{\"standoff\":15},\"zerolinecolor\":\"white\",\"zerolinewidth\":2},\"yaxis\":{\"automargin\":true,\"gridcolor\":\"white\",\"linecolor\":\"white\",\"ticks\":\"\",\"title\":{\"standoff\":15},\"zerolinecolor\":\"white\",\"zerolinewidth\":2}}},\"title\":{\"text\":\"New Deaths\"},\"xaxis\":{\"anchor\":\"y\",\"domain\":[0.0,1.0],\"title\":{\"text\":\"date\"}},\"yaxis\":{\"anchor\":\"x\",\"domain\":[0.0,1.0],\"title\":{\"text\":\"Mortality_Rate\"}}},                        {\"responsive\": true}                    ).then(function(){\n",
              "                            \n",
              "var gd = document.getElementById('c0bfb85e-d424-4873-b250-6025a2d661c5');\n",
              "var x = new MutationObserver(function (mutations, observer) {{\n",
              "        var display = window.getComputedStyle(gd).display;\n",
              "        if (!display || display === 'none') {{\n",
              "            console.log([gd, 'removed!']);\n",
              "            Plotly.purge(gd);\n",
              "            observer.disconnect();\n",
              "        }}\n",
              "}});\n",
              "\n",
              "// Listen for the removal of the full notebook cells\n",
              "var notebookContainer = gd.closest('#notebook-container');\n",
              "if (notebookContainer) {{\n",
              "    x.observe(notebookContainer, {childList: true});\n",
              "}}\n",
              "\n",
              "// Listen for the clearing of the current output cell\n",
              "var outputEl = gd.closest('.output');\n",
              "if (outputEl) {{\n",
              "    x.observe(outputEl, {childList: true});\n",
              "}}\n",
              "\n",
              "                        })                };                            </script>        </div>\n",
              "</body>\n",
              "</html>"
            ]
          },
          "metadata": {
            "tags": []
          }
        }
      ]
    },
    {
      "cell_type": "code",
      "metadata": {
        "colab": {
          "base_uri": "https://localhost:8080/",
          "height": 265
        },
        "id": "oHpHrG4Ej2tI",
        "outputId": "24bdfaf6-3b14-48c1-e57c-67970731631b"
      },
      "source": [
        "plt.plot(dataset_UK_models1[\"date\"], dataset_UK_models1[\"new_deaths\"])\n",
        "plt.plot(dataset_UK_models1[\"date\"], dataset_UK_models1[\"Mortality_Rate\"])\n",
        "\n",
        "plt.legend([\"Mortality Rate\", \"New Deaths\"], loc = \"upper left\")\n",
        "plt.show()"
      ],
      "execution_count": 58,
      "outputs": [
        {
          "output_type": "display_data",
          "data": {
            "image/png": "[encoded data removed]",
            "text/plain": [
              "<Figure size 432x288 with 1 Axes>"
            ]
          },
          "metadata": {
            "tags": [],
            "needs_background": "light"
          }
        }
      ]
    },
    {
      "cell_type": "code",
      "metadata": {
        "id": "bzNVT4j4kMCZ"
      },
      "source": [
        "dataset_UK_models1.drop([\"new_deaths\"], axis = 1, inplace = True)"
      ],
      "execution_count": 59,
      "outputs": []
    },
    {
      "cell_type": "code",
      "metadata": {
        "colab": {
          "base_uri": "https://localhost:8080/",
          "height": 195
        },
        "id": "vWp781HukdQ0",
        "outputId": "676255db-fb3a-436d-bb60-1dc0011bb13c"
      },
      "source": [
        "dataset_UK_models1.head()"
      ],
      "execution_count": 60,
      "outputs": [
        {
          "output_type": "execute_result",
          "data": {
            "text/html": [
              "<div>\n",
              "<style scoped>\n",
              "    .dataframe tbody tr th:only-of-type {\n",
              "        vertical-align: middle;\n",
              "    }\n",
              "\n",
              "    .dataframe tbody tr th {\n",
              "        vertical-align: top;\n",
              "    }\n",
              "\n",
              "    .dataframe thead th {\n",
              "        text-align: right;\n",
              "    }\n",
              "</style>\n",
              "<table border=\"1\" class=\"dataframe\">\n",
              "  <thead>\n",
              "    <tr style=\"text-align: right;\">\n",
              "      <th></th>\n",
              "      <th>date</th>\n",
              "      <th>reproduction_rate</th>\n",
              "      <th>icu_patients</th>\n",
              "      <th>Mortality_Rate</th>\n",
              "    </tr>\n",
              "  </thead>\n",
              "  <tbody>\n",
              "    <tr>\n",
              "      <th>90078</th>\n",
              "      <td>2020-05-01</td>\n",
              "      <td>0.94</td>\n",
              "      <td>2178.0</td>\n",
              "      <td>0.000010</td>\n",
              "    </tr>\n",
              "    <tr>\n",
              "      <th>90079</th>\n",
              "      <td>2020-05-02</td>\n",
              "      <td>0.90</td>\n",
              "      <td>2068.0</td>\n",
              "      <td>0.000009</td>\n",
              "    </tr>\n",
              "    <tr>\n",
              "      <th>90080</th>\n",
              "      <td>2020-05-03</td>\n",
              "      <td>0.87</td>\n",
              "      <td>2009.0</td>\n",
              "      <td>0.000004</td>\n",
              "    </tr>\n",
              "    <tr>\n",
              "      <th>90081</th>\n",
              "      <td>2020-05-04</td>\n",
              "      <td>0.82</td>\n",
              "      <td>1936.0</td>\n",
              "      <td>0.000004</td>\n",
              "    </tr>\n",
              "    <tr>\n",
              "      <th>90082</th>\n",
              "      <td>2020-05-05</td>\n",
              "      <td>0.81</td>\n",
              "      <td>1874.0</td>\n",
              "      <td>0.000011</td>\n",
              "    </tr>\n",
              "  </tbody>\n",
              "</table>\n",
              "</div>"
            ],
            "text/plain": [
              "             date  reproduction_rate  icu_patients  Mortality_Rate\n",
              "90078  2020-05-01               0.94        2178.0        0.000010\n",
              "90079  2020-05-02               0.90        2068.0        0.000009\n",
              "90080  2020-05-03               0.87        2009.0        0.000004\n",
              "90081  2020-05-04               0.82        1936.0        0.000004\n",
              "90082  2020-05-05               0.81        1874.0        0.000011"
            ]
          },
          "metadata": {
            "tags": []
          },
          "execution_count": 60
        }
      ]
    },
    {
      "cell_type": "code",
      "metadata": {
        "colab": {
          "base_uri": "https://localhost:8080/",
          "height": 542
        },
        "id": "PV6uafmclPEv",
        "outputId": "555df1ab-e51b-4711-cf77-6ec55659f5c4"
      },
      "source": [
        "fig = px.line(dataset_UK_models1,  dataset_UK_models1[\"date\"], dataset_UK_models1[\"reproduction_rate\"], title = \"Reproduction Rate\", hover_data = [\"Mortality_Rate\"]) #hover_data = [\"new_deaths\", \"population\", \"total_cases\", \"new_cases\"])\n",
        "fig.update_traces(mode = \"markers + lines\", hovertemplate = None)\n",
        "fig.update_layout(hovermode = \"x unified\")\n",
        "fig.show()"
      ],
      "execution_count": 61,
      "outputs": [
        {
          "output_type": "display_data",
          "data": {
            "text/html": [
              "<html>\n",
              "<head><meta charset=\"utf-8\" /></head>\n",
              "<body>\n",
              "    <div>            <script src=\"https://cdnjs.cloudflare.com/ajax/libs/mathjax/2.7.5/MathJax.js?config=TeX-AMS-MML_SVG\"></script><script type=\"text/javascript\">if (window.MathJax) {MathJax.Hub.Config({SVG: {font: \"STIX-Web\"}});}</script>                <script type=\"text/javascript\">window.PlotlyConfig = {MathJaxConfig: 'local'};</script>\n",
              "        <script src=\"https://cdn.plot.ly/plotly-2.2.0.min.js\"></script>                <div id=\"b2eefd27-7e6f-4ab5-ac9e-a3f9ecebe460\" class=\"plotly-graph-div\" style=\"height:525px; width:100%;\"></div>            <script type=\"text/javascript\">                                    window.PLOTLYENV=window.PLOTLYENV || {};                                    if (document.getElementById(\"b2eefd27-7e6f-4ab5-ac9e-a3f9ecebe460\")) {                    Plotly.newPlot(                        \"b2eefd27-7e6f-4ab5-ac9e-a3f9ecebe460\",                        [{\"customdata\":[[1.0311403805709348e-05],[8.617387466199956e-06],[3.726835946920664e-06],[4.021447484226646e-06],[1.0679668227341825e-05],[9.530683231848497e-06],[6.7466042043069736e-06],[8.54373458187346e-06],[4.050908637957244e-06],[3.196535179769898e-06],[2.7693484506762246e-06],[9.059304772158927e-06],[6.599298435653982e-06],[5.199893633450571e-06],[5.170432479719973e-06],[6.054267091637917e-06],[9.869486499750376e-07],[2.150664222333664e-06],[7.380019009514833e-06],[4.846359788683393e-06],[4.021447484226646e-06],[4.286597867802029e-06],[3.240726910365795e-06],[5.582888631948347e-06],[1.5319799939911032e-06],[1.929705569354178e-06],[6.216303437156207e-06],[5.05258786479758e-06],[4.036178061091945e-06],[2.2685088372560565e-06],[8.838346119179441e-07],[1.2668296104157199e-06],[3.682644216324767e-06],[3.7415665237859632e-06],[1.914974992488879e-06],[3.8004888312471597e-06],[2.106472491737767e-06],[7.954511507261497e-07],[6.923371126690562e-07],[2.9019236424639163e-06],[2.4158146059090474e-06],[1.1195238417627293e-06],[1.929705569354178e-06],[1.5761717245870004e-06],[3.9772557536307484e-07],[4.27186729093673e-07],[1.7676692238358882e-06],[1.6203634551828976e-06],[9.869486499750376e-07],[1.2373684566851217e-06],[1.0458709574362338e-06],[4.566478828242711e-07],[1.914974992488879e-07],[1.3846742253381123e-06],[1.2815601872810189e-06],[1.4583271096646077e-06],[1.1342544186280283e-06],[5.892230746119627e-07],[4.566478828242711e-07],[3.093421141712804e-07],[7.954511507261497e-07],[1.4288659559340095e-06],[6.039536514772618e-07],[7.217982663996544e-07],[4.7137845968957016e-07],[2.798809604406823e-07],[1.6203634551828976e-07],[7.954511507261497e-07],[8.396428813220469e-07],[4.566478828242711e-07],[5.008396134201683e-07],[2.5041980671008416e-07],[1.325751917876916e-07],[1.4730576865299068e-07],[6.48145382073159e-07],[3.829949984977758e-07],[3.5353384476717763e-07],[3.829949984977758e-07],[1.325751917876916e-07],[1.6203634551828976e-07],[1.4730576865299068e-07],[3.682644216324767e-07],[2.5041980671008416e-07],[1.325751917876916e-07],[4.7137845968957016e-07],[2.2095865297948603e-07],[1.1784461492239254e-07],[4.4191730595897204e-08],[3.093421141712804e-07],[5.008396134201683e-07],[0.0],[2.9461153730598137e-07],[1.914974992488879e-07],[7.365288432649534e-08],[1.4730576865299067e-08],[2.651503835753832e-07],[2.0622807611418695e-07],[2.651503835753832e-07],[1.7676692238358882e-07],[4.4191730595897204e-08],[7.365288432649534e-08],[2.651503835753832e-07],[1.914974992488879e-07],[2.9461153730598137e-07],[2.651503835753832e-07],[1.6203634551828976e-07],[4.4191730595897204e-08],[7.365288432649534e-08],[4.4191730595897204e-08],[1.7676692238358882e-07],[2.5041980671008416e-07],[8.838346119179441e-08],[2.9461153730598135e-08],[2.651503835753832e-07],[8.838346119179441e-08],[5.892230746119627e-08],[2.3568922984478508e-07],[2.5041980671008416e-07],[1.7676692238358882e-07],[1.325751917876916e-07],[1.7676692238358882e-07],[1.4730576865299067e-08],[4.4191730595897204e-08],[4.4191730595897204e-08],[1.4730576865299068e-07],[2.0622807611418695e-07],[1.4730576865299068e-07],[1.7676692238358882e-07],[2.9461153730598135e-08],[4.4191730595897204e-08],[4.7137845968957016e-07],[1.1784461492239254e-07],[2.0622807611418695e-07],[8.838346119179441e-08],[1.325751917876916e-07],[7.365288432649534e-08],[1.325751917876916e-07],[3.9772557536307484e-07],[2.9461153730598137e-07],[3.093421141712804e-07],[3.9772557536307484e-07],[3.9772557536307484e-07],[2.651503835753832e-07],[1.6203634551828976e-07],[5.450313440160655e-07],[5.450313440160655e-07],[5.892230746119627e-07],[5.008396134201683e-07],[5.155701902854674e-07],[2.5041980671008416e-07],[1.914974992488879e-07],[1.0606015343015328e-06],[1.0458709574362338e-06],[8.69104035052645e-07],[9.722180731097384e-07],[7.217982663996544e-07],[4.861090365548692e-07],[2.798809604406823e-07],[1.1195238417627293e-06],[1.0311403805709348e-06],[1.1342544186280283e-06],[1.2815601872810189e-06],[1.1931767260892245e-06],[9.574874962444394e-07],[7.365288432649534e-07],[2.106472491737767e-06],[2.0180890305459725e-06],[2.0328196074112713e-06],[2.0033584536806733e-06],[2.20958652979486e-06],[9.869486499750376e-07],[1.1784461492239255e-06],[3.5500690245370756e-06],[2.813540181272122e-06],[2.784079027541524e-06],[3.299649217826991e-06],[2.5631203745620378e-06],[2.2243171066601593e-06],[1.502518840260505e-06],[5.406121709564758e-06],[4.5664788282427115e-06],[4.124561522283739e-06],[4.036178061091945e-06],[4.802168058087496e-06],[2.386353452178449e-06],[2.0033584536806733e-06],[5.84803901552373e-06],[7.247443817727142e-06],[5.568158055083048e-06],[5.229354787181169e-06],[6.083728245368515e-06],[2.2979699909866545e-06],[2.8724624887333183e-06],[7.836666892339104e-06],[8.779423811718245e-06],[8.293314775163375e-06],[5.538696901352449e-06],[6.8055265117681696e-06],[2.4747369133702434e-06],[3.1523434491740007e-06],[8.823615542314141e-06],[7.792475161743207e-06],[7.394749586380132e-06],[7.527324778167824e-06],[5.0083961342016836e-06],[5.8775001692543286e-06],[3.049229411116907e-06],[8.956190734101834e-06],[1.0237750921382852e-05],[7.335827278918936e-06],[7.659899969955515e-06],[7.055946318478254e-06],[3.1670740260392995e-06],[2.9903071036557107e-06],[8.882537849775338e-06],[9.545413808713796e-06],[6.098458822233814e-06],[7.4242107401107305e-06],[5.84803901552373e-06],[3.4027632558840848e-06],[2.784079027541524e-06],[8.823615542314141e-06],[7.851397469204403e-06],[7.600977662494319e-06],[6.245764590886805e-06],[7.659899969955515e-06],[2.1212030686030657e-06],[3.4322244096146828e-06],[7.453671893841328e-06],[9.01511304156303e-06],[7.836666892339104e-06],[7.217982663996543e-06],[7.9103197766656e-06],[4.802168058087496e-06],[3.1670740260392995e-06],[1.0178828613921657e-05],[1.1018471495243703e-05],[8.470081697546963e-06],[8.396428813220469e-06],[3.1081517185781035e-06],[5.111510172258776e-06],[5.258815940911768e-06],[6.7466042043069736e-06],[1.4465426481723685e-05],[1.42150066750136e-05],[9.059304772158927e-06],[6.5551067050580855e-06],[6.702412473711076e-06],[6.039536514772618e-06],[1.297763821832848e-05],[1.534926109364163e-05],[1.7116930317477518e-05],[1.9635858961443657e-05],[1.5246147055584536e-05],[8.352237082624571e-06],[7.792475161743207e-06],[1.8354298774162638e-05],[2.309754452478894e-05],[1.8457412812219734e-05],[1.8928791271909302e-05],[1.913501934802349e-05],[1.0046253422133964e-05],[8.867807272910039e-06],[2.3745689906862098e-05],[2.68980333560361e-05],[1.909082761742759e-05],[2.0637538188283993e-05],[1.991573992188434e-05],[9.00038246469773e-06],[8.749962657987647e-06],[2.4099223751629276e-05],[2.542497566950619e-05],[1.8251184736105545e-05],[1.8383759927893236e-05],[1.775034512268538e-05],[8.69104035052645e-06],[5.9953447841767206e-06],[2.1374067031548947e-05],[1.9473822615925368e-05],[1.3478477831748648e-05],[1.4951535518278554e-05],[1.2196917644467628e-05],[5.538696901352449e-06],[4.90528209614459e-06],[1.549656686229462e-05],[1.4760038019029666e-05],[1.0016792268403367e-05],[1.1180507840761993e-05],[9.147688233350722e-06],[3.8152194081124585e-06],[3.461685563345281e-06],[1.1769730915373955e-05],[1.0871165726590713e-05],[6.702412473711076e-06],[7.851397469204403e-06],[6.569837281923385e-06],[3.196535179769898e-06],[2.622042682023234e-06],[8.07235612218389e-06],[6.525645551327487e-06],[4.772706904356898e-06],[5.082049018528179e-06],[4.286597867802029e-06],[2.1212030686030657e-06],[1.5319799939911032e-06],[5.05258786479758e-06],[7.1737909334006464e-06],[3.5647996014023744e-06],[3.47641614021058e-06],[2.3421617215825517e-06],[1.2079073029545237e-06],[9.574874962444394e-07],[3.4027632558840848e-06],[2.798809604406823e-06],[2.6662344126191314e-06],[2.592581528292636e-06],[1.7971303775664864e-06],[7.659899969955516e-07],[9.427569193791403e-07],[1.6203634551828976e-06],[2.0770113380071685e-06],[1.3994048022034115e-06],[1.4730576865299067e-06],[1.4141353790687105e-06],[5.008396134201683e-07],[2.651503835753832e-07],[1.6498246089134956e-06],[1.4435965327993087e-06],[9.280263425138413e-07],[1.0458709574362338e-06],[8.54373458187346e-07],[3.093421141712804e-07],[3.388032679018786e-07],[8.101817275914488e-07],[6.334148052078599e-07],[7.512594201302525e-07],[7.659899969955516e-07],[1.4730576865299068e-07],[1.4730576865299068e-07],[4.124561522283739e-07],[2.9461153730598137e-07],[6.62875958938458e-07],[7.807205738608506e-07],[8.838346119179441e-07],[5.892230746119627e-07],[1.0311403805709347e-07],[2.2095865297948603e-07],[3.388032679018786e-07],[5.597619208813646e-07],[4.566478828242711e-07],[5.008396134201683e-07],[5.303007671507664e-07],[1.4730576865299068e-07],[8.838346119179441e-08],[4.861090365548692e-07],[2.9461153730598137e-07],[2.9461153730598137e-07],[6.039536514772618e-07],[4.7137845968957016e-07],[1.6203634551828976e-07],[1.0311403805709347e-07],[2.5041980671008416e-07],[4.27186729093673e-07],[3.682644216324767e-07],[2.3568922984478508e-07],[1.0311403805709347e-07],[2.0622807611418695e-07],[1.4730576865299067e-08],[8.838346119179441e-08],[3.9772557536307484e-07],[1.914974992488879e-07],[2.2095865297948603e-07],[7.365288432649534e-08],[2.9461153730598135e-08],[7.365288432649534e-08],[2.9461153730598137e-07],[1.6203634551828976e-07],[1.6203634551828976e-07],[2.651503835753832e-07],[1.0311403805709347e-07],[5.892230746119627e-08],[7.365288432649534e-08],[1.0311403805709347e-07],[4.4191730595897204e-08],[1.0311403805709347e-07],[1.325751917876916e-07],[8.838346119179441e-08],[7.365288432649534e-08],[4.4191730595897204e-08],[2.2095865297948603e-07],[1.325751917876916e-07],[1.4730576865299068e-07],[1.4730576865299068e-07],[1.0311403805709347e-07],[8.838346119179441e-08],[2.9461153730598135e-08],[0.0],[1.7676692238358882e-07],[2.651503835753832e-07],[1.6203634551828976e-07],[1.914974992488879e-07],[5.892230746119627e-08],[1.4730576865299067e-08],[2.0622807611418695e-07],[8.838346119179441e-08]],\"legendgroup\":\"\",\"line\":{\"color\":\"#636efa\",\"dash\":\"solid\"},\"mode\":\"markers+lines\",\"name\":\"\",\"orientation\":\"v\",\"showlegend\":false,\"type\":\"scatter\",\"x\":[\"2020-05-01\",\"2020-05-02\",\"2020-05-03\",\"2020-05-04\",\"2020-05-05\",\"2020-05-06\",\"2020-05-07\",\"2020-05-08\",\"2020-05-09\",\"2020-05-10\",\"2020-05-11\",\"2020-05-12\",\"2020-05-13\",\"2020-05-14\",\"2020-05-15\",\"2020-05-16\",\"2020-05-17\",\"2020-05-18\",\"2020-05-19\",\"2020-05-20\",\"2020-05-21\",\"2020-05-22\",\"2020-05-23\",\"2020-05-24\",\"2020-05-25\",\"2020-05-26\",\"2020-05-27\",\"2020-05-28\",\"2020-05-29\",\"2020-05-30\",\"2020-05-31\",\"2020-06-01\",\"2020-06-02\",\"2020-06-03\",\"2020-06-04\",\"2020-06-05\",\"2020-06-06\",\"2020-06-07\",\"2020-06-08\",\"2020-06-09\",\"2020-06-10\",\"2020-06-11\",\"2020-06-12\",\"2020-06-13\",\"2020-06-14\",\"2020-06-15\",\"2020-06-16\",\"2020-06-17\",\"2020-06-18\",\"2020-06-19\",\"2020-06-20\",\"2020-06-21\",\"2020-06-22\",\"2020-06-23\",\"2020-06-24\",\"2020-06-25\",\"2020-06-26\",\"2020-06-27\",\"2020-06-28\",\"2020-06-29\",\"2020-06-30\",\"2020-07-01\",\"2020-07-02\",\"2020-07-03\",\"2020-07-04\",\"2020-07-05\",\"2020-07-06\",\"2020-07-07\",\"2020-07-08\",\"2020-07-09\",\"2020-07-10\",\"2020-07-11\",\"2020-07-12\",\"2020-07-13\",\"2020-07-14\",\"2020-07-15\",\"2020-07-16\",\"2020-07-17\",\"2020-07-18\",\"2020-07-19\",\"2020-07-20\",\"2020-07-21\",\"2020-07-22\",\"2020-07-23\",\"2020-07-24\",\"2020-07-25\",\"2020-07-26\",\"2020-07-27\",\"2020-07-28\",\"2020-07-29\",\"2020-07-30\",\"2020-07-31\",\"2020-08-01\",\"2020-08-02\",\"2020-08-03\",\"2020-08-04\",\"2020-08-05\",\"2020-08-06\",\"2020-08-07\",\"2020-08-08\",\"2020-08-09\",\"2020-08-10\",\"2020-08-11\",\"2020-08-12\",\"2020-08-13\",\"2020-08-14\",\"2020-08-15\",\"2020-08-16\",\"2020-08-17\",\"2020-08-18\",\"2020-08-19\",\"2020-08-20\",\"2020-08-21\",\"2020-08-22\",\"2020-08-23\",\"2020-08-24\",\"2020-08-25\",\"2020-08-26\",\"2020-08-27\",\"2020-08-28\",\"2020-08-29\",\"2020-08-30\",\"2020-08-31\",\"2020-09-01\",\"2020-09-02\",\"2020-09-03\",\"2020-09-04\",\"2020-09-05\",\"2020-09-06\",\"2020-09-07\",\"2020-09-08\",\"2020-09-09\",\"2020-09-10\",\"2020-09-11\",\"2020-09-12\",\"2020-09-13\",\"2020-09-14\",\"2020-09-15\",\"2020-09-16\",\"2020-09-17\",\"2020-09-18\",\"2020-09-19\",\"2020-09-20\",\"2020-09-21\",\"2020-09-22\",\"2020-09-23\",\"2020-09-24\",\"2020-09-25\",\"2020-09-26\",\"2020-09-27\",\"2020-09-28\",\"2020-09-29\",\"2020-09-30\",\"2020-10-01\",\"2020-10-02\",\"2020-10-03\",\"2020-10-04\",\"2020-10-05\",\"2020-10-06\",\"2020-10-07\",\"2020-10-08\",\"2020-10-09\",\"2020-10-10\",\"2020-10-11\",\"2020-10-12\",\"2020-10-13\",\"2020-10-14\",\"2020-10-15\",\"2020-10-16\",\"2020-10-17\",\"2020-10-18\",\"2020-10-19\",\"2020-10-20\",\"2020-10-21\",\"2020-10-22\",\"2020-10-23\",\"2020-10-24\",\"2020-10-25\",\"2020-10-26\",\"2020-10-27\",\"2020-10-28\",\"2020-10-29\",\"2020-10-30\",\"2020-10-31\",\"2020-11-01\",\"2020-11-02\",\"2020-11-03\",\"2020-11-04\",\"2020-11-05\",\"2020-11-06\",\"2020-11-07\",\"2020-11-08\",\"2020-11-09\",\"2020-11-10\",\"2020-11-11\",\"2020-11-12\",\"2020-11-13\",\"2020-11-14\",\"2020-11-15\",\"2020-11-16\",\"2020-11-17\",\"2020-11-18\",\"2020-11-19\",\"2020-11-20\",\"2020-11-21\",\"2020-11-22\",\"2020-11-23\",\"2020-11-24\",\"2020-11-25\",\"2020-11-26\",\"2020-11-27\",\"2020-11-28\",\"2020-11-29\",\"2020-11-30\",\"2020-12-01\",\"2020-12-02\",\"2020-12-03\",\"2020-12-04\",\"2020-12-05\",\"2020-12-06\",\"2020-12-07\",\"2020-12-08\",\"2020-12-09\",\"2020-12-10\",\"2020-12-11\",\"2020-12-12\",\"2020-12-13\",\"2020-12-14\",\"2020-12-15\",\"2020-12-16\",\"2020-12-17\",\"2020-12-18\",\"2020-12-19\",\"2020-12-20\",\"2020-12-21\",\"2020-12-22\",\"2020-12-23\",\"2020-12-24\",\"2020-12-25\",\"2020-12-26\",\"2020-12-27\",\"2020-12-28\",\"2020-12-29\",\"2020-12-30\",\"2020-12-31\",\"2021-01-01\",\"2021-01-02\",\"2021-01-03\",\"2021-01-04\",\"2021-01-05\",\"2021-01-06\",\"2021-01-07\",\"2021-01-08\",\"2021-01-09\",\"2021-01-10\",\"2021-01-11\",\"2021-01-12\",\"2021-01-13\",\"2021-01-14\",\"2021-01-15\",\"2021-01-16\",\"2021-01-17\",\"2021-01-18\",\"2021-01-19\",\"2021-01-20\",\"2021-01-21\",\"2021-01-22\",\"2021-01-23\",\"2021-01-24\",\"2021-01-25\",\"2021-01-26\",\"2021-01-27\",\"2021-01-28\",\"2021-01-29\",\"2021-01-30\",\"2021-01-31\",\"2021-02-01\",\"2021-02-02\",\"2021-02-03\",\"2021-02-04\",\"2021-02-05\",\"2021-02-06\",\"2021-02-07\",\"2021-02-08\",\"2021-02-09\",\"2021-02-10\",\"2021-02-11\",\"2021-02-12\",\"2021-02-13\",\"2021-02-14\",\"2021-02-15\",\"2021-02-16\",\"2021-02-17\",\"2021-02-18\",\"2021-02-19\",\"2021-02-20\",\"2021-02-21\",\"2021-02-22\",\"2021-02-23\",\"2021-02-24\",\"2021-02-25\",\"2021-02-26\",\"2021-02-27\",\"2021-02-28\",\"2021-03-01\",\"2021-03-02\",\"2021-03-03\",\"2021-03-04\",\"2021-03-05\",\"2021-03-06\",\"2021-03-07\",\"2021-03-08\",\"2021-03-09\",\"2021-03-10\",\"2021-03-11\",\"2021-03-12\",\"2021-03-13\",\"2021-03-14\",\"2021-03-15\",\"2021-03-16\",\"2021-03-17\",\"2021-03-18\",\"2021-03-19\",\"2021-03-20\",\"2021-03-21\",\"2021-03-22\",\"2021-03-23\",\"2021-03-24\",\"2021-03-25\",\"2021-03-26\",\"2021-03-27\",\"2021-03-28\",\"2021-03-29\",\"2021-03-30\",\"2021-03-31\",\"2021-04-01\",\"2021-04-02\",\"2021-04-03\",\"2021-04-04\",\"2021-04-05\",\"2021-04-06\",\"2021-04-07\",\"2021-04-08\",\"2021-04-09\",\"2021-04-10\",\"2021-04-11\",\"2021-04-12\",\"2021-04-13\",\"2021-04-14\",\"2021-04-15\",\"2021-04-16\",\"2021-04-17\",\"2021-04-18\",\"2021-04-19\",\"2021-04-20\",\"2021-04-21\",\"2021-04-22\",\"2021-04-23\",\"2021-04-24\",\"2021-04-25\",\"2021-04-26\",\"2021-04-27\",\"2021-04-28\",\"2021-04-29\",\"2021-04-30\",\"2021-05-01\",\"2021-05-02\",\"2021-05-03\",\"2021-05-04\",\"2021-05-05\",\"2021-05-06\",\"2021-05-07\",\"2021-05-08\",\"2021-05-09\",\"2021-05-10\",\"2021-05-11\",\"2021-05-12\",\"2021-05-13\",\"2021-05-14\",\"2021-05-15\",\"2021-05-16\",\"2021-05-17\",\"2021-05-18\",\"2021-05-19\",\"2021-05-20\",\"2021-05-21\",\"2021-05-22\",\"2021-05-23\",\"2021-05-24\",\"2021-05-25\",\"2021-05-26\",\"2021-05-27\",\"2021-05-28\",\"2021-05-29\",\"2021-05-30\",\"2021-05-31\",\"2021-06-01\",\"2021-06-02\",\"2021-06-03\",\"2021-06-04\",\"2021-06-05\",\"2021-06-06\",\"2021-06-07\",\"2021-06-08\",\"2021-06-09\"],\"xaxis\":\"x\",\"y\":[0.94,0.9,0.87,0.82,0.81,0.8,0.81,0.81,0.82,0.84,0.85,0.84,0.81,0.79,0.8,0.81,0.82,0.83,0.84,0.82,0.8,0.77,0.74,0.72,0.7,0.69,0.71,0.73,0.73,0.73,0.74,0.74,0.74,0.73,0.72,0.72,0.72,0.73,0.76,0.79,0.82,0.82,0.83,0.84,0.86,0.86,0.87,0.88,0.87,0.84,0.81,0.81,0.82,0.81,0.8,0.77,0.73,0.69,0.66,0.62,0.54,0.5,0.56,0.73,0.86,0.93,0.96,1.03,1.12,1.15,1.15,1.19,1.2,1.22,1.27,1.16,1.1,1.07,1.06,1.03,0.98,0.94,0.99,1.05,1.07,1.07,1.07,1.06,1.06,1.1,1.11,1.11,1.1,1.1,1.13,1.11,1.13,1.12,1.11,1.12,1.17,1.18,1.22,1.21,1.2,1.19,1.12,1.07,1.03,1.04,1.03,1.05,1.07,1.1,1.08,1.1,1.13,1.15,1.17,1.16,1.17,1.22,1.23,1.24,1.27,1.32,1.37,1.44,1.53,1.54,1.48,1.44,1.42,1.41,1.37,1.31,1.28,1.29,1.31,1.3,1.32,1.32,1.32,1.38,1.42,1.45,1.45,1.4,1.31,1.25,1.27,1.34,1.39,1.46,1.61,1.82,1.95,1.78,1.62,1.5,1.43,1.34,1.27,1.21,1.25,1.27,1.27,1.24,1.2,1.18,1.2,1.25,1.27,1.27,1.22,1.19,1.16,1.14,1.15,1.14,1.12,1.1,1.09,1.06,1.06,1.04,1.04,1.04,1.04,1.04,1.04,1.03,1.04,1.05,1.08,1.12,1.1,1.06,1.02,0.98,0.93,0.89,0.87,0.86,0.85,0.84,0.81,0.79,0.8,0.79,0.79,0.81,0.81,0.84,0.88,0.9,0.91,0.95,0.98,1.02,1.02,1.03,1.07,1.13,1.18,1.2,1.2,1.22,1.25,1.32,1.38,1.37,1.37,1.41,1.39,1.37,1.32,1.26,1.22,1.22,1.25,1.32,1.37,1.36,1.35,1.33,1.32,1.3,1.28,1.24,1.19,1.14,1.12,1.09,1.04,0.98,0.94,0.91,0.9,0.89,0.86,0.84,0.83,0.81,0.81,0.8,0.78,0.77,0.74,0.71,0.7,0.71,0.73,0.73,0.73,0.72,0.72,0.71,0.71,0.71,0.71,0.72,0.72,0.71,0.69,0.68,0.69,0.71,0.72,0.73,0.73,0.75,0.77,0.77,0.78,0.79,0.8,0.8,0.78,0.76,0.74,0.72,0.7,0.69,0.69,0.7,0.7,0.71,0.73,0.75,0.77,0.79,0.82,0.85,0.87,0.88,0.88,0.87,0.88,0.89,0.9,0.9,0.91,0.94,0.96,0.96,0.96,0.95,0.94,0.92,0.87,0.85,0.84,0.81,0.79,0.76,0.74,0.73,0.72,0.7,0.71,0.73,0.76,0.8,0.84,0.88,0.93,0.91,0.9,0.89,0.9,0.91,0.94,0.95,0.95,0.93,0.92,0.92,0.91,0.91,0.91,0.93,0.91,0.89,0.89,0.89,0.89,0.89,0.92,0.96,0.99,1.0,1.01,1.03,1.06,1.05,1.02,1.0,0.97,0.99,1.02,1.04,1.08,1.12,1.15,1.17,1.19,1.2,1.21,1.23,1.26,1.28,1.3,1.3,1.31,1.31,1.33,1.38,1.43,1.47,1.48,1.48,1.48,1.48,1.48],\"yaxis\":\"y\"}],                        {\"hovermode\":\"x unified\",\"legend\":{\"tracegroupgap\":0},\"template\":{\"data\":{\"bar\":[{\"error_x\":{\"color\":\"#2a3f5f\"},\"error_y\":{\"color\":\"#2a3f5f\"},\"marker\":{\"line\":{\"color\":\"#E5ECF6\",\"width\":0.5},\"pattern\":{\"fillmode\":\"overlay\",\"size\":10,\"solidity\":0.2}},\"type\":\"bar\"}],\"barpolar\":[{\"marker\":{\"line\":{\"color\":\"#E5ECF6\",\"width\":0.5},\"pattern\":{\"fillmode\":\"overlay\",\"size\":10,\"solidity\":0.2}},\"type\":\"barpolar\"}],\"carpet\":[{\"aaxis\":{\"endlinecolor\":\"#2a3f5f\",\"gridcolor\":\"white\",\"linecolor\":\"white\",\"minorgridcolor\":\"white\",\"startlinecolor\":\"#2a3f5f\"},\"baxis\":{\"endlinecolor\":\"#2a3f5f\",\"gridcolor\":\"white\",\"linecolor\":\"white\",\"minorgridcolor\":\"white\",\"startlinecolor\":\"#2a3f5f\"},\"type\":\"carpet\"}],\"choropleth\":[{\"colorbar\":{\"outlinewidth\":0,\"ticks\":\"\"},\"type\":\"choropleth\"}],\"contour\":[{\"colorbar\":{\"outlinewidth\":0,\"ticks\":\"\"},\"colorscale\":[[0.0,\"#0d0887\"],[0.1111111111111111,\"#46039f\"],[0.2222222222222222,\"#7201a8\"],[0.3333333333333333,\"#9c179e\"],[0.4444444444444444,\"#bd3786\"],[0.5555555555555556,\"#d8576b\"],[0.6666666666666666,\"#ed7953\"],[0.7777777777777778,\"#fb9f3a\"],[0.8888888888888888,\"#fdca26\"],[1.0,\"#f0f921\"]],\"type\":\"contour\"}],\"contourcarpet\":[{\"colorbar\":{\"outlinewidth\":0,\"ticks\":\"\"},\"type\":\"contourcarpet\"}],\"heatmap\":[{\"colorbar\":{\"outlinewidth\":0,\"ticks\":\"\"},\"colorscale\":[[0.0,\"#0d0887\"],[0.1111111111111111,\"#46039f\"],[0.2222222222222222,\"#7201a8\"],[0.3333333333333333,\"#9c179e\"],[0.4444444444444444,\"#bd3786\"],[0.5555555555555556,\"#d8576b\"],[0.6666666666666666,\"#ed7953\"],[0.7777777777777778,\"#fb9f3a\"],[0.8888888888888888,\"#fdca26\"],[1.0,\"#f0f921\"]],\"type\":\"heatmap\"}],\"heatmapgl\":[{\"colorbar\":{\"outlinewidth\":0,\"ticks\":\"\"},\"colorscale\":[[0.0,\"#0d0887\"],[0.1111111111111111,\"#46039f\"],[0.2222222222222222,\"#7201a8\"],[0.3333333333333333,\"#9c179e\"],[0.4444444444444444,\"#bd3786\"],[0.5555555555555556,\"#d8576b\"],[0.6666666666666666,\"#ed7953\"],[0.7777777777777778,\"#fb9f3a\"],[0.8888888888888888,\"#fdca26\"],[1.0,\"#f0f921\"]],\"type\":\"heatmapgl\"}],\"histogram\":[{\"marker\":{\"pattern\":{\"fillmode\":\"overlay\",\"size\":10,\"solidity\":0.2}},\"type\":\"histogram\"}],\"histogram2d\":[{\"colorbar\":{\"outlinewidth\":0,\"ticks\":\"\"},\"colorscale\":[[0.0,\"#0d0887\"],[0.1111111111111111,\"#46039f\"],[0.2222222222222222,\"#7201a8\"],[0.3333333333333333,\"#9c179e\"],[0.4444444444444444,\"#bd3786\"],[0.5555555555555556,\"#d8576b\"],[0.6666666666666666,\"#ed7953\"],[0.7777777777777778,\"#fb9f3a\"],[0.8888888888888888,\"#fdca26\"],[1.0,\"#f0f921\"]],\"type\":\"histogram2d\"}],\"histogram2dcontour\":[{\"colorbar\":{\"outlinewidth\":0,\"ticks\":\"\"},\"colorscale\":[[0.0,\"#0d0887\"],[0.1111111111111111,\"#46039f\"],[0.2222222222222222,\"#7201a8\"],[0.3333333333333333,\"#9c179e\"],[0.4444444444444444,\"#bd3786\"],[0.5555555555555556,\"#d8576b\"],[0.6666666666666666,\"#ed7953\"],[0.7777777777777778,\"#fb9f3a\"],[0.8888888888888888,\"#fdca26\"],[1.0,\"#f0f921\"]],\"type\":\"histogram2dcontour\"}],\"mesh3d\":[{\"colorbar\":{\"outlinewidth\":0,\"ticks\":\"\"},\"type\":\"mesh3d\"}],\"parcoords\":[{\"line\":{\"colorbar\":{\"outlinewidth\":0,\"ticks\":\"\"}},\"type\":\"parcoords\"}],\"pie\":[{\"automargin\":true,\"type\":\"pie\"}],\"scatter\":[{\"marker\":{\"colorbar\":{\"outlinewidth\":0,\"ticks\":\"\"}},\"type\":\"scatter\"}],\"scatter3d\":[{\"line\":{\"colorbar\":{\"outlinewidth\":0,\"ticks\":\"\"}},\"marker\":{\"colorbar\":{\"outlinewidth\":0,\"ticks\":\"\"}},\"type\":\"scatter3d\"}],\"scattercarpet\":[{\"marker\":{\"colorbar\":{\"outlinewidth\":0,\"ticks\":\"\"}},\"type\":\"scattercarpet\"}],\"scattergeo\":[{\"marker\":{\"colorbar\":{\"outlinewidth\":0,\"ticks\":\"\"}},\"type\":\"scattergeo\"}],\"scattergl\":[{\"marker\":{\"colorbar\":{\"outlinewidth\":0,\"ticks\":\"\"}},\"type\":\"scattergl\"}],\"scattermapbox\":[{\"marker\":{\"colorbar\":{\"outlinewidth\":0,\"ticks\":\"\"}},\"type\":\"scattermapbox\"}],\"scatterpolar\":[{\"marker\":{\"colorbar\":{\"outlinewidth\":0,\"ticks\":\"\"}},\"type\":\"scatterpolar\"}],\"scatterpolargl\":[{\"marker\":{\"colorbar\":{\"outlinewidth\":0,\"ticks\":\"\"}},\"type\":\"scatterpolargl\"}],\"scatterternary\":[{\"marker\":{\"colorbar\":{\"outlinewidth\":0,\"ticks\":\"\"}},\"type\":\"scatterternary\"}],\"surface\":[{\"colorbar\":{\"outlinewidth\":0,\"ticks\":\"\"},\"colorscale\":[[0.0,\"#0d0887\"],[0.1111111111111111,\"#46039f\"],[0.2222222222222222,\"#7201a8\"],[0.3333333333333333,\"#9c179e\"],[0.4444444444444444,\"#bd3786\"],[0.5555555555555556,\"#d8576b\"],[0.6666666666666666,\"#ed7953\"],[0.7777777777777778,\"#fb9f3a\"],[0.8888888888888888,\"#fdca26\"],[1.0,\"#f0f921\"]],\"type\":\"surface\"}],\"table\":[{\"cells\":{\"fill\":{\"color\":\"#EBF0F8\"},\"line\":{\"color\":\"white\"}},\"header\":{\"fill\":{\"color\":\"#C8D4E3\"},\"line\":{\"color\":\"white\"}},\"type\":\"table\"}]},\"layout\":{\"annotationdefaults\":{\"arrowcolor\":\"#2a3f5f\",\"arrowhead\":0,\"arrowwidth\":1},\"autotypenumbers\":\"strict\",\"coloraxis\":{\"colorbar\":{\"outlinewidth\":0,\"ticks\":\"\"}},\"colorscale\":{\"diverging\":[[0,\"#8e0152\"],[0.1,\"#c51b7d\"],[0.2,\"#de77ae\"],[0.3,\"#f1b6da\"],[0.4,\"#fde0ef\"],[0.5,\"#f7f7f7\"],[0.6,\"#e6f5d0\"],[0.7,\"#b8e186\"],[0.8,\"#7fbc41\"],[0.9,\"#4d9221\"],[1,\"#276419\"]],\"sequential\":[[0.0,\"#0d0887\"],[0.1111111111111111,\"#46039f\"],[0.2222222222222222,\"#7201a8\"],[0.3333333333333333,\"#9c179e\"],[0.4444444444444444,\"#bd3786\"],[0.5555555555555556,\"#d8576b\"],[0.6666666666666666,\"#ed7953\"],[0.7777777777777778,\"#fb9f3a\"],[0.8888888888888888,\"#fdca26\"],[1.0,\"#f0f921\"]],\"sequentialminus\":[[0.0,\"#0d0887\"],[0.1111111111111111,\"#46039f\"],[0.2222222222222222,\"#7201a8\"],[0.3333333333333333,\"#9c179e\"],[0.4444444444444444,\"#bd3786\"],[0.5555555555555556,\"#d8576b\"],[0.6666666666666666,\"#ed7953\"],[0.7777777777777778,\"#fb9f3a\"],[0.8888888888888888,\"#fdca26\"],[1.0,\"#f0f921\"]]},\"colorway\":[\"#636efa\",\"#EF553B\",\"#00cc96\",\"#ab63fa\",\"#FFA15A\",\"#19d3f3\",\"#FF6692\",\"#B6E880\",\"#FF97FF\",\"#FECB52\"],\"font\":{\"color\":\"#2a3f5f\"},\"geo\":{\"bgcolor\":\"white\",\"lakecolor\":\"white\",\"landcolor\":\"#E5ECF6\",\"showlakes\":true,\"showland\":true,\"subunitcolor\":\"white\"},\"hoverlabel\":{\"align\":\"left\"},\"hovermode\":\"closest\",\"mapbox\":{\"style\":\"light\"},\"paper_bgcolor\":\"white\",\"plot_bgcolor\":\"#E5ECF6\",\"polar\":{\"angularaxis\":{\"gridcolor\":\"white\",\"linecolor\":\"white\",\"ticks\":\"\"},\"bgcolor\":\"#E5ECF6\",\"radialaxis\":{\"gridcolor\":\"white\",\"linecolor\":\"white\",\"ticks\":\"\"}},\"scene\":{\"xaxis\":{\"backgroundcolor\":\"#E5ECF6\",\"gridcolor\":\"white\",\"gridwidth\":2,\"linecolor\":\"white\",\"showbackground\":true,\"ticks\":\"\",\"zerolinecolor\":\"white\"},\"yaxis\":{\"backgroundcolor\":\"#E5ECF6\",\"gridcolor\":\"white\",\"gridwidth\":2,\"linecolor\":\"white\",\"showbackground\":true,\"ticks\":\"\",\"zerolinecolor\":\"white\"},\"zaxis\":{\"backgroundcolor\":\"#E5ECF6\",\"gridcolor\":\"white\",\"gridwidth\":2,\"linecolor\":\"white\",\"showbackground\":true,\"ticks\":\"\",\"zerolinecolor\":\"white\"}},\"shapedefaults\":{\"line\":{\"color\":\"#2a3f5f\"}},\"ternary\":{\"aaxis\":{\"gridcolor\":\"white\",\"linecolor\":\"white\",\"ticks\":\"\"},\"baxis\":{\"gridcolor\":\"white\",\"linecolor\":\"white\",\"ticks\":\"\"},\"bgcolor\":\"#E5ECF6\",\"caxis\":{\"gridcolor\":\"white\",\"linecolor\":\"white\",\"ticks\":\"\"}},\"title\":{\"x\":0.05},\"xaxis\":{\"automargin\":true,\"gridcolor\":\"white\",\"linecolor\":\"white\",\"ticks\":\"\",\"title\":{\"standoff\":15},\"zerolinecolor\":\"white\",\"zerolinewidth\":2},\"yaxis\":{\"automargin\":true,\"gridcolor\":\"white\",\"linecolor\":\"white\",\"ticks\":\"\",\"title\":{\"standoff\":15},\"zerolinecolor\":\"white\",\"zerolinewidth\":2}}},\"title\":{\"text\":\"Reproduction Rate\"},\"xaxis\":{\"anchor\":\"y\",\"domain\":[0.0,1.0],\"title\":{\"text\":\"date\"}},\"yaxis\":{\"anchor\":\"x\",\"domain\":[0.0,1.0],\"title\":{\"text\":\"reproduction_rate\"}}},                        {\"responsive\": true}                    ).then(function(){\n",
              "                            \n",
              "var gd = document.getElementById('b2eefd27-7e6f-4ab5-ac9e-a3f9ecebe460');\n",
              "var x = new MutationObserver(function (mutations, observer) {{\n",
              "        var display = window.getComputedStyle(gd).display;\n",
              "        if (!display || display === 'none') {{\n",
              "            console.log([gd, 'removed!']);\n",
              "            Plotly.purge(gd);\n",
              "            observer.disconnect();\n",
              "        }}\n",
              "}});\n",
              "\n",
              "// Listen for the removal of the full notebook cells\n",
              "var notebookContainer = gd.closest('#notebook-container');\n",
              "if (notebookContainer) {{\n",
              "    x.observe(notebookContainer, {childList: true});\n",
              "}}\n",
              "\n",
              "// Listen for the clearing of the current output cell\n",
              "var outputEl = gd.closest('.output');\n",
              "if (outputEl) {{\n",
              "    x.observe(outputEl, {childList: true});\n",
              "}}\n",
              "\n",
              "                        })                };                            </script>        </div>\n",
              "</body>\n",
              "</html>"
            ]
          },
          "metadata": {
            "tags": []
          }
        }
      ]
    },
    {
      "cell_type": "code",
      "metadata": {
        "colab": {
          "base_uri": "https://localhost:8080/",
          "height": 542
        },
        "id": "4btIkdrzmryU",
        "outputId": "5ea45207-9710-42e7-acaf-caab5fccb3d0"
      },
      "source": [
        "fig = px.line(dataset_UK_models1,  dataset_UK_models1[\"date\"], dataset_UK_models1[\"icu_patients\"], title = \"ICU Patients\", hover_data = [\"Mortality_Rate\"]) #hover_data = [\"new_deaths\", \"population\", \"total_cases\", \"new_cases\"])\n",
        "fig.update_traces(mode = \"markers + lines\", hovertemplate = None)\n",
        "fig.update_layout(hovermode = \"x unified\")\n",
        "fig.show()"
      ],
      "execution_count": 62,
      "outputs": [
        {
          "output_type": "display_data",
          "data": {
            "text/html": [
              "<html>\n",
              "<head><meta charset=\"utf-8\" /></head>\n",
              "<body>\n",
              "    <div>            <script src=\"https://cdnjs.cloudflare.com/ajax/libs/mathjax/2.7.5/MathJax.js?config=TeX-AMS-MML_SVG\"></script><script type=\"text/javascript\">if (window.MathJax) {MathJax.Hub.Config({SVG: {font: \"STIX-Web\"}});}</script>                <script type=\"text/javascript\">window.PlotlyConfig = {MathJaxConfig: 'local'};</script>\n",
              "        <script src=\"https://cdn.plot.ly/plotly-2.2.0.min.js\"></script>                <div id=\"17430b58-fd6d-409c-a820-b109c72b2783\" class=\"plotly-graph-div\" style=\"height:525px; width:100%;\"></div>            <script type=\"text/javascript\">                                    window.PLOTLYENV=window.PLOTLYENV || {};                                    if (document.getElementById(\"17430b58-fd6d-409c-a820-b109c72b2783\")) {                    Plotly.newPlot(                        \"17430b58-fd6d-409c-a820-b109c72b2783\",                        [{\"customdata\":[[1.0311403805709348e-05],[8.617387466199956e-06],[3.726835946920664e-06],[4.021447484226646e-06],[1.0679668227341825e-05],[9.530683231848497e-06],[6.7466042043069736e-06],[8.54373458187346e-06],[4.050908637957244e-06],[3.196535179769898e-06],[2.7693484506762246e-06],[9.059304772158927e-06],[6.599298435653982e-06],[5.199893633450571e-06],[5.170432479719973e-06],[6.054267091637917e-06],[9.869486499750376e-07],[2.150664222333664e-06],[7.380019009514833e-06],[4.846359788683393e-06],[4.021447484226646e-06],[4.286597867802029e-06],[3.240726910365795e-06],[5.582888631948347e-06],[1.5319799939911032e-06],[1.929705569354178e-06],[6.216303437156207e-06],[5.05258786479758e-06],[4.036178061091945e-06],[2.2685088372560565e-06],[8.838346119179441e-07],[1.2668296104157199e-06],[3.682644216324767e-06],[3.7415665237859632e-06],[1.914974992488879e-06],[3.8004888312471597e-06],[2.106472491737767e-06],[7.954511507261497e-07],[6.923371126690562e-07],[2.9019236424639163e-06],[2.4158146059090474e-06],[1.1195238417627293e-06],[1.929705569354178e-06],[1.5761717245870004e-06],[3.9772557536307484e-07],[4.27186729093673e-07],[1.7676692238358882e-06],[1.6203634551828976e-06],[9.869486499750376e-07],[1.2373684566851217e-06],[1.0458709574362338e-06],[4.566478828242711e-07],[1.914974992488879e-07],[1.3846742253381123e-06],[1.2815601872810189e-06],[1.4583271096646077e-06],[1.1342544186280283e-06],[5.892230746119627e-07],[4.566478828242711e-07],[3.093421141712804e-07],[7.954511507261497e-07],[1.4288659559340095e-06],[6.039536514772618e-07],[7.217982663996544e-07],[4.7137845968957016e-07],[2.798809604406823e-07],[1.6203634551828976e-07],[7.954511507261497e-07],[8.396428813220469e-07],[4.566478828242711e-07],[5.008396134201683e-07],[2.5041980671008416e-07],[1.325751917876916e-07],[1.4730576865299068e-07],[6.48145382073159e-07],[3.829949984977758e-07],[3.5353384476717763e-07],[3.829949984977758e-07],[1.325751917876916e-07],[1.6203634551828976e-07],[1.4730576865299068e-07],[3.682644216324767e-07],[2.5041980671008416e-07],[1.325751917876916e-07],[4.7137845968957016e-07],[2.2095865297948603e-07],[1.1784461492239254e-07],[4.4191730595897204e-08],[3.093421141712804e-07],[5.008396134201683e-07],[0.0],[2.9461153730598137e-07],[1.914974992488879e-07],[7.365288432649534e-08],[1.4730576865299067e-08],[2.651503835753832e-07],[2.0622807611418695e-07],[2.651503835753832e-07],[1.7676692238358882e-07],[4.4191730595897204e-08],[7.365288432649534e-08],[2.651503835753832e-07],[1.914974992488879e-07],[2.9461153730598137e-07],[2.651503835753832e-07],[1.6203634551828976e-07],[4.4191730595897204e-08],[7.365288432649534e-08],[4.4191730595897204e-08],[1.7676692238358882e-07],[2.5041980671008416e-07],[8.838346119179441e-08],[2.9461153730598135e-08],[2.651503835753832e-07],[8.838346119179441e-08],[5.892230746119627e-08],[2.3568922984478508e-07],[2.5041980671008416e-07],[1.7676692238358882e-07],[1.325751917876916e-07],[1.7676692238358882e-07],[1.4730576865299067e-08],[4.4191730595897204e-08],[4.4191730595897204e-08],[1.4730576865299068e-07],[2.0622807611418695e-07],[1.4730576865299068e-07],[1.7676692238358882e-07],[2.9461153730598135e-08],[4.4191730595897204e-08],[4.7137845968957016e-07],[1.1784461492239254e-07],[2.0622807611418695e-07],[8.838346119179441e-08],[1.325751917876916e-07],[7.365288432649534e-08],[1.325751917876916e-07],[3.9772557536307484e-07],[2.9461153730598137e-07],[3.093421141712804e-07],[3.9772557536307484e-07],[3.9772557536307484e-07],[2.651503835753832e-07],[1.6203634551828976e-07],[5.450313440160655e-07],[5.450313440160655e-07],[5.892230746119627e-07],[5.008396134201683e-07],[5.155701902854674e-07],[2.5041980671008416e-07],[1.914974992488879e-07],[1.0606015343015328e-06],[1.0458709574362338e-06],[8.69104035052645e-07],[9.722180731097384e-07],[7.217982663996544e-07],[4.861090365548692e-07],[2.798809604406823e-07],[1.1195238417627293e-06],[1.0311403805709348e-06],[1.1342544186280283e-06],[1.2815601872810189e-06],[1.1931767260892245e-06],[9.574874962444394e-07],[7.365288432649534e-07],[2.106472491737767e-06],[2.0180890305459725e-06],[2.0328196074112713e-06],[2.0033584536806733e-06],[2.20958652979486e-06],[9.869486499750376e-07],[1.1784461492239255e-06],[3.5500690245370756e-06],[2.813540181272122e-06],[2.784079027541524e-06],[3.299649217826991e-06],[2.5631203745620378e-06],[2.2243171066601593e-06],[1.502518840260505e-06],[5.406121709564758e-06],[4.5664788282427115e-06],[4.124561522283739e-06],[4.036178061091945e-06],[4.802168058087496e-06],[2.386353452178449e-06],[2.0033584536806733e-06],[5.84803901552373e-06],[7.247443817727142e-06],[5.568158055083048e-06],[5.229354787181169e-06],[6.083728245368515e-06],[2.2979699909866545e-06],[2.8724624887333183e-06],[7.836666892339104e-06],[8.779423811718245e-06],[8.293314775163375e-06],[5.538696901352449e-06],[6.8055265117681696e-06],[2.4747369133702434e-06],[3.1523434491740007e-06],[8.823615542314141e-06],[7.792475161743207e-06],[7.394749586380132e-06],[7.527324778167824e-06],[5.0083961342016836e-06],[5.8775001692543286e-06],[3.049229411116907e-06],[8.956190734101834e-06],[1.0237750921382852e-05],[7.335827278918936e-06],[7.659899969955515e-06],[7.055946318478254e-06],[3.1670740260392995e-06],[2.9903071036557107e-06],[8.882537849775338e-06],[9.545413808713796e-06],[6.098458822233814e-06],[7.4242107401107305e-06],[5.84803901552373e-06],[3.4027632558840848e-06],[2.784079027541524e-06],[8.823615542314141e-06],[7.851397469204403e-06],[7.600977662494319e-06],[6.245764590886805e-06],[7.659899969955515e-06],[2.1212030686030657e-06],[3.4322244096146828e-06],[7.453671893841328e-06],[9.01511304156303e-06],[7.836666892339104e-06],[7.217982663996543e-06],[7.9103197766656e-06],[4.802168058087496e-06],[3.1670740260392995e-06],[1.0178828613921657e-05],[1.1018471495243703e-05],[8.470081697546963e-06],[8.396428813220469e-06],[3.1081517185781035e-06],[5.111510172258776e-06],[5.258815940911768e-06],[6.7466042043069736e-06],[1.4465426481723685e-05],[1.42150066750136e-05],[9.059304772158927e-06],[6.5551067050580855e-06],[6.702412473711076e-06],[6.039536514772618e-06],[1.297763821832848e-05],[1.534926109364163e-05],[1.7116930317477518e-05],[1.9635858961443657e-05],[1.5246147055584536e-05],[8.352237082624571e-06],[7.792475161743207e-06],[1.8354298774162638e-05],[2.309754452478894e-05],[1.8457412812219734e-05],[1.8928791271909302e-05],[1.913501934802349e-05],[1.0046253422133964e-05],[8.867807272910039e-06],[2.3745689906862098e-05],[2.68980333560361e-05],[1.909082761742759e-05],[2.0637538188283993e-05],[1.991573992188434e-05],[9.00038246469773e-06],[8.749962657987647e-06],[2.4099223751629276e-05],[2.542497566950619e-05],[1.8251184736105545e-05],[1.8383759927893236e-05],[1.775034512268538e-05],[8.69104035052645e-06],[5.9953447841767206e-06],[2.1374067031548947e-05],[1.9473822615925368e-05],[1.3478477831748648e-05],[1.4951535518278554e-05],[1.2196917644467628e-05],[5.538696901352449e-06],[4.90528209614459e-06],[1.549656686229462e-05],[1.4760038019029666e-05],[1.0016792268403367e-05],[1.1180507840761993e-05],[9.147688233350722e-06],[3.8152194081124585e-06],[3.461685563345281e-06],[1.1769730915373955e-05],[1.0871165726590713e-05],[6.702412473711076e-06],[7.851397469204403e-06],[6.569837281923385e-06],[3.196535179769898e-06],[2.622042682023234e-06],[8.07235612218389e-06],[6.525645551327487e-06],[4.772706904356898e-06],[5.082049018528179e-06],[4.286597867802029e-06],[2.1212030686030657e-06],[1.5319799939911032e-06],[5.05258786479758e-06],[7.1737909334006464e-06],[3.5647996014023744e-06],[3.47641614021058e-06],[2.3421617215825517e-06],[1.2079073029545237e-06],[9.574874962444394e-07],[3.4027632558840848e-06],[2.798809604406823e-06],[2.6662344126191314e-06],[2.592581528292636e-06],[1.7971303775664864e-06],[7.659899969955516e-07],[9.427569193791403e-07],[1.6203634551828976e-06],[2.0770113380071685e-06],[1.3994048022034115e-06],[1.4730576865299067e-06],[1.4141353790687105e-06],[5.008396134201683e-07],[2.651503835753832e-07],[1.6498246089134956e-06],[1.4435965327993087e-06],[9.280263425138413e-07],[1.0458709574362338e-06],[8.54373458187346e-07],[3.093421141712804e-07],[3.388032679018786e-07],[8.101817275914488e-07],[6.334148052078599e-07],[7.512594201302525e-07],[7.659899969955516e-07],[1.4730576865299068e-07],[1.4730576865299068e-07],[4.124561522283739e-07],[2.9461153730598137e-07],[6.62875958938458e-07],[7.807205738608506e-07],[8.838346119179441e-07],[5.892230746119627e-07],[1.0311403805709347e-07],[2.2095865297948603e-07],[3.388032679018786e-07],[5.597619208813646e-07],[4.566478828242711e-07],[5.008396134201683e-07],[5.303007671507664e-07],[1.4730576865299068e-07],[8.838346119179441e-08],[4.861090365548692e-07],[2.9461153730598137e-07],[2.9461153730598137e-07],[6.039536514772618e-07],[4.7137845968957016e-07],[1.6203634551828976e-07],[1.0311403805709347e-07],[2.5041980671008416e-07],[4.27186729093673e-07],[3.682644216324767e-07],[2.3568922984478508e-07],[1.0311403805709347e-07],[2.0622807611418695e-07],[1.4730576865299067e-08],[8.838346119179441e-08],[3.9772557536307484e-07],[1.914974992488879e-07],[2.2095865297948603e-07],[7.365288432649534e-08],[2.9461153730598135e-08],[7.365288432649534e-08],[2.9461153730598137e-07],[1.6203634551828976e-07],[1.6203634551828976e-07],[2.651503835753832e-07],[1.0311403805709347e-07],[5.892230746119627e-08],[7.365288432649534e-08],[1.0311403805709347e-07],[4.4191730595897204e-08],[1.0311403805709347e-07],[1.325751917876916e-07],[8.838346119179441e-08],[7.365288432649534e-08],[4.4191730595897204e-08],[2.2095865297948603e-07],[1.325751917876916e-07],[1.4730576865299068e-07],[1.4730576865299068e-07],[1.0311403805709347e-07],[8.838346119179441e-08],[2.9461153730598135e-08],[0.0],[1.7676692238358882e-07],[2.651503835753832e-07],[1.6203634551828976e-07],[1.914974992488879e-07],[5.892230746119627e-08],[1.4730576865299067e-08],[2.0622807611418695e-07],[8.838346119179441e-08]],\"legendgroup\":\"\",\"line\":{\"color\":\"#636efa\",\"dash\":\"solid\"},\"mode\":\"markers+lines\",\"name\":\"\",\"orientation\":\"v\",\"showlegend\":false,\"type\":\"scatter\",\"x\":[\"2020-05-01\",\"2020-05-02\",\"2020-05-03\",\"2020-05-04\",\"2020-05-05\",\"2020-05-06\",\"2020-05-07\",\"2020-05-08\",\"2020-05-09\",\"2020-05-10\",\"2020-05-11\",\"2020-05-12\",\"2020-05-13\",\"2020-05-14\",\"2020-05-15\",\"2020-05-16\",\"2020-05-17\",\"2020-05-18\",\"2020-05-19\",\"2020-05-20\",\"2020-05-21\",\"2020-05-22\",\"2020-05-23\",\"2020-05-24\",\"2020-05-25\",\"2020-05-26\",\"2020-05-27\",\"2020-05-28\",\"2020-05-29\",\"2020-05-30\",\"2020-05-31\",\"2020-06-01\",\"2020-06-02\",\"2020-06-03\",\"2020-06-04\",\"2020-06-05\",\"2020-06-06\",\"2020-06-07\",\"2020-06-08\",\"2020-06-09\",\"2020-06-10\",\"2020-06-11\",\"2020-06-12\",\"2020-06-13\",\"2020-06-14\",\"2020-06-15\",\"2020-06-16\",\"2020-06-17\",\"2020-06-18\",\"2020-06-19\",\"2020-06-20\",\"2020-06-21\",\"2020-06-22\",\"2020-06-23\",\"2020-06-24\",\"2020-06-25\",\"2020-06-26\",\"2020-06-27\",\"2020-06-28\",\"2020-06-29\",\"2020-06-30\",\"2020-07-01\",\"2020-07-02\",\"2020-07-03\",\"2020-07-04\",\"2020-07-05\",\"2020-07-06\",\"2020-07-07\",\"2020-07-08\",\"2020-07-09\",\"2020-07-10\",\"2020-07-11\",\"2020-07-12\",\"2020-07-13\",\"2020-07-14\",\"2020-07-15\",\"2020-07-16\",\"2020-07-17\",\"2020-07-18\",\"2020-07-19\",\"2020-07-20\",\"2020-07-21\",\"2020-07-22\",\"2020-07-23\",\"2020-07-24\",\"2020-07-25\",\"2020-07-26\",\"2020-07-27\",\"2020-07-28\",\"2020-07-29\",\"2020-07-30\",\"2020-07-31\",\"2020-08-01\",\"2020-08-02\",\"2020-08-03\",\"2020-08-04\",\"2020-08-05\",\"2020-08-06\",\"2020-08-07\",\"2020-08-08\",\"2020-08-09\",\"2020-08-10\",\"2020-08-11\",\"2020-08-12\",\"2020-08-13\",\"2020-08-14\",\"2020-08-15\",\"2020-08-16\",\"2020-08-17\",\"2020-08-18\",\"2020-08-19\",\"2020-08-20\",\"2020-08-21\",\"2020-08-22\",\"2020-08-23\",\"2020-08-24\",\"2020-08-25\",\"2020-08-26\",\"2020-08-27\",\"2020-08-28\",\"2020-08-29\",\"2020-08-30\",\"2020-08-31\",\"2020-09-01\",\"2020-09-02\",\"2020-09-03\",\"2020-09-04\",\"2020-09-05\",\"2020-09-06\",\"2020-09-07\",\"2020-09-08\",\"2020-09-09\",\"2020-09-10\",\"2020-09-11\",\"2020-09-12\",\"2020-09-13\",\"2020-09-14\",\"2020-09-15\",\"2020-09-16\",\"2020-09-17\",\"2020-09-18\",\"2020-09-19\",\"2020-09-20\",\"2020-09-21\",\"2020-09-22\",\"2020-09-23\",\"2020-09-24\",\"2020-09-25\",\"2020-09-26\",\"2020-09-27\",\"2020-09-28\",\"2020-09-29\",\"2020-09-30\",\"2020-10-01\",\"2020-10-02\",\"2020-10-03\",\"2020-10-04\",\"2020-10-05\",\"2020-10-06\",\"2020-10-07\",\"2020-10-08\",\"2020-10-09\",\"2020-10-10\",\"2020-10-11\",\"2020-10-12\",\"2020-10-13\",\"2020-10-14\",\"2020-10-15\",\"2020-10-16\",\"2020-10-17\",\"2020-10-18\",\"2020-10-19\",\"2020-10-20\",\"2020-10-21\",\"2020-10-22\",\"2020-10-23\",\"2020-10-24\",\"2020-10-25\",\"2020-10-26\",\"2020-10-27\",\"2020-10-28\",\"2020-10-29\",\"2020-10-30\",\"2020-10-31\",\"2020-11-01\",\"2020-11-02\",\"2020-11-03\",\"2020-11-04\",\"2020-11-05\",\"2020-11-06\",\"2020-11-07\",\"2020-11-08\",\"2020-11-09\",\"2020-11-10\",\"2020-11-11\",\"2020-11-12\",\"2020-11-13\",\"2020-11-14\",\"2020-11-15\",\"2020-11-16\",\"2020-11-17\",\"2020-11-18\",\"2020-11-19\",\"2020-11-20\",\"2020-11-21\",\"2020-11-22\",\"2020-11-23\",\"2020-11-24\",\"2020-11-25\",\"2020-11-26\",\"2020-11-27\",\"2020-11-28\",\"2020-11-29\",\"2020-11-30\",\"2020-12-01\",\"2020-12-02\",\"2020-12-03\",\"2020-12-04\",\"2020-12-05\",\"2020-12-06\",\"2020-12-07\",\"2020-12-08\",\"2020-12-09\",\"2020-12-10\",\"2020-12-11\",\"2020-12-12\",\"2020-12-13\",\"2020-12-14\",\"2020-12-15\",\"2020-12-16\",\"2020-12-17\",\"2020-12-18\",\"2020-12-19\",\"2020-12-20\",\"2020-12-21\",\"2020-12-22\",\"2020-12-23\",\"2020-12-24\",\"2020-12-25\",\"2020-12-26\",\"2020-12-27\",\"2020-12-28\",\"2020-12-29\",\"2020-12-30\",\"2020-12-31\",\"2021-01-01\",\"2021-01-02\",\"2021-01-03\",\"2021-01-04\",\"2021-01-05\",\"2021-01-06\",\"2021-01-07\",\"2021-01-08\",\"2021-01-09\",\"2021-01-10\",\"2021-01-11\",\"2021-01-12\",\"2021-01-13\",\"2021-01-14\",\"2021-01-15\",\"2021-01-16\",\"2021-01-17\",\"2021-01-18\",\"2021-01-19\",\"2021-01-20\",\"2021-01-21\",\"2021-01-22\",\"2021-01-23\",\"2021-01-24\",\"2021-01-25\",\"2021-01-26\",\"2021-01-27\",\"2021-01-28\",\"2021-01-29\",\"2021-01-30\",\"2021-01-31\",\"2021-02-01\",\"2021-02-02\",\"2021-02-03\",\"2021-02-04\",\"2021-02-05\",\"2021-02-06\",\"2021-02-07\",\"2021-02-08\",\"2021-02-09\",\"2021-02-10\",\"2021-02-11\",\"2021-02-12\",\"2021-02-13\",\"2021-02-14\",\"2021-02-15\",\"2021-02-16\",\"2021-02-17\",\"2021-02-18\",\"2021-02-19\",\"2021-02-20\",\"2021-02-21\",\"2021-02-22\",\"2021-02-23\",\"2021-02-24\",\"2021-02-25\",\"2021-02-26\",\"2021-02-27\",\"2021-02-28\",\"2021-03-01\",\"2021-03-02\",\"2021-03-03\",\"2021-03-04\",\"2021-03-05\",\"2021-03-06\",\"2021-03-07\",\"2021-03-08\",\"2021-03-09\",\"2021-03-10\",\"2021-03-11\",\"2021-03-12\",\"2021-03-13\",\"2021-03-14\",\"2021-03-15\",\"2021-03-16\",\"2021-03-17\",\"2021-03-18\",\"2021-03-19\",\"2021-03-20\",\"2021-03-21\",\"2021-03-22\",\"2021-03-23\",\"2021-03-24\",\"2021-03-25\",\"2021-03-26\",\"2021-03-27\",\"2021-03-28\",\"2021-03-29\",\"2021-03-30\",\"2021-03-31\",\"2021-04-01\",\"2021-04-02\",\"2021-04-03\",\"2021-04-04\",\"2021-04-05\",\"2021-04-06\",\"2021-04-07\",\"2021-04-08\",\"2021-04-09\",\"2021-04-10\",\"2021-04-11\",\"2021-04-12\",\"2021-04-13\",\"2021-04-14\",\"2021-04-15\",\"2021-04-16\",\"2021-04-17\",\"2021-04-18\",\"2021-04-19\",\"2021-04-20\",\"2021-04-21\",\"2021-04-22\",\"2021-04-23\",\"2021-04-24\",\"2021-04-25\",\"2021-04-26\",\"2021-04-27\",\"2021-04-28\",\"2021-04-29\",\"2021-04-30\",\"2021-05-01\",\"2021-05-02\",\"2021-05-03\",\"2021-05-04\",\"2021-05-05\",\"2021-05-06\",\"2021-05-07\",\"2021-05-08\",\"2021-05-09\",\"2021-05-10\",\"2021-05-11\",\"2021-05-12\",\"2021-05-13\",\"2021-05-14\",\"2021-05-15\",\"2021-05-16\",\"2021-05-17\",\"2021-05-18\",\"2021-05-19\",\"2021-05-20\",\"2021-05-21\",\"2021-05-22\",\"2021-05-23\",\"2021-05-24\",\"2021-05-25\",\"2021-05-26\",\"2021-05-27\",\"2021-05-28\",\"2021-05-29\",\"2021-05-30\",\"2021-05-31\",\"2021-06-01\",\"2021-06-02\",\"2021-06-03\",\"2021-06-04\",\"2021-06-05\",\"2021-06-06\",\"2021-06-07\",\"2021-06-08\",\"2021-06-09\"],\"xaxis\":\"x\",\"y\":[2178.0,2068.0,2009.0,1936.0,1874.0,1802.0,1685.0,1642.0,1585.0,1538.0,1485.0,1414.0,1342.0,1314.0,1337.0,1234.0,1196.0,1141.0,1106.0,1034.0,1008.0,964.0,928.0,886.0,863.0,847.0,783.0,751.0,719.0,704.0,679.0,652.0,636.0,602.0,571.0,554.0,540.0,515.0,509.0,491.0,439.0,390.0,393.0,390.0,393.0,385.0,378.0,357.0,352.0,330.0,346.0,310.0,340.0,311.0,316.0,276.0,268.0,270.0,270.0,262.0,279.0,259.0,239.0,231.0,220.0,217.0,209.0,197.0,185.0,188.0,191.0,168.0,159.0,162.0,145.0,153.0,142.0,143.0,137.0,131.0,129.0,137.0,110.0,111.0,104.0,93.0,92.0,97.0,93.0,87.0,84.0,86.0,92.0,85.0,77.0,76.0,73.0,69.0,67.0,62.0,65.0,70.0,73.0,80.0,75.0,73.0,76.0,78.0,73.0,73.0,70.0,76.0,72.0,71.0,72.0,68.0,68.0,64.0,71.0,60.0,66.0,68.0,71.0,82.0,81.0,76.0,69.0,65.0,69.0,77.0,80.0,80.0,78.0,143.0,86.0,92.0,105.0,115.0,124.0,127.0,138.0,144.0,165.0,181.0,211.0,228.0,243.0,262.0,261.0,276.0,297.0,314.0,333.0,341.0,369.0,369.0,369.0,393.0,410.0,442.0,436.0,440.0,470.0,477.0,507.0,516.0,563.0,581.0,592.0,614.0,630.0,658.0,698.0,712.0,708.0,744.0,788.0,828.0,853.0,903.0,957.0,974.0,979.0,1003.0,979.0,1075.0,1144.0,1193.0,1183.0,1187.0,1207.0,1232.0,1271.0,1219.0,1268.0,1275.0,1355.0,1365.0,1397.0,1391.0,1420.0,1430.0,1426.0,1421.0,1447.0,1454.0,1487.0,1489.0,1480.0,1456.0,1417.0,1378.0,1388.0,1357.0,1351.0,1315.0,1261.0,1274.0,1247.0,1249.0,1271.0,1272.0,1243.0,1267.0,1275.0,1243.0,1281.0,1288.0,1326.0,1340.0,1366.0,1364.0,1412.0,1442.0,1512.0,1529.0,1554.0,1607.0,1616.0,1682.0,1751.0,1847.0,1939.0,2066.0,2122.0,2162.0,2256.0,2420.0,2560.0,2645.0,2821.0,2929.0,3098.0,3145.0,3264.0,3363.0,3496.0,3626.0,3672.0,3789.0,3854.0,3871.0,3916.0,3947.0,3953.0,3960.0,4076.0,4066.0,4077.0,4032.0,3961.0,3937.0,3918.0,3832.0,3806.0,3687.0,3726.0,3638.0,3628.0,3572.0,3505.0,3373.0,3302.0,3230.0,3164.0,3132.0,3036.0,2943.0,2842.0,2851.0,2805.0,2708.0,2614.0,2535.0,2469.0,2358.0,2329.0,2273.0,2149.0,2118.0,2047.0,1971.0,1903.0,1783.0,1806.0,1709.0,1647.0,1589.0,1542.0,1449.0,1394.0,1356.0,1292.0,1236.0,1192.0,1110.0,1087.0,1049.0,1016.0,968.0,925.0,879.0,830.0,787.0,768.0,748.0,711.0,682.0,630.0,615.0,594.0,582.0,583.0,568.0,547.0,517.0,485.0,478.0,469.0,461.0,453.0,440.0,421.0,405.0,385.0,385.0,377.0,370.0,351.0,329.0,332.0,323.0,311.0,318.0,300.0,276.0,261.0,243.0,240.0,231.0,227.0,214.0,208.0,196.0,185.0,188.0,196.0,187.0,181.0,182.0,163.0,159.0,151.0,144.0,149.0,138.0,136.0,129.0,124.0,121.0,123.0,125.0,124.0,122.0,123.0,124.0,123.0,120.0,121.0,128.0,125.0,120.0,124.0,119.0,124.0,122.0,136.0,129.0,134.0,130.0,135.0,145.0,148.0,154.0,159.0],\"yaxis\":\"y\"}],                        {\"hovermode\":\"x unified\",\"legend\":{\"tracegroupgap\":0},\"template\":{\"data\":{\"bar\":[{\"error_x\":{\"color\":\"#2a3f5f\"},\"error_y\":{\"color\":\"#2a3f5f\"},\"marker\":{\"line\":{\"color\":\"#E5ECF6\",\"width\":0.5},\"pattern\":{\"fillmode\":\"overlay\",\"size\":10,\"solidity\":0.2}},\"type\":\"bar\"}],\"barpolar\":[{\"marker\":{\"line\":{\"color\":\"#E5ECF6\",\"width\":0.5},\"pattern\":{\"fillmode\":\"overlay\",\"size\":10,\"solidity\":0.2}},\"type\":\"barpolar\"}],\"carpet\":[{\"aaxis\":{\"endlinecolor\":\"#2a3f5f\",\"gridcolor\":\"white\",\"linecolor\":\"white\",\"minorgridcolor\":\"white\",\"startlinecolor\":\"#2a3f5f\"},\"baxis\":{\"endlinecolor\":\"#2a3f5f\",\"gridcolor\":\"white\",\"linecolor\":\"white\",\"minorgridcolor\":\"white\",\"startlinecolor\":\"#2a3f5f\"},\"type\":\"carpet\"}],\"choropleth\":[{\"colorbar\":{\"outlinewidth\":0,\"ticks\":\"\"},\"type\":\"choropleth\"}],\"contour\":[{\"colorbar\":{\"outlinewidth\":0,\"ticks\":\"\"},\"colorscale\":[[0.0,\"#0d0887\"],[0.1111111111111111,\"#46039f\"],[0.2222222222222222,\"#7201a8\"],[0.3333333333333333,\"#9c179e\"],[0.4444444444444444,\"#bd3786\"],[0.5555555555555556,\"#d8576b\"],[0.6666666666666666,\"#ed7953\"],[0.7777777777777778,\"#fb9f3a\"],[0.8888888888888888,\"#fdca26\"],[1.0,\"#f0f921\"]],\"type\":\"contour\"}],\"contourcarpet\":[{\"colorbar\":{\"outlinewidth\":0,\"ticks\":\"\"},\"type\":\"contourcarpet\"}],\"heatmap\":[{\"colorbar\":{\"outlinewidth\":0,\"ticks\":\"\"},\"colorscale\":[[0.0,\"#0d0887\"],[0.1111111111111111,\"#46039f\"],[0.2222222222222222,\"#7201a8\"],[0.3333333333333333,\"#9c179e\"],[0.4444444444444444,\"#bd3786\"],[0.5555555555555556,\"#d8576b\"],[0.6666666666666666,\"#ed7953\"],[0.7777777777777778,\"#fb9f3a\"],[0.8888888888888888,\"#fdca26\"],[1.0,\"#f0f921\"]],\"type\":\"heatmap\"}],\"heatmapgl\":[{\"colorbar\":{\"outlinewidth\":0,\"ticks\":\"\"},\"colorscale\":[[0.0,\"#0d0887\"],[0.1111111111111111,\"#46039f\"],[0.2222222222222222,\"#7201a8\"],[0.3333333333333333,\"#9c179e\"],[0.4444444444444444,\"#bd3786\"],[0.5555555555555556,\"#d8576b\"],[0.6666666666666666,\"#ed7953\"],[0.7777777777777778,\"#fb9f3a\"],[0.8888888888888888,\"#fdca26\"],[1.0,\"#f0f921\"]],\"type\":\"heatmapgl\"}],\"histogram\":[{\"marker\":{\"pattern\":{\"fillmode\":\"overlay\",\"size\":10,\"solidity\":0.2}},\"type\":\"histogram\"}],\"histogram2d\":[{\"colorbar\":{\"outlinewidth\":0,\"ticks\":\"\"},\"colorscale\":[[0.0,\"#0d0887\"],[0.1111111111111111,\"#46039f\"],[0.2222222222222222,\"#7201a8\"],[0.3333333333333333,\"#9c179e\"],[0.4444444444444444,\"#bd3786\"],[0.5555555555555556,\"#d8576b\"],[0.6666666666666666,\"#ed7953\"],[0.7777777777777778,\"#fb9f3a\"],[0.8888888888888888,\"#fdca26\"],[1.0,\"#f0f921\"]],\"type\":\"histogram2d\"}],\"histogram2dcontour\":[{\"colorbar\":{\"outlinewidth\":0,\"ticks\":\"\"},\"colorscale\":[[0.0,\"#0d0887\"],[0.1111111111111111,\"#46039f\"],[0.2222222222222222,\"#7201a8\"],[0.3333333333333333,\"#9c179e\"],[0.4444444444444444,\"#bd3786\"],[0.5555555555555556,\"#d8576b\"],[0.6666666666666666,\"#ed7953\"],[0.7777777777777778,\"#fb9f3a\"],[0.8888888888888888,\"#fdca26\"],[1.0,\"#f0f921\"]],\"type\":\"histogram2dcontour\"}],\"mesh3d\":[{\"colorbar\":{\"outlinewidth\":0,\"ticks\":\"\"},\"type\":\"mesh3d\"}],\"parcoords\":[{\"line\":{\"colorbar\":{\"outlinewidth\":0,\"ticks\":\"\"}},\"type\":\"parcoords\"}],\"pie\":[{\"automargin\":true,\"type\":\"pie\"}],\"scatter\":[{\"marker\":{\"colorbar\":{\"outlinewidth\":0,\"ticks\":\"\"}},\"type\":\"scatter\"}],\"scatter3d\":[{\"line\":{\"colorbar\":{\"outlinewidth\":0,\"ticks\":\"\"}},\"marker\":{\"colorbar\":{\"outlinewidth\":0,\"ticks\":\"\"}},\"type\":\"scatter3d\"}],\"scattercarpet\":[{\"marker\":{\"colorbar\":{\"outlinewidth\":0,\"ticks\":\"\"}},\"type\":\"scattercarpet\"}],\"scattergeo\":[{\"marker\":{\"colorbar\":{\"outlinewidth\":0,\"ticks\":\"\"}},\"type\":\"scattergeo\"}],\"scattergl\":[{\"marker\":{\"colorbar\":{\"outlinewidth\":0,\"ticks\":\"\"}},\"type\":\"scattergl\"}],\"scattermapbox\":[{\"marker\":{\"colorbar\":{\"outlinewidth\":0,\"ticks\":\"\"}},\"type\":\"scattermapbox\"}],\"scatterpolar\":[{\"marker\":{\"colorbar\":{\"outlinewidth\":0,\"ticks\":\"\"}},\"type\":\"scatterpolar\"}],\"scatterpolargl\":[{\"marker\":{\"colorbar\":{\"outlinewidth\":0,\"ticks\":\"\"}},\"type\":\"scatterpolargl\"}],\"scatterternary\":[{\"marker\":{\"colorbar\":{\"outlinewidth\":0,\"ticks\":\"\"}},\"type\":\"scatterternary\"}],\"surface\":[{\"colorbar\":{\"outlinewidth\":0,\"ticks\":\"\"},\"colorscale\":[[0.0,\"#0d0887\"],[0.1111111111111111,\"#46039f\"],[0.2222222222222222,\"#7201a8\"],[0.3333333333333333,\"#9c179e\"],[0.4444444444444444,\"#bd3786\"],[0.5555555555555556,\"#d8576b\"],[0.6666666666666666,\"#ed7953\"],[0.7777777777777778,\"#fb9f3a\"],[0.8888888888888888,\"#fdca26\"],[1.0,\"#f0f921\"]],\"type\":\"surface\"}],\"table\":[{\"cells\":{\"fill\":{\"color\":\"#EBF0F8\"},\"line\":{\"color\":\"white\"}},\"header\":{\"fill\":{\"color\":\"#C8D4E3\"},\"line\":{\"color\":\"white\"}},\"type\":\"table\"}]},\"layout\":{\"annotationdefaults\":{\"arrowcolor\":\"#2a3f5f\",\"arrowhead\":0,\"arrowwidth\":1},\"autotypenumbers\":\"strict\",\"coloraxis\":{\"colorbar\":{\"outlinewidth\":0,\"ticks\":\"\"}},\"colorscale\":{\"diverging\":[[0,\"#8e0152\"],[0.1,\"#c51b7d\"],[0.2,\"#de77ae\"],[0.3,\"#f1b6da\"],[0.4,\"#fde0ef\"],[0.5,\"#f7f7f7\"],[0.6,\"#e6f5d0\"],[0.7,\"#b8e186\"],[0.8,\"#7fbc41\"],[0.9,\"#4d9221\"],[1,\"#276419\"]],\"sequential\":[[0.0,\"#0d0887\"],[0.1111111111111111,\"#46039f\"],[0.2222222222222222,\"#7201a8\"],[0.3333333333333333,\"#9c179e\"],[0.4444444444444444,\"#bd3786\"],[0.5555555555555556,\"#d8576b\"],[0.6666666666666666,\"#ed7953\"],[0.7777777777777778,\"#fb9f3a\"],[0.8888888888888888,\"#fdca26\"],[1.0,\"#f0f921\"]],\"sequentialminus\":[[0.0,\"#0d0887\"],[0.1111111111111111,\"#46039f\"],[0.2222222222222222,\"#7201a8\"],[0.3333333333333333,\"#9c179e\"],[0.4444444444444444,\"#bd3786\"],[0.5555555555555556,\"#d8576b\"],[0.6666666666666666,\"#ed7953\"],[0.7777777777777778,\"#fb9f3a\"],[0.8888888888888888,\"#fdca26\"],[1.0,\"#f0f921\"]]},\"colorway\":[\"#636efa\",\"#EF553B\",\"#00cc96\",\"#ab63fa\",\"#FFA15A\",\"#19d3f3\",\"#FF6692\",\"#B6E880\",\"#FF97FF\",\"#FECB52\"],\"font\":{\"color\":\"#2a3f5f\"},\"geo\":{\"bgcolor\":\"white\",\"lakecolor\":\"white\",\"landcolor\":\"#E5ECF6\",\"showlakes\":true,\"showland\":true,\"subunitcolor\":\"white\"},\"hoverlabel\":{\"align\":\"left\"},\"hovermode\":\"closest\",\"mapbox\":{\"style\":\"light\"},\"paper_bgcolor\":\"white\",\"plot_bgcolor\":\"#E5ECF6\",\"polar\":{\"angularaxis\":{\"gridcolor\":\"white\",\"linecolor\":\"white\",\"ticks\":\"\"},\"bgcolor\":\"#E5ECF6\",\"radialaxis\":{\"gridcolor\":\"white\",\"linecolor\":\"white\",\"ticks\":\"\"}},\"scene\":{\"xaxis\":{\"backgroundcolor\":\"#E5ECF6\",\"gridcolor\":\"white\",\"gridwidth\":2,\"linecolor\":\"white\",\"showbackground\":true,\"ticks\":\"\",\"zerolinecolor\":\"white\"},\"yaxis\":{\"backgroundcolor\":\"#E5ECF6\",\"gridcolor\":\"white\",\"gridwidth\":2,\"linecolor\":\"white\",\"showbackground\":true,\"ticks\":\"\",\"zerolinecolor\":\"white\"},\"zaxis\":{\"backgroundcolor\":\"#E5ECF6\",\"gridcolor\":\"white\",\"gridwidth\":2,\"linecolor\":\"white\",\"showbackground\":true,\"ticks\":\"\",\"zerolinecolor\":\"white\"}},\"shapedefaults\":{\"line\":{\"color\":\"#2a3f5f\"}},\"ternary\":{\"aaxis\":{\"gridcolor\":\"white\",\"linecolor\":\"white\",\"ticks\":\"\"},\"baxis\":{\"gridcolor\":\"white\",\"linecolor\":\"white\",\"ticks\":\"\"},\"bgcolor\":\"#E5ECF6\",\"caxis\":{\"gridcolor\":\"white\",\"linecolor\":\"white\",\"ticks\":\"\"}},\"title\":{\"x\":0.05},\"xaxis\":{\"automargin\":true,\"gridcolor\":\"white\",\"linecolor\":\"white\",\"ticks\":\"\",\"title\":{\"standoff\":15},\"zerolinecolor\":\"white\",\"zerolinewidth\":2},\"yaxis\":{\"automargin\":true,\"gridcolor\":\"white\",\"linecolor\":\"white\",\"ticks\":\"\",\"title\":{\"standoff\":15},\"zerolinecolor\":\"white\",\"zerolinewidth\":2}}},\"title\":{\"text\":\"ICU Patients\"},\"xaxis\":{\"anchor\":\"y\",\"domain\":[0.0,1.0],\"title\":{\"text\":\"date\"}},\"yaxis\":{\"anchor\":\"x\",\"domain\":[0.0,1.0],\"title\":{\"text\":\"icu_patients\"}}},                        {\"responsive\": true}                    ).then(function(){\n",
              "                            \n",
              "var gd = document.getElementById('17430b58-fd6d-409c-a820-b109c72b2783');\n",
              "var x = new MutationObserver(function (mutations, observer) {{\n",
              "        var display = window.getComputedStyle(gd).display;\n",
              "        if (!display || display === 'none') {{\n",
              "            console.log([gd, 'removed!']);\n",
              "            Plotly.purge(gd);\n",
              "            observer.disconnect();\n",
              "        }}\n",
              "}});\n",
              "\n",
              "// Listen for the removal of the full notebook cells\n",
              "var notebookContainer = gd.closest('#notebook-container');\n",
              "if (notebookContainer) {{\n",
              "    x.observe(notebookContainer, {childList: true});\n",
              "}}\n",
              "\n",
              "// Listen for the clearing of the current output cell\n",
              "var outputEl = gd.closest('.output');\n",
              "if (outputEl) {{\n",
              "    x.observe(outputEl, {childList: true});\n",
              "}}\n",
              "\n",
              "                        })                };                            </script>        </div>\n",
              "</body>\n",
              "</html>"
            ]
          },
          "metadata": {
            "tags": []
          }
        }
      ]
    },
    {
      "cell_type": "code",
      "metadata": {
        "id": "x0x0s9h0m397"
      },
      "source": [
        ""
      ],
      "execution_count": 62,
      "outputs": []
    }
  ]
}
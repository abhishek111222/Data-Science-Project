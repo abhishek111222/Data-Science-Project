{
  "nbformat": 4,
  "nbformat_minor": 0,
  "metadata": {
    "colab": {
      "name": "arima.ipynb",
      "provenance": []
    },
    "kernelspec": {
      "name": "python3",
      "display_name": "Python 3"
    },
    "language_info": {
      "name": "python"
    }
  },
  "cells": [
    {
      "cell_type": "code",
      "metadata": {
        "colab": {
          "base_uri": "https://localhost:8080/"
        },
        "id": "zjT9BS-TAZ6M",
        "outputId": "d5ea37c5-0b75-4014-f4d7-af2e067bcf3f"
      },
      "source": [
        "from google.colab import drive\n",
        "drive.mount('/content/gdrive')"
      ],
      "execution_count": 1,
      "outputs": [
        {
          "output_type": "stream",
          "name": "stdout",
          "text": [
            "Drive already mounted at /content/gdrive; to attempt to forcibly remount, call drive.mount(\"/content/gdrive\", force_remount=True).\n"
          ]
        }
      ]
    },
    {
      "cell_type": "code",
      "metadata": {
        "id": "ab4ORXE8AjCG"
      },
      "source": [
        "import pandas as pd\n",
        "from pandas import concat\n",
        "from tensorflow import keras\n",
        "from keras.models import Sequential\n",
        "from keras.layers import Dense\n",
        "from keras.layers import LSTM\n",
        "from sklearn.preprocessing import StandardScaler, LabelEncoder, MinMaxScaler, Normalizer, normalize\n",
        "import matplotlib.pyplot as plt\n",
        "from pandas import DataFrame\n",
        "\n",
        "\n",
        "from numpy import concatenate\n",
        "from sklearn.metrics import mean_squared_error, r2_score, mean_absolute_error\n",
        "from math import sqrt\n",
        "from keras.layers import Dense, Dropout, LSTM, BatchNormalization, TimeDistributed\n",
        "from keras.layers import Conv3D, Conv2D, Conv1D, GlobalMaxPool1D, AveragePooling1D, MaxPooling1D"
      ],
      "execution_count": 2,
      "outputs": []
    },
    {
      "cell_type": "code",
      "metadata": {
        "id": "AqeqOfOxAw3t"
      },
      "source": [
        "import warnings\n",
        "import itertools\n",
        "import numpy as np\n",
        "import matplotlib.pyplot as plt\n",
        "warnings.filterwarnings(\"ignore\")\n",
        "plt.style.use('fivethirtyeight')\n",
        "import pandas as pd\n",
        "import statsmodels.api as sm\n",
        "import matplotlib\n",
        "\n",
        "\n",
        "\n",
        "matplotlib.rcParams['axes.labelsize'] = 14\n",
        "matplotlib.rcParams['xtick.labelsize'] = 12\n",
        "matplotlib.rcParams['ytick.labelsize'] = 12\n",
        "matplotlib.rcParams['text.color'] = 'k'"
      ],
      "execution_count": 3,
      "outputs": []
    },
    {
      "cell_type": "code",
      "metadata": {
        "id": "fw-nX-lLAy1l"
      },
      "source": [
        "from keras.layers.convolutional import Conv2D\n",
        "from keras.layers import Dense\n",
        "from keras.layers.convolutional import MaxPooling2D\n",
        "from keras.layers import Flatten"
      ],
      "execution_count": 4,
      "outputs": []
    },
    {
      "cell_type": "code",
      "metadata": {
        "id": "sQWJgwy3A0al"
      },
      "source": [
        "from tensorflow.keras.optimizers import SGD, RMSprop, Adagrad, Adam, Adamax"
      ],
      "execution_count": 5,
      "outputs": []
    },
    {
      "cell_type": "code",
      "metadata": {
        "id": "zHDX0SSiA00e"
      },
      "source": [
        "dataset = pd.read_csv(\"/content/gdrive/MyDrive/Colab Notebooks/dataset.csv\")"
      ],
      "execution_count": 6,
      "outputs": []
    },
    {
      "cell_type": "code",
      "metadata": {
        "colab": {
          "base_uri": "https://localhost:8080/",
          "height": 313
        },
        "id": "TlfnvrX0A02y",
        "outputId": "3777fbb8-b3f4-4759-840c-66879937f6e1"
      },
      "source": [
        "dataset.head()"
      ],
      "execution_count": 7,
      "outputs": [
        {
          "output_type": "execute_result",
          "data": {
            "text/html": [
              "<div>\n",
              "<style scoped>\n",
              "    .dataframe tbody tr th:only-of-type {\n",
              "        vertical-align: middle;\n",
              "    }\n",
              "\n",
              "    .dataframe tbody tr th {\n",
              "        vertical-align: top;\n",
              "    }\n",
              "\n",
              "    .dataframe thead th {\n",
              "        text-align: right;\n",
              "    }\n",
              "</style>\n",
              "<table border=\"1\" class=\"dataframe\">\n",
              "  <thead>\n",
              "    <tr style=\"text-align: right;\">\n",
              "      <th></th>\n",
              "      <th>date</th>\n",
              "      <th>new_cases</th>\n",
              "      <th>reproduction_rate</th>\n",
              "      <th>icu_patients</th>\n",
              "      <th>hosp_patients</th>\n",
              "      <th>new_tests</th>\n",
              "      <th>positive_rate</th>\n",
              "      <th>people_vaccinated</th>\n",
              "      <th>people_fully_vaccinated</th>\n",
              "      <th>new_vaccinations</th>\n",
              "      <th>Lockdown</th>\n",
              "      <th>Variant</th>\n",
              "      <th>Vaccine</th>\n",
              "      <th>GDP_PER_CAPITA</th>\n",
              "      <th>Population</th>\n",
              "      <th>Mortality_Rate</th>\n",
              "    </tr>\n",
              "  </thead>\n",
              "  <tbody>\n",
              "    <tr>\n",
              "      <th>0</th>\n",
              "      <td>2020-05-01</td>\n",
              "      <td>4730.0</td>\n",
              "      <td>0.94</td>\n",
              "      <td>2178.0</td>\n",
              "      <td>14723.0</td>\n",
              "      <td>74142.0</td>\n",
              "      <td>0.088</td>\n",
              "      <td>0.0</td>\n",
              "      <td>0.0</td>\n",
              "      <td>0.0</td>\n",
              "      <td>0</td>\n",
              "      <td>0</td>\n",
              "      <td>0</td>\n",
              "      <td>39753.244</td>\n",
              "      <td>67886004.0</td>\n",
              "      <td>0.000010</td>\n",
              "    </tr>\n",
              "    <tr>\n",
              "      <th>1</th>\n",
              "      <td>2020-05-02</td>\n",
              "      <td>3230.0</td>\n",
              "      <td>0.91</td>\n",
              "      <td>2068.0</td>\n",
              "      <td>14380.0</td>\n",
              "      <td>63559.0</td>\n",
              "      <td>0.079</td>\n",
              "      <td>0.0</td>\n",
              "      <td>0.0</td>\n",
              "      <td>0.0</td>\n",
              "      <td>0</td>\n",
              "      <td>0</td>\n",
              "      <td>0</td>\n",
              "      <td>39753.244</td>\n",
              "      <td>67886004.0</td>\n",
              "      <td>0.000009</td>\n",
              "    </tr>\n",
              "    <tr>\n",
              "      <th>2</th>\n",
              "      <td>2020-05-03</td>\n",
              "      <td>2977.0</td>\n",
              "      <td>0.87</td>\n",
              "      <td>2009.0</td>\n",
              "      <td>14188.0</td>\n",
              "      <td>68203.0</td>\n",
              "      <td>0.071</td>\n",
              "      <td>0.0</td>\n",
              "      <td>0.0</td>\n",
              "      <td>0.0</td>\n",
              "      <td>0</td>\n",
              "      <td>0</td>\n",
              "      <td>0</td>\n",
              "      <td>39753.244</td>\n",
              "      <td>67886004.0</td>\n",
              "      <td>0.000004</td>\n",
              "    </tr>\n",
              "    <tr>\n",
              "      <th>3</th>\n",
              "      <td>2020-05-04</td>\n",
              "      <td>3383.0</td>\n",
              "      <td>0.82</td>\n",
              "      <td>1936.0</td>\n",
              "      <td>14097.0</td>\n",
              "      <td>72630.0</td>\n",
              "      <td>0.061</td>\n",
              "      <td>0.0</td>\n",
              "      <td>0.0</td>\n",
              "      <td>0.0</td>\n",
              "      <td>0</td>\n",
              "      <td>0</td>\n",
              "      <td>0</td>\n",
              "      <td>39753.244</td>\n",
              "      <td>67886004.0</td>\n",
              "      <td>0.000004</td>\n",
              "    </tr>\n",
              "    <tr>\n",
              "      <th>4</th>\n",
              "      <td>2020-05-05</td>\n",
              "      <td>3689.0</td>\n",
              "      <td>0.81</td>\n",
              "      <td>1874.0</td>\n",
              "      <td>13723.0</td>\n",
              "      <td>66919.0</td>\n",
              "      <td>0.057</td>\n",
              "      <td>0.0</td>\n",
              "      <td>0.0</td>\n",
              "      <td>0.0</td>\n",
              "      <td>0</td>\n",
              "      <td>0</td>\n",
              "      <td>0</td>\n",
              "      <td>39753.244</td>\n",
              "      <td>67886004.0</td>\n",
              "      <td>0.000011</td>\n",
              "    </tr>\n",
              "  </tbody>\n",
              "</table>\n",
              "</div>"
            ],
            "text/plain": [
              "         date  new_cases  ...  Population  Mortality_Rate\n",
              "0  2020-05-01     4730.0  ...  67886004.0        0.000010\n",
              "1  2020-05-02     3230.0  ...  67886004.0        0.000009\n",
              "2  2020-05-03     2977.0  ...  67886004.0        0.000004\n",
              "3  2020-05-04     3383.0  ...  67886004.0        0.000004\n",
              "4  2020-05-05     3689.0  ...  67886004.0        0.000011\n",
              "\n",
              "[5 rows x 16 columns]"
            ]
          },
          "metadata": {},
          "execution_count": 7
        }
      ]
    },
    {
      "cell_type": "code",
      "metadata": {
        "id": "nzAzHusuA041"
      },
      "source": [
        "dataset.set_index(\"date\", inplace = True)"
      ],
      "execution_count": 8,
      "outputs": []
    },
    {
      "cell_type": "code",
      "metadata": {
        "colab": {
          "base_uri": "https://localhost:8080/",
          "height": 344
        },
        "id": "MIysKp0yA064",
        "outputId": "12bfbfb3-aea9-48ce-ab28-d94c4e939595"
      },
      "source": [
        "dataset.head()"
      ],
      "execution_count": 9,
      "outputs": [
        {
          "output_type": "execute_result",
          "data": {
            "text/html": [
              "<div>\n",
              "<style scoped>\n",
              "    .dataframe tbody tr th:only-of-type {\n",
              "        vertical-align: middle;\n",
              "    }\n",
              "\n",
              "    .dataframe tbody tr th {\n",
              "        vertical-align: top;\n",
              "    }\n",
              "\n",
              "    .dataframe thead th {\n",
              "        text-align: right;\n",
              "    }\n",
              "</style>\n",
              "<table border=\"1\" class=\"dataframe\">\n",
              "  <thead>\n",
              "    <tr style=\"text-align: right;\">\n",
              "      <th></th>\n",
              "      <th>new_cases</th>\n",
              "      <th>reproduction_rate</th>\n",
              "      <th>icu_patients</th>\n",
              "      <th>hosp_patients</th>\n",
              "      <th>new_tests</th>\n",
              "      <th>positive_rate</th>\n",
              "      <th>people_vaccinated</th>\n",
              "      <th>people_fully_vaccinated</th>\n",
              "      <th>new_vaccinations</th>\n",
              "      <th>Lockdown</th>\n",
              "      <th>Variant</th>\n",
              "      <th>Vaccine</th>\n",
              "      <th>GDP_PER_CAPITA</th>\n",
              "      <th>Population</th>\n",
              "      <th>Mortality_Rate</th>\n",
              "    </tr>\n",
              "    <tr>\n",
              "      <th>date</th>\n",
              "      <th></th>\n",
              "      <th></th>\n",
              "      <th></th>\n",
              "      <th></th>\n",
              "      <th></th>\n",
              "      <th></th>\n",
              "      <th></th>\n",
              "      <th></th>\n",
              "      <th></th>\n",
              "      <th></th>\n",
              "      <th></th>\n",
              "      <th></th>\n",
              "      <th></th>\n",
              "      <th></th>\n",
              "      <th></th>\n",
              "    </tr>\n",
              "  </thead>\n",
              "  <tbody>\n",
              "    <tr>\n",
              "      <th>2020-05-01</th>\n",
              "      <td>4730.0</td>\n",
              "      <td>0.94</td>\n",
              "      <td>2178.0</td>\n",
              "      <td>14723.0</td>\n",
              "      <td>74142.0</td>\n",
              "      <td>0.088</td>\n",
              "      <td>0.0</td>\n",
              "      <td>0.0</td>\n",
              "      <td>0.0</td>\n",
              "      <td>0</td>\n",
              "      <td>0</td>\n",
              "      <td>0</td>\n",
              "      <td>39753.244</td>\n",
              "      <td>67886004.0</td>\n",
              "      <td>0.000010</td>\n",
              "    </tr>\n",
              "    <tr>\n",
              "      <th>2020-05-02</th>\n",
              "      <td>3230.0</td>\n",
              "      <td>0.91</td>\n",
              "      <td>2068.0</td>\n",
              "      <td>14380.0</td>\n",
              "      <td>63559.0</td>\n",
              "      <td>0.079</td>\n",
              "      <td>0.0</td>\n",
              "      <td>0.0</td>\n",
              "      <td>0.0</td>\n",
              "      <td>0</td>\n",
              "      <td>0</td>\n",
              "      <td>0</td>\n",
              "      <td>39753.244</td>\n",
              "      <td>67886004.0</td>\n",
              "      <td>0.000009</td>\n",
              "    </tr>\n",
              "    <tr>\n",
              "      <th>2020-05-03</th>\n",
              "      <td>2977.0</td>\n",
              "      <td>0.87</td>\n",
              "      <td>2009.0</td>\n",
              "      <td>14188.0</td>\n",
              "      <td>68203.0</td>\n",
              "      <td>0.071</td>\n",
              "      <td>0.0</td>\n",
              "      <td>0.0</td>\n",
              "      <td>0.0</td>\n",
              "      <td>0</td>\n",
              "      <td>0</td>\n",
              "      <td>0</td>\n",
              "      <td>39753.244</td>\n",
              "      <td>67886004.0</td>\n",
              "      <td>0.000004</td>\n",
              "    </tr>\n",
              "    <tr>\n",
              "      <th>2020-05-04</th>\n",
              "      <td>3383.0</td>\n",
              "      <td>0.82</td>\n",
              "      <td>1936.0</td>\n",
              "      <td>14097.0</td>\n",
              "      <td>72630.0</td>\n",
              "      <td>0.061</td>\n",
              "      <td>0.0</td>\n",
              "      <td>0.0</td>\n",
              "      <td>0.0</td>\n",
              "      <td>0</td>\n",
              "      <td>0</td>\n",
              "      <td>0</td>\n",
              "      <td>39753.244</td>\n",
              "      <td>67886004.0</td>\n",
              "      <td>0.000004</td>\n",
              "    </tr>\n",
              "    <tr>\n",
              "      <th>2020-05-05</th>\n",
              "      <td>3689.0</td>\n",
              "      <td>0.81</td>\n",
              "      <td>1874.0</td>\n",
              "      <td>13723.0</td>\n",
              "      <td>66919.0</td>\n",
              "      <td>0.057</td>\n",
              "      <td>0.0</td>\n",
              "      <td>0.0</td>\n",
              "      <td>0.0</td>\n",
              "      <td>0</td>\n",
              "      <td>0</td>\n",
              "      <td>0</td>\n",
              "      <td>39753.244</td>\n",
              "      <td>67886004.0</td>\n",
              "      <td>0.000011</td>\n",
              "    </tr>\n",
              "  </tbody>\n",
              "</table>\n",
              "</div>"
            ],
            "text/plain": [
              "            new_cases  reproduction_rate  ...  Population  Mortality_Rate\n",
              "date                                      ...                            \n",
              "2020-05-01     4730.0               0.94  ...  67886004.0        0.000010\n",
              "2020-05-02     3230.0               0.91  ...  67886004.0        0.000009\n",
              "2020-05-03     2977.0               0.87  ...  67886004.0        0.000004\n",
              "2020-05-04     3383.0               0.82  ...  67886004.0        0.000004\n",
              "2020-05-05     3689.0               0.81  ...  67886004.0        0.000011\n",
              "\n",
              "[5 rows x 15 columns]"
            ]
          },
          "metadata": {},
          "execution_count": 9
        }
      ]
    },
    {
      "cell_type": "code",
      "metadata": {
        "id": "NjblEcIXByG5"
      },
      "source": [
        "features = [\"Mortality_Rate\", \"new_tests\", \"positive_rate\", \"reproduction_rate\", \"hosp_patients\"]"
      ],
      "execution_count": 10,
      "outputs": []
    },
    {
      "cell_type": "code",
      "metadata": {
        "id": "Jylw1TdmB06x"
      },
      "source": [
        "values = dataset.values"
      ],
      "execution_count": 11,
      "outputs": []
    },
    {
      "cell_type": "code",
      "metadata": {
        "colab": {
          "base_uri": "https://localhost:8080/"
        },
        "id": "oU_TDQyQCA5J",
        "outputId": "a38b0d54-996f-49e7-a112-95f49a010446"
      },
      "source": [
        "values[0]"
      ],
      "execution_count": 12,
      "outputs": [
        {
          "output_type": "execute_result",
          "data": {
            "text/plain": [
              "array([4.73000000e+03, 9.40000000e-01, 2.17800000e+03, 1.47230000e+04,\n",
              "       7.41420000e+04, 8.80000000e-02, 0.00000000e+00, 0.00000000e+00,\n",
              "       0.00000000e+00, 0.00000000e+00, 0.00000000e+00, 0.00000000e+00,\n",
              "       3.97532440e+04, 6.78860040e+07, 1.03114038e-05])"
            ]
          },
          "metadata": {},
          "execution_count": 12
        }
      ]
    },
    {
      "cell_type": "code",
      "metadata": {
        "id": "69INkvgsCBWq"
      },
      "source": [
        "values = values.astype(\"float32\")"
      ],
      "execution_count": 13,
      "outputs": []
    },
    {
      "cell_type": "code",
      "metadata": {
        "id": "3S0kueA5Ci2q"
      },
      "source": [
        "scaler = StandardScaler()\n",
        "scaled = scaler.fit_transform(values)"
      ],
      "execution_count": 14,
      "outputs": []
    },
    {
      "cell_type": "code",
      "metadata": {
        "id": "HYTdYaI1CjZf"
      },
      "source": [
        "#the source of code --> https://machinelearningmastery.com/multivariate-time-series-forecasting-lstms-keras/\n",
        "\n",
        "def series_to_supervised(data, n_in = 1, n_out = 1, dropnan = True):\n",
        "\tn_vars = 1 if type(data) is list else data.shape[1]\n",
        "\tdf = DataFrame(data)\n",
        "\tcols, names = list(), list()\n",
        "\tfor i in range(n_in, 0, -1):\n",
        "\t\tcols.append(df.shift(i))\n",
        "\t\tnames += [('var%d(t-%d)' % (j+1, i)) for j in range(n_vars)]\n",
        "\tfor i in range(0, n_out):\n",
        "\t\tcols.append(df.shift(-i))\n",
        "\t\tif i == 0:\n",
        "\t\t\tnames += [('var%d(t)' % (j+1)) for j in range(n_vars)]\n",
        "\t\telse:\n",
        "\t\t\tnames += [('var%d(t+%d)' % (j+1, i)) for j in range(n_vars)]\n",
        "\tagg = concat(cols, axis=1)\n",
        "\tagg.columns = names\n",
        "\tif dropnan:\n",
        "\t\tagg.dropna(inplace = True)\n",
        "\treturn agg\n",
        "\n",
        "\n",
        "reframed = series_to_supervised(scaled, 1, 1)"
      ],
      "execution_count": 15,
      "outputs": []
    },
    {
      "cell_type": "code",
      "metadata": {
        "colab": {
          "base_uri": "https://localhost:8080/"
        },
        "id": "DjfTWnrRCjbw",
        "outputId": "00af707d-e1d0-4062-c780-5ac75686fe3e"
      },
      "source": [
        "print(reframed.head())"
      ],
      "execution_count": 16,
      "outputs": [
        {
          "output_type": "stream",
          "name": "stdout",
          "text": [
            "   var1(t-1)  var2(t-1)  var3(t-1)  ...  var13(t)  var14(t)  var15(t)\n",
            "1  -0.487565  -0.398592   1.190605  ...       0.0       0.0  1.033884\n",
            "2  -0.598024  -0.517112   1.084787  ...       0.0       0.0  0.058008\n",
            "3  -0.616654  -0.675138   1.028030  ...       0.0       0.0  0.116795\n",
            "4  -0.586757  -0.872671   0.957806  ...       0.0       0.0  1.445398\n",
            "5  -0.564223  -0.912178   0.898163  ...       0.0       0.0  1.216126\n",
            "\n",
            "[5 rows x 30 columns]\n"
          ]
        }
      ]
    },
    {
      "cell_type": "code",
      "metadata": {
        "id": "5lxZxRZrCjdt"
      },
      "source": [
        "features = [\"var2(t-1)\", \"var3(t-1)\", \"var4(t-1)\", \"var5(t-1)\", \"var1(t)\"]"
      ],
      "execution_count": 17,
      "outputs": []
    },
    {
      "cell_type": "code",
      "metadata": {
        "id": "uQ2eLcO7Cjf-"
      },
      "source": [
        "reframed = reframed[features]"
      ],
      "execution_count": 18,
      "outputs": []
    },
    {
      "cell_type": "code",
      "metadata": {
        "colab": {
          "base_uri": "https://localhost:8080/",
          "height": 206
        },
        "id": "g3nNME0QCjh6",
        "outputId": "86bc8cad-37c1-468a-a512-dad105cb5b6f"
      },
      "source": [
        "reframed.head()"
      ],
      "execution_count": 19,
      "outputs": [
        {
          "output_type": "execute_result",
          "data": {
            "text/html": [
              "<div>\n",
              "<style scoped>\n",
              "    .dataframe tbody tr th:only-of-type {\n",
              "        vertical-align: middle;\n",
              "    }\n",
              "\n",
              "    .dataframe tbody tr th {\n",
              "        vertical-align: top;\n",
              "    }\n",
              "\n",
              "    .dataframe thead th {\n",
              "        text-align: right;\n",
              "    }\n",
              "</style>\n",
              "<table border=\"1\" class=\"dataframe\">\n",
              "  <thead>\n",
              "    <tr style=\"text-align: right;\">\n",
              "      <th></th>\n",
              "      <th>var2(t-1)</th>\n",
              "      <th>var3(t-1)</th>\n",
              "      <th>var4(t-1)</th>\n",
              "      <th>var5(t-1)</th>\n",
              "      <th>var1(t)</th>\n",
              "    </tr>\n",
              "  </thead>\n",
              "  <tbody>\n",
              "    <tr>\n",
              "      <th>1</th>\n",
              "      <td>-0.398592</td>\n",
              "      <td>1.190605</td>\n",
              "      <td>0.556938</td>\n",
              "      <td>-1.060867</td>\n",
              "      <td>-0.598024</td>\n",
              "    </tr>\n",
              "    <tr>\n",
              "      <th>2</th>\n",
              "      <td>-0.517112</td>\n",
              "      <td>1.084787</td>\n",
              "      <td>0.522907</td>\n",
              "      <td>-1.088343</td>\n",
              "      <td>-0.616654</td>\n",
              "    </tr>\n",
              "    <tr>\n",
              "      <th>3</th>\n",
              "      <td>-0.675138</td>\n",
              "      <td>1.028030</td>\n",
              "      <td>0.503857</td>\n",
              "      <td>-1.076286</td>\n",
              "      <td>-0.586757</td>\n",
              "    </tr>\n",
              "    <tr>\n",
              "      <th>4</th>\n",
              "      <td>-0.872671</td>\n",
              "      <td>0.957806</td>\n",
              "      <td>0.494829</td>\n",
              "      <td>-1.064792</td>\n",
              "      <td>-0.564223</td>\n",
              "    </tr>\n",
              "    <tr>\n",
              "      <th>5</th>\n",
              "      <td>-0.912178</td>\n",
              "      <td>0.898163</td>\n",
              "      <td>0.457722</td>\n",
              "      <td>-1.079619</td>\n",
              "      <td>-0.553398</td>\n",
              "    </tr>\n",
              "  </tbody>\n",
              "</table>\n",
              "</div>"
            ],
            "text/plain": [
              "   var2(t-1)  var3(t-1)  var4(t-1)  var5(t-1)   var1(t)\n",
              "1  -0.398592   1.190605   0.556938  -1.060867 -0.598024\n",
              "2  -0.517112   1.084787   0.522907  -1.088343 -0.616654\n",
              "3  -0.675138   1.028030   0.503857  -1.076286 -0.586757\n",
              "4  -0.872671   0.957806   0.494829  -1.064792 -0.564223\n",
              "5  -0.912178   0.898163   0.457722  -1.079619 -0.553398"
            ]
          },
          "metadata": {},
          "execution_count": 19
        }
      ]
    },
    {
      "cell_type": "code",
      "metadata": {
        "id": "mY5LXoOoCuOa"
      },
      "source": [
        "reframed = reframed.rename(columns = {'var2(t-1)': 'new_tests', 'var3(t-1)' : 'positive_rate', 'var4(t-1)' : 'reproduction_rate', 'var5(t-1)' : 'hosp_patients', 'var1(t)' : 'Mortality_Rate'})"
      ],
      "execution_count": 20,
      "outputs": []
    },
    {
      "cell_type": "code",
      "metadata": {
        "id": "RS_OqB4kCunX"
      },
      "source": [
        "values = reframed.values"
      ],
      "execution_count": 21,
      "outputs": []
    },
    {
      "cell_type": "code",
      "metadata": {
        "id": "EgFUE6LtCups"
      },
      "source": [
        "train = values[ : 400, : ]\n",
        "test = values[200: , : ]"
      ],
      "execution_count": 22,
      "outputs": []
    },
    {
      "cell_type": "code",
      "metadata": {
        "id": "zk7M4W7NCur4"
      },
      "source": [
        "X_train, Y_train = train[ : , : -1], train[ : , -1]\n",
        "X_test, Y_test = test[ : , : -1], test[ : , -1]"
      ],
      "execution_count": 23,
      "outputs": []
    },
    {
      "cell_type": "code",
      "metadata": {
        "id": "iY9DBPKXCut_"
      },
      "source": [
        "X_train = X_train.reshape((X_train.shape[0], 1 , X_train.shape[1]))\n",
        "X_test = X_test.reshape((X_test.shape[0], 1 , X_test.shape[1]))"
      ],
      "execution_count": 24,
      "outputs": []
    },
    {
      "cell_type": "code",
      "metadata": {
        "colab": {
          "base_uri": "https://localhost:8080/"
        },
        "id": "pA30UZCRCuv4",
        "outputId": "10b79ab7-b41c-48b3-a05e-fc9851b4d493"
      },
      "source": [
        "print(X_train.shape, Y_train.shape, X_test.shape, Y_test.shape)"
      ],
      "execution_count": 25,
      "outputs": [
        {
          "output_type": "stream",
          "name": "stdout",
          "text": [
            "(400, 1, 4) (400,) (36, 1, 4) (36,)\n"
          ]
        }
      ]
    },
    {
      "cell_type": "code",
      "metadata": {
        "id": "ABtV8Wc8C2XZ"
      },
      "source": [
        "from statsmodels.tsa.vector_ar.var_model import VAR"
      ],
      "execution_count": 26,
      "outputs": []
    },
    {
      "cell_type": "code",
      "metadata": {
        "id": "kLqdqaG_C5PL"
      },
      "source": [
        "model = VAR(endog = X_train)\n",
        "model_fit = model.fit()"
      ],
      "execution_count": 27,
      "outputs": []
    },
    {
      "cell_type": "code",
      "metadata": {
        "id": "fnqN6fzpC5rk"
      },
      "source": [
        "prediction = model_fit.forecast(model_fit.y, steps = len(Y_test))"
      ],
      "execution_count": 28,
      "outputs": []
    },
    {
      "cell_type": "code",
      "metadata": {
        "colab": {
          "base_uri": "https://localhost:8080/"
        },
        "id": "Bi0SO0E9C5t7",
        "outputId": "8a9d11d8-3ef4-4ff5-daa1-c9441b34faed"
      },
      "source": [
        "prediction.shape"
      ],
      "execution_count": 29,
      "outputs": [
        {
          "output_type": "execute_result",
          "data": {
            "text/plain": [
              "(36, 4)"
            ]
          },
          "metadata": {},
          "execution_count": 29
        }
      ]
    },
    {
      "cell_type": "code",
      "metadata": {
        "colab": {
          "base_uri": "https://localhost:8080/",
          "height": 344
        },
        "id": "N7_UAHkDC50f",
        "outputId": "e292af8f-7eaa-40d8-b734-d94a1a5ad2ad"
      },
      "source": [
        "dataset.head()"
      ],
      "execution_count": 30,
      "outputs": [
        {
          "output_type": "execute_result",
          "data": {
            "text/html": [
              "<div>\n",
              "<style scoped>\n",
              "    .dataframe tbody tr th:only-of-type {\n",
              "        vertical-align: middle;\n",
              "    }\n",
              "\n",
              "    .dataframe tbody tr th {\n",
              "        vertical-align: top;\n",
              "    }\n",
              "\n",
              "    .dataframe thead th {\n",
              "        text-align: right;\n",
              "    }\n",
              "</style>\n",
              "<table border=\"1\" class=\"dataframe\">\n",
              "  <thead>\n",
              "    <tr style=\"text-align: right;\">\n",
              "      <th></th>\n",
              "      <th>new_cases</th>\n",
              "      <th>reproduction_rate</th>\n",
              "      <th>icu_patients</th>\n",
              "      <th>hosp_patients</th>\n",
              "      <th>new_tests</th>\n",
              "      <th>positive_rate</th>\n",
              "      <th>people_vaccinated</th>\n",
              "      <th>people_fully_vaccinated</th>\n",
              "      <th>new_vaccinations</th>\n",
              "      <th>Lockdown</th>\n",
              "      <th>Variant</th>\n",
              "      <th>Vaccine</th>\n",
              "      <th>GDP_PER_CAPITA</th>\n",
              "      <th>Population</th>\n",
              "      <th>Mortality_Rate</th>\n",
              "    </tr>\n",
              "    <tr>\n",
              "      <th>date</th>\n",
              "      <th></th>\n",
              "      <th></th>\n",
              "      <th></th>\n",
              "      <th></th>\n",
              "      <th></th>\n",
              "      <th></th>\n",
              "      <th></th>\n",
              "      <th></th>\n",
              "      <th></th>\n",
              "      <th></th>\n",
              "      <th></th>\n",
              "      <th></th>\n",
              "      <th></th>\n",
              "      <th></th>\n",
              "      <th></th>\n",
              "    </tr>\n",
              "  </thead>\n",
              "  <tbody>\n",
              "    <tr>\n",
              "      <th>2020-05-01</th>\n",
              "      <td>4730.0</td>\n",
              "      <td>0.94</td>\n",
              "      <td>2178.0</td>\n",
              "      <td>14723.0</td>\n",
              "      <td>74142.0</td>\n",
              "      <td>0.088</td>\n",
              "      <td>0.0</td>\n",
              "      <td>0.0</td>\n",
              "      <td>0.0</td>\n",
              "      <td>0</td>\n",
              "      <td>0</td>\n",
              "      <td>0</td>\n",
              "      <td>39753.244</td>\n",
              "      <td>67886004.0</td>\n",
              "      <td>0.000010</td>\n",
              "    </tr>\n",
              "    <tr>\n",
              "      <th>2020-05-02</th>\n",
              "      <td>3230.0</td>\n",
              "      <td>0.91</td>\n",
              "      <td>2068.0</td>\n",
              "      <td>14380.0</td>\n",
              "      <td>63559.0</td>\n",
              "      <td>0.079</td>\n",
              "      <td>0.0</td>\n",
              "      <td>0.0</td>\n",
              "      <td>0.0</td>\n",
              "      <td>0</td>\n",
              "      <td>0</td>\n",
              "      <td>0</td>\n",
              "      <td>39753.244</td>\n",
              "      <td>67886004.0</td>\n",
              "      <td>0.000009</td>\n",
              "    </tr>\n",
              "    <tr>\n",
              "      <th>2020-05-03</th>\n",
              "      <td>2977.0</td>\n",
              "      <td>0.87</td>\n",
              "      <td>2009.0</td>\n",
              "      <td>14188.0</td>\n",
              "      <td>68203.0</td>\n",
              "      <td>0.071</td>\n",
              "      <td>0.0</td>\n",
              "      <td>0.0</td>\n",
              "      <td>0.0</td>\n",
              "      <td>0</td>\n",
              "      <td>0</td>\n",
              "      <td>0</td>\n",
              "      <td>39753.244</td>\n",
              "      <td>67886004.0</td>\n",
              "      <td>0.000004</td>\n",
              "    </tr>\n",
              "    <tr>\n",
              "      <th>2020-05-04</th>\n",
              "      <td>3383.0</td>\n",
              "      <td>0.82</td>\n",
              "      <td>1936.0</td>\n",
              "      <td>14097.0</td>\n",
              "      <td>72630.0</td>\n",
              "      <td>0.061</td>\n",
              "      <td>0.0</td>\n",
              "      <td>0.0</td>\n",
              "      <td>0.0</td>\n",
              "      <td>0</td>\n",
              "      <td>0</td>\n",
              "      <td>0</td>\n",
              "      <td>39753.244</td>\n",
              "      <td>67886004.0</td>\n",
              "      <td>0.000004</td>\n",
              "    </tr>\n",
              "    <tr>\n",
              "      <th>2020-05-05</th>\n",
              "      <td>3689.0</td>\n",
              "      <td>0.81</td>\n",
              "      <td>1874.0</td>\n",
              "      <td>13723.0</td>\n",
              "      <td>66919.0</td>\n",
              "      <td>0.057</td>\n",
              "      <td>0.0</td>\n",
              "      <td>0.0</td>\n",
              "      <td>0.0</td>\n",
              "      <td>0</td>\n",
              "      <td>0</td>\n",
              "      <td>0</td>\n",
              "      <td>39753.244</td>\n",
              "      <td>67886004.0</td>\n",
              "      <td>0.000011</td>\n",
              "    </tr>\n",
              "  </tbody>\n",
              "</table>\n",
              "</div>"
            ],
            "text/plain": [
              "            new_cases  reproduction_rate  ...  Population  Mortality_Rate\n",
              "date                                      ...                            \n",
              "2020-05-01     4730.0               0.94  ...  67886004.0        0.000010\n",
              "2020-05-02     3230.0               0.91  ...  67886004.0        0.000009\n",
              "2020-05-03     2977.0               0.87  ...  67886004.0        0.000004\n",
              "2020-05-04     3383.0               0.82  ...  67886004.0        0.000004\n",
              "2020-05-05     3689.0               0.81  ...  67886004.0        0.000011\n",
              "\n",
              "[5 rows x 15 columns]"
            ]
          },
          "metadata": {},
          "execution_count": 30
        }
      ]
    },
    {
      "cell_type": "code",
      "metadata": {
        "id": "1bLTMgtzGR3a"
      },
      "source": [
        "dataset = dataset[\"Mortality_Rate\"]"
      ],
      "execution_count": 31,
      "outputs": []
    },
    {
      "cell_type": "code",
      "metadata": {
        "colab": {
          "base_uri": "https://localhost:8080/"
        },
        "id": "MCinbVsVGVOK",
        "outputId": "72970e90-87db-435e-b118-015968f39dbe"
      },
      "source": [
        "dataset.head()"
      ],
      "execution_count": 32,
      "outputs": [
        {
          "output_type": "execute_result",
          "data": {
            "text/plain": [
              "date\n",
              "2020-05-01    0.000010\n",
              "2020-05-02    0.000009\n",
              "2020-05-03    0.000004\n",
              "2020-05-04    0.000004\n",
              "2020-05-05    0.000011\n",
              "Name: Mortality_Rate, dtype: float64"
            ]
          },
          "metadata": {},
          "execution_count": 32
        }
      ]
    },
    {
      "cell_type": "code",
      "metadata": {
        "colab": {
          "base_uri": "https://localhost:8080/"
        },
        "id": "4ewo-b8yk2uD",
        "outputId": "df1e367e-bc44-4e1a-b3e4-a0f80d68b314"
      },
      "source": [
        "!pip install --upgrade --no-deps statsmodels"
      ],
      "execution_count": 85,
      "outputs": [
        {
          "output_type": "stream",
          "name": "stdout",
          "text": [
            "Requirement already satisfied: statsmodels in /usr/local/lib/python3.7/dist-packages (0.12.2)\n"
          ]
        }
      ]
    },
    {
      "cell_type": "code",
      "metadata": {
        "id": "DfbmWP6uk50k"
      },
      "source": [
        "from statsmodels.tsa.arima.model import ARIMA"
      ],
      "execution_count": 109,
      "outputs": []
    },
    {
      "cell_type": "code",
      "metadata": {
        "id": "ASZu13KzlBWU"
      },
      "source": [
        "dataset = pd.read_csv(\"/content/gdrive/MyDrive/Colab Notebooks/dataset.csv\")"
      ],
      "execution_count": 110,
      "outputs": []
    },
    {
      "cell_type": "code",
      "metadata": {
        "colab": {
          "base_uri": "https://localhost:8080/",
          "height": 313
        },
        "id": "juyFQViWlNwt",
        "outputId": "01180dd4-c127-4af3-ac25-991095983647"
      },
      "source": [
        "dataset.head()"
      ],
      "execution_count": 111,
      "outputs": [
        {
          "output_type": "execute_result",
          "data": {
            "text/html": [
              "<div>\n",
              "<style scoped>\n",
              "    .dataframe tbody tr th:only-of-type {\n",
              "        vertical-align: middle;\n",
              "    }\n",
              "\n",
              "    .dataframe tbody tr th {\n",
              "        vertical-align: top;\n",
              "    }\n",
              "\n",
              "    .dataframe thead th {\n",
              "        text-align: right;\n",
              "    }\n",
              "</style>\n",
              "<table border=\"1\" class=\"dataframe\">\n",
              "  <thead>\n",
              "    <tr style=\"text-align: right;\">\n",
              "      <th></th>\n",
              "      <th>date</th>\n",
              "      <th>new_cases</th>\n",
              "      <th>reproduction_rate</th>\n",
              "      <th>icu_patients</th>\n",
              "      <th>hosp_patients</th>\n",
              "      <th>new_tests</th>\n",
              "      <th>positive_rate</th>\n",
              "      <th>people_vaccinated</th>\n",
              "      <th>people_fully_vaccinated</th>\n",
              "      <th>new_vaccinations</th>\n",
              "      <th>Lockdown</th>\n",
              "      <th>Variant</th>\n",
              "      <th>Vaccine</th>\n",
              "      <th>GDP_PER_CAPITA</th>\n",
              "      <th>Population</th>\n",
              "      <th>Mortality_Rate</th>\n",
              "    </tr>\n",
              "  </thead>\n",
              "  <tbody>\n",
              "    <tr>\n",
              "      <th>0</th>\n",
              "      <td>2020-05-01</td>\n",
              "      <td>4730.0</td>\n",
              "      <td>0.94</td>\n",
              "      <td>2178.0</td>\n",
              "      <td>14723.0</td>\n",
              "      <td>74142.0</td>\n",
              "      <td>0.088</td>\n",
              "      <td>0.0</td>\n",
              "      <td>0.0</td>\n",
              "      <td>0.0</td>\n",
              "      <td>0</td>\n",
              "      <td>0</td>\n",
              "      <td>0</td>\n",
              "      <td>39753.244</td>\n",
              "      <td>67886004.0</td>\n",
              "      <td>0.000010</td>\n",
              "    </tr>\n",
              "    <tr>\n",
              "      <th>1</th>\n",
              "      <td>2020-05-02</td>\n",
              "      <td>3230.0</td>\n",
              "      <td>0.91</td>\n",
              "      <td>2068.0</td>\n",
              "      <td>14380.0</td>\n",
              "      <td>63559.0</td>\n",
              "      <td>0.079</td>\n",
              "      <td>0.0</td>\n",
              "      <td>0.0</td>\n",
              "      <td>0.0</td>\n",
              "      <td>0</td>\n",
              "      <td>0</td>\n",
              "      <td>0</td>\n",
              "      <td>39753.244</td>\n",
              "      <td>67886004.0</td>\n",
              "      <td>0.000009</td>\n",
              "    </tr>\n",
              "    <tr>\n",
              "      <th>2</th>\n",
              "      <td>2020-05-03</td>\n",
              "      <td>2977.0</td>\n",
              "      <td>0.87</td>\n",
              "      <td>2009.0</td>\n",
              "      <td>14188.0</td>\n",
              "      <td>68203.0</td>\n",
              "      <td>0.071</td>\n",
              "      <td>0.0</td>\n",
              "      <td>0.0</td>\n",
              "      <td>0.0</td>\n",
              "      <td>0</td>\n",
              "      <td>0</td>\n",
              "      <td>0</td>\n",
              "      <td>39753.244</td>\n",
              "      <td>67886004.0</td>\n",
              "      <td>0.000004</td>\n",
              "    </tr>\n",
              "    <tr>\n",
              "      <th>3</th>\n",
              "      <td>2020-05-04</td>\n",
              "      <td>3383.0</td>\n",
              "      <td>0.82</td>\n",
              "      <td>1936.0</td>\n",
              "      <td>14097.0</td>\n",
              "      <td>72630.0</td>\n",
              "      <td>0.061</td>\n",
              "      <td>0.0</td>\n",
              "      <td>0.0</td>\n",
              "      <td>0.0</td>\n",
              "      <td>0</td>\n",
              "      <td>0</td>\n",
              "      <td>0</td>\n",
              "      <td>39753.244</td>\n",
              "      <td>67886004.0</td>\n",
              "      <td>0.000004</td>\n",
              "    </tr>\n",
              "    <tr>\n",
              "      <th>4</th>\n",
              "      <td>2020-05-05</td>\n",
              "      <td>3689.0</td>\n",
              "      <td>0.81</td>\n",
              "      <td>1874.0</td>\n",
              "      <td>13723.0</td>\n",
              "      <td>66919.0</td>\n",
              "      <td>0.057</td>\n",
              "      <td>0.0</td>\n",
              "      <td>0.0</td>\n",
              "      <td>0.0</td>\n",
              "      <td>0</td>\n",
              "      <td>0</td>\n",
              "      <td>0</td>\n",
              "      <td>39753.244</td>\n",
              "      <td>67886004.0</td>\n",
              "      <td>0.000011</td>\n",
              "    </tr>\n",
              "  </tbody>\n",
              "</table>\n",
              "</div>"
            ],
            "text/plain": [
              "         date  new_cases  ...  Population  Mortality_Rate\n",
              "0  2020-05-01     4730.0  ...  67886004.0        0.000010\n",
              "1  2020-05-02     3230.0  ...  67886004.0        0.000009\n",
              "2  2020-05-03     2977.0  ...  67886004.0        0.000004\n",
              "3  2020-05-04     3383.0  ...  67886004.0        0.000004\n",
              "4  2020-05-05     3689.0  ...  67886004.0        0.000011\n",
              "\n",
              "[5 rows x 16 columns]"
            ]
          },
          "metadata": {},
          "execution_count": 111
        }
      ]
    },
    {
      "cell_type": "code",
      "metadata": {
        "id": "pLTedkdIlO_V"
      },
      "source": [
        "dataset.set_index(\"date\", inplace = True)"
      ],
      "execution_count": 112,
      "outputs": []
    },
    {
      "cell_type": "code",
      "metadata": {
        "colab": {
          "base_uri": "https://localhost:8080/",
          "height": 344
        },
        "id": "FygGubhhlRVt",
        "outputId": "766e706b-dd95-4026-e414-091d4cf676ca"
      },
      "source": [
        "dataset.head()"
      ],
      "execution_count": 113,
      "outputs": [
        {
          "output_type": "execute_result",
          "data": {
            "text/html": [
              "<div>\n",
              "<style scoped>\n",
              "    .dataframe tbody tr th:only-of-type {\n",
              "        vertical-align: middle;\n",
              "    }\n",
              "\n",
              "    .dataframe tbody tr th {\n",
              "        vertical-align: top;\n",
              "    }\n",
              "\n",
              "    .dataframe thead th {\n",
              "        text-align: right;\n",
              "    }\n",
              "</style>\n",
              "<table border=\"1\" class=\"dataframe\">\n",
              "  <thead>\n",
              "    <tr style=\"text-align: right;\">\n",
              "      <th></th>\n",
              "      <th>new_cases</th>\n",
              "      <th>reproduction_rate</th>\n",
              "      <th>icu_patients</th>\n",
              "      <th>hosp_patients</th>\n",
              "      <th>new_tests</th>\n",
              "      <th>positive_rate</th>\n",
              "      <th>people_vaccinated</th>\n",
              "      <th>people_fully_vaccinated</th>\n",
              "      <th>new_vaccinations</th>\n",
              "      <th>Lockdown</th>\n",
              "      <th>Variant</th>\n",
              "      <th>Vaccine</th>\n",
              "      <th>GDP_PER_CAPITA</th>\n",
              "      <th>Population</th>\n",
              "      <th>Mortality_Rate</th>\n",
              "    </tr>\n",
              "    <tr>\n",
              "      <th>date</th>\n",
              "      <th></th>\n",
              "      <th></th>\n",
              "      <th></th>\n",
              "      <th></th>\n",
              "      <th></th>\n",
              "      <th></th>\n",
              "      <th></th>\n",
              "      <th></th>\n",
              "      <th></th>\n",
              "      <th></th>\n",
              "      <th></th>\n",
              "      <th></th>\n",
              "      <th></th>\n",
              "      <th></th>\n",
              "      <th></th>\n",
              "    </tr>\n",
              "  </thead>\n",
              "  <tbody>\n",
              "    <tr>\n",
              "      <th>2020-05-01</th>\n",
              "      <td>4730.0</td>\n",
              "      <td>0.94</td>\n",
              "      <td>2178.0</td>\n",
              "      <td>14723.0</td>\n",
              "      <td>74142.0</td>\n",
              "      <td>0.088</td>\n",
              "      <td>0.0</td>\n",
              "      <td>0.0</td>\n",
              "      <td>0.0</td>\n",
              "      <td>0</td>\n",
              "      <td>0</td>\n",
              "      <td>0</td>\n",
              "      <td>39753.244</td>\n",
              "      <td>67886004.0</td>\n",
              "      <td>0.000010</td>\n",
              "    </tr>\n",
              "    <tr>\n",
              "      <th>2020-05-02</th>\n",
              "      <td>3230.0</td>\n",
              "      <td>0.91</td>\n",
              "      <td>2068.0</td>\n",
              "      <td>14380.0</td>\n",
              "      <td>63559.0</td>\n",
              "      <td>0.079</td>\n",
              "      <td>0.0</td>\n",
              "      <td>0.0</td>\n",
              "      <td>0.0</td>\n",
              "      <td>0</td>\n",
              "      <td>0</td>\n",
              "      <td>0</td>\n",
              "      <td>39753.244</td>\n",
              "      <td>67886004.0</td>\n",
              "      <td>0.000009</td>\n",
              "    </tr>\n",
              "    <tr>\n",
              "      <th>2020-05-03</th>\n",
              "      <td>2977.0</td>\n",
              "      <td>0.87</td>\n",
              "      <td>2009.0</td>\n",
              "      <td>14188.0</td>\n",
              "      <td>68203.0</td>\n",
              "      <td>0.071</td>\n",
              "      <td>0.0</td>\n",
              "      <td>0.0</td>\n",
              "      <td>0.0</td>\n",
              "      <td>0</td>\n",
              "      <td>0</td>\n",
              "      <td>0</td>\n",
              "      <td>39753.244</td>\n",
              "      <td>67886004.0</td>\n",
              "      <td>0.000004</td>\n",
              "    </tr>\n",
              "    <tr>\n",
              "      <th>2020-05-04</th>\n",
              "      <td>3383.0</td>\n",
              "      <td>0.82</td>\n",
              "      <td>1936.0</td>\n",
              "      <td>14097.0</td>\n",
              "      <td>72630.0</td>\n",
              "      <td>0.061</td>\n",
              "      <td>0.0</td>\n",
              "      <td>0.0</td>\n",
              "      <td>0.0</td>\n",
              "      <td>0</td>\n",
              "      <td>0</td>\n",
              "      <td>0</td>\n",
              "      <td>39753.244</td>\n",
              "      <td>67886004.0</td>\n",
              "      <td>0.000004</td>\n",
              "    </tr>\n",
              "    <tr>\n",
              "      <th>2020-05-05</th>\n",
              "      <td>3689.0</td>\n",
              "      <td>0.81</td>\n",
              "      <td>1874.0</td>\n",
              "      <td>13723.0</td>\n",
              "      <td>66919.0</td>\n",
              "      <td>0.057</td>\n",
              "      <td>0.0</td>\n",
              "      <td>0.0</td>\n",
              "      <td>0.0</td>\n",
              "      <td>0</td>\n",
              "      <td>0</td>\n",
              "      <td>0</td>\n",
              "      <td>39753.244</td>\n",
              "      <td>67886004.0</td>\n",
              "      <td>0.000011</td>\n",
              "    </tr>\n",
              "  </tbody>\n",
              "</table>\n",
              "</div>"
            ],
            "text/plain": [
              "            new_cases  reproduction_rate  ...  Population  Mortality_Rate\n",
              "date                                      ...                            \n",
              "2020-05-01     4730.0               0.94  ...  67886004.0        0.000010\n",
              "2020-05-02     3230.0               0.91  ...  67886004.0        0.000009\n",
              "2020-05-03     2977.0               0.87  ...  67886004.0        0.000004\n",
              "2020-05-04     3383.0               0.82  ...  67886004.0        0.000004\n",
              "2020-05-05     3689.0               0.81  ...  67886004.0        0.000011\n",
              "\n",
              "[5 rows x 15 columns]"
            ]
          },
          "metadata": {},
          "execution_count": 113
        }
      ]
    },
    {
      "cell_type": "code",
      "metadata": {
        "id": "KFzwi5KtlU29"
      },
      "source": [
        "dataset = dataset[\"Mortality_Rate\"]"
      ],
      "execution_count": 114,
      "outputs": []
    },
    {
      "cell_type": "code",
      "metadata": {
        "colab": {
          "base_uri": "https://localhost:8080/"
        },
        "id": "A7C7ktxulXqN",
        "outputId": "bce6447d-c78b-480d-bfe7-ff3a56dfa34f"
      },
      "source": [
        "dataset.head()"
      ],
      "execution_count": 115,
      "outputs": [
        {
          "output_type": "execute_result",
          "data": {
            "text/plain": [
              "date\n",
              "2020-05-01    0.000010\n",
              "2020-05-02    0.000009\n",
              "2020-05-03    0.000004\n",
              "2020-05-04    0.000004\n",
              "2020-05-05    0.000011\n",
              "Name: Mortality_Rate, dtype: float64"
            ]
          },
          "metadata": {},
          "execution_count": 115
        }
      ]
    },
    {
      "cell_type": "code",
      "metadata": {
        "id": "pUHw-VF5lZD9"
      },
      "source": [
        "from statsmodels.tsa.arima.model import ARIMA"
      ],
      "execution_count": 116,
      "outputs": []
    },
    {
      "cell_type": "code",
      "metadata": {
        "id": "IGdyOaq7lZoE"
      },
      "source": [
        "values = dataset.values"
      ],
      "execution_count": 117,
      "outputs": []
    },
    {
      "cell_type": "code",
      "metadata": {
        "colab": {
          "base_uri": "https://localhost:8080/"
        },
        "id": "xo_Ch_folZqc",
        "outputId": "893884c2-68bf-4987-9128-1cd922a73ade"
      },
      "source": [
        "values"
      ],
      "execution_count": 118,
      "outputs": [
        {
          "output_type": "execute_result",
          "data": {
            "text/plain": [
              "array([1.03114038e-05, 8.61738747e-06, 3.72683595e-06, 4.02144748e-06,\n",
              "       1.06796682e-05, 9.53068323e-06, 6.74660420e-06, 8.54373458e-06,\n",
              "       4.05090864e-06, 3.19653518e-06, 2.76934845e-06, 9.05930477e-06,\n",
              "       6.59929844e-06, 5.19989363e-06, 5.17043248e-06, 6.05426709e-06,\n",
              "       9.86948650e-07, 2.15066422e-06, 7.38001901e-06, 4.84635979e-06,\n",
              "       4.02144748e-06, 4.28659787e-06, 3.24072691e-06, 5.58288863e-06,\n",
              "       1.53197999e-06, 1.92970557e-06, 6.21630344e-06, 5.05258786e-06,\n",
              "       4.03617806e-06, 2.26850884e-06, 8.83834612e-07, 1.26682961e-06,\n",
              "       3.68264422e-06, 3.74156652e-06, 1.91497499e-06, 3.80048883e-06,\n",
              "       2.10647249e-06, 7.95451151e-07, 6.92337113e-07, 2.90192364e-06,\n",
              "       2.41581461e-06, 1.11952384e-06, 1.92970557e-06, 1.57617172e-06,\n",
              "       3.97725575e-07, 4.27186729e-07, 1.76766922e-06, 1.62036346e-06,\n",
              "       9.86948650e-07, 1.23736846e-06, 1.04587096e-06, 4.56647883e-07,\n",
              "       1.91497499e-07, 1.38467423e-06, 1.28156019e-06, 1.45832711e-06,\n",
              "       1.13425442e-06, 5.89223075e-07, 4.56647883e-07, 3.09342114e-07,\n",
              "       7.95451151e-07, 1.42886596e-06, 6.03953651e-07, 7.21798266e-07,\n",
              "       4.71378460e-07, 2.79880960e-07, 1.62036346e-07, 7.95451151e-07,\n",
              "       8.39642881e-07, 4.56647883e-07, 5.00839613e-07, 2.50419807e-07,\n",
              "       1.32575192e-07, 1.47305769e-07, 6.48145382e-07, 3.82994998e-07,\n",
              "       3.53533845e-07, 3.82994998e-07, 1.32575192e-07, 1.62036346e-07,\n",
              "       1.47305769e-07, 3.68264422e-07, 2.50419807e-07, 1.32575192e-07,\n",
              "       4.71378460e-07, 2.20958653e-07, 1.17844615e-07, 4.41917306e-08,\n",
              "       3.09342114e-07, 5.00839613e-07, 0.00000000e+00, 2.94611537e-07,\n",
              "       1.91497499e-07, 7.36528843e-08, 1.47305769e-08, 2.65150384e-07,\n",
              "       2.06228076e-07, 2.65150384e-07, 1.76766922e-07, 4.41917306e-08,\n",
              "       7.36528843e-08, 2.65150384e-07, 1.91497499e-07, 2.94611537e-07,\n",
              "       2.65150384e-07, 1.62036346e-07, 4.41917306e-08, 7.36528843e-08,\n",
              "       4.41917306e-08, 1.76766922e-07, 2.50419807e-07, 8.83834612e-08,\n",
              "       2.94611537e-08, 2.65150384e-07, 8.83834612e-08, 5.89223075e-08,\n",
              "       2.35689230e-07, 2.50419807e-07, 1.76766922e-07, 1.32575192e-07,\n",
              "       1.76766922e-07, 1.47305769e-08, 4.41917306e-08, 4.41917306e-08,\n",
              "       1.47305769e-07, 2.06228076e-07, 1.47305769e-07, 1.76766922e-07,\n",
              "       2.94611537e-08, 4.41917306e-08, 4.71378460e-07, 1.17844615e-07,\n",
              "       2.06228076e-07, 8.83834612e-08, 1.32575192e-07, 7.36528843e-08,\n",
              "       1.32575192e-07, 3.97725575e-07, 2.94611537e-07, 3.09342114e-07,\n",
              "       3.97725575e-07, 3.97725575e-07, 2.65150384e-07, 1.62036346e-07,\n",
              "       5.45031344e-07, 5.45031344e-07, 5.89223075e-07, 5.00839613e-07,\n",
              "       5.15570190e-07, 2.50419807e-07, 1.91497499e-07, 1.06060153e-06,\n",
              "       1.04587096e-06, 8.69104035e-07, 9.72218073e-07, 7.21798266e-07,\n",
              "       4.86109037e-07, 2.79880960e-07, 1.11952384e-06, 1.03114038e-06,\n",
              "       1.13425442e-06, 1.28156019e-06, 1.19317673e-06, 9.57487496e-07,\n",
              "       7.36528843e-07, 2.10647249e-06, 2.01808903e-06, 2.03281961e-06,\n",
              "       2.00335845e-06, 2.20958653e-06, 9.86948650e-07, 1.17844615e-06,\n",
              "       3.55006902e-06, 2.81354018e-06, 2.78407903e-06, 3.29964922e-06,\n",
              "       2.56312037e-06, 2.22431711e-06, 1.50251884e-06, 5.40612171e-06,\n",
              "       4.56647883e-06, 4.12456152e-06, 4.03617806e-06, 4.80216806e-06,\n",
              "       2.38635345e-06, 2.00335845e-06, 5.84803902e-06, 7.24744382e-06,\n",
              "       5.56815806e-06, 5.22935479e-06, 6.08372825e-06, 2.29796999e-06,\n",
              "       2.87246249e-06, 7.83666689e-06, 8.77942381e-06, 8.29331478e-06,\n",
              "       5.53869690e-06, 6.80552651e-06, 2.47473691e-06, 3.15234345e-06,\n",
              "       8.82361554e-06, 7.79247516e-06, 7.39474959e-06, 7.52732478e-06,\n",
              "       5.00839613e-06, 5.87750017e-06, 3.04922941e-06, 8.95619073e-06,\n",
              "       1.02377509e-05, 7.33582728e-06, 7.65989997e-06, 7.05594632e-06,\n",
              "       3.16707403e-06, 2.99030710e-06, 8.88253785e-06, 9.54541381e-06,\n",
              "       6.09845882e-06, 7.42421074e-06, 5.84803902e-06, 3.40276326e-06,\n",
              "       2.78407903e-06, 8.82361554e-06, 7.85139747e-06, 7.60097766e-06,\n",
              "       6.24576459e-06, 7.65989997e-06, 2.12120307e-06, 3.43222441e-06,\n",
              "       7.45367189e-06, 9.01511304e-06, 7.83666689e-06, 7.21798266e-06,\n",
              "       7.91031978e-06, 4.80216806e-06, 3.16707403e-06, 1.01788286e-05,\n",
              "       1.10184715e-05, 8.47008170e-06, 8.39642881e-06, 3.10815172e-06,\n",
              "       5.11151017e-06, 5.25881594e-06, 6.74660420e-06, 1.44654265e-05,\n",
              "       1.42150067e-05, 9.05930477e-06, 6.55510671e-06, 6.70241247e-06,\n",
              "       6.03953651e-06, 1.29776382e-05, 1.53492611e-05, 1.71169303e-05,\n",
              "       1.96358590e-05, 1.52461471e-05, 8.35223708e-06, 7.79247516e-06,\n",
              "       1.83542988e-05, 2.30975445e-05, 1.84574128e-05, 1.89287913e-05,\n",
              "       1.91350193e-05, 1.00462534e-05, 8.86780727e-06, 2.37456899e-05,\n",
              "       2.68980334e-05, 1.90908276e-05, 2.06375382e-05, 1.99157399e-05,\n",
              "       9.00038246e-06, 8.74996266e-06, 2.40992238e-05, 2.54249757e-05,\n",
              "       1.82511847e-05, 1.83837599e-05, 1.77503451e-05, 8.69104035e-06,\n",
              "       5.99534478e-06, 2.13740670e-05, 1.94738226e-05, 1.34784778e-05,\n",
              "       1.49515355e-05, 1.21969176e-05, 5.53869690e-06, 4.90528210e-06,\n",
              "       1.54965669e-05, 1.47600380e-05, 1.00167923e-05, 1.11805078e-05,\n",
              "       9.14768823e-06, 3.81521941e-06, 3.46168556e-06, 1.17697309e-05,\n",
              "       1.08711657e-05, 6.70241247e-06, 7.85139747e-06, 6.56983728e-06,\n",
              "       3.19653518e-06, 2.62204268e-06, 8.07235612e-06, 6.52564555e-06,\n",
              "       4.77270690e-06, 5.08204902e-06, 4.28659787e-06, 2.12120307e-06,\n",
              "       1.53197999e-06, 5.05258786e-06, 7.17379093e-06, 3.56479960e-06,\n",
              "       3.47641614e-06, 2.34216172e-06, 1.20790730e-06, 9.57487496e-07,\n",
              "       3.40276326e-06, 2.79880960e-06, 2.66623441e-06, 2.59258153e-06,\n",
              "       1.79713038e-06, 7.65989997e-07, 9.42756919e-07, 1.62036346e-06,\n",
              "       2.07701134e-06, 1.39940480e-06, 1.47305769e-06, 1.41413538e-06,\n",
              "       5.00839613e-07, 2.65150384e-07, 1.64982461e-06, 1.44359653e-06,\n",
              "       9.28026343e-07, 1.04587096e-06, 8.54373458e-07, 3.09342114e-07,\n",
              "       3.38803268e-07, 8.10181728e-07, 6.33414805e-07, 7.51259420e-07,\n",
              "       7.65989997e-07, 1.47305769e-07, 1.47305769e-07, 4.12456152e-07,\n",
              "       2.94611537e-07, 6.62875959e-07, 7.80720574e-07, 8.83834612e-07,\n",
              "       5.89223075e-07, 1.03114038e-07, 2.20958653e-07, 3.38803268e-07,\n",
              "       5.59761921e-07, 4.56647883e-07, 5.00839613e-07, 5.30300767e-07,\n",
              "       1.47305769e-07, 8.83834612e-08, 4.86109037e-07, 2.94611537e-07,\n",
              "       2.94611537e-07, 6.03953651e-07, 4.71378460e-07, 1.62036346e-07,\n",
              "       1.03114038e-07, 2.50419807e-07, 4.27186729e-07, 3.68264422e-07,\n",
              "       2.35689230e-07, 1.03114038e-07, 2.06228076e-07, 1.47305769e-08,\n",
              "       8.83834612e-08, 3.97725575e-07, 1.91497499e-07, 2.20958653e-07,\n",
              "       7.36528843e-08, 2.94611537e-08, 7.36528843e-08, 2.94611537e-07,\n",
              "       1.62036346e-07, 1.62036346e-07, 2.65150384e-07, 1.03114038e-07,\n",
              "       5.89223075e-08, 7.36528843e-08, 1.03114038e-07, 4.41917306e-08,\n",
              "       1.03114038e-07, 1.32575192e-07, 8.83834612e-08, 7.36528843e-08,\n",
              "       4.41917306e-08, 2.20958653e-07, 1.32575192e-07, 1.47305769e-07,\n",
              "       1.47305769e-07, 1.03114038e-07, 8.83834612e-08, 2.94611537e-08,\n",
              "       0.00000000e+00, 1.76766922e-07, 2.65150384e-07, 1.62036346e-07,\n",
              "       1.91497499e-07, 5.89223075e-08, 1.47305769e-08, 2.06228076e-07,\n",
              "       8.83834612e-08, 1.03114038e-07, 2.50419807e-07, 1.76766922e-07,\n",
              "       1.17844615e-07, 4.41917306e-08, 1.47305769e-07, 1.32575192e-07,\n",
              "       2.79880960e-07, 1.62036346e-07, 2.06228076e-07, 8.83834612e-08,\n",
              "       7.36528843e-08, 3.97725575e-07, 2.79880960e-07, 3.09342114e-07,\n",
              "       2.65150384e-07, 3.38803268e-07, 1.62036346e-07, 4.41917306e-08,\n",
              "       3.38803268e-07, 2.06228076e-07, 3.24072691e-07, 3.97725575e-07,\n",
              "       2.65150384e-07, 2.20958653e-07, 1.32575192e-07, 5.45031344e-07,\n",
              "       4.86109037e-07, 5.30300767e-07, 4.41917306e-07, 5.00839613e-07,\n",
              "       3.82994998e-07])"
            ]
          },
          "metadata": {},
          "execution_count": 118
        }
      ]
    },
    {
      "cell_type": "code",
      "metadata": {
        "id": "hooPt8W4lZsz"
      },
      "source": [
        "train = values[ : 350]"
      ],
      "execution_count": 119,
      "outputs": []
    },
    {
      "cell_type": "code",
      "metadata": {
        "id": "uqkojvWTlZvN"
      },
      "source": [
        "test = values[250 : ]"
      ],
      "execution_count": 120,
      "outputs": []
    },
    {
      "cell_type": "code",
      "metadata": {
        "id": "RQ3uIhYClZw2"
      },
      "source": [
        "model = ARIMA(values, order = (5,1,0))"
      ],
      "execution_count": 121,
      "outputs": []
    },
    {
      "cell_type": "code",
      "metadata": {
        "id": "hcVyMSbMlZya"
      },
      "source": [
        "model_fit = model.fit()"
      ],
      "execution_count": 122,
      "outputs": []
    },
    {
      "cell_type": "code",
      "metadata": {
        "colab": {
          "base_uri": "https://localhost:8080/"
        },
        "id": "3jQYoSLzlxv2",
        "outputId": "fe2007f9-075e-46dd-c355-35e33b943171"
      },
      "source": [
        "print(model_fit.summary())"
      ],
      "execution_count": 123,
      "outputs": [
        {
          "output_type": "stream",
          "name": "stdout",
          "text": [
            "                               SARIMAX Results                                \n",
            "==============================================================================\n",
            "Dep. Variable:                      y   No. Observations:                  437\n",
            "Model:                 ARIMA(5, 1, 0)   Log Likelihood                4682.613\n",
            "Date:                Wed, 22 Sep 2021   AIC                          -9353.226\n",
            "Time:                        08:30:46   BIC                          -9328.761\n",
            "Sample:                             0   HQIC                         -9343.571\n",
            "                                - 437                                         \n",
            "Covariance Type:                  opg                                         \n",
            "==============================================================================\n",
            "                 coef    std err          z      P>|z|      [0.025      0.975]\n",
            "------------------------------------------------------------------------------\n",
            "ar.L1         -0.1954      0.000   -490.623      0.000      -0.196      -0.195\n",
            "ar.L2         -0.6670      0.000  -1698.633      0.000      -0.668      -0.666\n",
            "ar.L3         -0.3850      0.000  -2637.393      0.000      -0.385      -0.385\n",
            "ar.L4         -0.3299      0.000  -1153.129      0.000      -0.330      -0.329\n",
            "ar.L5         -0.6284      0.001   -732.417      0.000      -0.630      -0.627\n",
            "sigma2      1.882e-11   1.06e-10      0.178      0.859   -1.88e-10    2.26e-10\n",
            "===================================================================================\n",
            "Ljung-Box (L1) (Q):                 336.32   Jarque-Bera (JB):               152.01\n",
            "Prob(Q):                              0.00   Prob(JB):                         0.00\n",
            "Heteroskedasticity (H):               1.04   Skew:                             1.13\n",
            "Prob(H) (two-sided):                  0.80   Kurtosis:                         4.81\n",
            "===================================================================================\n",
            "\n",
            "Warnings:\n",
            "[1] Covariance matrix calculated using the outer product of gradients (complex-step).\n",
            "[2] Covariance matrix is singular or near-singular, with condition number 3.92e+17. Standard errors may be unstable.\n"
          ]
        }
      ]
    },
    {
      "cell_type": "code",
      "metadata": {
        "colab": {
          "base_uri": "https://localhost:8080/",
          "height": 294
        },
        "id": "mICCHipFlyQD",
        "outputId": "c4c37da6-d3ed-4bf3-ac2d-d0dfb7a3a5a1"
      },
      "source": [
        "residuals = DataFrame(model_fit.resid)\n",
        "residuals.plot()\n",
        "plt.show()"
      ],
      "execution_count": 124,
      "outputs": [
        {
          "output_type": "display_data",
          "data": {
            "image/png": "[encoded data removed]",
            "text/plain": [
              "<Figure size 432x288 with 1 Axes>"
            ]
          },
          "metadata": {}
        }
      ]
    },
    {
      "cell_type": "code",
      "metadata": {
        "colab": {
          "base_uri": "https://localhost:8080/",
          "height": 299
        },
        "id": "2wrDsFL4lyXV",
        "outputId": "e1ecb942-0ed3-420a-ed0c-9d49cf9fe942"
      },
      "source": [
        "residuals.plot(kind = 'kde')\n",
        "plt.show();"
      ],
      "execution_count": 125,
      "outputs": [
        {
          "output_type": "display_data",
          "data": {
            "image/png": "[encoded data removed]",
            "text/plain": [
              "<Figure size 432x288 with 1 Axes>"
            ]
          },
          "metadata": {}
        }
      ]
    },
    {
      "cell_type": "code",
      "metadata": {
        "colab": {
          "base_uri": "https://localhost:8080/"
        },
        "id": "H4YHECPWlyZk",
        "outputId": "0a5ab64f-9c8a-4c97-85f1-07451831ea4e"
      },
      "source": [
        "print(residuals.describe())"
      ],
      "execution_count": 126,
      "outputs": [
        {
          "output_type": "stream",
          "name": "stdout",
          "text": [
            "                  0\n",
            "count  4.370000e+02\n",
            "mean  -1.117723e-06\n",
            "std    4.292620e-06\n",
            "min   -9.812329e-06\n",
            "25%   -3.977971e-06\n",
            "50%   -1.735407e-06\n",
            "75%    8.034244e-07\n",
            "max    1.600906e-05\n"
          ]
        }
      ]
    },
    {
      "cell_type": "code",
      "metadata": {
        "id": "-CxM6SAXlybx"
      },
      "source": [
        "predictions = list()\n",
        "history = [x for x in train]"
      ],
      "execution_count": 127,
      "outputs": []
    },
    {
      "cell_type": "code",
      "metadata": {
        "colab": {
          "base_uri": "https://localhost:8080/"
        },
        "id": "x2Cg-TBklyeM",
        "outputId": "283a8d8b-1571-496d-d324-ede730463a45"
      },
      "source": [
        "for t in range(len(test)):\n",
        "\tmodel = ARIMA(history, order=(5,1,0))\n",
        "\tmodel_fit = model.fit()\n",
        "\toutput = model_fit.forecast()\n",
        "\tyhat = output[0]\n",
        "\tpredictions.append(yhat)\n",
        "\tobs = test[t]\n",
        "\thistory.append(obs)\n",
        "\tprint('predicted=%f, expected=%f' % (yhat, obs))"
      ],
      "execution_count": 128,
      "outputs": [
        {
          "output_type": "stream",
          "name": "stdout",
          "text": [
            "predicted=0.000005, expected=0.000015\n",
            "predicted=0.000015, expected=0.000017\n",
            "predicted=0.000006, expected=0.000020\n",
            "predicted=0.000011, expected=0.000015\n",
            "predicted=0.000001, expected=0.000008\n",
            "predicted=0.000004, expected=0.000008\n",
            "predicted=0.000001, expected=0.000018\n",
            "predicted=0.000012, expected=0.000023\n",
            "predicted=0.000015, expected=0.000018\n",
            "predicted=0.000009, expected=0.000019\n",
            "predicted=0.000005, expected=0.000019\n",
            "predicted=0.000002, expected=0.000010\n",
            "predicted=0.000006, expected=0.000009\n",
            "predicted=0.000011, expected=0.000024\n",
            "predicted=0.000011, expected=0.000027\n",
            "predicted=0.000012, expected=0.000019\n",
            "predicted=0.000016, expected=0.000021\n",
            "predicted=0.000012, expected=0.000020\n",
            "predicted=0.000000, expected=0.000009\n",
            "predicted=0.000003, expected=0.000009\n",
            "predicted=0.000016, expected=0.000024\n",
            "predicted=0.000018, expected=0.000025\n",
            "predicted=0.000012, expected=0.000018\n",
            "predicted=0.000014, expected=0.000018\n",
            "predicted=0.000013, expected=0.000018\n",
            "predicted=0.000005, expected=0.000009\n",
            "predicted=0.000007, expected=0.000006\n",
            "predicted=0.000016, expected=0.000021\n",
            "predicted=0.000027, expected=0.000019\n",
            "predicted=0.000012, expected=0.000013\n",
            "predicted=0.000018, expected=0.000015\n",
            "predicted=0.000012, expected=0.000012\n",
            "predicted=0.000004, expected=0.000006\n",
            "predicted=0.000009, expected=0.000005\n",
            "predicted=0.000016, expected=0.000015\n",
            "predicted=0.000017, expected=0.000015\n",
            "predicted=0.000012, expected=0.000010\n",
            "predicted=0.000014, expected=0.000011\n",
            "predicted=0.000013, expected=0.000009\n",
            "predicted=0.000006, expected=0.000004\n",
            "predicted=0.000009, expected=0.000003\n",
            "predicted=0.000014, expected=0.000012\n",
            "predicted=0.000015, expected=0.000011\n",
            "predicted=0.000011, expected=0.000007\n",
            "predicted=0.000013, expected=0.000008\n",
            "predicted=0.000011, expected=0.000007\n",
            "predicted=0.000006, expected=0.000003\n",
            "predicted=0.000009, expected=0.000003\n",
            "predicted=0.000013, expected=0.000008\n",
            "predicted=0.000013, expected=0.000007\n",
            "predicted=0.000009, expected=0.000005\n",
            "predicted=0.000011, expected=0.000005\n",
            "predicted=0.000010, expected=0.000004\n",
            "predicted=0.000007, expected=0.000002\n",
            "predicted=0.000008, expected=0.000002\n",
            "predicted=0.000010, expected=0.000005\n",
            "predicted=0.000010, expected=0.000007\n",
            "predicted=0.000007, expected=0.000004\n",
            "predicted=0.000002, expected=0.000003\n",
            "predicted=0.000005, expected=0.000002\n",
            "predicted=0.000005, expected=0.000001\n",
            "predicted=0.000006, expected=0.000001\n",
            "predicted=0.000009, expected=0.000003\n",
            "predicted=0.000009, expected=0.000003\n",
            "predicted=0.000006, expected=0.000003\n",
            "predicted=0.000003, expected=0.000003\n",
            "predicted=0.000002, expected=0.000002\n",
            "predicted=0.000006, expected=0.000001\n",
            "predicted=0.000002, expected=0.000001\n",
            "predicted=0.000002, expected=0.000002\n",
            "predicted=0.000006, expected=0.000002\n",
            "predicted=0.000007, expected=0.000001\n",
            "predicted=0.000002, expected=0.000001\n",
            "predicted=0.000001, expected=0.000001\n",
            "predicted=0.000001, expected=0.000001\n",
            "predicted=0.000005, expected=0.000000\n",
            "predicted=0.000001, expected=0.000002\n",
            "predicted=0.000002, expected=0.000001\n",
            "predicted=0.000001, expected=0.000001\n",
            "predicted=0.000001, expected=0.000001\n",
            "predicted=0.000001, expected=0.000001\n",
            "predicted=0.000000, expected=0.000000\n",
            "predicted=0.000001, expected=0.000000\n",
            "predicted=0.000004, expected=0.000001\n",
            "predicted=0.000004, expected=0.000001\n",
            "predicted=0.000001, expected=0.000001\n",
            "predicted=0.000003, expected=0.000001\n",
            "predicted=0.000003, expected=0.000000\n",
            "predicted=0.000003, expected=0.000000\n",
            "predicted=0.000003, expected=0.000000\n",
            "predicted=0.000003, expected=0.000000\n",
            "predicted=0.000003, expected=0.000001\n",
            "predicted=0.000003, expected=0.000001\n",
            "predicted=0.000003, expected=0.000001\n",
            "predicted=0.000002, expected=0.000001\n",
            "predicted=0.000002, expected=0.000000\n",
            "predicted=0.000000, expected=0.000000\n",
            "predicted=0.000000, expected=0.000000\n",
            "predicted=0.000000, expected=0.000001\n",
            "predicted=0.000001, expected=0.000000\n",
            "predicted=0.000000, expected=0.000001\n",
            "predicted=0.000000, expected=0.000001\n",
            "predicted=0.000000, expected=0.000000\n",
            "predicted=0.000000, expected=0.000000\n",
            "predicted=0.000000, expected=0.000000\n",
            "predicted=0.000001, expected=0.000000\n",
            "predicted=0.000001, expected=0.000000\n",
            "predicted=0.000002, expected=0.000001\n",
            "predicted=0.000002, expected=0.000000\n",
            "predicted=0.000001, expected=0.000000\n",
            "predicted=0.000000, expected=0.000000\n",
            "predicted=0.000000, expected=0.000000\n",
            "predicted=0.000000, expected=0.000000\n",
            "predicted=0.000000, expected=0.000000\n",
            "predicted=0.000001, expected=0.000000\n",
            "predicted=0.000001, expected=0.000000\n",
            "predicted=0.000001, expected=0.000000\n",
            "predicted=0.000001, expected=0.000000\n",
            "predicted=0.000001, expected=0.000000\n",
            "predicted=0.000001, expected=0.000000\n",
            "predicted=0.000001, expected=0.000000\n",
            "predicted=0.000001, expected=0.000000\n",
            "predicted=0.000001, expected=0.000000\n",
            "predicted=0.000001, expected=0.000000\n",
            "predicted=0.000001, expected=0.000000\n",
            "predicted=0.000001, expected=0.000000\n",
            "predicted=0.000001, expected=0.000000\n",
            "predicted=0.000001, expected=0.000000\n",
            "predicted=0.000001, expected=0.000000\n",
            "predicted=0.000001, expected=0.000000\n",
            "predicted=0.000001, expected=0.000000\n",
            "predicted=0.000001, expected=0.000000\n",
            "predicted=0.000001, expected=0.000000\n",
            "predicted=0.000000, expected=0.000000\n",
            "predicted=0.000001, expected=0.000000\n",
            "predicted=0.000001, expected=0.000000\n",
            "predicted=0.000001, expected=0.000000\n",
            "predicted=0.000000, expected=0.000000\n",
            "predicted=0.000000, expected=0.000000\n",
            "predicted=0.000000, expected=0.000000\n",
            "predicted=0.000001, expected=0.000000\n",
            "predicted=0.000000, expected=0.000000\n",
            "predicted=0.000000, expected=0.000000\n",
            "predicted=0.000000, expected=0.000000\n",
            "predicted=0.000000, expected=0.000000\n",
            "predicted=0.000000, expected=0.000000\n",
            "predicted=0.000000, expected=0.000000\n",
            "predicted=0.000000, expected=0.000000\n",
            "predicted=0.000000, expected=0.000000\n",
            "predicted=0.000000, expected=0.000000\n",
            "predicted=0.000000, expected=0.000000\n",
            "predicted=0.000000, expected=0.000000\n",
            "predicted=0.000000, expected=0.000000\n",
            "predicted=0.000000, expected=0.000000\n",
            "predicted=0.000000, expected=0.000000\n",
            "predicted=0.000000, expected=0.000000\n",
            "predicted=0.000000, expected=0.000000\n",
            "predicted=0.000000, expected=0.000000\n",
            "predicted=0.000000, expected=0.000000\n",
            "predicted=0.000000, expected=0.000000\n",
            "predicted=0.000000, expected=0.000000\n",
            "predicted=0.000000, expected=0.000000\n",
            "predicted=0.000000, expected=0.000000\n",
            "predicted=0.000000, expected=0.000000\n",
            "predicted=0.000000, expected=0.000000\n",
            "predicted=0.000000, expected=0.000000\n",
            "predicted=0.000000, expected=0.000000\n",
            "predicted=0.000000, expected=0.000000\n",
            "predicted=0.000000, expected=0.000000\n",
            "predicted=0.000000, expected=0.000000\n",
            "predicted=0.000000, expected=0.000000\n",
            "predicted=0.000000, expected=0.000000\n",
            "predicted=0.000000, expected=0.000000\n",
            "predicted=0.000000, expected=0.000000\n",
            "predicted=0.000000, expected=0.000000\n",
            "predicted=0.000000, expected=0.000000\n",
            "predicted=0.000000, expected=0.000000\n",
            "predicted=0.000000, expected=0.000000\n",
            "predicted=0.000000, expected=0.000000\n",
            "predicted=0.000000, expected=0.000000\n",
            "predicted=0.000000, expected=0.000000\n",
            "predicted=0.000000, expected=0.000001\n",
            "predicted=0.000000, expected=0.000000\n",
            "predicted=0.000000, expected=0.000001\n",
            "predicted=0.000000, expected=0.000000\n",
            "predicted=0.000000, expected=0.000001\n",
            "predicted=0.000000, expected=0.000000\n"
          ]
        }
      ]
    },
    {
      "cell_type": "code",
      "metadata": {
        "id": "I5CmTiutmbg3"
      },
      "source": [
        "mse = mean_squared_error(test, predictions) "
      ],
      "execution_count": 129,
      "outputs": []
    },
    {
      "cell_type": "code",
      "metadata": {
        "colab": {
          "base_uri": "https://localhost:8080/"
        },
        "id": "IKhx8cemncRT",
        "outputId": "e6d85ae7-ef2c-4d54-afc4-72fceb6dee43"
      },
      "source": [
        "mse"
      ],
      "execution_count": 130,
      "outputs": [
        {
          "output_type": "execute_result",
          "data": {
            "text/plain": [
              "1.5959716619419723e-11"
            ]
          },
          "metadata": {},
          "execution_count": 130
        }
      ]
    },
    {
      "cell_type": "code",
      "metadata": {
        "colab": {
          "base_uri": "https://localhost:8080/",
          "height": 294
        },
        "id": "y9d4XUzsm21o",
        "outputId": "a3375eef-1194-4dc4-ba88-1c1283dc7fbb"
      },
      "source": [
        "plt.plot(test)\n",
        "plt.plot(predictions, color = 'red')\n",
        "plt.show()"
      ],
      "execution_count": 131,
      "outputs": [
        {
          "output_type": "display_data",
          "data": {
            "image/png": "[encoded data removed]",
            "text/plain": [
              "<Figure size 432x288 with 1 Axes>"
            ]
          },
          "metadata": {}
        }
      ]
    }
  ]
}